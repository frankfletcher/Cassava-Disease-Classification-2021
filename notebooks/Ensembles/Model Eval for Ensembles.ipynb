{
 "cells": [
  {
   "cell_type": "markdown",
   "id": "verified-miracle",
   "metadata": {},
   "source": [
    "# Model Evaluation for NN Ensembles\n",
    "\n",
    "Purpose: to automate the evaluation of models to check their suitability for use in an ensemble\n",
    "\n",
    "The main insight here is that we want to pick *Specialist* models who score highly (total correct aka True Positives) and high precision for the specific category they specialize in.  We care that a) we have a high number of correct predictions and b) of all our predictions, the highest number of them are correct.  In order to evaluate we create a simple index,\n",
    "\n",
    "$$\n",
    "I = Precision  *  TP = \\frac{(TP)^2}{TP+FP}\n",
    "$$\n",
    "\n"
   ]
  },
  {
   "cell_type": "code",
   "execution_count": null,
   "id": "figured-absorption",
   "metadata": {},
   "outputs": [],
   "source": [
    "RUN_NAMES = []  # list of run names (of models) to load\n",
    "EPS2EVAL = []  # list of int tuples forming the low and high epoch numbers to range thru\n",
    "\n",
    "\n",
    "class model_score():\n",
    "'''Simple structure to keep score data for each model/epoch'''    \n",
    "    init (run_name, epoch_num, clsf_rpt):\n",
    "        self.run_name = run_name\n",
    "        self.epoch_num = epoch_num\n",
    "        self.clsf_rpt = clsf_rpt\n",
    "\n",
    "        \n"
   ]
  },
  {
   "cell_type": "code",
   "execution_count": null,
   "id": "funny-smell",
   "metadata": {
    "tags": []
   },
   "outputs": [],
   "source": [
    "# get the label from any image path  @TODO sloooooowwwwww......\n",
    "\n",
    "def get_label(o):\n",
    "    fname = o.name\n",
    "    if fname in df.image_id.values:\n",
    "        return df[df.image_id == fname].label.values[0]\n",
    "    if fname in ensemble_train_df.image_id.values:\n",
    "        return ensemble_train_df[ensemble_train_df.image_id == fname].label.values[0]\n"
   ]
  },
  {
   "cell_type": "code",
   "execution_count": null,
   "id": "annoying-product",
   "metadata": {
    "tags": []
   },
   "outputs": [],
   "source": [
    "import sys\n",
    "sys.path.append('../utils')\n",
    "\n",
    "from fastbook import *\n",
    "from fastai.vision.all import *\n",
    "from fastai.vision.widgets import *\n",
    "import matplotlib.pyplot as plt\n",
    "import matplotlib.ticker as ticker\n",
    "from string import ascii_uppercase\n",
    "import numpy as np\n",
    "import operator\n",
    "import glob\n",
    "\n",
    "import torch\n",
    "from torch import nn as nn\n",
    "from torch.nn import functional as F\n",
    "\n",
    "import gc\n",
    "# from cassava_utils_eff import *\n",
    "from nn_utils_eff import *\n",
    "# from pip_augs import *\n",
    "from augmentation import *\n",
    "\n",
    "%matplotlib inline\n",
    "# %matplotlib widget\n",
    "\n",
    "plt.rcParams['figure.figsize'] = [9, 5]\n",
    "plt.rcParams['figure.dpi'] = 120\n",
    "plt.style.use('dark_background')\n",
    "\n",
    "import warnings\n",
    "warnings.filterwarnings('ignore')  # or 'once'  \n",
    "\n",
    "\n",
    "data_path = Path('../data')\n"
   ]
  },
  {
   "cell_type": "code",
   "execution_count": null,
   "id": "average-tragedy",
   "metadata": {
    "tags": []
   },
   "outputs": [],
   "source": [
    "import pyforest\n",
    "\n",
    "from sklearn.metrics import accuracy_score, classification_report\n",
    "from sklearn.metrics import confusion_matrix, plot_confusion_matrix, ConfusionMatrixDisplay\n",
    "\n",
    "RUN_NAME = '20210329-1845 - arch=tf_efficientnet_b4_ns - samples=-1 frozen=1 epochs=50 bs=48 res=380'\n",
    "\n",
    "\n",
    "learn = load_learner(f'../models/{RUN_NAME}.pkl', cpu=False)\n",
    "#test_learn = learn\n",
    "c = remove_cbs(learn)\n",
    "learn.remove_cbs([ModelToHalf, NonNativeMixedPrecision])\n",
    "with open(f'models/DLS/{RUN_NAME}-DLS.pkl', 'rb') as f:\n",
    "    dls = pickle.load(f)\n",
    "dls = dls.cuda()\n",
    "\n",
    "for num in range(50):\n",
    "    load_model(f'models/{RUN_NAME}_{num}.pth', learn, opt=ranger, with_opt=False)\n",
    "    learn.dls = dls\n",
    "\n",
    "    preds, targs = learn.tta(ds_idx=2, n=4)\n",
    "#     matrix = confusion_matrix(targs, preds.argmax(dim=-1))\n",
    "\n",
    "    print(f'\\n\\nEPOCH #{num} - {RUN_NAME}\\n')\n",
    "    matrix_plot = ConfusionMatrixDisplay(matrix, display_labels=classes)\n",
    "    matrix_plot.plot(cmap='Blues')\n",
    "\n",
    "\n",
    "    plt.show()\n",
    "    print(classification_report(targs, preds.argmax(dim=-1),target_names=classes))\n",
    "\n",
    "    print('------------')"
   ]
  }
 ],
 "metadata": {
  "kernelspec": {
   "display_name": "Python 3",
   "language": "python",
   "name": "python3"
  },
  "language_info": {
   "codemirror_mode": {
    "name": "ipython",
    "version": 3
   },
   "file_extension": ".py",
   "mimetype": "text/x-python",
   "name": "python",
   "nbconvert_exporter": "python",
   "pygments_lexer": "ipython3",
   "version": "3.8.6"
  },
  "widgets": {
   "application/vnd.jupyter.widget-state+json": {
    "state": {},
    "version_major": 2,
    "version_minor": 0
   }
  }
 },
 "nbformat": 4,
 "nbformat_minor": 5
}
