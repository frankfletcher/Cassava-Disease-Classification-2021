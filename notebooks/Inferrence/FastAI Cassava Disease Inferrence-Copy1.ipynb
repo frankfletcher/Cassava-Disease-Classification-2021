{
 "cells": [
  {
   "cell_type": "code",
   "execution_count": 59,
   "id": "public-subsection",
   "metadata": {
    "execution": {
     "iopub.execute_input": "2021-02-25T08:08:42.892805Z",
     "iopub.status.busy": "2021-02-25T08:08:42.892589Z",
     "iopub.status.idle": "2021-02-25T08:08:42.896381Z",
     "shell.execute_reply": "2021-02-25T08:08:42.895897Z",
     "shell.execute_reply.started": "2021-02-25T08:08:42.892783Z"
    }
   },
   "outputs": [],
   "source": [
    "import sys\n",
    "sys.path.append('../utils')\n",
    "\n",
    "from fastai.vision.all import *\n",
    "from fastai.vision.widgets import *\n",
    "import fastai\n",
    "from sklearn.metrics import classification_report\n",
    "from sklearn.metrics import accuracy_score\n",
    "from augmentation import *\n"
   ]
  },
  {
   "cell_type": "code",
   "execution_count": 77,
   "id": "environmental-return",
   "metadata": {
    "execution": {
     "iopub.execute_input": "2021-02-25T09:04:51.199610Z",
     "iopub.status.busy": "2021-02-25T09:04:51.199359Z",
     "iopub.status.idle": "2021-02-25T09:04:51.202547Z",
     "shell.execute_reply": "2021-02-25T09:04:51.201895Z",
     "shell.execute_reply.started": "2021-02-25T09:04:51.199589Z"
    }
   },
   "outputs": [],
   "source": [
    "import warnings\n",
    "warnings.filterwarnings('ignore')  # or 'once'  "
   ]
  },
  {
   "cell_type": "code",
   "execution_count": 60,
   "id": "still-guard",
   "metadata": {
    "execution": {
     "iopub.execute_input": "2021-02-25T08:08:42.897400Z",
     "iopub.status.busy": "2021-02-25T08:08:42.897200Z",
     "iopub.status.idle": "2021-02-25T08:08:42.903068Z",
     "shell.execute_reply": "2021-02-25T08:08:42.902772Z",
     "shell.execute_reply.started": "2021-02-25T08:08:42.897381Z"
    }
   },
   "outputs": [],
   "source": [
    "# RUN_NAME_OF_MODEL_TO_LOAD = '20210210-1221 - arch=tf_efficientnet_b4_ns - samples=1800 frozen=1 epochs=40 bs=8 res=480'  # BEST 87%\n",
    "# EPOCH_TO_LOAD=2\n",
    "\n",
    "# RUN_NAME_OF_MODEL_TO_LOAD = '20210209-0234 - arch=tf_efficientnet_b4_ns - samples=1800 frozen=1 epochs=40 bs=7 res=456'  # 83%\n",
    "# RUN_NAME_OF_MODEL_TO_LOAD = '20210214-1340 - arch=<function xse_resnext34 at 0x7fed41524d30> - samples=1800 frozen=1 epochs=60 bs=14 res=420'\n",
    "# EPOCH_TO_LOAD=15\n",
    "\n",
    "#f'20210209-0234 - arch=tf_efficientnet_b4_ns - samples=1800 frozen=1 epochs=40 bs=7 res=456'\n",
    "# EPOCH_TO_LOAD = 2\n",
    "\n",
    "# EPOCH_TO_LOAD = 8\n",
    "# RUN_NAME_OF_MODEL_TO_LOAD = '20210215-0355 - arch=<function xse_resnext34 at 0x7f6ed4c51d30> - samples=1800 frozen=1 epochs=60 bs=32 res=250'\n",
    "\n",
    "\n",
    "\n",
    "\n",
    "RESOLUTION=300\n",
    "BATCH_SIZE = 32\n",
    "SAMPLE_SIZE = 2000\n",
    "\n",
    "path = '../../data'\n",
    "sub = 'train_images'  # 'test_images'\n",
    "# dataset_path = Path(path)"
   ]
  },
  {
   "cell_type": "raw",
   "id": "ceramic-italy",
   "metadata": {
    "execution": {
     "iopub.execute_input": "2021-02-18T07:27:11.848236Z",
     "iopub.status.busy": "2021-02-18T07:27:11.848071Z",
     "iopub.status.idle": "2021-02-18T07:27:11.855873Z",
     "shell.execute_reply": "2021-02-18T07:27:11.855466Z",
     "shell.execute_reply.started": "2021-02-18T07:27:11.848220Z"
    },
    "jupyter": {
     "source_hidden": true
    },
    "tags": []
   },
   "source": [
    "from timm import create_model\n",
    "from fastai.vision.learner import _update_first_layer\n",
    "\n",
    "def create_timm_body(arch:str, pretrained=True, cut=None, n_in=3):\n",
    "    \"Creates a body from any model in the `timm` library.\"\n",
    "    model = create_model(arch, pretrained=pretrained, num_classes=0, global_pool='')\n",
    "    _update_first_layer(model, n_in, pretrained)\n",
    "    if cut is None:\n",
    "        ll = list(enumerate(model.children()))\n",
    "        cut = next(i for i,o in reversed(ll) if has_pool_type(o))\n",
    "    if isinstance(cut, int): return nn.Sequential(*list(model.children())[:cut])\n",
    "    elif callable(cut): return cut(model)\n",
    "    else: raise NamedError(\"cut must be either integer or function\")\n",
    "        \n",
    "def create_timm_model(arch:str, n_out, cut=None, pretrained=True, n_in=3, init=nn.init.kaiming_normal_, custom_head=None,\n",
    "                     concat_pool=False, **kwargs):\n",
    "    \"Create custom architecture using `arch`, `n_in` and `n_out` from the `timm` library\"\n",
    "    body = create_timm_body(arch, pretrained, None, n_in)\n",
    "    if custom_head is None:\n",
    "        nf = num_features_model(nn.Sequential(*body.children())) * (2 if concat_pool else 1)\n",
    "        head = create_head(nf, n_out, concat_pool=concat_pool, **kwargs)\n",
    "    else: head = custom_head\n",
    "    model = nn.Sequential(body, head)\n",
    "    if init is not None: apply_init(model[1], init)\n",
    "    return model\n",
    "\n",
    "\n",
    "def timm_learner(dls, arch:str, loss_func=None, pretrained=True, cut=None, splitter=None,\n",
    "                y_range=None, config=None, n_out=None, normalize=True, **kwargs):\n",
    "    \"Build a convnet style learner from `dls` and `arch` using the `timm` library\"\n",
    "    if config is None: config = {}\n",
    "    if n_out is None: n_out = get_c(dls)\n",
    "    assert n_out, \"`n_out` is not defined, and could not be inferred from data, set `dls.c` or pass `n_out`\"\n",
    "    if y_range is None and 'y_range' in config: y_range = config.pop('y_range')\n",
    "    model = create_timm_model(arch, n_out, default_split, pretrained, y_range=y_range, **config)\n",
    "    learn = Learner(dls, model, loss_func=loss_func, splitter=default_split, **kwargs)\n",
    "    if pretrained: learn.freeze()\n",
    "    return learn"
   ]
  },
  {
   "cell_type": "raw",
   "id": "worse-admission",
   "metadata": {
    "execution": {
     "iopub.execute_input": "2021-02-18T07:27:11.856588Z",
     "iopub.status.busy": "2021-02-18T07:27:11.856435Z",
     "iopub.status.idle": "2021-02-18T07:27:11.860006Z",
     "shell.execute_reply": "2021-02-18T07:27:11.859657Z",
     "shell.execute_reply.started": "2021-02-18T07:27:11.856572Z"
    },
    "jupyter": {
     "source_hidden": true
    },
    "tags": []
   },
   "source": [
    "class MishAutoFn(torch.autograd.Function):\n",
    "    \"\"\"Mish: A Self Regularized Non-Monotonic Neural Activation Function - https://arxiv.org/abs/1908.08681\n",
    "    Experimental memory-efficient variant\n",
    "    \"\"\"\n",
    "\n",
    "    @staticmethod\n",
    "    def forward(ctx, x):\n",
    "        ctx.save_for_backward(x)\n",
    "        y = x.mul(torch.tanh(F.softplus(x)))  # x * tanh(ln(1 + exp(x)))\n",
    "       return y\n",
    "\n",
    "    @staticmethod\n",
    "    def backward(ctx, grad_output):\n",
    "        x = ctx.saved_tensors[0]\n",
    "        x_sigmoid = torch.sigmoid(x)\n",
    "        x_tanh_sp = F.softplus(x).tanh()\n",
    "        return grad_output.mul(x_tanh_sp + x * x_sigmoid * (1 - x_tanh_sp * x_tanh_sp))\n",
    "\n",
    "\n",
    "def mish_auto(x, inplace=False):\n",
    "    # inplace ignored\n",
    "    return MishAutoFn.apply(x)\n",
    "\n",
    "\n",
    "class MishAuto(nn.Module):\n",
    "    def __init__(self, inplace: bool = True):\n",
    "        super(MishAuto, self).__init__()\n",
    "        self.inplace = inplace\n",
    "\n",
    "    def forward(self, x):\n",
    "        return MishAutoFn.apply(x)"
   ]
  },
  {
   "cell_type": "raw",
   "id": "persistent-january",
   "metadata": {
    "execution": {
     "iopub.execute_input": "2021-02-18T07:27:11.860501Z",
     "iopub.status.busy": "2021-02-18T07:27:11.860403Z",
     "iopub.status.idle": "2021-02-18T07:27:11.864729Z",
     "shell.execute_reply": "2021-02-18T07:27:11.864459Z",
     "shell.execute_reply.started": "2021-02-18T07:27:11.860491Z"
    },
    "jupyter": {
     "source_hidden": true
    },
    "tags": []
   },
   "source": [
    "import albumentations\n",
    "\n",
    "class AlbumentationsTransform(RandTransform):\n",
    "    \"A transform handler for multiple `Albumentation` transforms\"\n",
    "    split_idx,order=None,2\n",
    "    def __init__(self, train_aug, valid_aug): store_attr()\n",
    "    \n",
    "    def before_call(self, b, split_idx):\n",
    "        self.idx = split_idx\n",
    "    \n",
    "    def encodes(self, img: PILImage):\n",
    "        if self.idx == 0:\n",
    "            aug_img = self.train_aug(image=np.array(img))['image']\n",
    "        else:\n",
    "            aug_img = self.valid_aug(image=np.array(img))['image']\n",
    "        return PILImage.create(aug_img)\n",
    "    \n",
    "    \n",
    "def get_train_aug(): return albumentations.Compose([\n",
    "            albumentations.RandomResizedCrop(256,256),\n",
    "            albumentations.Transpose(p=0.5),\n",
    "            albumentations.HorizontalFlip(p=0.5),\n",
    "            albumentations.VerticalFlip(p=0.5),\n",
    "            albumentations.ShiftScaleRotate(p=0.5),\n",
    "            albumentations.HueSaturationValue(\n",
    "                hue_shift_limit=0.2, \n",
    "                sat_shift_limit=0.2, \n",
    "                val_shift_limit=0.2, \n",
    "                p=0.5\n",
    "            ),\n",
    "            albumentations.RandomBrightnessContrast(\n",
    "                brightness_limit=(-0.1,0.1), \n",
    "                contrast_limit=(-0.1, 0.1), \n",
    "                p=0.5\n",
    "            ),\n",
    "            albumentations.CoarseDropout(p=0.5),\n",
    "            albumentations.Cutout(p=0.5)\n",
    "])\n",
    "\n",
    "\n",
    "\n",
    "def get_valid_aug(): return albumentations.Compose([\n",
    "    albumentations.CenterCrop(256,256, p=1.),\n",
    "    albumentations.Resize(256,256)\n",
    "], p=1.)\n"
   ]
  },
  {
   "cell_type": "code",
   "execution_count": 101,
   "id": "veterinary-scheduling",
   "metadata": {
    "execution": {
     "iopub.execute_input": "2021-02-25T09:18:09.989610Z",
     "iopub.status.busy": "2021-02-25T09:18:09.989457Z",
     "iopub.status.idle": "2021-02-25T09:18:09.996217Z",
     "shell.execute_reply": "2021-02-25T09:18:09.995665Z",
     "shell.execute_reply.started": "2021-02-25T09:18:09.989596Z"
    },
    "tags": []
   },
   "outputs": [],
   "source": [
    "# sample_df = pd.read_csv(f'{path}/sample_submission.csv')\n",
    "# sample_df = pd.read_csv(f'{path}/all_test_files.csv')\n",
    "sample_df = pd.read_csv('../DenseNet/input_persist/20210223-0550 - arch=densenetblur121d - samples=-1 frozen=1 epochs=5 bs=32 res=300_ensemble_train_df.csv', index_col=0)"
   ]
  },
  {
   "cell_type": "code",
   "execution_count": 102,
   "id": "sudden-happiness",
   "metadata": {
    "execution": {
     "iopub.execute_input": "2021-02-25T09:18:10.702955Z",
     "iopub.status.busy": "2021-02-25T09:18:10.702703Z",
     "iopub.status.idle": "2021-02-25T09:18:10.705209Z",
     "shell.execute_reply": "2021-02-25T09:18:10.704709Z",
     "shell.execute_reply.started": "2021-02-25T09:18:10.702933Z"
    },
    "tags": []
   },
   "outputs": [],
   "source": [
    "## sample_df['image_id'] =  f'{path}/' + sample_df['image_id'].astype(str)\n",
    "# cols = sample_df.columns.tolist()\n",
    "# cols = cols[::-1]  # reverse the columns\n",
    "# sample_df = sample_df[cols]\n",
    "##sample_df[0]"
   ]
  },
  {
   "cell_type": "code",
   "execution_count": 103,
   "id": "broad-intensity",
   "metadata": {
    "execution": {
     "iopub.execute_input": "2021-02-25T09:18:11.073128Z",
     "iopub.status.busy": "2021-02-25T09:18:11.072873Z",
     "iopub.status.idle": "2021-02-25T09:18:11.080493Z",
     "shell.execute_reply": "2021-02-25T09:18:11.080022Z",
     "shell.execute_reply.started": "2021-02-25T09:18:11.073107Z"
    },
    "tags": []
   },
   "outputs": [],
   "source": [
    "s = sample_df.image_id.str.split('/')\n",
    "s = pd.Series([line[-1] for line in s], name='image_id')\n",
    "sample_df.loc[:, 'image_id'] = s"
   ]
  },
  {
   "cell_type": "code",
   "execution_count": 104,
   "id": "competitive-effect",
   "metadata": {
    "execution": {
     "iopub.execute_input": "2021-02-25T09:18:12.395001Z",
     "iopub.status.busy": "2021-02-25T09:18:12.394731Z",
     "iopub.status.idle": "2021-02-25T09:18:12.403816Z",
     "shell.execute_reply": "2021-02-25T09:18:12.403247Z",
     "shell.execute_reply.started": "2021-02-25T09:18:12.394974Z"
    },
    "tags": []
   },
   "outputs": [
    {
     "data": {
      "text/html": [
       "<div>\n",
       "<style scoped>\n",
       "    .dataframe tbody tr th:only-of-type {\n",
       "        vertical-align: middle;\n",
       "    }\n",
       "\n",
       "    .dataframe tbody tr th {\n",
       "        vertical-align: top;\n",
       "    }\n",
       "\n",
       "    .dataframe thead th {\n",
       "        text-align: right;\n",
       "    }\n",
       "</style>\n",
       "<table border=\"1\" class=\"dataframe\">\n",
       "  <thead>\n",
       "    <tr style=\"text-align: right;\">\n",
       "      <th></th>\n",
       "      <th>image_id</th>\n",
       "      <th>label</th>\n",
       "    </tr>\n",
       "  </thead>\n",
       "  <tbody>\n",
       "    <tr>\n",
       "      <th>0</th>\n",
       "      <td>1745816126.jpg</td>\n",
       "      <td>4</td>\n",
       "    </tr>\n",
       "    <tr>\n",
       "      <th>1</th>\n",
       "      <td>3307346645.jpg</td>\n",
       "      <td>1</td>\n",
       "    </tr>\n",
       "    <tr>\n",
       "      <th>2</th>\n",
       "      <td>train-cbsd-1025.jpg</td>\n",
       "      <td>1</td>\n",
       "    </tr>\n",
       "    <tr>\n",
       "      <th>3</th>\n",
       "      <td>train-cmd-1233.jpg</td>\n",
       "      <td>3</td>\n",
       "    </tr>\n",
       "    <tr>\n",
       "      <th>4</th>\n",
       "      <td>3940020212.jpg</td>\n",
       "      <td>3</td>\n",
       "    </tr>\n",
       "    <tr>\n",
       "      <th>...</th>\n",
       "      <td>...</td>\n",
       "      <td>...</td>\n",
       "    </tr>\n",
       "    <tr>\n",
       "      <th>3995</th>\n",
       "      <td>2257519479.jpg</td>\n",
       "      <td>3</td>\n",
       "    </tr>\n",
       "    <tr>\n",
       "      <th>3996</th>\n",
       "      <td>2889971119.jpg</td>\n",
       "      <td>3</td>\n",
       "    </tr>\n",
       "    <tr>\n",
       "      <th>3997</th>\n",
       "      <td>1274100886.jpg</td>\n",
       "      <td>3</td>\n",
       "    </tr>\n",
       "    <tr>\n",
       "      <th>3998</th>\n",
       "      <td>1555851966.jpg</td>\n",
       "      <td>2</td>\n",
       "    </tr>\n",
       "    <tr>\n",
       "      <th>3999</th>\n",
       "      <td>2460780852.jpg</td>\n",
       "      <td>3</td>\n",
       "    </tr>\n",
       "  </tbody>\n",
       "</table>\n",
       "<p>4000 rows × 2 columns</p>\n",
       "</div>"
      ],
      "text/plain": [
       "                 image_id  label\n",
       "0          1745816126.jpg      4\n",
       "1          3307346645.jpg      1\n",
       "2     train-cbsd-1025.jpg      1\n",
       "3      train-cmd-1233.jpg      3\n",
       "4          3940020212.jpg      3\n",
       "...                   ...    ...\n",
       "3995       2257519479.jpg      3\n",
       "3996       2889971119.jpg      3\n",
       "3997       1274100886.jpg      3\n",
       "3998       1555851966.jpg      2\n",
       "3999       2460780852.jpg      3\n",
       "\n",
       "[4000 rows x 2 columns]"
      ]
     },
     "execution_count": 104,
     "metadata": {},
     "output_type": "execute_result"
    }
   ],
   "source": [
    "sample_df"
   ]
  },
  {
   "cell_type": "raw",
   "id": "rapid-florence",
   "metadata": {
    "execution": {
     "iopub.execute_input": "2021-02-10T10:43:52.972222Z",
     "iopub.status.busy": "2021-02-10T10:43:52.971923Z",
     "iopub.status.idle": "2021-02-10T10:43:53.020481Z",
     "shell.execute_reply": "2021-02-10T10:43:53.020073Z",
     "shell.execute_reply.started": "2021-02-10T10:43:52.972192Z"
    },
    "jupyter": {
     "source_hidden": true
    },
    "tags": []
   },
   "source": [
    "\n",
    "\n",
    "def get_fnames(path):\n",
    "\n",
    "    retlist = list(sample_df['image_id'])\n",
    "            \n",
    "    return random.sample(retlist, len(retlist))\n",
    "\n",
    "aug_tfms =  aug_transforms(size=round(RESOLUTION * 1), pad_mode='zeros', do_flip=True, batch=False, \n",
    "                               p_affine=0.4, max_rotate=20, max_warp=0, min_zoom=1.0, max_zoom=1.0, \n",
    "                               mult=3.8,  p_lighting=0., max_lighting=0.1)\n",
    "\n",
    "sat = Saturation(p=0.7, max_lighting=0.15)\n",
    "\n",
    "# batch_tfms = [ Normalize.from_stats(*imagenet_stats), sat]\n",
    "batch_tfms = [ *aug_tfms, sat, Normalize.from_stats(*imagenet_stats) ]\n",
    "\n",
    "\n",
    "\n",
    "\n",
    "# item_tfms=RandomResizedCrop(RESOLUTION)\n",
    "item_tfms=Resize(RESOLUTION, method='bilinear', pad_mode='zeros')\n",
    "# item_tfms=RatioResize(RESOLUTION)\n",
    "\n",
    "\n",
    "# img_db = DataBlock(\n",
    "#     blocks=(ImageBlock, CategoryBlock), \n",
    "#     get_items=get_fnames, \n",
    "#     splitter=RandomSplitter(valid_pct=0.28, seed=42),\n",
    "#     get_y=parent_label,\n",
    "#     item_tfms=item_tfms , batch_tfms=batch_tfms)\n",
    "\n",
    "# dls = img_db.dataloaders(dataset_path, batch_size=BATCH_SIZE)\n",
    "dls = ImageDataLoaders.from_df(sample_df, folder=f'../data/{sub}', seed=42, label_col = 0, fn_col=1, \n",
    "                               batch_tfms=batch_tfms, bs=BATCH_SIZE, item_tfms=item_tfms)\n",
    "test_dl = dls.test_dl(sample_df)"
   ]
  },
  {
   "cell_type": "code",
   "execution_count": 105,
   "id": "secondary-registrar",
   "metadata": {
    "execution": {
     "iopub.execute_input": "2021-02-25T09:18:16.756941Z",
     "iopub.status.busy": "2021-02-25T09:18:16.756690Z",
     "iopub.status.idle": "2021-02-25T09:18:17.024952Z",
     "shell.execute_reply": "2021-02-25T09:18:17.024592Z",
     "shell.execute_reply.started": "2021-02-25T09:18:16.756919Z"
    },
    "tags": []
   },
   "outputs": [],
   "source": [
    "# aug_tfms =  aug_transforms(size=RESOLUTION, pad_mode='reflection', do_flip=True, batch=False, \n",
    "#                                p_affine=0.7, max_rotate=45, max_warp=0, min_zoom=1.0, max_zoom=2.5, \n",
    "#                                mult=3,  p_lighting=0.5, max_lighting=0.1, min_scale=0.75) #,xtra_tfms=[sha])\n",
    "\n",
    "sat = Saturation(p=0.7, max_lighting=0.2)\n",
    "\n",
    "# batch_tfms = [ Normalize.from_stats(*imagenet_stats), sat]\n",
    "# batch_tfms = [ *aug_tfms, sat, Normalize.from_stats(*imagenet_stats)]#, sha]\n",
    "batch_tfms = [ Normalize.from_stats(*imagenet_stats) ]#, sha]\n",
    "\n",
    "# item_tfms=RandomResizedCrop(RESOLUTION)\n",
    "item_tfms = AlbumentationsTransform(get_train_aug(RESOLUTION), get_valid_aug(RESOLUTION))\n",
    "\n",
    "# item_tfms=Resize(RESOLUTION, method='bilinear', pad_mode='zeros')\n",
    "#     item_tfms=RatioResize(RESOLUTION)\n",
    "\n",
    "dls = ImageDataLoaders.from_df(sample_df, folder=f'../../data/{sub}', seed=42, label_col=1, fn_col=0, \n",
    "                               batch_tfms=batch_tfms, bs=BATCH_SIZE, item_tfms=item_tfms)\n",
    "test_dl = dls.test_dl(sample_df)"
   ]
  },
  {
   "cell_type": "code",
   "execution_count": 65,
   "id": "israeli-might",
   "metadata": {
    "execution": {
     "iopub.execute_input": "2021-02-25T08:08:43.130982Z",
     "iopub.status.busy": "2021-02-25T08:08:43.130876Z",
     "iopub.status.idle": "2021-02-25T08:08:43.133538Z",
     "shell.execute_reply": "2021-02-25T08:08:43.133174Z",
     "shell.execute_reply.started": "2021-02-25T08:08:43.130970Z"
    },
    "tags": []
   },
   "outputs": [
    {
     "data": {
      "text/plain": [
       "<bound method DataLoaders.test_dl of <fastai.data.core.DataLoaders object at 0x7fd45b898370>>"
      ]
     },
     "execution_count": 65,
     "metadata": {},
     "output_type": "execute_result"
    }
   ],
   "source": [
    "dls.test_dl"
   ]
  },
  {
   "cell_type": "raw",
   "id": "introductory-suicide",
   "metadata": {
    "execution": {
     "iopub.execute_input": "2021-02-11T00:06:57.986535Z",
     "iopub.status.busy": "2021-02-11T00:06:57.986277Z",
     "iopub.status.idle": "2021-02-11T00:06:57.995725Z",
     "shell.execute_reply": "2021-02-11T00:06:57.995113Z",
     "shell.execute_reply.started": "2021-02-11T00:06:57.986512Z"
    },
    "jupyter": {
     "source_hidden": true
    },
    "tags": []
   },
   "source": [
    "# General use - if the model was pickled\n",
    "model = load_learner(f'../models/{RUN_NAME_OF_MODEL_TO_LOAD}.pkl', cpu=False)\n",
    "load_model(f'models/{RUN_NAME_OF_MODEL_TO_LOAD}_{EPOCH_TO_LOAD}.pth', model, opt=Adam, with_opt=False)"
   ]
  },
  {
   "cell_type": "raw",
   "id": "contained-scoop",
   "metadata": {
    "execution": {
     "iopub.execute_input": "2021-02-18T07:27:13.226719Z",
     "iopub.status.busy": "2021-02-18T07:27:13.226603Z",
     "iopub.status.idle": "2021-02-18T07:27:13.233999Z",
     "shell.execute_reply": "2021-02-18T07:27:13.233489Z",
     "shell.execute_reply.started": "2021-02-18T07:27:13.226707Z"
    },
    "jupyter": {
     "source_hidden": true
    },
    "tags": []
   },
   "source": [
    "import kornia\n",
    "def convert_MP_to_blurMP(model, layer_type_old):\n",
    "    conversion_count = 0\n",
    "    for name, module in reversed(model._modules.items()):\n",
    "        if len(list(module.children())) > 0:\n",
    "            # recurse\n",
    "            model._modules[name] = convert_MP_to_blurMP(module, layer_type_old)\n",
    "\n",
    "        if type(module) == layer_type_old:\n",
    "            layer_old = module\n",
    "            layer_new = kornia.contrib.MaxBlurPool2d(3, True)\n",
    "            model._modules[name] = layer_new\n",
    "\n",
    "    return model\n",
    "\n",
    "\n",
    "def convert_act_cls(model, layer_type_old, layer_type_new):\n",
    "    conversion_count = 0\n",
    "    for name, module in reversed(model._modules.items()):\n",
    "        if len(list(module.children())) > 0:\n",
    "            # recurse\n",
    "            model._modules[name] = convert_act_cls(module, layer_type_old, layer_type_new)\n",
    "\n",
    "        if type(module) == layer_type_old:\n",
    "            layer_old = module\n",
    "            layer_new = layer_type_new\n",
    "            model._modules[name] = layer_new\n",
    "\n",
    "    return model"
   ]
  },
  {
   "cell_type": "raw",
   "id": "reduced-import",
   "metadata": {
    "execution": {
     "iopub.execute_input": "2021-02-18T07:27:13.235236Z",
     "iopub.status.busy": "2021-02-18T07:27:13.234948Z",
     "iopub.status.idle": "2021-02-18T07:27:13.243909Z",
     "shell.execute_reply": "2021-02-18T07:27:13.243636Z",
     "shell.execute_reply.started": "2021-02-18T07:27:13.235208Z"
    },
    "jupyter": {
     "source_hidden": true
    },
    "tags": []
   },
   "source": [
    "class SwishAutoFn(torch.autograd.Function):\n",
    "    \"\"\"Swish - Described in: https://arxiv.org/abs/1710.05941\n",
    "    Memory efficient variant from:\n",
    "     https://medium.com/the-artificial-impostor/more-memory-efficient-swish-activation-function-e07c22c12a76\n",
    "    \"\"\"\n",
    "    @staticmethod\n",
    "    def forward(ctx, x):\n",
    "        result = x.mul(torch.sigmoid(x))\n",
    "        ctx.save_for_backward(x)\n",
    "        return result\n",
    "\n",
    "    @staticmethod\n",
    "    def backward(ctx, grad_output):\n",
    "        x = ctx.saved_tensors[0]\n",
    "        x_sigmoid = torch.sigmoid(x)\n",
    "        return grad_output.mul(x_sigmoid * (1 + x * (1 - x_sigmoid)))\n",
    "\n",
    "\n",
    "def swish_auto(x, inplace=False):\n",
    "    # inplace ignored\n",
    "    return SwishAutoFn.apply(x)\n",
    "\n",
    "\n",
    "class SwishAuto(nn.Module):\n",
    "    def __init__(self, inplace: bool = True):\n",
    "        super(SwishAuto, self).__init__()\n",
    "        self.inplace = inplace\n",
    "\n",
    "    def forward(self, x):\n",
    "        return SwishAutoFn.apply(x)\n",
    "\n",
    "\n",
    "\n",
    "\n",
    "class MishAutoFn(torch.autograd.Function):\n",
    "    \"\"\"Mish: A Self Regularized Non-Monotonic Neural Activation Function - https://arxiv.org/abs/1908.08681\n",
    "    Experimental memory-efficient variant\n",
    "    \"\"\"\n",
    "\n",
    "    @staticmethod\n",
    "    def forward(ctx, x):\n",
    "        ctx.save_for_backward(x)\n",
    "        y = x.mul(torch.tanh(F.softplus(x)))  # x * tanh(ln(1 + exp(x)))\n",
    "        return y\n",
    "\n",
    "    @staticmethod\n",
    "    def backward(ctx, grad_output):\n",
    "        x = ctx.saved_tensors[0]\n",
    "        x_sigmoid = torch.sigmoid(x)\n",
    "        x_tanh_sp = F.softplus(x).tanh()\n",
    "        return grad_output.mul(x_tanh_sp + x * x_sigmoid * (1 - x_tanh_sp * x_tanh_sp))\n",
    "\n",
    "\n",
    "def mish_auto(x, inplace=False):\n",
    "    # inplace ignored\n",
    "    return MishAutoFn.apply(x)\n",
    "\n",
    "\n",
    "class MishAuto(nn.Module):\n",
    "    def __init__(self, inplace: bool = True):\n",
    "        super(MishAuto, self).__init__()\n",
    "        self.inplace = inplace\n",
    "\n",
    "    def forward(self, x):\n",
    "        return MishAutoFn.apply(x)"
   ]
  },
  {
   "cell_type": "raw",
   "id": "civilian-parent",
   "metadata": {
    "execution": {
     "iopub.execute_input": "2021-02-18T07:27:13.244403Z",
     "iopub.status.busy": "2021-02-18T07:27:13.244302Z",
     "iopub.status.idle": "2021-02-18T07:27:13.248507Z",
     "shell.execute_reply": "2021-02-18T07:27:13.248241Z",
     "shell.execute_reply.started": "2021-02-18T07:27:13.244392Z"
    },
    "jupyter": {
     "source_hidden": true
    },
    "tags": []
   },
   "source": [
    "\n",
    "\n",
    "from torch.utils.checkpoint import checkpoint, checkpoint_sequential\n",
    "\n",
    "class CheckpointModule(Module):\n",
    "    def __init__(self, module, num_segments=1):\n",
    "        assert num_segments == 1 or isinstance(module, nn.Sequential)\n",
    "        self.module = module\n",
    "        self.num_segments = num_segments\n",
    "\n",
    "    def forward(self, *inputs):\n",
    "        if self.num_segments > 1:\n",
    "            return checkpoint_sequential(self.module, self.num_segments, *inputs)\n",
    "        else:\n",
    "            return checkpoint(self.module, *inputs)\n",
    "        \n",
    "        \n",
    "\n",
    "# To extract the sequential layers from resnet\n",
    "def layer_config(arch):\n",
    "    \"Get the layers associated with `arch`.\"\n",
    "    return model_layers.get(arch)\n",
    "\n",
    "\n",
    "model_layers = {\n",
    "    resnet18 :[2, 2, 2, 2], resnet34: [3, 4, 6, 3],\n",
    "    resnet50 :[3, 4, 6, 3], resnet101:[3, 4, 23, 3],\n",
    "    resnet152:[3, 8, 36, 3]}\n",
    "\n",
    "\n",
    "\n",
    "    \n",
    "def convert_seq_chkpt(model, layer_type_old):  #, num_chkpt):\n",
    "#     seg_dict = {2:2, 3:6, 4:5, 5:5, 6:3, 7:3, 8:2, 1:1}\n",
    "    conversion_count = 0\n",
    "    for name, module in reversed(model._modules.items()):\n",
    "        if len(list(module.children())) > 0:\n",
    "            # recurse\n",
    "            model._modules[name] = convert_seq_chkpt(module, layer_type_old) #, num_chkpt+1)\n",
    "\n",
    "        if type(module) == layer_type_old:\n",
    "#             num_chkpt += 1\n",
    "            layer_old = module\n",
    "            if len(layer_old) == 7:\n",
    "                segments = 1\n",
    "            else: segments = len(layer_old)\n",
    "            layer_new = CheckpointModule(layer_old, segments)  # wrap sequential in a checkpoint module\n",
    "            model._modules[name] = layer_new\n",
    "#             print(num_chkpt)  # 2,3,4,5,6,7,8,1\n",
    "#             print(len(layer_old))\n",
    "\n",
    "    return model"
   ]
  },
  {
   "cell_type": "code",
   "execution_count": 66,
   "id": "lesbian-ceramic",
   "metadata": {
    "execution": {
     "iopub.execute_input": "2021-02-25T08:08:43.134016Z",
     "iopub.status.busy": "2021-02-25T08:08:43.133916Z",
     "iopub.status.idle": "2021-02-25T08:08:43.139485Z",
     "shell.execute_reply": "2021-02-25T08:08:43.139201Z",
     "shell.execute_reply.started": "2021-02-25T08:08:43.134006Z"
    }
   },
   "outputs": [],
   "source": [
    "def get_label(o):\n",
    "    fname = o.name\n",
    "    \n",
    "    if name in sample_df.image_id.values:\n",
    "        return sample_df[sample_df.image_id == fname].label.values[0]"
   ]
  },
  {
   "cell_type": "code",
   "execution_count": 67,
   "id": "opponent-shadow",
   "metadata": {
    "execution": {
     "iopub.execute_input": "2021-02-25T08:08:43.140455Z",
     "iopub.status.busy": "2021-02-25T08:08:43.140312Z",
     "iopub.status.idle": "2021-02-25T08:08:43.345578Z",
     "shell.execute_reply": "2021-02-25T08:08:43.345296Z",
     "shell.execute_reply.started": "2021-02-25T08:08:43.140444Z"
    },
    "tags": []
   },
   "outputs": [
    {
     "name": "stderr",
     "output_type": "stream",
     "text": [
      "/home/frank/miniconda3/envs/learn/lib/python3.8/site-packages/fastai/learner.py:55: UserWarning: Could not load the optimizer state.\n",
      "  if with_opt: warn(\"Could not load the optimizer state.\")\n"
     ]
    }
   ],
   "source": [
    "# model = load_learner(f'../models/{RUN_NAME_OF_MODEL_TO_LOAD}.pkl', cpu=False)\n",
    "# import timm\n",
    "# model = timm_learner(dls,\n",
    "#                     'tf_efficientnet_b4_ns',\n",
    "#                      opt_func=ranger,\n",
    "#                      loss_func=LabelSmoothingCrossEntropy(),\n",
    "#           #           cbs=cbs,\n",
    "#                      metrics = [accuracy]).to_fp16()\n",
    "\n",
    "\n",
    "# ARCH = xse_resnext34(pretrained=True, act_cls=MishAuto, sa=True)\n",
    "\n",
    "# model = Learner(dls, ARCH, \n",
    "#                     opt_func=ranger,\n",
    "#                     loss_func=LabelSmoothingCrossEntropyFlat(), \n",
    "#                      metrics=[accuracy])\n",
    "\n",
    "\n",
    "model=load_learner('../DenseNet/models/STAGE1_20210223-0550 - arch=densenetblur121d - samples=-1 frozen=1 epochs=5 bs=32 res=300.pkl', cpu=False)\n",
    "\n",
    "\n",
    "# model = convert_MP_to_blurMP(model, nn.MaxPool2d)  # doesn't exist!\n",
    "# model.model = convert_act_cls(model.model, nn.ReLU, MishAuto())  # very expensive so we only use it on the last layers\n",
    "# model.model = convert_act_cls(model.model, nn.SiLU, SwishAuto())  # replace with a lower memory version\n",
    "# model.model[0] = convert_seq_chkpt(model.model[0], nn.Sequential) #, 0)  # wrap all BODY sequentials to use Gradient Checkpointing\n",
    "# model.model[0] = nn.Sequential(CheckpointModule(model.model[0]))  # hack in the final checkpointmodule for the base sequence\n",
    "\n",
    "# @TODO WATCHT HIS\n",
    "# model = model.to_fp16()  # convert to 16bit\n",
    "\n",
    "# load_model(f'models/{RUN_NAME_OF_MODEL_TO_LOAD}_{EPOCH_TO_LOAD}.pth', model, opt=ranger, with_opt=False)\n",
    "\n",
    "# model = model.to_fp32()\n",
    "\n",
    "\n",
    "load_model('../DenseNet/models/20210223-0550 - arch=densenetblur121d - samples=-1 frozen=1 epochs=5 bs=32 res=300_split_8_epoch25_acc0.88.pth', model, opt=ranger)"
   ]
  },
  {
   "cell_type": "code",
   "execution_count": 68,
   "id": "pleasant-investigator",
   "metadata": {
    "execution": {
     "iopub.execute_input": "2021-02-25T08:08:43.346230Z",
     "iopub.status.busy": "2021-02-25T08:08:43.346123Z",
     "iopub.status.idle": "2021-02-25T08:08:43.348348Z",
     "shell.execute_reply": "2021-02-25T08:08:43.348110Z",
     "shell.execute_reply.started": "2021-02-25T08:08:43.346219Z"
    }
   },
   "outputs": [
    {
     "data": {
      "text/plain": [
       "(#11) [TrainEvalCallback,Recorder,ProgressCallback,CutMix,SaveModelCallback,ShowGraphCallback,EarlyStoppingCallback,GradientClip,GradientAccumulation,ModelToHalf...]"
      ]
     },
     "execution_count": 68,
     "metadata": {},
     "output_type": "execute_result"
    }
   ],
   "source": [
    "model.cbs"
   ]
  },
  {
   "cell_type": "code",
   "execution_count": 76,
   "id": "advisory-baseball",
   "metadata": {
    "execution": {
     "iopub.execute_input": "2021-02-25T09:03:24.485208Z",
     "iopub.status.busy": "2021-02-25T09:03:24.484931Z",
     "iopub.status.idle": "2021-02-25T09:03:24.488301Z",
     "shell.execute_reply": "2021-02-25T09:03:24.487817Z",
     "shell.execute_reply.started": "2021-02-25T09:03:24.485178Z"
    },
    "tags": []
   },
   "outputs": [],
   "source": [
    "def remove_callbacks():\n",
    "    model.remove_cbs(CutMix)\n",
    "    model.remove_cbs(ShowGraphCallback)\n",
    "    model.remove_cbs(EarlyStoppingCallback)\n",
    "    model.remove_cbs(SaveModelCallback)\n",
    "#     model.cbs"
   ]
  },
  {
   "cell_type": "code",
   "execution_count": 70,
   "id": "classified-basic",
   "metadata": {
    "execution": {
     "iopub.execute_input": "2021-02-25T08:08:43.356746Z",
     "iopub.status.busy": "2021-02-25T08:08:43.356525Z",
     "iopub.status.idle": "2021-02-25T08:08:43.359500Z",
     "shell.execute_reply": "2021-02-25T08:08:43.359096Z",
     "shell.execute_reply.started": "2021-02-25T08:08:43.356727Z"
    },
    "tags": []
   },
   "outputs": [
    {
     "data": {
      "text/plain": [
       "(#7) [TrainEvalCallback,Recorder,ProgressCallback,GradientClip,GradientAccumulation,ModelToHalf,NonNativeMixedPrecision]"
      ]
     },
     "execution_count": 70,
     "metadata": {},
     "output_type": "execute_result"
    }
   ],
   "source": [
    "remove_callbacks()\n",
    "model.cbs"
   ]
  },
  {
   "cell_type": "code",
   "execution_count": 71,
   "id": "detected-petersburg",
   "metadata": {
    "execution": {
     "iopub.execute_input": "2021-02-25T08:08:43.360307Z",
     "iopub.status.busy": "2021-02-25T08:08:43.360131Z",
     "iopub.status.idle": "2021-02-25T08:08:43.362243Z",
     "shell.execute_reply": "2021-02-25T08:08:43.361821Z",
     "shell.execute_reply.started": "2021-02-25T08:08:43.360290Z"
    },
    "tags": []
   },
   "outputs": [],
   "source": [
    "# preds, something = model.tta(dl=test_dl, n=5, use_max=False, beta=0.18)"
   ]
  },
  {
   "cell_type": "code",
   "execution_count": 72,
   "id": "younger-mitchell",
   "metadata": {
    "execution": {
     "iopub.execute_input": "2021-02-25T08:08:43.363083Z",
     "iopub.status.busy": "2021-02-25T08:08:43.362841Z",
     "iopub.status.idle": "2021-02-25T08:08:43.364959Z",
     "shell.execute_reply": "2021-02-25T08:08:43.364540Z",
     "shell.execute_reply.started": "2021-02-25T08:08:43.363065Z"
    },
    "tags": []
   },
   "outputs": [],
   "source": [
    "# test_dl.show_batch()"
   ]
  },
  {
   "cell_type": "code",
   "execution_count": 73,
   "id": "meaningful-links",
   "metadata": {
    "execution": {
     "iopub.execute_input": "2021-02-25T08:08:43.365763Z",
     "iopub.status.busy": "2021-02-25T08:08:43.365524Z",
     "iopub.status.idle": "2021-02-25T08:09:23.452261Z",
     "shell.execute_reply": "2021-02-25T08:09:23.451850Z",
     "shell.execute_reply.started": "2021-02-25T08:08:43.365734Z"
    },
    "tags": []
   },
   "outputs": [
    {
     "data": {
      "text/html": [
       "\n",
       "    <div>\n",
       "        <style>\n",
       "            /* Turns off some styling */\n",
       "            progress {\n",
       "                /* gets rid of default border in Firefox and Opera. */\n",
       "                border: none;\n",
       "                /* Needs to be in here for Safari polyfill so background images work as expected. */\n",
       "                background-size: auto;\n",
       "            }\n",
       "            .progress-bar-interrupted, .progress-bar-interrupted::-webkit-progress-bar {\n",
       "                background: #F44336;\n",
       "            }\n",
       "        </style>\n",
       "      <progress value='0' class='' max='1' style='width:300px; height:20px; vertical-align: middle;'></progress>\n",
       "      \n",
       "    </div>\n",
       "    \n"
      ],
      "text/plain": [
       "<IPython.core.display.HTML object>"
      ]
     },
     "metadata": {},
     "output_type": "display_data"
    },
    {
     "data": {
      "text/html": [],
      "text/plain": [
       "<IPython.core.display.HTML object>"
      ]
     },
     "metadata": {},
     "output_type": "display_data"
    },
    {
     "name": "stderr",
     "output_type": "stream",
     "text": [
      "/home/frank/miniconda3/envs/learn/lib/python3.8/site-packages/torch/nn/functional.py:3103: UserWarning: The default behavior for interpolate/upsample with float scale_factor changed in 1.6.0 to align with other frameworks/libraries, and now uses scale_factor directly, instead of relying on the computed output size. If you wish to restore the old behavior, please set recompute_scale_factor=True. See the documentation of nn.Upsample for details. \n",
      "  warnings.warn(\"The default behavior for interpolate/upsample with float scale_factor changed \"\n"
     ]
    },
    {
     "name": "stdout",
     "output_type": "stream",
     "text": [
      "              precision    recall  f1-score   support\n",
      "\n",
      "           0       0.65      0.54      0.59       155\n",
      "           1       0.89      0.79      0.84       363\n",
      "           2       0.87      0.69      0.77       316\n",
      "           3       0.92      0.98      0.95      1582\n",
      "           4       0.66      0.72      0.69       289\n",
      "\n",
      "    accuracy                           0.87      2705\n",
      "   macro avg       0.80      0.74      0.77      2705\n",
      "weighted avg       0.87      0.87      0.87      2705\n",
      "\n"
     ]
    }
   ],
   "source": [
    "preds, something = model.tta(dl=test_dl, n=3)  #, use_max=False, beta=0.1)\n",
    "print(classification_report(sample_df.iloc[:,1], preds.argmax(dim=-1).numpy()))  # TTA"
   ]
  },
  {
   "cell_type": "code",
   "execution_count": 75,
   "id": "pretty-screen",
   "metadata": {
    "execution": {
     "iopub.execute_input": "2021-02-25T08:09:35.676594Z",
     "iopub.status.busy": "2021-02-25T08:09:35.676300Z",
     "iopub.status.idle": "2021-02-25T08:09:44.917572Z",
     "shell.execute_reply": "2021-02-25T08:09:44.917206Z",
     "shell.execute_reply.started": "2021-02-25T08:09:35.676563Z"
    },
    "tags": []
   },
   "outputs": [
    {
     "data": {
      "text/html": [],
      "text/plain": [
       "<IPython.core.display.HTML object>"
      ]
     },
     "metadata": {},
     "output_type": "display_data"
    },
    {
     "name": "stderr",
     "output_type": "stream",
     "text": [
      "/home/frank/miniconda3/envs/learn/lib/python3.8/site-packages/torch/nn/functional.py:3103: UserWarning: The default behavior for interpolate/upsample with float scale_factor changed in 1.6.0 to align with other frameworks/libraries, and now uses scale_factor directly, instead of relying on the computed output size. If you wish to restore the old behavior, please set recompute_scale_factor=True. See the documentation of nn.Upsample for details. \n",
      "  warnings.warn(\"The default behavior for interpolate/upsample with float scale_factor changed \"\n"
     ]
    },
    {
     "name": "stdout",
     "output_type": "stream",
     "text": [
      "              precision    recall  f1-score   support\n",
      "\n",
      "           0       0.65      0.54      0.59       155\n",
      "           1       0.85      0.79      0.82       363\n",
      "           2       0.83      0.72      0.77       316\n",
      "           3       0.93      0.96      0.94      1582\n",
      "           4       0.64      0.73      0.69       289\n",
      "\n",
      "    accuracy                           0.86      2705\n",
      "   macro avg       0.78      0.75      0.76      2705\n",
      "weighted avg       0.86      0.86      0.86      2705\n",
      "\n"
     ]
    }
   ],
   "source": [
    "\n",
    "preds2 = model.get_preds(dl=test_dl)\n",
    "print(classification_report(sample_df.iloc[:,1], preds2[0].argmax(dim=-1).numpy()))  # straight"
   ]
  },
  {
   "cell_type": "code",
   "execution_count": null,
   "id": "naked-lexington",
   "metadata": {},
   "outputs": [],
   "source": [
    "# print(classification_report(sample_df.iloc[:,0], ((preds + preds2[0]).argmax(dim=-1).numpy())))  # average"
   ]
  },
  {
   "cell_type": "code",
   "execution_count": null,
   "id": "hydraulic-aerospace",
   "metadata": {},
   "outputs": [],
   "source": [
    "# print(classification_report(sample_df.iloc[:,0], (torch.maximum(preds,preds2[0]).argmax(dim=-1).numpy())))  # max"
   ]
  },
  {
   "cell_type": "raw",
   "id": "ethical-spain",
   "metadata": {
    "execution": {
     "iopub.execute_input": "2021-02-10T05:16:58.253381Z",
     "iopub.status.busy": "2021-02-10T05:16:58.253114Z",
     "iopub.status.idle": "2021-02-10T05:24:35.347008Z",
     "shell.execute_reply": "2021-02-10T05:24:35.346391Z",
     "shell.execute_reply.started": "2021-02-10T05:16:58.253359Z"
    }
   },
   "source": [
    "scores_gs = []\n",
    "nlist = [5,10,15,20,30,40]\n",
    "\n",
    "for i in nlist:\n",
    "    preds_gs, _ = model.tta(dl=test_dl, n=i)  #, use_max=False, beta=0.1)\n",
    "    scores_gs.append(accuracy_score(sample_df.iloc[:,0], preds.argmax(dim=-1).numpy()))\n",
    "    \n",
    "print(f'best n: {nlist[np.argmax(scores_gs)]}')\n",
    "print(scores_gs)"
   ]
  },
  {
   "cell_type": "code",
   "execution_count": null,
   "id": "developmental-forestry",
   "metadata": {},
   "outputs": [],
   "source": [
    "# Grid Searching\n",
    "\n",
    "# # a_list = [0.1, 0.2, 0.3, 0.4, 0.5, 0.6, 0.7, 0.8, 0.9, 0.999]\n",
    "# a_list=[1]\n",
    "# # a_list = np.arange(0.5,1.0,0.1)\n",
    "# #[1] #[0,45,90,135]  #[750, 800, 850, 900]# list(np.arange(0, 5, 0.5)) # [0.1, 0.2, 0.3, 0.4, 0.5, 0.6, 0.7, 0.8, 0.9, 1.0]\n",
    "# scores_gs = []\n",
    "\n",
    "# for VARIABLE in a_list:\n",
    "#     aug_tfms =  aug_transforms(size=RESOLUTION, pad_mode='reflection', do_flip=True, batch=False, \n",
    "#                                    p_affine=0.7, max_rotate=45, max_warp=0, min_zoom=1.0, max_zoom=2.5, \n",
    "#                                    mult=3,  p_lighting=0.5, max_lighting=0.1, min_scale=0.75) #,xtra_tfms=[sha])\n",
    "\n",
    "#     sat = Saturation(p=0.7, max_lighting=0.2)\n",
    "\n",
    "#     # batch_tfms = [ Normalize.from_stats(*imagenet_stats), sat]\n",
    "#     batch_tfms = [ *aug_tfms, sat, Normalize.from_stats(*imagenet_stats)]#, sha]\n",
    "\n",
    "# #     item_tfms=RandomResizedCrop(RESOLUTION)\n",
    "#     item_tfms=Resize(RESOLUTION, method='bilinear', pad_mode='zeros')\n",
    "# #     item_tfms=RatioResize(RESOLUTION)\n",
    "\n",
    "#     dls = ImageDataLoaders.from_df(sample_df, folder=f'../data/{sub}', seed=42, label_col = 0, fn_col=1, \n",
    "#                                    batch_tfms=batch_tfms, bs=BATCH_SIZE, item_tfms=item_tfms)\n",
    "#     test_dl = dls.test_dl(sample_df)\n",
    "\n",
    "#     preds, something = model.tta(dl=test_dl, n=5, use_max=False, beta=0.18)\n",
    "#     scores_gs.append(accuracy_score(sample_df.iloc[:,0], preds.argmax(dim=-1).numpy()))  # TTA\n",
    "    \n",
    "#     print(f'best SO FAR: {a_list[np.argmax(scores_gs)]}, at {scores_gs[np.argmax(scores_gs)]}')\n",
    "\n",
    "\n",
    "# print(f'best n: {a_list[np.argmax(scores_gs)]}')\n",
    "# print(a_list)\n",
    "# print(scores_gs)"
   ]
  },
  {
   "cell_type": "code",
   "execution_count": null,
   "id": "stupid-being",
   "metadata": {
    "execution": {
     "iopub.execute_input": "2021-02-10T09:41:21.127718Z",
     "iopub.status.busy": "2021-02-10T09:41:21.127605Z",
     "iopub.status.idle": "2021-02-10T09:41:21.981508Z",
     "shell.execute_reply": "2021-02-10T09:41:21.981082Z",
     "shell.execute_reply.started": "2021-02-10T09:41:21.127705Z"
    }
   },
   "outputs": [],
   "source": [
    "# test_dl.show_batch()"
   ]
  },
  {
   "cell_type": "code",
   "execution_count": 106,
   "id": "grave-arthritis",
   "metadata": {
    "execution": {
     "iopub.execute_input": "2021-02-25T09:18:36.297387Z",
     "iopub.status.busy": "2021-02-25T09:18:36.297130Z",
     "iopub.status.idle": "2021-02-25T09:23:23.403126Z",
     "shell.execute_reply": "2021-02-25T09:23:23.402685Z",
     "shell.execute_reply.started": "2021-02-25T09:18:36.297364Z"
    },
    "tags": []
   },
   "outputs": [
    {
     "data": {
      "text/html": [
       "\n",
       "    <div>\n",
       "        <style>\n",
       "            /* Turns off some styling */\n",
       "            progress {\n",
       "                /* gets rid of default border in Firefox and Opera. */\n",
       "                border: none;\n",
       "                /* Needs to be in here for Safari polyfill so background images work as expected. */\n",
       "                background-size: auto;\n",
       "            }\n",
       "            .progress-bar-interrupted, .progress-bar-interrupted::-webkit-progress-bar {\n",
       "                background: #F44336;\n",
       "            }\n",
       "        </style>\n",
       "      <progress value='0' class='' max='1' style='width:300px; height:20px; vertical-align: middle;'></progress>\n",
       "      \n",
       "    </div>\n",
       "    \n"
      ],
      "text/plain": [
       "<IPython.core.display.HTML object>"
      ]
     },
     "metadata": {},
     "output_type": "display_data"
    },
    {
     "data": {
      "text/html": [],
      "text/plain": [
       "<IPython.core.display.HTML object>"
      ]
     },
     "metadata": {},
     "output_type": "display_data"
    },
    {
     "name": "stdout",
     "output_type": "stream",
     "text": [
      "              precision    recall  f1-score   support\n",
      "\n",
      "           0       0.68      0.56      0.61       230\n",
      "           1       0.85      0.81      0.83       537\n",
      "           2       0.88      0.70      0.78       467\n",
      "           3       0.93      0.97      0.95      2338\n",
      "           4       0.70      0.80      0.74       428\n",
      "\n",
      "    accuracy                           0.88      4000\n",
      "   macro avg       0.81      0.77      0.78      4000\n",
      "weighted avg       0.88      0.88      0.87      4000\n",
      "\n"
     ]
    },
    {
     "data": {
      "text/html": [
       "\n",
       "    <div>\n",
       "        <style>\n",
       "            /* Turns off some styling */\n",
       "            progress {\n",
       "                /* gets rid of default border in Firefox and Opera. */\n",
       "                border: none;\n",
       "                /* Needs to be in here for Safari polyfill so background images work as expected. */\n",
       "                background-size: auto;\n",
       "            }\n",
       "            .progress-bar-interrupted, .progress-bar-interrupted::-webkit-progress-bar {\n",
       "                background: #F44336;\n",
       "            }\n",
       "        </style>\n",
       "      <progress value='0' class='' max='1' style='width:300px; height:20px; vertical-align: middle;'></progress>\n",
       "      \n",
       "    </div>\n",
       "    \n"
      ],
      "text/plain": [
       "<IPython.core.display.HTML object>"
      ]
     },
     "metadata": {},
     "output_type": "display_data"
    },
    {
     "data": {
      "text/html": [],
      "text/plain": [
       "<IPython.core.display.HTML object>"
      ]
     },
     "metadata": {},
     "output_type": "display_data"
    },
    {
     "name": "stdout",
     "output_type": "stream",
     "text": [
      "              precision    recall  f1-score   support\n",
      "\n",
      "           0       0.64      0.65      0.65       230\n",
      "           1       0.84      0.80      0.82       537\n",
      "           2       0.84      0.76      0.80       467\n",
      "           3       0.95      0.96      0.95      2338\n",
      "           4       0.72      0.79      0.75       428\n",
      "\n",
      "    accuracy                           0.88      4000\n",
      "   macro avg       0.80      0.79      0.79      4000\n",
      "weighted avg       0.88      0.88      0.88      4000\n",
      "\n"
     ]
    },
    {
     "data": {
      "text/html": [
       "\n",
       "    <div>\n",
       "        <style>\n",
       "            /* Turns off some styling */\n",
       "            progress {\n",
       "                /* gets rid of default border in Firefox and Opera. */\n",
       "                border: none;\n",
       "                /* Needs to be in here for Safari polyfill so background images work as expected. */\n",
       "                background-size: auto;\n",
       "            }\n",
       "            .progress-bar-interrupted, .progress-bar-interrupted::-webkit-progress-bar {\n",
       "                background: #F44336;\n",
       "            }\n",
       "        </style>\n",
       "      <progress value='0' class='' max='1' style='width:300px; height:20px; vertical-align: middle;'></progress>\n",
       "      \n",
       "    </div>\n",
       "    \n"
      ],
      "text/plain": [
       "<IPython.core.display.HTML object>"
      ]
     },
     "metadata": {},
     "output_type": "display_data"
    },
    {
     "data": {
      "text/html": [],
      "text/plain": [
       "<IPython.core.display.HTML object>"
      ]
     },
     "metadata": {},
     "output_type": "display_data"
    },
    {
     "name": "stdout",
     "output_type": "stream",
     "text": [
      "              precision    recall  f1-score   support\n",
      "\n",
      "           0       0.67      0.59      0.62       230\n",
      "           1       0.80      0.83      0.82       537\n",
      "           2       0.88      0.73      0.80       467\n",
      "           3       0.94      0.97      0.96      2338\n",
      "           4       0.73      0.77      0.75       428\n",
      "\n",
      "    accuracy                           0.88      4000\n",
      "   macro avg       0.80      0.78      0.79      4000\n",
      "weighted avg       0.88      0.88      0.88      4000\n",
      "\n"
     ]
    },
    {
     "data": {
      "text/html": [
       "\n",
       "    <div>\n",
       "        <style>\n",
       "            /* Turns off some styling */\n",
       "            progress {\n",
       "                /* gets rid of default border in Firefox and Opera. */\n",
       "                border: none;\n",
       "                /* Needs to be in here for Safari polyfill so background images work as expected. */\n",
       "                background-size: auto;\n",
       "            }\n",
       "            .progress-bar-interrupted, .progress-bar-interrupted::-webkit-progress-bar {\n",
       "                background: #F44336;\n",
       "            }\n",
       "        </style>\n",
       "      <progress value='0' class='' max='1' style='width:300px; height:20px; vertical-align: middle;'></progress>\n",
       "      \n",
       "    </div>\n",
       "    \n"
      ],
      "text/plain": [
       "<IPython.core.display.HTML object>"
      ]
     },
     "metadata": {},
     "output_type": "display_data"
    },
    {
     "data": {
      "text/html": [],
      "text/plain": [
       "<IPython.core.display.HTML object>"
      ]
     },
     "metadata": {},
     "output_type": "display_data"
    },
    {
     "name": "stdout",
     "output_type": "stream",
     "text": [
      "              precision    recall  f1-score   support\n",
      "\n",
      "           0       0.62      0.58      0.60       230\n",
      "           1       0.83      0.82      0.82       537\n",
      "           2       0.88      0.75      0.81       467\n",
      "           3       0.94      0.97      0.95      2338\n",
      "           4       0.73      0.73      0.73       428\n",
      "\n",
      "    accuracy                           0.88      4000\n",
      "   macro avg       0.80      0.77      0.78      4000\n",
      "weighted avg       0.87      0.88      0.87      4000\n",
      "\n"
     ]
    },
    {
     "data": {
      "text/html": [
       "\n",
       "    <div>\n",
       "        <style>\n",
       "            /* Turns off some styling */\n",
       "            progress {\n",
       "                /* gets rid of default border in Firefox and Opera. */\n",
       "                border: none;\n",
       "                /* Needs to be in here for Safari polyfill so background images work as expected. */\n",
       "                background-size: auto;\n",
       "            }\n",
       "            .progress-bar-interrupted, .progress-bar-interrupted::-webkit-progress-bar {\n",
       "                background: #F44336;\n",
       "            }\n",
       "        </style>\n",
       "      <progress value='0' class='' max='1' style='width:300px; height:20px; vertical-align: middle;'></progress>\n",
       "      \n",
       "    </div>\n",
       "    \n"
      ],
      "text/plain": [
       "<IPython.core.display.HTML object>"
      ]
     },
     "metadata": {},
     "output_type": "display_data"
    },
    {
     "data": {
      "text/html": [],
      "text/plain": [
       "<IPython.core.display.HTML object>"
      ]
     },
     "metadata": {},
     "output_type": "display_data"
    },
    {
     "name": "stdout",
     "output_type": "stream",
     "text": [
      "              precision    recall  f1-score   support\n",
      "\n",
      "           0       0.60      0.72      0.66       230\n",
      "           1       0.82      0.77      0.79       537\n",
      "           2       0.78      0.82      0.80       467\n",
      "           3       0.98      0.91      0.94      2338\n",
      "           4       0.64      0.81      0.71       428\n",
      "\n",
      "    accuracy                           0.86      4000\n",
      "   macro avg       0.76      0.81      0.78      4000\n",
      "weighted avg       0.87      0.86      0.86      4000\n",
      "\n"
     ]
    }
   ],
   "source": [
    "all_preds = []\n",
    "all_models = ['20210223-0550 - arch=densenetblur121d - samples=-1 frozen=1 epochs=5 bs=32 res=300_split_8_epoch25_acc0.88.pth',\n",
    "              '20210223-0550 - arch=densenetblur121d - samples=-1 frozen=1 epochs=5 bs=32 res=300_split_6_epoch20_acc0.88.pth',\n",
    "              '20210223-0550 - arch=densenetblur121d - samples=-1 frozen=1 epochs=5 bs=32 res=300_split_4_epoch25_acc0.88.pth',\n",
    "              '20210223-0550 - arch=densenetblur121d - samples=-1 frozen=1 epochs=5 bs=32 res=300_split_2_epoch15_acc0.88.pth',\n",
    "              '20210223-0550 - arch=densenetblur121d - samples=-1 frozen=1 epochs=5 bs=32 res=300_split_3_epoch20_acc0.86.pth']\n",
    "\n",
    "for pth in all_models:\n",
    "    load_model(f'../DenseNet/models/{pth}', model, opt=ranger, with_opt=False)\n",
    "    remove_callbacks()\n",
    "    preds, something = model.tta(dl=test_dl, n=3)  #, use_max=False, beta=0.1)\n",
    "    print(classification_report(sample_df.iloc[:,1], preds.argmax(dim=-1).numpy()))  # TTA\n",
    "    \n",
    "    all_preds.append(preds)"
   ]
  },
  {
   "cell_type": "code",
   "execution_count": 128,
   "id": "corrected-context",
   "metadata": {
    "execution": {
     "iopub.execute_input": "2021-02-25T09:56:27.284736Z",
     "iopub.status.busy": "2021-02-25T09:56:27.284468Z",
     "iopub.status.idle": "2021-02-25T09:56:27.287419Z",
     "shell.execute_reply": "2021-02-25T09:56:27.286910Z",
     "shell.execute_reply.started": "2021-02-25T09:56:27.284712Z"
    },
    "tags": []
   },
   "outputs": [],
   "source": [
    "all_preds_en = all_preds.copy()\n"
   ]
  },
  {
   "cell_type": "code",
   "execution_count": 133,
   "id": "looking-account",
   "metadata": {
    "execution": {
     "iopub.execute_input": "2021-02-25T09:56:53.125887Z",
     "iopub.status.busy": "2021-02-25T09:56:53.125634Z",
     "iopub.status.idle": "2021-02-25T09:56:53.128792Z",
     "shell.execute_reply": "2021-02-25T09:56:53.128218Z",
     "shell.execute_reply.started": "2021-02-25T09:56:53.125864Z"
    },
    "tags": []
   },
   "outputs": [],
   "source": [
    "hat = all_preds_en[0]\n",
    "for pred in all_preds_en[1:]:\n",
    "  hat += pred\n",
    "        "
   ]
  },
  {
   "cell_type": "code",
   "execution_count": 135,
   "id": "wicked-heaven",
   "metadata": {
    "execution": {
     "iopub.execute_input": "2021-02-25T09:57:10.866040Z",
     "iopub.status.busy": "2021-02-25T09:57:10.865781Z",
     "iopub.status.idle": "2021-02-25T09:57:10.868687Z",
     "shell.execute_reply": "2021-02-25T09:57:10.868149Z",
     "shell.execute_reply.started": "2021-02-25T09:57:10.866017Z"
    },
    "tags": []
   },
   "outputs": [],
   "source": [
    "hat /= len(all_preds_en)"
   ]
  },
  {
   "cell_type": "code",
   "execution_count": 139,
   "id": "clear-validity",
   "metadata": {
    "execution": {
     "iopub.execute_input": "2021-02-25T09:59:08.260546Z",
     "iopub.status.busy": "2021-02-25T09:59:08.260262Z",
     "iopub.status.idle": "2021-02-25T09:59:08.273379Z",
     "shell.execute_reply": "2021-02-25T09:59:08.272904Z",
     "shell.execute_reply.started": "2021-02-25T09:59:08.260521Z"
    },
    "tags": []
   },
   "outputs": [
    {
     "name": "stdout",
     "output_type": "stream",
     "text": [
      "              precision    recall  f1-score   support\n",
      "\n",
      "           0       0.64      0.66      0.65       230\n",
      "           1       0.84      0.83      0.84       537\n",
      "           2       0.88      0.76      0.82       467\n",
      "           3       0.96      0.96      0.96      2338\n",
      "           4       0.73      0.79      0.76       428\n",
      "\n",
      "    accuracy                           0.89      4000\n",
      "   macro avg       0.81      0.80      0.80      4000\n",
      "weighted avg       0.89      0.89      0.89      4000\n",
      "\n"
     ]
    }
   ],
   "source": [
    "print(classification_report(sample_df.iloc[:,1], hat.argmax(dim=-1).numpy()))"
   ]
  },
  {
   "cell_type": "code",
   "execution_count": 132,
   "id": "polish-reputation",
   "metadata": {
    "execution": {
     "iopub.execute_input": "2021-02-25T09:56:41.083815Z",
     "iopub.status.busy": "2021-02-25T09:56:41.083555Z",
     "iopub.status.idle": "2021-02-25T09:56:41.091168Z",
     "shell.execute_reply": "2021-02-25T09:56:41.090741Z",
     "shell.execute_reply.started": "2021-02-25T09:56:41.083792Z"
    }
   },
   "outputs": [
    {
     "data": {
      "text/plain": [
       "[tensor([[0.1426, 0.1343, 0.1043, 0.1981, 0.4208],\n",
       "         [0.0433, 0.7201, 0.0163, 0.1292, 0.0911],\n",
       "         [0.0876, 0.4870, 0.0429, 0.0834, 0.2991],\n",
       "         ...,\n",
       "         [0.0227, 0.0331, 0.0265, 0.8898, 0.0280],\n",
       "         [0.0114, 0.0148, 0.9257, 0.0364, 0.0117],\n",
       "         [0.0224, 0.0279, 0.0648, 0.8515, 0.0334]]),\n",
       " tensor([[0.1624, 0.1361, 0.0949, 0.2643, 0.3423],\n",
       "         [0.0428, 0.6951, 0.0155, 0.1328, 0.1138],\n",
       "         [0.0680, 0.5395, 0.0482, 0.0811, 0.2631],\n",
       "         ...,\n",
       "         [0.0243, 0.0350, 0.0231, 0.8886, 0.0290],\n",
       "         [0.0120, 0.0112, 0.9295, 0.0382, 0.0091],\n",
       "         [0.0195, 0.0253, 0.0373, 0.8906, 0.0273]]),\n",
       " tensor([[0.1231, 0.2378, 0.0611, 0.1623, 0.4157],\n",
       "         [0.0233, 0.7165, 0.0166, 0.1716, 0.0720],\n",
       "         [0.0530, 0.6822, 0.0327, 0.1102, 0.1219],\n",
       "         ...,\n",
       "         [0.0205, 0.0212, 0.0243, 0.9096, 0.0244],\n",
       "         [0.0145, 0.0118, 0.9155, 0.0374, 0.0208],\n",
       "         [0.0207, 0.0258, 0.1337, 0.7921, 0.0277]]),\n",
       " tensor([[0.1678, 0.1032, 0.0759, 0.2649, 0.3882],\n",
       "         [0.0369, 0.7515, 0.0169, 0.1264, 0.0683],\n",
       "         [0.0636, 0.3844, 0.0486, 0.0897, 0.4137],\n",
       "         ...,\n",
       "         [0.0203, 0.0305, 0.0229, 0.9063, 0.0200],\n",
       "         [0.0162, 0.0324, 0.8752, 0.0654, 0.0108],\n",
       "         [0.0194, 0.0218, 0.0331, 0.9016, 0.0241]]),\n",
       " tensor([[0.1233, 0.0573, 0.1845, 0.0875, 0.5474],\n",
       "         [0.0718, 0.7151, 0.0152, 0.0813, 0.1165],\n",
       "         [0.1693, 0.3373, 0.0451, 0.0526, 0.3957],\n",
       "         ...,\n",
       "         [0.0260, 0.0472, 0.0355, 0.8518, 0.0395],\n",
       "         [0.0030, 0.0050, 0.9798, 0.0051, 0.0071],\n",
       "         [0.0301, 0.0390, 0.0601, 0.8178, 0.0530]])]"
      ]
     },
     "execution_count": 132,
     "metadata": {},
     "output_type": "execute_result"
    }
   ],
   "source": [
    "all_preds_en"
   ]
  },
  {
   "cell_type": "code",
   "execution_count": 142,
   "id": "threaded-hindu",
   "metadata": {
    "execution": {
     "iopub.execute_input": "2021-02-25T10:13:20.502310Z",
     "iopub.status.busy": "2021-02-25T10:13:20.502089Z",
     "iopub.status.idle": "2021-02-25T10:13:20.506099Z",
     "shell.execute_reply": "2021-02-25T10:13:20.505597Z",
     "shell.execute_reply.started": "2021-02-25T10:13:20.502288Z"
    }
   },
   "outputs": [],
   "source": [
    "import pickle \n",
    "\n",
    "with open('all_preds_en.p', 'wb') as f:\n",
    "    pickle.dump(all_preds_en, f)"
   ]
  },
  {
   "cell_type": "code",
   "execution_count": null,
   "id": "sharing-estimate",
   "metadata": {},
   "outputs": [],
   "source": []
  }
 ],
 "metadata": {
  "kernelspec": {
   "display_name": "Python 3",
   "language": "python",
   "name": "python3"
  },
  "language_info": {
   "codemirror_mode": {
    "name": "ipython",
    "version": 3
   },
   "file_extension": ".py",
   "mimetype": "text/x-python",
   "name": "python",
   "nbconvert_exporter": "python",
   "pygments_lexer": "ipython3",
   "version": "3.8.6"
  },
  "widgets": {
   "application/vnd.jupyter.widget-state+json": {
    "state": {},
    "version_major": 2,
    "version_minor": 0
   }
  }
 },
 "nbformat": 4,
 "nbformat_minor": 5
}
