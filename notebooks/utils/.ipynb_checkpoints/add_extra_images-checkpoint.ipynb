{
 "cells": [
  {
   "cell_type": "code",
   "execution_count": 3,
   "id": "defensive-enzyme",
   "metadata": {
    "execution": {
     "iopub.execute_input": "2021-02-22T07:02:42.048651Z",
     "iopub.status.busy": "2021-02-22T07:02:42.048405Z",
     "iopub.status.idle": "2021-02-22T07:02:42.055408Z",
     "shell.execute_reply": "2021-02-22T07:02:42.054895Z",
     "shell.execute_reply.started": "2021-02-22T07:02:42.048630Z"
    },
    "tags": []
   },
   "outputs": [],
   "source": [
    "import pandas as pd\n",
    "import numpy as np\n",
    "import matplotlib.pyplot as plt\n",
    "import seaborn as sns\n",
    "%matplotlib widget\n",
    "\n",
    "import glob\n",
    "from fastbook import *\n",
    "from fastai.vision.all import *\n",
    "from fastai.vision.widgets import *\n",
    "import fastai\n",
    "\n",
    "# set sensible default parameters for matplotlib\n",
    "plt.rcParams['figure.figsize'] = [9, 5]\n",
    "\n",
    "plt.style.use('dark_background')\n",
    "\n",
    "plt.rcParams['figure.dpi'] = 120\n",
    "\n",
    "plt.style.use('dark_background')"
   ]
  },
  {
   "cell_type": "code",
   "execution_count": null,
   "id": "elegant-science",
   "metadata": {},
   "outputs": [],
   "source": [
    "path = Path('../../data/train_images_sorted_extra')\n",
    "get_"
   ]
  }
 ],
 "metadata": {
  "kernelspec": {
   "display_name": "Python 3",
   "language": "python",
   "name": "python3"
  },
  "language_info": {
   "codemirror_mode": {
    "name": "ipython",
    "version": 3
   },
   "file_extension": ".py",
   "mimetype": "text/x-python",
   "name": "python",
   "nbconvert_exporter": "python",
   "pygments_lexer": "ipython3",
   "version": "3.8.6"
  },
  "widgets": {
   "application/vnd.jupyter.widget-state+json": {
    "state": {},
    "version_major": 2,
    "version_minor": 0
   }
  }
 },
 "nbformat": 4,
 "nbformat_minor": 5
}
