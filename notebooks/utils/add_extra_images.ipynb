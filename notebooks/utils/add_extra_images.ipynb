{
 "cells": [
  {
   "cell_type": "code",
   "execution_count": 1,
   "id": "binary-commonwealth",
   "metadata": {
    "execution": {
     "iopub.execute_input": "2021-02-22T10:35:18.085258Z",
     "iopub.status.busy": "2021-02-22T10:35:18.084796Z",
     "iopub.status.idle": "2021-02-22T10:35:19.182811Z",
     "shell.execute_reply": "2021-02-22T10:35:19.182469Z",
     "shell.execute_reply.started": "2021-02-22T10:35:18.085164Z"
    },
    "tags": []
   },
   "outputs": [],
   "source": [
    "import pandas as pd\n",
    "import numpy as np\n",
    "import matplotlib.pyplot as plt\n",
    "import seaborn as sns\n",
    "# %matplotlib widget\n",
    "%matplotlib inline\n",
    "\n",
    "\n",
    "\n",
    "import glob\n",
    "from fastbook import *\n",
    "from fastai.vision.all import *\n",
    "from fastai.vision.widgets import *\n",
    "import fastai\n",
    "\n",
    "from jedi import settings\n",
    "import jedi\n",
    "\n",
    "\n",
    "\n",
    "# set sensible default parameters for matplotlib\n",
    "plt.rcParams['figure.figsize'] = [9, 5]\n",
    "\n",
    "plt.style.use('dark_background')\n",
    "\n",
    "plt.rcParams['figure.dpi'] = 120\n",
    "\n",
    "plt.style.use('dark_background')"
   ]
  },
  {
   "cell_type": "code",
   "execution_count": 2,
   "id": "immune-maine",
   "metadata": {
    "execution": {
     "iopub.execute_input": "2021-02-22T10:35:19.183369Z",
     "iopub.status.busy": "2021-02-22T10:35:19.183263Z",
     "iopub.status.idle": "2021-02-22T10:35:19.185137Z",
     "shell.execute_reply": "2021-02-22T10:35:19.184847Z",
     "shell.execute_reply.started": "2021-02-22T10:35:19.183357Z"
    },
    "tags": []
   },
   "outputs": [],
   "source": [
    "path = Path('../../data/train_images_sorted_extra')\n",
    "cat_names = ['CBB', 'CBSD', 'CGM', 'CMD', 'HEALTHY']"
   ]
  },
  {
   "cell_type": "code",
   "execution_count": 3,
   "id": "forbidden-likelihood",
   "metadata": {
    "execution": {
     "iopub.execute_input": "2021-02-22T10:35:19.185608Z",
     "iopub.status.busy": "2021-02-22T10:35:19.185507Z",
     "iopub.status.idle": "2021-02-22T10:35:19.189531Z",
     "shell.execute_reply": "2021-02-22T10:35:19.188658Z",
     "shell.execute_reply.started": "2021-02-22T10:35:19.185598Z"
    },
    "tags": []
   },
   "outputs": [],
   "source": [
    "df = pd.DataFrame(columns=['image_id', 'label'])"
   ]
  },
  {
   "cell_type": "code",
   "execution_count": 4,
   "id": "regulated-validation",
   "metadata": {
    "execution": {
     "iopub.execute_input": "2021-02-22T10:35:19.190068Z",
     "iopub.status.busy": "2021-02-22T10:35:19.189946Z",
     "iopub.status.idle": "2021-02-22T10:35:19.330895Z",
     "shell.execute_reply": "2021-02-22T10:35:19.330457Z",
     "shell.execute_reply.started": "2021-02-22T10:35:19.190057Z"
    },
    "tags": []
   },
   "outputs": [],
   "source": [
    "files=get_image_files(path)"
   ]
  },
  {
   "cell_type": "code",
   "execution_count": 5,
   "id": "built-pierre",
   "metadata": {
    "execution": {
     "iopub.execute_input": "2021-02-22T10:35:19.331451Z",
     "iopub.status.busy": "2021-02-22T10:35:19.331348Z",
     "iopub.status.idle": "2021-02-22T10:35:25.855043Z",
     "shell.execute_reply": "2021-02-22T10:35:25.854564Z",
     "shell.execute_reply.started": "2021-02-22T10:35:19.331440Z"
    },
    "tags": []
   },
   "outputs": [
    {
     "data": {
      "text/html": [
       "<div>\n",
       "<style scoped>\n",
       "    .dataframe tbody tr th:only-of-type {\n",
       "        vertical-align: middle;\n",
       "    }\n",
       "\n",
       "    .dataframe tbody tr th {\n",
       "        vertical-align: top;\n",
       "    }\n",
       "\n",
       "    .dataframe thead th {\n",
       "        text-align: right;\n",
       "    }\n",
       "</style>\n",
       "<table border=\"1\" class=\"dataframe\">\n",
       "  <thead>\n",
       "    <tr style=\"text-align: right;\">\n",
       "      <th></th>\n",
       "      <th>image_id</th>\n",
       "      <th>label</th>\n",
       "    </tr>\n",
       "  </thead>\n",
       "  <tbody>\n",
       "    <tr>\n",
       "      <th>0</th>\n",
       "      <td>train-cbsd-1203.jpg</td>\n",
       "      <td>1</td>\n",
       "    </tr>\n",
       "    <tr>\n",
       "      <th>1</th>\n",
       "      <td>train-cbsd-1133.jpg</td>\n",
       "      <td>1</td>\n",
       "    </tr>\n",
       "    <tr>\n",
       "      <th>2</th>\n",
       "      <td>train-cbsd-801.jpg</td>\n",
       "      <td>1</td>\n",
       "    </tr>\n",
       "    <tr>\n",
       "      <th>3</th>\n",
       "      <td>train-cbsd-880.jpg</td>\n",
       "      <td>1</td>\n",
       "    </tr>\n",
       "    <tr>\n",
       "      <th>4</th>\n",
       "      <td>train-cbsd-575.jpg</td>\n",
       "      <td>1</td>\n",
       "    </tr>\n",
       "    <tr>\n",
       "      <th>...</th>\n",
       "      <td>...</td>\n",
       "      <td>...</td>\n",
       "    </tr>\n",
       "    <tr>\n",
       "      <th>5651</th>\n",
       "      <td>train-cbb-420.jpg</td>\n",
       "      <td>0</td>\n",
       "    </tr>\n",
       "    <tr>\n",
       "      <th>5652</th>\n",
       "      <td>train-cbb-347.jpg</td>\n",
       "      <td>0</td>\n",
       "    </tr>\n",
       "    <tr>\n",
       "      <th>5653</th>\n",
       "      <td>train-cbb-196.jpg</td>\n",
       "      <td>0</td>\n",
       "    </tr>\n",
       "    <tr>\n",
       "      <th>5654</th>\n",
       "      <td>train-cbb-24.jpg</td>\n",
       "      <td>0</td>\n",
       "    </tr>\n",
       "    <tr>\n",
       "      <th>5655</th>\n",
       "      <td>train-cbb-188.jpg</td>\n",
       "      <td>0</td>\n",
       "    </tr>\n",
       "  </tbody>\n",
       "</table>\n",
       "<p>5656 rows × 2 columns</p>\n",
       "</div>"
      ],
      "text/plain": [
       "                 image_id label\n",
       "0     train-cbsd-1203.jpg     1\n",
       "1     train-cbsd-1133.jpg     1\n",
       "2      train-cbsd-801.jpg     1\n",
       "3      train-cbsd-880.jpg     1\n",
       "4      train-cbsd-575.jpg     1\n",
       "...                   ...   ...\n",
       "5651    train-cbb-420.jpg     0\n",
       "5652    train-cbb-347.jpg     0\n",
       "5653    train-cbb-196.jpg     0\n",
       "5654     train-cbb-24.jpg     0\n",
       "5655    train-cbb-188.jpg     0\n",
       "\n",
       "[5656 rows x 2 columns]"
      ]
     },
     "execution_count": 5,
     "metadata": {},
     "output_type": "execute_result"
    }
   ],
   "source": [
    "for f in files:\n",
    "        \n",
    "    if f.parts[-1].startswith('train-cbb'):\n",
    "        df = df.append({'image_id': f.parts[-1], 'label': 0}, ignore_index=True)\n",
    "\n",
    "    if f.parts[-1].startswith('train-cbsd'):\n",
    "        df = df.append({'image_id': f.parts[-1], 'label': 1}, ignore_index=True)\n",
    "        \n",
    "    if f.parts[-1].startswith('train-cgm'):\n",
    "        df = df.append({'image_id': f.parts[-1], 'label': 2}, ignore_index=True)\n",
    "        \n",
    "    if f.parts[-1].startswith('train-cmd'):\n",
    "        df = df.append({'image_id': f.parts[-1], 'label': 3}, ignore_index=True)\n",
    "        \n",
    "    if f.parts[-1].startswith('train-healthy'):\n",
    "        df = df.append({'image_id': f.parts[-1], 'label': 4}, ignore_index=True)\n",
    "        \n",
    "df"
   ]
  },
  {
   "cell_type": "code",
   "execution_count": 6,
   "id": "retained-ecology",
   "metadata": {
    "execution": {
     "iopub.execute_input": "2021-02-22T10:35:25.856757Z",
     "iopub.status.busy": "2021-02-22T10:35:25.856559Z",
     "iopub.status.idle": "2021-02-22T10:35:25.867169Z",
     "shell.execute_reply": "2021-02-22T10:35:25.866820Z",
     "shell.execute_reply.started": "2021-02-22T10:35:25.856736Z"
    }
   },
   "outputs": [],
   "source": [
    "df.to_csv('../../data/extra_files.csv', index=False)"
   ]
  },
  {
   "cell_type": "code",
   "execution_count": 7,
   "id": "understanding-consequence",
   "metadata": {
    "execution": {
     "iopub.execute_input": "2021-02-22T10:35:25.867781Z",
     "iopub.status.busy": "2021-02-22T10:35:25.867681Z",
     "iopub.status.idle": "2021-02-22T10:35:25.876013Z",
     "shell.execute_reply": "2021-02-22T10:35:25.875681Z",
     "shell.execute_reply.started": "2021-02-22T10:35:25.867770Z"
    }
   },
   "outputs": [],
   "source": [
    "old_df = pd.read_csv('../../data/train.csv')"
   ]
  },
  {
   "cell_type": "code",
   "execution_count": 9,
   "id": "worthy-planning",
   "metadata": {
    "execution": {
     "iopub.execute_input": "2021-02-22T10:35:25.881917Z",
     "iopub.status.busy": "2021-02-22T10:35:25.881815Z",
     "iopub.status.idle": "2021-02-22T10:35:25.886423Z",
     "shell.execute_reply": "2021-02-22T10:35:25.886116Z",
     "shell.execute_reply.started": "2021-02-22T10:35:25.881906Z"
    },
    "tags": []
   },
   "outputs": [
    {
     "data": {
      "text/plain": [
       "label\n",
       "0     1087\n",
       "1     2189\n",
       "2     2386\n",
       "3    13158\n",
       "4     2577\n",
       "dtype: int64"
      ]
     },
     "execution_count": 9,
     "metadata": {},
     "output_type": "execute_result"
    }
   ],
   "source": [
    "old_df.sort_values('label', inplace=True)\n",
    "# old_df.value_counts('label', sort=False)\n",
    "df.sort_values('label', inplace=True)\n",
    "# df.value_counts('label', sort=False)"
   ]
  },
  {
   "cell_type": "markdown",
   "id": "centered-learning",
   "metadata": {},
   "source": [
    "### Combine the old and new data"
   ]
  },
  {
   "cell_type": "code",
   "execution_count": 11,
   "id": "sporting-inquiry",
   "metadata": {
    "execution": {
     "iopub.execute_input": "2021-02-22T10:35:25.893112Z",
     "iopub.status.busy": "2021-02-22T10:35:25.893008Z",
     "iopub.status.idle": "2021-02-22T10:35:25.896321Z",
     "shell.execute_reply": "2021-02-22T10:35:25.895909Z",
     "shell.execute_reply.started": "2021-02-22T10:35:25.893101Z"
    },
    "tags": []
   },
   "outputs": [],
   "source": [
    "df_extra = df.append(old_df, ignore_index=True, sort=True)"
   ]
  },
  {
   "cell_type": "code",
   "execution_count": 12,
   "id": "incorporated-archives",
   "metadata": {
    "execution": {
     "iopub.execute_input": "2021-02-22T10:35:25.896829Z",
     "iopub.status.busy": "2021-02-22T10:35:25.896729Z",
     "iopub.status.idle": "2021-02-22T10:35:25.900042Z",
     "shell.execute_reply": "2021-02-22T10:35:25.899725Z",
     "shell.execute_reply.started": "2021-02-22T10:35:25.896819Z"
    },
    "tags": []
   },
   "outputs": [],
   "source": [
    "df_extra.loc[:,'label'] = df_extra['label'].astype(int)"
   ]
  },
  {
   "cell_type": "code",
   "execution_count": 13,
   "id": "above-associate",
   "metadata": {
    "execution": {
     "iopub.execute_input": "2021-02-22T10:35:25.900517Z",
     "iopub.status.busy": "2021-02-22T10:35:25.900417Z",
     "iopub.status.idle": "2021-02-22T10:35:25.979067Z",
     "shell.execute_reply": "2021-02-22T10:35:25.978699Z",
     "shell.execute_reply.started": "2021-02-22T10:35:25.900507Z"
    },
    "tags": []
   },
   "outputs": [
    {
     "data": {
      "text/plain": [
       "<BarContainer object of 5 artists>"
      ]
     },
     "execution_count": 13,
     "metadata": {},
     "output_type": "execute_result"
    },
    {
     "data": {
      "image/png": "[encoded data removed]",
      "text/plain": [
       "<Figure size 1080x600 with 1 Axes>"
      ]
     },
     "metadata": {},
     "output_type": "display_data"
    }
   ],
   "source": [
    "plt.bar(cat_names, df_extra.loc[:,'label'].value_counts(sort=False))"
   ]
  },
  {
   "cell_type": "code",
   "execution_count": 15,
   "id": "special-masters",
   "metadata": {
    "execution": {
     "iopub.execute_input": "2021-02-22T10:35:26.001821Z",
     "iopub.status.busy": "2021-02-22T10:35:26.001720Z",
     "iopub.status.idle": "2021-02-22T10:35:26.006819Z",
     "shell.execute_reply": "2021-02-22T10:35:26.006480Z",
     "shell.execute_reply.started": "2021-02-22T10:35:26.001810Z"
    },
    "tags": []
   },
   "outputs": [
    {
     "data": {
      "text/plain": [
       "array([3.48396652, 1.48970264, 1.7127572 , 0.34209661, 1.87023851])"
      ]
     },
     "execution_count": 15,
     "metadata": {},
     "output_type": "execute_result"
    }
   ],
   "source": [
    "from sklearn.utils.class_weight import compute_class_weight\n",
    "# some = mms.fit_transform(df_extra['label'].value_counts(sort=False).values.reshape(-1,1))\n",
    "compute_class_weight('balanced', classes=df_extra.label.unique(), y=df_extra.label)"
   ]
  },
  {
   "cell_type": "markdown",
   "id": "revised-system",
   "metadata": {},
   "source": [
    "### Stratified split for the test set"
   ]
  },
  {
   "cell_type": "code",
   "execution_count": 16,
   "id": "mechanical-optimum",
   "metadata": {
    "execution": {
     "iopub.execute_input": "2021-02-22T10:35:26.007292Z",
     "iopub.status.busy": "2021-02-22T10:35:26.007193Z",
     "iopub.status.idle": "2021-02-22T10:35:26.012594Z",
     "shell.execute_reply": "2021-02-22T10:35:26.012247Z",
     "shell.execute_reply.started": "2021-02-22T10:35:26.007281Z"
    },
    "tags": []
   },
   "outputs": [],
   "source": [
    "df_test = df_extra.groupby('label', group_keys=False).apply(lambda x: x.sample(frac=0.1))"
   ]
  },
  {
   "cell_type": "markdown",
   "id": "informative-speaking",
   "metadata": {
    "execution": {
     "iopub.execute_input": "2021-02-22T10:29:09.789545Z",
     "iopub.status.busy": "2021-02-22T10:29:09.789295Z",
     "iopub.status.idle": "2021-02-22T10:29:09.792825Z",
     "shell.execute_reply": "2021-02-22T10:29:09.792365Z",
     "shell.execute_reply.started": "2021-02-22T10:29:09.789523Z"
    }
   },
   "source": [
    "### remove the test sample from the original df"
   ]
  },
  {
   "cell_type": "code",
   "execution_count": 17,
   "id": "sonic-sequence",
   "metadata": {
    "execution": {
     "iopub.execute_input": "2021-02-22T10:35:26.013068Z",
     "iopub.status.busy": "2021-02-22T10:35:26.012969Z",
     "iopub.status.idle": "2021-02-22T10:35:26.016008Z",
     "shell.execute_reply": "2021-02-22T10:35:26.015663Z",
     "shell.execute_reply.started": "2021-02-22T10:35:26.013058Z"
    },
    "tags": []
   },
   "outputs": [],
   "source": [
    "df_extra = df_extra.drop(index=df_test.index)"
   ]
  },
  {
   "cell_type": "code",
   "execution_count": 18,
   "id": "interracial-charity",
   "metadata": {
    "execution": {
     "iopub.execute_input": "2021-02-22T10:35:26.016544Z",
     "iopub.status.busy": "2021-02-22T10:35:26.016444Z",
     "iopub.status.idle": "2021-02-22T10:35:26.021464Z",
     "shell.execute_reply": "2021-02-22T10:35:26.021124Z",
     "shell.execute_reply.started": "2021-02-22T10:35:26.016534Z"
    },
    "tags": []
   },
   "outputs": [
    {
     "data": {
      "text/html": [
       "<div>\n",
       "<style scoped>\n",
       "    .dataframe tbody tr th:only-of-type {\n",
       "        vertical-align: middle;\n",
       "    }\n",
       "\n",
       "    .dataframe tbody tr th {\n",
       "        vertical-align: top;\n",
       "    }\n",
       "\n",
       "    .dataframe thead th {\n",
       "        text-align: right;\n",
       "    }\n",
       "</style>\n",
       "<table border=\"1\" class=\"dataframe\">\n",
       "  <thead>\n",
       "    <tr style=\"text-align: right;\">\n",
       "      <th></th>\n",
       "      <th>image_id</th>\n",
       "      <th>label</th>\n",
       "    </tr>\n",
       "  </thead>\n",
       "  <tbody>\n",
       "    <tr>\n",
       "      <th>0</th>\n",
       "      <td>train-cbb-188.jpg</td>\n",
       "      <td>0</td>\n",
       "    </tr>\n",
       "    <tr>\n",
       "      <th>1</th>\n",
       "      <td>train-cbb-255.jpg</td>\n",
       "      <td>0</td>\n",
       "    </tr>\n",
       "    <tr>\n",
       "      <th>2</th>\n",
       "      <td>train-cbb-273.jpg</td>\n",
       "      <td>0</td>\n",
       "    </tr>\n",
       "    <tr>\n",
       "      <th>3</th>\n",
       "      <td>train-cbb-13.jpg</td>\n",
       "      <td>0</td>\n",
       "    </tr>\n",
       "    <tr>\n",
       "      <th>4</th>\n",
       "      <td>train-cbb-76.jpg</td>\n",
       "      <td>0</td>\n",
       "    </tr>\n",
       "    <tr>\n",
       "      <th>...</th>\n",
       "      <td>...</td>\n",
       "      <td>...</td>\n",
       "    </tr>\n",
       "    <tr>\n",
       "      <th>27048</th>\n",
       "      <td>1983411262.jpg</td>\n",
       "      <td>4</td>\n",
       "    </tr>\n",
       "    <tr>\n",
       "      <th>27049</th>\n",
       "      <td>1982908964.jpg</td>\n",
       "      <td>4</td>\n",
       "    </tr>\n",
       "    <tr>\n",
       "      <th>27050</th>\n",
       "      <td>4020138210.jpg</td>\n",
       "      <td>4</td>\n",
       "    </tr>\n",
       "    <tr>\n",
       "      <th>27051</th>\n",
       "      <td>1991094852.jpg</td>\n",
       "      <td>4</td>\n",
       "    </tr>\n",
       "    <tr>\n",
       "      <th>27052</th>\n",
       "      <td>999998473.jpg</td>\n",
       "      <td>4</td>\n",
       "    </tr>\n",
       "  </tbody>\n",
       "</table>\n",
       "<p>24348 rows × 2 columns</p>\n",
       "</div>"
      ],
      "text/plain": [
       "                image_id  label\n",
       "0      train-cbb-188.jpg      0\n",
       "1      train-cbb-255.jpg      0\n",
       "2      train-cbb-273.jpg      0\n",
       "3       train-cbb-13.jpg      0\n",
       "4       train-cbb-76.jpg      0\n",
       "...                  ...    ...\n",
       "27048     1983411262.jpg      4\n",
       "27049     1982908964.jpg      4\n",
       "27050     4020138210.jpg      4\n",
       "27051     1991094852.jpg      4\n",
       "27052      999998473.jpg      4\n",
       "\n",
       "[24348 rows x 2 columns]"
      ]
     },
     "execution_count": 18,
     "metadata": {},
     "output_type": "execute_result"
    }
   ],
   "source": [
    "df_extra"
   ]
  },
  {
   "cell_type": "code",
   "execution_count": 19,
   "id": "neutral-checklist",
   "metadata": {
    "execution": {
     "iopub.execute_input": "2021-02-22T10:35:26.021963Z",
     "iopub.status.busy": "2021-02-22T10:35:26.021861Z",
     "iopub.status.idle": "2021-02-22T10:35:26.026725Z",
     "shell.execute_reply": "2021-02-22T10:35:26.026394Z",
     "shell.execute_reply.started": "2021-02-22T10:35:26.021952Z"
    },
    "tags": []
   },
   "outputs": [
    {
     "data": {
      "text/html": [
       "<div>\n",
       "<style scoped>\n",
       "    .dataframe tbody tr th:only-of-type {\n",
       "        vertical-align: middle;\n",
       "    }\n",
       "\n",
       "    .dataframe tbody tr th {\n",
       "        vertical-align: top;\n",
       "    }\n",
       "\n",
       "    .dataframe thead th {\n",
       "        text-align: right;\n",
       "    }\n",
       "</style>\n",
       "<table border=\"1\" class=\"dataframe\">\n",
       "  <thead>\n",
       "    <tr style=\"text-align: right;\">\n",
       "      <th></th>\n",
       "      <th>image_id</th>\n",
       "      <th>label</th>\n",
       "    </tr>\n",
       "  </thead>\n",
       "  <tbody>\n",
       "    <tr>\n",
       "      <th>6712</th>\n",
       "      <td>1071960213.jpg</td>\n",
       "      <td>0</td>\n",
       "    </tr>\n",
       "    <tr>\n",
       "      <th>270</th>\n",
       "      <td>train-cbb-29.jpg</td>\n",
       "      <td>0</td>\n",
       "    </tr>\n",
       "    <tr>\n",
       "      <th>353</th>\n",
       "      <td>train-cbb-284.jpg</td>\n",
       "      <td>0</td>\n",
       "    </tr>\n",
       "    <tr>\n",
       "      <th>354</th>\n",
       "      <td>train-cbb-151.jpg</td>\n",
       "      <td>0</td>\n",
       "    </tr>\n",
       "    <tr>\n",
       "      <th>6240</th>\n",
       "      <td>249609077.jpg</td>\n",
       "      <td>0</td>\n",
       "    </tr>\n",
       "    <tr>\n",
       "      <th>...</th>\n",
       "      <td>...</td>\n",
       "      <td>...</td>\n",
       "    </tr>\n",
       "    <tr>\n",
       "      <th>25154</th>\n",
       "      <td>2609756462.jpg</td>\n",
       "      <td>4</td>\n",
       "    </tr>\n",
       "    <tr>\n",
       "      <th>25867</th>\n",
       "      <td>2654037367.jpg</td>\n",
       "      <td>4</td>\n",
       "    </tr>\n",
       "    <tr>\n",
       "      <th>25387</th>\n",
       "      <td>3757297104.jpg</td>\n",
       "      <td>4</td>\n",
       "    </tr>\n",
       "    <tr>\n",
       "      <th>5532</th>\n",
       "      <td>train-healthy-69.jpg</td>\n",
       "      <td>4</td>\n",
       "    </tr>\n",
       "    <tr>\n",
       "      <th>25652</th>\n",
       "      <td>2893323611.jpg</td>\n",
       "      <td>4</td>\n",
       "    </tr>\n",
       "  </tbody>\n",
       "</table>\n",
       "<p>2705 rows × 2 columns</p>\n",
       "</div>"
      ],
      "text/plain": [
       "                   image_id  label\n",
       "6712         1071960213.jpg      0\n",
       "270        train-cbb-29.jpg      0\n",
       "353       train-cbb-284.jpg      0\n",
       "354       train-cbb-151.jpg      0\n",
       "6240          249609077.jpg      0\n",
       "...                     ...    ...\n",
       "25154        2609756462.jpg      4\n",
       "25867        2654037367.jpg      4\n",
       "25387        3757297104.jpg      4\n",
       "5532   train-healthy-69.jpg      4\n",
       "25652        2893323611.jpg      4\n",
       "\n",
       "[2705 rows x 2 columns]"
      ]
     },
     "execution_count": 19,
     "metadata": {},
     "output_type": "execute_result"
    }
   ],
   "source": [
    "df_test"
   ]
  },
  {
   "cell_type": "code",
   "execution_count": 20,
   "id": "interstate-personality",
   "metadata": {
    "execution": {
     "iopub.execute_input": "2021-02-22T10:38:22.693122Z",
     "iopub.status.busy": "2021-02-22T10:38:22.692870Z",
     "iopub.status.idle": "2021-02-22T10:38:22.720042Z",
     "shell.execute_reply": "2021-02-22T10:38:22.719673Z",
     "shell.execute_reply.started": "2021-02-22T10:38:22.693099Z"
    }
   },
   "outputs": [],
   "source": [
    "df_extra.to_csv('../../data/all_train_files.csv', index=False)\n",
    "df_test.to_csv('../../data/all_test_files.csv', index=False)"
   ]
  },
  {
   "cell_type": "code",
   "execution_count": null,
   "id": "beginning-northwest",
   "metadata": {},
   "outputs": [],
   "source": []
  }
 ],
 "metadata": {
  "kernelspec": {
   "display_name": "Python 3",
   "language": "python",
   "name": "python3"
  },
  "language_info": {
   "codemirror_mode": {
    "name": "ipython",
    "version": 3
   },
   "file_extension": ".py",
   "mimetype": "text/x-python",
   "name": "python",
   "nbconvert_exporter": "python",
   "pygments_lexer": "ipython3",
   "version": "3.8.6"
  },
  "widgets": {
   "application/vnd.jupyter.widget-state+json": {
    "state": {},
    "version_major": 2,
    "version_minor": 0
   }
  }
 },
 "nbformat": 4,
 "nbformat_minor": 5
}
