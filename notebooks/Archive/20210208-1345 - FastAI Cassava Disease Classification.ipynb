{
 "cells": [
  {
   "cell_type": "markdown",
   "id": "express-pointer",
   "metadata": {},
   "source": [
    "# FastAI Cassava Root Disease Classification"
   ]
  },
  {
   "cell_type": "code",
   "execution_count": 1,
   "id": "martial-owner",
   "metadata": {
    "execution": {
     "iopub.execute_input": "2021-02-08T09:27:44.615167Z",
     "iopub.status.busy": "2021-02-08T09:27:44.614871Z",
     "iopub.status.idle": "2021-02-08T09:27:45.691600Z",
     "shell.execute_reply": "2021-02-08T09:27:45.691156Z",
     "shell.execute_reply.started": "2021-02-08T09:27:44.615100Z"
    }
   },
   "outputs": [
    {
     "name": "stdout",
     "output_type": "stream",
     "text": [
      "RUN_NAME = '20210208-0127 - arch=tf_efficientnet_b4_ns - samples=1800 frozen=1 epochs=40 bs=12 res=380'\n"
     ]
    }
   ],
   "source": [
    "from datetime import datetime\n",
    "from fastbook import *\n",
    "from fastai.vision.all import *\n",
    "from fastai.vision.widgets import *\n",
    "import fastai\n",
    "import matplotlib.pyplot as plt\n",
    "import matplotlib.ticker as ticker\n",
    "from string import ascii_uppercase\n",
    "import numpy as np\n",
    "import operator\n",
    "import glob\n",
    "\n",
    "\n",
    "# %matplotlib inline\n",
    "\n",
    "%matplotlib widget\n",
    "\n",
    "plt.rcParams['figure.figsize'] = [9, 5]\n",
    "plt.rcParams['figure.dpi'] = 120\n",
    "plt.style.use('dark_background')\n",
    "\n",
    "\n",
    "ARCH = 'tf_efficientnet_b4_ns'  # resnet101\n",
    "\n",
    "CHOSEN_SAMPLE_SIZE = 1800  # use this to control per-category sample sizes # 1000  # deprecated but not removed\n",
    "# TEST_SET_SIZE = round(CHOSEN_SAMPLE_SIZE * 0.1)  # number of images per category to put in the test set\n",
    "FROZEN_EPOCHS = 1  # 1\n",
    "EPOCHS = 40  # 4\n",
    "BATCH_SIZE = 12  # 16\n",
    "RESOLUTION = 380  # 300\n",
    "PRETRAINED_FLAG = True\n",
    "\n",
    "# data = ''\n",
    "# rn_addon = f'_data={data}'\n",
    "\n",
    "time = datetime.today().strftime(\"%Y%m%d-%H%M\")\n",
    "\n",
    "# RUN_NAME = f'{time} - arch={ARCH.__name__} - samples={CHOSEN_SAMPLE_SIZE} frozen={FROZEN_EPOCHS} epochs={EPOCHS} bs={BATCH_SIZE} res={RESOLUTION}'\n",
    "RUN_NAME = f'{time} - arch={ARCH} - samples={CHOSEN_SAMPLE_SIZE} frozen={FROZEN_EPOCHS} epochs={EPOCHS} bs={BATCH_SIZE} res={RESOLUTION}'\n",
    "\n",
    "print(f\"RUN_NAME = '{RUN_NAME}'\")\n"
   ]
  },
  {
   "cell_type": "code",
   "execution_count": 2,
   "id": "opponent-portrait",
   "metadata": {
    "execution": {
     "iopub.execute_input": "2021-02-08T09:27:48.663113Z",
     "iopub.status.busy": "2021-02-08T09:27:48.662859Z",
     "iopub.status.idle": "2021-02-08T09:27:48.667775Z",
     "shell.execute_reply": "2021-02-08T09:27:48.667425Z",
     "shell.execute_reply.started": "2021-02-08T09:27:48.663091Z"
    }
   },
   "outputs": [
    {
     "name": "stdout",
     "output_type": "stream",
     "text": [
      "CUDA available:              True\n",
      "CUDA device count:           1\n",
      "Current CUDA Device index:   0\n",
      "Current CUDA Device:         GeForce RTX 2070 SUPER\n",
      "\n",
      "fastai version:              2.2.2\n",
      "cuda version:                11.0\n",
      "torch version:               1.7.0\n"
     ]
    }
   ],
   "source": [
    "import torch\n",
    "print('CUDA available: '.ljust(28), torch.cuda.is_available())\n",
    "print('CUDA device count: '.ljust(28), torch.cuda.device_count())\n",
    "\n",
    "current_device = torch.cuda.current_device()\n",
    "print('Current CUDA Device index: '.ljust(28), current_device)\n",
    "# torch.cuda.device(current_device)\n",
    "print('Current CUDA Device: '.ljust(28), torch.cuda.get_device_name(current_device))\n",
    "print()\n",
    "# print('CUDA available: '.ljust(24), torch.cuda.is_available())\n",
    "print(f'fastai version:              {fastai.__version__}')\n",
    "# print(f'fastcore version:            {fastcore.__version__}')\n",
    "# print(f'fastbook version:            {fastbook.__version__}')\n",
    "print(f'cuda version:                {torch.version.cuda}')\n",
    "print(f'torch version:               {torch.__version__}')\n",
    "# print(f'python version:              {python_version()}')"
   ]
  },
  {
   "cell_type": "markdown",
   "id": "metropolitan-catalyst",
   "metadata": {},
   "source": [
    "<br>\n",
    "<br>"
   ]
  },
  {
   "cell_type": "markdown",
   "id": "funded-decimal",
   "metadata": {},
   "source": [
    "## Utillity Functions\n",
    "\n"
   ]
  },
  {
   "cell_type": "code",
   "execution_count": 3,
   "id": "reported-roller",
   "metadata": {
    "execution": {
     "iopub.execute_input": "2021-02-08T09:27:50.880750Z",
     "iopub.status.busy": "2021-02-08T09:27:50.880467Z",
     "iopub.status.idle": "2021-02-08T09:27:50.937661Z",
     "shell.execute_reply": "2021-02-08T09:27:50.937300Z",
     "shell.execute_reply.started": "2021-02-08T09:27:50.880724Z"
    }
   },
   "outputs": [],
   "source": [
    "from timm import create_model\n",
    "from fastai.vision.learner import _update_first_layer\n",
    "\n",
    "def create_timm_body(arch:str, pretrained=True, cut=None, n_in=3):\n",
    "    \"Creates a body from any model in the `timm` library.\"\n",
    "    model = create_model(arch, pretrained=pretrained, num_classes=0, global_pool='')\n",
    "    _update_first_layer(model, n_in, pretrained)\n",
    "    if cut is None:\n",
    "        ll = list(enumerate(model.children()))\n",
    "        cut = next(i for i,o in reversed(ll) if has_pool_type(o))\n",
    "    if isinstance(cut, int): return nn.Sequential(*list(model.children())[:cut])\n",
    "    elif callable(cut): return cut(model)\n",
    "    else: raise NamedError(\"cut must be either integer or function\")\n",
    "        \n",
    "def create_timm_model(arch:str, n_out, cut=None, pretrained=True, n_in=3, init=nn.init.kaiming_normal_, custom_head=None,\n",
    "                     concat_pool=False, **kwargs):\n",
    "    \"Create custom architecture using `arch`, `n_in` and `n_out` from the `timm` library\"\n",
    "    body = create_timm_body(arch, pretrained, None, n_in)\n",
    "    if custom_head is None:\n",
    "        nf = num_features_model(nn.Sequential(*body.children())) * (2 if concat_pool else 1)\n",
    "        head = create_head(nf, n_out, concat_pool=concat_pool, **kwargs)\n",
    "    else: head = custom_head\n",
    "    model = nn.Sequential(body, head)\n",
    "    if init is not None: apply_init(model[1], init)\n",
    "    return model\n",
    "\n",
    "\n",
    "def timm_learner(dls, arch:str, loss_func=None, pretrained=True, cut=None, splitter=None,\n",
    "                y_range=None, config=None, n_out=None, normalize=True, **kwargs):\n",
    "    \"Build a convnet style learner from `dls` and `arch` using the `timm` library\"\n",
    "    if config is None: config = {}\n",
    "    if n_out is None: n_out = get_c(dls)\n",
    "    assert n_out, \"`n_out` is not defined, and could not be inferred from data, set `dls.c` or pass `n_out`\"\n",
    "    if y_range is None and 'y_range' in config: y_range = config.pop('y_range')\n",
    "    model = create_timm_model(arch, n_out, default_split, pretrained, y_range=y_range, **config)\n",
    "    learn = Learner(dls, model, loss_func=loss_func, splitter=default_split, **kwargs)\n",
    "    if pretrained: learn.freeze()\n",
    "    return learn"
   ]
  },
  {
   "cell_type": "markdown",
   "id": "apart-marina",
   "metadata": {},
   "source": [
    "<br>\n",
    "<br>"
   ]
  },
  {
   "cell_type": "markdown",
   "id": "addressed-means",
   "metadata": {},
   "source": [
    "### Check for Imbalance"
   ]
  },
  {
   "cell_type": "code",
   "execution_count": 4,
   "id": "sensitive-police",
   "metadata": {
    "execution": {
     "iopub.execute_input": "2021-02-08T09:27:55.316447Z",
     "iopub.status.busy": "2021-02-08T09:27:55.316188Z",
     "iopub.status.idle": "2021-02-08T09:27:55.319162Z",
     "shell.execute_reply": "2021-02-08T09:27:55.318646Z",
     "shell.execute_reply.started": "2021-02-08T09:27:55.316421Z"
    }
   },
   "outputs": [],
   "source": [
    "classes = ['cbb', 'cbsd', 'cgm', 'cmd', 'healthy']"
   ]
  },
  {
   "cell_type": "code",
   "execution_count": 5,
   "id": "outdoor-store",
   "metadata": {
    "execution": {
     "iopub.execute_input": "2021-02-08T09:27:58.501703Z",
     "iopub.status.busy": "2021-02-08T09:27:58.501425Z",
     "iopub.status.idle": "2021-02-08T09:27:58.643822Z",
     "shell.execute_reply": "2021-02-08T09:27:58.643313Z",
     "shell.execute_reply.started": "2021-02-08T09:27:58.501675Z"
    }
   },
   "outputs": [
    {
     "data": {
      "application/vnd.jupyter.widget-view+json": {
       "model_id": "265b926b0e8d4d38b60e1e04ffecaa14",
       "version_major": 2,
       "version_minor": 0
      },
      "text/plain": [
       "Canvas(toolbar=Toolbar(toolitems=[('Home', 'Reset original view', 'home', 'home'), ('Back', 'Back to previous …"
      ]
     },
     "metadata": {},
     "output_type": "display_data"
    }
   ],
   "source": [
    "path = '../data/train_images_sorted'\n",
    "\n",
    "img_flist = {}\n",
    "img_quants = {}\n",
    "\n",
    "for c in classes:\n",
    "    files = get_image_files(f'{path}/{c}')\n",
    "    img_flist[c] = list(files)\n",
    "    img_quants[c] = len(files)\n",
    "\n",
    "minqc = min(img_quants, key=img_quants.get)\n",
    "\n",
    "sample_size = round(img_quants[minqc] * 2.5)  # oversample the lowest class quantity\n",
    "\n",
    "\n",
    "plt.figure(figsize=(6,3))\n",
    "plt.bar(img_quants.keys(), img_quants.values())  \n",
    "plt.axhline(sample_size, ls='--', color='red', label='Chosen Sample Size')\n",
    "plt.legend()\n",
    "plt.show()\n",
    "        "
   ]
  },
  {
   "cell_type": "code",
   "execution_count": 6,
   "id": "important-group",
   "metadata": {
    "execution": {
     "iopub.execute_input": "2021-02-08T09:28:01.402650Z",
     "iopub.status.busy": "2021-02-08T09:28:01.402360Z",
     "iopub.status.idle": "2021-02-08T09:28:01.451171Z",
     "shell.execute_reply": "2021-02-08T09:28:01.450894Z",
     "shell.execute_reply.started": "2021-02-08T09:28:01.402622Z"
    }
   },
   "outputs": [
    {
     "data": {
      "application/vnd.jupyter.widget-view+json": {
       "model_id": "302ce04542f748b4a56f49f05a6e8dd7",
       "version_major": 2,
       "version_minor": 0
      },
      "text/plain": [
       "Canvas(toolbar=Toolbar(toolitems=[('Home', 'Reset original view', 'home', 'home'), ('Back', 'Back to previous …"
      ]
     },
     "metadata": {},
     "output_type": "display_data"
    }
   ],
   "source": [
    "\n",
    "for c in classes:\n",
    "    if len(img_flist[c]) < sample_size:\n",
    "#         all_covid = img_flist[c].copy()\n",
    "        img_flist[c] = np.append(img_flist[c], np.random.choice(img_flist[c], sample_size - len(img_flist[c]), replace=True))\n",
    "    else:\n",
    "        img_flist[c] = np.random.choice(img_flist[c], sample_size, replace=False)  # without replacement\n",
    "\n",
    "        \n",
    "plt.figure(figsize=(6,3))\n",
    "plt.bar(img_flist.keys(), [len(l) for l in img_flist.values()])\n",
    "plt.show()"
   ]
  },
  {
   "cell_type": "code",
   "execution_count": 7,
   "id": "modified-shore",
   "metadata": {
    "execution": {
     "iopub.execute_input": "2021-02-08T09:28:02.616306Z",
     "iopub.status.busy": "2021-02-08T09:28:02.616057Z",
     "iopub.status.idle": "2021-02-08T09:28:02.620780Z",
     "shell.execute_reply": "2021-02-08T09:28:02.620358Z",
     "shell.execute_reply.started": "2021-02-08T09:28:02.616284Z"
    }
   },
   "outputs": [],
   "source": [
    "test_flist = {}\n",
    "test_size = round(0.1 * sample_size)\n",
    "\n",
    "for c in classes:\n",
    "    img_flist[c] = np.random.choice(img_flist[c], len(img_flist[c]), replace=False)  # shuffle\n",
    "    test_flist[c] = img_flist[c][0:test_size]\n",
    "    img_flist[c] = img_flist[c][test_size:]\n",
    "#     img_flist[c] = [f for f in img_flist[c] if f not in test_flist[c]]"
   ]
  },
  {
   "cell_type": "code",
   "execution_count": 8,
   "id": "burning-surname",
   "metadata": {
    "execution": {
     "iopub.execute_input": "2021-02-08T09:28:03.099982Z",
     "iopub.status.busy": "2021-02-08T09:28:03.099719Z",
     "iopub.status.idle": "2021-02-08T09:28:03.145464Z",
     "shell.execute_reply": "2021-02-08T09:28:03.145146Z",
     "shell.execute_reply.started": "2021-02-08T09:28:03.099958Z"
    }
   },
   "outputs": [
    {
     "data": {
      "application/vnd.jupyter.widget-view+json": {
       "model_id": "8497eac142ff48aab4f12ebe17dc0ab4",
       "version_major": 2,
       "version_minor": 0
      },
      "text/plain": [
       "Canvas(toolbar=Toolbar(toolitems=[('Home', 'Reset original view', 'home', 'home'), ('Back', 'Back to previous …"
      ]
     },
     "metadata": {},
     "output_type": "display_data"
    },
    {
     "data": {
      "application/vnd.jupyter.widget-view+json": {
       "model_id": "5955cff22a3848c9b70b9b297567cb67",
       "version_major": 2,
       "version_minor": 0
      },
      "text/plain": [
       "Canvas(toolbar=Toolbar(toolitems=[('Home', 'Reset original view', 'home', 'home'), ('Back', 'Back to previous …"
      ]
     },
     "metadata": {},
     "output_type": "display_data"
    }
   ],
   "source": [
    "plt.figure(figsize=(6,3))\n",
    "plt.title('Training Data')\n",
    "plt.bar(img_flist.keys(), [len(l) for l in img_flist.values()])\n",
    "plt.axhline(test_size, ls='--', color='red')\n",
    "plt.show()\n",
    "\n",
    "plt.figure(figsize=(6,3))\n",
    "plt.title('Validation Data')\n",
    "plt.bar(test_flist.keys(), [len(l) for l in test_flist.values()])\n",
    "plt.show()\n",
    "                 "
   ]
  },
  {
   "cell_type": "code",
   "execution_count": 66,
   "id": "funny-bones",
   "metadata": {
    "execution": {
     "iopub.execute_input": "2021-02-08T10:35:36.496455Z",
     "iopub.status.busy": "2021-02-08T10:35:36.496236Z",
     "iopub.status.idle": "2021-02-08T10:35:36.918828Z",
     "shell.execute_reply": "2021-02-08T10:35:36.918407Z",
     "shell.execute_reply.started": "2021-02-08T10:35:36.496435Z"
    }
   },
   "outputs": [],
   "source": [
    "def get_fnames(path):\n",
    "    retlist = []\n",
    "    \n",
    "    for l in img_flist.values():\n",
    "        for f in l:\n",
    "            retlist.append(f)\n",
    "            \n",
    "    return random.sample(retlist, len(retlist))\n",
    "\n",
    "batch_tfms = [ *aug_transforms(size=round(RESOLUTION * 0.5), do_flip=True, batch=True, max_zoom=1.7, mult=2.4), \n",
    "              Normalize.from_stats(*imagenet_stats) ]\n",
    "\n",
    "\n",
    "img_db = DataBlock(\n",
    "    blocks=(ImageBlock, CategoryBlock), \n",
    "    get_items=get_fnames, \n",
    "    splitter=RandomSplitter(valid_pct=0.28, seed=42),\n",
    "    get_y=parent_label,\n",
    "    item_tfms=Resize(RESOLUTION, method='bilinear') , batch_tfms=batch_tfms)\n",
    "\n",
    "dls = img_db.dataloaders(path, batch_size=round(BATCH_SIZE * 5))"
   ]
  },
  {
   "cell_type": "markdown",
   "id": "isolated-firewall",
   "metadata": {},
   "source": [
    "<br>\n",
    "\n",
    "### Verify the Training and Validation Batches"
   ]
  },
  {
   "cell_type": "code",
   "execution_count": 31,
   "id": "alien-suspect",
   "metadata": {
    "execution": {
     "iopub.execute_input": "2021-02-08T09:35:36.765080Z",
     "iopub.status.busy": "2021-02-08T09:35:36.764820Z",
     "iopub.status.idle": "2021-02-08T09:35:36.767563Z",
     "shell.execute_reply": "2021-02-08T09:35:36.767052Z",
     "shell.execute_reply.started": "2021-02-08T09:35:36.765056Z"
    }
   },
   "outputs": [],
   "source": [
    "# dls.valid.show_batch(max_n=16, nrows=4)"
   ]
  },
  {
   "cell_type": "code",
   "execution_count": 32,
   "id": "urban-plaintiff",
   "metadata": {
    "execution": {
     "iopub.execute_input": "2021-02-08T09:35:37.154176Z",
     "iopub.status.busy": "2021-02-08T09:35:37.153920Z",
     "iopub.status.idle": "2021-02-08T09:35:37.159494Z",
     "shell.execute_reply": "2021-02-08T09:35:37.159029Z",
     "shell.execute_reply.started": "2021-02-08T09:35:37.154152Z"
    }
   },
   "outputs": [
    {
     "name": "stdout",
     "output_type": "stream",
     "text": [
      "\n",
      "All Callbacks:  [ShowGraphCallback, SaveModelCallback, GradientAccumulation, ReduceLROnPlateau]\n"
     ]
    }
   ],
   "source": [
    "# Eary stopping callback\n",
    "early_stop_cb = EarlyStoppingCallback(monitor='error_rate', min_delta=0.0001, patience=5)\n",
    "\n",
    "# Save the current model's weights every epoch\n",
    "save_cb = SaveModelCallback(fname=RUN_NAME, every_epoch=True, with_opt=True)\n",
    "\n",
    "# Reduce the Learning Rate if valid_loss flatlines\n",
    "reduceLR_cb = ReduceLROnPlateau(monitor='valid_loss', min_delta=0.01, min_lr=1e-8, patience=2)\n",
    "\n",
    "# Mixup callback for regularization\n",
    "# mixup_cb = MixUp(alpha=0.2)\n",
    "mixup_cb = None\n",
    "\n",
    "# Cutmix callback for regularization\n",
    "#cutmix_cb = CutMix(alpha=0.3)\n",
    "cutmix_cb = None\n",
    "\n",
    "\n",
    "\n",
    "\n",
    "# List of callbacks to be used later\n",
    "cbs = [ShowGraphCallback(), save_cb, GradientAccumulation(n_acc=32), reduceLR_cb]\n",
    "\n",
    "if mixup_cb != None:\n",
    "    cbs.insert(0, mixup_cb)\n",
    "    \n",
    "if cutmix_cb != None:\n",
    "    cbs.insert(0, cutmix_cb)\n",
    "\n",
    "\n",
    "\n",
    "\n",
    "print('\\nAll Callbacks: ', cbs)"
   ]
  },
  {
   "cell_type": "markdown",
   "id": "matched-teens",
   "metadata": {},
   "source": [
    "### Visualize the effect of CutMix\n"
   ]
  },
  {
   "cell_type": "code",
   "execution_count": 33,
   "id": "imposed-jumping",
   "metadata": {
    "execution": {
     "iopub.execute_input": "2021-02-08T09:35:38.612410Z",
     "iopub.status.busy": "2021-02-08T09:35:38.612134Z",
     "iopub.status.idle": "2021-02-08T09:35:38.617562Z",
     "shell.execute_reply": "2021-02-08T09:35:38.617004Z",
     "shell.execute_reply.started": "2021-02-08T09:35:38.612386Z"
    }
   },
   "outputs": [
    {
     "name": "stdout",
     "output_type": "stream",
     "text": [
      "\n",
      " CutMix was not selected.\n"
     ]
    }
   ],
   "source": [
    "if cutmix_cb != None:\n",
    "    with Learner(dls, nn.Linear(3,4), loss_func=CrossEntropyLossFlat(), cbs=cutmix_cb) as learn:\n",
    "        learn.epoch,learn.training = 0,True\n",
    "        learn.dl = dls.train\n",
    "        b = dls.one_batch()\n",
    "        learn._split(b)\n",
    "        learn('before_batch')\n",
    "\n",
    "    _,axs = plt.subplots(3,3, figsize=(9,9))\n",
    "    dls.show_batch(b=(cutmix_cb.x,cutmix_cb.y), ctxs=axs.flatten())\n",
    "    \n",
    "else: print('\\n CutMix was not selected.')"
   ]
  },
  {
   "cell_type": "markdown",
   "id": "recent-shanghai",
   "metadata": {},
   "source": [
    "<br>\n",
    "\n",
    "### Visualize the Effect of MixUp\n",
    "\n",
    "MixUp creates a linear interpolation between the target data and another datapoint.  In images, it shows up as ghostly figures.  The technique has been shown to be a good to decrease the liklihood of overfitting."
   ]
  },
  {
   "cell_type": "code",
   "execution_count": 34,
   "id": "greenhouse-retrieval",
   "metadata": {
    "execution": {
     "iopub.execute_input": "2021-02-08T09:35:40.173296Z",
     "iopub.status.busy": "2021-02-08T09:35:40.173045Z",
     "iopub.status.idle": "2021-02-08T09:35:40.178063Z",
     "shell.execute_reply": "2021-02-08T09:35:40.177570Z",
     "shell.execute_reply.started": "2021-02-08T09:35:40.173273Z"
    }
   },
   "outputs": [
    {
     "name": "stdout",
     "output_type": "stream",
     "text": [
      "\n",
      " MixUp was not selected.\n"
     ]
    }
   ],
   "source": [
    "if mixup_cb != None:\n",
    "    with Learner(dls, nn.Linear(3,4), loss_func=CrossEntropyLossFlat(), cbs=mixup_cb) as learn:\n",
    "        learn.epoch,learn.training = 0,True\n",
    "        learn.dl = dls.train\n",
    "        b = dls.one_batch()\n",
    "        learn._split(b)\n",
    "        learn('before_batch')\n",
    "\n",
    "    _,axs = plt.subplots(3,3, figsize=(9,9))\n",
    "    dls.show_batch(b=(mixup_cb.x,mixup_cb.y), ctxs=axs.flatten())\n",
    "\n",
    "else: print('\\n MixUp was not selected.')"
   ]
  },
  {
   "cell_type": "code",
   "execution_count": 41,
   "id": "expanded-harvard",
   "metadata": {
    "execution": {
     "iopub.execute_input": "2021-02-08T09:38:05.614372Z",
     "iopub.status.busy": "2021-02-08T09:38:05.614069Z",
     "iopub.status.idle": "2021-02-08T09:38:05.959265Z",
     "shell.execute_reply": "2021-02-08T09:38:05.958927Z",
     "shell.execute_reply.started": "2021-02-08T09:38:05.614344Z"
    }
   },
   "outputs": [],
   "source": [
    "# learn = cnn_learner(dls, ARCH , \n",
    "#                     pretrained=PRETRAINED_FLAG, wd=1e-4, opt_func=ranger,\n",
    "#                     loss_func=LabelSmoothingCrossEntropyFlat(), \n",
    "#                     cbs = cbs, metrics=[error_rate, accuracy])\n",
    "\n",
    "# from wwf.vision.timm import *\n",
    "import timm\n",
    "learn = timm_learner(dls, \n",
    "                    'tf_efficientnet_b4_ns',\n",
    "                     opt_func=ranger,\n",
    "                     loss_func=LabelSmoothingCrossEntropy(),\n",
    "                     cbs=cbs,\n",
    "                     metrics = [top_k_accuracy, accuracy]).to_fp16()"
   ]
  },
  {
   "cell_type": "code",
   "execution_count": 42,
   "id": "female-chile",
   "metadata": {
    "execution": {
     "iopub.execute_input": "2021-02-08T09:38:06.748609Z",
     "iopub.status.busy": "2021-02-08T09:38:06.748358Z",
     "iopub.status.idle": "2021-02-08T09:38:06.752863Z",
     "shell.execute_reply": "2021-02-08T09:38:06.752396Z",
     "shell.execute_reply.started": "2021-02-08T09:38:06.748585Z"
    }
   },
   "outputs": [
    {
     "data": {
      "text/plain": [
       "LabelSmoothingCrossEntropy()"
      ]
     },
     "metadata": {},
     "output_type": "display_data"
    },
    {
     "data": {
      "text/plain": [
       "<function fastai.optimizer.ranger(p, lr, mom=0.95, wd=0.01, eps=1e-06, sqr_mom=0.99, beta=0.0, decouple_wd=True)>"
      ]
     },
     "metadata": {},
     "output_type": "display_data"
    }
   ],
   "source": [
    "display(learn.loss_func, learn.opt_func)"
   ]
  },
  {
   "cell_type": "markdown",
   "id": "stupid-consequence",
   "metadata": {},
   "source": [
    "<br>\n",
    "<br>\n",
    "<br>\n",
    "\n",
    "## Find a Good Learning Rate to Start With"
   ]
  },
  {
   "cell_type": "code",
   "execution_count": 70,
   "id": "adverse-trash",
   "metadata": {
    "execution": {
     "iopub.execute_input": "2021-02-08T10:39:21.458001Z",
     "iopub.status.busy": "2021-02-08T10:39:21.457670Z",
     "iopub.status.idle": "2021-02-08T10:39:21.467256Z",
     "shell.execute_reply": "2021-02-08T10:39:21.466724Z",
     "shell.execute_reply.started": "2021-02-08T10:39:21.457965Z"
    }
   },
   "outputs": [],
   "source": [
    "learn.dls = dls\n",
    "learn.freeze()"
   ]
  },
  {
   "cell_type": "code",
   "execution_count": 71,
   "id": "surprising-thesaurus",
   "metadata": {
    "execution": {
     "iopub.execute_input": "2021-02-08T10:39:26.594792Z",
     "iopub.status.busy": "2021-02-08T10:39:26.594416Z",
     "iopub.status.idle": "2021-02-08T10:39:26.598905Z",
     "shell.execute_reply": "2021-02-08T10:39:26.598401Z",
     "shell.execute_reply.started": "2021-02-08T10:39:26.594756Z"
    }
   },
   "outputs": [],
   "source": [
    "LR_DIV = 14e0  # Shift the lr_min left by this amount.  Adjust as necessary\n",
    "lr_min = 0.002  # just a default"
   ]
  },
  {
   "cell_type": "code",
   "execution_count": 72,
   "id": "national-buffer",
   "metadata": {
    "execution": {
     "iopub.execute_input": "2021-02-08T10:39:30.592572Z",
     "iopub.status.busy": "2021-02-08T10:39:30.592308Z",
     "iopub.status.idle": "2021-02-08T10:41:08.907271Z",
     "shell.execute_reply": "2021-02-08T10:41:08.906952Z",
     "shell.execute_reply.started": "2021-02-08T10:39:30.592548Z"
    }
   },
   "outputs": [
    {
     "data": {
      "text/html": [],
      "text/plain": [
       "<IPython.core.display.HTML object>"
      ]
     },
     "metadata": {},
     "output_type": "display_data"
    },
    {
     "data": {
      "application/vnd.jupyter.widget-view+json": {
       "model_id": "63fc60835adf49f19797020fa2f774f6",
       "version_major": 2,
       "version_minor": 0
      },
      "text/plain": [
       "Canvas(toolbar=Toolbar(toolitems=[('Home', 'Reset original view', 'home', 'home'), ('Back', 'Back to previous …"
      ]
     },
     "metadata": {},
     "output_type": "display_data"
    },
    {
     "name": "stdout",
     "output_type": "stream",
     "text": [
      "Minimum/10: 3.31e-07, steepest point: 1.91e-06, (Mim/10)/14.0: 2.365222339254355e-08\n"
     ]
    }
   ],
   "source": [
    "if PRETRAINED_FLAG == True:\n",
    "    learn.freeze()\n",
    "    lr_min,lr_steep = learn.lr_find()\n",
    "    plt.axvline(lr_min, ls='--', color='red', label=f'lr_min={round(lr_min,6)}')\n",
    "    plt.axvline(lr_min/LR_DIV, ls='--', color='yellow', label=f'lr_min / {LR_DIV}={round(lr_min/LR_DIV,6)}')\n",
    "    plt.axvline(lr_steep, ls='--', color='grey', label=f'lr_steep={round(lr_steep,6)}')\n",
    "    plt.legend()\n",
    "    plt.show()\n",
    "\n",
    "    print(f\"Minimum/10: {lr_min:.2e}, steepest point: {lr_steep:.2e}, (Mim/10)/{LR_DIV}: {lr_min/LR_DIV}\")"
   ]
  },
  {
   "cell_type": "markdown",
   "id": "comic-moment",
   "metadata": {},
   "source": [
    "<br>\n",
    "<br>"
   ]
  },
  {
   "cell_type": "markdown",
   "id": "immune-germany",
   "metadata": {},
   "source": [
    "# Pick a Good Initial Learning Rate"
   ]
  },
  {
   "cell_type": "code",
   "execution_count": 73,
   "id": "armed-twins",
   "metadata": {
    "execution": {
     "iopub.execute_input": "2021-02-08T10:43:02.668129Z",
     "iopub.status.busy": "2021-02-08T10:43:02.667898Z",
     "iopub.status.idle": "2021-02-08T10:43:02.671264Z",
     "shell.execute_reply": "2021-02-08T10:43:02.670871Z",
     "shell.execute_reply.started": "2021-02-08T10:43:02.668109Z"
    }
   },
   "outputs": [],
   "source": [
    "# LR_CHOICE = lr_min/LR_DIV\n",
    "#LR_CHOICE = lr_min\n",
    "# LR_CHOICE = lr_steep\n",
    "# LR_CHOICE = 0.013\n",
    "LR_CHOICE = 1e-5"
   ]
  },
  {
   "cell_type": "markdown",
   "id": "three-prayer",
   "metadata": {},
   "source": [
    "<br>\n",
    "<br>"
   ]
  },
  {
   "cell_type": "markdown",
   "id": "destroyed-consistency",
   "metadata": {},
   "source": [
    "<br>\n",
    "<br>"
   ]
  },
  {
   "cell_type": "markdown",
   "id": "cubic-honor",
   "metadata": {},
   "source": [
    "# Training the Model"
   ]
  },
  {
   "cell_type": "markdown",
   "id": "aggregate-hungary",
   "metadata": {
    "slideshow": {
     "slide_type": "slide"
    }
   },
   "source": [
    "<br>\n",
    "\n",
    "## Fit the last layers, unfreeze, fit the whole net, with a decent initial LR, all in one go.\n",
    "\n"
   ]
  },
  {
   "cell_type": "code",
   "execution_count": 74,
   "id": "atomic-satisfaction",
   "metadata": {
    "execution": {
     "iopub.execute_input": "2021-02-08T10:44:01.794033Z",
     "iopub.status.busy": "2021-02-08T10:44:01.793775Z",
     "iopub.status.idle": "2021-02-08T10:46:39.562699Z",
     "shell.execute_reply": "2021-02-08T10:46:39.562314Z",
     "shell.execute_reply.started": "2021-02-08T10:44:01.794009Z"
    }
   },
   "outputs": [
    {
     "name": "stdout",
     "output_type": "stream",
     "text": [
      "FROZEN_EPOCHS:  1\n",
      "EPOCHS:         10\n",
      "Learning Rate:  1e-05\n",
      "\n",
      "\n"
     ]
    },
    {
     "data": {
      "text/html": [
       "<table border=\"1\" class=\"dataframe\">\n",
       "  <thead>\n",
       "    <tr style=\"text-align: left;\">\n",
       "      <th>epoch</th>\n",
       "      <th>train_loss</th>\n",
       "      <th>valid_loss</th>\n",
       "      <th>top_k_accuracy</th>\n",
       "      <th>accuracy</th>\n",
       "      <th>time</th>\n",
       "    </tr>\n",
       "  </thead>\n",
       "  <tbody>\n",
       "    <tr>\n",
       "      <td>0</td>\n",
       "      <td>1.051596</td>\n",
       "      <td>0.945116</td>\n",
       "      <td>1.000000</td>\n",
       "      <td>0.718458</td>\n",
       "      <td>02:37</td>\n",
       "    </tr>\n",
       "  </tbody>\n",
       "</table>"
      ],
      "text/plain": [
       "<IPython.core.display.HTML object>"
      ]
     },
     "metadata": {},
     "output_type": "display_data"
    },
    {
     "data": {
      "application/vnd.jupyter.widget-view+json": {
       "model_id": "7e8b0263ea06498ea8b869b7b4765ce7",
       "version_major": 2,
       "version_minor": 0
      },
      "text/plain": [
       "Canvas(toolbar=Toolbar(toolitems=[('Home', 'Reset original view', 'home', 'home'), ('Back', 'Back to previous …"
      ]
     },
     "metadata": {},
     "output_type": "display_data"
    },
    {
     "data": {
      "image/png": "[encoded data removed]",
      "text/plain": [
       "<Figure size 720x480 with 1 Axes>"
      ]
     },
     "metadata": {},
     "output_type": "display_data"
    }
   ],
   "source": [
    "\n",
    "\n",
    "if PRETRAINED_FLAG:\n",
    "    print(f'FROZEN_EPOCHS:  {FROZEN_EPOCHS}')\n",
    "print(f'EPOCHS:         {EPOCHS}')\n",
    "print(f'Learning Rate:  {LR_CHOICE}\\n\\n')\n",
    "\n",
    "if PRETRAINED_FLAG == True:\n",
    "    learn.fit_flat_cos(FROZEN_EPOCHS, slice(LR_CHOICE), pct_start=0.99, wd=0.1)\n"
   ]
  },
  {
   "cell_type": "markdown",
   "id": "freelance-profit",
   "metadata": {},
   "source": [
    "## Manually set up the unfrozen runs"
   ]
  },
  {
   "cell_type": "code",
   "execution_count": 75,
   "id": "painted-municipality",
   "metadata": {
    "execution": {
     "iopub.execute_input": "2021-02-08T10:46:58.425143Z",
     "iopub.status.busy": "2021-02-08T10:46:58.424873Z",
     "iopub.status.idle": "2021-02-08T10:46:58.436926Z",
     "shell.execute_reply": "2021-02-08T10:46:58.436478Z",
     "shell.execute_reply.started": "2021-02-08T10:46:58.425116Z"
    }
   },
   "outputs": [],
   "source": [
    "learn.unfreeze()"
   ]
  },
  {
   "cell_type": "code",
   "execution_count": 76,
   "id": "cheap-screw",
   "metadata": {
    "execution": {
     "iopub.execute_input": "2021-02-08T10:47:03.344734Z",
     "iopub.status.busy": "2021-02-08T10:47:03.344499Z",
     "iopub.status.idle": "2021-02-08T10:50:20.904792Z",
     "shell.execute_reply": "2021-02-08T10:50:20.904436Z",
     "shell.execute_reply.started": "2021-02-08T10:47:03.344713Z"
    }
   },
   "outputs": [
    {
     "data": {
      "text/html": [],
      "text/plain": [
       "<IPython.core.display.HTML object>"
      ]
     },
     "metadata": {},
     "output_type": "display_data"
    },
    {
     "data": {
      "application/vnd.jupyter.widget-view+json": {
       "model_id": "7b7936617e114b88a78d8ddd0ef909f2",
       "version_major": 2,
       "version_minor": 0
      },
      "text/plain": [
       "Canvas(toolbar=Toolbar(toolitems=[('Home', 'Reset original view', 'home', 'home'), ('Back', 'Back to previous …"
      ]
     },
     "metadata": {},
     "output_type": "display_data"
    }
   ],
   "source": [
    "lr_min,lr_steep = learn.lr_find()\n",
    "plt.axvline(lr_min, ls='--', color='red', label=f'lr_min={round(lr_min,6)}')\n",
    "plt.axvline(LR_CHOICE/2, ls='--', color='yellow', label=f'LR_CHOICE/2={round(LR_CHOICE/2,6)}')\n",
    "plt.axvline(lr_steep, ls='--', color='grey', label=f'lr_steep={round(lr_steep,6)}')\n",
    "plt.axvline(2e-5, ls='--', color='green', label=f'{round(2e-5,6)}')\n",
    "plt.axvline(7e-5, ls='--', color='orange', label=f'{round(7e-5,6)}')\n",
    "\n",
    "plt.legend()\n",
    "plt.show()"
   ]
  },
  {
   "cell_type": "code",
   "execution_count": null,
   "id": "visible-table",
   "metadata": {},
   "outputs": [],
   "source": [
    "print(f\"Minimum/10: {lr_min:.2e}, steepest point: {lr_steep:.2e}, LR_CHOICE/2: {LR_CHOICE / 2}\")"
   ]
  },
  {
   "cell_type": "markdown",
   "id": "portuguese-agency",
   "metadata": {},
   "source": [
    "## Pick a new Learning Rate"
   ]
  },
  {
   "cell_type": "code",
   "execution_count": 77,
   "id": "essential-style",
   "metadata": {
    "execution": {
     "iopub.execute_input": "2021-02-08T10:51:43.294178Z",
     "iopub.status.busy": "2021-02-08T10:51:43.293791Z",
     "iopub.status.idle": "2021-02-08T10:51:43.297685Z",
     "shell.execute_reply": "2021-02-08T10:51:43.297232Z",
     "shell.execute_reply.started": "2021-02-08T10:51:43.294135Z"
    }
   },
   "outputs": [],
   "source": [
    "# LR_CHOICE_UNFROZ = lr_min/LR_DIV\n",
    "# LR_CHOICE_UNFROZ = LR_CHOICE / 2\n",
    "# LR_CHOICE_UNFROZ = 0.00015\n",
    "# LR_CHOICE_UNFROZ = 10e-5\n",
    "# LR_CHOICE_UNFROZ = 0.00008\n",
    "LR_CHOICE_UNFROZ = 5.5e-5\n",
    "# LR_CHOICE_UNFROZ = 1e-4\n",
    "# LR_CHOICE_UNFROZ = 6e-5\n",
    "# LR_CHOICE_UNFROZ = lr_min"
   ]
  },
  {
   "cell_type": "markdown",
   "id": "reduced-berry",
   "metadata": {},
   "source": [
    "### Train"
   ]
  },
  {
   "cell_type": "code",
   "execution_count": 78,
   "id": "union-hybrid",
   "metadata": {
    "execution": {
     "iopub.execute_input": "2021-02-08T10:51:55.329347Z",
     "iopub.status.busy": "2021-02-08T10:51:55.328978Z",
     "iopub.status.idle": "2021-02-08T10:51:55.333023Z",
     "shell.execute_reply": "2021-02-08T10:51:55.332582Z",
     "shell.execute_reply.started": "2021-02-08T10:51:55.329313Z"
    }
   },
   "outputs": [],
   "source": [
    "EPOCHS = 10"
   ]
  },
  {
   "cell_type": "code",
   "execution_count": 79,
   "id": "concerned-amplifier",
   "metadata": {
    "execution": {
     "iopub.execute_input": "2021-02-08T10:51:59.997941Z",
     "iopub.status.busy": "2021-02-08T10:51:59.997679Z",
     "iopub.status.idle": "2021-02-08T10:52:00.002093Z",
     "shell.execute_reply": "2021-02-08T10:52:00.001542Z",
     "shell.execute_reply.started": "2021-02-08T10:51:59.997916Z"
    }
   },
   "outputs": [
    {
     "name": "stdout",
     "output_type": "stream",
     "text": [
      "EPOCHS:         10\n",
      "Learning Rate:  5.5e-05\n",
      "\n",
      "\n"
     ]
    }
   ],
   "source": [
    "print(f'EPOCHS:         {EPOCHS}')\n",
    "print(f'Learning Rate:  {LR_CHOICE_UNFROZ}\\n\\n')"
   ]
  },
  {
   "cell_type": "code",
   "execution_count": 80,
   "id": "enhanced-zealand",
   "metadata": {
    "execution": {
     "iopub.execute_input": "2021-02-08T10:52:09.047377Z",
     "iopub.status.busy": "2021-02-08T10:52:09.047020Z",
     "iopub.status.idle": "2021-02-08T11:44:37.315558Z",
     "shell.execute_reply": "2021-02-08T11:44:37.315030Z",
     "shell.execute_reply.started": "2021-02-08T10:52:09.047344Z"
    }
   },
   "outputs": [
    {
     "data": {
      "text/html": [
       "<table border=\"1\" class=\"dataframe\">\n",
       "  <thead>\n",
       "    <tr style=\"text-align: left;\">\n",
       "      <th>epoch</th>\n",
       "      <th>train_loss</th>\n",
       "      <th>valid_loss</th>\n",
       "      <th>top_k_accuracy</th>\n",
       "      <th>accuracy</th>\n",
       "      <th>time</th>\n",
       "    </tr>\n",
       "  </thead>\n",
       "  <tbody>\n",
       "    <tr>\n",
       "      <td>0</td>\n",
       "      <td>1.069034</td>\n",
       "      <td>0.966689</td>\n",
       "      <td>1.000000</td>\n",
       "      <td>0.705315</td>\n",
       "      <td>05:17</td>\n",
       "    </tr>\n",
       "    <tr>\n",
       "      <td>1</td>\n",
       "      <td>1.034852</td>\n",
       "      <td>0.949400</td>\n",
       "      <td>1.000000</td>\n",
       "      <td>0.726051</td>\n",
       "      <td>05:17</td>\n",
       "    </tr>\n",
       "    <tr>\n",
       "      <td>2</td>\n",
       "      <td>1.027452</td>\n",
       "      <td>0.921599</td>\n",
       "      <td>1.000000</td>\n",
       "      <td>0.735105</td>\n",
       "      <td>05:18</td>\n",
       "    </tr>\n",
       "    <tr>\n",
       "      <td>3</td>\n",
       "      <td>1.028775</td>\n",
       "      <td>0.928217</td>\n",
       "      <td>1.000000</td>\n",
       "      <td>0.739486</td>\n",
       "      <td>05:17</td>\n",
       "    </tr>\n",
       "    <tr>\n",
       "      <td>4</td>\n",
       "      <td>1.030619</td>\n",
       "      <td>0.931454</td>\n",
       "      <td>1.000000</td>\n",
       "      <td>0.732769</td>\n",
       "      <td>05:17</td>\n",
       "    </tr>\n",
       "    <tr>\n",
       "      <td>5</td>\n",
       "      <td>1.027033</td>\n",
       "      <td>0.910145</td>\n",
       "      <td>1.000000</td>\n",
       "      <td>0.749124</td>\n",
       "      <td>05:17</td>\n",
       "    </tr>\n",
       "    <tr>\n",
       "      <td>6</td>\n",
       "      <td>1.001537</td>\n",
       "      <td>0.928267</td>\n",
       "      <td>1.000000</td>\n",
       "      <td>0.737150</td>\n",
       "      <td>05:17</td>\n",
       "    </tr>\n",
       "    <tr>\n",
       "      <td>7</td>\n",
       "      <td>1.007400</td>\n",
       "      <td>0.911174</td>\n",
       "      <td>1.000000</td>\n",
       "      <td>0.748540</td>\n",
       "      <td>05:08</td>\n",
       "    </tr>\n",
       "    <tr>\n",
       "      <td>8</td>\n",
       "      <td>1.007352</td>\n",
       "      <td>0.923026</td>\n",
       "      <td>1.000000</td>\n",
       "      <td>0.744743</td>\n",
       "      <td>05:05</td>\n",
       "    </tr>\n",
       "    <tr>\n",
       "      <td>9</td>\n",
       "      <td>0.991407</td>\n",
       "      <td>0.917510</td>\n",
       "      <td>1.000000</td>\n",
       "      <td>0.742407</td>\n",
       "      <td>05:05</td>\n",
       "    </tr>\n",
       "  </tbody>\n",
       "</table>"
      ],
      "text/plain": [
       "<IPython.core.display.HTML object>"
      ]
     },
     "metadata": {},
     "output_type": "display_data"
    },
    {
     "data": {
      "application/vnd.jupyter.widget-view+json": {
       "model_id": "eb59f1dc7759498aaf43a764078a80eb",
       "version_major": 2,
       "version_minor": 0
      },
      "text/plain": [
       "Canvas(toolbar=Toolbar(toolitems=[('Home', 'Reset original view', 'home', 'home'), ('Back', 'Back to previous …"
      ]
     },
     "metadata": {},
     "output_type": "display_data"
    },
    {
     "data": {
      "image/png": "[encoded data removed]",
      "text/plain": [
       "<Figure size 720x480 with 1 Axes>"
      ]
     },
     "metadata": {},
     "output_type": "display_data"
    },
    {
     "name": "stdout",
     "output_type": "stream",
     "text": [
      "Epoch 4: reducing lr to 5.5e-06\n",
      "Epoch 7: reducing lr to 3.8194560012228285e-06\n"
     ]
    }
   ],
   "source": [
    "learn.fit_flat_cos(EPOCHS, slice(LR_CHOICE_UNFROZ), pct_start=0.68)"
   ]
  },
  {
   "cell_type": "markdown",
   "id": "contained-ethics",
   "metadata": {},
   "source": [
    "<br>\n",
    "<br>\n",
    "\n",
    "## Persist the Model"
   ]
  },
  {
   "cell_type": "code",
   "execution_count": null,
   "id": "generic-hundred",
   "metadata": {},
   "outputs": [],
   "source": [
    "learn.export(f'../models/{RUN_NAME}.pkl')\n",
    "# path = Path('../models')\n",
    "# path.ls(file_exts='.pkl')"
   ]
  },
  {
   "cell_type": "markdown",
   "id": "ordinary-virtue",
   "metadata": {},
   "source": [
    "<br>\n",
    "<br>"
   ]
  },
  {
   "cell_type": "markdown",
   "id": "second-temple",
   "metadata": {},
   "source": [
    "### Show some Results"
   ]
  },
  {
   "cell_type": "code",
   "execution_count": null,
   "id": "peaceful-toilet",
   "metadata": {},
   "outputs": [],
   "source": [
    "learn.show_results()"
   ]
  },
  {
   "cell_type": "markdown",
   "id": "natural-timber",
   "metadata": {},
   "source": [
    "<br>\n",
    "<hr>\n",
    "<br>\n",
    "<br>\n",
    "<br>"
   ]
  },
  {
   "cell_type": "markdown",
   "id": "likely-grenada",
   "metadata": {},
   "source": [
    "# Validation Set (not test set) Analysis"
   ]
  },
  {
   "cell_type": "markdown",
   "id": "unlike-drinking",
   "metadata": {},
   "source": [
    "<br>\n",
    "\n",
    "### Plot Losses"
   ]
  },
  {
   "cell_type": "code",
   "execution_count": null,
   "id": "former-wesley",
   "metadata": {},
   "outputs": [],
   "source": [
    "# learn.recorder.plot_loss()\n",
    "# plt.ylabel('Loss')\n",
    "# plt.xlabel('Batches Processed')"
   ]
  },
  {
   "cell_type": "markdown",
   "id": "caroline-patrick",
   "metadata": {},
   "source": [
    "<br>\n",
    "\n",
    "### Visualize with a confusion Matrix"
   ]
  },
  {
   "cell_type": "code",
   "execution_count": null,
   "id": "super-shield",
   "metadata": {},
   "outputs": [],
   "source": [
    "interp = ClassificationInterpretation.from_learner(learn)\n",
    "interp.plot_confusion_matrix(figsize=(8,8))"
   ]
  },
  {
   "cell_type": "code",
   "execution_count": null,
   "id": "responsible-airplane",
   "metadata": {},
   "outputs": [],
   "source": [
    "interp.most_confused()[:10]"
   ]
  },
  {
   "cell_type": "markdown",
   "id": "unusual-establishment",
   "metadata": {},
   "source": [
    "<br>\n",
    "<br>"
   ]
  },
  {
   "cell_type": "markdown",
   "id": "heated-gibraltar",
   "metadata": {},
   "source": [
    "## Classification Report"
   ]
  },
  {
   "cell_type": "code",
   "execution_count": null,
   "id": "genetic-support",
   "metadata": {},
   "outputs": [],
   "source": [
    "interp.print_classification_report()"
   ]
  },
  {
   "cell_type": "markdown",
   "id": "exposed-relations",
   "metadata": {},
   "source": [
    "<br>\n",
    "\n",
    "### Show the top 15 most error prone images"
   ]
  },
  {
   "cell_type": "code",
   "execution_count": null,
   "id": "talented-knife",
   "metadata": {},
   "outputs": [],
   "source": [
    "interp.plot_top_losses(15, nrows=5)"
   ]
  },
  {
   "cell_type": "markdown",
   "id": "technological-sydney",
   "metadata": {},
   "source": [
    "## Validation"
   ]
  },
  {
   "cell_type": "code",
   "execution_count": null,
   "id": "rapid-plenty",
   "metadata": {},
   "outputs": [],
   "source": [
    "test_learn = learn\n",
    "\n",
    "# load_learner('../models/20210205-1716 - arch=xresnet34 - samples=1800 frozen=1 epochs=40 bs=32 res=340.pkl', cpu=False)\n",
    "# load_model(f'models/{RUN_NAME}_26.pth', test_learn, opt=Adam, with_opt=False)\n"
   ]
  },
  {
   "cell_type": "code",
   "execution_count": null,
   "id": "excessive-queensland",
   "metadata": {},
   "outputs": [],
   "source": [
    "def get_test_fnames(path):\n",
    "    retlist = []\n",
    "    \n",
    "    for l in test_flist.values():\n",
    "        for f in l:\n",
    "            retlist.append(f)\n",
    "            \n",
    "    return random.sample(retlist, len(retlist))"
   ]
  },
  {
   "cell_type": "code",
   "execution_count": null,
   "id": "copyrighted-setting",
   "metadata": {},
   "outputs": [],
   "source": [
    "test_db = DataBlock(\n",
    "    blocks=(ImageBlock, CategoryBlock), \n",
    "    get_items=get_test_fnames,\n",
    "    get_y=parent_label, \n",
    "    item_tfms=Resize(RESOLUTION, method='bilinear')) #,\n",
    "#     item_tfms=CropPad(RESOLUTION, pad_mode='zeros'))\n",
    "#    ,    batch_tfms=aug_transforms(do_flip=True, size=RESOLUTION, batch=False, max_zoom=1.0, mult=1, pad_mode='zeros'))\n",
    "\n",
    "\n",
    "dls = test_db.dataloaders(get_test_fnames, bs=BATCH_SIZE)\n",
    "\n",
    "test_dl = dls.test_dl(get_test_fnames('None'), with_labels=True)"
   ]
  },
  {
   "cell_type": "markdown",
   "id": "typical-woman",
   "metadata": {},
   "source": [
    "####  Get the Inferrences on the Test Set"
   ]
  },
  {
   "cell_type": "code",
   "execution_count": null,
   "id": "affiliated-wound",
   "metadata": {},
   "outputs": [],
   "source": [
    "inputs, preds, targs, decoded, losses = test_learn.get_preds(dl=test_dl, with_input=True, with_decoded=True, with_loss=True)\n"
   ]
  },
  {
   "cell_type": "code",
   "execution_count": null,
   "id": "norwegian-switch",
   "metadata": {},
   "outputs": [],
   "source": [
    "interp = ClassificationInterpretation(dl=test_dl, inputs=inputs, preds=preds, targs=targs, decoded=decoded, losses=losses )"
   ]
  },
  {
   "cell_type": "markdown",
   "id": "broken-novelty",
   "metadata": {},
   "source": [
    "<br>\n",
    "\n",
    "### Visualize with a confusion Matrix"
   ]
  },
  {
   "cell_type": "code",
   "execution_count": null,
   "id": "increasing-sympathy",
   "metadata": {},
   "outputs": [],
   "source": [
    "interp.plot_confusion_matrix(figsize=(8,8))"
   ]
  },
  {
   "cell_type": "code",
   "execution_count": null,
   "id": "inner-romantic",
   "metadata": {},
   "outputs": [],
   "source": [
    "interp.most_confused()[:10]"
   ]
  },
  {
   "cell_type": "markdown",
   "id": "present-mixture",
   "metadata": {},
   "source": [
    "<br>\n",
    "<br>"
   ]
  },
  {
   "cell_type": "markdown",
   "id": "amended-snapshot",
   "metadata": {},
   "source": [
    "## Classification Report"
   ]
  },
  {
   "cell_type": "code",
   "execution_count": null,
   "id": "broadband-ghana",
   "metadata": {},
   "outputs": [],
   "source": [
    "interp.print_classification_report()"
   ]
  },
  {
   "cell_type": "code",
   "execution_count": null,
   "id": "included-brighton",
   "metadata": {},
   "outputs": [],
   "source": [
    "interp.plot_top_losses(k=15)"
   ]
  },
  {
   "cell_type": "markdown",
   "id": "advance-finish",
   "metadata": {},
   "source": [
    "## Archive this version of the notehook"
   ]
  },
  {
   "cell_type": "code",
   "execution_count": null,
   "id": "surprising-enterprise",
   "metadata": {},
   "outputs": [],
   "source": [
    "import os\n",
    "import shutil\n",
    "\n",
    "# Allow Jupyter the opportunity to autosave\n",
    "# !sleep 20\n",
    "# time = '20210122-2356'\n",
    "# copy the notebook file - the prefix links it to the saved model\n",
    "shutil.copyfile('FastAI Cassava Disease Classification.ipynb', f'.Archive/{time} - FastAI Cassava Disease Classification.ipynb')"
   ]
  },
  {
   "cell_type": "code",
   "execution_count": null,
   "id": "loose-village",
   "metadata": {},
   "outputs": [],
   "source": []
  },
  {
   "cell_type": "code",
   "execution_count": null,
   "id": "saving-panama",
   "metadata": {},
   "outputs": [],
   "source": []
  }
 ],
 "metadata": {
  "kernelspec": {
   "display_name": "Python 3",
   "language": "python",
   "name": "python3"
  },
  "language_info": {
   "codemirror_mode": {
    "name": "ipython",
    "version": 3
   },
   "file_extension": ".py",
   "mimetype": "text/x-python",
   "name": "python",
   "nbconvert_exporter": "python",
   "pygments_lexer": "ipython3",
   "version": "3.8.6"
  },
  "widgets": {
   "application/vnd.jupyter.widget-state+json": {
    "state": {},
    "version_major": 2,
    "version_minor": 0
   }
  }
 },
 "nbformat": 4,
 "nbformat_minor": 5
}
