{
 "cells": [
  {
   "cell_type": "markdown",
   "id": "reverse-channels",
   "metadata": {},
   "source": [
    "## Experiment with cutting up models\n"
   ]
  },
  {
   "cell_type": "code",
   "execution_count": 1,
   "id": "empty-variety",
   "metadata": {
    "execution": {
     "iopub.execute_input": "2021-02-16T11:12:38.805063Z",
     "iopub.status.busy": "2021-02-16T11:12:38.804926Z",
     "iopub.status.idle": "2021-02-16T11:12:41.304904Z",
     "shell.execute_reply": "2021-02-16T11:12:41.304357Z",
     "shell.execute_reply.started": "2021-02-16T11:12:38.805029Z"
    }
   },
   "outputs": [],
   "source": [
    "from datetime import datetime\n",
    "from fastbook import *\n",
    "from fastai.vision.all import *\n",
    "from fastai.vision.widgets import *\n",
    "import fastai\n",
    "import matplotlib.pyplot as plt\n",
    "import matplotlib.ticker as ticker\n",
    "from string import ascii_uppercase\n",
    "import numpy as np\n",
    "import operator\n",
    "import glob\n",
    "\n",
    "import torch\n",
    "from torch import nn as nn\n",
    "from torch.nn import functional as F\n",
    "\n",
    "import copy\n",
    "\n",
    "\n",
    "# %matplotlib inline\n",
    "\n",
    "# %matplotlib widget\n",
    "\n",
    "plt.rcParams['figure.figsize'] = [9, 5]\n",
    "plt.rcParams['figure.dpi'] = 120\n",
    "plt.style.use('dark_background')\n",
    "\n",
    "from fastai.tabular.all import *\n",
    "path = untar_data(URLs.PETS)\n",
    "files = get_image_files(path/\"images\")\n",
    "def label_func(f): return f[0].isupper()\n",
    "dls = ImageDataLoaders.from_name_func(path, files, label_func, item_tfms=Resize(224), bs=32)\n",
    "\n",
    "\n",
    "\n"
   ]
  },
  {
   "cell_type": "code",
   "execution_count": 2,
   "id": "alternate-column",
   "metadata": {
    "execution": {
     "iopub.execute_input": "2021-02-16T11:12:41.305780Z",
     "iopub.status.busy": "2021-02-16T11:12:41.305667Z",
     "iopub.status.idle": "2021-02-16T11:12:41.309261Z",
     "shell.execute_reply": "2021-02-16T11:12:41.308917Z",
     "shell.execute_reply.started": "2021-02-16T11:12:41.305768Z"
    }
   },
   "outputs": [],
   "source": [
    "def fit_slide(self:Learner, n_epoch, lr_max=None, div=25., div_final=1e5, pct_start=0.25, wd=None,\n",
    "                  moms=None, cbs=None, reset_opt=False):\n",
    "    \"Fit `self.model` for `n_epoch` using the 1cycle policy.\"\n",
    "    if self.opt is None: self.create_opt()\n",
    "    self.opt.set_hyper('lr', self.lr if lr_max is None else lr_max)\n",
    "    \n",
    "    lr_max = np.array([h['lr'] for h in self.opt.hypers])\n",
    "    \n",
    "#     f = combine_scheds([0.1,0.1, 0.05, 0.05,0.2, 0.5], \n",
    "#                    [SchedCos(lr_max*0.8,lr_max*1.0), \n",
    "#                     SchedLin(lr_max*1.0,lr_max*1.0), \n",
    "#                     SchedCos(lr_max*1.0, lr_max*0.75), \n",
    "#                     SchedCos(lr_max*0.75, lr_max*0.95), \n",
    "#                     SchedCos(lr_max*0.95,lr_max*0.9), \n",
    "#                     SchedCos(lr_max*0.9,lr_max/div_final)])\n",
    "    \n",
    "    f = combine_scheds([1], [SchedLin(lr_max*1.0, lr_max/div_final)])\n",
    "    \n",
    "    scheds = {'lr': f}\n",
    "    self.fit(n_epoch, cbs=ParamScheduler(scheds)+L(cbs), reset_opt=reset_opt, wd=wd)"
   ]
  },
  {
   "cell_type": "code",
   "execution_count": 3,
   "id": "daily-ready",
   "metadata": {
    "execution": {
     "iopub.execute_input": "2021-02-16T11:12:41.309854Z",
     "iopub.status.busy": "2021-02-16T11:12:41.309752Z",
     "iopub.status.idle": "2021-02-16T11:12:41.316837Z",
     "shell.execute_reply": "2021-02-16T11:12:41.316398Z",
     "shell.execute_reply.started": "2021-02-16T11:12:41.309844Z"
    }
   },
   "outputs": [],
   "source": [
    "def fit_hump(self:Learner, n_epoch, lr_max=None, div=25., div_final=1e5, pct_start=0.25, wd=None,\n",
    "                  moms=None, cbs=None, reset_opt=False):\n",
    "    \"Fit `self.model` for `n_epoch` using the 1cycle policy.\"\n",
    "    if self.opt is None: self.create_opt()\n",
    "    self.opt.set_hyper('lr', self.lr if lr_max is None else lr_max)\n",
    "    \n",
    "    \n",
    "    lr_max = np.array([h['lr'] for h in self.opt.hypers])\n",
    "    \n",
    "    f = combine_scheds([0.1,0.1, 0.05, 0.05,0.2, 0.5], \n",
    "                   [SchedCos(lr_max*0.8,lr_max*1.0), \n",
    "                    SchedLin(lr_max*1.0,lr_max*1.0), \n",
    "                    SchedCos(lr_max*1.0, lr_max*0.75), \n",
    "                    SchedCos(lr_max*0.75, lr_max*0.95), \n",
    "                    SchedCos(lr_max*0.95,lr_max*0.9), \n",
    "                    SchedCos(lr_max*0.9,lr_max/div_final)])\n",
    "    \n",
    "    scheds = {'lr': f,\n",
    "              'mom': combined_cos(pct_start, *(self.moms if moms is None else moms))}\n",
    "    self.fit(n_epoch, cbs=ParamScheduler(scheds)+L(cbs), reset_opt=reset_opt, wd=wd)"
   ]
  },
  {
   "cell_type": "code",
   "execution_count": 4,
   "id": "alpha-brass",
   "metadata": {
    "execution": {
     "iopub.execute_input": "2021-02-16T11:12:41.317420Z",
     "iopub.status.busy": "2021-02-16T11:12:41.317315Z",
     "iopub.status.idle": "2021-02-16T11:12:41.322035Z",
     "shell.execute_reply": "2021-02-16T11:12:41.321492Z",
     "shell.execute_reply.started": "2021-02-16T11:12:41.317409Z"
    }
   },
   "outputs": [],
   "source": [
    "def fit_hump_nomo(self:Learner, n_epoch, lr_max=None, div=25., div_final=1e5, pct_start=0.25, wd=None,\n",
    "                  moms=None, cbs=None, reset_opt=False):\n",
    "    \"Fit `self.model` for `n_epoch` using the 1cycle policy.\"\n",
    "    if self.opt is None: self.create_opt()\n",
    "    self.opt.set_hyper('lr', self.lr if lr_max is None else lr_max)\n",
    "    lr_max = np.array([h['lr'] for h in self.opt.hypers])\n",
    "        \n",
    "    f = combine_scheds([0.1,0.1, 0.05, 0.05,0.2, 0.5], \n",
    "                   [SchedCos(lr_max*0.8,lr_max*1.0), \n",
    "                    SchedLin(lr_max*1.0,lr_max*1.0), \n",
    "                    SchedCos(lr_max*1.0, lr_max*0.75), \n",
    "                    SchedCos(lr_max*0.75, lr_max*0.95), \n",
    "                    SchedCos(lr_max*0.95,lr_max*0.9), \n",
    "                    SchedCos(lr_max*0.9,lr_max/div_final)])\n",
    "    \n",
    "    scheds = {'lr': f}\n",
    "    self.fit(n_epoch, cbs=ParamScheduler(scheds)+L(cbs), reset_opt=reset_opt, wd=wd)"
   ]
  },
  {
   "cell_type": "code",
   "execution_count": 5,
   "id": "tight-protest",
   "metadata": {
    "execution": {
     "iopub.execute_input": "2021-02-16T11:12:41.322821Z",
     "iopub.status.busy": "2021-02-16T11:12:41.322662Z",
     "iopub.status.idle": "2021-02-16T11:12:41.329538Z",
     "shell.execute_reply": "2021-02-16T11:12:41.329175Z",
     "shell.execute_reply.started": "2021-02-16T11:12:41.322805Z"
    }
   },
   "outputs": [],
   "source": [
    "class SwishAutoFn(torch.autograd.Function):\n",
    "    \"\"\"Swish - Described in: https://arxiv.org/abs/1710.05941\n",
    "    Memory efficient variant from:\n",
    "     https://medium.com/the-artificial-impostor/more-memory-efficient-swish-activation-function-e07c22c12a76\n",
    "    \"\"\"\n",
    "    @staticmethod\n",
    "    def forward(ctx, x):\n",
    "        result = x.mul(torch.sigmoid(x))\n",
    "        ctx.save_for_backward(x)\n",
    "        return result\n",
    "\n",
    "    @staticmethod\n",
    "    def backward(ctx, grad_output):\n",
    "        x = ctx.saved_tensors[0]\n",
    "        x_sigmoid = torch.sigmoid(x)\n",
    "        return grad_output.mul(x_sigmoid * (1 + x * (1 - x_sigmoid)))\n",
    "\n",
    "\n",
    "def swish_auto(x, inplace=False):\n",
    "    # inplace ignored\n",
    "    return SwishAutoFn.apply(x)\n",
    "\n",
    "\n",
    "class SwishAuto(nn.Module):\n",
    "    def __init__(self, inplace: bool = True):\n",
    "        super(SwishAuto, self).__init__()\n",
    "        self.inplace = inplace\n",
    "\n",
    "    def forward(self, x):\n",
    "        return SwishAutoFn.apply(x)\n",
    "\n",
    "\n",
    "class MishAutoFn(torch.autograd.Function):\n",
    "    \"\"\"Mish: A Self Regularized Non-Monotonic Neural Activation Function - https://arxiv.org/abs/1908.08681\n",
    "    Experimental memory-efficient variant\n",
    "    \"\"\"\n",
    "\n",
    "    @staticmethod\n",
    "    def forward(ctx, x):\n",
    "        ctx.save_for_backward(x)\n",
    "        y = x.mul(torch.tanh(F.softplus(x)))  # x * tanh(ln(1 + exp(x)))\n",
    "        return y\n",
    "\n",
    "    @staticmethod\n",
    "    def backward(ctx, grad_output):\n",
    "        x = ctx.saved_tensors[0]\n",
    "        x_sigmoid = torch.sigmoid(x)\n",
    "        x_tanh_sp = F.softplus(x).tanh()\n",
    "        return grad_output.mul(x_tanh_sp + x * x_sigmoid * (1 - x_tanh_sp * x_tanh_sp))\n",
    "\n",
    "\n",
    "def mish_auto(x, inplace=False):\n",
    "    # inplace ignored\n",
    "    return MishAutoFn.apply(x)\n",
    "\n",
    "\n",
    "class MishAuto(nn.Module):\n",
    "    def __init__(self, inplace: bool = True):\n",
    "        super(MishAuto, self).__init__()\n",
    "        self.inplace = inplace\n",
    "\n",
    "    def forward(self, x):\n",
    "        return MishAutoFn.apply(x)"
   ]
  },
  {
   "cell_type": "code",
   "execution_count": 6,
   "id": "seventh-curve",
   "metadata": {
    "execution": {
     "iopub.execute_input": "2021-02-16T11:12:41.330072Z",
     "iopub.status.busy": "2021-02-16T11:12:41.329968Z",
     "iopub.status.idle": "2021-02-16T11:12:41.432029Z",
     "shell.execute_reply": "2021-02-16T11:12:41.431600Z",
     "shell.execute_reply.started": "2021-02-16T11:12:41.330062Z"
    }
   },
   "outputs": [],
   "source": [
    "\n",
    "\n",
    "from torch.utils.checkpoint import checkpoint, checkpoint_sequential\n",
    "\n",
    "class CheckpointModule(Module):\n",
    "    def __init__(self, module, num_segments=1):\n",
    "        assert num_segments == 1 or isinstance(module, nn.Sequential)\n",
    "        self.module = module\n",
    "        self.num_segments = num_segments\n",
    "\n",
    "    def forward(self, *inputs):\n",
    "        if self.num_segments > 1:\n",
    "            return checkpoint_sequential(self.module, self.num_segments, *inputs)\n",
    "        else:\n",
    "            return checkpoint(self.module, *inputs)\n",
    "        \n",
    "        \n",
    "\n",
    "# To extract the sequential layers from resnet\n",
    "def layer_config(arch):\n",
    "    \"Get the layers associated with `arch`.\"\n",
    "    return model_layers.get(arch)\n",
    "\n",
    "\n",
    "model_layers = {\n",
    "    resnet18 :[2, 2, 2, 2], resnet34: [3, 4, 6, 3],\n",
    "    resnet50 :[3, 4, 6, 3], resnet101:[3, 4, 23, 3],\n",
    "    resnet152:[3, 8, 36, 3]}\n",
    "\n",
    "\n",
    "\n",
    "    \n",
    "def convert_seq_chkpt(model, layer_type_old):  #, num_chkpt):\n",
    "#     seg_dict = {2:2, 3:6, 4:5, 5:5, 6:3, 7:3, 8:2, 1:1}\n",
    "    conversion_count = 0\n",
    "    for name, module in reversed(model._modules.items()):\n",
    "        if len(list(module.children())) > 0:\n",
    "            # recurse\n",
    "            model._modules[name] = convert_seq_chkpt(module, layer_type_old) #, num_chkpt+1)\n",
    "\n",
    "        if type(module) == layer_type_old:\n",
    "#             num_chkpt += 1\n",
    "            layer_old = module\n",
    "            if len(layer_old) == 7:\n",
    "                segments = 1\n",
    "            else: segments = len(layer_old)\n",
    "            layer_new = CheckpointModule(layer_old, segments)  # wrap sequential in a checkpoint module\n",
    "            model._modules[name] = layer_new\n",
    "#             print(num_chkpt)  # 2,3,4,5,6,7,8,1\n",
    "#             print(len(layer_old))\n",
    "\n",
    "    return model\n",
    "\n",
    "import kornia\n",
    "def convert_MP_to_blurMP(model, layer_type_old):\n",
    "    conversion_count = 0\n",
    "    for name, module in reversed(model._modules.items()):\n",
    "        if len(list(module.children())) > 0:\n",
    "            # recurse\n",
    "            model._modules[name] = convert_MP_to_blurMP(module, layer_type_old)\n",
    "\n",
    "        if type(module) == layer_type_old:\n",
    "            layer_old = module\n",
    "            layer_new = kornia.contrib.MaxBlurPool2d(3, True)\n",
    "            model._modules[name] = layer_new\n",
    "\n",
    "    return model\n",
    "\n",
    "\n",
    "def convert_act_cls(model, layer_type_old, layer_type_new):\n",
    "    conversion_count = 0\n",
    "    for name, module in reversed(model._modules.items()):\n",
    "        if len(list(module.children())) > 0:\n",
    "            # recurse\n",
    "            model._modules[name] = convert_act_cls(module, layer_type_old, layer_type_new)\n",
    "\n",
    "        if type(module) == layer_type_old:\n",
    "            layer_old = module\n",
    "            layer_new = layer_type_new\n",
    "            model._modules[name] = layer_new\n",
    "\n",
    "    return model\n",
    "\n",
    "\n",
    "from timm import create_model\n",
    "from fastai.vision.learner import _update_first_layer\n",
    "\n",
    "def create_timm_body(arch:str, pretrained=True, cut=None, n_in=3):\n",
    "    \"Creates a body from any model in the `timm` library.\"\n",
    "    model = create_model(arch, pretrained=pretrained, num_classes=0, global_pool='', memory_efficient=True )\n",
    "    _update_first_layer(model, n_in, pretrained)\n",
    "    if cut is None:\n",
    "        ll = list(enumerate(model.children()))\n",
    "        cut = next(i for i,o in reversed(ll) if has_pool_type(o))\n",
    "    if isinstance(cut, int): return nn.Sequential(*list(model.children())[:cut])\n",
    "    elif callable(cut): return cut(model)\n",
    "    else: raise NamedError(\"cut must be either integer or function\")\n",
    "        \n",
    "def create_timm_model(arch:str, n_out, cut=None, pretrained=True, n_in=3, init=nn.init.kaiming_normal_, custom_head=None,\n",
    "                     concat_pool=False, **kwargs):\n",
    "    \"Create custom architecture using `arch`, `n_in` and `n_out` from the `timm` library\"\n",
    "    body = create_timm_body(arch, pretrained, None, n_in)\n",
    "    if custom_head is None:\n",
    "        nf = num_features_model(nn.Sequential(*body.children())) * (2 if concat_pool else 1)\n",
    "        head = create_head(nf, n_out, concat_pool=concat_pool, **kwargs)\n",
    "    else: head = custom_head\n",
    "    model = nn.Sequential(body, head)\n",
    "    if init is not None: apply_init(model[1], init)\n",
    "    return model\n",
    "\n",
    "\n",
    "def timm_learner(dls, arch:str, loss_func=None, pretrained=True, cut=None, splitter=None,\n",
    "                y_range=None, config=None, n_out=None, normalize=True, **kwargs):\n",
    "    \"Build a convnet style learner from `dls` and `arch` using the `timm` library\"\n",
    "    if config is None: config = {}\n",
    "    if n_out is None: n_out = get_c(dls)\n",
    "    assert n_out, \"`n_out` is not defined, and could not be inferred from data, set `dls.c` or pass `n_out`\"\n",
    "    if y_range is None and 'y_range' in config: y_range = config.pop('y_range')\n",
    "    model = create_timm_model(arch, n_out, default_split, pretrained, y_range=y_range, **config)\n",
    "    learn = Learner(dls, model, loss_func=loss_func, splitter=default_split, **kwargs)\n",
    "    if pretrained: learn.freeze()\n",
    "    return learn"
   ]
  },
  {
   "cell_type": "code",
   "execution_count": null,
   "id": "human-independence",
   "metadata": {},
   "outputs": [],
   "source": []
  },
  {
   "cell_type": "code",
   "execution_count": null,
   "id": "unlike-startup",
   "metadata": {},
   "outputs": [],
   "source": []
  },
  {
   "cell_type": "code",
   "execution_count": null,
   "id": "announced-large",
   "metadata": {},
   "outputs": [],
   "source": []
  },
  {
   "cell_type": "code",
   "execution_count": 7,
   "id": "neural-printing",
   "metadata": {
    "execution": {
     "iopub.execute_input": "2021-02-16T11:12:41.433187Z",
     "iopub.status.busy": "2021-02-16T11:12:41.433073Z",
     "iopub.status.idle": "2021-02-16T11:12:41.435389Z",
     "shell.execute_reply": "2021-02-16T11:12:41.435048Z",
     "shell.execute_reply.started": "2021-02-16T11:12:41.433176Z"
    }
   },
   "outputs": [],
   "source": [
    "# arch = xse_resnext34(pretrained=True, act_cls=MishAuto, sa=True)\n",
    "# # arch.pretrained = True\n",
    "# # arch.act_cls=Mish\n",
    "gradacc_cb =  GradientAccumulation(n_acc=128)\n",
    "reduceLR_cb = ReduceLROnPlateau(monitor='valid_loss', min_delta=0.01, min_lr=1e-8, patience=2, factor=15, reset_on_fit=True)\n",
    "\n",
    "cbs=[ShowGraphCallback()] #, GradientClip, gradacc_cb]\n",
    "\n",
    "# model = Learner(dls, model=arch, \n",
    "#                     loss_func=LabelSmoothingCrossEntropyFlat(), cbs=cbs, opt_func=ranger,\n",
    "#                metrics=[accuracy])"
   ]
  },
  {
   "cell_type": "code",
   "execution_count": 8,
   "id": "exotic-prairie",
   "metadata": {
    "execution": {
     "iopub.execute_input": "2021-02-16T11:12:41.435969Z",
     "iopub.status.busy": "2021-02-16T11:12:41.435867Z",
     "iopub.status.idle": "2021-02-16T11:12:41.509360Z",
     "shell.execute_reply": "2021-02-16T11:12:41.508936Z",
     "shell.execute_reply.started": "2021-02-16T11:12:41.435959Z"
    }
   },
   "outputs": [],
   "source": [
    "## from https://github.com/prigoyal/pytorch_memonger/blob/master/models/optimized/densenet_new.py\n",
    "\n",
    "import torch\n",
    "import torch.nn as nn\n",
    "import torch.nn.functional as F\n",
    "import pdb, math\n",
    "from torch.utils.checkpoint import checkpoint_sequential\n",
    "from collections import OrderedDict\n",
    "import os, time, sys\n",
    "from subprocess import Popen, PIPE\n",
    "\n",
    "__all__ = ['DenseNet', 'densenet100', 'densenet121', 'densenet169', 'densenet201', 'densenet161', 'densenet264']\n",
    "\n",
    "def densenet100(pretrained=False, **kwargs):\n",
    "    r\"\"\"Densenet-100 model\"\"\"\n",
    "    model = DenseNet(num_init_features=64, growth_rate=12, block_config=(6, 12, 24, 16),\n",
    "                     **kwargs)\n",
    "    return model\n",
    "\n",
    "def densenet121(pretrained=False, **kwargs):\n",
    "    r\"\"\"Densenet-121 model\"\"\"\n",
    "    model = DenseNet(num_init_features=64, growth_rate=32, block_config=(6, 12, 24, 16),\n",
    "                     **kwargs)\n",
    "    return model\n",
    "\n",
    "\n",
    "def densenet161(pretrained=False, **kwargs):\n",
    "    r\"\"\"Densenet-161 model\"\"\"\n",
    "    model = DenseNet(num_init_features=96, growth_rate=48, block_config=(6, 12, 36, 24),\n",
    "                     **kwargs)\n",
    "    return model\n",
    "\n",
    "\n",
    "def densenet169(pretrained=False, **kwargs):\n",
    "    r\"\"\"Densenet-169 model\"\"\"\n",
    "    model = DenseNet(num_init_features=64, growth_rate=32, block_config=(6, 12, 32, 32),\n",
    "                     **kwargs)\n",
    "    return model\n",
    "\n",
    "\n",
    "def densenet201(pretrained=False, **kwargs):\n",
    "    r\"\"\"Densenet-201 model\"\"\"\n",
    "    model = DenseNet(num_init_features=64, growth_rate=32, block_config=(6, 12, 48, 32),\n",
    "                     **kwargs)\n",
    "    return model\n",
    "\n",
    "\n",
    "def densenet264(pretrained=False, **kwargs):\n",
    "    r\"\"\"Densenet-264 model\"\"\"\n",
    "    model = DenseNet(num_init_features=64, growth_rate=32, block_config=(6, 12, 64, 48),\n",
    "                     **kwargs)\n",
    "    return model\n",
    "\n",
    "\n",
    "class _DenseLayer(nn.Sequential):\n",
    "    def __init__(self, num_input_features, growth_rate, bn_size, drop_rate):\n",
    "        super(_DenseLayer, self).__init__()\n",
    "        self.add_module('norm_1', nn.BatchNorm2d(num_input_features)),\n",
    "        self.add_module('relu_1', nn.ReLU(inplace=True)),\n",
    "        self.add_module('conv_1', nn.Conv2d(num_input_features, bn_size *\n",
    "                        growth_rate, kernel_size=1, stride=1, bias=False)),\n",
    "        self.add_module('norm_2', nn.BatchNorm2d(bn_size * growth_rate)),\n",
    "        self.add_module('relu_2', nn.ReLU(inplace=True)),\n",
    "        self.add_module('conv_2', nn.Conv2d(bn_size * growth_rate, growth_rate,\n",
    "                        kernel_size=3, stride=1, padding=1, bias=False)),\n",
    "        self.drop_rate = drop_rate\n",
    "\n",
    "    def forward(self, x):\n",
    "        new_features = super(_DenseLayer, self).forward(x)\n",
    "        if self.drop_rate > 0:\n",
    "            new_features = F.dropout(new_features, p=self.drop_rate, training=self.training)\n",
    "        return torch.cat([x, new_features], 1)\n",
    "\n",
    "\n",
    "class _Transition(nn.Sequential):\n",
    "    def __init__(self, num_input_features, num_output_features):\n",
    "        super(_Transition, self).__init__()\n",
    "        self.add_module('norm', nn.BatchNorm2d(num_input_features))\n",
    "        self.add_module('relu', nn.ReLU(inplace=True))\n",
    "        self.add_module('conv', nn.Conv2d(num_input_features, num_output_features,\n",
    "                                          kernel_size=1, stride=1, bias=False))\n",
    "        self.add_module('pool', nn.AvgPool2d(kernel_size=2, stride=2))\n",
    "\n",
    "\n",
    "class DenseNet(nn.Module):\n",
    "    r\"\"\"Densenet-BC model class\"\"\"\n",
    "    def __init__(self, growth_rate=32, block_config=(6, 12, 24, 16),\n",
    "                 num_init_features=64, bn_size=4, drop_rate=0, num_classes=1000):\n",
    "        super(DenseNet, self).__init__()\n",
    "\n",
    "        # First convolution\n",
    "        self.features = nn.Sequential(OrderedDict([\n",
    "            ('conv0', nn.Conv2d(3, num_init_features, kernel_size=7, stride=2, padding=3, bias=False)),\n",
    "            ('norm0', nn.BatchNorm2d(num_init_features)),\n",
    "            ('relu0', nn.ReLU(inplace=True)),\n",
    "            ('pool0', nn.MaxPool2d(kernel_size=3, stride=2, padding=1)),\n",
    "        ]))\n",
    "\n",
    "        num_features = num_init_features\n",
    "        for i, num_layers in enumerate(block_config):\n",
    "            num_input_features = num_features\n",
    "            for j in range(num_layers):\n",
    "                layer = _DenseLayer(\n",
    "                    num_input_features + j * growth_rate, growth_rate, bn_size, drop_rate)\n",
    "                self.features.add_module('denseblock{}_layer{}'.format((i + 1), (j + 1)), layer)\n",
    "\n",
    "            num_features = num_features + num_layers * growth_rate\n",
    "            if i != len(block_config) - 1:\n",
    "                trans = _Transition(num_input_features=num_features, num_output_features=num_features // 2)\n",
    "                self.features.add_module('transition%d' % (i + 1), trans)\n",
    "                num_features = num_features // 2\n",
    "\n",
    "        self.features.add_module('norm5', nn.BatchNorm2d(num_features))\n",
    "        self.classifier = nn.Linear(num_features, num_classes)  # We'll add our own head\n",
    "\n",
    "    def forward(self, x, chunks=0):\n",
    "        modules = [module for k, module in self._modules.items()][0]\n",
    "        input_var = x.detach()\n",
    "        input_var.requires_grad = True\n",
    "        if chunks > 1:\n",
    "            input_var = checkpoint_sequential(modules, chunks, input_var)\n",
    "        else:\n",
    "            input_var = checkpoint(modules, input_var)\n",
    "        input_var = F.relu(input_var, inplace=True)\n",
    "        input_var = F.avg_pool2d(input_var, kernel_size=7, stride=1).view(input_var.size(0), -1)\n",
    "        input_var = self.classifier(input_var)\n",
    "        return input_var\n",
    "\n",
    "\n"
   ]
  },
  {
   "cell_type": "code",
   "execution_count": null,
   "id": "naval-manufacturer",
   "metadata": {},
   "outputs": [],
   "source": [
    "# m = nn.Sequential(densenet100(pretrained=True, num_classes=100), create_head(200, 5))\n",
    "# model = Learner(dls, m, opt_func=ranger, metrics=[accuracy])\n",
    "model = Learner(dls, densenet100(pretrained=False, num_classes=2), opt_func=ranger, metrics=accuracy, cbs=cbs)"
   ]
  },
  {
   "cell_type": "code",
   "execution_count": null,
   "id": "stopped-dominican",
   "metadata": {},
   "outputs": [],
   "source": [
    "# model.unfreeze()\n",
    "lr_min, lr_steep = model.lr_find()\n",
    "plt.axvline(x=lr_min, color='red', ls='--')\n",
    "plt.axvline(x=lr_steep, color='yellow', ls='--')"
   ]
  },
  {
   "cell_type": "code",
   "execution_count": null,
   "id": "tribal-alliance",
   "metadata": {},
   "outputs": [],
   "source": [
    "\n",
    "# fit_hump(model, 100, lr_max=7e-3)\n",
    "# fit_slide(model, 10, lr_max=1e-3, reset_opt=True)\n",
    "model.fit_flat_cos(10, 9e-3, pct_start=0.9999, reset_opt=True)\n",
    "# model.fit_flat_cos(10, 3e-4, pct_start=0.2)\n",
    "# model.fit_one_cycle(10, lr_min)"
   ]
  },
  {
   "cell_type": "code",
   "execution_count": null,
   "id": "minus-yield",
   "metadata": {},
   "outputs": [],
   "source": [
    "model.recorder.plot_sched()"
   ]
  },
  {
   "cell_type": "code",
   "execution_count": null,
   "id": "administrative-cookbook",
   "metadata": {},
   "outputs": [],
   "source": []
  },
  {
   "cell_type": "code",
   "execution_count": null,
   "id": "british-london",
   "metadata": {},
   "outputs": [],
   "source": []
  },
  {
   "cell_type": "code",
   "execution_count": null,
   "id": "injured-privacy",
   "metadata": {},
   "outputs": [],
   "source": []
  },
  {
   "cell_type": "code",
   "execution_count": null,
   "id": "settled-spouse",
   "metadata": {},
   "outputs": [],
   "source": []
  },
  {
   "cell_type": "code",
   "execution_count": null,
   "id": "authentic-impossible",
   "metadata": {},
   "outputs": [],
   "source": []
  },
  {
   "cell_type": "code",
   "execution_count": null,
   "id": "warming-blowing",
   "metadata": {},
   "outputs": [],
   "source": []
  },
  {
   "cell_type": "code",
   "execution_count": null,
   "id": "opening-dealer",
   "metadata": {},
   "outputs": [],
   "source": []
  },
  {
   "cell_type": "code",
   "execution_count": null,
   "id": "certified-economics",
   "metadata": {},
   "outputs": [],
   "source": []
  },
  {
   "cell_type": "code",
   "execution_count": null,
   "id": "mechanical-tenant",
   "metadata": {},
   "outputs": [],
   "source": [
    "# model.model"
   ]
  },
  {
   "cell_type": "code",
   "execution_count": 13,
   "id": "indian-suicide",
   "metadata": {
    "execution": {
     "iopub.execute_input": "2021-02-16T11:33:29.825729Z",
     "iopub.status.busy": "2021-02-16T11:33:29.825473Z",
     "iopub.status.idle": "2021-02-16T11:33:29.994738Z",
     "shell.execute_reply": "2021-02-16T11:33:29.994280Z",
     "shell.execute_reply.started": "2021-02-16T11:33:29.825704Z"
    }
   },
   "outputs": [],
   "source": [
    "import timm\n",
    "# model = timm_learner(dls,\n",
    "#                     'efficientnet_b3a', opt_func=ranger,\n",
    "#                      pretrained=False, cbs=cbs,\n",
    "#                      metrics = [accuracy])\n",
    "\n",
    "model = timm_learner(dls, \n",
    "                     'densenetblur121d', \n",
    "                     opt_func=ranger, \n",
    "                     pretrained=False, \n",
    "                     cbs=cbs, metrics = [accuracy])\n"
   ]
  },
  {
   "cell_type": "code",
   "execution_count": null,
   "id": "protected-cliff",
   "metadata": {},
   "outputs": [],
   "source": [
    "model.model"
   ]
  },
  {
   "cell_type": "code",
   "execution_count": 10,
   "id": "balanced-framing",
   "metadata": {
    "execution": {
     "iopub.execute_input": "2021-02-16T11:12:53.311579Z",
     "iopub.status.busy": "2021-02-16T11:12:53.311317Z",
     "iopub.status.idle": "2021-02-16T11:12:53.317023Z",
     "shell.execute_reply": "2021-02-16T11:12:53.316459Z",
     "shell.execute_reply.started": "2021-02-16T11:12:53.311557Z"
    }
   },
   "outputs": [],
   "source": [
    "# model = convert_MP_to_blurMP(model, nn.MaxPool2d)  # doesn't exist!\n",
    "# model.model = convert_act_cls(model.model, nn.ReLU, MishAuto())  # very expensive so we only use it on the last layers\n",
    "# model.model = convert_act_cls(model.model, nn.SiLU, SwishAuto())  # replace with a lower memory version\n",
    "\n",
    "# model.model[0] = convert_seq_chkpt(model.model[0], nn.Sequential) #, 0)  # wrap all BODY sequentials to use Gradient Checkpointing\n",
    "# model.model[0] = nn.Sequential(CheckpointModule(model.model[0]))  # hack in the final checkpointmodule for the base sequence\n",
    "\n",
    "# model = model.to_fp16()"
   ]
  },
  {
   "cell_type": "code",
   "execution_count": null,
   "id": "aggressive-sussex",
   "metadata": {},
   "outputs": [],
   "source": [
    "# model.model[0] = nn.Sequential(CheckpointModule(model.model[0]))  # hack in the final checkpointmodule for the base sequence\n"
   ]
  },
  {
   "cell_type": "code",
   "execution_count": null,
   "id": "leading-tooth",
   "metadata": {},
   "outputs": [],
   "source": [
    "# model.freeze()\n",
    "# lr_min, lr_steep = model.lr_find()\n",
    "# plt.axvline(x=lr_min, color='red', ls='--')\n",
    "# plt.axvline(x=lr_steep, color='yellow', ls='--')"
   ]
  },
  {
   "cell_type": "code",
   "execution_count": null,
   "id": "regular-quest",
   "metadata": {},
   "outputs": [],
   "source": []
  },
  {
   "cell_type": "code",
   "execution_count": null,
   "id": "daily-execution",
   "metadata": {},
   "outputs": [],
   "source": []
  },
  {
   "cell_type": "code",
   "execution_count": null,
   "id": "preliminary-money",
   "metadata": {},
   "outputs": [],
   "source": [
    "# fit_hump(model, 1, lr_max=1e-2, reset_opt=True)"
   ]
  },
  {
   "cell_type": "code",
   "execution_count": 19,
   "id": "historic-blake",
   "metadata": {
    "execution": {
     "iopub.execute_input": "2021-02-16T11:59:20.387114Z",
     "iopub.status.busy": "2021-02-16T11:59:20.386860Z",
     "iopub.status.idle": "2021-02-16T11:59:56.477228Z",
     "shell.execute_reply": "2021-02-16T11:59:56.476819Z",
     "shell.execute_reply.started": "2021-02-16T11:59:20.387091Z"
    }
   },
   "outputs": [
    {
     "data": {
      "text/html": [],
      "text/plain": [
       "<IPython.core.display.HTML object>"
      ]
     },
     "metadata": {},
     "output_type": "display_data"
    },
    {
     "data": {
      "text/plain": [
       "<matplotlib.lines.Line2D at 0x7f2c40086370>"
      ]
     },
     "execution_count": 19,
     "metadata": {},
     "output_type": "execute_result"
    },
    {
     "data": {
      "image/png": "[encoded data removed]",
      "text/plain": [
       "<Figure size 1080x600 with 1 Axes>"
      ]
     },
     "metadata": {},
     "output_type": "display_data"
    }
   ],
   "source": [
    "model.freeze()\n",
    "lr_min, lr_steep = model.lr_find()\n",
    "plt.axvline(x=lr_min, color='red', ls='--')\n",
    "plt.axvline(x=lr_steep, color='yellow', ls='--')"
   ]
  },
  {
   "cell_type": "code",
   "execution_count": 22,
   "id": "prescription-defendant",
   "metadata": {
    "execution": {
     "iopub.execute_input": "2021-02-16T12:00:49.475655Z",
     "iopub.status.busy": "2021-02-16T12:00:49.475390Z",
     "iopub.status.idle": "2021-02-16T12:02:05.831000Z",
     "shell.execute_reply": "2021-02-16T12:02:05.830631Z",
     "shell.execute_reply.started": "2021-02-16T12:00:49.475631Z"
    }
   },
   "outputs": [
    {
     "data": {
      "text/html": [
       "<table border=\"1\" class=\"dataframe\">\n",
       "  <thead>\n",
       "    <tr style=\"text-align: left;\">\n",
       "      <th>epoch</th>\n",
       "      <th>train_loss</th>\n",
       "      <th>valid_loss</th>\n",
       "      <th>accuracy</th>\n",
       "      <th>time</th>\n",
       "    </tr>\n",
       "  </thead>\n",
       "  <tbody>\n",
       "    <tr>\n",
       "      <td>0</td>\n",
       "      <td>0.571193</td>\n",
       "      <td>0.542739</td>\n",
       "      <td>0.725981</td>\n",
       "      <td>01:16</td>\n",
       "    </tr>\n",
       "  </tbody>\n",
       "</table>"
      ],
      "text/plain": [
       "<IPython.core.display.HTML object>"
      ]
     },
     "metadata": {},
     "output_type": "display_data"
    },
    {
     "data": {
      "image/png": "[encoded data removed]",
      "text/plain": [
       "<Figure size 720x480 with 1 Axes>"
      ]
     },
     "metadata": {},
     "output_type": "display_data"
    }
   ],
   "source": [
    "\n",
    "# fit_hump(model, 100, lr_max=7e-3)\n",
    "# fit_slide(model, 10, lr_max=7e-3, reset_opt=True)\n",
    "model.fit_flat_cos(1, lr_min, pct_start=0.9, reset_opt=True)\n",
    "# model.fit_one_cycle(10, lr_min)"
   ]
  },
  {
   "cell_type": "code",
   "execution_count": 23,
   "id": "chemical-visiting",
   "metadata": {
    "execution": {
     "iopub.execute_input": "2021-02-16T12:02:13.939765Z",
     "iopub.status.busy": "2021-02-16T12:02:13.939467Z",
     "iopub.status.idle": "2021-02-16T12:02:14.021480Z",
     "shell.execute_reply": "2021-02-16T12:02:14.021082Z",
     "shell.execute_reply.started": "2021-02-16T12:02:13.939737Z"
    }
   },
   "outputs": [
    {
     "data": {
      "image/png": "[encoded data removed]",
      "text/plain": [
       "<Figure size 720x480 with 1 Axes>"
      ]
     },
     "metadata": {},
     "output_type": "display_data"
    }
   ],
   "source": [
    "# fit_hump(model, 2, lr_max=lr_min, reset_opt=True)\n",
    "model.recorder.plot_sched()"
   ]
  },
  {
   "cell_type": "code",
   "execution_count": null,
   "id": "arabic-representation",
   "metadata": {},
   "outputs": [],
   "source": []
  },
  {
   "cell_type": "code",
   "execution_count": null,
   "id": "apparent-harassment",
   "metadata": {},
   "outputs": [],
   "source": []
  },
  {
   "cell_type": "code",
   "execution_count": null,
   "id": "cloudy-redhead",
   "metadata": {},
   "outputs": [],
   "source": []
  },
  {
   "cell_type": "code",
   "execution_count": null,
   "id": "adjusted-slope",
   "metadata": {},
   "outputs": [],
   "source": []
  },
  {
   "cell_type": "code",
   "execution_count": null,
   "id": "convertible-singer",
   "metadata": {},
   "outputs": [],
   "source": [
    "fit_hump(model, 2, lr_max=lr_min, reset_opt=True)\n",
    "model.recorder.plot_sched()"
   ]
  },
  {
   "cell_type": "code",
   "execution_count": null,
   "id": "photographic-usage",
   "metadata": {},
   "outputs": [],
   "source": [
    "model.fit_flat_cos(2, lr_min, reset_opt=True)\n",
    "model.recorder.plot_sched()"
   ]
  },
  {
   "cell_type": "code",
   "execution_count": null,
   "id": "embedded-oracle",
   "metadata": {},
   "outputs": [],
   "source": [
    "model.fit_one_cycle(2, lr_min, reset_opt=True)\n",
    "model.recorder.plot_sched()"
   ]
  },
  {
   "cell_type": "code",
   "execution_count": null,
   "id": "mature-clarity",
   "metadata": {},
   "outputs": [],
   "source": []
  },
  {
   "cell_type": "code",
   "execution_count": null,
   "id": "afraid-invention",
   "metadata": {},
   "outputs": [],
   "source": []
  },
  {
   "cell_type": "code",
   "execution_count": null,
   "id": "following-surrey",
   "metadata": {},
   "outputs": [],
   "source": []
  },
  {
   "cell_type": "code",
   "execution_count": null,
   "id": "unnecessary-canadian",
   "metadata": {},
   "outputs": [],
   "source": []
  },
  {
   "cell_type": "code",
   "execution_count": null,
   "id": "tested-amazon",
   "metadata": {},
   "outputs": [],
   "source": []
  },
  {
   "cell_type": "code",
   "execution_count": null,
   "id": "demanding-investigator",
   "metadata": {},
   "outputs": [],
   "source": []
  },
  {
   "cell_type": "code",
   "execution_count": null,
   "id": "auburn-publisher",
   "metadata": {},
   "outputs": [],
   "source": []
  },
  {
   "cell_type": "code",
   "execution_count": 24,
   "id": "hungry-trout",
   "metadata": {
    "execution": {
     "iopub.execute_input": "2021-02-16T12:02:38.905102Z",
     "iopub.status.busy": "2021-02-16T12:02:38.904849Z",
     "iopub.status.idle": "2021-02-16T12:02:45.359714Z",
     "shell.execute_reply": "2021-02-16T12:02:45.359394Z",
     "shell.execute_reply.started": "2021-02-16T12:02:38.905080Z"
    }
   },
   "outputs": [
    {
     "data": {
      "text/html": [],
      "text/plain": [
       "<IPython.core.display.HTML object>"
      ]
     },
     "metadata": {},
     "output_type": "display_data"
    },
    {
     "data": {
      "image/png": "[encoded data removed]",
      "text/plain": [
       "<Figure size 960x960 with 1 Axes>"
      ]
     },
     "metadata": {},
     "output_type": "display_data"
    }
   ],
   "source": [
    "interp = ClassificationInterpretation.from_learner(model)\n",
    "interp.plot_confusion_matrix(figsize=(8,8))"
   ]
  },
  {
   "cell_type": "code",
   "execution_count": 25,
   "id": "biblical-crown",
   "metadata": {
    "execution": {
     "iopub.execute_input": "2021-02-16T12:02:45.363547Z",
     "iopub.status.busy": "2021-02-16T12:02:45.363441Z",
     "iopub.status.idle": "2021-02-16T12:02:45.368932Z",
     "shell.execute_reply": "2021-02-16T12:02:45.368660Z",
     "shell.execute_reply.started": "2021-02-16T12:02:45.363536Z"
    }
   },
   "outputs": [
    {
     "name": "stdout",
     "output_type": "stream",
     "text": [
      "              precision    recall  f1-score   support\n",
      "\n",
      "       False       0.75      0.90      0.82      1002\n",
      "        True       0.63      0.35      0.45       476\n",
      "\n",
      "    accuracy                           0.73      1478\n",
      "   macro avg       0.69      0.63      0.64      1478\n",
      "weighted avg       0.71      0.73      0.70      1478\n",
      "\n"
     ]
    }
   ],
   "source": [
    "interp.print_classification_report()"
   ]
  },
  {
   "cell_type": "code",
   "execution_count": null,
   "id": "mechanical-membership",
   "metadata": {},
   "outputs": [],
   "source": []
  },
  {
   "cell_type": "code",
   "execution_count": null,
   "id": "subtle-maldives",
   "metadata": {},
   "outputs": [],
   "source": []
  },
  {
   "cell_type": "code",
   "execution_count": null,
   "id": "diagnostic-tumor",
   "metadata": {},
   "outputs": [],
   "source": []
  },
  {
   "cell_type": "code",
   "execution_count": null,
   "id": "isolated-engagement",
   "metadata": {},
   "outputs": [],
   "source": []
  },
  {
   "cell_type": "code",
   "execution_count": null,
   "id": "comparative-spine",
   "metadata": {},
   "outputs": [],
   "source": []
  },
  {
   "cell_type": "code",
   "execution_count": null,
   "id": "instant-parker",
   "metadata": {},
   "outputs": [],
   "source": []
  },
  {
   "cell_type": "code",
   "execution_count": null,
   "id": "seasonal-marijuana",
   "metadata": {},
   "outputs": [],
   "source": []
  },
  {
   "cell_type": "code",
   "execution_count": null,
   "id": "moving-guatemala",
   "metadata": {},
   "outputs": [],
   "source": []
  },
  {
   "cell_type": "code",
   "execution_count": null,
   "id": "respective-canada",
   "metadata": {},
   "outputs": [],
   "source": []
  },
  {
   "cell_type": "code",
   "execution_count": null,
   "id": "naughty-insertion",
   "metadata": {},
   "outputs": [],
   "source": []
  },
  {
   "cell_type": "code",
   "execution_count": null,
   "id": "ethical-niagara",
   "metadata": {},
   "outputs": [],
   "source": []
  },
  {
   "cell_type": "code",
   "execution_count": null,
   "id": "helpful-peter",
   "metadata": {},
   "outputs": [],
   "source": []
  },
  {
   "cell_type": "code",
   "execution_count": null,
   "id": "median-seven",
   "metadata": {},
   "outputs": [],
   "source": []
  },
  {
   "cell_type": "code",
   "execution_count": null,
   "id": "boxed-findings",
   "metadata": {},
   "outputs": [],
   "source": []
  },
  {
   "cell_type": "code",
   "execution_count": null,
   "id": "final-stephen",
   "metadata": {},
   "outputs": [],
   "source": []
  },
  {
   "cell_type": "code",
   "execution_count": null,
   "id": "mathematical-valuable",
   "metadata": {},
   "outputs": [],
   "source": []
  },
  {
   "cell_type": "code",
   "execution_count": null,
   "id": "attractive-webster",
   "metadata": {},
   "outputs": [],
   "source": [
    "from fastai.test_utils import synth_learner\n",
    "\n",
    "synth_orig = synth_learner(cbs=ShowGraphCallback(), metrics=accuracy)\n"
   ]
  },
  {
   "cell_type": "code",
   "execution_count": null,
   "id": "continued-exception",
   "metadata": {},
   "outputs": [],
   "source": [
    "synth = deepcopy(synth_orig)\n",
    "\n",
    "lr_min, lr_steep = synth.lr_find()\n",
    "plt.axvline(x=1e-2, color='red', ls='--')\n",
    "plt.axvline(x=1e-3, color='blue', ls='--')\n",
    "plt.axvline(x=1e-1, color='purple', ls='--')\n",
    "\n",
    "plt.axvline(x=lr_min, color='green', ls='--')\n",
    "plt.axvline(x=lr_steep, color='yellow', ls='--')"
   ]
  },
  {
   "cell_type": "code",
   "execution_count": null,
   "id": "center-interview",
   "metadata": {},
   "outputs": [],
   "source": [
    "lr = lr_min*5"
   ]
  },
  {
   "cell_type": "code",
   "execution_count": null,
   "id": "comfortable-indication",
   "metadata": {},
   "outputs": [],
   "source": [
    "synth = deepcopy(synth_orig)\n",
    "synth.fit_one_cycle(10, lr_max=lr, reset_opt=True)\n",
    "synth.recorder.plot_sched()"
   ]
  },
  {
   "cell_type": "code",
   "execution_count": null,
   "id": "durable-improvement",
   "metadata": {},
   "outputs": [],
   "source": [
    "synth = deepcopy(synth_orig)\n",
    "fit_hump(synth, 10, lr_max=lr, reset_opt=True)\n",
    "synth.recorder.plot_sched()"
   ]
  },
  {
   "cell_type": "code",
   "execution_count": null,
   "id": "latest-highland",
   "metadata": {},
   "outputs": [],
   "source": [
    "synth = deepcopy(synth_orig)\n",
    "fit_hump_nomo(synth, 10, lr_max=lr, reset_opt=True)\n",
    "synth.recorder.plot_sched()"
   ]
  },
  {
   "cell_type": "code",
   "execution_count": null,
   "id": "painful-drive",
   "metadata": {},
   "outputs": [],
   "source": [
    "synth = deepcopy(synth_orig)\n",
    "synth.fit_flat_cos(10, lr=lr, reset_opt=True, cbs=ShowGraphCallback())\n",
    "synth.recorder.plot_sched()"
   ]
  },
  {
   "cell_type": "code",
   "execution_count": null,
   "id": "expensive-student",
   "metadata": {},
   "outputs": [],
   "source": []
  }
 ],
 "metadata": {
  "kernelspec": {
   "display_name": "Python 3",
   "language": "python",
   "name": "python3"
  },
  "language_info": {
   "codemirror_mode": {
    "name": "ipython",
    "version": 3
   },
   "file_extension": ".py",
   "mimetype": "text/x-python",
   "name": "python",
   "nbconvert_exporter": "python",
   "pygments_lexer": "ipython3",
   "version": "3.8.6"
  },
  "widgets": {
   "application/vnd.jupyter.widget-state+json": {
    "state": {},
    "version_major": 2,
    "version_minor": 0
   }
  }
 },
 "nbformat": 4,
 "nbformat_minor": 5
}
