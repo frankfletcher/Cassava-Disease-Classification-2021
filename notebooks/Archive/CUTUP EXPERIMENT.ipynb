{
 "cells": [
  {
   "cell_type": "markdown",
   "id": "dietary-zimbabwe",
   "metadata": {},
   "source": [
    "## Experiment with cutting up models\n"
   ]
  },
  {
   "cell_type": "code",
   "execution_count": 8,
   "id": "danish-transparency",
   "metadata": {
    "execution": {
     "iopub.execute_input": "2021-02-12T10:16:31.560037Z",
     "iopub.status.busy": "2021-02-12T10:16:31.559874Z",
     "iopub.status.idle": "2021-02-12T10:16:31.651741Z",
     "shell.execute_reply": "2021-02-12T10:16:31.651474Z",
     "shell.execute_reply.started": "2021-02-12T10:16:31.560024Z"
    }
   },
   "outputs": [
    {
     "data": {
      "text/html": [
       "<table border=\"1\" class=\"dataframe\">\n",
       "  <thead>\n",
       "    <tr style=\"text-align: right;\">\n",
       "      <th></th>\n",
       "      <th>workclass</th>\n",
       "      <th>education</th>\n",
       "      <th>marital-status</th>\n",
       "      <th>occupation</th>\n",
       "      <th>relationship</th>\n",
       "      <th>race</th>\n",
       "    </tr>\n",
       "  </thead>\n",
       "  <tbody>\n",
       "    <tr>\n",
       "      <th>0</th>\n",
       "      <td>Private</td>\n",
       "      <td>Assoc-acdm</td>\n",
       "      <td>Married-civ-spouse</td>\n",
       "      <td>#na#</td>\n",
       "      <td>Wife</td>\n",
       "      <td>White</td>\n",
       "    </tr>\n",
       "    <tr>\n",
       "      <th>1</th>\n",
       "      <td>Private</td>\n",
       "      <td>Masters</td>\n",
       "      <td>Divorced</td>\n",
       "      <td>Exec-managerial</td>\n",
       "      <td>Not-in-family</td>\n",
       "      <td>White</td>\n",
       "    </tr>\n",
       "    <tr>\n",
       "      <th>2</th>\n",
       "      <td>Private</td>\n",
       "      <td>HS-grad</td>\n",
       "      <td>Divorced</td>\n",
       "      <td>#na#</td>\n",
       "      <td>Unmarried</td>\n",
       "      <td>Black</td>\n",
       "    </tr>\n",
       "  </tbody>\n",
       "</table>"
      ],
      "text/plain": [
       "<IPython.core.display.HTML object>"
      ]
     },
     "metadata": {},
     "output_type": "display_data"
    }
   ],
   "source": [
    "from datetime import datetime\n",
    "from fastbook import *\n",
    "from fastai.vision.all import *\n",
    "from fastai.vision.widgets import *\n",
    "import fastai\n",
    "import matplotlib.pyplot as plt\n",
    "import matplotlib.ticker as ticker\n",
    "from string import ascii_uppercase\n",
    "import numpy as np\n",
    "import operator\n",
    "import glob\n",
    "\n",
    "import torch\n",
    "from torch import nn as nn\n",
    "from torch.nn import functional as F\n",
    "\n",
    "\n",
    "%matplotlib inline\n",
    "\n",
    "# %matplotlib widget\n",
    "\n",
    "plt.rcParams['figure.figsize'] = [9, 5]\n",
    "plt.rcParams['figure.dpi'] = 120\n",
    "plt.style.use('dark_background')\n",
    "\n",
    "from fastai.tabular.all import *\n",
    "path = untar_data(URLs.ADULT_SAMPLE)\n",
    "df = pd.read_csv(path/'adult.csv')\n",
    "df.head()\n",
    "cat_names = ['workclass', 'education', 'marital-status', 'occupation', 'relationship', 'race']\n",
    "cont_names = ['age', 'fnlwgt', 'education-num']\n",
    "\n",
    "cat = Categorify()\n",
    "\n",
    "to = TabularPandas(df, cat, cat_names)\n",
    "\n",
    "cats = to.procs.categorify\n",
    "cats['relationship']\n",
    "\n",
    "to.show(max_n=3)\n",
    "\n",
    "\n"
   ]
  },
  {
   "cell_type": "code",
   "execution_count": 9,
   "id": "unable-thompson",
   "metadata": {
    "execution": {
     "iopub.execute_input": "2021-02-12T10:16:51.422690Z",
     "iopub.status.busy": "2021-02-12T10:16:51.422465Z",
     "iopub.status.idle": "2021-02-12T10:16:51.432002Z",
     "shell.execute_reply": "2021-02-12T10:16:51.431268Z",
     "shell.execute_reply.started": "2021-02-12T10:16:51.422669Z"
    }
   },
   "outputs": [
    {
     "data": {
      "text/html": [
       "<div>\n",
       "<style scoped>\n",
       "    .dataframe tbody tr th:only-of-type {\n",
       "        vertical-align: middle;\n",
       "    }\n",
       "\n",
       "    .dataframe tbody tr th {\n",
       "        vertical-align: top;\n",
       "    }\n",
       "\n",
       "    .dataframe thead th {\n",
       "        text-align: right;\n",
       "    }\n",
       "</style>\n",
       "<table border=\"1\" class=\"dataframe\">\n",
       "  <thead>\n",
       "    <tr style=\"text-align: right;\">\n",
       "      <th></th>\n",
       "      <th>workclass</th>\n",
       "      <th>education</th>\n",
       "      <th>marital-status</th>\n",
       "      <th>occupation</th>\n",
       "      <th>relationship</th>\n",
       "      <th>race</th>\n",
       "    </tr>\n",
       "  </thead>\n",
       "  <tbody>\n",
       "    <tr>\n",
       "      <th>0</th>\n",
       "      <td>5</td>\n",
       "      <td>8</td>\n",
       "      <td>3</td>\n",
       "      <td>0</td>\n",
       "      <td>6</td>\n",
       "      <td>5</td>\n",
       "    </tr>\n",
       "    <tr>\n",
       "      <th>1</th>\n",
       "      <td>5</td>\n",
       "      <td>13</td>\n",
       "      <td>1</td>\n",
       "      <td>5</td>\n",
       "      <td>2</td>\n",
       "      <td>5</td>\n",
       "    </tr>\n",
       "    <tr>\n",
       "      <th>2</th>\n",
       "      <td>5</td>\n",
       "      <td>12</td>\n",
       "      <td>1</td>\n",
       "      <td>0</td>\n",
       "      <td>5</td>\n",
       "      <td>3</td>\n",
       "    </tr>\n",
       "    <tr>\n",
       "      <th>3</th>\n",
       "      <td>6</td>\n",
       "      <td>15</td>\n",
       "      <td>3</td>\n",
       "      <td>11</td>\n",
       "      <td>1</td>\n",
       "      <td>2</td>\n",
       "    </tr>\n",
       "    <tr>\n",
       "      <th>4</th>\n",
       "      <td>7</td>\n",
       "      <td>6</td>\n",
       "      <td>3</td>\n",
       "      <td>9</td>\n",
       "      <td>6</td>\n",
       "      <td>3</td>\n",
       "    </tr>\n",
       "  </tbody>\n",
       "</table>\n",
       "</div>"
      ],
      "text/plain": [
       "   workclass  education  marital-status  occupation  relationship  race\n",
       "0          5          8               3           0             6     5\n",
       "1          5         13               1           5             2     5\n",
       "2          5         12               1           0             5     3\n",
       "3          6         15               3          11             1     2\n",
       "4          7          6               3           9             6     3"
      ]
     },
     "execution_count": 9,
     "metadata": {},
     "output_type": "execute_result"
    }
   ],
   "source": [
    "to.cats.head()"
   ]
  },
  {
   "cell_type": "code",
   "execution_count": 10,
   "id": "equal-blast",
   "metadata": {
    "execution": {
     "iopub.execute_input": "2021-02-12T10:17:35.332564Z",
     "iopub.status.busy": "2021-02-12T10:17:35.332398Z",
     "iopub.status.idle": "2021-02-12T10:17:35.361501Z",
     "shell.execute_reply": "2021-02-12T10:17:35.361134Z",
     "shell.execute_reply.started": "2021-02-12T10:17:35.332550Z"
    }
   },
   "outputs": [],
   "source": [
    "norm = Normalize()\n",
    "to = TabularPandas(df, norm, cont_names=cont_names)\n",
    "norms = to.procs.normalize\n"
   ]
  },
  {
   "cell_type": "code",
   "execution_count": 11,
   "id": "herbal-coordination",
   "metadata": {
    "execution": {
     "iopub.execute_input": "2021-02-12T10:17:36.270014Z",
     "iopub.status.busy": "2021-02-12T10:17:36.269743Z",
     "iopub.status.idle": "2021-02-12T10:17:36.273641Z",
     "shell.execute_reply": "2021-02-12T10:17:36.273303Z",
     "shell.execute_reply.started": "2021-02-12T10:17:36.269981Z"
    }
   },
   "outputs": [
    {
     "data": {
      "text/plain": [
       "{'age': 38.58164675532078,\n",
       " 'fnlwgt': 189778.36651208502,\n",
       " 'education-num': 10.079815864562988}"
      ]
     },
     "execution_count": 11,
     "metadata": {},
     "output_type": "execute_result"
    }
   ],
   "source": [
    "norms.means\n"
   ]
  },
  {
   "cell_type": "code",
   "execution_count": 12,
   "id": "worldwide-defendant",
   "metadata": {
    "execution": {
     "iopub.execute_input": "2021-02-12T10:17:37.046747Z",
     "iopub.status.busy": "2021-02-12T10:17:37.046464Z",
     "iopub.status.idle": "2021-02-12T10:17:37.050931Z",
     "shell.execute_reply": "2021-02-12T10:17:37.050127Z",
     "shell.execute_reply.started": "2021-02-12T10:17:37.046722Z"
    }
   },
   "outputs": [
    {
     "data": {
      "text/plain": [
       "{'age': 13.640223192304274,\n",
       " 'fnlwgt': 105548.3568809906,\n",
       " 'education-num': 2.573042731149292}"
      ]
     },
     "execution_count": 12,
     "metadata": {},
     "output_type": "execute_result"
    }
   ],
   "source": [
    "norms.stds\n"
   ]
  },
  {
   "cell_type": "code",
   "execution_count": 14,
   "id": "small-chester",
   "metadata": {
    "execution": {
     "iopub.execute_input": "2021-02-12T10:17:58.960283Z",
     "iopub.status.busy": "2021-02-12T10:17:58.960030Z",
     "iopub.status.idle": "2021-02-12T10:17:58.968870Z",
     "shell.execute_reply": "2021-02-12T10:17:58.968411Z",
     "shell.execute_reply.started": "2021-02-12T10:17:58.960259Z"
    }
   },
   "outputs": [
    {
     "data": {
      "text/html": [
       "<div>\n",
       "<style scoped>\n",
       "    .dataframe tbody tr th:only-of-type {\n",
       "        vertical-align: middle;\n",
       "    }\n",
       "\n",
       "    .dataframe tbody tr th {\n",
       "        vertical-align: top;\n",
       "    }\n",
       "\n",
       "    .dataframe thead th {\n",
       "        text-align: right;\n",
       "    }\n",
       "</style>\n",
       "<table border=\"1\" class=\"dataframe\">\n",
       "  <thead>\n",
       "    <tr style=\"text-align: right;\">\n",
       "      <th></th>\n",
       "      <th>age</th>\n",
       "      <th>fnlwgt</th>\n",
       "      <th>education-num</th>\n",
       "    </tr>\n",
       "  </thead>\n",
       "  <tbody>\n",
       "    <tr>\n",
       "      <th>0</th>\n",
       "      <td>0.763796</td>\n",
       "      <td>-0.838084</td>\n",
       "      <td>0.746270</td>\n",
       "    </tr>\n",
       "    <tr>\n",
       "      <th>1</th>\n",
       "      <td>0.397233</td>\n",
       "      <td>0.444987</td>\n",
       "      <td>1.523560</td>\n",
       "    </tr>\n",
       "    <tr>\n",
       "      <th>2</th>\n",
       "      <td>-0.042642</td>\n",
       "      <td>-0.886734</td>\n",
       "      <td>NaN</td>\n",
       "    </tr>\n",
       "    <tr>\n",
       "      <th>3</th>\n",
       "      <td>-0.042642</td>\n",
       "      <td>-0.728873</td>\n",
       "      <td>1.912205</td>\n",
       "    </tr>\n",
       "    <tr>\n",
       "      <th>4</th>\n",
       "      <td>0.250608</td>\n",
       "      <td>-1.018314</td>\n",
       "      <td>NaN</td>\n",
       "    </tr>\n",
       "  </tbody>\n",
       "</table>\n",
       "</div>"
      ],
      "text/plain": [
       "        age    fnlwgt  education-num\n",
       "0  0.763796 -0.838084       0.746270\n",
       "1  0.397233  0.444987       1.523560\n",
       "2 -0.042642 -0.886734            NaN\n",
       "3 -0.042642 -0.728873       1.912205\n",
       "4  0.250608 -1.018314            NaN"
      ]
     },
     "execution_count": 14,
     "metadata": {},
     "output_type": "execute_result"
    }
   ],
   "source": [
    "to.conts.head()\n"
   ]
  },
  {
   "cell_type": "code",
   "execution_count": 15,
   "id": "polyphonic-brown",
   "metadata": {
    "execution": {
     "iopub.execute_input": "2021-02-12T10:18:20.613301Z",
     "iopub.status.busy": "2021-02-12T10:18:20.613104Z",
     "iopub.status.idle": "2021-02-12T10:18:20.653707Z",
     "shell.execute_reply": "2021-02-12T10:18:20.653140Z",
     "shell.execute_reply.started": "2021-02-12T10:18:20.613283Z"
    }
   },
   "outputs": [
    {
     "data": {
      "text/html": [
       "<div>\n",
       "<style scoped>\n",
       "    .dataframe tbody tr th:only-of-type {\n",
       "        vertical-align: middle;\n",
       "    }\n",
       "\n",
       "    .dataframe tbody tr th {\n",
       "        vertical-align: top;\n",
       "    }\n",
       "\n",
       "    .dataframe thead th {\n",
       "        text-align: right;\n",
       "    }\n",
       "</style>\n",
       "<table border=\"1\" class=\"dataframe\">\n",
       "  <thead>\n",
       "    <tr style=\"text-align: right;\">\n",
       "      <th></th>\n",
       "      <th>age</th>\n",
       "      <th>fnlwgt</th>\n",
       "      <th>education-num</th>\n",
       "    </tr>\n",
       "  </thead>\n",
       "  <tbody>\n",
       "    <tr>\n",
       "      <th>0</th>\n",
       "      <td>49</td>\n",
       "      <td>101320</td>\n",
       "      <td>12.0</td>\n",
       "    </tr>\n",
       "    <tr>\n",
       "      <th>1</th>\n",
       "      <td>44</td>\n",
       "      <td>236746</td>\n",
       "      <td>14.0</td>\n",
       "    </tr>\n",
       "    <tr>\n",
       "      <th>2</th>\n",
       "      <td>38</td>\n",
       "      <td>96185</td>\n",
       "      <td>10.0</td>\n",
       "    </tr>\n",
       "    <tr>\n",
       "      <th>3</th>\n",
       "      <td>38</td>\n",
       "      <td>112847</td>\n",
       "      <td>15.0</td>\n",
       "    </tr>\n",
       "    <tr>\n",
       "      <th>4</th>\n",
       "      <td>42</td>\n",
       "      <td>82297</td>\n",
       "      <td>10.0</td>\n",
       "    </tr>\n",
       "  </tbody>\n",
       "</table>\n",
       "</div>"
      ],
      "text/plain": [
       "   age  fnlwgt  education-num\n",
       "0   49  101320           12.0\n",
       "1   44  236746           14.0\n",
       "2   38   96185           10.0\n",
       "3   38  112847           15.0\n",
       "4   42   82297           10.0"
      ]
     },
     "execution_count": 15,
     "metadata": {},
     "output_type": "execute_result"
    }
   ],
   "source": [
    "fm = FillMissing(fill_strategy=FillStrategy.median)\n",
    "to = TabularPandas(df, fm, cont_names=cont_names)\n",
    "to.conts.head()\n"
   ]
  },
  {
   "cell_type": "code",
   "execution_count": 16,
   "id": "acquired-nursing",
   "metadata": {
    "execution": {
     "iopub.execute_input": "2021-02-12T10:18:37.881532Z",
     "iopub.status.busy": "2021-02-12T10:18:37.881201Z",
     "iopub.status.idle": "2021-02-12T10:18:37.885472Z",
     "shell.execute_reply": "2021-02-12T10:18:37.884910Z",
     "shell.execute_reply.started": "2021-02-12T10:18:37.881503Z"
    }
   },
   "outputs": [
    {
     "data": {
      "text/plain": [
       "(#1) ['education-num_na']"
      ]
     },
     "execution_count": 16,
     "metadata": {},
     "output_type": "execute_result"
    }
   ],
   "source": [
    "to.cat_names\n"
   ]
  },
  {
   "cell_type": "code",
   "execution_count": 17,
   "id": "robust-poland",
   "metadata": {
    "execution": {
     "iopub.execute_input": "2021-02-12T10:18:57.457172Z",
     "iopub.status.busy": "2021-02-12T10:18:57.456914Z",
     "iopub.status.idle": "2021-02-12T10:18:57.464763Z",
     "shell.execute_reply": "2021-02-12T10:18:57.464443Z",
     "shell.execute_reply.started": "2021-02-12T10:18:57.457149Z"
    }
   },
   "outputs": [
    {
     "data": {
      "text/html": [
       "<div>\n",
       "<style scoped>\n",
       "    .dataframe tbody tr th:only-of-type {\n",
       "        vertical-align: middle;\n",
       "    }\n",
       "\n",
       "    .dataframe tbody tr th {\n",
       "        vertical-align: top;\n",
       "    }\n",
       "\n",
       "    .dataframe thead th {\n",
       "        text-align: right;\n",
       "    }\n",
       "</style>\n",
       "<table border=\"1\" class=\"dataframe\">\n",
       "  <thead>\n",
       "    <tr style=\"text-align: right;\">\n",
       "      <th></th>\n",
       "      <th>education-num_na</th>\n",
       "    </tr>\n",
       "  </thead>\n",
       "  <tbody>\n",
       "    <tr>\n",
       "      <th>0</th>\n",
       "      <td>False</td>\n",
       "    </tr>\n",
       "    <tr>\n",
       "      <th>1</th>\n",
       "      <td>False</td>\n",
       "    </tr>\n",
       "    <tr>\n",
       "      <th>2</th>\n",
       "      <td>True</td>\n",
       "    </tr>\n",
       "    <tr>\n",
       "      <th>3</th>\n",
       "      <td>False</td>\n",
       "    </tr>\n",
       "    <tr>\n",
       "      <th>4</th>\n",
       "      <td>True</td>\n",
       "    </tr>\n",
       "  </tbody>\n",
       "</table>\n",
       "</div>"
      ],
      "text/plain": [
       "   education-num_na\n",
       "0             False\n",
       "1             False\n",
       "2              True\n",
       "3             False\n",
       "4              True"
      ]
     },
     "execution_count": 17,
     "metadata": {},
     "output_type": "execute_result"
    }
   ],
   "source": [
    "to.cats.head()\n"
   ]
  },
  {
   "cell_type": "code",
   "execution_count": 18,
   "id": "ultimate-defendant",
   "metadata": {
    "execution": {
     "iopub.execute_input": "2021-02-12T10:19:35.391177Z",
     "iopub.status.busy": "2021-02-12T10:19:35.390926Z",
     "iopub.status.idle": "2021-02-12T10:19:35.398052Z",
     "shell.execute_reply": "2021-02-12T10:19:35.397518Z",
     "shell.execute_reply.started": "2021-02-12T10:19:35.391154Z"
    }
   },
   "outputs": [
    {
     "data": {
      "text/plain": [
       "((#26049) [14860,30337,20177,23289,27833,28222,10731,775,9068,15458...],\n",
       " (#6512) [26459,14308,30129,7933,23325,4624,24726,19755,24006,30826...])"
      ]
     },
     "execution_count": 18,
     "metadata": {},
     "output_type": "execute_result"
    }
   ],
   "source": [
    "splits = RandomSplitter()(range_of(df))\n",
    "splits"
   ]
  },
  {
   "cell_type": "code",
   "execution_count": 19,
   "id": "hungry-oklahoma",
   "metadata": {
    "execution": {
     "iopub.execute_input": "2021-02-12T10:19:55.654247Z",
     "iopub.status.busy": "2021-02-12T10:19:55.654009Z",
     "iopub.status.idle": "2021-02-12T10:19:55.658109Z",
     "shell.execute_reply": "2021-02-12T10:19:55.657687Z",
     "shell.execute_reply.started": "2021-02-12T10:19:55.654225Z"
    }
   },
   "outputs": [
    {
     "data": {
      "text/plain": [
       "([0, 1, 2, 3, 4], 32561)"
      ]
     },
     "execution_count": 19,
     "metadata": {},
     "output_type": "execute_result"
    }
   ],
   "source": [
    "range_of(df)[:5], len(df)\n"
   ]
  },
  {
   "cell_type": "code",
   "execution_count": 20,
   "id": "professional-march",
   "metadata": {
    "execution": {
     "iopub.execute_input": "2021-02-12T10:20:15.341281Z",
     "iopub.status.busy": "2021-02-12T10:20:15.341028Z",
     "iopub.status.idle": "2021-02-12T10:20:15.344463Z",
     "shell.execute_reply": "2021-02-12T10:20:15.344073Z",
     "shell.execute_reply.started": "2021-02-12T10:20:15.341258Z"
    }
   },
   "outputs": [],
   "source": [
    "cat_names = ['workclass', 'education', 'marital-status', 'occupation', 'relationship', 'race']\n",
    "cont_names = ['age', 'fnlwgt', 'education-num']\n",
    "procs = [Categorify, FillMissing, Normalize]\n",
    "y_names = 'salary'\n",
    "y_block = CategoryBlock()"
   ]
  },
  {
   "cell_type": "code",
   "execution_count": 21,
   "id": "universal-sucking",
   "metadata": {
    "execution": {
     "iopub.execute_input": "2021-02-12T10:20:27.266079Z",
     "iopub.status.busy": "2021-02-12T10:20:27.265920Z",
     "iopub.status.idle": "2021-02-12T10:20:27.336030Z",
     "shell.execute_reply": "2021-02-12T10:20:27.335621Z",
     "shell.execute_reply.started": "2021-02-12T10:20:27.266067Z"
    }
   },
   "outputs": [],
   "source": [
    "to = TabularPandas(df, procs=procs, cat_names=cat_names, cont_names=cont_names,\n",
    "                   y_names=y_names, y_block=y_block, splits=splits)"
   ]
  },
  {
   "cell_type": "code",
   "execution_count": 22,
   "id": "ignored-korean",
   "metadata": {
    "execution": {
     "iopub.execute_input": "2021-02-12T10:20:33.677969Z",
     "iopub.status.busy": "2021-02-12T10:20:33.677812Z",
     "iopub.status.idle": "2021-02-12T10:20:36.389231Z",
     "shell.execute_reply": "2021-02-12T10:20:36.388802Z",
     "shell.execute_reply.started": "2021-02-12T10:20:33.677956Z"
    }
   },
   "outputs": [],
   "source": [
    "dls = to.dataloaders()"
   ]
  },
  {
   "cell_type": "code",
   "execution_count": 23,
   "id": "pregnant-midwest",
   "metadata": {
    "execution": {
     "iopub.execute_input": "2021-02-12T10:20:44.781005Z",
     "iopub.status.busy": "2021-02-12T10:20:44.780706Z",
     "iopub.status.idle": "2021-02-12T10:20:44.791232Z",
     "shell.execute_reply": "2021-02-12T10:20:44.790764Z",
     "shell.execute_reply.started": "2021-02-12T10:20:44.780978Z"
    }
   },
   "outputs": [],
   "source": [
    "trn_dl = TabDataLoader(to.train, bs=64, shuffle=True, drop_last=True)\n",
    "val_dl = TabDataLoader(to.valid, bs=128)"
   ]
  },
  {
   "cell_type": "code",
   "execution_count": 25,
   "id": "included-edwards",
   "metadata": {
    "execution": {
     "iopub.execute_input": "2021-02-12T10:21:03.955748Z",
     "iopub.status.busy": "2021-02-12T10:21:03.955493Z",
     "iopub.status.idle": "2021-02-12T10:21:03.989495Z",
     "shell.execute_reply": "2021-02-12T10:21:03.989117Z",
     "shell.execute_reply.started": "2021-02-12T10:21:03.955725Z"
    }
   },
   "outputs": [
    {
     "data": {
      "text/html": [
       "<table border=\"1\" class=\"dataframe\">\n",
       "  <thead>\n",
       "    <tr style=\"text-align: right;\">\n",
       "      <th></th>\n",
       "      <th>workclass</th>\n",
       "      <th>education</th>\n",
       "      <th>marital-status</th>\n",
       "      <th>occupation</th>\n",
       "      <th>relationship</th>\n",
       "      <th>race</th>\n",
       "      <th>education-num_na</th>\n",
       "      <th>age</th>\n",
       "      <th>fnlwgt</th>\n",
       "      <th>education-num</th>\n",
       "      <th>salary</th>\n",
       "    </tr>\n",
       "  </thead>\n",
       "  <tbody>\n",
       "    <tr>\n",
       "      <th>0</th>\n",
       "      <td>Self-emp-inc</td>\n",
       "      <td>Bachelors</td>\n",
       "      <td>Married-civ-spouse</td>\n",
       "      <td>Exec-managerial</td>\n",
       "      <td>Husband</td>\n",
       "      <td>White</td>\n",
       "      <td>False</td>\n",
       "      <td>66.999999</td>\n",
       "      <td>111320.998827</td>\n",
       "      <td>13.0</td>\n",
       "      <td>&lt;50k</td>\n",
       "    </tr>\n",
       "    <tr>\n",
       "      <th>1</th>\n",
       "      <td>Private</td>\n",
       "      <td>Some-college</td>\n",
       "      <td>Never-married</td>\n",
       "      <td>Sales</td>\n",
       "      <td>Own-child</td>\n",
       "      <td>White</td>\n",
       "      <td>False</td>\n",
       "      <td>17.999999</td>\n",
       "      <td>171087.999503</td>\n",
       "      <td>10.0</td>\n",
       "      <td>&lt;50k</td>\n",
       "    </tr>\n",
       "    <tr>\n",
       "      <th>2</th>\n",
       "      <td>Private</td>\n",
       "      <td>HS-grad</td>\n",
       "      <td>Divorced</td>\n",
       "      <td>Sales</td>\n",
       "      <td>Not-in-family</td>\n",
       "      <td>White</td>\n",
       "      <td>False</td>\n",
       "      <td>35.000000</td>\n",
       "      <td>101387.000697</td>\n",
       "      <td>9.0</td>\n",
       "      <td>&lt;50k</td>\n",
       "    </tr>\n",
       "    <tr>\n",
       "      <th>3</th>\n",
       "      <td>Federal-gov</td>\n",
       "      <td>Assoc-acdm</td>\n",
       "      <td>Never-married</td>\n",
       "      <td>Prof-specialty</td>\n",
       "      <td>Not-in-family</td>\n",
       "      <td>White</td>\n",
       "      <td>False</td>\n",
       "      <td>30.000000</td>\n",
       "      <td>43953.005629</td>\n",
       "      <td>12.0</td>\n",
       "      <td>&lt;50k</td>\n",
       "    </tr>\n",
       "    <tr>\n",
       "      <th>4</th>\n",
       "      <td>Private</td>\n",
       "      <td>Some-college</td>\n",
       "      <td>Married-civ-spouse</td>\n",
       "      <td>Exec-managerial</td>\n",
       "      <td>Husband</td>\n",
       "      <td>White</td>\n",
       "      <td>False</td>\n",
       "      <td>33.000000</td>\n",
       "      <td>303867.000523</td>\n",
       "      <td>10.0</td>\n",
       "      <td>&lt;50k</td>\n",
       "    </tr>\n",
       "    <tr>\n",
       "      <th>5</th>\n",
       "      <td>Local-gov</td>\n",
       "      <td>Masters</td>\n",
       "      <td>Divorced</td>\n",
       "      <td>Prof-specialty</td>\n",
       "      <td>Unmarried</td>\n",
       "      <td>White</td>\n",
       "      <td>False</td>\n",
       "      <td>52.999999</td>\n",
       "      <td>176557.000259</td>\n",
       "      <td>14.0</td>\n",
       "      <td>&lt;50k</td>\n",
       "    </tr>\n",
       "    <tr>\n",
       "      <th>6</th>\n",
       "      <td>Private</td>\n",
       "      <td>HS-grad</td>\n",
       "      <td>Married-civ-spouse</td>\n",
       "      <td>Machine-op-inspct</td>\n",
       "      <td>Husband</td>\n",
       "      <td>White</td>\n",
       "      <td>False</td>\n",
       "      <td>48.000000</td>\n",
       "      <td>188431.999985</td>\n",
       "      <td>9.0</td>\n",
       "      <td>&gt;=50k</td>\n",
       "    </tr>\n",
       "    <tr>\n",
       "      <th>7</th>\n",
       "      <td>Private</td>\n",
       "      <td>Some-college</td>\n",
       "      <td>Never-married</td>\n",
       "      <td>Sales</td>\n",
       "      <td>Own-child</td>\n",
       "      <td>White</td>\n",
       "      <td>False</td>\n",
       "      <td>29.000000</td>\n",
       "      <td>147340.000639</td>\n",
       "      <td>10.0</td>\n",
       "      <td>&lt;50k</td>\n",
       "    </tr>\n",
       "    <tr>\n",
       "      <th>8</th>\n",
       "      <td>Private</td>\n",
       "      <td>11th</td>\n",
       "      <td>Married-civ-spouse</td>\n",
       "      <td>Craft-repair</td>\n",
       "      <td>Husband</td>\n",
       "      <td>White</td>\n",
       "      <td>False</td>\n",
       "      <td>17.999999</td>\n",
       "      <td>115442.997762</td>\n",
       "      <td>7.0</td>\n",
       "      <td>&lt;50k</td>\n",
       "    </tr>\n",
       "    <tr>\n",
       "      <th>9</th>\n",
       "      <td>Private</td>\n",
       "      <td>Some-college</td>\n",
       "      <td>Separated</td>\n",
       "      <td>Adm-clerical</td>\n",
       "      <td>Not-in-family</td>\n",
       "      <td>White</td>\n",
       "      <td>False</td>\n",
       "      <td>52.999999</td>\n",
       "      <td>263728.999184</td>\n",
       "      <td>10.0</td>\n",
       "      <td>&lt;50k</td>\n",
       "    </tr>\n",
       "  </tbody>\n",
       "</table>"
      ],
      "text/plain": [
       "<IPython.core.display.HTML object>"
      ]
     },
     "metadata": {},
     "output_type": "display_data"
    }
   ],
   "source": [
    "dls = DataLoaders(trn_dl, val_dl)\n",
    "dls.show_batch()\n"
   ]
  },
  {
   "cell_type": "code",
   "execution_count": 26,
   "id": "stupid-walker",
   "metadata": {
    "execution": {
     "iopub.execute_input": "2021-02-12T10:21:22.660462Z",
     "iopub.status.busy": "2021-02-12T10:21:22.660209Z",
     "iopub.status.idle": "2021-02-12T10:21:22.664172Z",
     "shell.execute_reply": "2021-02-12T10:21:22.663524Z",
     "shell.execute_reply.started": "2021-02-12T10:21:22.660439Z"
    }
   },
   "outputs": [
    {
     "data": {
      "text/plain": [
       "True"
      ]
     },
     "execution_count": 26,
     "metadata": {},
     "output_type": "execute_result"
    }
   ],
   "source": [
    "to._dbunch_type == dls._dbunch_type\n"
   ]
  },
  {
   "cell_type": "code",
   "execution_count": 27,
   "id": "earned-packing",
   "metadata": {
    "execution": {
     "iopub.execute_input": "2021-02-12T10:21:32.099415Z",
     "iopub.status.busy": "2021-02-12T10:21:32.099142Z",
     "iopub.status.idle": "2021-02-12T10:21:32.104483Z",
     "shell.execute_reply": "2021-02-12T10:21:32.103871Z",
     "shell.execute_reply.started": "2021-02-12T10:21:32.099390Z"
    }
   },
   "outputs": [
    {
     "data": {
      "text/plain": [
       "[(10, 6), (17, 8), (8, 5), (16, 8), (7, 5), (6, 4), (3, 3)]"
      ]
     },
     "execution_count": 27,
     "metadata": {},
     "output_type": "execute_result"
    }
   ],
   "source": [
    "emb_szs = get_emb_sz(to); emb_szs\n"
   ]
  },
  {
   "cell_type": "code",
   "execution_count": 28,
   "id": "tight-locator",
   "metadata": {
    "execution": {
     "iopub.execute_input": "2021-02-12T10:22:05.185198Z",
     "iopub.status.busy": "2021-02-12T10:22:05.184982Z",
     "iopub.status.idle": "2021-02-12T10:22:05.188083Z",
     "shell.execute_reply": "2021-02-12T10:22:05.187630Z",
     "shell.execute_reply.started": "2021-02-12T10:22:05.185178Z"
    }
   },
   "outputs": [
    {
     "data": {
      "text/plain": [
       "(#7) ['workclass','education','marital-status','occupation','relationship','race','education-num_na']"
      ]
     },
     "execution_count": 28,
     "metadata": {},
     "output_type": "execute_result"
    }
   ],
   "source": [
    "to.cat_names\n"
   ]
  },
  {
   "cell_type": "code",
   "execution_count": 29,
   "id": "happy-starter",
   "metadata": {
    "execution": {
     "iopub.execute_input": "2021-02-12T10:22:14.365844Z",
     "iopub.status.busy": "2021-02-12T10:22:14.365573Z",
     "iopub.status.idle": "2021-02-12T10:22:14.369896Z",
     "shell.execute_reply": "2021-02-12T10:22:14.369399Z",
     "shell.execute_reply.started": "2021-02-12T10:22:14.365817Z"
    }
   },
   "outputs": [
    {
     "data": {
      "text/plain": [
       "9"
      ]
     },
     "execution_count": 29,
     "metadata": {},
     "output_type": "execute_result"
    }
   ],
   "source": [
    "to['workclass'].nunique()\n"
   ]
  },
  {
   "cell_type": "code",
   "execution_count": 30,
   "id": "taken-monday",
   "metadata": {
    "execution": {
     "iopub.execute_input": "2021-02-12T10:22:22.408131Z",
     "iopub.status.busy": "2021-02-12T10:22:22.407899Z",
     "iopub.status.idle": "2021-02-12T10:22:22.411764Z",
     "shell.execute_reply": "2021-02-12T10:22:22.411169Z",
     "shell.execute_reply.started": "2021-02-12T10:22:22.408108Z"
    }
   },
   "outputs": [
    {
     "data": {
      "text/plain": [
       "3"
      ]
     },
     "execution_count": 30,
     "metadata": {},
     "output_type": "execute_result"
    }
   ],
   "source": [
    "cont_len = len(to.cont_names); cont_len\n"
   ]
  },
  {
   "cell_type": "code",
   "execution_count": 31,
   "id": "adopted-lighter",
   "metadata": {
    "execution": {
     "iopub.execute_input": "2021-02-12T10:22:33.231201Z",
     "iopub.status.busy": "2021-02-12T10:22:33.231052Z",
     "iopub.status.idle": "2021-02-12T10:22:33.247604Z",
     "shell.execute_reply": "2021-02-12T10:22:33.247120Z",
     "shell.execute_reply.started": "2021-02-12T10:22:33.231189Z"
    }
   },
   "outputs": [
    {
     "data": {
      "text/plain": [
       "3"
      ]
     },
     "execution_count": 31,
     "metadata": {},
     "output_type": "execute_result"
    }
   ],
   "source": [
    "batch = dls.one_batch(); len(batch)\n"
   ]
  },
  {
   "cell_type": "code",
   "execution_count": 32,
   "id": "cooked-committee",
   "metadata": {
    "execution": {
     "iopub.execute_input": "2021-02-12T10:22:43.042173Z",
     "iopub.status.busy": "2021-02-12T10:22:43.042021Z",
     "iopub.status.idle": "2021-02-12T10:22:43.047076Z",
     "shell.execute_reply": "2021-02-12T10:22:43.046569Z",
     "shell.execute_reply.started": "2021-02-12T10:22:43.042160Z"
    }
   },
   "outputs": [
    {
     "data": {
      "text/plain": [
       "(tensor([1, 1, 3, 1, 1, 5, 1]), tensor([ 2.7517,  0.2054, -1.5989]))"
      ]
     },
     "execution_count": 32,
     "metadata": {},
     "output_type": "execute_result"
    }
   ],
   "source": [
    "batch[0][0], batch[1][0]\n"
   ]
  },
  {
   "cell_type": "code",
   "execution_count": 33,
   "id": "entertaining-testament",
   "metadata": {
    "execution": {
     "iopub.execute_input": "2021-02-12T10:23:06.137108Z",
     "iopub.status.busy": "2021-02-12T10:23:06.136909Z",
     "iopub.status.idle": "2021-02-12T10:23:06.141251Z",
     "shell.execute_reply": "2021-02-12T10:23:06.140878Z",
     "shell.execute_reply.started": "2021-02-12T10:23:06.137091Z"
    }
   },
   "outputs": [],
   "source": [
    "net = TabularModel(emb_szs, cont_len, 2, [200,100])\n"
   ]
  },
  {
   "cell_type": "code",
   "execution_count": 34,
   "id": "damaged-final",
   "metadata": {
    "execution": {
     "iopub.execute_input": "2021-02-12T10:23:31.768378Z",
     "iopub.status.busy": "2021-02-12T10:23:31.768095Z",
     "iopub.status.idle": "2021-02-12T10:23:31.772406Z",
     "shell.execute_reply": "2021-02-12T10:23:31.771711Z",
     "shell.execute_reply.started": "2021-02-12T10:23:31.768353Z"
    }
   },
   "outputs": [
    {
     "data": {
      "text/plain": [
       "TabularModel(\n",
       "  (embeds): ModuleList(\n",
       "    (0): Embedding(10, 6)\n",
       "    (1): Embedding(17, 8)\n",
       "    (2): Embedding(8, 5)\n",
       "    (3): Embedding(16, 8)\n",
       "    (4): Embedding(7, 5)\n",
       "    (5): Embedding(6, 4)\n",
       "    (6): Embedding(3, 3)\n",
       "  )\n",
       "  (emb_drop): Dropout(p=0.0, inplace=False)\n",
       "  (bn_cont): BatchNorm1d(3, eps=1e-05, momentum=0.1, affine=True, track_running_stats=True)\n",
       "  (layers): Sequential(\n",
       "    (0): LinBnDrop(\n",
       "      (0): BatchNorm1d(42, eps=1e-05, momentum=0.1, affine=True, track_running_stats=True)\n",
       "      (1): Linear(in_features=42, out_features=200, bias=False)\n",
       "      (2): ReLU(inplace=True)\n",
       "    )\n",
       "    (1): LinBnDrop(\n",
       "      (0): BatchNorm1d(200, eps=1e-05, momentum=0.1, affine=True, track_running_stats=True)\n",
       "      (1): Linear(in_features=200, out_features=100, bias=False)\n",
       "      (2): ReLU(inplace=True)\n",
       "    )\n",
       "    (2): LinBnDrop(\n",
       "      (0): Linear(in_features=100, out_features=2, bias=True)\n",
       "    )\n",
       "  )\n",
       ")"
      ]
     },
     "execution_count": 34,
     "metadata": {},
     "output_type": "execute_result"
    }
   ],
   "source": [
    "net"
   ]
  },
  {
   "cell_type": "code",
   "execution_count": 36,
   "id": "disturbed-marsh",
   "metadata": {
    "execution": {
     "iopub.execute_input": "2021-02-12T10:23:45.472488Z",
     "iopub.status.busy": "2021-02-12T10:23:45.472231Z",
     "iopub.status.idle": "2021-02-12T10:23:45.475920Z",
     "shell.execute_reply": "2021-02-12T10:23:45.475397Z",
     "shell.execute_reply.started": "2021-02-12T10:23:45.472465Z"
    }
   },
   "outputs": [
    {
     "data": {
      "text/plain": [
       "fastai.tabular.model.TabularModel"
      ]
     },
     "execution_count": 36,
     "metadata": {},
     "output_type": "execute_result"
    }
   ],
   "source": [
    "type(net)"
   ]
  },
  {
   "cell_type": "code",
   "execution_count": 39,
   "id": "attempted-contents",
   "metadata": {
    "execution": {
     "iopub.execute_input": "2021-02-12T10:26:11.988960Z",
     "iopub.status.busy": "2021-02-12T10:26:11.988704Z",
     "iopub.status.idle": "2021-02-12T10:26:11.992540Z",
     "shell.execute_reply": "2021-02-12T10:26:11.992118Z",
     "shell.execute_reply.started": "2021-02-12T10:26:11.988937Z"
    }
   },
   "outputs": [
    {
     "data": {
      "text/plain": [
       "<bound method Module.children of TabularModel(\n",
       "  (embeds): ModuleList(\n",
       "    (0): Embedding(10, 6)\n",
       "    (1): Embedding(17, 8)\n",
       "    (2): Embedding(8, 5)\n",
       "    (3): Embedding(16, 8)\n",
       "    (4): Embedding(7, 5)\n",
       "    (5): Embedding(6, 4)\n",
       "    (6): Embedding(3, 3)\n",
       "  )\n",
       "  (emb_drop): Dropout(p=0.0, inplace=False)\n",
       "  (bn_cont): BatchNorm1d(3, eps=1e-05, momentum=0.1, affine=True, track_running_stats=True)\n",
       "  (layers): Sequential(\n",
       "    (0): LinBnDrop(\n",
       "      (0): BatchNorm1d(42, eps=1e-05, momentum=0.1, affine=True, track_running_stats=True)\n",
       "      (1): Linear(in_features=42, out_features=200, bias=False)\n",
       "      (2): ReLU(inplace=True)\n",
       "    )\n",
       "    (1): LinBnDrop(\n",
       "      (0): BatchNorm1d(200, eps=1e-05, momentum=0.1, affine=True, track_running_stats=True)\n",
       "      (1): Linear(in_features=200, out_features=100, bias=False)\n",
       "      (2): ReLU(inplace=True)\n",
       "    )\n",
       "    (2): LinBnDrop(\n",
       "      (0): Linear(in_features=100, out_features=2, bias=True)\n",
       "    )\n",
       "  )\n",
       ")>"
      ]
     },
     "execution_count": 39,
     "metadata": {},
     "output_type": "execute_result"
    }
   ],
   "source": [
    "net.children"
   ]
  },
  {
   "cell_type": "code",
   "execution_count": 41,
   "id": "communist-innocent",
   "metadata": {
    "execution": {
     "iopub.execute_input": "2021-02-12T10:29:30.160746Z",
     "iopub.status.busy": "2021-02-12T10:29:30.160457Z",
     "iopub.status.idle": "2021-02-12T10:29:30.164776Z",
     "shell.execute_reply": "2021-02-12T10:29:30.164409Z",
     "shell.execute_reply.started": "2021-02-12T10:29:30.160720Z"
    }
   },
   "outputs": [
    {
     "data": {
      "text/plain": [
       "['__class__',\n",
       " '__del__',\n",
       " '__delattr__',\n",
       " '__dir__',\n",
       " '__doc__',\n",
       " '__eq__',\n",
       " '__format__',\n",
       " '__ge__',\n",
       " '__getattribute__',\n",
       " '__gt__',\n",
       " '__hash__',\n",
       " '__init__',\n",
       " '__init_subclass__',\n",
       " '__iter__',\n",
       " '__le__',\n",
       " '__lt__',\n",
       " '__name__',\n",
       " '__ne__',\n",
       " '__new__',\n",
       " '__next__',\n",
       " '__qualname__',\n",
       " '__reduce__',\n",
       " '__reduce_ex__',\n",
       " '__repr__',\n",
       " '__setattr__',\n",
       " '__sizeof__',\n",
       " '__str__',\n",
       " '__subclasshook__',\n",
       " 'close',\n",
       " 'gi_code',\n",
       " 'gi_frame',\n",
       " 'gi_running',\n",
       " 'gi_yieldfrom',\n",
       " 'send',\n",
       " 'throw']"
      ]
     },
     "execution_count": 41,
     "metadata": {},
     "output_type": "execute_result"
    }
   ],
   "source": [
    "dir(net.modules())\n"
   ]
  },
  {
   "cell_type": "code",
   "execution_count": 42,
   "id": "anonymous-template",
   "metadata": {
    "execution": {
     "iopub.execute_input": "2021-02-12T10:29:39.235220Z",
     "iopub.status.busy": "2021-02-12T10:29:39.234967Z",
     "iopub.status.idle": "2021-02-12T10:29:39.238649Z",
     "shell.execute_reply": "2021-02-12T10:29:39.238131Z",
     "shell.execute_reply.started": "2021-02-12T10:29:39.235197Z"
    }
   },
   "outputs": [
    {
     "data": {
      "text/plain": [
       "<generator object Module.modules at 0x7f5831a86eb0>"
      ]
     },
     "execution_count": 42,
     "metadata": {},
     "output_type": "execute_result"
    }
   ],
   "source": [
    "net.modules()"
   ]
  },
  {
   "cell_type": "code",
   "execution_count": 44,
   "id": "false-blink",
   "metadata": {
    "execution": {
     "iopub.execute_input": "2021-02-12T10:31:51.977303Z",
     "iopub.status.busy": "2021-02-12T10:31:51.977053Z",
     "iopub.status.idle": "2021-02-12T10:31:51.980883Z",
     "shell.execute_reply": "2021-02-12T10:31:51.980367Z",
     "shell.execute_reply.started": "2021-02-12T10:31:51.977281Z"
    }
   },
   "outputs": [
    {
     "data": {
      "text/plain": [
       "torch.nn.modules.container.Sequential"
      ]
     },
     "execution_count": 44,
     "metadata": {},
     "output_type": "execute_result"
    }
   ],
   "source": [
    "type(net.layers)"
   ]
  },
  {
   "cell_type": "code",
   "execution_count": 45,
   "id": "afraid-problem",
   "metadata": {
    "execution": {
     "iopub.execute_input": "2021-02-12T10:32:23.552716Z",
     "iopub.status.busy": "2021-02-12T10:32:23.552526Z",
     "iopub.status.idle": "2021-02-12T10:32:23.555658Z",
     "shell.execute_reply": "2021-02-12T10:32:23.555311Z",
     "shell.execute_reply.started": "2021-02-12T10:32:23.552700Z"
    }
   },
   "outputs": [
    {
     "data": {
      "text/plain": [
       "<bound method Module.named_modules of Sequential(\n",
       "  (0): LinBnDrop(\n",
       "    (0): BatchNorm1d(42, eps=1e-05, momentum=0.1, affine=True, track_running_stats=True)\n",
       "    (1): Linear(in_features=42, out_features=200, bias=False)\n",
       "    (2): ReLU(inplace=True)\n",
       "  )\n",
       "  (1): LinBnDrop(\n",
       "    (0): BatchNorm1d(200, eps=1e-05, momentum=0.1, affine=True, track_running_stats=True)\n",
       "    (1): Linear(in_features=200, out_features=100, bias=False)\n",
       "    (2): ReLU(inplace=True)\n",
       "  )\n",
       "  (2): LinBnDrop(\n",
       "    (0): Linear(in_features=100, out_features=2, bias=True)\n",
       "  )\n",
       ")>"
      ]
     },
     "execution_count": 45,
     "metadata": {},
     "output_type": "execute_result"
    }
   ],
   "source": [
    "net.layers.named_modules"
   ]
  },
  {
   "cell_type": "code",
   "execution_count": 48,
   "id": "exposed-cinema",
   "metadata": {
    "execution": {
     "iopub.execute_input": "2021-02-12T10:33:18.961246Z",
     "iopub.status.busy": "2021-02-12T10:33:18.961088Z",
     "iopub.status.idle": "2021-02-12T10:33:18.963511Z",
     "shell.execute_reply": "2021-02-12T10:33:18.963144Z",
     "shell.execute_reply.started": "2021-02-12T10:33:18.961233Z"
    }
   },
   "outputs": [],
   "source": [
    "net.layers[0][2] = Mish()"
   ]
  },
  {
   "cell_type": "code",
   "execution_count": 49,
   "id": "funny-composer",
   "metadata": {
    "execution": {
     "iopub.execute_input": "2021-02-12T10:33:26.394424Z",
     "iopub.status.busy": "2021-02-12T10:33:26.394269Z",
     "iopub.status.idle": "2021-02-12T10:33:26.397546Z",
     "shell.execute_reply": "2021-02-12T10:33:26.396978Z",
     "shell.execute_reply.started": "2021-02-12T10:33:26.394411Z"
    }
   },
   "outputs": [
    {
     "data": {
      "text/plain": [
       "Sequential(\n",
       "  (0): LinBnDrop(\n",
       "    (0): BatchNorm1d(42, eps=1e-05, momentum=0.1, affine=True, track_running_stats=True)\n",
       "    (1): Linear(in_features=42, out_features=200, bias=False)\n",
       "    (2): Mish()\n",
       "  )\n",
       "  (1): LinBnDrop(\n",
       "    (0): BatchNorm1d(200, eps=1e-05, momentum=0.1, affine=True, track_running_stats=True)\n",
       "    (1): Linear(in_features=200, out_features=100, bias=False)\n",
       "    (2): ReLU(inplace=True)\n",
       "  )\n",
       "  (2): LinBnDrop(\n",
       "    (0): Linear(in_features=100, out_features=2, bias=True)\n",
       "  )\n",
       ")"
      ]
     },
     "execution_count": 49,
     "metadata": {},
     "output_type": "execute_result"
    }
   ],
   "source": [
    "net.layers"
   ]
  },
  {
   "cell_type": "code",
   "execution_count": 50,
   "id": "varied-damages",
   "metadata": {
    "execution": {
     "iopub.execute_input": "2021-02-12T10:36:41.187702Z",
     "iopub.status.busy": "2021-02-12T10:36:41.187474Z",
     "iopub.status.idle": "2021-02-12T10:36:41.314521Z",
     "shell.execute_reply": "2021-02-12T10:36:41.314115Z",
     "shell.execute_reply.started": "2021-02-12T10:36:41.187683Z"
    }
   },
   "outputs": [],
   "source": [
    "r = resnet18()"
   ]
  },
  {
   "cell_type": "code",
   "execution_count": 51,
   "id": "vanilla-hawaii",
   "metadata": {
    "execution": {
     "iopub.execute_input": "2021-02-12T10:37:07.996763Z",
     "iopub.status.busy": "2021-02-12T10:37:07.996501Z",
     "iopub.status.idle": "2021-02-12T10:37:08.000558Z",
     "shell.execute_reply": "2021-02-12T10:37:08.000049Z",
     "shell.execute_reply.started": "2021-02-12T10:37:07.996741Z"
    }
   },
   "outputs": [
    {
     "data": {
      "text/plain": [
       "Sequential(\n",
       "  (0): BasicBlock(\n",
       "    (conv1): Conv2d(64, 64, kernel_size=(3, 3), stride=(1, 1), padding=(1, 1), bias=False)\n",
       "    (bn1): BatchNorm2d(64, eps=1e-05, momentum=0.1, affine=True, track_running_stats=True)\n",
       "    (relu): ReLU(inplace=True)\n",
       "    (conv2): Conv2d(64, 64, kernel_size=(3, 3), stride=(1, 1), padding=(1, 1), bias=False)\n",
       "    (bn2): BatchNorm2d(64, eps=1e-05, momentum=0.1, affine=True, track_running_stats=True)\n",
       "  )\n",
       "  (1): BasicBlock(\n",
       "    (conv1): Conv2d(64, 64, kernel_size=(3, 3), stride=(1, 1), padding=(1, 1), bias=False)\n",
       "    (bn1): BatchNorm2d(64, eps=1e-05, momentum=0.1, affine=True, track_running_stats=True)\n",
       "    (relu): ReLU(inplace=True)\n",
       "    (conv2): Conv2d(64, 64, kernel_size=(3, 3), stride=(1, 1), padding=(1, 1), bias=False)\n",
       "    (bn2): BatchNorm2d(64, eps=1e-05, momentum=0.1, affine=True, track_running_stats=True)\n",
       "  )\n",
       ")"
      ]
     },
     "execution_count": 51,
     "metadata": {},
     "output_type": "execute_result"
    }
   ],
   "source": [
    "r.layer1"
   ]
  },
  {
   "cell_type": "code",
   "execution_count": 66,
   "id": "charitable-slovenia",
   "metadata": {
    "execution": {
     "iopub.execute_input": "2021-02-12T22:01:39.347003Z",
     "iopub.status.busy": "2021-02-12T22:01:39.346742Z",
     "iopub.status.idle": "2021-02-12T22:01:39.746154Z",
     "shell.execute_reply": "2021-02-12T22:01:39.745760Z",
     "shell.execute_reply.started": "2021-02-12T22:01:39.346980Z"
    }
   },
   "outputs": [],
   "source": [
    "r = xse_resnext50_deep()\n"
   ]
  },
  {
   "cell_type": "code",
   "execution_count": 67,
   "id": "harmful-nevada",
   "metadata": {
    "execution": {
     "iopub.execute_input": "2021-02-12T22:01:39.827906Z",
     "iopub.status.busy": "2021-02-12T22:01:39.827732Z",
     "iopub.status.idle": "2021-02-12T22:01:39.830842Z",
     "shell.execute_reply": "2021-02-12T22:01:39.830397Z",
     "shell.execute_reply.started": "2021-02-12T22:01:39.827888Z"
    }
   },
   "outputs": [
    {
     "data": {
      "text/plain": [
       "<generator object Module.named_children at 0x7f58a3854740>"
      ]
     },
     "execution_count": 67,
     "metadata": {},
     "output_type": "execute_result"
    }
   ],
   "source": [
    "r.named_children()"
   ]
  },
  {
   "cell_type": "code",
   "execution_count": 71,
   "id": "divine-halloween",
   "metadata": {
    "execution": {
     "iopub.execute_input": "2021-02-12T22:02:03.663144Z",
     "iopub.status.busy": "2021-02-12T22:02:03.662904Z",
     "iopub.status.idle": "2021-02-12T22:02:03.672989Z",
     "shell.execute_reply": "2021-02-12T22:02:03.672380Z",
     "shell.execute_reply.started": "2021-02-12T22:02:03.663123Z"
    }
   },
   "outputs": [
    {
     "data": {
      "text/plain": [
       "XResNet(\n",
       "  (0): ConvLayer(\n",
       "    (0): Conv2d(3, 32, kernel_size=(3, 3), stride=(2, 2), padding=(1, 1), bias=False)\n",
       "    (1): BatchNorm2d(32, eps=1e-05, momentum=0.1, affine=True, track_running_stats=True)\n",
       "    (2): ReLU()\n",
       "  )\n",
       "  (1): ConvLayer(\n",
       "    (0): Conv2d(32, 32, kernel_size=(3, 3), stride=(1, 1), padding=(1, 1), bias=False)\n",
       "    (1): BatchNorm2d(32, eps=1e-05, momentum=0.1, affine=True, track_running_stats=True)\n",
       "    (2): ReLU()\n",
       "  )\n",
       "  (2): ConvLayer(\n",
       "    (0): Conv2d(32, 64, kernel_size=(3, 3), stride=(1, 1), padding=(1, 1), bias=False)\n",
       "    (1): BatchNorm2d(64, eps=1e-05, momentum=0.1, affine=True, track_running_stats=True)\n",
       "    (2): ReLU()\n",
       "  )\n",
       "  (3): MaxPool2d(kernel_size=3, stride=2, padding=1, dilation=1, ceil_mode=False)\n",
       "  (4): Sequential(\n",
       "    (0): ResBlock(\n",
       "      (convpath): Sequential(\n",
       "        (0): ConvLayer(\n",
       "          (0): Conv2d(64, 128, kernel_size=(1, 1), stride=(1, 1), bias=False)\n",
       "          (1): BatchNorm2d(128, eps=1e-05, momentum=0.1, affine=True, track_running_stats=True)\n",
       "          (2): ReLU()\n",
       "        )\n",
       "        (1): ConvLayer(\n",
       "          (0): Conv2d(128, 128, kernel_size=(3, 3), stride=(1, 1), padding=(1, 1), groups=32, bias=False)\n",
       "          (1): BatchNorm2d(128, eps=1e-05, momentum=0.1, affine=True, track_running_stats=True)\n",
       "          (2): ReLU()\n",
       "        )\n",
       "        (2): ConvLayer(\n",
       "          (0): Conv2d(128, 256, kernel_size=(1, 1), stride=(1, 1), bias=False)\n",
       "          (1): BatchNorm2d(256, eps=1e-05, momentum=0.1, affine=True, track_running_stats=True)\n",
       "        )\n",
       "        (3): SequentialEx(\n",
       "          (layers): ModuleList(\n",
       "            (0): AdaptiveAvgPool2d(output_size=1)\n",
       "            (1): ConvLayer(\n",
       "              (0): Conv2d(256, 16, kernel_size=(1, 1), stride=(1, 1))\n",
       "              (1): ReLU()\n",
       "            )\n",
       "            (2): ConvLayer(\n",
       "              (0): Conv2d(16, 256, kernel_size=(1, 1), stride=(1, 1))\n",
       "              (1): Sigmoid()\n",
       "            )\n",
       "            (3): ProdLayer()\n",
       "          )\n",
       "        )\n",
       "      )\n",
       "      (idpath): Sequential(\n",
       "        (0): ConvLayer(\n",
       "          (0): Conv2d(64, 256, kernel_size=(1, 1), stride=(1, 1), bias=False)\n",
       "          (1): BatchNorm2d(256, eps=1e-05, momentum=0.1, affine=True, track_running_stats=True)\n",
       "        )\n",
       "      )\n",
       "      (act): ReLU(inplace=True)\n",
       "    )\n",
       "    (1): ResBlock(\n",
       "      (convpath): Sequential(\n",
       "        (0): ConvLayer(\n",
       "          (0): Conv2d(256, 128, kernel_size=(1, 1), stride=(1, 1), bias=False)\n",
       "          (1): BatchNorm2d(128, eps=1e-05, momentum=0.1, affine=True, track_running_stats=True)\n",
       "          (2): ReLU()\n",
       "        )\n",
       "        (1): ConvLayer(\n",
       "          (0): Conv2d(128, 128, kernel_size=(3, 3), stride=(1, 1), padding=(1, 1), groups=32, bias=False)\n",
       "          (1): BatchNorm2d(128, eps=1e-05, momentum=0.1, affine=True, track_running_stats=True)\n",
       "          (2): ReLU()\n",
       "        )\n",
       "        (2): ConvLayer(\n",
       "          (0): Conv2d(128, 256, kernel_size=(1, 1), stride=(1, 1), bias=False)\n",
       "          (1): BatchNorm2d(256, eps=1e-05, momentum=0.1, affine=True, track_running_stats=True)\n",
       "        )\n",
       "        (3): SequentialEx(\n",
       "          (layers): ModuleList(\n",
       "            (0): AdaptiveAvgPool2d(output_size=1)\n",
       "            (1): ConvLayer(\n",
       "              (0): Conv2d(256, 16, kernel_size=(1, 1), stride=(1, 1))\n",
       "              (1): ReLU()\n",
       "            )\n",
       "            (2): ConvLayer(\n",
       "              (0): Conv2d(16, 256, kernel_size=(1, 1), stride=(1, 1))\n",
       "              (1): Sigmoid()\n",
       "            )\n",
       "            (3): ProdLayer()\n",
       "          )\n",
       "        )\n",
       "      )\n",
       "      (idpath): Sequential()\n",
       "      (act): ReLU(inplace=True)\n",
       "    )\n",
       "    (2): ResBlock(\n",
       "      (convpath): Sequential(\n",
       "        (0): ConvLayer(\n",
       "          (0): Conv2d(256, 128, kernel_size=(1, 1), stride=(1, 1), bias=False)\n",
       "          (1): BatchNorm2d(128, eps=1e-05, momentum=0.1, affine=True, track_running_stats=True)\n",
       "          (2): ReLU()\n",
       "        )\n",
       "        (1): ConvLayer(\n",
       "          (0): Conv2d(128, 128, kernel_size=(3, 3), stride=(1, 1), padding=(1, 1), groups=32, bias=False)\n",
       "          (1): BatchNorm2d(128, eps=1e-05, momentum=0.1, affine=True, track_running_stats=True)\n",
       "          (2): ReLU()\n",
       "        )\n",
       "        (2): ConvLayer(\n",
       "          (0): Conv2d(128, 256, kernel_size=(1, 1), stride=(1, 1), bias=False)\n",
       "          (1): BatchNorm2d(256, eps=1e-05, momentum=0.1, affine=True, track_running_stats=True)\n",
       "        )\n",
       "        (3): SequentialEx(\n",
       "          (layers): ModuleList(\n",
       "            (0): AdaptiveAvgPool2d(output_size=1)\n",
       "            (1): ConvLayer(\n",
       "              (0): Conv2d(256, 16, kernel_size=(1, 1), stride=(1, 1))\n",
       "              (1): ReLU()\n",
       "            )\n",
       "            (2): ConvLayer(\n",
       "              (0): Conv2d(16, 256, kernel_size=(1, 1), stride=(1, 1))\n",
       "              (1): Sigmoid()\n",
       "            )\n",
       "            (3): ProdLayer()\n",
       "          )\n",
       "        )\n",
       "      )\n",
       "      (idpath): Sequential()\n",
       "      (act): ReLU(inplace=True)\n",
       "    )\n",
       "  )\n",
       "  (5): Sequential(\n",
       "    (0): ResBlock(\n",
       "      (convpath): Sequential(\n",
       "        (0): ConvLayer(\n",
       "          (0): Conv2d(256, 256, kernel_size=(1, 1), stride=(1, 1), bias=False)\n",
       "          (1): BatchNorm2d(256, eps=1e-05, momentum=0.1, affine=True, track_running_stats=True)\n",
       "          (2): ReLU()\n",
       "        )\n",
       "        (1): ConvLayer(\n",
       "          (0): Conv2d(256, 256, kernel_size=(3, 3), stride=(2, 2), padding=(1, 1), groups=32, bias=False)\n",
       "          (1): BatchNorm2d(256, eps=1e-05, momentum=0.1, affine=True, track_running_stats=True)\n",
       "          (2): ReLU()\n",
       "        )\n",
       "        (2): ConvLayer(\n",
       "          (0): Conv2d(256, 512, kernel_size=(1, 1), stride=(1, 1), bias=False)\n",
       "          (1): BatchNorm2d(512, eps=1e-05, momentum=0.1, affine=True, track_running_stats=True)\n",
       "        )\n",
       "        (3): SequentialEx(\n",
       "          (layers): ModuleList(\n",
       "            (0): AdaptiveAvgPool2d(output_size=1)\n",
       "            (1): ConvLayer(\n",
       "              (0): Conv2d(512, 32, kernel_size=(1, 1), stride=(1, 1))\n",
       "              (1): ReLU()\n",
       "            )\n",
       "            (2): ConvLayer(\n",
       "              (0): Conv2d(32, 512, kernel_size=(1, 1), stride=(1, 1))\n",
       "              (1): Sigmoid()\n",
       "            )\n",
       "            (3): ProdLayer()\n",
       "          )\n",
       "        )\n",
       "      )\n",
       "      (idpath): Sequential(\n",
       "        (0): AvgPool2d(kernel_size=2, stride=2, padding=0)\n",
       "        (1): ConvLayer(\n",
       "          (0): Conv2d(256, 512, kernel_size=(1, 1), stride=(1, 1), bias=False)\n",
       "          (1): BatchNorm2d(512, eps=1e-05, momentum=0.1, affine=True, track_running_stats=True)\n",
       "        )\n",
       "      )\n",
       "      (act): ReLU(inplace=True)\n",
       "    )\n",
       "    (1): ResBlock(\n",
       "      (convpath): Sequential(\n",
       "        (0): ConvLayer(\n",
       "          (0): Conv2d(512, 256, kernel_size=(1, 1), stride=(1, 1), bias=False)\n",
       "          (1): BatchNorm2d(256, eps=1e-05, momentum=0.1, affine=True, track_running_stats=True)\n",
       "          (2): ReLU()\n",
       "        )\n",
       "        (1): ConvLayer(\n",
       "          (0): Conv2d(256, 256, kernel_size=(3, 3), stride=(1, 1), padding=(1, 1), groups=32, bias=False)\n",
       "          (1): BatchNorm2d(256, eps=1e-05, momentum=0.1, affine=True, track_running_stats=True)\n",
       "          (2): ReLU()\n",
       "        )\n",
       "        (2): ConvLayer(\n",
       "          (0): Conv2d(256, 512, kernel_size=(1, 1), stride=(1, 1), bias=False)\n",
       "          (1): BatchNorm2d(512, eps=1e-05, momentum=0.1, affine=True, track_running_stats=True)\n",
       "        )\n",
       "        (3): SequentialEx(\n",
       "          (layers): ModuleList(\n",
       "            (0): AdaptiveAvgPool2d(output_size=1)\n",
       "            (1): ConvLayer(\n",
       "              (0): Conv2d(512, 32, kernel_size=(1, 1), stride=(1, 1))\n",
       "              (1): ReLU()\n",
       "            )\n",
       "            (2): ConvLayer(\n",
       "              (0): Conv2d(32, 512, kernel_size=(1, 1), stride=(1, 1))\n",
       "              (1): Sigmoid()\n",
       "            )\n",
       "            (3): ProdLayer()\n",
       "          )\n",
       "        )\n",
       "      )\n",
       "      (idpath): Sequential()\n",
       "      (act): ReLU(inplace=True)\n",
       "    )\n",
       "    (2): ResBlock(\n",
       "      (convpath): Sequential(\n",
       "        (0): ConvLayer(\n",
       "          (0): Conv2d(512, 256, kernel_size=(1, 1), stride=(1, 1), bias=False)\n",
       "          (1): BatchNorm2d(256, eps=1e-05, momentum=0.1, affine=True, track_running_stats=True)\n",
       "          (2): ReLU()\n",
       "        )\n",
       "        (1): ConvLayer(\n",
       "          (0): Conv2d(256, 256, kernel_size=(3, 3), stride=(1, 1), padding=(1, 1), groups=32, bias=False)\n",
       "          (1): BatchNorm2d(256, eps=1e-05, momentum=0.1, affine=True, track_running_stats=True)\n",
       "          (2): ReLU()\n",
       "        )\n",
       "        (2): ConvLayer(\n",
       "          (0): Conv2d(256, 512, kernel_size=(1, 1), stride=(1, 1), bias=False)\n",
       "          (1): BatchNorm2d(512, eps=1e-05, momentum=0.1, affine=True, track_running_stats=True)\n",
       "        )\n",
       "        (3): SequentialEx(\n",
       "          (layers): ModuleList(\n",
       "            (0): AdaptiveAvgPool2d(output_size=1)\n",
       "            (1): ConvLayer(\n",
       "              (0): Conv2d(512, 32, kernel_size=(1, 1), stride=(1, 1))\n",
       "              (1): ReLU()\n",
       "            )\n",
       "            (2): ConvLayer(\n",
       "              (0): Conv2d(32, 512, kernel_size=(1, 1), stride=(1, 1))\n",
       "              (1): Sigmoid()\n",
       "            )\n",
       "            (3): ProdLayer()\n",
       "          )\n",
       "        )\n",
       "      )\n",
       "      (idpath): Sequential()\n",
       "      (act): ReLU(inplace=True)\n",
       "    )\n",
       "    (3): ResBlock(\n",
       "      (convpath): Sequential(\n",
       "        (0): ConvLayer(\n",
       "          (0): Conv2d(512, 256, kernel_size=(1, 1), stride=(1, 1), bias=False)\n",
       "          (1): BatchNorm2d(256, eps=1e-05, momentum=0.1, affine=True, track_running_stats=True)\n",
       "          (2): ReLU()\n",
       "        )\n",
       "        (1): ConvLayer(\n",
       "          (0): Conv2d(256, 256, kernel_size=(3, 3), stride=(1, 1), padding=(1, 1), groups=32, bias=False)\n",
       "          (1): BatchNorm2d(256, eps=1e-05, momentum=0.1, affine=True, track_running_stats=True)\n",
       "          (2): ReLU()\n",
       "        )\n",
       "        (2): ConvLayer(\n",
       "          (0): Conv2d(256, 512, kernel_size=(1, 1), stride=(1, 1), bias=False)\n",
       "          (1): BatchNorm2d(512, eps=1e-05, momentum=0.1, affine=True, track_running_stats=True)\n",
       "        )\n",
       "        (3): SequentialEx(\n",
       "          (layers): ModuleList(\n",
       "            (0): AdaptiveAvgPool2d(output_size=1)\n",
       "            (1): ConvLayer(\n",
       "              (0): Conv2d(512, 32, kernel_size=(1, 1), stride=(1, 1))\n",
       "              (1): ReLU()\n",
       "            )\n",
       "            (2): ConvLayer(\n",
       "              (0): Conv2d(32, 512, kernel_size=(1, 1), stride=(1, 1))\n",
       "              (1): Sigmoid()\n",
       "            )\n",
       "            (3): ProdLayer()\n",
       "          )\n",
       "        )\n",
       "      )\n",
       "      (idpath): Sequential()\n",
       "      (act): ReLU(inplace=True)\n",
       "    )\n",
       "  )\n",
       "  (6): Sequential(\n",
       "    (0): ResBlock(\n",
       "      (convpath): Sequential(\n",
       "        (0): ConvLayer(\n",
       "          (0): Conv2d(512, 512, kernel_size=(1, 1), stride=(1, 1), bias=False)\n",
       "          (1): BatchNorm2d(512, eps=1e-05, momentum=0.1, affine=True, track_running_stats=True)\n",
       "          (2): ReLU()\n",
       "        )\n",
       "        (1): ConvLayer(\n",
       "          (0): Conv2d(512, 512, kernel_size=(3, 3), stride=(2, 2), padding=(1, 1), groups=32, bias=False)\n",
       "          (1): BatchNorm2d(512, eps=1e-05, momentum=0.1, affine=True, track_running_stats=True)\n",
       "          (2): ReLU()\n",
       "        )\n",
       "        (2): ConvLayer(\n",
       "          (0): Conv2d(512, 1024, kernel_size=(1, 1), stride=(1, 1), bias=False)\n",
       "          (1): BatchNorm2d(1024, eps=1e-05, momentum=0.1, affine=True, track_running_stats=True)\n",
       "        )\n",
       "        (3): SequentialEx(\n",
       "          (layers): ModuleList(\n",
       "            (0): AdaptiveAvgPool2d(output_size=1)\n",
       "            (1): ConvLayer(\n",
       "              (0): Conv2d(1024, 64, kernel_size=(1, 1), stride=(1, 1))\n",
       "              (1): ReLU()\n",
       "            )\n",
       "            (2): ConvLayer(\n",
       "              (0): Conv2d(64, 1024, kernel_size=(1, 1), stride=(1, 1))\n",
       "              (1): Sigmoid()\n",
       "            )\n",
       "            (3): ProdLayer()\n",
       "          )\n",
       "        )\n",
       "      )\n",
       "      (idpath): Sequential(\n",
       "        (0): AvgPool2d(kernel_size=2, stride=2, padding=0)\n",
       "        (1): ConvLayer(\n",
       "          (0): Conv2d(512, 1024, kernel_size=(1, 1), stride=(1, 1), bias=False)\n",
       "          (1): BatchNorm2d(1024, eps=1e-05, momentum=0.1, affine=True, track_running_stats=True)\n",
       "        )\n",
       "      )\n",
       "      (act): ReLU(inplace=True)\n",
       "    )\n",
       "    (1): ResBlock(\n",
       "      (convpath): Sequential(\n",
       "        (0): ConvLayer(\n",
       "          (0): Conv2d(1024, 512, kernel_size=(1, 1), stride=(1, 1), bias=False)\n",
       "          (1): BatchNorm2d(512, eps=1e-05, momentum=0.1, affine=True, track_running_stats=True)\n",
       "          (2): ReLU()\n",
       "        )\n",
       "        (1): ConvLayer(\n",
       "          (0): Conv2d(512, 512, kernel_size=(3, 3), stride=(1, 1), padding=(1, 1), groups=32, bias=False)\n",
       "          (1): BatchNorm2d(512, eps=1e-05, momentum=0.1, affine=True, track_running_stats=True)\n",
       "          (2): ReLU()\n",
       "        )\n",
       "        (2): ConvLayer(\n",
       "          (0): Conv2d(512, 1024, kernel_size=(1, 1), stride=(1, 1), bias=False)\n",
       "          (1): BatchNorm2d(1024, eps=1e-05, momentum=0.1, affine=True, track_running_stats=True)\n",
       "        )\n",
       "        (3): SequentialEx(\n",
       "          (layers): ModuleList(\n",
       "            (0): AdaptiveAvgPool2d(output_size=1)\n",
       "            (1): ConvLayer(\n",
       "              (0): Conv2d(1024, 64, kernel_size=(1, 1), stride=(1, 1))\n",
       "              (1): ReLU()\n",
       "            )\n",
       "            (2): ConvLayer(\n",
       "              (0): Conv2d(64, 1024, kernel_size=(1, 1), stride=(1, 1))\n",
       "              (1): Sigmoid()\n",
       "            )\n",
       "            (3): ProdLayer()\n",
       "          )\n",
       "        )\n",
       "      )\n",
       "      (idpath): Sequential()\n",
       "      (act): ReLU(inplace=True)\n",
       "    )\n",
       "    (2): ResBlock(\n",
       "      (convpath): Sequential(\n",
       "        (0): ConvLayer(\n",
       "          (0): Conv2d(1024, 512, kernel_size=(1, 1), stride=(1, 1), bias=False)\n",
       "          (1): BatchNorm2d(512, eps=1e-05, momentum=0.1, affine=True, track_running_stats=True)\n",
       "          (2): ReLU()\n",
       "        )\n",
       "        (1): ConvLayer(\n",
       "          (0): Conv2d(512, 512, kernel_size=(3, 3), stride=(1, 1), padding=(1, 1), groups=32, bias=False)\n",
       "          (1): BatchNorm2d(512, eps=1e-05, momentum=0.1, affine=True, track_running_stats=True)\n",
       "          (2): ReLU()\n",
       "        )\n",
       "        (2): ConvLayer(\n",
       "          (0): Conv2d(512, 1024, kernel_size=(1, 1), stride=(1, 1), bias=False)\n",
       "          (1): BatchNorm2d(1024, eps=1e-05, momentum=0.1, affine=True, track_running_stats=True)\n",
       "        )\n",
       "        (3): SequentialEx(\n",
       "          (layers): ModuleList(\n",
       "            (0): AdaptiveAvgPool2d(output_size=1)\n",
       "            (1): ConvLayer(\n",
       "              (0): Conv2d(1024, 64, kernel_size=(1, 1), stride=(1, 1))\n",
       "              (1): ReLU()\n",
       "            )\n",
       "            (2): ConvLayer(\n",
       "              (0): Conv2d(64, 1024, kernel_size=(1, 1), stride=(1, 1))\n",
       "              (1): Sigmoid()\n",
       "            )\n",
       "            (3): ProdLayer()\n",
       "          )\n",
       "        )\n",
       "      )\n",
       "      (idpath): Sequential()\n",
       "      (act): ReLU(inplace=True)\n",
       "    )\n",
       "    (3): ResBlock(\n",
       "      (convpath): Sequential(\n",
       "        (0): ConvLayer(\n",
       "          (0): Conv2d(1024, 512, kernel_size=(1, 1), stride=(1, 1), bias=False)\n",
       "          (1): BatchNorm2d(512, eps=1e-05, momentum=0.1, affine=True, track_running_stats=True)\n",
       "          (2): ReLU()\n",
       "        )\n",
       "        (1): ConvLayer(\n",
       "          (0): Conv2d(512, 512, kernel_size=(3, 3), stride=(1, 1), padding=(1, 1), groups=32, bias=False)\n",
       "          (1): BatchNorm2d(512, eps=1e-05, momentum=0.1, affine=True, track_running_stats=True)\n",
       "          (2): ReLU()\n",
       "        )\n",
       "        (2): ConvLayer(\n",
       "          (0): Conv2d(512, 1024, kernel_size=(1, 1), stride=(1, 1), bias=False)\n",
       "          (1): BatchNorm2d(1024, eps=1e-05, momentum=0.1, affine=True, track_running_stats=True)\n",
       "        )\n",
       "        (3): SequentialEx(\n",
       "          (layers): ModuleList(\n",
       "            (0): AdaptiveAvgPool2d(output_size=1)\n",
       "            (1): ConvLayer(\n",
       "              (0): Conv2d(1024, 64, kernel_size=(1, 1), stride=(1, 1))\n",
       "              (1): ReLU()\n",
       "            )\n",
       "            (2): ConvLayer(\n",
       "              (0): Conv2d(64, 1024, kernel_size=(1, 1), stride=(1, 1))\n",
       "              (1): Sigmoid()\n",
       "            )\n",
       "            (3): ProdLayer()\n",
       "          )\n",
       "        )\n",
       "      )\n",
       "      (idpath): Sequential()\n",
       "      (act): ReLU(inplace=True)\n",
       "    )\n",
       "    (4): ResBlock(\n",
       "      (convpath): Sequential(\n",
       "        (0): ConvLayer(\n",
       "          (0): Conv2d(1024, 512, kernel_size=(1, 1), stride=(1, 1), bias=False)\n",
       "          (1): BatchNorm2d(512, eps=1e-05, momentum=0.1, affine=True, track_running_stats=True)\n",
       "          (2): ReLU()\n",
       "        )\n",
       "        (1): ConvLayer(\n",
       "          (0): Conv2d(512, 512, kernel_size=(3, 3), stride=(1, 1), padding=(1, 1), groups=32, bias=False)\n",
       "          (1): BatchNorm2d(512, eps=1e-05, momentum=0.1, affine=True, track_running_stats=True)\n",
       "          (2): ReLU()\n",
       "        )\n",
       "        (2): ConvLayer(\n",
       "          (0): Conv2d(512, 1024, kernel_size=(1, 1), stride=(1, 1), bias=False)\n",
       "          (1): BatchNorm2d(1024, eps=1e-05, momentum=0.1, affine=True, track_running_stats=True)\n",
       "        )\n",
       "        (3): SequentialEx(\n",
       "          (layers): ModuleList(\n",
       "            (0): AdaptiveAvgPool2d(output_size=1)\n",
       "            (1): ConvLayer(\n",
       "              (0): Conv2d(1024, 64, kernel_size=(1, 1), stride=(1, 1))\n",
       "              (1): ReLU()\n",
       "            )\n",
       "            (2): ConvLayer(\n",
       "              (0): Conv2d(64, 1024, kernel_size=(1, 1), stride=(1, 1))\n",
       "              (1): Sigmoid()\n",
       "            )\n",
       "            (3): ProdLayer()\n",
       "          )\n",
       "        )\n",
       "      )\n",
       "      (idpath): Sequential()\n",
       "      (act): ReLU(inplace=True)\n",
       "    )\n",
       "    (5): ResBlock(\n",
       "      (convpath): Sequential(\n",
       "        (0): ConvLayer(\n",
       "          (0): Conv2d(1024, 512, kernel_size=(1, 1), stride=(1, 1), bias=False)\n",
       "          (1): BatchNorm2d(512, eps=1e-05, momentum=0.1, affine=True, track_running_stats=True)\n",
       "          (2): ReLU()\n",
       "        )\n",
       "        (1): ConvLayer(\n",
       "          (0): Conv2d(512, 512, kernel_size=(3, 3), stride=(1, 1), padding=(1, 1), groups=32, bias=False)\n",
       "          (1): BatchNorm2d(512, eps=1e-05, momentum=0.1, affine=True, track_running_stats=True)\n",
       "          (2): ReLU()\n",
       "        )\n",
       "        (2): ConvLayer(\n",
       "          (0): Conv2d(512, 1024, kernel_size=(1, 1), stride=(1, 1), bias=False)\n",
       "          (1): BatchNorm2d(1024, eps=1e-05, momentum=0.1, affine=True, track_running_stats=True)\n",
       "        )\n",
       "        (3): SequentialEx(\n",
       "          (layers): ModuleList(\n",
       "            (0): AdaptiveAvgPool2d(output_size=1)\n",
       "            (1): ConvLayer(\n",
       "              (0): Conv2d(1024, 64, kernel_size=(1, 1), stride=(1, 1))\n",
       "              (1): ReLU()\n",
       "            )\n",
       "            (2): ConvLayer(\n",
       "              (0): Conv2d(64, 1024, kernel_size=(1, 1), stride=(1, 1))\n",
       "              (1): Sigmoid()\n",
       "            )\n",
       "            (3): ProdLayer()\n",
       "          )\n",
       "        )\n",
       "      )\n",
       "      (idpath): Sequential()\n",
       "      (act): ReLU(inplace=True)\n",
       "    )\n",
       "  )\n",
       "  (7): Sequential(\n",
       "    (0): ResBlock(\n",
       "      (convpath): Sequential(\n",
       "        (0): ConvLayer(\n",
       "          (0): Conv2d(1024, 1024, kernel_size=(1, 1), stride=(1, 1), bias=False)\n",
       "          (1): BatchNorm2d(1024, eps=1e-05, momentum=0.1, affine=True, track_running_stats=True)\n",
       "          (2): ReLU()\n",
       "        )\n",
       "        (1): ConvLayer(\n",
       "          (0): Conv2d(1024, 1024, kernel_size=(3, 3), stride=(2, 2), padding=(1, 1), groups=32, bias=False)\n",
       "          (1): BatchNorm2d(1024, eps=1e-05, momentum=0.1, affine=True, track_running_stats=True)\n",
       "          (2): ReLU()\n",
       "        )\n",
       "        (2): ConvLayer(\n",
       "          (0): Conv2d(1024, 2048, kernel_size=(1, 1), stride=(1, 1), bias=False)\n",
       "          (1): BatchNorm2d(2048, eps=1e-05, momentum=0.1, affine=True, track_running_stats=True)\n",
       "        )\n",
       "        (3): SequentialEx(\n",
       "          (layers): ModuleList(\n",
       "            (0): AdaptiveAvgPool2d(output_size=1)\n",
       "            (1): ConvLayer(\n",
       "              (0): Conv2d(2048, 128, kernel_size=(1, 1), stride=(1, 1))\n",
       "              (1): ReLU()\n",
       "            )\n",
       "            (2): ConvLayer(\n",
       "              (0): Conv2d(128, 2048, kernel_size=(1, 1), stride=(1, 1))\n",
       "              (1): Sigmoid()\n",
       "            )\n",
       "            (3): ProdLayer()\n",
       "          )\n",
       "        )\n",
       "      )\n",
       "      (idpath): Sequential(\n",
       "        (0): AvgPool2d(kernel_size=2, stride=2, padding=0)\n",
       "        (1): ConvLayer(\n",
       "          (0): Conv2d(1024, 2048, kernel_size=(1, 1), stride=(1, 1), bias=False)\n",
       "          (1): BatchNorm2d(2048, eps=1e-05, momentum=0.1, affine=True, track_running_stats=True)\n",
       "        )\n",
       "      )\n",
       "      (act): ReLU(inplace=True)\n",
       "    )\n",
       "    (1): ResBlock(\n",
       "      (convpath): Sequential(\n",
       "        (0): ConvLayer(\n",
       "          (0): Conv2d(2048, 1024, kernel_size=(1, 1), stride=(1, 1), bias=False)\n",
       "          (1): BatchNorm2d(1024, eps=1e-05, momentum=0.1, affine=True, track_running_stats=True)\n",
       "          (2): ReLU()\n",
       "        )\n",
       "        (1): ConvLayer(\n",
       "          (0): Conv2d(1024, 1024, kernel_size=(3, 3), stride=(1, 1), padding=(1, 1), groups=32, bias=False)\n",
       "          (1): BatchNorm2d(1024, eps=1e-05, momentum=0.1, affine=True, track_running_stats=True)\n",
       "          (2): ReLU()\n",
       "        )\n",
       "        (2): ConvLayer(\n",
       "          (0): Conv2d(1024, 2048, kernel_size=(1, 1), stride=(1, 1), bias=False)\n",
       "          (1): BatchNorm2d(2048, eps=1e-05, momentum=0.1, affine=True, track_running_stats=True)\n",
       "        )\n",
       "        (3): SequentialEx(\n",
       "          (layers): ModuleList(\n",
       "            (0): AdaptiveAvgPool2d(output_size=1)\n",
       "            (1): ConvLayer(\n",
       "              (0): Conv2d(2048, 128, kernel_size=(1, 1), stride=(1, 1))\n",
       "              (1): ReLU()\n",
       "            )\n",
       "            (2): ConvLayer(\n",
       "              (0): Conv2d(128, 2048, kernel_size=(1, 1), stride=(1, 1))\n",
       "              (1): Sigmoid()\n",
       "            )\n",
       "            (3): ProdLayer()\n",
       "          )\n",
       "        )\n",
       "      )\n",
       "      (idpath): Sequential()\n",
       "      (act): ReLU(inplace=True)\n",
       "    )\n",
       "    (2): ResBlock(\n",
       "      (convpath): Sequential(\n",
       "        (0): ConvLayer(\n",
       "          (0): Conv2d(2048, 1024, kernel_size=(1, 1), stride=(1, 1), bias=False)\n",
       "          (1): BatchNorm2d(1024, eps=1e-05, momentum=0.1, affine=True, track_running_stats=True)\n",
       "          (2): ReLU()\n",
       "        )\n",
       "        (1): ConvLayer(\n",
       "          (0): Conv2d(1024, 1024, kernel_size=(3, 3), stride=(1, 1), padding=(1, 1), groups=32, bias=False)\n",
       "          (1): BatchNorm2d(1024, eps=1e-05, momentum=0.1, affine=True, track_running_stats=True)\n",
       "          (2): ReLU()\n",
       "        )\n",
       "        (2): ConvLayer(\n",
       "          (0): Conv2d(1024, 2048, kernel_size=(1, 1), stride=(1, 1), bias=False)\n",
       "          (1): BatchNorm2d(2048, eps=1e-05, momentum=0.1, affine=True, track_running_stats=True)\n",
       "        )\n",
       "        (3): SequentialEx(\n",
       "          (layers): ModuleList(\n",
       "            (0): AdaptiveAvgPool2d(output_size=1)\n",
       "            (1): ConvLayer(\n",
       "              (0): Conv2d(2048, 128, kernel_size=(1, 1), stride=(1, 1))\n",
       "              (1): ReLU()\n",
       "            )\n",
       "            (2): ConvLayer(\n",
       "              (0): Conv2d(128, 2048, kernel_size=(1, 1), stride=(1, 1))\n",
       "              (1): Sigmoid()\n",
       "            )\n",
       "            (3): ProdLayer()\n",
       "          )\n",
       "        )\n",
       "      )\n",
       "      (idpath): Sequential()\n",
       "      (act): ReLU(inplace=True)\n",
       "    )\n",
       "  )\n",
       "  (8): Sequential(\n",
       "    (0): ResBlock(\n",
       "      (convpath): Sequential(\n",
       "        (0): ConvLayer(\n",
       "          (0): Conv2d(2048, 512, kernel_size=(1, 1), stride=(1, 1), bias=False)\n",
       "          (1): BatchNorm2d(512, eps=1e-05, momentum=0.1, affine=True, track_running_stats=True)\n",
       "          (2): ReLU()\n",
       "        )\n",
       "        (1): ConvLayer(\n",
       "          (0): Conv2d(512, 512, kernel_size=(3, 3), stride=(2, 2), padding=(1, 1), groups=32, bias=False)\n",
       "          (1): BatchNorm2d(512, eps=1e-05, momentum=0.1, affine=True, track_running_stats=True)\n",
       "          (2): ReLU()\n",
       "        )\n",
       "        (2): ConvLayer(\n",
       "          (0): Conv2d(512, 1024, kernel_size=(1, 1), stride=(1, 1), bias=False)\n",
       "          (1): BatchNorm2d(1024, eps=1e-05, momentum=0.1, affine=True, track_running_stats=True)\n",
       "        )\n",
       "        (3): SequentialEx(\n",
       "          (layers): ModuleList(\n",
       "            (0): AdaptiveAvgPool2d(output_size=1)\n",
       "            (1): ConvLayer(\n",
       "              (0): Conv2d(1024, 64, kernel_size=(1, 1), stride=(1, 1))\n",
       "              (1): ReLU()\n",
       "            )\n",
       "            (2): ConvLayer(\n",
       "              (0): Conv2d(64, 1024, kernel_size=(1, 1), stride=(1, 1))\n",
       "              (1): Sigmoid()\n",
       "            )\n",
       "            (3): ProdLayer()\n",
       "          )\n",
       "        )\n",
       "      )\n",
       "      (idpath): Sequential(\n",
       "        (0): AvgPool2d(kernel_size=2, stride=2, padding=0)\n",
       "        (1): ConvLayer(\n",
       "          (0): Conv2d(2048, 1024, kernel_size=(1, 1), stride=(1, 1), bias=False)\n",
       "          (1): BatchNorm2d(1024, eps=1e-05, momentum=0.1, affine=True, track_running_stats=True)\n",
       "        )\n",
       "      )\n",
       "      (act): ReLU(inplace=True)\n",
       "    )\n",
       "  )\n",
       "  (9): Sequential(\n",
       "    (0): ResBlock(\n",
       "      (convpath): Sequential(\n",
       "        (0): ConvLayer(\n",
       "          (0): Conv2d(1024, 512, kernel_size=(1, 1), stride=(1, 1), bias=False)\n",
       "          (1): BatchNorm2d(512, eps=1e-05, momentum=0.1, affine=True, track_running_stats=True)\n",
       "          (2): ReLU()\n",
       "        )\n",
       "        (1): ConvLayer(\n",
       "          (0): Conv2d(512, 512, kernel_size=(3, 3), stride=(2, 2), padding=(1, 1), groups=32, bias=False)\n",
       "          (1): BatchNorm2d(512, eps=1e-05, momentum=0.1, affine=True, track_running_stats=True)\n",
       "          (2): ReLU()\n",
       "        )\n",
       "        (2): ConvLayer(\n",
       "          (0): Conv2d(512, 1024, kernel_size=(1, 1), stride=(1, 1), bias=False)\n",
       "          (1): BatchNorm2d(1024, eps=1e-05, momentum=0.1, affine=True, track_running_stats=True)\n",
       "        )\n",
       "        (3): SequentialEx(\n",
       "          (layers): ModuleList(\n",
       "            (0): AdaptiveAvgPool2d(output_size=1)\n",
       "            (1): ConvLayer(\n",
       "              (0): Conv2d(1024, 64, kernel_size=(1, 1), stride=(1, 1))\n",
       "              (1): ReLU()\n",
       "            )\n",
       "            (2): ConvLayer(\n",
       "              (0): Conv2d(64, 1024, kernel_size=(1, 1), stride=(1, 1))\n",
       "              (1): Sigmoid()\n",
       "            )\n",
       "            (3): ProdLayer()\n",
       "          )\n",
       "        )\n",
       "      )\n",
       "      (idpath): Sequential(\n",
       "        (0): AvgPool2d(kernel_size=2, stride=2, padding=0)\n",
       "      )\n",
       "      (act): ReLU(inplace=True)\n",
       "    )\n",
       "  )\n",
       "  (10): AdaptiveAvgPool2d(output_size=1)\n",
       "  (11): Flatten(full=False)\n",
       "  (12): Dropout(p=0.0, inplace=False)\n",
       "  (13): Linear(in_features=1024, out_features=1000, bias=True)\n",
       ")"
      ]
     },
     "execution_count": 71,
     "metadata": {},
     "output_type": "execute_result"
    }
   ],
   "source": [
    "r"
   ]
  },
  {
   "cell_type": "code",
   "execution_count": 62,
   "id": "bridal-uruguay",
   "metadata": {
    "execution": {
     "iopub.execute_input": "2021-02-12T10:44:42.275617Z",
     "iopub.status.busy": "2021-02-12T10:44:42.275367Z",
     "iopub.status.idle": "2021-02-12T10:44:42.398546Z",
     "shell.execute_reply": "2021-02-12T10:44:42.398173Z",
     "shell.execute_reply.started": "2021-02-12T10:44:42.275594Z"
    }
   },
   "outputs": [
    {
     "data": {
      "text/plain": [
       "<bound method Module.modules of ResNet(\n",
       "  (conv1): Conv2d(3, 64, kernel_size=(7, 7), stride=(2, 2), padding=(3, 3), bias=False)\n",
       "  (bn1): BatchNorm2d(64, eps=1e-05, momentum=0.1, affine=True, track_running_stats=True)\n",
       "  (relu): ReLU(inplace=True)\n",
       "  (maxpool): MaxPool2d(kernel_size=3, stride=2, padding=1, dilation=1, ceil_mode=False)\n",
       "  (layer1): Sequential(\n",
       "    (0): BasicBlock(\n",
       "      (conv1): Conv2d(64, 64, kernel_size=(3, 3), stride=(1, 1), padding=(1, 1), bias=False)\n",
       "      (bn1): BatchNorm2d(64, eps=1e-05, momentum=0.1, affine=True, track_running_stats=True)\n",
       "      (relu): ReLU(inplace=True)\n",
       "      (conv2): Conv2d(64, 64, kernel_size=(3, 3), stride=(1, 1), padding=(1, 1), bias=False)\n",
       "      (bn2): BatchNorm2d(64, eps=1e-05, momentum=0.1, affine=True, track_running_stats=True)\n",
       "    )\n",
       "    (1): BasicBlock(\n",
       "      (conv1): Conv2d(64, 64, kernel_size=(3, 3), stride=(1, 1), padding=(1, 1), bias=False)\n",
       "      (bn1): BatchNorm2d(64, eps=1e-05, momentum=0.1, affine=True, track_running_stats=True)\n",
       "      (relu): ReLU(inplace=True)\n",
       "      (conv2): Conv2d(64, 64, kernel_size=(3, 3), stride=(1, 1), padding=(1, 1), bias=False)\n",
       "      (bn2): BatchNorm2d(64, eps=1e-05, momentum=0.1, affine=True, track_running_stats=True)\n",
       "    )\n",
       "  )\n",
       "  (layer2): Sequential(\n",
       "    (0): BasicBlock(\n",
       "      (conv1): Conv2d(64, 128, kernel_size=(3, 3), stride=(2, 2), padding=(1, 1), bias=False)\n",
       "      (bn1): BatchNorm2d(128, eps=1e-05, momentum=0.1, affine=True, track_running_stats=True)\n",
       "      (relu): ReLU(inplace=True)\n",
       "      (conv2): Conv2d(128, 128, kernel_size=(3, 3), stride=(1, 1), padding=(1, 1), bias=False)\n",
       "      (bn2): BatchNorm2d(128, eps=1e-05, momentum=0.1, affine=True, track_running_stats=True)\n",
       "      (downsample): Sequential(\n",
       "        (0): Conv2d(64, 128, kernel_size=(1, 1), stride=(2, 2), bias=False)\n",
       "        (1): BatchNorm2d(128, eps=1e-05, momentum=0.1, affine=True, track_running_stats=True)\n",
       "      )\n",
       "    )\n",
       "    (1): BasicBlock(\n",
       "      (conv1): Conv2d(128, 128, kernel_size=(3, 3), stride=(1, 1), padding=(1, 1), bias=False)\n",
       "      (bn1): BatchNorm2d(128, eps=1e-05, momentum=0.1, affine=True, track_running_stats=True)\n",
       "      (relu): ReLU(inplace=True)\n",
       "      (conv2): Conv2d(128, 128, kernel_size=(3, 3), stride=(1, 1), padding=(1, 1), bias=False)\n",
       "      (bn2): BatchNorm2d(128, eps=1e-05, momentum=0.1, affine=True, track_running_stats=True)\n",
       "    )\n",
       "  )\n",
       "  (layer3): Sequential(\n",
       "    (0): BasicBlock(\n",
       "      (conv1): Conv2d(128, 256, kernel_size=(3, 3), stride=(2, 2), padding=(1, 1), bias=False)\n",
       "      (bn1): BatchNorm2d(256, eps=1e-05, momentum=0.1, affine=True, track_running_stats=True)\n",
       "      (relu): ReLU(inplace=True)\n",
       "      (conv2): Conv2d(256, 256, kernel_size=(3, 3), stride=(1, 1), padding=(1, 1), bias=False)\n",
       "      (bn2): BatchNorm2d(256, eps=1e-05, momentum=0.1, affine=True, track_running_stats=True)\n",
       "      (downsample): Sequential(\n",
       "        (0): Conv2d(128, 256, kernel_size=(1, 1), stride=(2, 2), bias=False)\n",
       "        (1): BatchNorm2d(256, eps=1e-05, momentum=0.1, affine=True, track_running_stats=True)\n",
       "      )\n",
       "    )\n",
       "    (1): BasicBlock(\n",
       "      (conv1): Conv2d(256, 256, kernel_size=(3, 3), stride=(1, 1), padding=(1, 1), bias=False)\n",
       "      (bn1): BatchNorm2d(256, eps=1e-05, momentum=0.1, affine=True, track_running_stats=True)\n",
       "      (relu): ReLU(inplace=True)\n",
       "      (conv2): Conv2d(256, 256, kernel_size=(3, 3), stride=(1, 1), padding=(1, 1), bias=False)\n",
       "      (bn2): BatchNorm2d(256, eps=1e-05, momentum=0.1, affine=True, track_running_stats=True)\n",
       "    )\n",
       "  )\n",
       "  (layer4): Sequential(\n",
       "    (0): BasicBlock(\n",
       "      (conv1): Conv2d(256, 512, kernel_size=(3, 3), stride=(2, 2), padding=(1, 1), bias=False)\n",
       "      (bn1): BatchNorm2d(512, eps=1e-05, momentum=0.1, affine=True, track_running_stats=True)\n",
       "      (relu): ReLU(inplace=True)\n",
       "      (conv2): Conv2d(512, 512, kernel_size=(3, 3), stride=(1, 1), padding=(1, 1), bias=False)\n",
       "      (bn2): BatchNorm2d(512, eps=1e-05, momentum=0.1, affine=True, track_running_stats=True)\n",
       "      (downsample): Sequential(\n",
       "        (0): Conv2d(256, 512, kernel_size=(1, 1), stride=(2, 2), bias=False)\n",
       "        (1): BatchNorm2d(512, eps=1e-05, momentum=0.1, affine=True, track_running_stats=True)\n",
       "      )\n",
       "    )\n",
       "    (1): BasicBlock(\n",
       "      (conv1): Conv2d(512, 512, kernel_size=(3, 3), stride=(1, 1), padding=(1, 1), bias=False)\n",
       "      (bn1): BatchNorm2d(512, eps=1e-05, momentum=0.1, affine=True, track_running_stats=True)\n",
       "      (relu): ReLU(inplace=True)\n",
       "      (conv2): Conv2d(512, 512, kernel_size=(3, 3), stride=(1, 1), padding=(1, 1), bias=False)\n",
       "      (bn2): BatchNorm2d(512, eps=1e-05, momentum=0.1, affine=True, track_running_stats=True)\n",
       "    )\n",
       "  )\n",
       "  (avgpool): AdaptiveAvgPool2d(output_size=(1, 1))\n",
       "  (fc): Linear(in_features=512, out_features=1000, bias=True)\n",
       ")>"
      ]
     },
     "execution_count": 62,
     "metadata": {},
     "output_type": "execute_result"
    }
   ],
   "source": [
    "resnet18().modules\n"
   ]
  },
  {
   "cell_type": "code",
   "execution_count": null,
   "id": "black-subdivision",
   "metadata": {},
   "outputs": [],
   "source": []
  }
 ],
 "metadata": {
  "kernelspec": {
   "display_name": "Python 3",
   "language": "python",
   "name": "python3"
  },
  "language_info": {
   "codemirror_mode": {
    "name": "ipython",
    "version": 3
   },
   "file_extension": ".py",
   "mimetype": "text/x-python",
   "name": "python",
   "nbconvert_exporter": "python",
   "pygments_lexer": "ipython3",
   "version": "3.8.6"
  },
  "widgets": {
   "application/vnd.jupyter.widget-state+json": {
    "state": {},
    "version_major": 2,
    "version_minor": 0
   }
  }
 },
 "nbformat": 4,
 "nbformat_minor": 5
}
