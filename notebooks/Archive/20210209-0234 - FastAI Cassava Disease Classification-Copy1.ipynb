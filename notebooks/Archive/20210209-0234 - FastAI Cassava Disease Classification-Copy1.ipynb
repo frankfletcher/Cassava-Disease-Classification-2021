{
 "cells": [
  {
   "cell_type": "markdown",
   "id": "confused-sector",
   "metadata": {},
   "source": [
    "# PRETRAIN FROM PERSONALLY TRAINED MODEL\n",
    "## FastAI Cassava Root Disease Classification"
   ]
  },
  {
   "cell_type": "code",
   "execution_count": 1,
   "id": "dominant-covering",
   "metadata": {
    "execution": {
     "iopub.execute_input": "2021-02-09T10:34:10.062785Z",
     "iopub.status.busy": "2021-02-09T10:34:10.062495Z",
     "iopub.status.idle": "2021-02-09T10:34:10.069222Z",
     "shell.execute_reply": "2021-02-09T10:34:10.068766Z",
     "shell.execute_reply.started": "2021-02-09T10:34:10.062722Z"
    }
   },
   "outputs": [],
   "source": [
    "RUN_NAME_OF_MODEL_TO_LOAD = f'20210209-0146 - arch=tf_efficientnet_b4_ns - samples=1800 frozen=1 epochs=40 bs=7 res=494'\n",
    "EPOCH_TO_LOAD = 0"
   ]
  },
  {
   "cell_type": "raw",
   "id": "renewable-costa",
   "metadata": {
    "execution": {
     "iopub.execute_input": "2021-02-09T09:46:49.382385Z",
     "iopub.status.busy": "2021-02-09T09:46:49.382086Z",
     "iopub.status.idle": "2021-02-09T09:46:49.385403Z",
     "shell.execute_reply": "2021-02-09T09:46:49.384952Z",
     "shell.execute_reply.started": "2021-02-09T09:46:49.382317Z"
    }
   },
   "source": [
    "RUN_NAME_OF_MODEL_TO_LOAD = f'20210208-2112 - arch=tf_efficientnet_b4_ns - samples=1800 frozen=1 epochs=40 bs=8 res=380'\n",
    "EPOCH_TO_LOAD = 9"
   ]
  },
  {
   "cell_type": "markdown",
   "id": "logical-wonder",
   "metadata": {},
   "source": [
    "<br>\n",
    "<br>"
   ]
  },
  {
   "cell_type": "code",
   "execution_count": 2,
   "id": "necessary-anniversary",
   "metadata": {
    "execution": {
     "iopub.execute_input": "2021-02-09T10:34:11.325097Z",
     "iopub.status.busy": "2021-02-09T10:34:11.324948Z",
     "iopub.status.idle": "2021-02-09T10:34:12.396624Z",
     "shell.execute_reply": "2021-02-09T10:34:12.396200Z",
     "shell.execute_reply.started": "2021-02-09T10:34:11.325085Z"
    }
   },
   "outputs": [
    {
     "name": "stdout",
     "output_type": "stream",
     "text": [
      "RUN_NAME = '20210209-0234 - arch=tf_efficientnet_b4_ns - samples=1800 frozen=1 epochs=40 bs=7 res=456'\n"
     ]
    }
   ],
   "source": [
    "from datetime import datetime\n",
    "from fastbook import *\n",
    "from fastai.vision.all import *\n",
    "from fastai.vision.widgets import *\n",
    "import fastai\n",
    "import matplotlib.pyplot as plt\n",
    "import matplotlib.ticker as ticker\n",
    "from string import ascii_uppercase\n",
    "import numpy as np\n",
    "import operator\n",
    "import glob\n",
    "\n",
    "\n",
    "# %matplotlib inline\n",
    "\n",
    "%matplotlib widget\n",
    "\n",
    "plt.rcParams['figure.figsize'] = [9, 5]\n",
    "plt.rcParams['figure.dpi'] = 120\n",
    "plt.style.use('dark_background')\n",
    "\n",
    "\n",
    "ARCH = 'tf_efficientnet_b4_ns'  # resnet101\n",
    "\n",
    "CHOSEN_SAMPLE_SIZE = 1800  # use this to control per-category sample sizes # 1000  # deprecated but not removed\n",
    "# TEST_SET_SIZE = round(CHOSEN_SAMPLE_SIZE * 0.1)  # number of images per category to put in the test set\n",
    "FROZEN_EPOCHS = 1  # 1\n",
    "EPOCHS = 40  # 4\n",
    "BATCH_SIZE = 7  # 16\n",
    "RESOLUTION = round(380 * 1.2)  # 300\n",
    "PRETRAINED_FLAG = True\n",
    "\n",
    "# data = ''\n",
    "# rn_addon = f'_data={data}'\n",
    "\n",
    "time = datetime.today().strftime(\"%Y%m%d-%H%M\")\n",
    "\n",
    "# RUN_NAME = f'{time} - arch={ARCH.__name__} - samples={CHOSEN_SAMPLE_SIZE} frozen={FROZEN_EPOCHS} epochs={EPOCHS} bs={BATCH_SIZE} res={RESOLUTION}'\n",
    "RUN_NAME = f'{time} - arch={ARCH} - samples={CHOSEN_SAMPLE_SIZE} frozen={FROZEN_EPOCHS} epochs={EPOCHS} bs={BATCH_SIZE} res={RESOLUTION}'\n",
    "\n",
    "print(f\"RUN_NAME = '{RUN_NAME}'\")\n"
   ]
  },
  {
   "cell_type": "code",
   "execution_count": 3,
   "id": "other-aluminum",
   "metadata": {
    "execution": {
     "iopub.execute_input": "2021-02-09T10:34:12.398805Z",
     "iopub.status.busy": "2021-02-09T10:34:12.398644Z",
     "iopub.status.idle": "2021-02-09T10:34:12.402307Z",
     "shell.execute_reply": "2021-02-09T10:34:12.401938Z",
     "shell.execute_reply.started": "2021-02-09T10:34:12.398789Z"
    }
   },
   "outputs": [
    {
     "name": "stdout",
     "output_type": "stream",
     "text": [
      "CUDA available:              True\n",
      "CUDA device count:           1\n",
      "Current CUDA Device index:   0\n",
      "Current CUDA Device:         GeForce RTX 2070 SUPER\n",
      "\n",
      "fastai version:              2.2.2\n",
      "cuda version:                11.0\n",
      "torch version:               1.7.0\n"
     ]
    }
   ],
   "source": [
    "import torch\n",
    "print('CUDA available: '.ljust(28), torch.cuda.is_available())\n",
    "print('CUDA device count: '.ljust(28), torch.cuda.device_count())\n",
    "\n",
    "current_device = torch.cuda.current_device()\n",
    "print('Current CUDA Device index: '.ljust(28), current_device)\n",
    "# torch.cuda.device(current_device)\n",
    "print('Current CUDA Device: '.ljust(28), torch.cuda.get_device_name(current_device))\n",
    "print()\n",
    "# print('CUDA available: '.ljust(24), torch.cuda.is_available())\n",
    "print(f'fastai version:              {fastai.__version__}')\n",
    "# print(f'fastcore version:            {fastcore.__version__}')\n",
    "# print(f'fastbook version:            {fastbook.__version__}')\n",
    "print(f'cuda version:                {torch.version.cuda}')\n",
    "print(f'torch version:               {torch.__version__}')\n",
    "# print(f'python version:              {python_version()}')"
   ]
  },
  {
   "cell_type": "markdown",
   "id": "adopted-observer",
   "metadata": {},
   "source": [
    "<br>\n",
    "<br>"
   ]
  },
  {
   "cell_type": "markdown",
   "id": "incorporate-hazard",
   "metadata": {},
   "source": [
    "## Utillity Functions\n",
    "\n"
   ]
  },
  {
   "cell_type": "code",
   "execution_count": 4,
   "id": "tested-handling",
   "metadata": {
    "execution": {
     "iopub.execute_input": "2021-02-09T10:34:12.760281Z",
     "iopub.status.busy": "2021-02-09T10:34:12.759993Z",
     "iopub.status.idle": "2021-02-09T10:34:12.822319Z",
     "shell.execute_reply": "2021-02-09T10:34:12.821738Z",
     "shell.execute_reply.started": "2021-02-09T10:34:12.760256Z"
    }
   },
   "outputs": [],
   "source": [
    "from timm import create_model\n",
    "from fastai.vision.learner import _update_first_layer\n",
    "\n",
    "def create_timm_body(arch:str, pretrained=True, cut=None, n_in=3):\n",
    "    \"Creates a body from any model in the `timm` library.\"\n",
    "    model = create_model(arch, pretrained=pretrained, num_classes=0, global_pool='')\n",
    "    _update_first_layer(model, n_in, pretrained)\n",
    "    if cut is None:\n",
    "        ll = list(enumerate(model.children()))\n",
    "        cut = next(i for i,o in reversed(ll) if has_pool_type(o))\n",
    "    if isinstance(cut, int): return nn.Sequential(*list(model.children())[:cut])\n",
    "    elif callable(cut): return cut(model)\n",
    "    else: raise NamedError(\"cut must be either integer or function\")\n",
    "        \n",
    "def create_timm_model(arch:str, n_out, cut=None, pretrained=True, n_in=3, init=nn.init.kaiming_normal_, custom_head=None,\n",
    "                     concat_pool=False, **kwargs):\n",
    "    \"Create custom architecture using `arch`, `n_in` and `n_out` from the `timm` library\"\n",
    "    body = create_timm_body(arch, pretrained, None, n_in)\n",
    "    if custom_head is None:\n",
    "        nf = num_features_model(nn.Sequential(*body.children())) * (2 if concat_pool else 1)\n",
    "        head = create_head(nf, n_out, concat_pool=concat_pool, **kwargs)\n",
    "    else: head = custom_head\n",
    "    model = nn.Sequential(body, head)\n",
    "    if init is not None: apply_init(model[1], init)\n",
    "    return model\n",
    "\n",
    "\n",
    "def timm_learner(dls, arch:str, loss_func=None, pretrained=True, cut=None, splitter=None,\n",
    "                y_range=None, config=None, n_out=None, normalize=True, **kwargs):\n",
    "    \"Build a convnet style learner from `dls` and `arch` using the `timm` library\"\n",
    "    if config is None: config = {}\n",
    "    if n_out is None: n_out = get_c(dls)\n",
    "    assert n_out, \"`n_out` is not defined, and could not be inferred from data, set `dls.c` or pass `n_out`\"\n",
    "    if y_range is None and 'y_range' in config: y_range = config.pop('y_range')\n",
    "    model = create_timm_model(arch, n_out, default_split, pretrained, y_range=y_range, **config)\n",
    "    learn = Learner(dls, model, loss_func=loss_func, splitter=default_split, **kwargs)\n",
    "    if pretrained: learn.freeze()\n",
    "    return learn"
   ]
  },
  {
   "cell_type": "markdown",
   "id": "medium-being",
   "metadata": {},
   "source": [
    "<br>\n",
    "<br>"
   ]
  },
  {
   "cell_type": "markdown",
   "id": "mexican-horror",
   "metadata": {},
   "source": [
    "### Check for Imbalance"
   ]
  },
  {
   "cell_type": "code",
   "execution_count": 5,
   "id": "intelligent-instruction",
   "metadata": {
    "execution": {
     "iopub.execute_input": "2021-02-09T10:34:14.097583Z",
     "iopub.status.busy": "2021-02-09T10:34:14.097369Z",
     "iopub.status.idle": "2021-02-09T10:34:14.100006Z",
     "shell.execute_reply": "2021-02-09T10:34:14.099580Z",
     "shell.execute_reply.started": "2021-02-09T10:34:14.097565Z"
    }
   },
   "outputs": [],
   "source": [
    "classes = ['cbb', 'cbsd', 'cgm', 'cmd', 'healthy']"
   ]
  },
  {
   "cell_type": "code",
   "execution_count": 6,
   "id": "saved-study",
   "metadata": {
    "execution": {
     "iopub.execute_input": "2021-02-09T10:34:14.552247Z",
     "iopub.status.busy": "2021-02-09T10:34:14.551960Z",
     "iopub.status.idle": "2021-02-09T10:34:14.710159Z",
     "shell.execute_reply": "2021-02-09T10:34:14.709839Z",
     "shell.execute_reply.started": "2021-02-09T10:34:14.552222Z"
    }
   },
   "outputs": [
    {
     "data": {
      "application/vnd.jupyter.widget-view+json": {
       "model_id": "8ecf0b9c8aab4512b3fc78fa86ddfa16",
       "version_major": 2,
       "version_minor": 0
      },
      "text/plain": [
       "Canvas(toolbar=Toolbar(toolitems=[('Home', 'Reset original view', 'home', 'home'), ('Back', 'Back to previous …"
      ]
     },
     "metadata": {},
     "output_type": "display_data"
    }
   ],
   "source": [
    "path = '../data/train_images_sorted'\n",
    "\n",
    "img_flist = {}\n",
    "img_quants = {}\n",
    "\n",
    "for c in classes:\n",
    "    files = get_image_files(f'{path}/{c}')\n",
    "    img_flist[c] = list(files)\n",
    "    img_quants[c] = len(files)\n",
    "\n",
    "minqc = min(img_quants, key=img_quants.get)\n",
    "\n",
    "sample_size = round(img_quants[minqc] * 2.5)  # oversample the lowest class quantity\n",
    "\n",
    "\n",
    "plt.figure(figsize=(6,3))\n",
    "plt.bar(img_quants.keys(), img_quants.values())  \n",
    "plt.axhline(sample_size, ls='--', color='red', label='Chosen Sample Size')\n",
    "plt.legend()\n",
    "plt.show()\n",
    "        "
   ]
  },
  {
   "cell_type": "code",
   "execution_count": 7,
   "id": "expanded-relaxation",
   "metadata": {
    "execution": {
     "iopub.execute_input": "2021-02-09T10:34:15.040307Z",
     "iopub.status.busy": "2021-02-09T10:34:15.040084Z",
     "iopub.status.idle": "2021-02-09T10:34:15.095603Z",
     "shell.execute_reply": "2021-02-09T10:34:15.095310Z",
     "shell.execute_reply.started": "2021-02-09T10:34:15.040287Z"
    }
   },
   "outputs": [
    {
     "data": {
      "application/vnd.jupyter.widget-view+json": {
       "model_id": "54781e80deb64efe89bfd491b1fc15f4",
       "version_major": 2,
       "version_minor": 0
      },
      "text/plain": [
       "Canvas(toolbar=Toolbar(toolitems=[('Home', 'Reset original view', 'home', 'home'), ('Back', 'Back to previous …"
      ]
     },
     "metadata": {},
     "output_type": "display_data"
    }
   ],
   "source": [
    "\n",
    "for c in classes:\n",
    "    if len(img_flist[c]) < sample_size:\n",
    "#         all_covid = img_flist[c].copy()\n",
    "        img_flist[c] = np.append(img_flist[c], np.random.choice(img_flist[c], sample_size - len(img_flist[c]), replace=True))\n",
    "    else:\n",
    "        img_flist[c] = np.random.choice(img_flist[c], sample_size, replace=False)  # without replacement\n",
    "\n",
    "    # boost the weak class\n",
    "    if c == 'healthy':\n",
    "        img_flist[c] = np.append(img_flist[c], np.random.choice(img_flist[c], round(sample_size * 0.5), replace=False))\n",
    "        \n",
    "plt.figure(figsize=(6,3))\n",
    "plt.bar(img_flist.keys(), [len(l) for l in img_flist.values()])\n",
    "plt.show()"
   ]
  },
  {
   "cell_type": "code",
   "execution_count": 8,
   "id": "increased-ladder",
   "metadata": {
    "execution": {
     "iopub.execute_input": "2021-02-09T10:34:15.685812Z",
     "iopub.status.busy": "2021-02-09T10:34:15.685547Z",
     "iopub.status.idle": "2021-02-09T10:34:15.690272Z",
     "shell.execute_reply": "2021-02-09T10:34:15.689848Z",
     "shell.execute_reply.started": "2021-02-09T10:34:15.685789Z"
    }
   },
   "outputs": [],
   "source": [
    "test_flist = {}\n",
    "test_size = round(0.1 * sample_size)\n",
    "\n",
    "for c in classes:\n",
    "    img_flist[c] = np.random.choice(img_flist[c], len(img_flist[c]), replace=False)  # shuffle\n",
    "    test_flist[c] = img_flist[c][0:test_size]\n",
    "    img_flist[c] = img_flist[c][test_size:]\n",
    "#     img_flist[c] = [f for f in img_flist[c] if f not in test_flist[c]]"
   ]
  },
  {
   "cell_type": "code",
   "execution_count": 9,
   "id": "directed-standing",
   "metadata": {
    "execution": {
     "iopub.execute_input": "2021-02-09T10:34:16.164745Z",
     "iopub.status.busy": "2021-02-09T10:34:16.164486Z",
     "iopub.status.idle": "2021-02-09T10:34:16.208315Z",
     "shell.execute_reply": "2021-02-09T10:34:16.207962Z",
     "shell.execute_reply.started": "2021-02-09T10:34:16.164722Z"
    }
   },
   "outputs": [
    {
     "data": {
      "application/vnd.jupyter.widget-view+json": {
       "model_id": "1c79b6153835454ebb87b2273cc9d2c1",
       "version_major": 2,
       "version_minor": 0
      },
      "text/plain": [
       "Canvas(toolbar=Toolbar(toolitems=[('Home', 'Reset original view', 'home', 'home'), ('Back', 'Back to previous …"
      ]
     },
     "metadata": {},
     "output_type": "display_data"
    },
    {
     "data": {
      "application/vnd.jupyter.widget-view+json": {
       "model_id": "a49608f6842543e4a30aac18556a7eaf",
       "version_major": 2,
       "version_minor": 0
      },
      "text/plain": [
       "Canvas(toolbar=Toolbar(toolitems=[('Home', 'Reset original view', 'home', 'home'), ('Back', 'Back to previous …"
      ]
     },
     "metadata": {},
     "output_type": "display_data"
    }
   ],
   "source": [
    "plt.figure(figsize=(6,3))\n",
    "plt.title('Training Data')\n",
    "plt.bar(img_flist.keys(), [len(l) for l in img_flist.values()])\n",
    "plt.axhline(test_size, ls='--', color='red')\n",
    "plt.show()\n",
    "\n",
    "plt.figure(figsize=(6,3))\n",
    "plt.title('Validation Data')\n",
    "plt.bar(test_flist.keys(), [len(l) for l in test_flist.values()])\n",
    "plt.show()\n",
    "                 "
   ]
  },
  {
   "cell_type": "code",
   "execution_count": 10,
   "id": "computational-strength",
   "metadata": {
    "execution": {
     "iopub.execute_input": "2021-02-09T10:34:16.617451Z",
     "iopub.status.busy": "2021-02-09T10:34:16.617165Z",
     "iopub.status.idle": "2021-02-09T10:34:18.650372Z",
     "shell.execute_reply": "2021-02-09T10:34:18.649962Z",
     "shell.execute_reply.started": "2021-02-09T10:34:16.617425Z"
    }
   },
   "outputs": [],
   "source": [
    "def get_fnames(path):\n",
    "    retlist = []\n",
    "    \n",
    "    for l in img_flist.values():\n",
    "        for f in l:\n",
    "            retlist.append(f)\n",
    "            \n",
    "    return random.sample(retlist, len(retlist))\n",
    "\n",
    "# batch_tfms = [ *aug_transforms(size=round(RESOLUTION * 1), do_flip=True, batch=True, max_zoom=1.7, mult=2.4), Normalize.from_stats(*imagenet_stats) ]\n",
    "batch_tfms = [ *aug_transforms(size=round(RESOLUTION * 1), do_flip=True, batch=True, max_zoom=1.2, mult=2.8), Normalize.from_stats(*imagenet_stats) ]\n",
    "\n",
    "\n",
    "img_db = DataBlock(\n",
    "    blocks=(ImageBlock, CategoryBlock), \n",
    "    get_items=get_fnames, \n",
    "    splitter=RandomSplitter(valid_pct=0.28, seed=42),\n",
    "    get_y=parent_label,\n",
    "#     item_tfms=Resize(RESOLUTION, method='bilinear') , batch_tfms=batch_tfms)\n",
    "    item_tfms=RandomResizedCrop(RESOLUTION) , batch_tfms=batch_tfms)\n",
    "\n",
    "dls = img_db.dataloaders(path, batch_size=BATCH_SIZE)"
   ]
  },
  {
   "cell_type": "markdown",
   "id": "grave-beach",
   "metadata": {},
   "source": [
    "<br>\n",
    "\n",
    "### Verify the Training and Validation Batches"
   ]
  },
  {
   "cell_type": "code",
   "execution_count": 11,
   "id": "illegal-parameter",
   "metadata": {
    "execution": {
     "iopub.execute_input": "2021-02-09T10:34:18.709057Z",
     "iopub.status.busy": "2021-02-09T10:34:18.708905Z",
     "iopub.status.idle": "2021-02-09T10:34:19.585734Z",
     "shell.execute_reply": "2021-02-09T10:34:19.585433Z",
     "shell.execute_reply.started": "2021-02-09T10:34:18.709040Z"
    }
   },
   "outputs": [
    {
     "data": {
      "application/vnd.jupyter.widget-view+json": {
       "model_id": "988bec3dcb204331a73f57246e85f41f",
       "version_major": 2,
       "version_minor": 0
      },
      "text/plain": [
       "Canvas(toolbar=Toolbar(toolitems=[('Home', 'Reset original view', 'home', 'home'), ('Back', 'Back to previous …"
      ]
     },
     "metadata": {},
     "output_type": "display_data"
    }
   ],
   "source": [
    "dls.valid.show_batch(max_n=16, nrows=4)"
   ]
  },
  {
   "cell_type": "code",
   "execution_count": 12,
   "id": "commercial-holder",
   "metadata": {
    "execution": {
     "iopub.execute_input": "2021-02-09T10:34:19.588739Z",
     "iopub.status.busy": "2021-02-09T10:34:19.588632Z",
     "iopub.status.idle": "2021-02-09T10:34:19.592521Z",
     "shell.execute_reply": "2021-02-09T10:34:19.592237Z",
     "shell.execute_reply.started": "2021-02-09T10:34:19.588727Z"
    }
   },
   "outputs": [
    {
     "name": "stdout",
     "output_type": "stream",
     "text": [
      "\n",
      "All Callbacks:  [CutMix, ShowGraphCallback, SaveModelCallback, GradientAccumulation, ReduceLROnPlateau]\n"
     ]
    }
   ],
   "source": [
    "# Eary stopping callback\n",
    "early_stop_cb = EarlyStoppingCallback(monitor='error_rate', min_delta=0.0001, patience=5)\n",
    "\n",
    "# Save the current model's weights every epoch\n",
    "save_cb = SaveModelCallback(fname=RUN_NAME, every_epoch=True, with_opt=True)\n",
    "\n",
    "# Reduce the Learning Rate if valid_loss flatlines\n",
    "reduceLR_cb = ReduceLROnPlateau(monitor='valid_loss', min_delta=0.01, min_lr=1e-8, patience=3)\n",
    "\n",
    "# Mixup callback for regularization\n",
    "# mixup_cb = MixUp(alpha=0.4)\n",
    "mixup_cb = None\n",
    "\n",
    "# Cutmix callback for regularization\n",
    "cutmix_cb = CutMix(alpha=0.3)\n",
    "# cutmix_cb = None\n",
    "\n",
    "\n",
    "\n",
    "\n",
    "# List of callbacks to be used later\n",
    "cbs = [ShowGraphCallback(), save_cb, GradientAccumulation(n_acc=32), reduceLR_cb]\n",
    "\n",
    "if mixup_cb != None:\n",
    "    cbs.insert(0, mixup_cb)\n",
    "    \n",
    "if cutmix_cb != None:\n",
    "    cbs.insert(0, cutmix_cb)\n",
    "\n",
    "\n",
    "\n",
    "\n",
    "print('\\nAll Callbacks: ', cbs)"
   ]
  },
  {
   "cell_type": "markdown",
   "id": "sonic-boutique",
   "metadata": {},
   "source": [
    "### Visualize the effect of CutMix\n"
   ]
  },
  {
   "cell_type": "code",
   "execution_count": 13,
   "id": "public-psychiatry",
   "metadata": {
    "execution": {
     "iopub.execute_input": "2021-02-09T10:34:19.596471Z",
     "iopub.status.busy": "2021-02-09T10:34:19.596367Z",
     "iopub.status.idle": "2021-02-09T10:34:19.810194Z",
     "shell.execute_reply": "2021-02-09T10:34:19.809820Z",
     "shell.execute_reply.started": "2021-02-09T10:34:19.596461Z"
    }
   },
   "outputs": [
    {
     "data": {
      "text/html": [
       "<table border=\"1\" class=\"dataframe\">\n",
       "  <thead>\n",
       "    <tr style=\"text-align: left;\">\n",
       "      <th>epoch</th>\n",
       "      <th>train_loss</th>\n",
       "      <th>valid_loss</th>\n",
       "      <th>time</th>\n",
       "    </tr>\n",
       "  </thead>\n",
       "  <tbody>\n",
       "    <tr>\n",
       "      <td>0</td>\n",
       "      <td>00:00</td>\n",
       "    </tr>\n",
       "  </tbody>\n",
       "</table>"
      ],
      "text/plain": [
       "<IPython.core.display.HTML object>"
      ]
     },
     "metadata": {},
     "output_type": "display_data"
    },
    {
     "data": {
      "application/vnd.jupyter.widget-view+json": {
       "model_id": "2884e09d1c1645918d78c3f4b07b2d91",
       "version_major": 2,
       "version_minor": 0
      },
      "text/plain": [
       "Canvas(toolbar=Toolbar(toolitems=[('Home', 'Reset original view', 'home', 'home'), ('Back', 'Back to previous …"
      ]
     },
     "metadata": {},
     "output_type": "display_data"
    }
   ],
   "source": [
    "if cutmix_cb != None:\n",
    "    with Learner(dls, nn.Linear(3,4), loss_func=CrossEntropyLossFlat(), cbs=cutmix_cb) as learn:\n",
    "        learn.epoch,learn.training = 0,True\n",
    "        learn.dl = dls.train\n",
    "        b = dls.one_batch()\n",
    "        learn._split(b)\n",
    "        learn('before_batch')\n",
    "\n",
    "    _,axs = plt.subplots(3,3, figsize=(9,9))\n",
    "    dls.show_batch(b=(cutmix_cb.x,cutmix_cb.y), ctxs=axs.flatten())\n",
    "    \n",
    "else: print('\\n CutMix was not selected.')"
   ]
  },
  {
   "cell_type": "markdown",
   "id": "centered-radio",
   "metadata": {},
   "source": [
    "<br>\n",
    "\n",
    "### Visualize the Effect of MixUp\n",
    "\n",
    "MixUp creates a linear interpolation between the target data and another datapoint.  In images, it shows up as ghostly figures.  The technique has been shown to be a good to decrease the liklihood of overfitting."
   ]
  },
  {
   "cell_type": "code",
   "execution_count": 14,
   "id": "marine-butterfly",
   "metadata": {
    "execution": {
     "iopub.execute_input": "2021-02-09T10:34:21.655512Z",
     "iopub.status.busy": "2021-02-09T10:34:21.655376Z",
     "iopub.status.idle": "2021-02-09T10:34:21.658697Z",
     "shell.execute_reply": "2021-02-09T10:34:21.658378Z",
     "shell.execute_reply.started": "2021-02-09T10:34:21.655500Z"
    }
   },
   "outputs": [
    {
     "name": "stdout",
     "output_type": "stream",
     "text": [
      "\n",
      " MixUp was not selected.\n"
     ]
    }
   ],
   "source": [
    "if mixup_cb != None:\n",
    "    with Learner(dls, nn.Linear(3,4), loss_func=CrossEntropyLossFlat(), cbs=mixup_cb) as learn:\n",
    "        learn.epoch,learn.training = 0,True\n",
    "        learn.dl = dls.train\n",
    "        b = dls.one_batch()\n",
    "        learn._split(b)\n",
    "        learn('before_batch')\n",
    "\n",
    "    _,axs = plt.subplots(3,3, figsize=(9,9))\n",
    "    dls.show_batch(b=(mixup_cb.x,mixup_cb.y), ctxs=axs.flatten())\n",
    "\n",
    "else: print('\\n MixUp was not selected.')"
   ]
  },
  {
   "cell_type": "code",
   "execution_count": 15,
   "id": "brilliant-nutrition",
   "metadata": {
    "execution": {
     "iopub.execute_input": "2021-02-09T10:34:25.036105Z",
     "iopub.status.busy": "2021-02-09T10:34:25.035849Z",
     "iopub.status.idle": "2021-02-09T10:34:25.408064Z",
     "shell.execute_reply": "2021-02-09T10:34:25.407626Z",
     "shell.execute_reply.started": "2021-02-09T10:34:25.036082Z"
    }
   },
   "outputs": [],
   "source": [
    "# learn = cnn_learner(dls, ARCH , \n",
    "#                     pretrained=PRETRAINED_FLAG, wd=1e-4, opt_func=ranger,\n",
    "#                     loss_func=LabelSmoothingCrossEntropyFlat(), \n",
    "#                     cbs = cbs, metrics=[error_rate, accuracy])\n",
    "\n",
    "# from wwf.vision.timm import *\n",
    "import timm\n",
    "learn = timm_learner(dls, \n",
    "                    'tf_efficientnet_b4_ns',\n",
    "                     opt_func=ranger,\n",
    "                     loss_func=LabelSmoothingCrossEntropy(),\n",
    "                     cbs=cbs,\n",
    "                     metrics = [accuracy]).to_fp16()"
   ]
  },
  {
   "cell_type": "code",
   "execution_count": 16,
   "id": "located-uruguay",
   "metadata": {
    "execution": {
     "iopub.execute_input": "2021-02-09T10:34:26.126443Z",
     "iopub.status.busy": "2021-02-09T10:34:26.126222Z",
     "iopub.status.idle": "2021-02-09T10:34:26.242162Z",
     "shell.execute_reply": "2021-02-09T10:34:26.241749Z",
     "shell.execute_reply.started": "2021-02-09T10:34:26.126424Z"
    }
   },
   "outputs": [],
   "source": [
    "# Add custom weights to learn\n",
    "\n",
    "# learn = load_learner(f'../models/{RUN_NAME_OF_MODEL_TO_LOAD}.pkl', cpu=False)\n",
    "load_model(f'models/{RUN_NAME_OF_MODEL_TO_LOAD}_{EPOCH_TO_LOAD}.pth', learn, opt=ranger, with_opt=False)\n"
   ]
  },
  {
   "cell_type": "code",
   "execution_count": 17,
   "id": "ongoing-threat",
   "metadata": {
    "execution": {
     "iopub.execute_input": "2021-02-09T10:34:27.755895Z",
     "iopub.status.busy": "2021-02-09T10:34:27.755629Z",
     "iopub.status.idle": "2021-02-09T10:34:27.761210Z",
     "shell.execute_reply": "2021-02-09T10:34:27.760699Z",
     "shell.execute_reply.started": "2021-02-09T10:34:27.755872Z"
    }
   },
   "outputs": [
    {
     "data": {
      "text/plain": [
       "LabelSmoothingCrossEntropy()"
      ]
     },
     "metadata": {},
     "output_type": "display_data"
    },
    {
     "data": {
      "text/plain": [
       "<function fastai.optimizer.ranger(p, lr, mom=0.95, wd=0.01, eps=1e-06, sqr_mom=0.99, beta=0.0, decouple_wd=True)>"
      ]
     },
     "metadata": {},
     "output_type": "display_data"
    },
    {
     "data": {
      "text/plain": [
       "(#9) [TrainEvalCallback,Recorder,ProgressCallback,CutMix,ShowGraphCallback,SaveModelCallback,GradientAccumulation,ReduceLROnPlateau,MixedPrecision]"
      ]
     },
     "metadata": {},
     "output_type": "display_data"
    }
   ],
   "source": [
    "display(learn.loss_func, learn.opt_func, learn.cbs)"
   ]
  },
  {
   "cell_type": "markdown",
   "id": "ordered-developer",
   "metadata": {},
   "source": [
    "<br>\n",
    "<br>\n",
    "<br>\n",
    "\n",
    "## Find a Good Learning Rate to Start With"
   ]
  },
  {
   "cell_type": "code",
   "execution_count": null,
   "id": "paperback-complement",
   "metadata": {},
   "outputs": [],
   "source": [
    "LR_DIV = 14e0  # Shift the lr_min left by this amount.  Adjust as necessary\n",
    "lr_min = 0.002  # just a default"
   ]
  },
  {
   "cell_type": "code",
   "execution_count": null,
   "id": "experienced-forwarding",
   "metadata": {},
   "outputs": [],
   "source": [
    "if PRETRAINED_FLAG == True:\n",
    "    learn.freeze()\n",
    "    lr_min,lr_steep = learn.lr_find()\n",
    "    plt.axvline(lr_min, ls='--', color='red', label=f'lr_min={round(lr_min,6)}')\n",
    "    plt.axvline(lr_min/LR_DIV, ls='--', color='yellow', label=f'lr_min / {LR_DIV}={round(lr_min/LR_DIV,6)}')\n",
    "    plt.axvline(lr_steep, ls='--', color='grey', label=f'lr_steep={round(lr_steep,6)}')\n",
    "    plt.legend()\n",
    "    plt.show()\n",
    "\n",
    "    print(f\"Minimum/10: {lr_min:.2e}, steepest point: {lr_steep:.2e}, (Mim/10)/{LR_DIV}: {lr_min/LR_DIV}\")"
   ]
  },
  {
   "cell_type": "markdown",
   "id": "laughing-popularity",
   "metadata": {},
   "source": [
    "<br>\n",
    "<br>"
   ]
  },
  {
   "cell_type": "markdown",
   "id": "expensive-screw",
   "metadata": {},
   "source": [
    "# Pick a Good Initial Learning Rate"
   ]
  },
  {
   "cell_type": "code",
   "execution_count": null,
   "id": "perfect-cosmetic",
   "metadata": {},
   "outputs": [],
   "source": [
    "# LR_CHOICE = lr_min/LR_DIV\n",
    "# LR_CHOICE = lr_steep\n",
    "# LR_CHOICE = 8e-5\n",
    "LR_CHOICE = 2e-4"
   ]
  },
  {
   "cell_type": "markdown",
   "id": "greater-present",
   "metadata": {},
   "source": [
    "<br>\n",
    "<br>"
   ]
  },
  {
   "cell_type": "markdown",
   "id": "lined-butter",
   "metadata": {},
   "source": [
    "<br>\n",
    "<br>"
   ]
  },
  {
   "cell_type": "markdown",
   "id": "following-pledge",
   "metadata": {},
   "source": [
    "# Training the Model"
   ]
  },
  {
   "cell_type": "markdown",
   "id": "spread-kansas",
   "metadata": {
    "slideshow": {
     "slide_type": "slide"
    }
   },
   "source": [
    "<br>\n",
    "\n",
    "## Fit the last layers, unfreeze, fit the whole net, with a decent initial LR, all in one go.\n",
    "\n"
   ]
  },
  {
   "cell_type": "code",
   "execution_count": null,
   "id": "prompt-disabled",
   "metadata": {},
   "outputs": [],
   "source": [
    "\n",
    "\n",
    "if PRETRAINED_FLAG:\n",
    "    print(f'FROZEN_EPOCHS:  {FROZEN_EPOCHS}')\n",
    "print(f'EPOCHS:         {EPOCHS}')\n",
    "print(f'Learning Rate:  {LR_CHOICE}\\n\\n')\n",
    "\n",
    "if PRETRAINED_FLAG:\n",
    "    learn.fit_flat_cos(FROZEN_EPOCHS, slice(LR_CHOICE), pct_start=0.99, wd=0.1)\n"
   ]
  },
  {
   "cell_type": "markdown",
   "id": "broadband-bailey",
   "metadata": {},
   "source": [
    "## Manually set up the unfrozen runs"
   ]
  },
  {
   "cell_type": "code",
   "execution_count": 18,
   "id": "legislative-bearing",
   "metadata": {
    "execution": {
     "iopub.execute_input": "2021-02-09T10:34:43.004434Z",
     "iopub.status.busy": "2021-02-09T10:34:43.004146Z",
     "iopub.status.idle": "2021-02-09T10:34:43.011942Z",
     "shell.execute_reply": "2021-02-09T10:34:43.011493Z",
     "shell.execute_reply.started": "2021-02-09T10:34:43.004399Z"
    }
   },
   "outputs": [],
   "source": [
    "learn.unfreeze()"
   ]
  },
  {
   "cell_type": "code",
   "execution_count": null,
   "id": "superb-cincinnati",
   "metadata": {},
   "outputs": [],
   "source": [
    "lr_min,lr_steep = learn.lr_find()\n",
    "plt.axvline(lr_min, ls='--', color='red', label=f'lr_min={round(lr_min,6)}')\n",
    "plt.axvline(LR_CHOICE/2, ls='--', color='yellow', label=f'LR_CHOICE/2={round(LR_CHOICE/2,6)}')\n",
    "plt.axvline(lr_steep, ls='--', color='grey', label=f'lr_steep={round(lr_steep,6)}')\n",
    "plt.axvline(2e-5, ls='--', color='green', label=f'{round(2e-5,6)}')\n",
    "plt.axvline(7e-5, ls='--', color='orange', label=f'{round(7e-5,6)}')\n",
    "\n",
    "plt.legend()\n",
    "plt.show()"
   ]
  },
  {
   "cell_type": "code",
   "execution_count": null,
   "id": "simple-meter",
   "metadata": {},
   "outputs": [],
   "source": [
    "print(f\"Minimum/10: {lr_min:.2e}, steepest point: {lr_steep:.2e}, LR_CHOICE/2: {LR_CHOICE / 2}\")"
   ]
  },
  {
   "cell_type": "markdown",
   "id": "capital-conditions",
   "metadata": {},
   "source": [
    "## Pick a new Learning Rate"
   ]
  },
  {
   "cell_type": "code",
   "execution_count": 19,
   "id": "immediate-plumbing",
   "metadata": {
    "execution": {
     "iopub.execute_input": "2021-02-09T10:34:48.018242Z",
     "iopub.status.busy": "2021-02-09T10:34:48.017981Z",
     "iopub.status.idle": "2021-02-09T10:34:48.021095Z",
     "shell.execute_reply": "2021-02-09T10:34:48.020428Z",
     "shell.execute_reply.started": "2021-02-09T10:34:48.018220Z"
    }
   },
   "outputs": [],
   "source": [
    "# LR_CHOICE_UNFROZ = lr_min/LR_DIV\n",
    "# LR_CHOICE_UNFROZ = LR_CHOICE / 2\n",
    "# LR_CHOICE_UNFROZ = 0.00015\n",
    "# LR_CHOICE_UNFROZ = 10e-5\n",
    "# LR_CHOICE_UNFROZ = 0.00008\n",
    "# LR_CHOICE_UNFROZ = 5.5e-5\n",
    "# LR_CHOICE_UNFROZ = 1.7e-4\n",
    "# LR_CHOICE_UNFROZ = 6e-5\n",
    "# LR_CHOICE_UNFROZ = lr_min\n",
    "# LR_CHOICE_UNFROZ = 1e-3\n",
    "LR_CHOICE_UNFROZ = 5e-4"
   ]
  },
  {
   "cell_type": "markdown",
   "id": "nutritional-suffering",
   "metadata": {},
   "source": [
    "### Train"
   ]
  },
  {
   "cell_type": "code",
   "execution_count": 20,
   "id": "short-conflict",
   "metadata": {
    "execution": {
     "iopub.execute_input": "2021-02-09T10:34:49.488587Z",
     "iopub.status.busy": "2021-02-09T10:34:49.488220Z",
     "iopub.status.idle": "2021-02-09T10:34:49.491695Z",
     "shell.execute_reply": "2021-02-09T10:34:49.491093Z",
     "shell.execute_reply.started": "2021-02-09T10:34:49.488553Z"
    }
   },
   "outputs": [],
   "source": [
    "EPOCHS = 10"
   ]
  },
  {
   "cell_type": "code",
   "execution_count": 21,
   "id": "armed-medicine",
   "metadata": {
    "execution": {
     "iopub.execute_input": "2021-02-09T10:34:50.394444Z",
     "iopub.status.busy": "2021-02-09T10:34:50.394124Z",
     "iopub.status.idle": "2021-02-09T10:34:50.397625Z",
     "shell.execute_reply": "2021-02-09T10:34:50.397221Z",
     "shell.execute_reply.started": "2021-02-09T10:34:50.394411Z"
    }
   },
   "outputs": [
    {
     "name": "stdout",
     "output_type": "stream",
     "text": [
      "EPOCHS:         10\n",
      "Learning Rate:  0.0005\n",
      "\n",
      "\n"
     ]
    }
   ],
   "source": [
    "print(f'EPOCHS:         {EPOCHS}')\n",
    "print(f'Learning Rate:  {LR_CHOICE_UNFROZ}\\n\\n')"
   ]
  },
  {
   "cell_type": "code",
   "execution_count": 22,
   "id": "considerable-operations",
   "metadata": {
    "execution": {
     "iopub.execute_input": "2021-02-09T10:34:51.473685Z",
     "iopub.status.busy": "2021-02-09T10:34:51.473468Z",
     "iopub.status.idle": "2021-02-09T16:06:52.791487Z",
     "shell.execute_reply": "2021-02-09T16:06:52.791017Z",
     "shell.execute_reply.started": "2021-02-09T10:34:51.473667Z"
    }
   },
   "outputs": [
    {
     "data": {
      "text/html": [
       "<table border=\"1\" class=\"dataframe\">\n",
       "  <thead>\n",
       "    <tr style=\"text-align: left;\">\n",
       "      <th>epoch</th>\n",
       "      <th>train_loss</th>\n",
       "      <th>valid_loss</th>\n",
       "      <th>accuracy</th>\n",
       "      <th>time</th>\n",
       "    </tr>\n",
       "  </thead>\n",
       "  <tbody>\n",
       "    <tr>\n",
       "      <td>0</td>\n",
       "      <td>1.134273</td>\n",
       "      <td>0.832123</td>\n",
       "      <td>0.812040</td>\n",
       "      <td>34:05</td>\n",
       "    </tr>\n",
       "    <tr>\n",
       "      <td>1</td>\n",
       "      <td>1.138662</td>\n",
       "      <td>0.773983</td>\n",
       "      <td>0.826236</td>\n",
       "      <td>33:28</td>\n",
       "    </tr>\n",
       "    <tr>\n",
       "      <td>2</td>\n",
       "      <td>1.091324</td>\n",
       "      <td>0.819010</td>\n",
       "      <td>0.816246</td>\n",
       "      <td>33:27</td>\n",
       "    </tr>\n",
       "    <tr>\n",
       "      <td>3</td>\n",
       "      <td>1.119957</td>\n",
       "      <td>0.778559</td>\n",
       "      <td>0.818612</td>\n",
       "      <td>33:25</td>\n",
       "    </tr>\n",
       "    <tr>\n",
       "      <td>4</td>\n",
       "      <td>1.033704</td>\n",
       "      <td>0.761368</td>\n",
       "      <td>0.832808</td>\n",
       "      <td>32:52</td>\n",
       "    </tr>\n",
       "    <tr>\n",
       "      <td>5</td>\n",
       "      <td>1.059383</td>\n",
       "      <td>0.751398</td>\n",
       "      <td>0.838854</td>\n",
       "      <td>32:53</td>\n",
       "    </tr>\n",
       "    <tr>\n",
       "      <td>6</td>\n",
       "      <td>1.016302</td>\n",
       "      <td>0.784868</td>\n",
       "      <td>0.830967</td>\n",
       "      <td>32:55</td>\n",
       "    </tr>\n",
       "    <tr>\n",
       "      <td>7</td>\n",
       "      <td>1.058338</td>\n",
       "      <td>0.770954</td>\n",
       "      <td>0.833596</td>\n",
       "      <td>32:55</td>\n",
       "    </tr>\n",
       "    <tr>\n",
       "      <td>8</td>\n",
       "      <td>1.054847</td>\n",
       "      <td>0.753218</td>\n",
       "      <td>0.840168</td>\n",
       "      <td>32:56</td>\n",
       "    </tr>\n",
       "    <tr>\n",
       "      <td>9</td>\n",
       "      <td>1.048422</td>\n",
       "      <td>0.757807</td>\n",
       "      <td>0.836225</td>\n",
       "      <td>32:55</td>\n",
       "    </tr>\n",
       "  </tbody>\n",
       "</table>"
      ],
      "text/plain": [
       "<IPython.core.display.HTML object>"
      ]
     },
     "metadata": {},
     "output_type": "display_data"
    },
    {
     "data": {
      "application/vnd.jupyter.widget-view+json": {
       "model_id": "505d9fff65614ca0832db16f82cf6075",
       "version_major": 2,
       "version_minor": 0
      },
      "text/plain": [
       "Canvas(toolbar=Toolbar(toolitems=[('Home', 'Reset original view', 'home', 'home'), ('Back', 'Back to previous …"
      ]
     },
     "metadata": {},
     "output_type": "display_data"
    },
    {
     "data": {
      "image/png": "[encoded data removed]",
      "text/plain": [
       "<Figure size 720x480 with 1 Axes>"
      ]
     },
     "metadata": {},
     "output_type": "display_data"
    },
    {
     "name": "stdout",
     "output_type": "stream",
     "text": [
      "Epoch 7: reducing lr to 1.7285595512803527e-05\n"
     ]
    }
   ],
   "source": [
    "# learn.fit_flat_cos(EPOCHS, slice(LR_CHOICE_UNFROZ), pct_start=0.68)\n",
    "learn.fit_flat_cos(EPOCHS, slice(LR_CHOICE_UNFROZ), pct_start=0.5)"
   ]
  },
  {
   "cell_type": "markdown",
   "id": "understood-technique",
   "metadata": {},
   "source": [
    "<br>\n",
    "<br>\n",
    "\n",
    "## Persist the Model"
   ]
  },
  {
   "cell_type": "code",
   "execution_count": 23,
   "id": "greenhouse-architect",
   "metadata": {
    "execution": {
     "iopub.execute_input": "2021-02-09T16:22:49.403263Z",
     "iopub.status.busy": "2021-02-09T16:22:49.403007Z",
     "iopub.status.idle": "2021-02-09T16:22:49.615134Z",
     "shell.execute_reply": "2021-02-09T16:22:49.614618Z",
     "shell.execute_reply.started": "2021-02-09T16:22:49.403240Z"
    }
   },
   "outputs": [],
   "source": [
    "learn.export(f'../models/{RUN_NAME}.pkl')\n",
    "# path = Path('../models')\n",
    "# path.ls(file_exts='.pkl')"
   ]
  },
  {
   "cell_type": "markdown",
   "id": "resident-black",
   "metadata": {},
   "source": [
    "<br>\n",
    "<br>"
   ]
  },
  {
   "cell_type": "markdown",
   "id": "sharing-player",
   "metadata": {},
   "source": [
    "### Show some Results"
   ]
  },
  {
   "cell_type": "code",
   "execution_count": null,
   "id": "scientific-knight",
   "metadata": {},
   "outputs": [],
   "source": [
    "learn.show_results()"
   ]
  },
  {
   "cell_type": "markdown",
   "id": "shaped-panel",
   "metadata": {},
   "source": [
    "<br>\n",
    "<hr>\n",
    "<br>\n",
    "<br>\n",
    "<br>"
   ]
  },
  {
   "cell_type": "markdown",
   "id": "vital-consistency",
   "metadata": {},
   "source": [
    "# Validation Set (not test set) Analysis"
   ]
  },
  {
   "cell_type": "markdown",
   "id": "balanced-yemen",
   "metadata": {},
   "source": [
    "<br>\n",
    "\n",
    "### Plot Losses"
   ]
  },
  {
   "cell_type": "code",
   "execution_count": null,
   "id": "worldwide-colombia",
   "metadata": {},
   "outputs": [],
   "source": [
    "# learn.recorder.plot_loss()\n",
    "# plt.ylabel('Loss')\n",
    "# plt.xlabel('Batches Processed')"
   ]
  },
  {
   "cell_type": "markdown",
   "id": "sonic-disabled",
   "metadata": {},
   "source": [
    "<br>\n",
    "\n",
    "### Visualize with a confusion Matrix"
   ]
  },
  {
   "cell_type": "code",
   "execution_count": 24,
   "id": "legal-detection",
   "metadata": {
    "execution": {
     "iopub.execute_input": "2021-02-09T16:23:33.277209Z",
     "iopub.status.busy": "2021-02-09T16:23:33.276956Z",
     "iopub.status.idle": "2021-02-09T16:24:06.433644Z",
     "shell.execute_reply": "2021-02-09T16:24:06.433294Z",
     "shell.execute_reply.started": "2021-02-09T16:23:33.277186Z"
    }
   },
   "outputs": [
    {
     "data": {
      "text/html": [],
      "text/plain": [
       "<IPython.core.display.HTML object>"
      ]
     },
     "metadata": {},
     "output_type": "display_data"
    },
    {
     "data": {
      "application/vnd.jupyter.widget-view+json": {
       "model_id": "56921d8cf0494ce9bc3a2809cbca512f",
       "version_major": 2,
       "version_minor": 0
      },
      "text/plain": [
       "Canvas(toolbar=Toolbar(toolitems=[('Home', 'Reset original view', 'home', 'home'), ('Back', 'Back to previous …"
      ]
     },
     "metadata": {},
     "output_type": "display_data"
    }
   ],
   "source": [
    "interp = ClassificationInterpretation.from_learner(learn)\n",
    "interp.plot_confusion_matrix(figsize=(8,8))"
   ]
  },
  {
   "cell_type": "code",
   "execution_count": 25,
   "id": "hired-trader",
   "metadata": {
    "execution": {
     "iopub.execute_input": "2021-02-09T16:24:25.720512Z",
     "iopub.status.busy": "2021-02-09T16:24:25.720254Z",
     "iopub.status.idle": "2021-02-09T16:24:25.725909Z",
     "shell.execute_reply": "2021-02-09T16:24:25.725456Z",
     "shell.execute_reply.started": "2021-02-09T16:24:25.720484Z"
    }
   },
   "outputs": [
    {
     "data": {
      "text/plain": [
       "[('cbb', 'healthy', 90),\n",
       " ('healthy', 'cbb', 82),\n",
       " ('healthy', 'cgm', 55),\n",
       " ('cbsd', 'healthy', 53),\n",
       " ('healthy', 'cmd', 48),\n",
       " ('healthy', 'cbsd', 41),\n",
       " ('cmd', 'cgm', 38),\n",
       " ('cgm', 'healthy', 37),\n",
       " ('cbsd', 'cbb', 34),\n",
       " ('cbsd', 'cgm', 20)]"
      ]
     },
     "execution_count": 25,
     "metadata": {},
     "output_type": "execute_result"
    }
   ],
   "source": [
    "interp.most_confused()[:10]"
   ]
  },
  {
   "cell_type": "markdown",
   "id": "preliminary-attitude",
   "metadata": {},
   "source": [
    "<br>\n",
    "<br>"
   ]
  },
  {
   "cell_type": "markdown",
   "id": "geographic-madrid",
   "metadata": {},
   "source": [
    "## Classification Report"
   ]
  },
  {
   "cell_type": "code",
   "execution_count": 26,
   "id": "expanded-philosophy",
   "metadata": {
    "execution": {
     "iopub.execute_input": "2021-02-09T16:24:31.450931Z",
     "iopub.status.busy": "2021-02-09T16:24:31.450678Z",
     "iopub.status.idle": "2021-02-09T16:24:31.463059Z",
     "shell.execute_reply": "2021-02-09T16:24:31.462599Z",
     "shell.execute_reply.started": "2021-02-09T16:24:31.450909Z"
    }
   },
   "outputs": [
    {
     "name": "stdout",
     "output_type": "stream",
     "text": [
      "              precision    recall  f1-score   support\n",
      "\n",
      "         cbb       0.80      0.81      0.80       673\n",
      "        cbsd       0.87      0.83      0.85       698\n",
      "         cgm       0.82      0.88      0.85       665\n",
      "         cmd       0.88      0.90      0.89       680\n",
      "     healthy       0.82      0.79      0.80      1088\n",
      "\n",
      "    accuracy                           0.84      3804\n",
      "   macro avg       0.84      0.84      0.84      3804\n",
      "weighted avg       0.84      0.84      0.84      3804\n",
      "\n"
     ]
    }
   ],
   "source": [
    "interp.print_classification_report()"
   ]
  },
  {
   "cell_type": "markdown",
   "id": "devoted-billy",
   "metadata": {},
   "source": [
    "<br>\n",
    "\n",
    "### Show the top 15 most error prone images"
   ]
  },
  {
   "cell_type": "code",
   "execution_count": 27,
   "id": "incomplete-strain",
   "metadata": {
    "execution": {
     "iopub.execute_input": "2021-02-09T16:24:37.331874Z",
     "iopub.status.busy": "2021-02-09T16:24:37.331615Z",
     "iopub.status.idle": "2021-02-09T16:24:37.611792Z",
     "shell.execute_reply": "2021-02-09T16:24:37.611374Z",
     "shell.execute_reply.started": "2021-02-09T16:24:37.331851Z"
    }
   },
   "outputs": [
    {
     "data": {
      "application/vnd.jupyter.widget-view+json": {
       "model_id": "9caa86fca2574fb48b8ca9392ee0f4f4",
       "version_major": 2,
       "version_minor": 0
      },
      "text/plain": [
       "Canvas(toolbar=Toolbar(toolitems=[('Home', 'Reset original view', 'home', 'home'), ('Back', 'Back to previous …"
      ]
     },
     "metadata": {},
     "output_type": "display_data"
    }
   ],
   "source": [
    "interp.plot_top_losses(15, nrows=5)"
   ]
  },
  {
   "cell_type": "markdown",
   "id": "environmental-surname",
   "metadata": {},
   "source": [
    "## Validation"
   ]
  },
  {
   "cell_type": "code",
   "execution_count": 28,
   "id": "judicial-certification",
   "metadata": {
    "execution": {
     "iopub.execute_input": "2021-02-09T16:24:41.591165Z",
     "iopub.status.busy": "2021-02-09T16:24:41.590892Z",
     "iopub.status.idle": "2021-02-09T16:24:41.593801Z",
     "shell.execute_reply": "2021-02-09T16:24:41.593250Z",
     "shell.execute_reply.started": "2021-02-09T16:24:41.591137Z"
    }
   },
   "outputs": [],
   "source": [
    "test_learn = learn\n",
    "\n",
    "# load_learner('../models/20210205-1716 - arch=xresnet34 - samples=1800 frozen=1 epochs=40 bs=32 res=340.pkl', cpu=False)\n",
    "# load_model(f'models/{RUN_NAME}_26.pth', test_learn, opt=Adam, with_opt=False)\n"
   ]
  },
  {
   "cell_type": "code",
   "execution_count": 29,
   "id": "least-yemen",
   "metadata": {
    "execution": {
     "iopub.execute_input": "2021-02-09T16:24:43.249834Z",
     "iopub.status.busy": "2021-02-09T16:24:43.249576Z",
     "iopub.status.idle": "2021-02-09T16:24:43.253067Z",
     "shell.execute_reply": "2021-02-09T16:24:43.252645Z",
     "shell.execute_reply.started": "2021-02-09T16:24:43.249811Z"
    }
   },
   "outputs": [],
   "source": [
    "def get_test_fnames(path):\n",
    "    retlist = []\n",
    "    \n",
    "    for l in test_flist.values():\n",
    "        for f in l:\n",
    "            retlist.append(f)\n",
    "            \n",
    "    return random.sample(retlist, len(retlist))"
   ]
  },
  {
   "cell_type": "code",
   "execution_count": 30,
   "id": "united-county",
   "metadata": {
    "execution": {
     "iopub.execute_input": "2021-02-09T16:24:45.047499Z",
     "iopub.status.busy": "2021-02-09T16:24:45.047231Z",
     "iopub.status.idle": "2021-02-09T16:24:45.135211Z",
     "shell.execute_reply": "2021-02-09T16:24:45.134651Z",
     "shell.execute_reply.started": "2021-02-09T16:24:45.047476Z"
    }
   },
   "outputs": [],
   "source": [
    "test_db = DataBlock(\n",
    "    blocks=(ImageBlock, CategoryBlock), \n",
    "    get_items=get_test_fnames,\n",
    "    get_y=parent_label, \n",
    "    item_tfms=Resize(RESOLUTION, method='bilinear'), batch_tfms=batch_tfms) #,\n",
    "#     item_tfms=CropPad(RESOLUTION, pad_mode='zeros'))\n",
    "#    ,    batch_tfms=aug_transforms(do_flip=True, size=RESOLUTION, batch=False, max_zoom=1.0, mult=1, pad_mode='zeros'))\n",
    "\n",
    "\n",
    "dls = test_db.dataloaders(get_test_fnames, bs=BATCH_SIZE)\n",
    "\n",
    "test_dl = dls.test_dl(get_test_fnames('None'), with_labels=True)"
   ]
  },
  {
   "cell_type": "markdown",
   "id": "reliable-project",
   "metadata": {},
   "source": [
    "####  Get the Inferrences on the Test Set"
   ]
  },
  {
   "cell_type": "code",
   "execution_count": 31,
   "id": "attempted-massachusetts",
   "metadata": {
    "execution": {
     "iopub.execute_input": "2021-02-09T16:24:47.977082Z",
     "iopub.status.busy": "2021-02-09T16:24:47.976830Z",
     "iopub.status.idle": "2021-02-09T16:25:04.392789Z",
     "shell.execute_reply": "2021-02-09T16:25:04.392362Z",
     "shell.execute_reply.started": "2021-02-09T16:24:47.977060Z"
    }
   },
   "outputs": [
    {
     "data": {
      "text/html": [],
      "text/plain": [
       "<IPython.core.display.HTML object>"
      ]
     },
     "metadata": {},
     "output_type": "display_data"
    }
   ],
   "source": [
    "inputs, preds, targs, decoded, losses = test_learn.get_preds(dl=test_dl, with_input=True, with_decoded=True, with_loss=True)\n"
   ]
  },
  {
   "cell_type": "code",
   "execution_count": 32,
   "id": "composed-loading",
   "metadata": {
    "execution": {
     "iopub.execute_input": "2021-02-09T16:25:04.394831Z",
     "iopub.status.busy": "2021-02-09T16:25:04.394719Z",
     "iopub.status.idle": "2021-02-09T16:25:04.713217Z",
     "shell.execute_reply": "2021-02-09T16:25:04.712749Z",
     "shell.execute_reply.started": "2021-02-09T16:25:04.394817Z"
    }
   },
   "outputs": [],
   "source": [
    "interp = ClassificationInterpretation(dl=test_dl, inputs=inputs, preds=preds, targs=targs, decoded=decoded, losses=losses )"
   ]
  },
  {
   "cell_type": "markdown",
   "id": "latin-genome",
   "metadata": {},
   "source": [
    "<br>\n",
    "\n",
    "### Visualize with a confusion Matrix"
   ]
  },
  {
   "cell_type": "code",
   "execution_count": null,
   "id": "southeast-teacher",
   "metadata": {},
   "outputs": [],
   "source": [
    "interp.plot_confusion_matrix(figsize=(8,8))"
   ]
  },
  {
   "cell_type": "code",
   "execution_count": null,
   "id": "whole-spectrum",
   "metadata": {},
   "outputs": [],
   "source": [
    "interp.most_confused()[:10]"
   ]
  },
  {
   "cell_type": "markdown",
   "id": "respiratory-italic",
   "metadata": {},
   "source": [
    "<br>\n",
    "<br>"
   ]
  },
  {
   "cell_type": "markdown",
   "id": "single-nation",
   "metadata": {},
   "source": [
    "## Classification Report"
   ]
  },
  {
   "cell_type": "code",
   "execution_count": null,
   "id": "legendary-evaluation",
   "metadata": {},
   "outputs": [],
   "source": [
    "interp.print_classification_report()"
   ]
  },
  {
   "cell_type": "code",
   "execution_count": null,
   "id": "pregnant-robertson",
   "metadata": {},
   "outputs": [],
   "source": [
    "interp.plot_top_losses(k=15)"
   ]
  },
  {
   "cell_type": "markdown",
   "id": "parallel-pricing",
   "metadata": {},
   "source": [
    "## Archive this version of the notehook"
   ]
  },
  {
   "cell_type": "code",
   "execution_count": null,
   "id": "entertaining-reservoir",
   "metadata": {},
   "outputs": [],
   "source": [
    "import os\n",
    "import shutil\n",
    "\n",
    "# Allow Jupyter the opportunity to autosave\n",
    "# !sleep 20\n",
    "# time = '20210122-2356'\n",
    "# copy the notebook file - the prefix links it to the saved model\n",
    "shutil.copyfile('FastAI Cassava Disease Classification-Copy1.ipynb', f'.Archive/{time} - FastAI Cassava Disease Classification-Copy1.ipynb')"
   ]
  },
  {
   "cell_type": "code",
   "execution_count": null,
   "id": "still-inside",
   "metadata": {},
   "outputs": [],
   "source": []
  },
  {
   "cell_type": "code",
   "execution_count": null,
   "id": "japanese-symphony",
   "metadata": {},
   "outputs": [],
   "source": []
  }
 ],
 "metadata": {
  "kernelspec": {
   "display_name": "Python 3",
   "language": "python",
   "name": "python3"
  },
  "language_info": {
   "codemirror_mode": {
    "name": "ipython",
    "version": 3
   },
   "file_extension": ".py",
   "mimetype": "text/x-python",
   "name": "python",
   "nbconvert_exporter": "python",
   "pygments_lexer": "ipython3",
   "version": "3.8.6"
  },
  "widgets": {
   "application/vnd.jupyter.widget-state+json": {
    "state": {
     "04f7f4a539914acc83315dbc3fe1705e": {
      "model_module": "@jupyter-widgets/base",
      "model_module_version": "1.2.0",
      "model_name": "LayoutModel",
      "state": {}
     },
     "06433ed913c34f1ca62bdc6bbf8f4f5c": {
      "model_module": "@jupyter-widgets/base",
      "model_module_version": "1.2.0",
      "model_name": "LayoutModel",
      "state": {}
     },
     "0f4a1d3f37124d05829adac3e25c53ad": {
      "model_module": "@jupyter-widgets/base",
      "model_module_version": "1.2.0",
      "model_name": "LayoutModel",
      "state": {}
     },
     "10b23a33b0914e8b95544e9e11bc2ab4": {
      "model_module": "jupyter-matplotlib",
      "model_module_version": "^0.8.3",
      "model_name": "ToolbarModel",
      "state": {
       "layout": "IPY_MODEL_a31eebadf3544202a0faea0a9129364c",
       "toolitems": [
        [
         "Home",
         "Reset original view",
         "home",
         "home"
        ],
        [
         "Back",
         "Back to previous view",
         "arrow-left",
         "back"
        ],
        [
         "Forward",
         "Forward to next view",
         "arrow-right",
         "forward"
        ],
        [
         "Pan",
         "Left button pans, Right button zooms\nx/y fixes axis, CTRL fixes aspect",
         "arrows",
         "pan"
        ],
        [
         "Zoom",
         "Zoom to rectangle\nx/y fixes axis, CTRL fixes aspect",
         "square-o",
         "zoom"
        ],
        [
         "Download",
         "Download plot",
         "floppy-o",
         "save_figure"
        ]
       ]
      }
     },
     "167f91d35bd44a638192caecb34c30b7": {
      "model_module": "jupyter-matplotlib",
      "model_module_version": "^0.8.3",
      "model_name": "ToolbarModel",
      "state": {
       "layout": "IPY_MODEL_c8f4c890d738436a92f323c6b1c85bbe",
       "toolitems": [
        [
         "Home",
         "Reset original view",
         "home",
         "home"
        ],
        [
         "Back",
         "Back to previous view",
         "arrow-left",
         "back"
        ],
        [
         "Forward",
         "Forward to next view",
         "arrow-right",
         "forward"
        ],
        [
         "Pan",
         "Left button pans, Right button zooms\nx/y fixes axis, CTRL fixes aspect",
         "arrows",
         "pan"
        ],
        [
         "Zoom",
         "Zoom to rectangle\nx/y fixes axis, CTRL fixes aspect",
         "square-o",
         "zoom"
        ],
        [
         "Download",
         "Download plot",
         "floppy-o",
         "save_figure"
        ]
       ]
      }
     },
     "180ecf73fdcf41a3a55747932ada7e9b": {
      "model_module": "@jupyter-widgets/base",
      "model_module_version": "1.2.0",
      "model_name": "LayoutModel",
      "state": {}
     },
     "1c79b6153835454ebb87b2273cc9d2c1": {
      "model_module": "jupyter-matplotlib",
      "model_module_version": "^0.8.3",
      "model_name": "MPLCanvasModel",
      "state": {
       "_cursor": "default",
       "_figure_label": "Figure 3",
       "_height": 360,
       "_width": 720,
       "layout": "IPY_MODEL_7e2da67b10e4466db8e6440f1568033c",
       "toolbar": "IPY_MODEL_f0fed42c57544bbb913f152b4b036760",
       "toolbar_position": "left"
      }
     },
     "2884e09d1c1645918d78c3f4b07b2d91": {
      "model_module": "jupyter-matplotlib",
      "model_module_version": "^0.8.3",
      "model_name": "MPLCanvasModel",
      "state": {
       "_cursor": "default",
       "_figure_label": "Figure 6",
       "_height": 1080,
       "_width": 1080,
       "layout": "IPY_MODEL_4d160589a761411b9826a0388d87116e",
       "toolbar": "IPY_MODEL_7e88b265b1ed41cda2dad26e9e0b0a8e",
       "toolbar_position": "left"
      }
     },
     "2c649f4e99d24e1d8d15c5256a7a2426": {
      "model_module": "@jupyter-widgets/base",
      "model_module_version": "1.2.0",
      "model_name": "LayoutModel",
      "state": {}
     },
     "2d1f5b74145048809d96bc1ae5b3b5c2": {
      "model_module": "jupyter-matplotlib",
      "model_module_version": "^0.8.3",
      "model_name": "ToolbarModel",
      "state": {
       "layout": "IPY_MODEL_8c36e656b4ab43b9a6fa40371eb2e0cc",
       "toolitems": [
        [
         "Home",
         "Reset original view",
         "home",
         "home"
        ],
        [
         "Back",
         "Back to previous view",
         "arrow-left",
         "back"
        ],
        [
         "Forward",
         "Forward to next view",
         "arrow-right",
         "forward"
        ],
        [
         "Pan",
         "Left button pans, Right button zooms\nx/y fixes axis, CTRL fixes aspect",
         "arrows",
         "pan"
        ],
        [
         "Zoom",
         "Zoom to rectangle\nx/y fixes axis, CTRL fixes aspect",
         "square-o",
         "zoom"
        ],
        [
         "Download",
         "Download plot",
         "floppy-o",
         "save_figure"
        ]
       ]
      }
     },
     "2da39f06718e416c8fc5024b8996bc9e": {
      "model_module": "@jupyter-widgets/base",
      "model_module_version": "1.2.0",
      "model_name": "LayoutModel",
      "state": {}
     },
     "30cdb8a75a854339ab8e77db2f716717": {
      "model_module": "@jupyter-widgets/base",
      "model_module_version": "1.2.0",
      "model_name": "LayoutModel",
      "state": {}
     },
     "39fe15d309014cb795ad5e92cf3365e5": {
      "model_module": "@jupyter-widgets/base",
      "model_module_version": "1.2.0",
      "model_name": "LayoutModel",
      "state": {}
     },
     "4d160589a761411b9826a0388d87116e": {
      "model_module": "@jupyter-widgets/base",
      "model_module_version": "1.2.0",
      "model_name": "LayoutModel",
      "state": {}
     },
     "4f9ec01daa9f41dc91fd91f9f5262d87": {
      "model_module": "@jupyter-widgets/base",
      "model_module_version": "1.2.0",
      "model_name": "LayoutModel",
      "state": {}
     },
     "54781e80deb64efe89bfd491b1fc15f4": {
      "model_module": "jupyter-matplotlib",
      "model_module_version": "^0.8.3",
      "model_name": "MPLCanvasModel",
      "state": {
       "_cursor": "default",
       "_figure_label": "Figure 2",
       "_height": 360,
       "_image_mode": "diff",
       "_width": 720,
       "layout": "IPY_MODEL_e53ba962e5f44507b39c79184aa095da",
       "toolbar": "IPY_MODEL_a9a18e0cc719448f8d81548967077c72",
       "toolbar_position": "left"
      }
     },
     "566f3b7873a245d5931139d0945d088f": {
      "model_module": "jupyter-matplotlib",
      "model_module_version": "^0.8.3",
      "model_name": "ToolbarModel",
      "state": {
       "layout": "IPY_MODEL_5eb30246c52e47e9a29c71357991bbcf",
       "toolitems": [
        [
         "Home",
         "Reset original view",
         "home",
         "home"
        ],
        [
         "Back",
         "Back to previous view",
         "arrow-left",
         "back"
        ],
        [
         "Forward",
         "Forward to next view",
         "arrow-right",
         "forward"
        ],
        [
         "Pan",
         "Left button pans, Right button zooms\nx/y fixes axis, CTRL fixes aspect",
         "arrows",
         "pan"
        ],
        [
         "Zoom",
         "Zoom to rectangle\nx/y fixes axis, CTRL fixes aspect",
         "square-o",
         "zoom"
        ],
        [
         "Download",
         "Download plot",
         "floppy-o",
         "save_figure"
        ]
       ]
      }
     },
     "56921d8cf0494ce9bc3a2809cbca512f": {
      "model_module": "jupyter-matplotlib",
      "model_module_version": "^0.8.3",
      "model_name": "MPLCanvasModel",
      "state": {
       "_cursor": "default",
       "_figure_label": "Figure 7",
       "_height": 960,
       "_width": 960,
       "layout": "IPY_MODEL_0f4a1d3f37124d05829adac3e25c53ad",
       "toolbar": "IPY_MODEL_2d1f5b74145048809d96bc1ae5b3b5c2",
       "toolbar_position": "left"
      }
     },
     "5eb30246c52e47e9a29c71357991bbcf": {
      "model_module": "@jupyter-widgets/base",
      "model_module_version": "1.2.0",
      "model_name": "LayoutModel",
      "state": {}
     },
     "70e0382b0223438180936011cb301c73": {
      "model_module": "@jupyter-widgets/base",
      "model_module_version": "1.2.0",
      "model_name": "LayoutModel",
      "state": {}
     },
     "7e2da67b10e4466db8e6440f1568033c": {
      "model_module": "@jupyter-widgets/base",
      "model_module_version": "1.2.0",
      "model_name": "LayoutModel",
      "state": {}
     },
     "7e88b265b1ed41cda2dad26e9e0b0a8e": {
      "model_module": "jupyter-matplotlib",
      "model_module_version": "^0.8.3",
      "model_name": "ToolbarModel",
      "state": {
       "layout": "IPY_MODEL_4f9ec01daa9f41dc91fd91f9f5262d87",
       "toolitems": [
        [
         "Home",
         "Reset original view",
         "home",
         "home"
        ],
        [
         "Back",
         "Back to previous view",
         "arrow-left",
         "back"
        ],
        [
         "Forward",
         "Forward to next view",
         "arrow-right",
         "forward"
        ],
        [
         "Pan",
         "Left button pans, Right button zooms\nx/y fixes axis, CTRL fixes aspect",
         "arrows",
         "pan"
        ],
        [
         "Zoom",
         "Zoom to rectangle\nx/y fixes axis, CTRL fixes aspect",
         "square-o",
         "zoom"
        ],
        [
         "Download",
         "Download plot",
         "floppy-o",
         "save_figure"
        ]
       ]
      }
     },
     "7eb081f2270a4c809e2534193333e820": {
      "model_module": "jupyter-matplotlib",
      "model_module_version": "^0.8.3",
      "model_name": "ToolbarModel",
      "state": {
       "layout": "IPY_MODEL_39fe15d309014cb795ad5e92cf3365e5",
       "toolitems": [
        [
         "Home",
         "Reset original view",
         "home",
         "home"
        ],
        [
         "Back",
         "Back to previous view",
         "arrow-left",
         "back"
        ],
        [
         "Forward",
         "Forward to next view",
         "arrow-right",
         "forward"
        ],
        [
         "Pan",
         "Left button pans, Right button zooms\nx/y fixes axis, CTRL fixes aspect",
         "arrows",
         "pan"
        ],
        [
         "Zoom",
         "Zoom to rectangle\nx/y fixes axis, CTRL fixes aspect",
         "square-o",
         "zoom"
        ],
        [
         "Download",
         "Download plot",
         "floppy-o",
         "save_figure"
        ]
       ]
      }
     },
     "8c36e656b4ab43b9a6fa40371eb2e0cc": {
      "model_module": "@jupyter-widgets/base",
      "model_module_version": "1.2.0",
      "model_name": "LayoutModel",
      "state": {}
     },
     "8ecf0b9c8aab4512b3fc78fa86ddfa16": {
      "model_module": "jupyter-matplotlib",
      "model_module_version": "^0.8.3",
      "model_name": "MPLCanvasModel",
      "state": {
       "_cursor": "default",
       "_figure_label": "Figure 1",
       "_height": 360,
       "_image_mode": "diff",
       "_width": 720,
       "layout": "IPY_MODEL_04f7f4a539914acc83315dbc3fe1705e",
       "toolbar": "IPY_MODEL_167f91d35bd44a638192caecb34c30b7",
       "toolbar_position": "left"
      }
     },
     "988bec3dcb204331a73f57246e85f41f": {
      "model_module": "jupyter-matplotlib",
      "model_module_version": "^0.8.3",
      "model_name": "MPLCanvasModel",
      "state": {
       "_cursor": "default",
       "_figure_label": "Figure 5",
       "_height": 1440,
       "_width": 1440,
       "layout": "IPY_MODEL_70e0382b0223438180936011cb301c73",
       "toolbar": "IPY_MODEL_9928d8242892489d9c7a9051f1fb8ebb",
       "toolbar_position": "left"
      }
     },
     "9928d8242892489d9c7a9051f1fb8ebb": {
      "model_module": "jupyter-matplotlib",
      "model_module_version": "^0.8.3",
      "model_name": "ToolbarModel",
      "state": {
       "layout": "IPY_MODEL_eecb2d33c61c413babd00ef466eae4d8",
       "toolitems": [
        [
         "Home",
         "Reset original view",
         "home",
         "home"
        ],
        [
         "Back",
         "Back to previous view",
         "arrow-left",
         "back"
        ],
        [
         "Forward",
         "Forward to next view",
         "arrow-right",
         "forward"
        ],
        [
         "Pan",
         "Left button pans, Right button zooms\nx/y fixes axis, CTRL fixes aspect",
         "arrows",
         "pan"
        ],
        [
         "Zoom",
         "Zoom to rectangle\nx/y fixes axis, CTRL fixes aspect",
         "square-o",
         "zoom"
        ],
        [
         "Download",
         "Download plot",
         "floppy-o",
         "save_figure"
        ]
       ]
      }
     },
     "9caa86fca2574fb48b8ca9392ee0f4f4": {
      "model_module": "jupyter-matplotlib",
      "model_module_version": "^0.8.3",
      "model_name": "MPLCanvasModel",
      "state": {
       "_cursor": "default",
       "_figure_label": "Figure 8",
       "_height": 1800,
       "_width": 1080,
       "layout": "IPY_MODEL_30cdb8a75a854339ab8e77db2f716717",
       "toolbar": "IPY_MODEL_566f3b7873a245d5931139d0945d088f",
       "toolbar_position": "left"
      }
     },
     "a31eebadf3544202a0faea0a9129364c": {
      "model_module": "@jupyter-widgets/base",
      "model_module_version": "1.2.0",
      "model_name": "LayoutModel",
      "state": {}
     },
     "a49608f6842543e4a30aac18556a7eaf": {
      "model_module": "jupyter-matplotlib",
      "model_module_version": "^0.8.3",
      "model_name": "MPLCanvasModel",
      "state": {
       "_cursor": "default",
       "_figure_label": "Figure 4",
       "_height": 360,
       "_width": 720,
       "layout": "IPY_MODEL_2c649f4e99d24e1d8d15c5256a7a2426",
       "toolbar": "IPY_MODEL_7eb081f2270a4c809e2534193333e820",
       "toolbar_position": "left"
      }
     },
     "a9a18e0cc719448f8d81548967077c72": {
      "model_module": "jupyter-matplotlib",
      "model_module_version": "^0.8.3",
      "model_name": "ToolbarModel",
      "state": {
       "layout": "IPY_MODEL_06433ed913c34f1ca62bdc6bbf8f4f5c",
       "toolitems": [
        [
         "Home",
         "Reset original view",
         "home",
         "home"
        ],
        [
         "Back",
         "Back to previous view",
         "arrow-left",
         "back"
        ],
        [
         "Forward",
         "Forward to next view",
         "arrow-right",
         "forward"
        ],
        [
         "Pan",
         "Left button pans, Right button zooms\nx/y fixes axis, CTRL fixes aspect",
         "arrows",
         "pan"
        ],
        [
         "Zoom",
         "Zoom to rectangle\nx/y fixes axis, CTRL fixes aspect",
         "square-o",
         "zoom"
        ],
        [
         "Download",
         "Download plot",
         "floppy-o",
         "save_figure"
        ]
       ]
      }
     },
     "c8f4c890d738436a92f323c6b1c85bbe": {
      "model_module": "@jupyter-widgets/base",
      "model_module_version": "1.2.0",
      "model_name": "LayoutModel",
      "state": {}
     },
     "e53ba962e5f44507b39c79184aa095da": {
      "model_module": "@jupyter-widgets/base",
      "model_module_version": "1.2.0",
      "model_name": "LayoutModel",
      "state": {}
     },
     "eecb2d33c61c413babd00ef466eae4d8": {
      "model_module": "@jupyter-widgets/base",
      "model_module_version": "1.2.0",
      "model_name": "LayoutModel",
      "state": {}
     },
     "f0fed42c57544bbb913f152b4b036760": {
      "model_module": "jupyter-matplotlib",
      "model_module_version": "^0.8.3",
      "model_name": "ToolbarModel",
      "state": {
       "layout": "IPY_MODEL_180ecf73fdcf41a3a55747932ada7e9b",
       "toolitems": [
        [
         "Home",
         "Reset original view",
         "home",
         "home"
        ],
        [
         "Back",
         "Back to previous view",
         "arrow-left",
         "back"
        ],
        [
         "Forward",
         "Forward to next view",
         "arrow-right",
         "forward"
        ],
        [
         "Pan",
         "Left button pans, Right button zooms\nx/y fixes axis, CTRL fixes aspect",
         "arrows",
         "pan"
        ],
        [
         "Zoom",
         "Zoom to rectangle\nx/y fixes axis, CTRL fixes aspect",
         "square-o",
         "zoom"
        ],
        [
         "Download",
         "Download plot",
         "floppy-o",
         "save_figure"
        ]
       ]
      }
     }
    },
    "version_major": 2,
    "version_minor": 0
   }
  }
 },
 "nbformat": 4,
 "nbformat_minor": 5
}
