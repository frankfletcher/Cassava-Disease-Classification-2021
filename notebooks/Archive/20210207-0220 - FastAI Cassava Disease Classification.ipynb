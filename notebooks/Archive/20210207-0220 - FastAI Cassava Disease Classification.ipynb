{
 "cells": [
  {
   "cell_type": "markdown",
   "id": "otherwise-taste",
   "metadata": {},
   "source": [
    "# FastAI Cassava Root Disease Classification"
   ]
  },
  {
   "cell_type": "code",
   "execution_count": 1,
   "id": "ignored-durham",
   "metadata": {
    "execution": {
     "iopub.status.idle": "2021-02-07T10:20:13.845289Z",
     "shell.execute_reply": "2021-02-07T10:20:13.844951Z",
     "shell.execute_reply.started": "2021-02-07T10:20:12.766045Z"
    }
   },
   "outputs": [
    {
     "name": "stdout",
     "output_type": "stream",
     "text": [
      "RUN_NAME = '20210207-0220 - arch=tf_efficientnet_b4_ns - samples=1800 frozen=1 epochs=40 bs=12 res=380'\n"
     ]
    }
   ],
   "source": [
    "from datetime import datetime\n",
    "from fastbook import *\n",
    "from fastai.vision.all import *\n",
    "from fastai.vision.widgets import *\n",
    "import fastai\n",
    "import matplotlib.pyplot as plt\n",
    "import matplotlib.ticker as ticker\n",
    "from string import ascii_uppercase\n",
    "import numpy as np\n",
    "import operator\n",
    "import glob\n",
    "\n",
    "\n",
    "# %matplotlib inline\n",
    "\n",
    "%matplotlib widget\n",
    "\n",
    "plt.rcParams['figure.figsize'] = [9, 5]\n",
    "plt.rcParams['figure.dpi'] = 120\n",
    "plt.style.use('dark_background')\n",
    "\n",
    "\n",
    "ARCH = 'tf_efficientnet_b4_ns'  # resnet101\n",
    "\n",
    "CHOSEN_SAMPLE_SIZE = 1800  # use this to control per-category sample sizes # 1000  # deprecated but not removed\n",
    "# TEST_SET_SIZE = round(CHOSEN_SAMPLE_SIZE * 0.1)  # number of images per category to put in the test set\n",
    "FROZEN_EPOCHS = 1  # 1\n",
    "EPOCHS = 40  # 4\n",
    "BATCH_SIZE = 12  # 16\n",
    "RESOLUTION = 380  # 300\n",
    "PRETRAINED_FLAG = True\n",
    "\n",
    "# data = ''\n",
    "# rn_addon = f'_data={data}'\n",
    "\n",
    "time = datetime.today().strftime(\"%Y%m%d-%H%M\")\n",
    "\n",
    "# RUN_NAME = f'{time} - arch={ARCH.__name__} - samples={CHOSEN_SAMPLE_SIZE} frozen={FROZEN_EPOCHS} epochs={EPOCHS} bs={BATCH_SIZE} res={RESOLUTION}'\n",
    "RUN_NAME = f'{time} - arch={ARCH} - samples={CHOSEN_SAMPLE_SIZE} frozen={FROZEN_EPOCHS} epochs={EPOCHS} bs={BATCH_SIZE} res={RESOLUTION}'\n",
    "\n",
    "print(f\"RUN_NAME = '{RUN_NAME}'\")\n"
   ]
  },
  {
   "cell_type": "code",
   "execution_count": 2,
   "id": "anticipated-tennis",
   "metadata": {
    "execution": {
     "iopub.execute_input": "2021-02-07T10:20:13.848089Z",
     "iopub.status.busy": "2021-02-07T10:20:13.847932Z",
     "iopub.status.idle": "2021-02-07T10:20:13.851404Z",
     "shell.execute_reply": "2021-02-07T10:20:13.851127Z",
     "shell.execute_reply.started": "2021-02-07T10:20:13.848078Z"
    }
   },
   "outputs": [
    {
     "name": "stdout",
     "output_type": "stream",
     "text": [
      "CUDA available:              True\n",
      "CUDA device count:           1\n",
      "Current CUDA Device index:   0\n",
      "Current CUDA Device:         GeForce RTX 2070 SUPER\n",
      "\n",
      "fastai version:              2.2.2\n",
      "cuda version:                11.0\n",
      "torch version:               1.7.0\n"
     ]
    }
   ],
   "source": [
    "import torch\n",
    "print('CUDA available: '.ljust(28), torch.cuda.is_available())\n",
    "print('CUDA device count: '.ljust(28), torch.cuda.device_count())\n",
    "\n",
    "current_device = torch.cuda.current_device()\n",
    "print('Current CUDA Device index: '.ljust(28), current_device)\n",
    "# torch.cuda.device(current_device)\n",
    "print('Current CUDA Device: '.ljust(28), torch.cuda.get_device_name(current_device))\n",
    "print()\n",
    "# print('CUDA available: '.ljust(24), torch.cuda.is_available())\n",
    "print(f'fastai version:              {fastai.__version__}')\n",
    "# print(f'fastcore version:            {fastcore.__version__}')\n",
    "# print(f'fastbook version:            {fastbook.__version__}')\n",
    "print(f'cuda version:                {torch.version.cuda}')\n",
    "print(f'torch version:               {torch.__version__}')\n",
    "# print(f'python version:              {python_version()}')"
   ]
  },
  {
   "cell_type": "markdown",
   "id": "processed-disease",
   "metadata": {},
   "source": [
    "<br>\n",
    "<br>"
   ]
  },
  {
   "cell_type": "markdown",
   "id": "going-architect",
   "metadata": {},
   "source": [
    "## Utillity Functions\n",
    "\n"
   ]
  },
  {
   "cell_type": "code",
   "execution_count": 3,
   "id": "homeless-cleveland",
   "metadata": {
    "execution": {
     "iopub.execute_input": "2021-02-07T10:20:14.942955Z",
     "iopub.status.busy": "2021-02-07T10:20:14.942699Z",
     "iopub.status.idle": "2021-02-07T10:20:15.007086Z",
     "shell.execute_reply": "2021-02-07T10:20:15.006713Z",
     "shell.execute_reply.started": "2021-02-07T10:20:14.942932Z"
    }
   },
   "outputs": [],
   "source": [
    "from timm import create_model\n",
    "from fastai.vision.learner import _update_first_layer\n",
    "\n",
    "def create_timm_body(arch:str, pretrained=True, cut=None, n_in=3):\n",
    "    \"Creates a body from any model in the `timm` library.\"\n",
    "    model = create_model(arch, pretrained=pretrained, num_classes=0, global_pool='')\n",
    "    _update_first_layer(model, n_in, pretrained)\n",
    "    if cut is None:\n",
    "        ll = list(enumerate(model.children()))\n",
    "        cut = next(i for i,o in reversed(ll) if has_pool_type(o))\n",
    "    if isinstance(cut, int): return nn.Sequential(*list(model.children())[:cut])\n",
    "    elif callable(cut): return cut(model)\n",
    "    else: raise NamedError(\"cut must be either integer or function\")\n",
    "        \n",
    "def create_timm_model(arch:str, n_out, cut=None, pretrained=True, n_in=3, init=nn.init.kaiming_normal_, custom_head=None,\n",
    "                     concat_pool=False, **kwargs):\n",
    "    \"Create custom architecture using `arch`, `n_in` and `n_out` from the `timm` library\"\n",
    "    body = create_timm_body(arch, pretrained, None, n_in)\n",
    "    if custom_head is None:\n",
    "        nf = num_features_model(nn.Sequential(*body.children())) * (2 if concat_pool else 1)\n",
    "        head = create_head(nf, n_out, concat_pool=concat_pool, **kwargs)\n",
    "    else: head = custom_head\n",
    "    model = nn.Sequential(body, head)\n",
    "    if init is not None: apply_init(model[1], init)\n",
    "    return model\n",
    "\n",
    "\n",
    "def timm_learner(dls, arch:str, loss_func=None, pretrained=True, cut=None, splitter=None,\n",
    "                y_range=None, config=None, n_out=None, normalize=True, **kwargs):\n",
    "    \"Build a convnet style learner from `dls` and `arch` using the `timm` library\"\n",
    "    if config is None: config = {}\n",
    "    if n_out is None: n_out = get_c(dls)\n",
    "    assert n_out, \"`n_out` is not defined, and could not be inferred from data, set `dls.c` or pass `n_out`\"\n",
    "    if y_range is None and 'y_range' in config: y_range = config.pop('y_range')\n",
    "    model = create_timm_model(arch, n_out, default_split, pretrained, y_range=y_range, **config)\n",
    "    learn = Learner(dls, model, loss_func=loss_func, splitter=default_split, **kwargs)\n",
    "    if pretrained: learn.freeze()\n",
    "    return learn"
   ]
  },
  {
   "cell_type": "markdown",
   "id": "grateful-mouth",
   "metadata": {},
   "source": [
    "<br>\n",
    "<br>"
   ]
  },
  {
   "cell_type": "markdown",
   "id": "determined-flash",
   "metadata": {},
   "source": [
    "### Check for Imbalance"
   ]
  },
  {
   "cell_type": "code",
   "execution_count": 4,
   "id": "verbal-fraud",
   "metadata": {
    "execution": {
     "iopub.execute_input": "2021-02-07T10:20:15.861359Z",
     "iopub.status.busy": "2021-02-07T10:20:15.861057Z",
     "iopub.status.idle": "2021-02-07T10:20:15.864679Z",
     "shell.execute_reply": "2021-02-07T10:20:15.863883Z",
     "shell.execute_reply.started": "2021-02-07T10:20:15.861328Z"
    }
   },
   "outputs": [],
   "source": [
    "classes = ['cbb', 'cbsd', 'cgm', 'cmd', 'healthy']"
   ]
  },
  {
   "cell_type": "code",
   "execution_count": 5,
   "id": "automated-strip",
   "metadata": {
    "execution": {
     "iopub.execute_input": "2021-02-07T10:20:16.116080Z",
     "iopub.status.busy": "2021-02-07T10:20:16.115822Z",
     "iopub.status.idle": "2021-02-07T10:20:16.269112Z",
     "shell.execute_reply": "2021-02-07T10:20:16.268699Z",
     "shell.execute_reply.started": "2021-02-07T10:20:16.116056Z"
    }
   },
   "outputs": [
    {
     "data": {
      "application/vnd.jupyter.widget-view+json": {
       "model_id": "748aa53f3ec243ae844b9599c09f3b65",
       "version_major": 2,
       "version_minor": 0
      },
      "text/plain": [
       "Canvas(toolbar=Toolbar(toolitems=[('Home', 'Reset original view', 'home', 'home'), ('Back', 'Back to previous …"
      ]
     },
     "metadata": {},
     "output_type": "display_data"
    }
   ],
   "source": [
    "path = '../data/train_images_sorted'\n",
    "\n",
    "img_flist = {}\n",
    "img_quants = {}\n",
    "\n",
    "for c in classes:\n",
    "    files = get_image_files(f'{path}/{c}')\n",
    "    img_flist[c] = list(files)\n",
    "    img_quants[c] = len(files)\n",
    "\n",
    "minqc = min(img_quants, key=img_quants.get)\n",
    "\n",
    "sample_size = round(img_quants[minqc] * 2.5)  # oversample the lowest class quantity\n",
    "\n",
    "\n",
    "plt.figure(figsize=(6,3))\n",
    "plt.bar(img_quants.keys(), img_quants.values())  \n",
    "plt.axhline(sample_size, ls='--', color='red', label='Chosen Sample Size')\n",
    "plt.legend()\n",
    "plt.show()\n",
    "        "
   ]
  },
  {
   "cell_type": "code",
   "execution_count": 6,
   "id": "registered-involvement",
   "metadata": {
    "execution": {
     "iopub.execute_input": "2021-02-07T10:20:16.425603Z",
     "iopub.status.busy": "2021-02-07T10:20:16.425349Z",
     "iopub.status.idle": "2021-02-07T10:20:16.475664Z",
     "shell.execute_reply": "2021-02-07T10:20:16.475320Z",
     "shell.execute_reply.started": "2021-02-07T10:20:16.425582Z"
    }
   },
   "outputs": [
    {
     "data": {
      "application/vnd.jupyter.widget-view+json": {
       "model_id": "cb83c1045be74c9f90bfae38bce27c7b",
       "version_major": 2,
       "version_minor": 0
      },
      "text/plain": [
       "Canvas(toolbar=Toolbar(toolitems=[('Home', 'Reset original view', 'home', 'home'), ('Back', 'Back to previous …"
      ]
     },
     "metadata": {},
     "output_type": "display_data"
    }
   ],
   "source": [
    "\n",
    "for c in classes:\n",
    "    if len(img_flist[c]) < sample_size:\n",
    "#         all_covid = img_flist[c].copy()\n",
    "        img_flist[c] = np.append(img_flist[c], np.random.choice(img_flist[c], sample_size - len(img_flist[c]), replace=True))\n",
    "    else:\n",
    "        img_flist[c] = np.random.choice(img_flist[c], sample_size, replace=False)  # without replacement\n",
    "\n",
    "        \n",
    "plt.figure(figsize=(6,3))\n",
    "plt.bar(img_flist.keys(), [len(l) for l in img_flist.values()])\n",
    "plt.show()"
   ]
  },
  {
   "cell_type": "code",
   "execution_count": 7,
   "id": "million-ideal",
   "metadata": {
    "execution": {
     "iopub.execute_input": "2021-02-07T10:20:16.633324Z",
     "iopub.status.busy": "2021-02-07T10:20:16.633213Z",
     "iopub.status.idle": "2021-02-07T10:20:16.636334Z",
     "shell.execute_reply": "2021-02-07T10:20:16.635996Z",
     "shell.execute_reply.started": "2021-02-07T10:20:16.633312Z"
    }
   },
   "outputs": [],
   "source": [
    "test_flist = {}\n",
    "test_size = round(0.1 * sample_size)\n",
    "\n",
    "for c in classes:\n",
    "    img_flist[c] = np.random.choice(img_flist[c], len(img_flist[c]), replace=False)  # shuffle\n",
    "    test_flist[c] = img_flist[c][0:test_size]\n",
    "    img_flist[c] = img_flist[c][test_size:]\n",
    "#     img_flist[c] = [f for f in img_flist[c] if f not in test_flist[c]]"
   ]
  },
  {
   "cell_type": "code",
   "execution_count": 8,
   "id": "premier-tiger",
   "metadata": {
    "execution": {
     "iopub.execute_input": "2021-02-07T10:20:16.865652Z",
     "iopub.status.busy": "2021-02-07T10:20:16.865396Z",
     "iopub.status.idle": "2021-02-07T10:20:16.916915Z",
     "shell.execute_reply": "2021-02-07T10:20:16.916428Z",
     "shell.execute_reply.started": "2021-02-07T10:20:16.865629Z"
    }
   },
   "outputs": [
    {
     "data": {
      "application/vnd.jupyter.widget-view+json": {
       "model_id": "db13fec00fa8452ca1a8ab802fd05968",
       "version_major": 2,
       "version_minor": 0
      },
      "text/plain": [
       "Canvas(toolbar=Toolbar(toolitems=[('Home', 'Reset original view', 'home', 'home'), ('Back', 'Back to previous …"
      ]
     },
     "metadata": {},
     "output_type": "display_data"
    },
    {
     "data": {
      "application/vnd.jupyter.widget-view+json": {
       "model_id": "c0c390eeb2b647cba8e244f7c4366f73",
       "version_major": 2,
       "version_minor": 0
      },
      "text/plain": [
       "Canvas(toolbar=Toolbar(toolitems=[('Home', 'Reset original view', 'home', 'home'), ('Back', 'Back to previous …"
      ]
     },
     "metadata": {},
     "output_type": "display_data"
    }
   ],
   "source": [
    "plt.figure(figsize=(6,3))\n",
    "plt.title('Training Data')\n",
    "plt.bar(img_flist.keys(), [len(l) for l in img_flist.values()])\n",
    "plt.axhline(test_size, ls='--', color='red')\n",
    "plt.show()\n",
    "\n",
    "plt.figure(figsize=(6,3))\n",
    "plt.title('Validation Data')\n",
    "plt.bar(test_flist.keys(), [len(l) for l in test_flist.values()])\n",
    "plt.show()\n",
    "                 "
   ]
  },
  {
   "cell_type": "code",
   "execution_count": 9,
   "id": "moral-basketball",
   "metadata": {
    "execution": {
     "iopub.execute_input": "2021-02-07T10:20:17.119848Z",
     "iopub.status.busy": "2021-02-07T10:20:17.119623Z",
     "iopub.status.idle": "2021-02-07T10:20:19.185629Z",
     "shell.execute_reply": "2021-02-07T10:20:19.185268Z",
     "shell.execute_reply.started": "2021-02-07T10:20:17.119825Z"
    }
   },
   "outputs": [],
   "source": [
    "def get_fnames(path):\n",
    "    retlist = []\n",
    "    \n",
    "    for l in img_flist.values():\n",
    "        for f in l:\n",
    "            retlist.append(f)\n",
    "            \n",
    "    return random.sample(retlist, len(retlist))\n",
    "\n",
    "batch_tfms = [ *aug_transforms(size=RESOLUTION, do_flip=True, batch=True, max_zoom=1.5, mult=2.0), Normalize.from_stats(*imagenet_stats) ]\n",
    "\n",
    "\n",
    "img_db = DataBlock(\n",
    "    blocks=(ImageBlock, CategoryBlock), \n",
    "    get_items=get_fnames, \n",
    "    splitter=RandomSplitter(valid_pct=0.28, seed=42),\n",
    "    get_y=parent_label,\n",
    "    item_tfms=Resize(RESOLUTION, method='bilinear') , batch_tfms=batch_tfms)\n",
    "\n",
    "dls = img_db.dataloaders(path, batch_size=BATCH_SIZE)"
   ]
  },
  {
   "cell_type": "markdown",
   "id": "breeding-oregon",
   "metadata": {},
   "source": [
    "<br>\n",
    "\n",
    "### Verify the Training and Validation Batches"
   ]
  },
  {
   "cell_type": "code",
   "execution_count": 10,
   "id": "incorrect-campaign",
   "metadata": {
    "execution": {
     "iopub.execute_input": "2021-02-07T10:20:19.192779Z",
     "iopub.status.busy": "2021-02-07T10:20:19.192679Z",
     "iopub.status.idle": "2021-02-07T10:20:19.939165Z",
     "shell.execute_reply": "2021-02-07T10:20:19.938835Z",
     "shell.execute_reply.started": "2021-02-07T10:20:19.192769Z"
    }
   },
   "outputs": [
    {
     "data": {
      "application/vnd.jupyter.widget-view+json": {
       "model_id": "17f39b8d25b04117bdc7b9266eface96",
       "version_major": 2,
       "version_minor": 0
      },
      "text/plain": [
       "Canvas(toolbar=Toolbar(toolitems=[('Home', 'Reset original view', 'home', 'home'), ('Back', 'Back to previous …"
      ]
     },
     "metadata": {},
     "output_type": "display_data"
    }
   ],
   "source": [
    "dls.valid.show_batch(max_n=16, nrows=4)"
   ]
  },
  {
   "cell_type": "code",
   "execution_count": 11,
   "id": "impressive-truck",
   "metadata": {
    "execution": {
     "iopub.execute_input": "2021-02-07T10:20:19.941854Z",
     "iopub.status.busy": "2021-02-07T10:20:19.941756Z",
     "iopub.status.idle": "2021-02-07T10:20:19.946441Z",
     "shell.execute_reply": "2021-02-07T10:20:19.946134Z",
     "shell.execute_reply.started": "2021-02-07T10:20:19.941843Z"
    }
   },
   "outputs": [
    {
     "name": "stdout",
     "output_type": "stream",
     "text": [
      "\n",
      "All Callbacks:  [CutMix, ShowGraphCallback, SaveModelCallback, GradientAccumulation]\n"
     ]
    }
   ],
   "source": [
    "# Eary stopping callback\n",
    "early_stop_cb = EarlyStoppingCallback(monitor='error_rate', min_delta=0.0001, patience=5)\n",
    "\n",
    "# Save the current model's weights every epoch\n",
    "save_cb = SaveModelCallback(fname=RUN_NAME, every_epoch=True, with_opt=True)\n",
    "\n",
    "# Mixup callback for regularization\n",
    "# mixup_cb = MixUp(alpha=0.2)\n",
    "mixup_cb = None\n",
    "\n",
    "# Cutmix callback for regularization\n",
    "cutmix_cb = CutMix(alpha=0.3)\n",
    "# cutmix_cb = None\n",
    "\n",
    "\n",
    "\n",
    "\n",
    "# List of callbacks to be used later\n",
    "cbs = [ShowGraphCallback(), save_cb, GradientAccumulation(n_acc=32)]\n",
    "\n",
    "if mixup_cb != None:\n",
    "    cbs.insert(0, mixup_cb)\n",
    "    \n",
    "if cutmix_cb != None:\n",
    "    cbs.insert(0, cutmix_cb)\n",
    "\n",
    "\n",
    "\n",
    "\n",
    "print('\\nAll Callbacks: ', cbs)"
   ]
  },
  {
   "cell_type": "markdown",
   "id": "established-recommendation",
   "metadata": {},
   "source": [
    "### Visualize the effect of CutMix\n"
   ]
  },
  {
   "cell_type": "code",
   "execution_count": 12,
   "id": "binary-vertical",
   "metadata": {
    "execution": {
     "iopub.execute_input": "2021-02-07T10:20:19.948548Z",
     "iopub.status.busy": "2021-02-07T10:20:19.948456Z",
     "iopub.status.idle": "2021-02-07T10:20:20.269172Z",
     "shell.execute_reply": "2021-02-07T10:20:20.268913Z",
     "shell.execute_reply.started": "2021-02-07T10:20:19.948538Z"
    }
   },
   "outputs": [
    {
     "data": {
      "text/html": [
       "<table border=\"1\" class=\"dataframe\">\n",
       "  <thead>\n",
       "    <tr style=\"text-align: left;\">\n",
       "      <th>epoch</th>\n",
       "      <th>train_loss</th>\n",
       "      <th>valid_loss</th>\n",
       "      <th>time</th>\n",
       "    </tr>\n",
       "  </thead>\n",
       "  <tbody>\n",
       "    <tr>\n",
       "      <td>0</td>\n",
       "      <td>00:00</td>\n",
       "    </tr>\n",
       "  </tbody>\n",
       "</table>"
      ],
      "text/plain": [
       "<IPython.core.display.HTML object>"
      ]
     },
     "metadata": {},
     "output_type": "display_data"
    },
    {
     "data": {
      "application/vnd.jupyter.widget-view+json": {
       "model_id": "87641765445f466da360794ad9533c24",
       "version_major": 2,
       "version_minor": 0
      },
      "text/plain": [
       "Canvas(toolbar=Toolbar(toolitems=[('Home', 'Reset original view', 'home', 'home'), ('Back', 'Back to previous …"
      ]
     },
     "metadata": {},
     "output_type": "display_data"
    }
   ],
   "source": [
    "if cutmix_cb != None:\n",
    "    with Learner(dls, nn.Linear(3,4), loss_func=CrossEntropyLossFlat(), cbs=cutmix_cb) as learn:\n",
    "        learn.epoch,learn.training = 0,True\n",
    "        learn.dl = dls.train\n",
    "        b = dls.one_batch()\n",
    "        learn._split(b)\n",
    "        learn('before_batch')\n",
    "\n",
    "    _,axs = plt.subplots(3,3, figsize=(9,9))\n",
    "    dls.show_batch(b=(cutmix_cb.x,cutmix_cb.y), ctxs=axs.flatten())\n",
    "    \n",
    "else: print('\\n CutMix was not selected.')"
   ]
  },
  {
   "cell_type": "markdown",
   "id": "exposed-measure",
   "metadata": {},
   "source": [
    "<br>\n",
    "\n",
    "### Visualize the Effect of MixUp\n",
    "\n",
    "MixUp creates a linear interpolation between the target data and another datapoint.  In images, it shows up as ghostly figures.  The technique has been shown to be a good to decrease the liklihood of overfitting."
   ]
  },
  {
   "cell_type": "code",
   "execution_count": 13,
   "id": "aware-kansas",
   "metadata": {
    "execution": {
     "iopub.execute_input": "2021-02-07T10:20:20.271164Z",
     "iopub.status.busy": "2021-02-07T10:20:20.271064Z",
     "iopub.status.idle": "2021-02-07T10:20:20.274224Z",
     "shell.execute_reply": "2021-02-07T10:20:20.273989Z",
     "shell.execute_reply.started": "2021-02-07T10:20:20.271153Z"
    }
   },
   "outputs": [
    {
     "name": "stdout",
     "output_type": "stream",
     "text": [
      "\n",
      " MixUp was not selected.\n"
     ]
    }
   ],
   "source": [
    "if mixup_cb != None:\n",
    "    with Learner(dls, nn.Linear(3,4), loss_func=CrossEntropyLossFlat(), cbs=mixup_cb) as learn:\n",
    "        learn.epoch,learn.training = 0,True\n",
    "        learn.dl = dls.train\n",
    "        b = dls.one_batch()\n",
    "        learn._split(b)\n",
    "        learn('before_batch')\n",
    "\n",
    "    _,axs = plt.subplots(3,3, figsize=(9,9))\n",
    "    dls.show_batch(b=(mixup_cb.x,mixup_cb.y), ctxs=axs.flatten())\n",
    "\n",
    "else: print('\\n MixUp was not selected.')"
   ]
  },
  {
   "cell_type": "code",
   "execution_count": 14,
   "id": "instructional-durham",
   "metadata": {
    "execution": {
     "iopub.execute_input": "2021-02-07T10:20:20.321053Z",
     "iopub.status.busy": "2021-02-07T10:20:20.320907Z",
     "iopub.status.idle": "2021-02-07T10:20:20.711073Z",
     "shell.execute_reply": "2021-02-07T10:20:20.710767Z",
     "shell.execute_reply.started": "2021-02-07T10:20:20.321037Z"
    }
   },
   "outputs": [],
   "source": [
    "# learn = cnn_learner(dls, ARCH , \n",
    "#                     pretrained=PRETRAINED_FLAG, wd=1e-4, opt_func=ranger,\n",
    "#                     loss_func=LabelSmoothingCrossEntropyFlat(), \n",
    "#                     cbs = cbs, metrics=[error_rate, accuracy])\n",
    "\n",
    "# from wwf.vision.timm import *\n",
    "import timm\n",
    "learn = timm_learner(dls, \n",
    "                    'tf_efficientnet_b4_ns',\n",
    "                     opt_func=ranger,\n",
    "                     loss_func=LabelSmoothingCrossEntropy(),\n",
    "                     cbs=cbs,\n",
    "                     metrics = [accuracy]).to_fp16()"
   ]
  },
  {
   "cell_type": "code",
   "execution_count": 15,
   "id": "coastal-citation",
   "metadata": {
    "execution": {
     "iopub.execute_input": "2021-02-07T10:20:20.719079Z",
     "iopub.status.busy": "2021-02-07T10:20:20.718887Z",
     "iopub.status.idle": "2021-02-07T10:20:20.722574Z",
     "shell.execute_reply": "2021-02-07T10:20:20.722212Z",
     "shell.execute_reply.started": "2021-02-07T10:20:20.719065Z"
    }
   },
   "outputs": [
    {
     "data": {
      "text/plain": [
       "LabelSmoothingCrossEntropy()"
      ]
     },
     "metadata": {},
     "output_type": "display_data"
    },
    {
     "data": {
      "text/plain": [
       "<function fastai.optimizer.ranger(p, lr, mom=0.95, wd=0.01, eps=1e-06, sqr_mom=0.99, beta=0.0, decouple_wd=True)>"
      ]
     },
     "metadata": {},
     "output_type": "display_data"
    }
   ],
   "source": [
    "display(learn.loss_func, learn.opt_func)"
   ]
  },
  {
   "cell_type": "markdown",
   "id": "lesser-platinum",
   "metadata": {},
   "source": [
    "<br>\n",
    "<br>\n",
    "<br>\n",
    "\n",
    "## Find a Good Learning Rate to Start With"
   ]
  },
  {
   "cell_type": "code",
   "execution_count": 16,
   "id": "ideal-tower",
   "metadata": {
    "execution": {
     "iopub.execute_input": "2021-02-07T10:20:21.466056Z",
     "iopub.status.busy": "2021-02-07T10:20:21.465688Z",
     "iopub.status.idle": "2021-02-07T10:20:21.468960Z",
     "shell.execute_reply": "2021-02-07T10:20:21.468441Z",
     "shell.execute_reply.started": "2021-02-07T10:20:21.466022Z"
    }
   },
   "outputs": [],
   "source": [
    "LR_DIV = 14e0  # Shift the lr_min left by this amount.  Adjust as necessary\n",
    "lr_min = 0.002  # just a default"
   ]
  },
  {
   "cell_type": "code",
   "execution_count": 17,
   "id": "vertical-robert",
   "metadata": {
    "execution": {
     "iopub.execute_input": "2021-02-07T10:20:21.474337Z",
     "iopub.status.busy": "2021-02-07T10:20:21.474179Z",
     "iopub.status.idle": "2021-02-07T10:21:43.112581Z",
     "shell.execute_reply": "2021-02-07T10:21:43.112162Z",
     "shell.execute_reply.started": "2021-02-07T10:20:21.474320Z"
    }
   },
   "outputs": [
    {
     "data": {
      "text/html": [],
      "text/plain": [
       "<IPython.core.display.HTML object>"
      ]
     },
     "metadata": {},
     "output_type": "display_data"
    },
    {
     "data": {
      "application/vnd.jupyter.widget-view+json": {
       "model_id": "5aec478c20a1435ea9f5ad9360e5c7f5",
       "version_major": 2,
       "version_minor": 0
      },
      "text/plain": [
       "Canvas(toolbar=Toolbar(toolitems=[('Home', 'Reset original view', 'home', 'home'), ('Back', 'Back to previous …"
      ]
     },
     "metadata": {},
     "output_type": "display_data"
    },
    {
     "name": "stdout",
     "output_type": "stream",
     "text": [
      "Minimum/10: 7.59e-04, steepest point: 1.91e-06, (Mim/10)/14.0: 5.418411123433283e-05\n"
     ]
    }
   ],
   "source": [
    "if PRETRAINED_FLAG == True:\n",
    "    learn.freeze()\n",
    "    lr_min,lr_steep = learn.lr_find()\n",
    "    plt.axvline(lr_min, ls='--', color='red', label=f'lr_min={round(lr_min,6)}')\n",
    "    plt.axvline(lr_min/LR_DIV, ls='--', color='yellow', label=f'lr_min / {LR_DIV}={round(lr_min/LR_DIV,6)}')\n",
    "    plt.axvline(lr_steep, ls='--', color='grey', label=f'lr_steep={round(lr_steep,6)}')\n",
    "    plt.legend()\n",
    "    plt.show()\n",
    "\n",
    "    print(f\"Minimum/10: {lr_min:.2e}, steepest point: {lr_steep:.2e}, (Mim/10)/{LR_DIV}: {lr_min/LR_DIV}\")"
   ]
  },
  {
   "cell_type": "markdown",
   "id": "signal-forth",
   "metadata": {},
   "source": [
    "<br>\n",
    "<br>"
   ]
  },
  {
   "cell_type": "markdown",
   "id": "difficult-surgeon",
   "metadata": {},
   "source": [
    "# Pick a Good Initial Learning Rate"
   ]
  },
  {
   "cell_type": "code",
   "execution_count": 18,
   "id": "spread-assembly",
   "metadata": {
    "execution": {
     "iopub.execute_input": "2021-02-07T10:23:08.112381Z",
     "iopub.status.busy": "2021-02-07T10:23:08.112109Z",
     "iopub.status.idle": "2021-02-07T10:23:08.115346Z",
     "shell.execute_reply": "2021-02-07T10:23:08.114771Z",
     "shell.execute_reply.started": "2021-02-07T10:23:08.112351Z"
    }
   },
   "outputs": [],
   "source": [
    "# LR_CHOICE = lr_min/LR_DIV\n",
    "# LR_CHOICE = lr_steep\n",
    "LR_CHOICE = 0.00013\n",
    "# LR_CHOICE = 1e-2"
   ]
  },
  {
   "cell_type": "markdown",
   "id": "phantom-arabic",
   "metadata": {},
   "source": [
    "<br>\n",
    "<br>"
   ]
  },
  {
   "cell_type": "markdown",
   "id": "accepting-vulnerability",
   "metadata": {},
   "source": [
    "<br>\n",
    "<br>"
   ]
  },
  {
   "cell_type": "markdown",
   "id": "applicable-damage",
   "metadata": {},
   "source": [
    "# Training the Model"
   ]
  },
  {
   "cell_type": "markdown",
   "id": "agricultural-delight",
   "metadata": {
    "slideshow": {
     "slide_type": "slide"
    }
   },
   "source": [
    "<br>\n",
    "\n",
    "## Fit the last layers, unfreeze, fit the whole net, with a decent initial LR, all in one go.\n",
    "\n"
   ]
  },
  {
   "cell_type": "code",
   "execution_count": 19,
   "id": "human-albany",
   "metadata": {
    "execution": {
     "iopub.execute_input": "2021-02-07T10:23:11.256255Z",
     "iopub.status.busy": "2021-02-07T10:23:11.256002Z",
     "iopub.status.idle": "2021-02-07T10:33:24.216063Z",
     "shell.execute_reply": "2021-02-07T10:33:24.215723Z",
     "shell.execute_reply.started": "2021-02-07T10:23:11.256232Z"
    }
   },
   "outputs": [
    {
     "name": "stdout",
     "output_type": "stream",
     "text": [
      "FROZEN_EPOCHS:  1\n",
      "EPOCHS:         40\n",
      "Learning Rate:  0.00013\n",
      "\n",
      "\n"
     ]
    },
    {
     "data": {
      "text/html": [
       "<table border=\"1\" class=\"dataframe\">\n",
       "  <thead>\n",
       "    <tr style=\"text-align: left;\">\n",
       "      <th>epoch</th>\n",
       "      <th>train_loss</th>\n",
       "      <th>valid_loss</th>\n",
       "      <th>accuracy</th>\n",
       "      <th>time</th>\n",
       "    </tr>\n",
       "  </thead>\n",
       "  <tbody>\n",
       "    <tr>\n",
       "      <td>0</td>\n",
       "      <td>2.336960</td>\n",
       "      <td>1.644347</td>\n",
       "      <td>0.372371</td>\n",
       "      <td>10:12</td>\n",
       "    </tr>\n",
       "  </tbody>\n",
       "</table>"
      ],
      "text/plain": [
       "<IPython.core.display.HTML object>"
      ]
     },
     "metadata": {},
     "output_type": "display_data"
    },
    {
     "data": {
      "application/vnd.jupyter.widget-view+json": {
       "model_id": "ff65e60204e24ba5912c437778e043d0",
       "version_major": 2,
       "version_minor": 0
      },
      "text/plain": [
       "Canvas(toolbar=Toolbar(toolitems=[('Home', 'Reset original view', 'home', 'home'), ('Back', 'Back to previous …"
      ]
     },
     "metadata": {},
     "output_type": "display_data"
    },
    {
     "data": {
      "image/png": "[encoded data removed]",
      "text/plain": [
       "<Figure size 720x480 with 1 Axes>"
      ]
     },
     "metadata": {},
     "output_type": "display_data"
    }
   ],
   "source": [
    "\n",
    "\n",
    "if PRETRAINED_FLAG:\n",
    "    print(f'FROZEN_EPOCHS:  {FROZEN_EPOCHS}')\n",
    "print(f'EPOCHS:         {EPOCHS}')\n",
    "print(f'Learning Rate:  {LR_CHOICE}\\n\\n')\n",
    "\n",
    "if PRETRAINED_FLAG == True:\n",
    "    learn.fit_flat_cos(FROZEN_EPOCHS, slice(LR_CHOICE), pct_start=0.99, wd=0.1)\n"
   ]
  },
  {
   "cell_type": "markdown",
   "id": "divine-passenger",
   "metadata": {},
   "source": [
    "## Manually set up the unfrozen runs"
   ]
  },
  {
   "cell_type": "code",
   "execution_count": 20,
   "id": "absolute-oxford",
   "metadata": {
    "execution": {
     "iopub.execute_input": "2021-02-07T10:34:54.867783Z",
     "iopub.status.busy": "2021-02-07T10:34:54.867516Z",
     "iopub.status.idle": "2021-02-07T10:34:54.876483Z",
     "shell.execute_reply": "2021-02-07T10:34:54.876090Z",
     "shell.execute_reply.started": "2021-02-07T10:34:54.867753Z"
    }
   },
   "outputs": [],
   "source": [
    "learn.unfreeze()"
   ]
  },
  {
   "cell_type": "code",
   "execution_count": 21,
   "id": "intelligent-personal",
   "metadata": {
    "execution": {
     "iopub.execute_input": "2021-02-07T10:34:55.508175Z",
     "iopub.status.busy": "2021-02-07T10:34:55.507915Z",
     "iopub.status.idle": "2021-02-07T10:37:27.463634Z",
     "shell.execute_reply": "2021-02-07T10:37:27.463260Z",
     "shell.execute_reply.started": "2021-02-07T10:34:55.508153Z"
    }
   },
   "outputs": [
    {
     "data": {
      "text/html": [],
      "text/plain": [
       "<IPython.core.display.HTML object>"
      ]
     },
     "metadata": {},
     "output_type": "display_data"
    },
    {
     "data": {
      "application/vnd.jupyter.widget-view+json": {
       "model_id": "2c8ab9d1f8c84de39f4e2345985b9c00",
       "version_major": 2,
       "version_minor": 0
      },
      "text/plain": [
       "Canvas(toolbar=Toolbar(toolitems=[('Home', 'Reset original view', 'home', 'home'), ('Back', 'Back to previous …"
      ]
     },
     "metadata": {},
     "output_type": "display_data"
    }
   ],
   "source": [
    "lr_min,lr_steep = learn.lr_find()\n",
    "plt.axvline(lr_min, ls='--', color='red', label=f'lr_min={round(lr_min,6)}')\n",
    "plt.axvline(LR_CHOICE/2, ls='--', color='yellow', label=f'LR_CHOICE/2={round(LR_CHOICE/2,6)}')\n",
    "plt.axvline(lr_steep, ls='--', color='grey', label=f'lr_steep={round(lr_steep,6)}')\n",
    "plt.axvline(2e-5, ls='--', color='green', label=f'{round(2e-5,6)}')\n",
    "plt.axvline(7e-5, ls='--', color='orange', label=f'{round(7e-5,6)}')\n",
    "\n",
    "plt.legend()\n",
    "plt.show()"
   ]
  },
  {
   "cell_type": "code",
   "execution_count": null,
   "id": "massive-commissioner",
   "metadata": {},
   "outputs": [],
   "source": [
    "print(f\"Minimum/10: {lr_min:.2e}, steepest point: {lr_steep:.2e}, LR_CHOICE/2: {LR_CHOICE / 2}\")"
   ]
  },
  {
   "cell_type": "markdown",
   "id": "treated-appendix",
   "metadata": {},
   "source": [
    "## Pick a new Learning Rate"
   ]
  },
  {
   "cell_type": "code",
   "execution_count": 22,
   "id": "amazing-newark",
   "metadata": {
    "execution": {
     "iopub.execute_input": "2021-02-07T10:39:09.371531Z",
     "iopub.status.busy": "2021-02-07T10:39:09.371278Z",
     "iopub.status.idle": "2021-02-07T10:39:09.374049Z",
     "shell.execute_reply": "2021-02-07T10:39:09.373576Z",
     "shell.execute_reply.started": "2021-02-07T10:39:09.371508Z"
    }
   },
   "outputs": [],
   "source": [
    "# LR_CHOICE_UNFROZ = lr_min/LR_DIV\n",
    "# LR_CHOICE_UNFROZ = LR_CHOICE / 2\n",
    "# LR_CHOICE_UNFROZ = 0.00015\n",
    "# LR_CHOICE_UNFROZ = 10e-5\n",
    "# LR_CHOICE_UNFROZ = 0.00008\n",
    "# LR_CHOICE_UNFROZ = 5.5e-5\n",
    "LR_CHOICE_UNFROZ = 1.7e-4\n",
    "# LR_CHOICE_UNFROZ = 6e-5\n",
    "# LR_CHOICE_UNFROZ = lr_min"
   ]
  },
  {
   "cell_type": "markdown",
   "id": "refined-still",
   "metadata": {},
   "source": [
    "### Train"
   ]
  },
  {
   "cell_type": "code",
   "execution_count": 23,
   "id": "spanish-walker",
   "metadata": {
    "execution": {
     "iopub.execute_input": "2021-02-07T10:39:12.704731Z",
     "iopub.status.busy": "2021-02-07T10:39:12.704550Z",
     "iopub.status.idle": "2021-02-07T10:39:12.706967Z",
     "shell.execute_reply": "2021-02-07T10:39:12.706504Z",
     "shell.execute_reply.started": "2021-02-07T10:39:12.704716Z"
    }
   },
   "outputs": [],
   "source": [
    "# EPOCHS = 10"
   ]
  },
  {
   "cell_type": "code",
   "execution_count": 24,
   "id": "cooperative-brush",
   "metadata": {
    "execution": {
     "iopub.execute_input": "2021-02-07T10:39:13.211164Z",
     "iopub.status.busy": "2021-02-07T10:39:13.210898Z",
     "iopub.status.idle": "2021-02-07T10:39:13.214264Z",
     "shell.execute_reply": "2021-02-07T10:39:13.213715Z",
     "shell.execute_reply.started": "2021-02-07T10:39:13.211138Z"
    }
   },
   "outputs": [
    {
     "name": "stdout",
     "output_type": "stream",
     "text": [
      "EPOCHS:         40\n",
      "Learning Rate:  0.00017\n",
      "\n",
      "\n"
     ]
    }
   ],
   "source": [
    "print(f'EPOCHS:         {EPOCHS}')\n",
    "print(f'Learning Rate:  {LR_CHOICE_UNFROZ}\\n\\n')"
   ]
  },
  {
   "cell_type": "code",
   "execution_count": 25,
   "id": "possible-hampshire",
   "metadata": {
    "execution": {
     "iopub.execute_input": "2021-02-07T10:39:42.026091Z",
     "iopub.status.busy": "2021-02-07T10:39:42.025934Z",
     "iopub.status.idle": "2021-02-07T21:00:04.570636Z",
     "shell.execute_reply": "2021-02-07T21:00:04.563253Z",
     "shell.execute_reply.started": "2021-02-07T10:39:42.026078Z"
    }
   },
   "outputs": [
    {
     "data": {
      "text/html": [
       "<table border=\"1\" class=\"dataframe\">\n",
       "  <thead>\n",
       "    <tr style=\"text-align: left;\">\n",
       "      <th>epoch</th>\n",
       "      <th>train_loss</th>\n",
       "      <th>valid_loss</th>\n",
       "      <th>accuracy</th>\n",
       "      <th>time</th>\n",
       "    </tr>\n",
       "  </thead>\n",
       "  <tbody>\n",
       "    <tr>\n",
       "      <td>0</td>\n",
       "      <td>2.236501</td>\n",
       "      <td>1.412428</td>\n",
       "      <td>0.473131</td>\n",
       "      <td>18:49</td>\n",
       "    </tr>\n",
       "    <tr>\n",
       "      <td>1</td>\n",
       "      <td>2.130845</td>\n",
       "      <td>1.376640</td>\n",
       "      <td>0.493867</td>\n",
       "      <td>18:42</td>\n",
       "    </tr>\n",
       "    <tr>\n",
       "      <td>2</td>\n",
       "      <td>2.010501</td>\n",
       "      <td>1.336186</td>\n",
       "      <td>0.522196</td>\n",
       "      <td>18:44</td>\n",
       "    </tr>\n",
       "    <tr>\n",
       "      <td>3</td>\n",
       "      <td>1.887078</td>\n",
       "      <td>1.282465</td>\n",
       "      <td>0.530958</td>\n",
       "      <td>18:37</td>\n",
       "    </tr>\n",
       "    <tr>\n",
       "      <td>4</td>\n",
       "      <td>1.831834</td>\n",
       "      <td>1.238085</td>\n",
       "      <td>0.573306</td>\n",
       "      <td>18:04</td>\n",
       "    </tr>\n",
       "    <tr>\n",
       "      <td>5</td>\n",
       "      <td>1.813062</td>\n",
       "      <td>1.195583</td>\n",
       "      <td>0.583236</td>\n",
       "      <td>18:11</td>\n",
       "    </tr>\n",
       "    <tr>\n",
       "      <td>6</td>\n",
       "      <td>1.709616</td>\n",
       "      <td>1.184541</td>\n",
       "      <td>0.594334</td>\n",
       "      <td>17:44</td>\n",
       "    </tr>\n",
       "    <tr>\n",
       "      <td>7</td>\n",
       "      <td>1.762994</td>\n",
       "      <td>1.207578</td>\n",
       "      <td>0.584404</td>\n",
       "      <td>17:43</td>\n",
       "    </tr>\n",
       "    <tr>\n",
       "      <td>8</td>\n",
       "      <td>1.707007</td>\n",
       "      <td>1.145324</td>\n",
       "      <td>0.600175</td>\n",
       "      <td>17:43</td>\n",
       "    </tr>\n",
       "    <tr>\n",
       "      <td>9</td>\n",
       "      <td>1.590843</td>\n",
       "      <td>1.103954</td>\n",
       "      <td>0.633178</td>\n",
       "      <td>17:43</td>\n",
       "    </tr>\n",
       "    <tr>\n",
       "      <td>10</td>\n",
       "      <td>1.512640</td>\n",
       "      <td>1.079189</td>\n",
       "      <td>0.661507</td>\n",
       "      <td>17:43</td>\n",
       "    </tr>\n",
       "    <tr>\n",
       "      <td>11</td>\n",
       "      <td>1.581570</td>\n",
       "      <td>1.097036</td>\n",
       "      <td>0.634054</td>\n",
       "      <td>18:31</td>\n",
       "    </tr>\n",
       "    <tr>\n",
       "      <td>12</td>\n",
       "      <td>1.538339</td>\n",
       "      <td>1.057218</td>\n",
       "      <td>0.665012</td>\n",
       "      <td>17:45</td>\n",
       "    </tr>\n",
       "    <tr>\n",
       "      <td>13</td>\n",
       "      <td>1.483105</td>\n",
       "      <td>1.048106</td>\n",
       "      <td>0.674650</td>\n",
       "      <td>17:47</td>\n",
       "    </tr>\n",
       "    <tr>\n",
       "      <td>14</td>\n",
       "      <td>1.445000</td>\n",
       "      <td>1.040707</td>\n",
       "      <td>0.667056</td>\n",
       "      <td>17:44</td>\n",
       "    </tr>\n",
       "    <tr>\n",
       "      <td>15</td>\n",
       "      <td>1.408063</td>\n",
       "      <td>1.033674</td>\n",
       "      <td>0.670561</td>\n",
       "      <td>17:48</td>\n",
       "    </tr>\n",
       "    <tr>\n",
       "      <td>16</td>\n",
       "      <td>1.452407</td>\n",
       "      <td>1.026004</td>\n",
       "      <td>0.672897</td>\n",
       "      <td>17:47</td>\n",
       "    </tr>\n",
       "    <tr>\n",
       "      <td>17</td>\n",
       "      <td>1.353343</td>\n",
       "      <td>1.023384</td>\n",
       "      <td>0.682827</td>\n",
       "      <td>18:32</td>\n",
       "    </tr>\n",
       "    <tr>\n",
       "      <td>18</td>\n",
       "      <td>1.371981</td>\n",
       "      <td>1.027000</td>\n",
       "      <td>0.670561</td>\n",
       "      <td>17:44</td>\n",
       "    </tr>\n",
       "    <tr>\n",
       "      <td>19</td>\n",
       "      <td>1.357529</td>\n",
       "      <td>0.984656</td>\n",
       "      <td>0.702395</td>\n",
       "      <td>17:46</td>\n",
       "    </tr>\n",
       "    <tr>\n",
       "      <td>20</td>\n",
       "      <td>1.319162</td>\n",
       "      <td>0.989905</td>\n",
       "      <td>0.703855</td>\n",
       "      <td>17:48</td>\n",
       "    </tr>\n",
       "    <tr>\n",
       "      <td>21</td>\n",
       "      <td>1.311084</td>\n",
       "      <td>0.979192</td>\n",
       "      <td>0.710280</td>\n",
       "      <td>17:44</td>\n",
       "    </tr>\n",
       "    <tr>\n",
       "      <td>22</td>\n",
       "      <td>1.352177</td>\n",
       "      <td>0.974347</td>\n",
       "      <td>0.701811</td>\n",
       "      <td>17:44</td>\n",
       "    </tr>\n",
       "    <tr>\n",
       "      <td>23</td>\n",
       "      <td>1.273200</td>\n",
       "      <td>0.964021</td>\n",
       "      <td>0.712617</td>\n",
       "      <td>17:44</td>\n",
       "    </tr>\n",
       "    <tr>\n",
       "      <td>24</td>\n",
       "      <td>1.243545</td>\n",
       "      <td>0.952728</td>\n",
       "      <td>0.721671</td>\n",
       "      <td>17:45</td>\n",
       "    </tr>\n",
       "    <tr>\n",
       "      <td>25</td>\n",
       "      <td>1.267865</td>\n",
       "      <td>0.949554</td>\n",
       "      <td>0.714953</td>\n",
       "      <td>17:48</td>\n",
       "    </tr>\n",
       "    <tr>\n",
       "      <td>26</td>\n",
       "      <td>1.211486</td>\n",
       "      <td>0.930978</td>\n",
       "      <td>0.729264</td>\n",
       "      <td>17:46</td>\n",
       "    </tr>\n",
       "    <tr>\n",
       "      <td>27</td>\n",
       "      <td>1.254788</td>\n",
       "      <td>0.927259</td>\n",
       "      <td>0.734813</td>\n",
       "      <td>17:45</td>\n",
       "    </tr>\n",
       "    <tr>\n",
       "      <td>28</td>\n",
       "      <td>1.178443</td>\n",
       "      <td>0.934962</td>\n",
       "      <td>0.728972</td>\n",
       "      <td>18:11</td>\n",
       "    </tr>\n",
       "    <tr>\n",
       "      <td>29</td>\n",
       "      <td>1.122389</td>\n",
       "      <td>0.909522</td>\n",
       "      <td>0.743575</td>\n",
       "      <td>18:41</td>\n",
       "    </tr>\n",
       "    <tr>\n",
       "      <td>30</td>\n",
       "      <td>1.165383</td>\n",
       "      <td>0.910530</td>\n",
       "      <td>0.740946</td>\n",
       "      <td>18:10</td>\n",
       "    </tr>\n",
       "    <tr>\n",
       "      <td>31</td>\n",
       "      <td>1.089274</td>\n",
       "      <td>0.907489</td>\n",
       "      <td>0.746495</td>\n",
       "      <td>17:50</td>\n",
       "    </tr>\n",
       "    <tr>\n",
       "      <td>32</td>\n",
       "      <td>1.165891</td>\n",
       "      <td>0.898349</td>\n",
       "      <td>0.745619</td>\n",
       "      <td>18:19</td>\n",
       "    </tr>\n",
       "    <tr>\n",
       "      <td>33</td>\n",
       "      <td>1.131270</td>\n",
       "      <td>0.907738</td>\n",
       "      <td>0.735689</td>\n",
       "      <td>18:52</td>\n",
       "    </tr>\n",
       "  </tbody>\n",
       "</table>"
      ],
      "text/plain": [
       "<IPython.core.display.HTML object>"
      ]
     },
     "metadata": {},
     "output_type": "display_data"
    },
    {
     "data": {
      "application/vnd.jupyter.widget-view+json": {
       "model_id": "ed68c8b854284b5c8de79afef119a1da",
       "version_major": 2,
       "version_minor": 0
      },
      "text/plain": [
       "Canvas(toolbar=Toolbar(toolitems=[('Home', 'Reset original view', 'home', 'home'), ('Back', 'Back to previous …"
      ]
     },
     "metadata": {},
     "output_type": "display_data"
    },
    {
     "data": {
      "image/png": "[encoded data removed]",
      "text/plain": [
       "<Figure size 720x480 with 1 Axes>"
      ]
     },
     "metadata": {},
     "output_type": "display_data"
    },
    {
     "ename": "KeyboardInterrupt",
     "evalue": "",
     "output_type": "error",
     "traceback": [
      "\u001b[0;31m---------------------------------------------------------------------------\u001b[0m",
      "\u001b[0;31mKeyboardInterrupt\u001b[0m                         Traceback (most recent call last)",
      "\u001b[0;32m<ipython-input-25-6df7b6ec76e2>\u001b[0m in \u001b[0;36m<module>\u001b[0;34m\u001b[0m\n\u001b[0;32m----> 1\u001b[0;31m \u001b[0mlearn\u001b[0m\u001b[0;34m.\u001b[0m\u001b[0mfit_flat_cos\u001b[0m\u001b[0;34m(\u001b[0m\u001b[0mEPOCHS\u001b[0m\u001b[0;34m,\u001b[0m \u001b[0mslice\u001b[0m\u001b[0;34m(\u001b[0m\u001b[0mLR_CHOICE_UNFROZ\u001b[0m\u001b[0;34m)\u001b[0m\u001b[0;34m,\u001b[0m \u001b[0mpct_start\u001b[0m\u001b[0;34m=\u001b[0m\u001b[0;36m0.68\u001b[0m\u001b[0;34m)\u001b[0m\u001b[0;34m\u001b[0m\u001b[0;34m\u001b[0m\u001b[0m\n\u001b[0m",
      "\u001b[0;32m~/miniconda3/envs/learn/lib/python3.8/site-packages/fastai/callback/schedule.py\u001b[0m in \u001b[0;36mfit_flat_cos\u001b[0;34m(self, n_epoch, lr, div_final, pct_start, wd, cbs, reset_opt)\u001b[0m\n\u001b[1;32m    133\u001b[0m     \u001b[0mlr\u001b[0m \u001b[0;34m=\u001b[0m \u001b[0mnp\u001b[0m\u001b[0;34m.\u001b[0m\u001b[0marray\u001b[0m\u001b[0;34m(\u001b[0m\u001b[0;34m[\u001b[0m\u001b[0mh\u001b[0m\u001b[0;34m[\u001b[0m\u001b[0;34m'lr'\u001b[0m\u001b[0;34m]\u001b[0m \u001b[0;32mfor\u001b[0m \u001b[0mh\u001b[0m \u001b[0;32min\u001b[0m \u001b[0mself\u001b[0m\u001b[0;34m.\u001b[0m\u001b[0mopt\u001b[0m\u001b[0;34m.\u001b[0m\u001b[0mhypers\u001b[0m\u001b[0;34m]\u001b[0m\u001b[0;34m)\u001b[0m\u001b[0;34m\u001b[0m\u001b[0;34m\u001b[0m\u001b[0m\n\u001b[1;32m    134\u001b[0m     \u001b[0mscheds\u001b[0m \u001b[0;34m=\u001b[0m \u001b[0;34m{\u001b[0m\u001b[0;34m'lr'\u001b[0m\u001b[0;34m:\u001b[0m \u001b[0mcombined_cos\u001b[0m\u001b[0;34m(\u001b[0m\u001b[0mpct_start\u001b[0m\u001b[0;34m,\u001b[0m \u001b[0mlr\u001b[0m\u001b[0;34m,\u001b[0m \u001b[0mlr\u001b[0m\u001b[0;34m,\u001b[0m \u001b[0mlr\u001b[0m\u001b[0;34m/\u001b[0m\u001b[0mdiv_final\u001b[0m\u001b[0;34m)\u001b[0m\u001b[0;34m}\u001b[0m\u001b[0;34m\u001b[0m\u001b[0;34m\u001b[0m\u001b[0m\n\u001b[0;32m--> 135\u001b[0;31m     \u001b[0mself\u001b[0m\u001b[0;34m.\u001b[0m\u001b[0mfit\u001b[0m\u001b[0;34m(\u001b[0m\u001b[0mn_epoch\u001b[0m\u001b[0;34m,\u001b[0m \u001b[0mcbs\u001b[0m\u001b[0;34m=\u001b[0m\u001b[0mParamScheduler\u001b[0m\u001b[0;34m(\u001b[0m\u001b[0mscheds\u001b[0m\u001b[0;34m)\u001b[0m\u001b[0;34m+\u001b[0m\u001b[0mL\u001b[0m\u001b[0;34m(\u001b[0m\u001b[0mcbs\u001b[0m\u001b[0;34m)\u001b[0m\u001b[0;34m,\u001b[0m \u001b[0mreset_opt\u001b[0m\u001b[0;34m=\u001b[0m\u001b[0mreset_opt\u001b[0m\u001b[0;34m,\u001b[0m \u001b[0mwd\u001b[0m\u001b[0;34m=\u001b[0m\u001b[0mwd\u001b[0m\u001b[0;34m)\u001b[0m\u001b[0;34m\u001b[0m\u001b[0;34m\u001b[0m\u001b[0m\n\u001b[0m\u001b[1;32m    136\u001b[0m \u001b[0;34m\u001b[0m\u001b[0m\n\u001b[1;32m    137\u001b[0m \u001b[0;31m# Cell\u001b[0m\u001b[0;34m\u001b[0m\u001b[0;34m\u001b[0m\u001b[0;34m\u001b[0m\u001b[0m\n",
      "\u001b[0;32m~/miniconda3/envs/learn/lib/python3.8/site-packages/fastai/learner.py\u001b[0m in \u001b[0;36mfit\u001b[0;34m(self, n_epoch, lr, wd, cbs, reset_opt)\u001b[0m\n\u001b[1;32m    209\u001b[0m             \u001b[0mself\u001b[0m\u001b[0;34m.\u001b[0m\u001b[0mopt\u001b[0m\u001b[0;34m.\u001b[0m\u001b[0mset_hypers\u001b[0m\u001b[0;34m(\u001b[0m\u001b[0mlr\u001b[0m\u001b[0;34m=\u001b[0m\u001b[0mself\u001b[0m\u001b[0;34m.\u001b[0m\u001b[0mlr\u001b[0m \u001b[0;32mif\u001b[0m \u001b[0mlr\u001b[0m \u001b[0;32mis\u001b[0m \u001b[0;32mNone\u001b[0m \u001b[0;32melse\u001b[0m \u001b[0mlr\u001b[0m\u001b[0;34m)\u001b[0m\u001b[0;34m\u001b[0m\u001b[0;34m\u001b[0m\u001b[0m\n\u001b[1;32m    210\u001b[0m             \u001b[0mself\u001b[0m\u001b[0;34m.\u001b[0m\u001b[0mn_epoch\u001b[0m \u001b[0;34m=\u001b[0m \u001b[0mn_epoch\u001b[0m\u001b[0;34m\u001b[0m\u001b[0;34m\u001b[0m\u001b[0m\n\u001b[0;32m--> 211\u001b[0;31m             \u001b[0mself\u001b[0m\u001b[0;34m.\u001b[0m\u001b[0m_with_events\u001b[0m\u001b[0;34m(\u001b[0m\u001b[0mself\u001b[0m\u001b[0;34m.\u001b[0m\u001b[0m_do_fit\u001b[0m\u001b[0;34m,\u001b[0m \u001b[0;34m'fit'\u001b[0m\u001b[0;34m,\u001b[0m \u001b[0mCancelFitException\u001b[0m\u001b[0;34m,\u001b[0m \u001b[0mself\u001b[0m\u001b[0;34m.\u001b[0m\u001b[0m_end_cleanup\u001b[0m\u001b[0;34m)\u001b[0m\u001b[0;34m\u001b[0m\u001b[0;34m\u001b[0m\u001b[0m\n\u001b[0m\u001b[1;32m    212\u001b[0m \u001b[0;34m\u001b[0m\u001b[0m\n\u001b[1;32m    213\u001b[0m     \u001b[0;32mdef\u001b[0m \u001b[0m_end_cleanup\u001b[0m\u001b[0;34m(\u001b[0m\u001b[0mself\u001b[0m\u001b[0;34m)\u001b[0m\u001b[0;34m:\u001b[0m \u001b[0mself\u001b[0m\u001b[0;34m.\u001b[0m\u001b[0mdl\u001b[0m\u001b[0;34m,\u001b[0m\u001b[0mself\u001b[0m\u001b[0;34m.\u001b[0m\u001b[0mxb\u001b[0m\u001b[0;34m,\u001b[0m\u001b[0mself\u001b[0m\u001b[0;34m.\u001b[0m\u001b[0myb\u001b[0m\u001b[0;34m,\u001b[0m\u001b[0mself\u001b[0m\u001b[0;34m.\u001b[0m\u001b[0mpred\u001b[0m\u001b[0;34m,\u001b[0m\u001b[0mself\u001b[0m\u001b[0;34m.\u001b[0m\u001b[0mloss\u001b[0m \u001b[0;34m=\u001b[0m \u001b[0;32mNone\u001b[0m\u001b[0;34m,\u001b[0m\u001b[0;34m(\u001b[0m\u001b[0;32mNone\u001b[0m\u001b[0;34m,\u001b[0m\u001b[0;34m)\u001b[0m\u001b[0;34m,\u001b[0m\u001b[0;34m(\u001b[0m\u001b[0;32mNone\u001b[0m\u001b[0;34m,\u001b[0m\u001b[0;34m)\u001b[0m\u001b[0;34m,\u001b[0m\u001b[0;32mNone\u001b[0m\u001b[0;34m,\u001b[0m\u001b[0;32mNone\u001b[0m\u001b[0;34m\u001b[0m\u001b[0;34m\u001b[0m\u001b[0m\n",
      "\u001b[0;32m~/miniconda3/envs/learn/lib/python3.8/site-packages/fastai/learner.py\u001b[0m in \u001b[0;36m_with_events\u001b[0;34m(self, f, event_type, ex, final)\u001b[0m\n\u001b[1;32m    158\u001b[0m \u001b[0;34m\u001b[0m\u001b[0m\n\u001b[1;32m    159\u001b[0m     \u001b[0;32mdef\u001b[0m \u001b[0m_with_events\u001b[0m\u001b[0;34m(\u001b[0m\u001b[0mself\u001b[0m\u001b[0;34m,\u001b[0m \u001b[0mf\u001b[0m\u001b[0;34m,\u001b[0m \u001b[0mevent_type\u001b[0m\u001b[0;34m,\u001b[0m \u001b[0mex\u001b[0m\u001b[0;34m,\u001b[0m \u001b[0mfinal\u001b[0m\u001b[0;34m=\u001b[0m\u001b[0mnoop\u001b[0m\u001b[0;34m)\u001b[0m\u001b[0;34m:\u001b[0m\u001b[0;34m\u001b[0m\u001b[0;34m\u001b[0m\u001b[0m\n\u001b[0;32m--> 160\u001b[0;31m         \u001b[0;32mtry\u001b[0m\u001b[0;34m:\u001b[0m \u001b[0mself\u001b[0m\u001b[0;34m(\u001b[0m\u001b[0;34mf'before_{event_type}'\u001b[0m\u001b[0;34m)\u001b[0m\u001b[0;34m;\u001b[0m  \u001b[0mf\u001b[0m\u001b[0;34m(\u001b[0m\u001b[0;34m)\u001b[0m\u001b[0;34m\u001b[0m\u001b[0;34m\u001b[0m\u001b[0m\n\u001b[0m\u001b[1;32m    161\u001b[0m         \u001b[0;32mexcept\u001b[0m \u001b[0mex\u001b[0m\u001b[0;34m:\u001b[0m \u001b[0mself\u001b[0m\u001b[0;34m(\u001b[0m\u001b[0;34mf'after_cancel_{event_type}'\u001b[0m\u001b[0;34m)\u001b[0m\u001b[0;34m\u001b[0m\u001b[0;34m\u001b[0m\u001b[0m\n\u001b[1;32m    162\u001b[0m         \u001b[0mself\u001b[0m\u001b[0;34m(\u001b[0m\u001b[0;34mf'after_{event_type}'\u001b[0m\u001b[0;34m)\u001b[0m\u001b[0;34m;\u001b[0m  \u001b[0mfinal\u001b[0m\u001b[0;34m(\u001b[0m\u001b[0;34m)\u001b[0m\u001b[0;34m\u001b[0m\u001b[0;34m\u001b[0m\u001b[0m\n",
      "\u001b[0;32m~/miniconda3/envs/learn/lib/python3.8/site-packages/fastai/learner.py\u001b[0m in \u001b[0;36m_do_fit\u001b[0;34m(self)\u001b[0m\n\u001b[1;32m    200\u001b[0m         \u001b[0;32mfor\u001b[0m \u001b[0mepoch\u001b[0m \u001b[0;32min\u001b[0m \u001b[0mrange\u001b[0m\u001b[0;34m(\u001b[0m\u001b[0mself\u001b[0m\u001b[0;34m.\u001b[0m\u001b[0mn_epoch\u001b[0m\u001b[0;34m)\u001b[0m\u001b[0;34m:\u001b[0m\u001b[0;34m\u001b[0m\u001b[0;34m\u001b[0m\u001b[0m\n\u001b[1;32m    201\u001b[0m             \u001b[0mself\u001b[0m\u001b[0;34m.\u001b[0m\u001b[0mepoch\u001b[0m\u001b[0;34m=\u001b[0m\u001b[0mepoch\u001b[0m\u001b[0;34m\u001b[0m\u001b[0;34m\u001b[0m\u001b[0m\n\u001b[0;32m--> 202\u001b[0;31m             \u001b[0mself\u001b[0m\u001b[0;34m.\u001b[0m\u001b[0m_with_events\u001b[0m\u001b[0;34m(\u001b[0m\u001b[0mself\u001b[0m\u001b[0;34m.\u001b[0m\u001b[0m_do_epoch\u001b[0m\u001b[0;34m,\u001b[0m \u001b[0;34m'epoch'\u001b[0m\u001b[0;34m,\u001b[0m \u001b[0mCancelEpochException\u001b[0m\u001b[0;34m)\u001b[0m\u001b[0;34m\u001b[0m\u001b[0;34m\u001b[0m\u001b[0m\n\u001b[0m\u001b[1;32m    203\u001b[0m \u001b[0;34m\u001b[0m\u001b[0m\n\u001b[1;32m    204\u001b[0m     \u001b[0;32mdef\u001b[0m \u001b[0mfit\u001b[0m\u001b[0;34m(\u001b[0m\u001b[0mself\u001b[0m\u001b[0;34m,\u001b[0m \u001b[0mn_epoch\u001b[0m\u001b[0;34m,\u001b[0m \u001b[0mlr\u001b[0m\u001b[0;34m=\u001b[0m\u001b[0;32mNone\u001b[0m\u001b[0;34m,\u001b[0m \u001b[0mwd\u001b[0m\u001b[0;34m=\u001b[0m\u001b[0;32mNone\u001b[0m\u001b[0;34m,\u001b[0m \u001b[0mcbs\u001b[0m\u001b[0;34m=\u001b[0m\u001b[0;32mNone\u001b[0m\u001b[0;34m,\u001b[0m \u001b[0mreset_opt\u001b[0m\u001b[0;34m=\u001b[0m\u001b[0;32mFalse\u001b[0m\u001b[0;34m)\u001b[0m\u001b[0;34m:\u001b[0m\u001b[0;34m\u001b[0m\u001b[0;34m\u001b[0m\u001b[0m\n",
      "\u001b[0;32m~/miniconda3/envs/learn/lib/python3.8/site-packages/fastai/learner.py\u001b[0m in \u001b[0;36m_with_events\u001b[0;34m(self, f, event_type, ex, final)\u001b[0m\n\u001b[1;32m    158\u001b[0m \u001b[0;34m\u001b[0m\u001b[0m\n\u001b[1;32m    159\u001b[0m     \u001b[0;32mdef\u001b[0m \u001b[0m_with_events\u001b[0m\u001b[0;34m(\u001b[0m\u001b[0mself\u001b[0m\u001b[0;34m,\u001b[0m \u001b[0mf\u001b[0m\u001b[0;34m,\u001b[0m \u001b[0mevent_type\u001b[0m\u001b[0;34m,\u001b[0m \u001b[0mex\u001b[0m\u001b[0;34m,\u001b[0m \u001b[0mfinal\u001b[0m\u001b[0;34m=\u001b[0m\u001b[0mnoop\u001b[0m\u001b[0;34m)\u001b[0m\u001b[0;34m:\u001b[0m\u001b[0;34m\u001b[0m\u001b[0;34m\u001b[0m\u001b[0m\n\u001b[0;32m--> 160\u001b[0;31m         \u001b[0;32mtry\u001b[0m\u001b[0;34m:\u001b[0m \u001b[0mself\u001b[0m\u001b[0;34m(\u001b[0m\u001b[0;34mf'before_{event_type}'\u001b[0m\u001b[0;34m)\u001b[0m\u001b[0;34m;\u001b[0m  \u001b[0mf\u001b[0m\u001b[0;34m(\u001b[0m\u001b[0;34m)\u001b[0m\u001b[0;34m\u001b[0m\u001b[0;34m\u001b[0m\u001b[0m\n\u001b[0m\u001b[1;32m    161\u001b[0m         \u001b[0;32mexcept\u001b[0m \u001b[0mex\u001b[0m\u001b[0;34m:\u001b[0m \u001b[0mself\u001b[0m\u001b[0;34m(\u001b[0m\u001b[0;34mf'after_cancel_{event_type}'\u001b[0m\u001b[0;34m)\u001b[0m\u001b[0;34m\u001b[0m\u001b[0;34m\u001b[0m\u001b[0m\n\u001b[1;32m    162\u001b[0m         \u001b[0mself\u001b[0m\u001b[0;34m(\u001b[0m\u001b[0;34mf'after_{event_type}'\u001b[0m\u001b[0;34m)\u001b[0m\u001b[0;34m;\u001b[0m  \u001b[0mfinal\u001b[0m\u001b[0;34m(\u001b[0m\u001b[0;34m)\u001b[0m\u001b[0;34m\u001b[0m\u001b[0;34m\u001b[0m\u001b[0m\n",
      "\u001b[0;32m~/miniconda3/envs/learn/lib/python3.8/site-packages/fastai/learner.py\u001b[0m in \u001b[0;36m_do_epoch\u001b[0;34m(self)\u001b[0m\n\u001b[1;32m    194\u001b[0m \u001b[0;34m\u001b[0m\u001b[0m\n\u001b[1;32m    195\u001b[0m     \u001b[0;32mdef\u001b[0m \u001b[0m_do_epoch\u001b[0m\u001b[0;34m(\u001b[0m\u001b[0mself\u001b[0m\u001b[0;34m)\u001b[0m\u001b[0;34m:\u001b[0m\u001b[0;34m\u001b[0m\u001b[0;34m\u001b[0m\u001b[0m\n\u001b[0;32m--> 196\u001b[0;31m         \u001b[0mself\u001b[0m\u001b[0;34m.\u001b[0m\u001b[0m_do_epoch_train\u001b[0m\u001b[0;34m(\u001b[0m\u001b[0;34m)\u001b[0m\u001b[0;34m\u001b[0m\u001b[0;34m\u001b[0m\u001b[0m\n\u001b[0m\u001b[1;32m    197\u001b[0m         \u001b[0mself\u001b[0m\u001b[0;34m.\u001b[0m\u001b[0m_do_epoch_validate\u001b[0m\u001b[0;34m(\u001b[0m\u001b[0;34m)\u001b[0m\u001b[0;34m\u001b[0m\u001b[0;34m\u001b[0m\u001b[0m\n\u001b[1;32m    198\u001b[0m \u001b[0;34m\u001b[0m\u001b[0m\n",
      "\u001b[0;32m~/miniconda3/envs/learn/lib/python3.8/site-packages/fastai/learner.py\u001b[0m in \u001b[0;36m_do_epoch_train\u001b[0;34m(self)\u001b[0m\n\u001b[1;32m    186\u001b[0m     \u001b[0;32mdef\u001b[0m \u001b[0m_do_epoch_train\u001b[0m\u001b[0;34m(\u001b[0m\u001b[0mself\u001b[0m\u001b[0;34m)\u001b[0m\u001b[0;34m:\u001b[0m\u001b[0;34m\u001b[0m\u001b[0;34m\u001b[0m\u001b[0m\n\u001b[1;32m    187\u001b[0m         \u001b[0mself\u001b[0m\u001b[0;34m.\u001b[0m\u001b[0mdl\u001b[0m \u001b[0;34m=\u001b[0m \u001b[0mself\u001b[0m\u001b[0;34m.\u001b[0m\u001b[0mdls\u001b[0m\u001b[0;34m.\u001b[0m\u001b[0mtrain\u001b[0m\u001b[0;34m\u001b[0m\u001b[0;34m\u001b[0m\u001b[0m\n\u001b[0;32m--> 188\u001b[0;31m         \u001b[0mself\u001b[0m\u001b[0;34m.\u001b[0m\u001b[0m_with_events\u001b[0m\u001b[0;34m(\u001b[0m\u001b[0mself\u001b[0m\u001b[0;34m.\u001b[0m\u001b[0mall_batches\u001b[0m\u001b[0;34m,\u001b[0m \u001b[0;34m'train'\u001b[0m\u001b[0;34m,\u001b[0m \u001b[0mCancelTrainException\u001b[0m\u001b[0;34m)\u001b[0m\u001b[0;34m\u001b[0m\u001b[0;34m\u001b[0m\u001b[0m\n\u001b[0m\u001b[1;32m    189\u001b[0m \u001b[0;34m\u001b[0m\u001b[0m\n\u001b[1;32m    190\u001b[0m     \u001b[0;32mdef\u001b[0m \u001b[0m_do_epoch_validate\u001b[0m\u001b[0;34m(\u001b[0m\u001b[0mself\u001b[0m\u001b[0;34m,\u001b[0m \u001b[0mds_idx\u001b[0m\u001b[0;34m=\u001b[0m\u001b[0;36m1\u001b[0m\u001b[0;34m,\u001b[0m \u001b[0mdl\u001b[0m\u001b[0;34m=\u001b[0m\u001b[0;32mNone\u001b[0m\u001b[0;34m)\u001b[0m\u001b[0;34m:\u001b[0m\u001b[0;34m\u001b[0m\u001b[0;34m\u001b[0m\u001b[0m\n",
      "\u001b[0;32m~/miniconda3/envs/learn/lib/python3.8/site-packages/fastai/learner.py\u001b[0m in \u001b[0;36m_with_events\u001b[0;34m(self, f, event_type, ex, final)\u001b[0m\n\u001b[1;32m    158\u001b[0m \u001b[0;34m\u001b[0m\u001b[0m\n\u001b[1;32m    159\u001b[0m     \u001b[0;32mdef\u001b[0m \u001b[0m_with_events\u001b[0m\u001b[0;34m(\u001b[0m\u001b[0mself\u001b[0m\u001b[0;34m,\u001b[0m \u001b[0mf\u001b[0m\u001b[0;34m,\u001b[0m \u001b[0mevent_type\u001b[0m\u001b[0;34m,\u001b[0m \u001b[0mex\u001b[0m\u001b[0;34m,\u001b[0m \u001b[0mfinal\u001b[0m\u001b[0;34m=\u001b[0m\u001b[0mnoop\u001b[0m\u001b[0;34m)\u001b[0m\u001b[0;34m:\u001b[0m\u001b[0;34m\u001b[0m\u001b[0;34m\u001b[0m\u001b[0m\n\u001b[0;32m--> 160\u001b[0;31m         \u001b[0;32mtry\u001b[0m\u001b[0;34m:\u001b[0m \u001b[0mself\u001b[0m\u001b[0;34m(\u001b[0m\u001b[0;34mf'before_{event_type}'\u001b[0m\u001b[0;34m)\u001b[0m\u001b[0;34m;\u001b[0m  \u001b[0mf\u001b[0m\u001b[0;34m(\u001b[0m\u001b[0;34m)\u001b[0m\u001b[0;34m\u001b[0m\u001b[0;34m\u001b[0m\u001b[0m\n\u001b[0m\u001b[1;32m    161\u001b[0m         \u001b[0;32mexcept\u001b[0m \u001b[0mex\u001b[0m\u001b[0;34m:\u001b[0m \u001b[0mself\u001b[0m\u001b[0;34m(\u001b[0m\u001b[0;34mf'after_cancel_{event_type}'\u001b[0m\u001b[0;34m)\u001b[0m\u001b[0;34m\u001b[0m\u001b[0;34m\u001b[0m\u001b[0m\n\u001b[1;32m    162\u001b[0m         \u001b[0mself\u001b[0m\u001b[0;34m(\u001b[0m\u001b[0;34mf'after_{event_type}'\u001b[0m\u001b[0;34m)\u001b[0m\u001b[0;34m;\u001b[0m  \u001b[0mfinal\u001b[0m\u001b[0;34m(\u001b[0m\u001b[0;34m)\u001b[0m\u001b[0;34m\u001b[0m\u001b[0;34m\u001b[0m\u001b[0m\n",
      "\u001b[0;32m~/miniconda3/envs/learn/lib/python3.8/site-packages/fastai/learner.py\u001b[0m in \u001b[0;36mall_batches\u001b[0;34m(self)\u001b[0m\n\u001b[1;32m    164\u001b[0m     \u001b[0;32mdef\u001b[0m \u001b[0mall_batches\u001b[0m\u001b[0;34m(\u001b[0m\u001b[0mself\u001b[0m\u001b[0;34m)\u001b[0m\u001b[0;34m:\u001b[0m\u001b[0;34m\u001b[0m\u001b[0;34m\u001b[0m\u001b[0m\n\u001b[1;32m    165\u001b[0m         \u001b[0mself\u001b[0m\u001b[0;34m.\u001b[0m\u001b[0mn_iter\u001b[0m \u001b[0;34m=\u001b[0m \u001b[0mlen\u001b[0m\u001b[0;34m(\u001b[0m\u001b[0mself\u001b[0m\u001b[0;34m.\u001b[0m\u001b[0mdl\u001b[0m\u001b[0;34m)\u001b[0m\u001b[0;34m\u001b[0m\u001b[0;34m\u001b[0m\u001b[0m\n\u001b[0;32m--> 166\u001b[0;31m         \u001b[0;32mfor\u001b[0m \u001b[0mo\u001b[0m \u001b[0;32min\u001b[0m \u001b[0menumerate\u001b[0m\u001b[0;34m(\u001b[0m\u001b[0mself\u001b[0m\u001b[0;34m.\u001b[0m\u001b[0mdl\u001b[0m\u001b[0;34m)\u001b[0m\u001b[0;34m:\u001b[0m \u001b[0mself\u001b[0m\u001b[0;34m.\u001b[0m\u001b[0mone_batch\u001b[0m\u001b[0;34m(\u001b[0m\u001b[0;34m*\u001b[0m\u001b[0mo\u001b[0m\u001b[0;34m)\u001b[0m\u001b[0;34m\u001b[0m\u001b[0;34m\u001b[0m\u001b[0m\n\u001b[0m\u001b[1;32m    167\u001b[0m \u001b[0;34m\u001b[0m\u001b[0m\n\u001b[1;32m    168\u001b[0m     \u001b[0;32mdef\u001b[0m \u001b[0m_do_one_batch\u001b[0m\u001b[0;34m(\u001b[0m\u001b[0mself\u001b[0m\u001b[0;34m)\u001b[0m\u001b[0;34m:\u001b[0m\u001b[0;34m\u001b[0m\u001b[0;34m\u001b[0m\u001b[0m\n",
      "\u001b[0;32m~/miniconda3/envs/learn/lib/python3.8/site-packages/fastai/learner.py\u001b[0m in \u001b[0;36mone_batch\u001b[0;34m(self, i, b)\u001b[0m\n\u001b[1;32m    182\u001b[0m         \u001b[0mself\u001b[0m\u001b[0;34m.\u001b[0m\u001b[0miter\u001b[0m \u001b[0;34m=\u001b[0m \u001b[0mi\u001b[0m\u001b[0;34m\u001b[0m\u001b[0;34m\u001b[0m\u001b[0m\n\u001b[1;32m    183\u001b[0m         \u001b[0mself\u001b[0m\u001b[0;34m.\u001b[0m\u001b[0m_split\u001b[0m\u001b[0;34m(\u001b[0m\u001b[0mb\u001b[0m\u001b[0;34m)\u001b[0m\u001b[0;34m\u001b[0m\u001b[0;34m\u001b[0m\u001b[0m\n\u001b[0;32m--> 184\u001b[0;31m         \u001b[0mself\u001b[0m\u001b[0;34m.\u001b[0m\u001b[0m_with_events\u001b[0m\u001b[0;34m(\u001b[0m\u001b[0mself\u001b[0m\u001b[0;34m.\u001b[0m\u001b[0m_do_one_batch\u001b[0m\u001b[0;34m,\u001b[0m \u001b[0;34m'batch'\u001b[0m\u001b[0;34m,\u001b[0m \u001b[0mCancelBatchException\u001b[0m\u001b[0;34m)\u001b[0m\u001b[0;34m\u001b[0m\u001b[0;34m\u001b[0m\u001b[0m\n\u001b[0m\u001b[1;32m    185\u001b[0m \u001b[0;34m\u001b[0m\u001b[0m\n\u001b[1;32m    186\u001b[0m     \u001b[0;32mdef\u001b[0m \u001b[0m_do_epoch_train\u001b[0m\u001b[0;34m(\u001b[0m\u001b[0mself\u001b[0m\u001b[0;34m)\u001b[0m\u001b[0;34m:\u001b[0m\u001b[0;34m\u001b[0m\u001b[0;34m\u001b[0m\u001b[0m\n",
      "\u001b[0;32m~/miniconda3/envs/learn/lib/python3.8/site-packages/fastai/learner.py\u001b[0m in \u001b[0;36m_with_events\u001b[0;34m(self, f, event_type, ex, final)\u001b[0m\n\u001b[1;32m    158\u001b[0m \u001b[0;34m\u001b[0m\u001b[0m\n\u001b[1;32m    159\u001b[0m     \u001b[0;32mdef\u001b[0m \u001b[0m_with_events\u001b[0m\u001b[0;34m(\u001b[0m\u001b[0mself\u001b[0m\u001b[0;34m,\u001b[0m \u001b[0mf\u001b[0m\u001b[0;34m,\u001b[0m \u001b[0mevent_type\u001b[0m\u001b[0;34m,\u001b[0m \u001b[0mex\u001b[0m\u001b[0;34m,\u001b[0m \u001b[0mfinal\u001b[0m\u001b[0;34m=\u001b[0m\u001b[0mnoop\u001b[0m\u001b[0;34m)\u001b[0m\u001b[0;34m:\u001b[0m\u001b[0;34m\u001b[0m\u001b[0;34m\u001b[0m\u001b[0m\n\u001b[0;32m--> 160\u001b[0;31m         \u001b[0;32mtry\u001b[0m\u001b[0;34m:\u001b[0m \u001b[0mself\u001b[0m\u001b[0;34m(\u001b[0m\u001b[0;34mf'before_{event_type}'\u001b[0m\u001b[0;34m)\u001b[0m\u001b[0;34m;\u001b[0m  \u001b[0mf\u001b[0m\u001b[0;34m(\u001b[0m\u001b[0;34m)\u001b[0m\u001b[0;34m\u001b[0m\u001b[0;34m\u001b[0m\u001b[0m\n\u001b[0m\u001b[1;32m    161\u001b[0m         \u001b[0;32mexcept\u001b[0m \u001b[0mex\u001b[0m\u001b[0;34m:\u001b[0m \u001b[0mself\u001b[0m\u001b[0;34m(\u001b[0m\u001b[0;34mf'after_cancel_{event_type}'\u001b[0m\u001b[0;34m)\u001b[0m\u001b[0;34m\u001b[0m\u001b[0;34m\u001b[0m\u001b[0m\n\u001b[1;32m    162\u001b[0m         \u001b[0mself\u001b[0m\u001b[0;34m(\u001b[0m\u001b[0;34mf'after_{event_type}'\u001b[0m\u001b[0;34m)\u001b[0m\u001b[0;34m;\u001b[0m  \u001b[0mfinal\u001b[0m\u001b[0;34m(\u001b[0m\u001b[0;34m)\u001b[0m\u001b[0;34m\u001b[0m\u001b[0;34m\u001b[0m\u001b[0m\n",
      "\u001b[0;32m~/miniconda3/envs/learn/lib/python3.8/site-packages/fastai/learner.py\u001b[0m in \u001b[0;36m_do_one_batch\u001b[0;34m(self)\u001b[0m\n\u001b[1;32m    175\u001b[0m         \u001b[0;32mif\u001b[0m \u001b[0;32mnot\u001b[0m \u001b[0mself\u001b[0m\u001b[0;34m.\u001b[0m\u001b[0mtraining\u001b[0m \u001b[0;32mor\u001b[0m \u001b[0;32mnot\u001b[0m \u001b[0mlen\u001b[0m\u001b[0;34m(\u001b[0m\u001b[0mself\u001b[0m\u001b[0;34m.\u001b[0m\u001b[0myb\u001b[0m\u001b[0;34m)\u001b[0m\u001b[0;34m:\u001b[0m \u001b[0;32mreturn\u001b[0m\u001b[0;34m\u001b[0m\u001b[0;34m\u001b[0m\u001b[0m\n\u001b[1;32m    176\u001b[0m         \u001b[0mself\u001b[0m\u001b[0;34m(\u001b[0m\u001b[0;34m'before_backward'\u001b[0m\u001b[0;34m)\u001b[0m\u001b[0;34m\u001b[0m\u001b[0;34m\u001b[0m\u001b[0m\n\u001b[0;32m--> 177\u001b[0;31m         \u001b[0mself\u001b[0m\u001b[0;34m.\u001b[0m\u001b[0mloss_grad\u001b[0m\u001b[0;34m.\u001b[0m\u001b[0mbackward\u001b[0m\u001b[0;34m(\u001b[0m\u001b[0;34m)\u001b[0m\u001b[0;34m\u001b[0m\u001b[0;34m\u001b[0m\u001b[0m\n\u001b[0m\u001b[1;32m    178\u001b[0m         \u001b[0mself\u001b[0m\u001b[0;34m.\u001b[0m\u001b[0m_with_events\u001b[0m\u001b[0;34m(\u001b[0m\u001b[0mself\u001b[0m\u001b[0;34m.\u001b[0m\u001b[0mopt\u001b[0m\u001b[0;34m.\u001b[0m\u001b[0mstep\u001b[0m\u001b[0;34m,\u001b[0m \u001b[0;34m'step'\u001b[0m\u001b[0;34m,\u001b[0m \u001b[0mCancelStepException\u001b[0m\u001b[0;34m)\u001b[0m\u001b[0;34m\u001b[0m\u001b[0;34m\u001b[0m\u001b[0m\n\u001b[1;32m    179\u001b[0m         \u001b[0mself\u001b[0m\u001b[0;34m.\u001b[0m\u001b[0mopt\u001b[0m\u001b[0;34m.\u001b[0m\u001b[0mzero_grad\u001b[0m\u001b[0;34m(\u001b[0m\u001b[0;34m)\u001b[0m\u001b[0;34m\u001b[0m\u001b[0;34m\u001b[0m\u001b[0m\n",
      "\u001b[0;32m~/miniconda3/envs/learn/lib/python3.8/site-packages/torch/tensor.py\u001b[0m in \u001b[0;36mbackward\u001b[0;34m(self, gradient, retain_graph, create_graph)\u001b[0m\n\u001b[1;32m    212\u001b[0m         \u001b[0;32mfrom\u001b[0m \u001b[0mtorch\u001b[0m\u001b[0;34m.\u001b[0m\u001b[0moverrides\u001b[0m \u001b[0;32mimport\u001b[0m \u001b[0mhas_torch_function\u001b[0m\u001b[0;34m,\u001b[0m \u001b[0mhandle_torch_function\u001b[0m\u001b[0;34m\u001b[0m\u001b[0;34m\u001b[0m\u001b[0m\n\u001b[1;32m    213\u001b[0m         \u001b[0;32mif\u001b[0m \u001b[0mtype\u001b[0m\u001b[0;34m(\u001b[0m\u001b[0mself\u001b[0m\u001b[0;34m)\u001b[0m \u001b[0;32mis\u001b[0m \u001b[0;32mnot\u001b[0m \u001b[0mTensor\u001b[0m \u001b[0;32mand\u001b[0m \u001b[0mhas_torch_function\u001b[0m\u001b[0;34m(\u001b[0m\u001b[0mrelevant_args\u001b[0m\u001b[0;34m)\u001b[0m\u001b[0;34m:\u001b[0m\u001b[0;34m\u001b[0m\u001b[0;34m\u001b[0m\u001b[0m\n\u001b[0;32m--> 214\u001b[0;31m             return handle_torch_function(\n\u001b[0m\u001b[1;32m    215\u001b[0m                 \u001b[0mTensor\u001b[0m\u001b[0;34m.\u001b[0m\u001b[0mbackward\u001b[0m\u001b[0;34m,\u001b[0m\u001b[0;34m\u001b[0m\u001b[0;34m\u001b[0m\u001b[0m\n\u001b[1;32m    216\u001b[0m                 \u001b[0mrelevant_args\u001b[0m\u001b[0;34m,\u001b[0m\u001b[0;34m\u001b[0m\u001b[0;34m\u001b[0m\u001b[0m\n",
      "\u001b[0;32m~/miniconda3/envs/learn/lib/python3.8/site-packages/torch/overrides.py\u001b[0m in \u001b[0;36mhandle_torch_function\u001b[0;34m(public_api, relevant_args, *args, **kwargs)\u001b[0m\n\u001b[1;32m   1061\u001b[0m         \u001b[0;31m# Use `public_api` instead of `implementation` so __torch_function__\u001b[0m\u001b[0;34m\u001b[0m\u001b[0;34m\u001b[0m\u001b[0;34m\u001b[0m\u001b[0m\n\u001b[1;32m   1062\u001b[0m         \u001b[0;31m# implementations can do equality/identity comparisons.\u001b[0m\u001b[0;34m\u001b[0m\u001b[0;34m\u001b[0m\u001b[0;34m\u001b[0m\u001b[0m\n\u001b[0;32m-> 1063\u001b[0;31m         \u001b[0mresult\u001b[0m \u001b[0;34m=\u001b[0m \u001b[0moverloaded_arg\u001b[0m\u001b[0;34m.\u001b[0m\u001b[0m__torch_function__\u001b[0m\u001b[0;34m(\u001b[0m\u001b[0mpublic_api\u001b[0m\u001b[0;34m,\u001b[0m \u001b[0mtypes\u001b[0m\u001b[0;34m,\u001b[0m \u001b[0margs\u001b[0m\u001b[0;34m,\u001b[0m \u001b[0mkwargs\u001b[0m\u001b[0;34m)\u001b[0m\u001b[0;34m\u001b[0m\u001b[0;34m\u001b[0m\u001b[0m\n\u001b[0m\u001b[1;32m   1064\u001b[0m \u001b[0;34m\u001b[0m\u001b[0m\n\u001b[1;32m   1065\u001b[0m         \u001b[0;32mif\u001b[0m \u001b[0mresult\u001b[0m \u001b[0;32mis\u001b[0m \u001b[0;32mnot\u001b[0m \u001b[0mNotImplemented\u001b[0m\u001b[0;34m:\u001b[0m\u001b[0;34m\u001b[0m\u001b[0;34m\u001b[0m\u001b[0m\n",
      "\u001b[0;32m~/miniconda3/envs/learn/lib/python3.8/site-packages/fastai/torch_core.py\u001b[0m in \u001b[0;36m__torch_function__\u001b[0;34m(self, func, types, args, kwargs)\u001b[0m\n\u001b[1;32m    323\u001b[0m         \u001b[0mconvert\u001b[0m\u001b[0;34m=\u001b[0m\u001b[0;32mFalse\u001b[0m\u001b[0;34m\u001b[0m\u001b[0;34m\u001b[0m\u001b[0m\n\u001b[1;32m    324\u001b[0m         \u001b[0;32mif\u001b[0m \u001b[0m_torch_handled\u001b[0m\u001b[0;34m(\u001b[0m\u001b[0margs\u001b[0m\u001b[0;34m,\u001b[0m \u001b[0mself\u001b[0m\u001b[0;34m.\u001b[0m\u001b[0m_opt\u001b[0m\u001b[0;34m,\u001b[0m \u001b[0mfunc\u001b[0m\u001b[0;34m)\u001b[0m\u001b[0;34m:\u001b[0m \u001b[0mconvert\u001b[0m\u001b[0;34m,\u001b[0m\u001b[0mtypes\u001b[0m \u001b[0;34m=\u001b[0m \u001b[0mtype\u001b[0m\u001b[0;34m(\u001b[0m\u001b[0mself\u001b[0m\u001b[0;34m)\u001b[0m\u001b[0;34m,\u001b[0m\u001b[0;34m(\u001b[0m\u001b[0mtorch\u001b[0m\u001b[0;34m.\u001b[0m\u001b[0mTensor\u001b[0m\u001b[0;34m,\u001b[0m\u001b[0;34m)\u001b[0m\u001b[0;34m\u001b[0m\u001b[0;34m\u001b[0m\u001b[0m\n\u001b[0;32m--> 325\u001b[0;31m         \u001b[0mres\u001b[0m \u001b[0;34m=\u001b[0m \u001b[0msuper\u001b[0m\u001b[0;34m(\u001b[0m\u001b[0;34m)\u001b[0m\u001b[0;34m.\u001b[0m\u001b[0m__torch_function__\u001b[0m\u001b[0;34m(\u001b[0m\u001b[0mfunc\u001b[0m\u001b[0;34m,\u001b[0m \u001b[0mtypes\u001b[0m\u001b[0;34m,\u001b[0m \u001b[0margs\u001b[0m\u001b[0;34m=\u001b[0m\u001b[0margs\u001b[0m\u001b[0;34m,\u001b[0m \u001b[0mkwargs\u001b[0m\u001b[0;34m=\u001b[0m\u001b[0mkwargs\u001b[0m\u001b[0;34m)\u001b[0m\u001b[0;34m\u001b[0m\u001b[0;34m\u001b[0m\u001b[0m\n\u001b[0m\u001b[1;32m    326\u001b[0m         \u001b[0;32mif\u001b[0m \u001b[0mconvert\u001b[0m\u001b[0;34m:\u001b[0m \u001b[0mres\u001b[0m \u001b[0;34m=\u001b[0m \u001b[0mconvert\u001b[0m\u001b[0;34m(\u001b[0m\u001b[0mres\u001b[0m\u001b[0;34m)\u001b[0m\u001b[0;34m\u001b[0m\u001b[0;34m\u001b[0m\u001b[0m\n\u001b[1;32m    327\u001b[0m         \u001b[0;32mif\u001b[0m \u001b[0misinstance\u001b[0m\u001b[0;34m(\u001b[0m\u001b[0mres\u001b[0m\u001b[0;34m,\u001b[0m \u001b[0mTensorBase\u001b[0m\u001b[0;34m)\u001b[0m\u001b[0;34m:\u001b[0m \u001b[0mres\u001b[0m\u001b[0;34m.\u001b[0m\u001b[0mset_meta\u001b[0m\u001b[0;34m(\u001b[0m\u001b[0mself\u001b[0m\u001b[0;34m,\u001b[0m \u001b[0mas_copy\u001b[0m\u001b[0;34m=\u001b[0m\u001b[0;32mTrue\u001b[0m\u001b[0;34m)\u001b[0m\u001b[0;34m\u001b[0m\u001b[0;34m\u001b[0m\u001b[0m\n",
      "\u001b[0;32m~/miniconda3/envs/learn/lib/python3.8/site-packages/torch/tensor.py\u001b[0m in \u001b[0;36m__torch_function__\u001b[0;34m(cls, func, types, args, kwargs)\u001b[0m\n\u001b[1;32m    993\u001b[0m \u001b[0;34m\u001b[0m\u001b[0m\n\u001b[1;32m    994\u001b[0m         \u001b[0;32mwith\u001b[0m \u001b[0m_C\u001b[0m\u001b[0;34m.\u001b[0m\u001b[0mDisableTorchFunction\u001b[0m\u001b[0;34m(\u001b[0m\u001b[0;34m)\u001b[0m\u001b[0;34m:\u001b[0m\u001b[0;34m\u001b[0m\u001b[0;34m\u001b[0m\u001b[0m\n\u001b[0;32m--> 995\u001b[0;31m             \u001b[0mret\u001b[0m \u001b[0;34m=\u001b[0m \u001b[0mfunc\u001b[0m\u001b[0;34m(\u001b[0m\u001b[0;34m*\u001b[0m\u001b[0margs\u001b[0m\u001b[0;34m,\u001b[0m \u001b[0;34m**\u001b[0m\u001b[0mkwargs\u001b[0m\u001b[0;34m)\u001b[0m\u001b[0;34m\u001b[0m\u001b[0;34m\u001b[0m\u001b[0m\n\u001b[0m\u001b[1;32m    996\u001b[0m             \u001b[0;32mreturn\u001b[0m \u001b[0m_convert\u001b[0m\u001b[0;34m(\u001b[0m\u001b[0mret\u001b[0m\u001b[0;34m,\u001b[0m \u001b[0mcls\u001b[0m\u001b[0;34m)\u001b[0m\u001b[0;34m\u001b[0m\u001b[0;34m\u001b[0m\u001b[0m\n\u001b[1;32m    997\u001b[0m \u001b[0;34m\u001b[0m\u001b[0m\n",
      "\u001b[0;32m~/miniconda3/envs/learn/lib/python3.8/site-packages/torch/tensor.py\u001b[0m in \u001b[0;36mbackward\u001b[0;34m(self, gradient, retain_graph, create_graph)\u001b[0m\n\u001b[1;32m    219\u001b[0m                 \u001b[0mretain_graph\u001b[0m\u001b[0;34m=\u001b[0m\u001b[0mretain_graph\u001b[0m\u001b[0;34m,\u001b[0m\u001b[0;34m\u001b[0m\u001b[0;34m\u001b[0m\u001b[0m\n\u001b[1;32m    220\u001b[0m                 create_graph=create_graph)\n\u001b[0;32m--> 221\u001b[0;31m         \u001b[0mtorch\u001b[0m\u001b[0;34m.\u001b[0m\u001b[0mautograd\u001b[0m\u001b[0;34m.\u001b[0m\u001b[0mbackward\u001b[0m\u001b[0;34m(\u001b[0m\u001b[0mself\u001b[0m\u001b[0;34m,\u001b[0m \u001b[0mgradient\u001b[0m\u001b[0;34m,\u001b[0m \u001b[0mretain_graph\u001b[0m\u001b[0;34m,\u001b[0m \u001b[0mcreate_graph\u001b[0m\u001b[0;34m)\u001b[0m\u001b[0;34m\u001b[0m\u001b[0;34m\u001b[0m\u001b[0m\n\u001b[0m\u001b[1;32m    222\u001b[0m \u001b[0;34m\u001b[0m\u001b[0m\n\u001b[1;32m    223\u001b[0m     \u001b[0;32mdef\u001b[0m \u001b[0mregister_hook\u001b[0m\u001b[0;34m(\u001b[0m\u001b[0mself\u001b[0m\u001b[0;34m,\u001b[0m \u001b[0mhook\u001b[0m\u001b[0;34m)\u001b[0m\u001b[0;34m:\u001b[0m\u001b[0;34m\u001b[0m\u001b[0;34m\u001b[0m\u001b[0m\n",
      "\u001b[0;32m~/miniconda3/envs/learn/lib/python3.8/site-packages/torch/autograd/__init__.py\u001b[0m in \u001b[0;36mbackward\u001b[0;34m(tensors, grad_tensors, retain_graph, create_graph, grad_variables)\u001b[0m\n\u001b[1;32m    128\u001b[0m         \u001b[0mretain_graph\u001b[0m \u001b[0;34m=\u001b[0m \u001b[0mcreate_graph\u001b[0m\u001b[0;34m\u001b[0m\u001b[0;34m\u001b[0m\u001b[0m\n\u001b[1;32m    129\u001b[0m \u001b[0;34m\u001b[0m\u001b[0m\n\u001b[0;32m--> 130\u001b[0;31m     Variable._execution_engine.run_backward(\n\u001b[0m\u001b[1;32m    131\u001b[0m         \u001b[0mtensors\u001b[0m\u001b[0;34m,\u001b[0m \u001b[0mgrad_tensors_\u001b[0m\u001b[0;34m,\u001b[0m \u001b[0mretain_graph\u001b[0m\u001b[0;34m,\u001b[0m \u001b[0mcreate_graph\u001b[0m\u001b[0;34m,\u001b[0m\u001b[0;34m\u001b[0m\u001b[0;34m\u001b[0m\u001b[0m\n\u001b[1;32m    132\u001b[0m         allow_unreachable=True)  # allow_unreachable flag\n",
      "\u001b[0;31mKeyboardInterrupt\u001b[0m: "
     ]
    }
   ],
   "source": [
    "learn.fit_flat_cos(EPOCHS, slice(LR_CHOICE_UNFROZ), pct_start=0.68)"
   ]
  },
  {
   "cell_type": "markdown",
   "id": "exposed-rebate",
   "metadata": {},
   "source": [
    "<br>\n",
    "<br>\n",
    "\n",
    "## Persist the Model"
   ]
  },
  {
   "cell_type": "code",
   "execution_count": 26,
   "id": "limited-theology",
   "metadata": {
    "execution": {
     "iopub.execute_input": "2021-02-07T21:00:08.635592Z",
     "iopub.status.busy": "2021-02-07T21:00:08.635307Z",
     "iopub.status.idle": "2021-02-07T21:00:08.908805Z",
     "shell.execute_reply": "2021-02-07T21:00:08.908387Z",
     "shell.execute_reply.started": "2021-02-07T21:00:08.635567Z"
    }
   },
   "outputs": [],
   "source": [
    "learn.export(f'../models/{RUN_NAME}.pkl')\n",
    "# path = Path('../models')\n",
    "# path.ls(file_exts='.pkl')"
   ]
  },
  {
   "cell_type": "markdown",
   "id": "concerned-hebrew",
   "metadata": {},
   "source": [
    "<br>\n",
    "<br>"
   ]
  },
  {
   "cell_type": "markdown",
   "id": "caroline-broad",
   "metadata": {},
   "source": [
    "### Show some Results"
   ]
  },
  {
   "cell_type": "code",
   "execution_count": 27,
   "id": "confused-hampshire",
   "metadata": {
    "execution": {
     "iopub.execute_input": "2021-02-07T21:00:10.473222Z",
     "iopub.status.busy": "2021-02-07T21:00:10.472962Z",
     "iopub.status.idle": "2021-02-07T21:00:11.626978Z",
     "shell.execute_reply": "2021-02-07T21:00:11.626700Z",
     "shell.execute_reply.started": "2021-02-07T21:00:10.473200Z"
    }
   },
   "outputs": [
    {
     "data": {
      "application/vnd.jupyter.widget-view+json": {
       "model_id": "0bc613e94e4e4e1fa8fdd28f81f7d3ed",
       "version_major": 2,
       "version_minor": 0
      },
      "text/plain": [
       "Canvas(toolbar=Toolbar(toolitems=[('Home', 'Reset original view', 'home', 'home'), ('Back', 'Back to previous …"
      ]
     },
     "metadata": {},
     "output_type": "display_data"
    }
   ],
   "source": [
    "learn.show_results()"
   ]
  },
  {
   "cell_type": "markdown",
   "id": "private-offset",
   "metadata": {},
   "source": [
    "<br>\n",
    "<hr>\n",
    "<br>\n",
    "<br>\n",
    "<br>"
   ]
  },
  {
   "cell_type": "markdown",
   "id": "reserved-bangladesh",
   "metadata": {},
   "source": [
    "# Validation Set (not test set) Analysis"
   ]
  },
  {
   "cell_type": "markdown",
   "id": "tamil-awareness",
   "metadata": {},
   "source": [
    "<br>\n",
    "\n",
    "### Plot Losses"
   ]
  },
  {
   "cell_type": "code",
   "execution_count": 28,
   "id": "moving-resistance",
   "metadata": {
    "execution": {
     "iopub.execute_input": "2021-02-07T21:00:41.925073Z",
     "iopub.status.busy": "2021-02-07T21:00:41.924821Z",
     "iopub.status.idle": "2021-02-07T21:00:41.927321Z",
     "shell.execute_reply": "2021-02-07T21:00:41.926850Z",
     "shell.execute_reply.started": "2021-02-07T21:00:41.925049Z"
    }
   },
   "outputs": [],
   "source": [
    "# learn.recorder.plot_loss()\n",
    "# plt.ylabel('Loss')\n",
    "# plt.xlabel('Batches Processed')"
   ]
  },
  {
   "cell_type": "markdown",
   "id": "apparent-steps",
   "metadata": {},
   "source": [
    "<br>\n",
    "\n",
    "### Visualize with a confusion Matrix"
   ]
  },
  {
   "cell_type": "code",
   "execution_count": 29,
   "id": "considered-element",
   "metadata": {
    "execution": {
     "iopub.execute_input": "2021-02-07T21:00:42.788125Z",
     "iopub.status.busy": "2021-02-07T21:00:42.787877Z",
     "iopub.status.idle": "2021-02-07T21:01:03.426035Z",
     "shell.execute_reply": "2021-02-07T21:01:03.425657Z",
     "shell.execute_reply.started": "2021-02-07T21:00:42.788103Z"
    }
   },
   "outputs": [
    {
     "data": {
      "text/html": [],
      "text/plain": [
       "<IPython.core.display.HTML object>"
      ]
     },
     "metadata": {},
     "output_type": "display_data"
    },
    {
     "data": {
      "application/vnd.jupyter.widget-view+json": {
       "model_id": "a80d48e2e9374fadb22e2735dc86f14f",
       "version_major": 2,
       "version_minor": 0
      },
      "text/plain": [
       "Canvas(toolbar=Toolbar(toolitems=[('Home', 'Reset original view', 'home', 'home'), ('Back', 'Back to previous …"
      ]
     },
     "metadata": {},
     "output_type": "display_data"
    }
   ],
   "source": [
    "interp = ClassificationInterpretation.from_learner(learn)\n",
    "interp.plot_confusion_matrix(figsize=(8,8))"
   ]
  },
  {
   "cell_type": "code",
   "execution_count": 30,
   "id": "dedicated-andrew",
   "metadata": {
    "execution": {
     "iopub.execute_input": "2021-02-07T21:01:16.369472Z",
     "iopub.status.busy": "2021-02-07T21:01:16.369215Z",
     "iopub.status.idle": "2021-02-07T21:01:16.375863Z",
     "shell.execute_reply": "2021-02-07T21:01:16.375115Z",
     "shell.execute_reply.started": "2021-02-07T21:01:16.369443Z"
    }
   },
   "outputs": [
    {
     "data": {
      "text/plain": [
       "[('cbb', 'healthy', 105),\n",
       " ('healthy', 'cbb', 88),\n",
       " ('cbsd', 'cbb', 70),\n",
       " ('healthy', 'cbsd', 65),\n",
       " ('cbb', 'cbsd', 58),\n",
       " ('cgm', 'healthy', 57),\n",
       " ('cbsd', 'healthy', 56),\n",
       " ('cmd', 'cgm', 52),\n",
       " ('healthy', 'cgm', 52),\n",
       " ('cgm', 'cmd', 49)]"
      ]
     },
     "execution_count": 30,
     "metadata": {},
     "output_type": "execute_result"
    }
   ],
   "source": [
    "interp.most_confused()[:10]"
   ]
  },
  {
   "cell_type": "markdown",
   "id": "regional-alignment",
   "metadata": {},
   "source": [
    "<br>\n",
    "<br>"
   ]
  },
  {
   "cell_type": "markdown",
   "id": "instructional-theater",
   "metadata": {},
   "source": [
    "## Classification Report"
   ]
  },
  {
   "cell_type": "code",
   "execution_count": 31,
   "id": "opposed-springer",
   "metadata": {
    "execution": {
     "iopub.execute_input": "2021-02-07T21:01:17.711525Z",
     "iopub.status.busy": "2021-02-07T21:01:17.711271Z",
     "iopub.status.idle": "2021-02-07T21:01:17.722880Z",
     "shell.execute_reply": "2021-02-07T21:01:17.722467Z",
     "shell.execute_reply.started": "2021-02-07T21:01:17.711502Z"
    }
   },
   "outputs": [
    {
     "name": "stdout",
     "output_type": "stream",
     "text": [
      "              precision    recall  f1-score   support\n",
      "\n",
      "         cbb       0.73      0.73      0.73       695\n",
      "        cbsd       0.76      0.74      0.75       706\n",
      "         cgm       0.77      0.77      0.77       672\n",
      "         cmd       0.83      0.83      0.83       660\n",
      "     healthy       0.65      0.66      0.66       691\n",
      "\n",
      "    accuracy                           0.75      3424\n",
      "   macro avg       0.75      0.75      0.75      3424\n",
      "weighted avg       0.75      0.75      0.75      3424\n",
      "\n"
     ]
    }
   ],
   "source": [
    "interp.print_classification_report()"
   ]
  },
  {
   "cell_type": "markdown",
   "id": "demanding-tension",
   "metadata": {},
   "source": [
    "<br>\n",
    "\n",
    "### Show the top 15 most error prone images"
   ]
  },
  {
   "cell_type": "code",
   "execution_count": 32,
   "id": "beginning-translator",
   "metadata": {
    "execution": {
     "iopub.execute_input": "2021-02-07T21:01:18.849747Z",
     "iopub.status.busy": "2021-02-07T21:01:18.849465Z",
     "iopub.status.idle": "2021-02-07T21:01:19.060444Z",
     "shell.execute_reply": "2021-02-07T21:01:19.060133Z",
     "shell.execute_reply.started": "2021-02-07T21:01:18.849722Z"
    }
   },
   "outputs": [
    {
     "data": {
      "application/vnd.jupyter.widget-view+json": {
       "model_id": "cd519da0edb3467fb669625711657ed5",
       "version_major": 2,
       "version_minor": 0
      },
      "text/plain": [
       "Canvas(toolbar=Toolbar(toolitems=[('Home', 'Reset original view', 'home', 'home'), ('Back', 'Back to previous …"
      ]
     },
     "metadata": {},
     "output_type": "display_data"
    }
   ],
   "source": [
    "interp.plot_top_losses(15, nrows=5)"
   ]
  },
  {
   "cell_type": "markdown",
   "id": "introductory-hammer",
   "metadata": {},
   "source": [
    "## Validation"
   ]
  },
  {
   "cell_type": "code",
   "execution_count": 33,
   "id": "judicial-endorsement",
   "metadata": {
    "execution": {
     "iopub.execute_input": "2021-02-07T21:01:20.903007Z",
     "iopub.status.busy": "2021-02-07T21:01:20.902749Z",
     "iopub.status.idle": "2021-02-07T21:01:20.905526Z",
     "shell.execute_reply": "2021-02-07T21:01:20.905002Z",
     "shell.execute_reply.started": "2021-02-07T21:01:20.902984Z"
    }
   },
   "outputs": [],
   "source": [
    "test_learn = learn\n",
    "\n",
    "# load_learner('../models/20210205-1716 - arch=xresnet34 - samples=1800 frozen=1 epochs=40 bs=32 res=340.pkl', cpu=False)\n",
    "# load_model(f'models/{RUN_NAME}_26.pth', test_learn, opt=Adam, with_opt=False)\n"
   ]
  },
  {
   "cell_type": "code",
   "execution_count": 34,
   "id": "affected-garbage",
   "metadata": {
    "execution": {
     "iopub.execute_input": "2021-02-07T21:01:22.548813Z",
     "iopub.status.busy": "2021-02-07T21:01:22.548623Z",
     "iopub.status.idle": "2021-02-07T21:01:22.551615Z",
     "shell.execute_reply": "2021-02-07T21:01:22.551075Z",
     "shell.execute_reply.started": "2021-02-07T21:01:22.548798Z"
    }
   },
   "outputs": [],
   "source": [
    "def get_test_fnames(path):\n",
    "    retlist = []\n",
    "    \n",
    "    for l in test_flist.values():\n",
    "        for f in l:\n",
    "            retlist.append(f)\n",
    "            \n",
    "    return random.sample(retlist, len(retlist))"
   ]
  },
  {
   "cell_type": "code",
   "execution_count": 35,
   "id": "basic-steering",
   "metadata": {
    "execution": {
     "iopub.execute_input": "2021-02-07T21:01:23.548115Z",
     "iopub.status.busy": "2021-02-07T21:01:23.547928Z",
     "iopub.status.idle": "2021-02-07T21:01:23.653145Z",
     "shell.execute_reply": "2021-02-07T21:01:23.652769Z",
     "shell.execute_reply.started": "2021-02-07T21:01:23.548101Z"
    }
   },
   "outputs": [],
   "source": [
    "test_db = DataBlock(\n",
    "    blocks=(ImageBlock, CategoryBlock), \n",
    "    get_items=get_test_fnames,\n",
    "    get_y=parent_label, \n",
    "    item_tfms=Resize(RESOLUTION, method='bilinear')) #,\n",
    "#     item_tfms=CropPad(RESOLUTION, pad_mode='zeros'))\n",
    "#    ,    batch_tfms=aug_transforms(do_flip=True, size=RESOLUTION, batch=False, max_zoom=1.0, mult=1, pad_mode='zeros'))\n",
    "\n",
    "\n",
    "dls = test_db.dataloaders(get_test_fnames, bs=BATCH_SIZE)\n",
    "\n",
    "test_dl = dls.test_dl(get_test_fnames('None'), with_labels=True)"
   ]
  },
  {
   "cell_type": "markdown",
   "id": "fewer-sterling",
   "metadata": {},
   "source": [
    "####  Get the Inferrences on the Test Set"
   ]
  },
  {
   "cell_type": "code",
   "execution_count": null,
   "id": "still-circumstances",
   "metadata": {
    "execution": {
     "iopub.execute_input": "2021-02-07T21:01:24.658549Z",
     "iopub.status.busy": "2021-02-07T21:01:24.658287Z"
    }
   },
   "outputs": [
    {
     "data": {
      "text/html": [
       "\n",
       "    <div>\n",
       "        <style>\n",
       "            /* Turns off some styling */\n",
       "            progress {\n",
       "                /* gets rid of default border in Firefox and Opera. */\n",
       "                border: none;\n",
       "                /* Needs to be in here for Safari polyfill so background images work as expected. */\n",
       "                background-size: auto;\n",
       "            }\n",
       "            .progress-bar-interrupted, .progress-bar-interrupted::-webkit-progress-bar {\n",
       "                background: #F44336;\n",
       "            }\n",
       "        </style>\n",
       "      <progress value='28' class='' max='114' style='width:300px; height:20px; vertical-align: middle;'></progress>\n",
       "      24.56% [28/114 00:03<00:11 1.1704]\n",
       "    </div>\n",
       "    "
      ],
      "text/plain": [
       "<IPython.core.display.HTML object>"
      ]
     },
     "metadata": {},
     "output_type": "display_data"
    }
   ],
   "source": [
    "inputs, preds, targs, decoded, losses = test_learn.get_preds(dl=test_dl, with_input=True, with_decoded=True, with_loss=True)\n"
   ]
  },
  {
   "cell_type": "code",
   "execution_count": null,
   "id": "closed-state",
   "metadata": {},
   "outputs": [],
   "source": [
    "interp = ClassificationInterpretation(dl=test_dl, inputs=inputs, preds=preds, targs=targs, decoded=decoded, losses=losses )"
   ]
  },
  {
   "cell_type": "markdown",
   "id": "optical-niagara",
   "metadata": {},
   "source": [
    "<br>\n",
    "\n",
    "### Visualize with a confusion Matrix"
   ]
  },
  {
   "cell_type": "code",
   "execution_count": null,
   "id": "legitimate-identifier",
   "metadata": {},
   "outputs": [],
   "source": [
    "interp.plot_confusion_matrix(figsize=(8,8))"
   ]
  },
  {
   "cell_type": "code",
   "execution_count": null,
   "id": "demonstrated-purse",
   "metadata": {},
   "outputs": [],
   "source": [
    "interp.most_confused()[:10]"
   ]
  },
  {
   "cell_type": "markdown",
   "id": "numerous-destruction",
   "metadata": {},
   "source": [
    "<br>\n",
    "<br>"
   ]
  },
  {
   "cell_type": "markdown",
   "id": "strategic-little",
   "metadata": {},
   "source": [
    "## Classification Report"
   ]
  },
  {
   "cell_type": "code",
   "execution_count": null,
   "id": "operating-ribbon",
   "metadata": {},
   "outputs": [],
   "source": [
    "interp.print_classification_report()"
   ]
  },
  {
   "cell_type": "code",
   "execution_count": null,
   "id": "strong-plasma",
   "metadata": {},
   "outputs": [],
   "source": [
    "interp.plot_top_losses(k=15)"
   ]
  },
  {
   "cell_type": "markdown",
   "id": "handy-exploration",
   "metadata": {},
   "source": [
    "## Archive this version of the notehook"
   ]
  },
  {
   "cell_type": "code",
   "execution_count": null,
   "id": "responsible-while",
   "metadata": {},
   "outputs": [],
   "source": [
    "import os\n",
    "import shutil\n",
    "\n",
    "# Allow Jupyter the opportunity to autosave\n",
    "# !sleep 20\n",
    "# time = '20210122-2356'\n",
    "# copy the notebook file - the prefix links it to the saved model\n",
    "shutil.copyfile('FastAI Cassava Disease Classification.ipynb', f'.Archive/{time} - FastAI Cassava Disease Classification.ipynb')"
   ]
  },
  {
   "cell_type": "code",
   "execution_count": null,
   "id": "crazy-trance",
   "metadata": {},
   "outputs": [],
   "source": []
  },
  {
   "cell_type": "code",
   "execution_count": null,
   "id": "exceptional-india",
   "metadata": {},
   "outputs": [],
   "source": []
  }
 ],
 "metadata": {
  "kernelspec": {
   "display_name": "Python 3",
   "language": "python",
   "name": "python3"
  },
  "language_info": {
   "codemirror_mode": {
    "name": "ipython",
    "version": 3
   },
   "file_extension": ".py",
   "mimetype": "text/x-python",
   "name": "python",
   "nbconvert_exporter": "python",
   "pygments_lexer": "ipython3",
   "version": "3.8.6"
  },
  "widgets": {
   "application/vnd.jupyter.widget-state+json": {
    "state": {
     "0bc613e94e4e4e1fa8fdd28f81f7d3ed": {
      "model_module": "jupyter-matplotlib",
      "model_module_version": "^0.8.3",
      "model_name": "MPLCanvasModel",
      "state": {
       "_cursor": "default",
       "_figure_label": "Figure 9",
       "_height": 1080,
       "_image_mode": "diff",
       "_message": "x=50. y=261.\n[220, 248, 4]",
       "_width": 1080,
       "layout": "IPY_MODEL_ac2df31f2f324f39b6b27fbf638b49f8",
       "toolbar": "IPY_MODEL_4aa07eb4cd004000aa2c5cc476a3c9fa",
       "toolbar_position": "left"
      }
     },
     "15c54509518d4f55b31fa91a1e6b34f7": {
      "model_module": "@jupyter-widgets/base",
      "model_module_version": "1.2.0",
      "model_name": "LayoutModel",
      "state": {}
     },
     "165becc1141f43b683affce6f1ab40c8": {
      "model_module": "@jupyter-widgets/base",
      "model_module_version": "1.2.0",
      "model_name": "LayoutModel",
      "state": {}
     },
     "17f39b8d25b04117bdc7b9266eface96": {
      "model_module": "jupyter-matplotlib",
      "model_module_version": "^0.8.3",
      "model_name": "MPLCanvasModel",
      "state": {
       "_cursor": "default",
       "_figure_label": "Figure 5",
       "_height": 1440,
       "_image_mode": "diff",
       "_width": 1440,
       "layout": "IPY_MODEL_7850a3cbc2554d16874bc63092e99acf",
       "toolbar": "IPY_MODEL_94d14b6caf274a8a9289448aa2c45b2b",
       "toolbar_position": "left"
      }
     },
     "22f72df7081a4ef8b58f0fd9674e60a5": {
      "model_module": "@jupyter-widgets/base",
      "model_module_version": "1.2.0",
      "model_name": "LayoutModel",
      "state": {}
     },
     "251c57d83ce14254b9eb4e3ad204e469": {
      "model_module": "jupyter-matplotlib",
      "model_module_version": "^0.8.3",
      "model_name": "ToolbarModel",
      "state": {
       "layout": "IPY_MODEL_9d6f42b383df4b46abea6aaa6bfcc81c",
       "toolitems": [
        [
         "Home",
         "Reset original view",
         "home",
         "home"
        ],
        [
         "Back",
         "Back to previous view",
         "arrow-left",
         "back"
        ],
        [
         "Forward",
         "Forward to next view",
         "arrow-right",
         "forward"
        ],
        [
         "Pan",
         "Left button pans, Right button zooms\nx/y fixes axis, CTRL fixes aspect",
         "arrows",
         "pan"
        ],
        [
         "Zoom",
         "Zoom to rectangle\nx/y fixes axis, CTRL fixes aspect",
         "square-o",
         "zoom"
        ],
        [
         "Download",
         "Download plot",
         "floppy-o",
         "save_figure"
        ]
       ]
      }
     },
     "2c8ab9d1f8c84de39f4e2345985b9c00": {
      "model_module": "jupyter-matplotlib",
      "model_module_version": "^0.8.3",
      "model_name": "MPLCanvasModel",
      "state": {
       "_cursor": "default",
       "_figure_label": "Figure 8",
       "_height": 600,
       "_width": 1080,
       "layout": "IPY_MODEL_e01d630ef3a14a89bc49c2d8d8e27778",
       "toolbar": "IPY_MODEL_5bc42e3bf3e541118f873f489801ba37",
       "toolbar_position": "left"
      }
     },
     "40d5962b71e945eba3d4dccfe79213d5": {
      "model_module": "jupyter-matplotlib",
      "model_module_version": "^0.8.3",
      "model_name": "ToolbarModel",
      "state": {
       "layout": "IPY_MODEL_8fdf50be5c964e7dbf771e2ac08d92d1",
       "toolitems": [
        [
         "Home",
         "Reset original view",
         "home",
         "home"
        ],
        [
         "Back",
         "Back to previous view",
         "arrow-left",
         "back"
        ],
        [
         "Forward",
         "Forward to next view",
         "arrow-right",
         "forward"
        ],
        [
         "Pan",
         "Left button pans, Right button zooms\nx/y fixes axis, CTRL fixes aspect",
         "arrows",
         "pan"
        ],
        [
         "Zoom",
         "Zoom to rectangle\nx/y fixes axis, CTRL fixes aspect",
         "square-o",
         "zoom"
        ],
        [
         "Download",
         "Download plot",
         "floppy-o",
         "save_figure"
        ]
       ]
      }
     },
     "4690d79e5bf74559ad347ef9b791a06a": {
      "model_module": "@jupyter-widgets/base",
      "model_module_version": "1.2.0",
      "model_name": "LayoutModel",
      "state": {}
     },
     "48dd27813c5344c7bc0eb18dadb920e9": {
      "model_module": "@jupyter-widgets/base",
      "model_module_version": "1.2.0",
      "model_name": "LayoutModel",
      "state": {}
     },
     "4aa07eb4cd004000aa2c5cc476a3c9fa": {
      "model_module": "jupyter-matplotlib",
      "model_module_version": "^0.8.3",
      "model_name": "ToolbarModel",
      "state": {
       "layout": "IPY_MODEL_6d36db8733bc42c3a4f092e73f1b5ada",
       "toolitems": [
        [
         "Home",
         "Reset original view",
         "home",
         "home"
        ],
        [
         "Back",
         "Back to previous view",
         "arrow-left",
         "back"
        ],
        [
         "Forward",
         "Forward to next view",
         "arrow-right",
         "forward"
        ],
        [
         "Pan",
         "Left button pans, Right button zooms\nx/y fixes axis, CTRL fixes aspect",
         "arrows",
         "pan"
        ],
        [
         "Zoom",
         "Zoom to rectangle\nx/y fixes axis, CTRL fixes aspect",
         "square-o",
         "zoom"
        ],
        [
         "Download",
         "Download plot",
         "floppy-o",
         "save_figure"
        ]
       ]
      }
     },
     "5aec478c20a1435ea9f5ad9360e5c7f5": {
      "model_module": "jupyter-matplotlib",
      "model_module_version": "^0.8.3",
      "model_name": "MPLCanvasModel",
      "state": {
       "_cursor": "default",
       "_figure_label": "Figure 7",
       "_height": 600,
       "_image_mode": "diff",
       "_message": "x=6.69984e-05  y=2.756",
       "_width": 1080,
       "layout": "IPY_MODEL_c8a88052908f4dcbbf4d8fad54357a6e",
       "toolbar": "IPY_MODEL_40d5962b71e945eba3d4dccfe79213d5",
       "toolbar_position": "left"
      }
     },
     "5bc42e3bf3e541118f873f489801ba37": {
      "model_module": "jupyter-matplotlib",
      "model_module_version": "^0.8.3",
      "model_name": "ToolbarModel",
      "state": {
       "layout": "IPY_MODEL_c8544b28860f47ac8129b6237d10d634",
       "toolitems": [
        [
         "Home",
         "Reset original view",
         "home",
         "home"
        ],
        [
         "Back",
         "Back to previous view",
         "arrow-left",
         "back"
        ],
        [
         "Forward",
         "Forward to next view",
         "arrow-right",
         "forward"
        ],
        [
         "Pan",
         "Left button pans, Right button zooms\nx/y fixes axis, CTRL fixes aspect",
         "arrows",
         "pan"
        ],
        [
         "Zoom",
         "Zoom to rectangle\nx/y fixes axis, CTRL fixes aspect",
         "square-o",
         "zoom"
        ],
        [
         "Download",
         "Download plot",
         "floppy-o",
         "save_figure"
        ]
       ]
      }
     },
     "6d36db8733bc42c3a4f092e73f1b5ada": {
      "model_module": "@jupyter-widgets/base",
      "model_module_version": "1.2.0",
      "model_name": "LayoutModel",
      "state": {}
     },
     "73165e698fd247ea95212e1e012bc7ea": {
      "model_module": "jupyter-matplotlib",
      "model_module_version": "^0.8.3",
      "model_name": "ToolbarModel",
      "state": {
       "layout": "IPY_MODEL_b9f4b3ff808c4c1dbdfba7901411702d",
       "toolitems": [
        [
         "Home",
         "Reset original view",
         "home",
         "home"
        ],
        [
         "Back",
         "Back to previous view",
         "arrow-left",
         "back"
        ],
        [
         "Forward",
         "Forward to next view",
         "arrow-right",
         "forward"
        ],
        [
         "Pan",
         "Left button pans, Right button zooms\nx/y fixes axis, CTRL fixes aspect",
         "arrows",
         "pan"
        ],
        [
         "Zoom",
         "Zoom to rectangle\nx/y fixes axis, CTRL fixes aspect",
         "square-o",
         "zoom"
        ],
        [
         "Download",
         "Download plot",
         "floppy-o",
         "save_figure"
        ]
       ]
      }
     },
     "748aa53f3ec243ae844b9599c09f3b65": {
      "model_module": "jupyter-matplotlib",
      "model_module_version": "^0.8.3",
      "model_name": "MPLCanvasModel",
      "state": {
       "_cursor": "default",
       "_figure_label": "Figure 1",
       "_height": 360,
       "_image_mode": "diff",
       "_width": 720,
       "layout": "IPY_MODEL_15c54509518d4f55b31fa91a1e6b34f7",
       "toolbar": "IPY_MODEL_73165e698fd247ea95212e1e012bc7ea",
       "toolbar_position": "left"
      }
     },
     "7850a3cbc2554d16874bc63092e99acf": {
      "model_module": "@jupyter-widgets/base",
      "model_module_version": "1.2.0",
      "model_name": "LayoutModel",
      "state": {}
     },
     "7b71c0e3b4cc4136a00eb89272ad4968": {
      "model_module": "@jupyter-widgets/base",
      "model_module_version": "1.2.0",
      "model_name": "LayoutModel",
      "state": {}
     },
     "875f994ac874404aad61213c96fe83a2": {
      "model_module": "@jupyter-widgets/base",
      "model_module_version": "1.2.0",
      "model_name": "LayoutModel",
      "state": {}
     },
     "87641765445f466da360794ad9533c24": {
      "model_module": "jupyter-matplotlib",
      "model_module_version": "^0.8.3",
      "model_name": "MPLCanvasModel",
      "state": {
       "_cursor": "default",
       "_figure_label": "Figure 6",
       "_height": 1080,
       "_image_mode": "diff",
       "_message": "x=123. y=178.\n[146, 173, 134]",
       "_width": 1080,
       "layout": "IPY_MODEL_4690d79e5bf74559ad347ef9b791a06a",
       "toolbar": "IPY_MODEL_a1215b58a4184dcca65576697e502610",
       "toolbar_position": "left"
      }
     },
     "8961fb0c6e3c433fafe5b827b711ec30": {
      "model_module": "jupyter-matplotlib",
      "model_module_version": "^0.8.3",
      "model_name": "ToolbarModel",
      "state": {
       "layout": "IPY_MODEL_a478eaa47abc4455ac37e52c4adde0a3",
       "toolitems": [
        [
         "Home",
         "Reset original view",
         "home",
         "home"
        ],
        [
         "Back",
         "Back to previous view",
         "arrow-left",
         "back"
        ],
        [
         "Forward",
         "Forward to next view",
         "arrow-right",
         "forward"
        ],
        [
         "Pan",
         "Left button pans, Right button zooms\nx/y fixes axis, CTRL fixes aspect",
         "arrows",
         "pan"
        ],
        [
         "Zoom",
         "Zoom to rectangle\nx/y fixes axis, CTRL fixes aspect",
         "square-o",
         "zoom"
        ],
        [
         "Download",
         "Download plot",
         "floppy-o",
         "save_figure"
        ]
       ]
      }
     },
     "8f0768837b374d73bde29f2513d17cb2": {
      "model_module": "@jupyter-widgets/base",
      "model_module_version": "1.2.0",
      "model_name": "LayoutModel",
      "state": {}
     },
     "8fdf50be5c964e7dbf771e2ac08d92d1": {
      "model_module": "@jupyter-widgets/base",
      "model_module_version": "1.2.0",
      "model_name": "LayoutModel",
      "state": {}
     },
     "94d14b6caf274a8a9289448aa2c45b2b": {
      "model_module": "jupyter-matplotlib",
      "model_module_version": "^0.8.3",
      "model_name": "ToolbarModel",
      "state": {
       "layout": "IPY_MODEL_22f72df7081a4ef8b58f0fd9674e60a5",
       "toolitems": [
        [
         "Home",
         "Reset original view",
         "home",
         "home"
        ],
        [
         "Back",
         "Back to previous view",
         "arrow-left",
         "back"
        ],
        [
         "Forward",
         "Forward to next view",
         "arrow-right",
         "forward"
        ],
        [
         "Pan",
         "Left button pans, Right button zooms\nx/y fixes axis, CTRL fixes aspect",
         "arrows",
         "pan"
        ],
        [
         "Zoom",
         "Zoom to rectangle\nx/y fixes axis, CTRL fixes aspect",
         "square-o",
         "zoom"
        ],
        [
         "Download",
         "Download plot",
         "floppy-o",
         "save_figure"
        ]
       ]
      }
     },
     "950946b3c8444a8d9577e20a6df5a864": {
      "model_module": "@jupyter-widgets/base",
      "model_module_version": "1.2.0",
      "model_name": "LayoutModel",
      "state": {}
     },
     "99dbcf95e2f34fcb887c6d6fa6776459": {
      "model_module": "jupyter-matplotlib",
      "model_module_version": "^0.8.3",
      "model_name": "ToolbarModel",
      "state": {
       "layout": "IPY_MODEL_e6c442fac9b6473082baf730736d5171",
       "toolitems": [
        [
         "Home",
         "Reset original view",
         "home",
         "home"
        ],
        [
         "Back",
         "Back to previous view",
         "arrow-left",
         "back"
        ],
        [
         "Forward",
         "Forward to next view",
         "arrow-right",
         "forward"
        ],
        [
         "Pan",
         "Left button pans, Right button zooms\nx/y fixes axis, CTRL fixes aspect",
         "arrows",
         "pan"
        ],
        [
         "Zoom",
         "Zoom to rectangle\nx/y fixes axis, CTRL fixes aspect",
         "square-o",
         "zoom"
        ],
        [
         "Download",
         "Download plot",
         "floppy-o",
         "save_figure"
        ]
       ]
      }
     },
     "9c0c74b5c348404fa703767d930d13fb": {
      "model_module": "@jupyter-widgets/base",
      "model_module_version": "1.2.0",
      "model_name": "LayoutModel",
      "state": {}
     },
     "9d6f42b383df4b46abea6aaa6bfcc81c": {
      "model_module": "@jupyter-widgets/base",
      "model_module_version": "1.2.0",
      "model_name": "LayoutModel",
      "state": {}
     },
     "9fe355490cb34352a79c0c1e8a740194": {
      "model_module": "jupyter-matplotlib",
      "model_module_version": "^0.8.3",
      "model_name": "ToolbarModel",
      "state": {
       "layout": "IPY_MODEL_f756b6c6125e4823821a116383079c86",
       "toolitems": [
        [
         "Home",
         "Reset original view",
         "home",
         "home"
        ],
        [
         "Back",
         "Back to previous view",
         "arrow-left",
         "back"
        ],
        [
         "Forward",
         "Forward to next view",
         "arrow-right",
         "forward"
        ],
        [
         "Pan",
         "Left button pans, Right button zooms\nx/y fixes axis, CTRL fixes aspect",
         "arrows",
         "pan"
        ],
        [
         "Zoom",
         "Zoom to rectangle\nx/y fixes axis, CTRL fixes aspect",
         "square-o",
         "zoom"
        ],
        [
         "Download",
         "Download plot",
         "floppy-o",
         "save_figure"
        ]
       ]
      }
     },
     "a1215b58a4184dcca65576697e502610": {
      "model_module": "jupyter-matplotlib",
      "model_module_version": "^0.8.3",
      "model_name": "ToolbarModel",
      "state": {
       "layout": "IPY_MODEL_8f0768837b374d73bde29f2513d17cb2",
       "toolitems": [
        [
         "Home",
         "Reset original view",
         "home",
         "home"
        ],
        [
         "Back",
         "Back to previous view",
         "arrow-left",
         "back"
        ],
        [
         "Forward",
         "Forward to next view",
         "arrow-right",
         "forward"
        ],
        [
         "Pan",
         "Left button pans, Right button zooms\nx/y fixes axis, CTRL fixes aspect",
         "arrows",
         "pan"
        ],
        [
         "Zoom",
         "Zoom to rectangle\nx/y fixes axis, CTRL fixes aspect",
         "square-o",
         "zoom"
        ],
        [
         "Download",
         "Download plot",
         "floppy-o",
         "save_figure"
        ]
       ]
      }
     },
     "a478eaa47abc4455ac37e52c4adde0a3": {
      "model_module": "@jupyter-widgets/base",
      "model_module_version": "1.2.0",
      "model_name": "LayoutModel",
      "state": {}
     },
     "a80d48e2e9374fadb22e2735dc86f14f": {
      "model_module": "jupyter-matplotlib",
      "model_module_version": "^0.8.3",
      "model_name": "MPLCanvasModel",
      "state": {
       "_cursor": "default",
       "_figure_label": "Figure 10",
       "_height": 960,
       "_width": 960,
       "layout": "IPY_MODEL_7b71c0e3b4cc4136a00eb89272ad4968",
       "toolbar": "IPY_MODEL_df35ed03b856412e99ceddb12395f610",
       "toolbar_position": "left"
      }
     },
     "abb3b4cee59647c3ae6701f0cfa333ad": {
      "model_module": "@jupyter-widgets/base",
      "model_module_version": "1.2.0",
      "model_name": "LayoutModel",
      "state": {}
     },
     "ac2df31f2f324f39b6b27fbf638b49f8": {
      "model_module": "@jupyter-widgets/base",
      "model_module_version": "1.2.0",
      "model_name": "LayoutModel",
      "state": {}
     },
     "b60a64505e704efb8bbf7b6b925afc2c": {
      "model_module": "jupyter-matplotlib",
      "model_module_version": "^0.8.3",
      "model_name": "ToolbarModel",
      "state": {
       "layout": "IPY_MODEL_b6d19422ea36427fab1c57e98a00a355",
       "toolitems": [
        [
         "Home",
         "Reset original view",
         "home",
         "home"
        ],
        [
         "Back",
         "Back to previous view",
         "arrow-left",
         "back"
        ],
        [
         "Forward",
         "Forward to next view",
         "arrow-right",
         "forward"
        ],
        [
         "Pan",
         "Left button pans, Right button zooms\nx/y fixes axis, CTRL fixes aspect",
         "arrows",
         "pan"
        ],
        [
         "Zoom",
         "Zoom to rectangle\nx/y fixes axis, CTRL fixes aspect",
         "square-o",
         "zoom"
        ],
        [
         "Download",
         "Download plot",
         "floppy-o",
         "save_figure"
        ]
       ]
      }
     },
     "b6d19422ea36427fab1c57e98a00a355": {
      "model_module": "@jupyter-widgets/base",
      "model_module_version": "1.2.0",
      "model_name": "LayoutModel",
      "state": {}
     },
     "b9f4b3ff808c4c1dbdfba7901411702d": {
      "model_module": "@jupyter-widgets/base",
      "model_module_version": "1.2.0",
      "model_name": "LayoutModel",
      "state": {}
     },
     "c0c390eeb2b647cba8e244f7c4366f73": {
      "model_module": "jupyter-matplotlib",
      "model_module_version": "^0.8.3",
      "model_name": "MPLCanvasModel",
      "state": {
       "_cursor": "default",
       "_figure_label": "Figure 4",
       "_height": 360,
       "_image_mode": "diff",
       "_width": 720,
       "layout": "IPY_MODEL_875f994ac874404aad61213c96fe83a2",
       "toolbar": "IPY_MODEL_99dbcf95e2f34fcb887c6d6fa6776459",
       "toolbar_position": "left"
      }
     },
     "c8544b28860f47ac8129b6237d10d634": {
      "model_module": "@jupyter-widgets/base",
      "model_module_version": "1.2.0",
      "model_name": "LayoutModel",
      "state": {}
     },
     "c8a88052908f4dcbbf4d8fad54357a6e": {
      "model_module": "@jupyter-widgets/base",
      "model_module_version": "1.2.0",
      "model_name": "LayoutModel",
      "state": {}
     },
     "cb83c1045be74c9f90bfae38bce27c7b": {
      "model_module": "jupyter-matplotlib",
      "model_module_version": "^0.8.3",
      "model_name": "MPLCanvasModel",
      "state": {
       "_cursor": "default",
       "_figure_label": "Figure 2",
       "_height": 360,
       "_image_mode": "diff",
       "_width": 720,
       "layout": "IPY_MODEL_950946b3c8444a8d9577e20a6df5a864",
       "toolbar": "IPY_MODEL_251c57d83ce14254b9eb4e3ad204e469",
       "toolbar_position": "left"
      }
     },
     "cd519da0edb3467fb669625711657ed5": {
      "model_module": "jupyter-matplotlib",
      "model_module_version": "^0.8.3",
      "model_name": "MPLCanvasModel",
      "state": {
       "_cursor": "default",
       "_figure_label": "Figure 11",
       "_height": 1800,
       "_width": 1080,
       "layout": "IPY_MODEL_d4ac2b76f39145e1a54b334034829fb8",
       "toolbar": "IPY_MODEL_8961fb0c6e3c433fafe5b827b711ec30",
       "toolbar_position": "left"
      }
     },
     "d31038a618b349c3b5b201830227b16a": {
      "model_module": "@jupyter-widgets/base",
      "model_module_version": "1.2.0",
      "model_name": "LayoutModel",
      "state": {}
     },
     "d4ac2b76f39145e1a54b334034829fb8": {
      "model_module": "@jupyter-widgets/base",
      "model_module_version": "1.2.0",
      "model_name": "LayoutModel",
      "state": {}
     },
     "db13fec00fa8452ca1a8ab802fd05968": {
      "model_module": "jupyter-matplotlib",
      "model_module_version": "^0.8.3",
      "model_name": "MPLCanvasModel",
      "state": {
       "_cursor": "default",
       "_figure_label": "Figure 3",
       "_height": 360,
       "_image_mode": "diff",
       "_width": 720,
       "layout": "IPY_MODEL_d31038a618b349c3b5b201830227b16a",
       "toolbar": "IPY_MODEL_b60a64505e704efb8bbf7b6b925afc2c",
       "toolbar_position": "left"
      }
     },
     "df35ed03b856412e99ceddb12395f610": {
      "model_module": "jupyter-matplotlib",
      "model_module_version": "^0.8.3",
      "model_name": "ToolbarModel",
      "state": {
       "layout": "IPY_MODEL_48dd27813c5344c7bc0eb18dadb920e9",
       "toolitems": [
        [
         "Home",
         "Reset original view",
         "home",
         "home"
        ],
        [
         "Back",
         "Back to previous view",
         "arrow-left",
         "back"
        ],
        [
         "Forward",
         "Forward to next view",
         "arrow-right",
         "forward"
        ],
        [
         "Pan",
         "Left button pans, Right button zooms\nx/y fixes axis, CTRL fixes aspect",
         "arrows",
         "pan"
        ],
        [
         "Zoom",
         "Zoom to rectangle\nx/y fixes axis, CTRL fixes aspect",
         "square-o",
         "zoom"
        ],
        [
         "Download",
         "Download plot",
         "floppy-o",
         "save_figure"
        ]
       ]
      }
     },
     "e01d630ef3a14a89bc49c2d8d8e27778": {
      "model_module": "@jupyter-widgets/base",
      "model_module_version": "1.2.0",
      "model_name": "LayoutModel",
      "state": {}
     },
     "e6c442fac9b6473082baf730736d5171": {
      "model_module": "@jupyter-widgets/base",
      "model_module_version": "1.2.0",
      "model_name": "LayoutModel",
      "state": {}
     },
     "ed4a31b20da54cce9bf843116114939e": {
      "model_module": "jupyter-matplotlib",
      "model_module_version": "^0.8.3",
      "model_name": "ToolbarModel",
      "state": {
       "layout": "IPY_MODEL_abb3b4cee59647c3ae6701f0cfa333ad",
       "toolitems": [
        [
         "Home",
         "Reset original view",
         "home",
         "home"
        ],
        [
         "Back",
         "Back to previous view",
         "arrow-left",
         "back"
        ],
        [
         "Forward",
         "Forward to next view",
         "arrow-right",
         "forward"
        ],
        [
         "Pan",
         "Left button pans, Right button zooms\nx/y fixes axis, CTRL fixes aspect",
         "arrows",
         "pan"
        ],
        [
         "Zoom",
         "Zoom to rectangle\nx/y fixes axis, CTRL fixes aspect",
         "square-o",
         "zoom"
        ],
        [
         "Download",
         "Download plot",
         "floppy-o",
         "save_figure"
        ]
       ]
      }
     },
     "f756b6c6125e4823821a116383079c86": {
      "model_module": "@jupyter-widgets/base",
      "model_module_version": "1.2.0",
      "model_name": "LayoutModel",
      "state": {}
     }
    },
    "version_major": 2,
    "version_minor": 0
   }
  }
 },
 "nbformat": 4,
 "nbformat_minor": 5
}
