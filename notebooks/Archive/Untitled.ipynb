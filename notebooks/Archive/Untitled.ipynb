{
 "cells": [
  {
   "cell_type": "code",
   "execution_count": 1,
   "id": "eligible-bangkok",
   "metadata": {
    "execution": {
     "iopub.execute_input": "2021-02-14T11:39:40.983246Z",
     "iopub.status.busy": "2021-02-14T11:39:40.982941Z",
     "iopub.status.idle": "2021-02-14T11:39:41.486706Z",
     "shell.execute_reply": "2021-02-14T11:39:41.486402Z",
     "shell.execute_reply.started": "2021-02-14T11:39:40.983178Z"
    }
   },
   "outputs": [],
   "source": [
    "import pandas as pd\n",
    "import numpy as np\n",
    "import matplotlib.pyplot as plt\n",
    "import seaborn as sns\n",
    "%matplotlib widget\n",
    "\n",
    "# set sensible default parameters for matplotlib\n",
    "plt.rcParams['figure.figsize'] = [9, 5]\n",
    "\n",
    "plt.style.use('dark_background')\n",
    "\n",
    "plt.rcParams['figure.dpi'] = 120\n",
    "\n",
    "plt.style.use('dark_background')"
   ]
  },
  {
   "cell_type": "code",
   "execution_count": 2,
   "id": "disciplinary-steps",
   "metadata": {
    "execution": {
     "iopub.execute_input": "2021-02-14T11:39:41.488222Z",
     "iopub.status.busy": "2021-02-14T11:39:41.488118Z",
     "iopub.status.idle": "2021-02-14T11:39:41.489808Z",
     "shell.execute_reply": "2021-02-14T11:39:41.489564Z",
     "shell.execute_reply.started": "2021-02-14T11:39:41.488211Z"
    }
   },
   "outputs": [],
   "source": [
    "import glob\n"
   ]
  },
  {
   "cell_type": "code",
   "execution_count": null,
   "id": "acting-services",
   "metadata": {},
   "outputs": [],
   "source": []
  }
 ],
 "metadata": {
  "kernelspec": {
   "display_name": "Python 3",
   "language": "python",
   "name": "python3"
  },
  "language_info": {
   "codemirror_mode": {
    "name": "ipython",
    "version": 3
   },
   "file_extension": ".py",
   "mimetype": "text/x-python",
   "name": "python",
   "nbconvert_exporter": "python",
   "pygments_lexer": "ipython3",
   "version": "3.8.6"
  },
  "widgets": {
   "application/vnd.jupyter.widget-state+json": {
    "state": {},
    "version_major": 2,
    "version_minor": 0
   }
  }
 },
 "nbformat": 4,
 "nbformat_minor": 5
}
