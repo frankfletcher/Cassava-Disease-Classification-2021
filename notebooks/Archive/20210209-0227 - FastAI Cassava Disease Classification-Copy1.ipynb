{
 "cells": [
  {
   "cell_type": "markdown",
   "id": "hispanic-particular",
   "metadata": {},
   "source": [
    "# PRETRAIN FROM PERSONALLY TRAINED MODEL\n",
    "## FastAI Cassava Root Disease Classification"
   ]
  },
  {
   "cell_type": "code",
   "execution_count": 1,
   "id": "polished-measure",
   "metadata": {
    "execution": {
     "iopub.execute_input": "2021-02-09T09:46:49.382385Z",
     "iopub.status.busy": "2021-02-09T09:46:49.382086Z",
     "iopub.status.idle": "2021-02-09T09:46:49.385403Z",
     "shell.execute_reply": "2021-02-09T09:46:49.384952Z",
     "shell.execute_reply.started": "2021-02-09T09:46:49.382317Z"
    }
   },
   "outputs": [],
   "source": [
    "RUN_NAME_OF_MODEL_TO_LOAD = f'20210208-2112 - arch=tf_efficientnet_b4_ns - samples=1800 frozen=1 epochs=40 bs=8 res=380'\n",
    "EPOCH_TO_LOAD = 0"
   ]
  },
  {
   "cell_type": "raw",
   "id": "developing-moral",
   "metadata": {
    "execution": {
     "iopub.execute_input": "2021-02-09T09:46:49.382385Z",
     "iopub.status.busy": "2021-02-09T09:46:49.382086Z",
     "iopub.status.idle": "2021-02-09T09:46:49.385403Z",
     "shell.execute_reply": "2021-02-09T09:46:49.384952Z",
     "shell.execute_reply.started": "2021-02-09T09:46:49.382317Z"
    }
   },
   "source": [
    "RUN_NAME_OF_MODEL_TO_LOAD = f'20210208-2112 - arch=tf_efficientnet_b4_ns - samples=1800 frozen=1 epochs=40 bs=8 res=380'\n",
    "EPOCH_TO_LOAD = 9"
   ]
  },
  {
   "cell_type": "markdown",
   "id": "previous-breach",
   "metadata": {},
   "source": [
    "<br>\n",
    "<br>"
   ]
  },
  {
   "cell_type": "code",
   "execution_count": 2,
   "id": "composed-slovenia",
   "metadata": {
    "execution": {
     "iopub.execute_input": "2021-02-09T09:46:50.408659Z",
     "iopub.status.busy": "2021-02-09T09:46:50.408252Z",
     "iopub.status.idle": "2021-02-09T09:46:51.463307Z",
     "shell.execute_reply": "2021-02-09T09:46:51.462841Z",
     "shell.execute_reply.started": "2021-02-09T09:46:50.408631Z"
    }
   },
   "outputs": [
    {
     "name": "stdout",
     "output_type": "stream",
     "text": [
      "RUN_NAME = '20210209-0146 - arch=tf_efficientnet_b4_ns - samples=1800 frozen=1 epochs=40 bs=7 res=494'\n"
     ]
    }
   ],
   "source": [
    "from datetime import datetime\n",
    "from fastbook import *\n",
    "from fastai.vision.all import *\n",
    "from fastai.vision.widgets import *\n",
    "import fastai\n",
    "import matplotlib.pyplot as plt\n",
    "import matplotlib.ticker as ticker\n",
    "from string import ascii_uppercase\n",
    "import numpy as np\n",
    "import operator\n",
    "import glob\n",
    "\n",
    "\n",
    "# %matplotlib inline\n",
    "\n",
    "%matplotlib widget\n",
    "\n",
    "plt.rcParams['figure.figsize'] = [9, 5]\n",
    "plt.rcParams['figure.dpi'] = 120\n",
    "plt.style.use('dark_background')\n",
    "\n",
    "\n",
    "ARCH = 'tf_efficientnet_b4_ns'  # resnet101\n",
    "\n",
    "CHOSEN_SAMPLE_SIZE = 1800  # use this to control per-category sample sizes # 1000  # deprecated but not removed\n",
    "# TEST_SET_SIZE = round(CHOSEN_SAMPLE_SIZE * 0.1)  # number of images per category to put in the test set\n",
    "FROZEN_EPOCHS = 1  # 1\n",
    "EPOCHS = 40  # 4\n",
    "BATCH_SIZE = 7  # 16\n",
    "RESOLUTION = round(380 * 1.3)  # 300\n",
    "PRETRAINED_FLAG = True\n",
    "\n",
    "# data = ''\n",
    "# rn_addon = f'_data={data}'\n",
    "\n",
    "time = datetime.today().strftime(\"%Y%m%d-%H%M\")\n",
    "\n",
    "# RUN_NAME = f'{time} - arch={ARCH.__name__} - samples={CHOSEN_SAMPLE_SIZE} frozen={FROZEN_EPOCHS} epochs={EPOCHS} bs={BATCH_SIZE} res={RESOLUTION}'\n",
    "RUN_NAME = f'{time} - arch={ARCH} - samples={CHOSEN_SAMPLE_SIZE} frozen={FROZEN_EPOCHS} epochs={EPOCHS} bs={BATCH_SIZE} res={RESOLUTION}'\n",
    "\n",
    "print(f\"RUN_NAME = '{RUN_NAME}'\")\n"
   ]
  },
  {
   "cell_type": "code",
   "execution_count": 3,
   "id": "honest-hartford",
   "metadata": {
    "execution": {
     "iopub.execute_input": "2021-02-09T09:46:51.562882Z",
     "iopub.status.busy": "2021-02-09T09:46:51.562601Z",
     "iopub.status.idle": "2021-02-09T09:46:51.568944Z",
     "shell.execute_reply": "2021-02-09T09:46:51.568287Z",
     "shell.execute_reply.started": "2021-02-09T09:46:51.562855Z"
    }
   },
   "outputs": [
    {
     "name": "stdout",
     "output_type": "stream",
     "text": [
      "CUDA available:              True\n",
      "CUDA device count:           1\n",
      "Current CUDA Device index:   0\n",
      "Current CUDA Device:         GeForce RTX 2070 SUPER\n",
      "\n",
      "fastai version:              2.2.2\n",
      "cuda version:                11.0\n",
      "torch version:               1.7.0\n"
     ]
    }
   ],
   "source": [
    "import torch\n",
    "print('CUDA available: '.ljust(28), torch.cuda.is_available())\n",
    "print('CUDA device count: '.ljust(28), torch.cuda.device_count())\n",
    "\n",
    "current_device = torch.cuda.current_device()\n",
    "print('Current CUDA Device index: '.ljust(28), current_device)\n",
    "# torch.cuda.device(current_device)\n",
    "print('Current CUDA Device: '.ljust(28), torch.cuda.get_device_name(current_device))\n",
    "print()\n",
    "# print('CUDA available: '.ljust(24), torch.cuda.is_available())\n",
    "print(f'fastai version:              {fastai.__version__}')\n",
    "# print(f'fastcore version:            {fastcore.__version__}')\n",
    "# print(f'fastbook version:            {fastbook.__version__}')\n",
    "print(f'cuda version:                {torch.version.cuda}')\n",
    "print(f'torch version:               {torch.__version__}')\n",
    "# print(f'python version:              {python_version()}')"
   ]
  },
  {
   "cell_type": "markdown",
   "id": "finite-salon",
   "metadata": {},
   "source": [
    "<br>\n",
    "<br>"
   ]
  },
  {
   "cell_type": "markdown",
   "id": "molecular-watson",
   "metadata": {},
   "source": [
    "## Utillity Functions\n",
    "\n"
   ]
  },
  {
   "cell_type": "code",
   "execution_count": 4,
   "id": "imposed-prompt",
   "metadata": {
    "execution": {
     "iopub.execute_input": "2021-02-09T09:46:53.020460Z",
     "iopub.status.busy": "2021-02-09T09:46:53.020208Z",
     "iopub.status.idle": "2021-02-09T09:46:53.079397Z",
     "shell.execute_reply": "2021-02-09T09:46:53.078968Z",
     "shell.execute_reply.started": "2021-02-09T09:46:53.020436Z"
    }
   },
   "outputs": [],
   "source": [
    "from timm import create_model\n",
    "from fastai.vision.learner import _update_first_layer\n",
    "\n",
    "def create_timm_body(arch:str, pretrained=True, cut=None, n_in=3):\n",
    "    \"Creates a body from any model in the `timm` library.\"\n",
    "    model = create_model(arch, pretrained=pretrained, num_classes=0, global_pool='')\n",
    "    _update_first_layer(model, n_in, pretrained)\n",
    "    if cut is None:\n",
    "        ll = list(enumerate(model.children()))\n",
    "        cut = next(i for i,o in reversed(ll) if has_pool_type(o))\n",
    "    if isinstance(cut, int): return nn.Sequential(*list(model.children())[:cut])\n",
    "    elif callable(cut): return cut(model)\n",
    "    else: raise NamedError(\"cut must be either integer or function\")\n",
    "        \n",
    "def create_timm_model(arch:str, n_out, cut=None, pretrained=True, n_in=3, init=nn.init.kaiming_normal_, custom_head=None,\n",
    "                     concat_pool=False, **kwargs):\n",
    "    \"Create custom architecture using `arch`, `n_in` and `n_out` from the `timm` library\"\n",
    "    body = create_timm_body(arch, pretrained, None, n_in)\n",
    "    if custom_head is None:\n",
    "        nf = num_features_model(nn.Sequential(*body.children())) * (2 if concat_pool else 1)\n",
    "        head = create_head(nf, n_out, concat_pool=concat_pool, **kwargs)\n",
    "    else: head = custom_head\n",
    "    model = nn.Sequential(body, head)\n",
    "    if init is not None: apply_init(model[1], init)\n",
    "    return model\n",
    "\n",
    "\n",
    "def timm_learner(dls, arch:str, loss_func=None, pretrained=True, cut=None, splitter=None,\n",
    "                y_range=None, config=None, n_out=None, normalize=True, **kwargs):\n",
    "    \"Build a convnet style learner from `dls` and `arch` using the `timm` library\"\n",
    "    if config is None: config = {}\n",
    "    if n_out is None: n_out = get_c(dls)\n",
    "    assert n_out, \"`n_out` is not defined, and could not be inferred from data, set `dls.c` or pass `n_out`\"\n",
    "    if y_range is None and 'y_range' in config: y_range = config.pop('y_range')\n",
    "    model = create_timm_model(arch, n_out, default_split, pretrained, y_range=y_range, **config)\n",
    "    learn = Learner(dls, model, loss_func=loss_func, splitter=default_split, **kwargs)\n",
    "    if pretrained: learn.freeze()\n",
    "    return learn"
   ]
  },
  {
   "cell_type": "markdown",
   "id": "confused-scott",
   "metadata": {},
   "source": [
    "<br>\n",
    "<br>"
   ]
  },
  {
   "cell_type": "markdown",
   "id": "simplified-warehouse",
   "metadata": {},
   "source": [
    "### Check for Imbalance"
   ]
  },
  {
   "cell_type": "code",
   "execution_count": 5,
   "id": "indian-premium",
   "metadata": {
    "execution": {
     "iopub.execute_input": "2021-02-09T09:46:53.766671Z",
     "iopub.status.busy": "2021-02-09T09:46:53.766451Z",
     "iopub.status.idle": "2021-02-09T09:46:53.769243Z",
     "shell.execute_reply": "2021-02-09T09:46:53.768755Z",
     "shell.execute_reply.started": "2021-02-09T09:46:53.766652Z"
    }
   },
   "outputs": [],
   "source": [
    "classes = ['cbb', 'cbsd', 'cgm', 'cmd', 'healthy']"
   ]
  },
  {
   "cell_type": "code",
   "execution_count": 6,
   "id": "several-envelope",
   "metadata": {
    "execution": {
     "iopub.execute_input": "2021-02-09T09:46:53.973600Z",
     "iopub.status.busy": "2021-02-09T09:46:53.973302Z",
     "iopub.status.idle": "2021-02-09T09:46:54.132505Z",
     "shell.execute_reply": "2021-02-09T09:46:54.132165Z",
     "shell.execute_reply.started": "2021-02-09T09:46:53.973572Z"
    }
   },
   "outputs": [
    {
     "data": {
      "application/vnd.jupyter.widget-view+json": {
       "model_id": "de43d6032ec74c8488a20172fc9475b5",
       "version_major": 2,
       "version_minor": 0
      },
      "text/plain": [
       "Canvas(toolbar=Toolbar(toolitems=[('Home', 'Reset original view', 'home', 'home'), ('Back', 'Back to previous …"
      ]
     },
     "metadata": {},
     "output_type": "display_data"
    }
   ],
   "source": [
    "path = '../data/train_images_sorted'\n",
    "\n",
    "img_flist = {}\n",
    "img_quants = {}\n",
    "\n",
    "for c in classes:\n",
    "    files = get_image_files(f'{path}/{c}')\n",
    "    img_flist[c] = list(files)\n",
    "    img_quants[c] = len(files)\n",
    "\n",
    "minqc = min(img_quants, key=img_quants.get)\n",
    "\n",
    "sample_size = round(img_quants[minqc] * 2.5)  # oversample the lowest class quantity\n",
    "\n",
    "\n",
    "plt.figure(figsize=(6,3))\n",
    "plt.bar(img_quants.keys(), img_quants.values())  \n",
    "plt.axhline(sample_size, ls='--', color='red', label='Chosen Sample Size')\n",
    "plt.legend()\n",
    "plt.show()\n",
    "        "
   ]
  },
  {
   "cell_type": "code",
   "execution_count": 7,
   "id": "published-injection",
   "metadata": {
    "execution": {
     "iopub.execute_input": "2021-02-09T09:46:54.283631Z",
     "iopub.status.busy": "2021-02-09T09:46:54.283367Z",
     "iopub.status.idle": "2021-02-09T09:46:54.331920Z",
     "shell.execute_reply": "2021-02-09T09:46:54.331541Z",
     "shell.execute_reply.started": "2021-02-09T09:46:54.283606Z"
    }
   },
   "outputs": [
    {
     "data": {
      "application/vnd.jupyter.widget-view+json": {
       "model_id": "8caae27fbcec45a797caf988e1c47c7e",
       "version_major": 2,
       "version_minor": 0
      },
      "text/plain": [
       "Canvas(toolbar=Toolbar(toolitems=[('Home', 'Reset original view', 'home', 'home'), ('Back', 'Back to previous …"
      ]
     },
     "metadata": {},
     "output_type": "display_data"
    }
   ],
   "source": [
    "\n",
    "for c in classes:\n",
    "    if len(img_flist[c]) < sample_size:\n",
    "#         all_covid = img_flist[c].copy()\n",
    "        img_flist[c] = np.append(img_flist[c], np.random.choice(img_flist[c], sample_size - len(img_flist[c]), replace=True))\n",
    "    else:\n",
    "        img_flist[c] = np.random.choice(img_flist[c], sample_size, replace=False)  # without replacement\n",
    "\n",
    "    # boost the weak class\n",
    "    if c == 'healthy':\n",
    "        img_flist[c] = np.append(img_flist[c], np.random.choice(img_flist[c], round(sample_size * 0.5), replace=False))\n",
    "        \n",
    "plt.figure(figsize=(6,3))\n",
    "plt.bar(img_flist.keys(), [len(l) for l in img_flist.values()])\n",
    "plt.show()"
   ]
  },
  {
   "cell_type": "code",
   "execution_count": 8,
   "id": "steady-combination",
   "metadata": {
    "execution": {
     "iopub.execute_input": "2021-02-09T09:46:54.354587Z",
     "iopub.status.busy": "2021-02-09T09:46:54.354434Z",
     "iopub.status.idle": "2021-02-09T09:46:54.359369Z",
     "shell.execute_reply": "2021-02-09T09:46:54.358866Z",
     "shell.execute_reply.started": "2021-02-09T09:46:54.354570Z"
    }
   },
   "outputs": [],
   "source": [
    "test_flist = {}\n",
    "test_size = round(0.1 * sample_size)\n",
    "\n",
    "for c in classes:\n",
    "    img_flist[c] = np.random.choice(img_flist[c], len(img_flist[c]), replace=False)  # shuffle\n",
    "    test_flist[c] = img_flist[c][0:test_size]\n",
    "    img_flist[c] = img_flist[c][test_size:]\n",
    "#     img_flist[c] = [f for f in img_flist[c] if f not in test_flist[c]]"
   ]
  },
  {
   "cell_type": "code",
   "execution_count": 9,
   "id": "juvenile-center",
   "metadata": {
    "execution": {
     "iopub.execute_input": "2021-02-09T09:46:54.501651Z",
     "iopub.status.busy": "2021-02-09T09:46:54.501403Z",
     "iopub.status.idle": "2021-02-09T09:46:54.556389Z",
     "shell.execute_reply": "2021-02-09T09:46:54.555995Z",
     "shell.execute_reply.started": "2021-02-09T09:46:54.501627Z"
    }
   },
   "outputs": [
    {
     "data": {
      "application/vnd.jupyter.widget-view+json": {
       "model_id": "43c5d6897bfe4e649c9589a2a0df8fc0",
       "version_major": 2,
       "version_minor": 0
      },
      "text/plain": [
       "Canvas(toolbar=Toolbar(toolitems=[('Home', 'Reset original view', 'home', 'home'), ('Back', 'Back to previous …"
      ]
     },
     "metadata": {},
     "output_type": "display_data"
    },
    {
     "data": {
      "application/vnd.jupyter.widget-view+json": {
       "model_id": "f03eabe838fd4969bfe5ef387c941721",
       "version_major": 2,
       "version_minor": 0
      },
      "text/plain": [
       "Canvas(toolbar=Toolbar(toolitems=[('Home', 'Reset original view', 'home', 'home'), ('Back', 'Back to previous …"
      ]
     },
     "metadata": {},
     "output_type": "display_data"
    }
   ],
   "source": [
    "plt.figure(figsize=(6,3))\n",
    "plt.title('Training Data')\n",
    "plt.bar(img_flist.keys(), [len(l) for l in img_flist.values()])\n",
    "plt.axhline(test_size, ls='--', color='red')\n",
    "plt.show()\n",
    "\n",
    "plt.figure(figsize=(6,3))\n",
    "plt.title('Validation Data')\n",
    "plt.bar(test_flist.keys(), [len(l) for l in test_flist.values()])\n",
    "plt.show()\n",
    "                 "
   ]
  },
  {
   "cell_type": "code",
   "execution_count": 10,
   "id": "peaceful-forge",
   "metadata": {
    "execution": {
     "iopub.execute_input": "2021-02-09T09:46:54.759417Z",
     "iopub.status.busy": "2021-02-09T09:46:54.759205Z",
     "iopub.status.idle": "2021-02-09T09:46:56.829225Z",
     "shell.execute_reply": "2021-02-09T09:46:56.828831Z",
     "shell.execute_reply.started": "2021-02-09T09:46:54.759400Z"
    }
   },
   "outputs": [],
   "source": [
    "def get_fnames(path):\n",
    "    retlist = []\n",
    "    \n",
    "    for l in img_flist.values():\n",
    "        for f in l:\n",
    "            retlist.append(f)\n",
    "            \n",
    "    return random.sample(retlist, len(retlist))\n",
    "\n",
    "# batch_tfms = [ *aug_transforms(size=round(RESOLUTION * 1), do_flip=True, batch=True, max_zoom=1.7, mult=2.4), Normalize.from_stats(*imagenet_stats) ]\n",
    "batch_tfms = [ *aug_transforms(size=round(RESOLUTION * 1), do_flip=True, batch=True, max_zoom=1.2, mult=2.8), Normalize.from_stats(*imagenet_stats) ]\n",
    "\n",
    "\n",
    "img_db = DataBlock(\n",
    "    blocks=(ImageBlock, CategoryBlock), \n",
    "    get_items=get_fnames, \n",
    "    splitter=RandomSplitter(valid_pct=0.28, seed=42),\n",
    "    get_y=parent_label,\n",
    "#     item_tfms=Resize(RESOLUTION, method='bilinear') , batch_tfms=batch_tfms)\n",
    "    item_tfms=RandomResizedCrop(RESOLUTION) , batch_tfms=batch_tfms)\n",
    "\n",
    "dls = img_db.dataloaders(path, batch_size=BATCH_SIZE)"
   ]
  },
  {
   "cell_type": "markdown",
   "id": "considerable-navigator",
   "metadata": {},
   "source": [
    "<br>\n",
    "\n",
    "### Verify the Training and Validation Batches"
   ]
  },
  {
   "cell_type": "code",
   "execution_count": 11,
   "id": "instructional-rachel",
   "metadata": {
    "execution": {
     "iopub.execute_input": "2021-02-09T09:46:56.979864Z",
     "iopub.status.busy": "2021-02-09T09:46:56.979717Z",
     "iopub.status.idle": "2021-02-09T09:46:57.938024Z",
     "shell.execute_reply": "2021-02-09T09:46:57.937715Z",
     "shell.execute_reply.started": "2021-02-09T09:46:56.979845Z"
    }
   },
   "outputs": [
    {
     "data": {
      "application/vnd.jupyter.widget-view+json": {
       "model_id": "578ae0e8ab734e1caa7ed8c50a2f2fdf",
       "version_major": 2,
       "version_minor": 0
      },
      "text/plain": [
       "Canvas(toolbar=Toolbar(toolitems=[('Home', 'Reset original view', 'home', 'home'), ('Back', 'Back to previous …"
      ]
     },
     "metadata": {},
     "output_type": "display_data"
    }
   ],
   "source": [
    "dls.valid.show_batch(max_n=16, nrows=4)"
   ]
  },
  {
   "cell_type": "code",
   "execution_count": 12,
   "id": "handy-joseph",
   "metadata": {
    "execution": {
     "iopub.execute_input": "2021-02-09T09:46:57.941398Z",
     "iopub.status.busy": "2021-02-09T09:46:57.941168Z",
     "iopub.status.idle": "2021-02-09T09:46:57.948252Z",
     "shell.execute_reply": "2021-02-09T09:46:57.947644Z",
     "shell.execute_reply.started": "2021-02-09T09:46:57.941374Z"
    }
   },
   "outputs": [
    {
     "name": "stdout",
     "output_type": "stream",
     "text": [
      "\n",
      "All Callbacks:  [CutMix, ShowGraphCallback, SaveModelCallback, GradientAccumulation, ReduceLROnPlateau]\n"
     ]
    }
   ],
   "source": [
    "# Eary stopping callback\n",
    "early_stop_cb = EarlyStoppingCallback(monitor='error_rate', min_delta=0.0001, patience=5)\n",
    "\n",
    "# Save the current model's weights every epoch\n",
    "save_cb = SaveModelCallback(fname=RUN_NAME, every_epoch=True, with_opt=True)\n",
    "\n",
    "# Reduce the Learning Rate if valid_loss flatlines\n",
    "reduceLR_cb = ReduceLROnPlateau(monitor='valid_loss', min_delta=0.01, min_lr=1e-8, patience=3)\n",
    "\n",
    "# Mixup callback for regularization\n",
    "# mixup_cb = MixUp(alpha=0.4)\n",
    "mixup_cb = None\n",
    "\n",
    "# Cutmix callback for regularization\n",
    "cutmix_cb = CutMix(alpha=0.3)\n",
    "# cutmix_cb = None\n",
    "\n",
    "\n",
    "\n",
    "\n",
    "# List of callbacks to be used later\n",
    "cbs = [ShowGraphCallback(), save_cb, GradientAccumulation(n_acc=32), reduceLR_cb]\n",
    "\n",
    "if mixup_cb != None:\n",
    "    cbs.insert(0, mixup_cb)\n",
    "    \n",
    "if cutmix_cb != None:\n",
    "    cbs.insert(0, cutmix_cb)\n",
    "\n",
    "\n",
    "\n",
    "\n",
    "print('\\nAll Callbacks: ', cbs)"
   ]
  },
  {
   "cell_type": "markdown",
   "id": "regulation-attempt",
   "metadata": {},
   "source": [
    "### Visualize the effect of CutMix\n"
   ]
  },
  {
   "cell_type": "code",
   "execution_count": 13,
   "id": "contrary-headquarters",
   "metadata": {
    "execution": {
     "iopub.execute_input": "2021-02-09T09:46:59.773150Z",
     "iopub.status.busy": "2021-02-09T09:46:59.772896Z",
     "iopub.status.idle": "2021-02-09T09:47:00.055546Z",
     "shell.execute_reply": "2021-02-09T09:47:00.055200Z",
     "shell.execute_reply.started": "2021-02-09T09:46:59.773126Z"
    }
   },
   "outputs": [
    {
     "data": {
      "text/html": [
       "<table border=\"1\" class=\"dataframe\">\n",
       "  <thead>\n",
       "    <tr style=\"text-align: left;\">\n",
       "      <th>epoch</th>\n",
       "      <th>train_loss</th>\n",
       "      <th>valid_loss</th>\n",
       "      <th>time</th>\n",
       "    </tr>\n",
       "  </thead>\n",
       "  <tbody>\n",
       "    <tr>\n",
       "      <td>0</td>\n",
       "      <td>00:00</td>\n",
       "    </tr>\n",
       "  </tbody>\n",
       "</table>"
      ],
      "text/plain": [
       "<IPython.core.display.HTML object>"
      ]
     },
     "metadata": {},
     "output_type": "display_data"
    },
    {
     "data": {
      "application/vnd.jupyter.widget-view+json": {
       "model_id": "b9b221c2301f4d9ba6201361bc240641",
       "version_major": 2,
       "version_minor": 0
      },
      "text/plain": [
       "Canvas(toolbar=Toolbar(toolitems=[('Home', 'Reset original view', 'home', 'home'), ('Back', 'Back to previous …"
      ]
     },
     "metadata": {},
     "output_type": "display_data"
    }
   ],
   "source": [
    "if cutmix_cb != None:\n",
    "    with Learner(dls, nn.Linear(3,4), loss_func=CrossEntropyLossFlat(), cbs=cutmix_cb) as learn:\n",
    "        learn.epoch,learn.training = 0,True\n",
    "        learn.dl = dls.train\n",
    "        b = dls.one_batch()\n",
    "        learn._split(b)\n",
    "        learn('before_batch')\n",
    "\n",
    "    _,axs = plt.subplots(3,3, figsize=(9,9))\n",
    "    dls.show_batch(b=(cutmix_cb.x,cutmix_cb.y), ctxs=axs.flatten())\n",
    "    \n",
    "else: print('\\n CutMix was not selected.')"
   ]
  },
  {
   "cell_type": "markdown",
   "id": "informed-influence",
   "metadata": {},
   "source": [
    "<br>\n",
    "\n",
    "### Visualize the Effect of MixUp\n",
    "\n",
    "MixUp creates a linear interpolation between the target data and another datapoint.  In images, it shows up as ghostly figures.  The technique has been shown to be a good to decrease the liklihood of overfitting."
   ]
  },
  {
   "cell_type": "code",
   "execution_count": 14,
   "id": "driven-final",
   "metadata": {
    "execution": {
     "iopub.execute_input": "2021-02-09T09:47:01.480314Z",
     "iopub.status.busy": "2021-02-09T09:47:01.480059Z",
     "iopub.status.idle": "2021-02-09T09:47:01.485395Z",
     "shell.execute_reply": "2021-02-09T09:47:01.484798Z",
     "shell.execute_reply.started": "2021-02-09T09:47:01.480290Z"
    }
   },
   "outputs": [
    {
     "name": "stdout",
     "output_type": "stream",
     "text": [
      "\n",
      " MixUp was not selected.\n"
     ]
    }
   ],
   "source": [
    "if mixup_cb != None:\n",
    "    with Learner(dls, nn.Linear(3,4), loss_func=CrossEntropyLossFlat(), cbs=mixup_cb) as learn:\n",
    "        learn.epoch,learn.training = 0,True\n",
    "        learn.dl = dls.train\n",
    "        b = dls.one_batch()\n",
    "        learn._split(b)\n",
    "        learn('before_batch')\n",
    "\n",
    "    _,axs = plt.subplots(3,3, figsize=(9,9))\n",
    "    dls.show_batch(b=(mixup_cb.x,mixup_cb.y), ctxs=axs.flatten())\n",
    "\n",
    "else: print('\\n MixUp was not selected.')"
   ]
  },
  {
   "cell_type": "code",
   "execution_count": 15,
   "id": "pointed-insurance",
   "metadata": {
    "execution": {
     "iopub.execute_input": "2021-02-09T09:47:02.299659Z",
     "iopub.status.busy": "2021-02-09T09:47:02.299367Z",
     "iopub.status.idle": "2021-02-09T09:47:02.676658Z",
     "shell.execute_reply": "2021-02-09T09:47:02.676286Z",
     "shell.execute_reply.started": "2021-02-09T09:47:02.299635Z"
    }
   },
   "outputs": [],
   "source": [
    "# learn = cnn_learner(dls, ARCH , \n",
    "#                     pretrained=PRETRAINED_FLAG, wd=1e-4, opt_func=ranger,\n",
    "#                     loss_func=LabelSmoothingCrossEntropyFlat(), \n",
    "#                     cbs = cbs, metrics=[error_rate, accuracy])\n",
    "\n",
    "# from wwf.vision.timm import *\n",
    "import timm\n",
    "learn = timm_learner(dls, \n",
    "                    'tf_efficientnet_b4_ns',\n",
    "                     opt_func=ranger,\n",
    "                     loss_func=LabelSmoothingCrossEntropy(),\n",
    "                     cbs=cbs,\n",
    "                     metrics = [accuracy]).to_fp16()"
   ]
  },
  {
   "cell_type": "code",
   "execution_count": 16,
   "id": "universal-rally",
   "metadata": {
    "execution": {
     "iopub.execute_input": "2021-02-09T09:47:02.679204Z",
     "iopub.status.busy": "2021-02-09T09:47:02.679094Z",
     "iopub.status.idle": "2021-02-09T09:47:02.852369Z",
     "shell.execute_reply": "2021-02-09T09:47:02.851967Z",
     "shell.execute_reply.started": "2021-02-09T09:47:02.679191Z"
    }
   },
   "outputs": [],
   "source": [
    "# Add custom weights to learn\n",
    "\n",
    "# learn = load_learner(f'../models/{RUN_NAME_OF_MODEL_TO_LOAD}.pkl', cpu=False)\n",
    "load_model(f'models/{RUN_NAME_OF_MODEL_TO_LOAD}_{EPOCH_TO_LOAD}.pth', learn, opt=ranger, with_opt=False)\n"
   ]
  },
  {
   "cell_type": "code",
   "execution_count": 17,
   "id": "disciplinary-suggestion",
   "metadata": {
    "execution": {
     "iopub.execute_input": "2021-02-09T09:47:03.037145Z",
     "iopub.status.busy": "2021-02-09T09:47:03.036893Z",
     "iopub.status.idle": "2021-02-09T09:47:03.041258Z",
     "shell.execute_reply": "2021-02-09T09:47:03.040955Z",
     "shell.execute_reply.started": "2021-02-09T09:47:03.037121Z"
    }
   },
   "outputs": [
    {
     "data": {
      "text/plain": [
       "LabelSmoothingCrossEntropy()"
      ]
     },
     "metadata": {},
     "output_type": "display_data"
    },
    {
     "data": {
      "text/plain": [
       "<function fastai.optimizer.ranger(p, lr, mom=0.95, wd=0.01, eps=1e-06, sqr_mom=0.99, beta=0.0, decouple_wd=True)>"
      ]
     },
     "metadata": {},
     "output_type": "display_data"
    },
    {
     "data": {
      "text/plain": [
       "(#9) [TrainEvalCallback,Recorder,ProgressCallback,CutMix,ShowGraphCallback,SaveModelCallback,GradientAccumulation,ReduceLROnPlateau,MixedPrecision]"
      ]
     },
     "metadata": {},
     "output_type": "display_data"
    }
   ],
   "source": [
    "display(learn.loss_func, learn.opt_func, learn.cbs)"
   ]
  },
  {
   "cell_type": "markdown",
   "id": "thousand-accommodation",
   "metadata": {},
   "source": [
    "<br>\n",
    "<br>\n",
    "<br>\n",
    "\n",
    "## Find a Good Learning Rate to Start With"
   ]
  },
  {
   "cell_type": "code",
   "execution_count": 18,
   "id": "sonic-craft",
   "metadata": {
    "execution": {
     "iopub.execute_input": "2021-02-09T09:47:04.430715Z",
     "iopub.status.busy": "2021-02-09T09:47:04.430331Z",
     "iopub.status.idle": "2021-02-09T09:47:04.433493Z",
     "shell.execute_reply": "2021-02-09T09:47:04.433063Z",
     "shell.execute_reply.started": "2021-02-09T09:47:04.430679Z"
    }
   },
   "outputs": [],
   "source": [
    "LR_DIV = 14e0  # Shift the lr_min left by this amount.  Adjust as necessary\n",
    "lr_min = 0.002  # just a default"
   ]
  },
  {
   "cell_type": "code",
   "execution_count": 19,
   "id": "classical-celtic",
   "metadata": {
    "execution": {
     "iopub.execute_input": "2021-02-09T09:47:05.358149Z",
     "iopub.status.busy": "2021-02-09T09:47:05.357912Z",
     "iopub.status.idle": "2021-02-09T09:48:25.190636Z",
     "shell.execute_reply": "2021-02-09T09:48:25.190359Z",
     "shell.execute_reply.started": "2021-02-09T09:47:05.358126Z"
    }
   },
   "outputs": [
    {
     "data": {
      "text/html": [],
      "text/plain": [
       "<IPython.core.display.HTML object>"
      ]
     },
     "metadata": {},
     "output_type": "display_data"
    },
    {
     "data": {
      "application/vnd.jupyter.widget-view+json": {
       "model_id": "009075e0d2ab453e930efe0de5c29cbf",
       "version_major": 2,
       "version_minor": 0
      },
      "text/plain": [
       "Canvas(toolbar=Toolbar(toolitems=[('Home', 'Reset original view', 'home', 'home'), ('Back', 'Back to previous …"
      ]
     },
     "metadata": {},
     "output_type": "display_data"
    },
    {
     "name": "stdout",
     "output_type": "stream",
     "text": [
      "Minimum/10: 1.10e-07, steepest point: 7.59e-07, (Mim/10)/14.0: 7.831986944698396e-09\n"
     ]
    }
   ],
   "source": [
    "if PRETRAINED_FLAG == True:\n",
    "    learn.freeze()\n",
    "    lr_min,lr_steep = learn.lr_find()\n",
    "    plt.axvline(lr_min, ls='--', color='red', label=f'lr_min={round(lr_min,6)}')\n",
    "    plt.axvline(lr_min/LR_DIV, ls='--', color='yellow', label=f'lr_min / {LR_DIV}={round(lr_min/LR_DIV,6)}')\n",
    "    plt.axvline(lr_steep, ls='--', color='grey', label=f'lr_steep={round(lr_steep,6)}')\n",
    "    plt.legend()\n",
    "    plt.show()\n",
    "\n",
    "    print(f\"Minimum/10: {lr_min:.2e}, steepest point: {lr_steep:.2e}, (Mim/10)/{LR_DIV}: {lr_min/LR_DIV}\")"
   ]
  },
  {
   "cell_type": "markdown",
   "id": "departmental-infrared",
   "metadata": {},
   "source": [
    "<br>\n",
    "<br>"
   ]
  },
  {
   "cell_type": "markdown",
   "id": "compliant-dynamics",
   "metadata": {},
   "source": [
    "# Pick a Good Initial Learning Rate"
   ]
  },
  {
   "cell_type": "code",
   "execution_count": 20,
   "id": "gentle-living",
   "metadata": {
    "execution": {
     "iopub.execute_input": "2021-02-09T09:51:04.027214Z",
     "iopub.status.busy": "2021-02-09T09:51:04.026954Z",
     "iopub.status.idle": "2021-02-09T09:51:04.029769Z",
     "shell.execute_reply": "2021-02-09T09:51:04.029251Z",
     "shell.execute_reply.started": "2021-02-09T09:51:04.027186Z"
    }
   },
   "outputs": [],
   "source": [
    "# LR_CHOICE = lr_min/LR_DIV\n",
    "# LR_CHOICE = lr_steep\n",
    "# LR_CHOICE = 8e-5\n",
    "LR_CHOICE = 2e-4"
   ]
  },
  {
   "cell_type": "markdown",
   "id": "intermediate-average",
   "metadata": {},
   "source": [
    "<br>\n",
    "<br>"
   ]
  },
  {
   "cell_type": "markdown",
   "id": "swedish-atmosphere",
   "metadata": {},
   "source": [
    "<br>\n",
    "<br>"
   ]
  },
  {
   "cell_type": "markdown",
   "id": "obvious-success",
   "metadata": {},
   "source": [
    "# Training the Model"
   ]
  },
  {
   "cell_type": "markdown",
   "id": "commercial-manchester",
   "metadata": {
    "slideshow": {
     "slide_type": "slide"
    }
   },
   "source": [
    "<br>\n",
    "\n",
    "## Fit the last layers, unfreeze, fit the whole net, with a decent initial LR, all in one go.\n",
    "\n"
   ]
  },
  {
   "cell_type": "code",
   "execution_count": 21,
   "id": "internal-wilson",
   "metadata": {
    "execution": {
     "iopub.execute_input": "2021-02-09T09:51:20.408599Z",
     "iopub.status.busy": "2021-02-09T09:51:20.408343Z",
     "iopub.status.idle": "2021-02-09T10:10:19.389970Z",
     "shell.execute_reply": "2021-02-09T10:10:19.389511Z",
     "shell.execute_reply.started": "2021-02-09T09:51:20.408573Z"
    }
   },
   "outputs": [
    {
     "name": "stdout",
     "output_type": "stream",
     "text": [
      "FROZEN_EPOCHS:  1\n",
      "EPOCHS:         40\n",
      "Learning Rate:  0.0002\n",
      "\n",
      "\n"
     ]
    },
    {
     "data": {
      "text/html": [
       "<table border=\"1\" class=\"dataframe\">\n",
       "  <thead>\n",
       "    <tr style=\"text-align: left;\">\n",
       "      <th>epoch</th>\n",
       "      <th>train_loss</th>\n",
       "      <th>valid_loss</th>\n",
       "      <th>accuracy</th>\n",
       "      <th>time</th>\n",
       "    </tr>\n",
       "  </thead>\n",
       "  <tbody>\n",
       "    <tr>\n",
       "      <td>0</td>\n",
       "      <td>1.226851</td>\n",
       "      <td>0.736670</td>\n",
       "      <td>0.833333</td>\n",
       "      <td>18:58</td>\n",
       "    </tr>\n",
       "  </tbody>\n",
       "</table>"
      ],
      "text/plain": [
       "<IPython.core.display.HTML object>"
      ]
     },
     "metadata": {},
     "output_type": "display_data"
    },
    {
     "data": {
      "application/vnd.jupyter.widget-view+json": {
       "model_id": "5ea3ae0f7ec2479c96c6595edd6c624c",
       "version_major": 2,
       "version_minor": 0
      },
      "text/plain": [
       "Canvas(toolbar=Toolbar(toolitems=[('Home', 'Reset original view', 'home', 'home'), ('Back', 'Back to previous …"
      ]
     },
     "metadata": {},
     "output_type": "display_data"
    },
    {
     "data": {
      "image/png": "[encoded data removed]",
      "text/plain": [
       "<Figure size 720x480 with 1 Axes>"
      ]
     },
     "metadata": {},
     "output_type": "display_data"
    }
   ],
   "source": [
    "\n",
    "\n",
    "if PRETRAINED_FLAG:\n",
    "    print(f'FROZEN_EPOCHS:  {FROZEN_EPOCHS}')\n",
    "print(f'EPOCHS:         {EPOCHS}')\n",
    "print(f'Learning Rate:  {LR_CHOICE}\\n\\n')\n",
    "\n",
    "if PRETRAINED_FLAG:\n",
    "    learn.fit_flat_cos(FROZEN_EPOCHS, slice(LR_CHOICE), pct_start=0.99, wd=0.1)\n"
   ]
  },
  {
   "cell_type": "markdown",
   "id": "collective-vocabulary",
   "metadata": {},
   "source": [
    "## Manually set up the unfrozen runs"
   ]
  },
  {
   "cell_type": "code",
   "execution_count": 22,
   "id": "cooked-zoning",
   "metadata": {
    "execution": {
     "iopub.execute_input": "2021-02-09T10:17:12.106394Z",
     "iopub.status.busy": "2021-02-09T10:17:12.106126Z",
     "iopub.status.idle": "2021-02-09T10:17:12.115872Z",
     "shell.execute_reply": "2021-02-09T10:17:12.115491Z",
     "shell.execute_reply.started": "2021-02-09T10:17:12.106367Z"
    }
   },
   "outputs": [],
   "source": [
    "learn.unfreeze()"
   ]
  },
  {
   "cell_type": "code",
   "execution_count": null,
   "id": "solved-ivory",
   "metadata": {
    "execution": {
     "iopub.execute_input": "2021-02-09T10:17:14.082982Z",
     "iopub.status.busy": "2021-02-09T10:17:14.082762Z"
    }
   },
   "outputs": [
    {
     "data": {
      "text/html": [
       "\n",
       "    <div>\n",
       "        <style>\n",
       "            /* Turns off some styling */\n",
       "            progress {\n",
       "                /* gets rid of default border in Firefox and Opera. */\n",
       "                border: none;\n",
       "                /* Needs to be in here for Safari polyfill so background images work as expected. */\n",
       "                background-size: auto;\n",
       "            }\n",
       "            .progress-bar-interrupted, .progress-bar-interrupted::-webkit-progress-bar {\n",
       "                background: #F44336;\n",
       "            }\n",
       "        </style>\n",
       "      <progress value='0' class='' max='1' style='width:300px; height:20px; vertical-align: middle;'></progress>\n",
       "      0.00% [0/1 00:00<00:00]\n",
       "    </div>\n",
       "    \n",
       "\n",
       "\n",
       "    <div>\n",
       "        <style>\n",
       "            /* Turns off some styling */\n",
       "            progress {\n",
       "                /* gets rid of default border in Firefox and Opera. */\n",
       "                border: none;\n",
       "                /* Needs to be in here for Safari polyfill so background images work as expected. */\n",
       "                background-size: auto;\n",
       "            }\n",
       "            .progress-bar-interrupted, .progress-bar-interrupted::-webkit-progress-bar {\n",
       "                background: #F44336;\n",
       "            }\n",
       "        </style>\n",
       "      <progress value='61' class='' max='1397' style='width:300px; height:20px; vertical-align: middle;'></progress>\n",
       "      4.37% [61/1397 01:34<34:40 1.3041]\n",
       "    </div>\n",
       "    "
      ],
      "text/plain": [
       "<IPython.core.display.HTML object>"
      ]
     },
     "metadata": {},
     "output_type": "display_data"
    }
   ],
   "source": [
    "lr_min,lr_steep = learn.lr_find()\n",
    "plt.axvline(lr_min, ls='--', color='red', label=f'lr_min={round(lr_min,6)}')\n",
    "plt.axvline(LR_CHOICE/2, ls='--', color='yellow', label=f'LR_CHOICE/2={round(LR_CHOICE/2,6)}')\n",
    "plt.axvline(lr_steep, ls='--', color='grey', label=f'lr_steep={round(lr_steep,6)}')\n",
    "plt.axvline(2e-5, ls='--', color='green', label=f'{round(2e-5,6)}')\n",
    "plt.axvline(7e-5, ls='--', color='orange', label=f'{round(7e-5,6)}')\n",
    "\n",
    "plt.legend()\n",
    "plt.show()"
   ]
  },
  {
   "cell_type": "code",
   "execution_count": null,
   "id": "industrial-linux",
   "metadata": {},
   "outputs": [],
   "source": [
    "print(f\"Minimum/10: {lr_min:.2e}, steepest point: {lr_steep:.2e}, LR_CHOICE/2: {LR_CHOICE / 2}\")"
   ]
  },
  {
   "cell_type": "markdown",
   "id": "normal-sunrise",
   "metadata": {},
   "source": [
    "## Pick a new Learning Rate"
   ]
  },
  {
   "cell_type": "code",
   "execution_count": null,
   "id": "extensive-enforcement",
   "metadata": {},
   "outputs": [],
   "source": [
    "# LR_CHOICE_UNFROZ = lr_min/LR_DIV\n",
    "# LR_CHOICE_UNFROZ = LR_CHOICE / 2\n",
    "# LR_CHOICE_UNFROZ = 0.00015\n",
    "# LR_CHOICE_UNFROZ = 10e-5\n",
    "# LR_CHOICE_UNFROZ = 0.00008\n",
    "# LR_CHOICE_UNFROZ = 5.5e-5\n",
    "# LR_CHOICE_UNFROZ = 1.7e-4\n",
    "# LR_CHOICE_UNFROZ = 6e-5\n",
    "# LR_CHOICE_UNFROZ = lr_min\n",
    "LR_CHOICE_UNFROZ = 1e-3"
   ]
  },
  {
   "cell_type": "markdown",
   "id": "social-electron",
   "metadata": {},
   "source": [
    "### Train"
   ]
  },
  {
   "cell_type": "code",
   "execution_count": null,
   "id": "female-nudist",
   "metadata": {},
   "outputs": [],
   "source": [
    "EPOCHS = 10"
   ]
  },
  {
   "cell_type": "code",
   "execution_count": null,
   "id": "objective-dance",
   "metadata": {},
   "outputs": [],
   "source": [
    "print(f'EPOCHS:         {EPOCHS}')\n",
    "print(f'Learning Rate:  {LR_CHOICE_UNFROZ}\\n\\n')"
   ]
  },
  {
   "cell_type": "code",
   "execution_count": null,
   "id": "available-stanley",
   "metadata": {},
   "outputs": [],
   "source": [
    "# learn.fit_flat_cos(EPOCHS, slice(LR_CHOICE_UNFROZ), pct_start=0.68)\n",
    "learn.fit_flat_cos(EPOCHS, slice(LR_CHOICE_UNFROZ), pct_start=0.5)"
   ]
  },
  {
   "cell_type": "markdown",
   "id": "complex-pillow",
   "metadata": {},
   "source": [
    "<br>\n",
    "<br>\n",
    "\n",
    "## Persist the Model"
   ]
  },
  {
   "cell_type": "code",
   "execution_count": null,
   "id": "light-colors",
   "metadata": {},
   "outputs": [],
   "source": [
    "learn.export(f'../models/{RUN_NAME}.pkl')\n",
    "# path = Path('../models')\n",
    "# path.ls(file_exts='.pkl')"
   ]
  },
  {
   "cell_type": "markdown",
   "id": "based-kenya",
   "metadata": {},
   "source": [
    "<br>\n",
    "<br>"
   ]
  },
  {
   "cell_type": "markdown",
   "id": "multiple-oracle",
   "metadata": {},
   "source": [
    "### Show some Results"
   ]
  },
  {
   "cell_type": "code",
   "execution_count": null,
   "id": "conscious-discharge",
   "metadata": {},
   "outputs": [],
   "source": [
    "learn.show_results()"
   ]
  },
  {
   "cell_type": "markdown",
   "id": "running-grocery",
   "metadata": {},
   "source": [
    "<br>\n",
    "<hr>\n",
    "<br>\n",
    "<br>\n",
    "<br>"
   ]
  },
  {
   "cell_type": "markdown",
   "id": "funded-mining",
   "metadata": {},
   "source": [
    "# Validation Set (not test set) Analysis"
   ]
  },
  {
   "cell_type": "markdown",
   "id": "harmful-sequence",
   "metadata": {},
   "source": [
    "<br>\n",
    "\n",
    "### Plot Losses"
   ]
  },
  {
   "cell_type": "code",
   "execution_count": null,
   "id": "english-guinea",
   "metadata": {},
   "outputs": [],
   "source": [
    "# learn.recorder.plot_loss()\n",
    "# plt.ylabel('Loss')\n",
    "# plt.xlabel('Batches Processed')"
   ]
  },
  {
   "cell_type": "markdown",
   "id": "saving-authority",
   "metadata": {},
   "source": [
    "<br>\n",
    "\n",
    "### Visualize with a confusion Matrix"
   ]
  },
  {
   "cell_type": "code",
   "execution_count": null,
   "id": "lucky-action",
   "metadata": {},
   "outputs": [],
   "source": [
    "interp = ClassificationInterpretation.from_learner(learn)\n",
    "interp.plot_confusion_matrix(figsize=(8,8))"
   ]
  },
  {
   "cell_type": "code",
   "execution_count": null,
   "id": "identified-stake",
   "metadata": {},
   "outputs": [],
   "source": [
    "interp.most_confused()[:10]"
   ]
  },
  {
   "cell_type": "markdown",
   "id": "indonesian-syndicate",
   "metadata": {},
   "source": [
    "<br>\n",
    "<br>"
   ]
  },
  {
   "cell_type": "markdown",
   "id": "nominated-steal",
   "metadata": {},
   "source": [
    "## Classification Report"
   ]
  },
  {
   "cell_type": "code",
   "execution_count": null,
   "id": "criminal-settlement",
   "metadata": {},
   "outputs": [],
   "source": [
    "interp.print_classification_report()"
   ]
  },
  {
   "cell_type": "markdown",
   "id": "manufactured-petroleum",
   "metadata": {},
   "source": [
    "<br>\n",
    "\n",
    "### Show the top 15 most error prone images"
   ]
  },
  {
   "cell_type": "code",
   "execution_count": null,
   "id": "southeast-knowing",
   "metadata": {},
   "outputs": [],
   "source": [
    "interp.plot_top_losses(15, nrows=5)"
   ]
  },
  {
   "cell_type": "markdown",
   "id": "direct-share",
   "metadata": {},
   "source": [
    "## Validation"
   ]
  },
  {
   "cell_type": "code",
   "execution_count": null,
   "id": "stone-senior",
   "metadata": {},
   "outputs": [],
   "source": [
    "test_learn = learn\n",
    "\n",
    "# load_learner('../models/20210205-1716 - arch=xresnet34 - samples=1800 frozen=1 epochs=40 bs=32 res=340.pkl', cpu=False)\n",
    "# load_model(f'models/{RUN_NAME}_26.pth', test_learn, opt=Adam, with_opt=False)\n"
   ]
  },
  {
   "cell_type": "code",
   "execution_count": null,
   "id": "equivalent-kingston",
   "metadata": {},
   "outputs": [],
   "source": [
    "def get_test_fnames(path):\n",
    "    retlist = []\n",
    "    \n",
    "    for l in test_flist.values():\n",
    "        for f in l:\n",
    "            retlist.append(f)\n",
    "            \n",
    "    return random.sample(retlist, len(retlist))"
   ]
  },
  {
   "cell_type": "code",
   "execution_count": null,
   "id": "tropical-chosen",
   "metadata": {},
   "outputs": [],
   "source": [
    "test_db = DataBlock(\n",
    "    blocks=(ImageBlock, CategoryBlock), \n",
    "    get_items=get_test_fnames,\n",
    "    get_y=parent_label, \n",
    "    item_tfms=Resize(RESOLUTION, method='bilinear'), batch_tfms=batch_tfms) #,\n",
    "#     item_tfms=CropPad(RESOLUTION, pad_mode='zeros'))\n",
    "#    ,    batch_tfms=aug_transforms(do_flip=True, size=RESOLUTION, batch=False, max_zoom=1.0, mult=1, pad_mode='zeros'))\n",
    "\n",
    "\n",
    "dls = test_db.dataloaders(get_test_fnames, bs=BATCH_SIZE)\n",
    "\n",
    "test_dl = dls.test_dl(get_test_fnames('None'), with_labels=True)"
   ]
  },
  {
   "cell_type": "markdown",
   "id": "indirect-bleeding",
   "metadata": {},
   "source": [
    "####  Get the Inferrences on the Test Set"
   ]
  },
  {
   "cell_type": "code",
   "execution_count": null,
   "id": "bibliographic-appraisal",
   "metadata": {},
   "outputs": [],
   "source": [
    "inputs, preds, targs, decoded, losses = test_learn.get_preds(dl=test_dl, with_input=True, with_decoded=True, with_loss=True)\n"
   ]
  },
  {
   "cell_type": "code",
   "execution_count": null,
   "id": "usual-theory",
   "metadata": {},
   "outputs": [],
   "source": [
    "interp = ClassificationInterpretation(dl=test_dl, inputs=inputs, preds=preds, targs=targs, decoded=decoded, losses=losses )"
   ]
  },
  {
   "cell_type": "markdown",
   "id": "enclosed-pointer",
   "metadata": {},
   "source": [
    "<br>\n",
    "\n",
    "### Visualize with a confusion Matrix"
   ]
  },
  {
   "cell_type": "code",
   "execution_count": null,
   "id": "faced-oklahoma",
   "metadata": {},
   "outputs": [],
   "source": [
    "interp.plot_confusion_matrix(figsize=(8,8))"
   ]
  },
  {
   "cell_type": "code",
   "execution_count": null,
   "id": "colonial-audio",
   "metadata": {},
   "outputs": [],
   "source": [
    "interp.most_confused()[:10]"
   ]
  },
  {
   "cell_type": "markdown",
   "id": "animal-hammer",
   "metadata": {},
   "source": [
    "<br>\n",
    "<br>"
   ]
  },
  {
   "cell_type": "markdown",
   "id": "expanded-chapel",
   "metadata": {},
   "source": [
    "## Classification Report"
   ]
  },
  {
   "cell_type": "code",
   "execution_count": null,
   "id": "competitive-friendship",
   "metadata": {},
   "outputs": [],
   "source": [
    "interp.print_classification_report()"
   ]
  },
  {
   "cell_type": "code",
   "execution_count": null,
   "id": "employed-suicide",
   "metadata": {},
   "outputs": [],
   "source": [
    "interp.plot_top_losses(k=15)"
   ]
  },
  {
   "cell_type": "markdown",
   "id": "presidential-somerset",
   "metadata": {},
   "source": [
    "## Archive this version of the notehook"
   ]
  },
  {
   "cell_type": "code",
   "execution_count": null,
   "id": "recorded-feeling",
   "metadata": {},
   "outputs": [],
   "source": [
    "import os\n",
    "import shutil\n",
    "\n",
    "# Allow Jupyter the opportunity to autosave\n",
    "# !sleep 20\n",
    "# time = '20210122-2356'\n",
    "# copy the notebook file - the prefix links it to the saved model\n",
    "shutil.copyfile('FastAI Cassava Disease Classification-Copy1.ipynb', f'.Archive/{time} - FastAI Cassava Disease Classification-Copy1.ipynb')"
   ]
  },
  {
   "cell_type": "code",
   "execution_count": null,
   "id": "drawn-senegal",
   "metadata": {},
   "outputs": [],
   "source": []
  },
  {
   "cell_type": "code",
   "execution_count": null,
   "id": "preliminary-forth",
   "metadata": {},
   "outputs": [],
   "source": []
  }
 ],
 "metadata": {
  "kernelspec": {
   "display_name": "Python 3",
   "language": "python",
   "name": "python3"
  },
  "language_info": {
   "codemirror_mode": {
    "name": "ipython",
    "version": 3
   },
   "file_extension": ".py",
   "mimetype": "text/x-python",
   "name": "python",
   "nbconvert_exporter": "python",
   "pygments_lexer": "ipython3",
   "version": "3.8.6"
  },
  "widgets": {
   "application/vnd.jupyter.widget-state+json": {
    "state": {},
    "version_major": 2,
    "version_minor": 0
   }
  }
 },
 "nbformat": 4,
 "nbformat_minor": 5
}
