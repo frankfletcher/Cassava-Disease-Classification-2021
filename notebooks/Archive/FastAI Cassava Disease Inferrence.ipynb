{
 "cells": [
  {
   "cell_type": "code",
   "execution_count": 1,
   "id": "beautiful-hobby",
   "metadata": {
    "execution": {
     "iopub.execute_input": "2021-02-14T09:19:50.270932Z",
     "iopub.status.busy": "2021-02-14T09:19:50.270741Z",
     "iopub.status.idle": "2021-02-14T09:19:51.180525Z",
     "shell.execute_reply": "2021-02-14T09:19:51.180071Z",
     "shell.execute_reply.started": "2021-02-14T09:19:50.270883Z"
    }
   },
   "outputs": [],
   "source": [
    "from fastai.vision.all import *\n",
    "from fastai.vision.widgets import *\n",
    "import fastai\n",
    "from sklearn.metrics import classification_report\n",
    "from sklearn.metrics import accuracy_score"
   ]
  },
  {
   "cell_type": "code",
   "execution_count": 2,
   "id": "athletic-algebra",
   "metadata": {
    "execution": {
     "iopub.execute_input": "2021-02-14T09:19:51.181488Z",
     "iopub.status.busy": "2021-02-14T09:19:51.181376Z",
     "iopub.status.idle": "2021-02-14T09:19:51.183561Z",
     "shell.execute_reply": "2021-02-14T09:19:51.183193Z",
     "shell.execute_reply.started": "2021-02-14T09:19:51.181476Z"
    }
   },
   "outputs": [],
   "source": [
    "RUN_NAME_OF_MODEL_TO_LOAD = '20210210-1221 - arch=tf_efficientnet_b4_ns - samples=1800 frozen=1 epochs=40 bs=8 res=480'\n",
    "\n",
    "\n",
    "#f'20210209-0234 - arch=tf_efficientnet_b4_ns - samples=1800 frozen=1 epochs=40 bs=7 res=456'\n",
    "EPOCH_TO_LOAD = 2\n",
    "# RESOLUTION = round(380 * 1.2)  # 300\n",
    "RESOLUTION=800\n",
    "BATCH_SIZE = 10\n",
    "SAMPLE_SIZE = 1000\n",
    "\n",
    "path = '../data'\n",
    "sub = 'train_images'  # 'test_images'\n",
    "# dataset_path = Path(path)"
   ]
  },
  {
   "cell_type": "code",
   "execution_count": 3,
   "id": "little-claim",
   "metadata": {
    "execution": {
     "iopub.execute_input": "2021-02-14T09:19:51.184266Z",
     "iopub.status.busy": "2021-02-14T09:19:51.184158Z",
     "iopub.status.idle": "2021-02-14T09:19:51.252894Z",
     "shell.execute_reply": "2021-02-14T09:19:51.252497Z",
     "shell.execute_reply.started": "2021-02-14T09:19:51.184255Z"
    }
   },
   "outputs": [],
   "source": [
    "from timm import create_model\n",
    "from fastai.vision.learner import _update_first_layer\n",
    "\n",
    "def create_timm_body(arch:str, pretrained=True, cut=None, n_in=3):\n",
    "    \"Creates a body from any model in the `timm` library.\"\n",
    "    model = create_model(arch, pretrained=pretrained, num_classes=0, global_pool='')\n",
    "    _update_first_layer(model, n_in, pretrained)\n",
    "    if cut is None:\n",
    "        ll = list(enumerate(model.children()))\n",
    "        cut = next(i for i,o in reversed(ll) if has_pool_type(o))\n",
    "    if isinstance(cut, int): return nn.Sequential(*list(model.children())[:cut])\n",
    "    elif callable(cut): return cut(model)\n",
    "    else: raise NamedError(\"cut must be either integer or function\")\n",
    "        \n",
    "def create_timm_model(arch:str, n_out, cut=None, pretrained=True, n_in=3, init=nn.init.kaiming_normal_, custom_head=None,\n",
    "                     concat_pool=False, **kwargs):\n",
    "    \"Create custom architecture using `arch`, `n_in` and `n_out` from the `timm` library\"\n",
    "    body = create_timm_body(arch, pretrained, None, n_in)\n",
    "    if custom_head is None:\n",
    "        nf = num_features_model(nn.Sequential(*body.children())) * (2 if concat_pool else 1)\n",
    "        head = create_head(nf, n_out, concat_pool=concat_pool, **kwargs)\n",
    "    else: head = custom_head\n",
    "    model = nn.Sequential(body, head)\n",
    "    if init is not None: apply_init(model[1], init)\n",
    "    return model\n",
    "\n",
    "\n",
    "def timm_learner(dls, arch:str, loss_func=None, pretrained=True, cut=None, splitter=None,\n",
    "                y_range=None, config=None, n_out=None, normalize=True, **kwargs):\n",
    "    \"Build a convnet style learner from `dls` and `arch` using the `timm` library\"\n",
    "    if config is None: config = {}\n",
    "    if n_out is None: n_out = get_c(dls)\n",
    "    assert n_out, \"`n_out` is not defined, and could not be inferred from data, set `dls.c` or pass `n_out`\"\n",
    "    if y_range is None and 'y_range' in config: y_range = config.pop('y_range')\n",
    "    model = create_timm_model(arch, n_out, default_split, pretrained, y_range=y_range, **config)\n",
    "    learn = Learner(dls, model, loss_func=loss_func, splitter=default_split, **kwargs)\n",
    "    if pretrained: learn.freeze()\n",
    "    return learn"
   ]
  },
  {
   "cell_type": "code",
   "execution_count": null,
   "id": "isolated-joseph",
   "metadata": {},
   "outputs": [],
   "source": []
  },
  {
   "cell_type": "code",
   "execution_count": 4,
   "id": "normal-authorization",
   "metadata": {
    "execution": {
     "iopub.execute_input": "2021-02-14T09:19:51.253677Z",
     "iopub.status.busy": "2021-02-14T09:19:51.253516Z",
     "iopub.status.idle": "2021-02-14T09:19:51.263006Z",
     "shell.execute_reply": "2021-02-14T09:19:51.262570Z",
     "shell.execute_reply.started": "2021-02-14T09:19:51.253661Z"
    }
   },
   "outputs": [],
   "source": [
    "# sample_df = pd.read_csv(f'{path}/sample_submission.csv')\n",
    "sample_df = pd.read_csv(f'{path}/train.csv')\n",
    "# sample_df = sample_df.head(50)"
   ]
  },
  {
   "cell_type": "code",
   "execution_count": 5,
   "id": "overhead-elephant",
   "metadata": {
    "execution": {
     "iopub.execute_input": "2021-02-14T09:19:51.263719Z",
     "iopub.status.busy": "2021-02-14T09:19:51.263565Z",
     "iopub.status.idle": "2021-02-14T09:19:51.266876Z",
     "shell.execute_reply": "2021-02-14T09:19:51.266443Z",
     "shell.execute_reply.started": "2021-02-14T09:19:51.263703Z"
    }
   },
   "outputs": [],
   "source": [
    "# sample_df['image_id'] =  f'{path}/' + sample_df['image_id'].astype(str)\n",
    "cols = sample_df.columns.tolist()\n",
    "cols = cols[::-1]\n",
    "sample_df = sample_df[cols]"
   ]
  },
  {
   "cell_type": "code",
   "execution_count": 6,
   "id": "developing-spoke",
   "metadata": {
    "execution": {
     "iopub.execute_input": "2021-02-14T09:19:51.267591Z",
     "iopub.status.busy": "2021-02-14T09:19:51.267424Z",
     "iopub.status.idle": "2021-02-14T09:19:51.270887Z",
     "shell.execute_reply": "2021-02-14T09:19:51.270527Z",
     "shell.execute_reply.started": "2021-02-14T09:19:51.267573Z"
    }
   },
   "outputs": [],
   "source": [
    "sample_df = sample_df.sample(n=SAMPLE_SIZE, replace=False)  # random sample"
   ]
  },
  {
   "cell_type": "raw",
   "id": "scheduled-venture",
   "metadata": {
    "execution": {
     "iopub.execute_input": "2021-02-10T10:43:52.972222Z",
     "iopub.status.busy": "2021-02-10T10:43:52.971923Z",
     "iopub.status.idle": "2021-02-10T10:43:53.020481Z",
     "shell.execute_reply": "2021-02-10T10:43:53.020073Z",
     "shell.execute_reply.started": "2021-02-10T10:43:52.972192Z"
    }
   },
   "source": [
    "\n",
    "\n",
    "def get_fnames(path):\n",
    "\n",
    "    retlist = list(sample_df['image_id'])\n",
    "            \n",
    "    return random.sample(retlist, len(retlist))\n",
    "\n",
    "aug_tfms =  aug_transforms(size=round(RESOLUTION * 1), pad_mode='zeros', do_flip=True, batch=False, \n",
    "                               p_affine=0.4, max_rotate=20, max_warp=0, min_zoom=1.0, max_zoom=1.0, \n",
    "                               mult=3.8,  p_lighting=0., max_lighting=0.1)\n",
    "\n",
    "sat = Saturation(p=0.7, max_lighting=0.15)\n",
    "\n",
    "# batch_tfms = [ Normalize.from_stats(*imagenet_stats), sat]\n",
    "batch_tfms = [ *aug_tfms, sat, Normalize.from_stats(*imagenet_stats) ]\n",
    "\n",
    "\n",
    "\n",
    "\n",
    "# item_tfms=RandomResizedCrop(RESOLUTION)\n",
    "item_tfms=Resize(RESOLUTION, method='bilinear', pad_mode='zeros')\n",
    "# item_tfms=RatioResize(RESOLUTION)\n",
    "\n",
    "\n",
    "# img_db = DataBlock(\n",
    "#     blocks=(ImageBlock, CategoryBlock), \n",
    "#     get_items=get_fnames, \n",
    "#     splitter=RandomSplitter(valid_pct=0.28, seed=42),\n",
    "#     get_y=parent_label,\n",
    "#     item_tfms=item_tfms , batch_tfms=batch_tfms)\n",
    "\n",
    "# dls = img_db.dataloaders(dataset_path, batch_size=BATCH_SIZE)\n",
    "dls = ImageDataLoaders.from_df(sample_df, folder=f'../data/{sub}', seed=42, label_col = 0, fn_col=1, \n",
    "                               batch_tfms=batch_tfms, bs=BATCH_SIZE, item_tfms=item_tfms)\n",
    "test_dl = dls.test_dl(sample_df)"
   ]
  },
  {
   "cell_type": "code",
   "execution_count": 8,
   "id": "substantial-luther",
   "metadata": {
    "execution": {
     "iopub.execute_input": "2021-02-14T09:20:04.634674Z",
     "iopub.status.busy": "2021-02-14T09:20:04.634388Z",
     "iopub.status.idle": "2021-02-14T09:20:06.283715Z",
     "shell.execute_reply": "2021-02-14T09:20:06.283330Z",
     "shell.execute_reply.started": "2021-02-14T09:20:04.634643Z"
    }
   },
   "outputs": [],
   "source": [
    "aug_tfms =  aug_transforms(size=RESOLUTION, pad_mode='reflection', do_flip=True, batch=False, \n",
    "                               p_affine=0.7, max_rotate=45, max_warp=0, min_zoom=1.0, max_zoom=2.5, \n",
    "                               mult=3,  p_lighting=0.5, max_lighting=0.1, min_scale=0.75) #,xtra_tfms=[sha])\n",
    "\n",
    "sat = Saturation(p=0.7, max_lighting=0.2)\n",
    "\n",
    "# batch_tfms = [ Normalize.from_stats(*imagenet_stats), sat]\n",
    "batch_tfms = [ *aug_tfms, sat, Normalize.from_stats(*imagenet_stats)]#, sha]\n",
    "\n",
    "#     item_tfms=RandomResizedCrop(RESOLUTION)\n",
    "item_tfms=Resize(RESOLUTION, method='bilinear', pad_mode='zeros')\n",
    "#     item_tfms=RatioResize(RESOLUTION)\n",
    "\n",
    "dls = ImageDataLoaders.from_df(sample_df, folder=f'../data/{sub}', seed=42, label_col = 0, fn_col=1, \n",
    "                               batch_tfms=batch_tfms, bs=BATCH_SIZE, item_tfms=item_tfms)\n",
    "test_dl = dls.test_dl(sample_df)"
   ]
  },
  {
   "cell_type": "code",
   "execution_count": null,
   "id": "fallen-walter",
   "metadata": {},
   "outputs": [],
   "source": [
    "dls.test_dl"
   ]
  },
  {
   "cell_type": "raw",
   "id": "lesbian-mining",
   "metadata": {
    "execution": {
     "iopub.execute_input": "2021-02-11T00:06:57.986535Z",
     "iopub.status.busy": "2021-02-11T00:06:57.986277Z",
     "iopub.status.idle": "2021-02-11T00:06:57.995725Z",
     "shell.execute_reply": "2021-02-11T00:06:57.995113Z",
     "shell.execute_reply.started": "2021-02-11T00:06:57.986512Z"
    }
   },
   "source": [
    "# General use - if the model was pickled\n",
    "model = load_learner(f'../models/{RUN_NAME_OF_MODEL_TO_LOAD}.pkl', cpu=False)\n",
    "load_model(f'models/{RUN_NAME_OF_MODEL_TO_LOAD}_{EPOCH_TO_LOAD}.pth', model, opt=Adam, with_opt=False)"
   ]
  },
  {
   "cell_type": "code",
   "execution_count": 38,
   "id": "differential-style",
   "metadata": {
    "execution": {
     "iopub.execute_input": "2021-02-11T00:24:07.721779Z",
     "iopub.status.busy": "2021-02-11T00:24:07.721523Z",
     "iopub.status.idle": "2021-02-11T00:24:08.254793Z",
     "shell.execute_reply": "2021-02-11T00:24:08.254371Z",
     "shell.execute_reply.started": "2021-02-11T00:24:07.721755Z"
    }
   },
   "outputs": [],
   "source": [
    "# model = load_learner(f'../models/{RUN_NAME_OF_MODEL_TO_LOAD}.pkl', cpu=False)\n",
    "import timm\n",
    "model = timm_learner(dls,\n",
    "                    'tf_efficientnet_b4_ns',\n",
    "                     opt_func=ranger,\n",
    "                     loss_func=LabelSmoothingCrossEntropy(),\n",
    "          #           cbs=cbs,\n",
    "                     metrics = [accuracy]).to_fp16()\n",
    "\n",
    "load_model(f'models/{RUN_NAME_OF_MODEL_TO_LOAD}_{EPOCH_TO_LOAD}.pth', model, opt=Adam, with_opt=False)"
   ]
  },
  {
   "cell_type": "code",
   "execution_count": 39,
   "id": "violent-landscape",
   "metadata": {
    "execution": {
     "iopub.execute_input": "2021-02-11T00:24:08.394255Z",
     "iopub.status.busy": "2021-02-11T00:24:08.394003Z",
     "iopub.status.idle": "2021-02-11T00:26:20.010826Z",
     "shell.execute_reply": "2021-02-11T00:26:20.010329Z",
     "shell.execute_reply.started": "2021-02-11T00:24:08.394234Z"
    }
   },
   "outputs": [
    {
     "data": {
      "text/html": [
       "\n",
       "    <div>\n",
       "        <style>\n",
       "            /* Turns off some styling */\n",
       "            progress {\n",
       "                /* gets rid of default border in Firefox and Opera. */\n",
       "                border: none;\n",
       "                /* Needs to be in here for Safari polyfill so background images work as expected. */\n",
       "                background-size: auto;\n",
       "            }\n",
       "            .progress-bar-interrupted, .progress-bar-interrupted::-webkit-progress-bar {\n",
       "                background: #F44336;\n",
       "            }\n",
       "        </style>\n",
       "      <progress value='0' class='' max='1' style='width:300px; height:20px; vertical-align: middle;'></progress>\n",
       "      \n",
       "    </div>\n",
       "    \n"
      ],
      "text/plain": [
       "<IPython.core.display.HTML object>"
      ]
     },
     "metadata": {},
     "output_type": "display_data"
    },
    {
     "data": {
      "text/html": [],
      "text/plain": [
       "<IPython.core.display.HTML object>"
      ]
     },
     "metadata": {},
     "output_type": "display_data"
    }
   ],
   "source": [
    "preds, something = model.tta(dl=test_dl, n=5, use_max=False, beta=0.18)"
   ]
  },
  {
   "cell_type": "code",
   "execution_count": 40,
   "id": "satisfactory-deficit",
   "metadata": {
    "execution": {
     "iopub.execute_input": "2021-02-11T00:26:20.013440Z",
     "iopub.status.busy": "2021-02-11T00:26:20.013280Z",
     "iopub.status.idle": "2021-02-11T00:26:20.015573Z",
     "shell.execute_reply": "2021-02-11T00:26:20.015137Z",
     "shell.execute_reply.started": "2021-02-11T00:26:20.013422Z"
    }
   },
   "outputs": [],
   "source": [
    "# test_dl.show_batch()"
   ]
  },
  {
   "cell_type": "code",
   "execution_count": 41,
   "id": "narrow-mercy",
   "metadata": {
    "execution": {
     "iopub.execute_input": "2021-02-11T00:26:20.019629Z",
     "iopub.status.busy": "2021-02-11T00:26:20.019475Z",
     "iopub.status.idle": "2021-02-11T00:26:20.025589Z",
     "shell.execute_reply": "2021-02-11T00:26:20.025331Z",
     "shell.execute_reply.started": "2021-02-11T00:26:20.019613Z"
    }
   },
   "outputs": [
    {
     "name": "stdout",
     "output_type": "stream",
     "text": [
      "              precision    recall  f1-score   support\n",
      "\n",
      "           0       0.59      0.71      0.65        49\n",
      "           1       0.90      0.75      0.82       104\n",
      "           2       0.80      0.82      0.81       106\n",
      "           3       0.96      0.93      0.94       609\n",
      "           4       0.71      0.83      0.76       132\n",
      "\n",
      "    accuracy                           0.88      1000\n",
      "   macro avg       0.79      0.81      0.80      1000\n",
      "weighted avg       0.89      0.88      0.88      1000\n",
      "\n"
     ]
    }
   ],
   "source": [
    "# preds, something = model.tta(dl=test_dl, n=5)  #, use_max=False, beta=0.1)\n",
    "print(classification_report(sample_df.iloc[:,0], preds.argmax(dim=-1).numpy()))  # TTA"
   ]
  },
  {
   "cell_type": "code",
   "execution_count": 35,
   "id": "noble-frame",
   "metadata": {
    "execution": {
     "iopub.execute_input": "2021-02-11T00:23:00.559758Z",
     "iopub.status.busy": "2021-02-11T00:23:00.559617Z",
     "iopub.status.idle": "2021-02-11T00:23:22.161862Z",
     "shell.execute_reply": "2021-02-11T00:23:22.161317Z",
     "shell.execute_reply.started": "2021-02-11T00:23:00.559744Z"
    }
   },
   "outputs": [
    {
     "data": {
      "text/html": [],
      "text/plain": [
       "<IPython.core.display.HTML object>"
      ]
     },
     "metadata": {},
     "output_type": "display_data"
    },
    {
     "name": "stdout",
     "output_type": "stream",
     "text": [
      "              precision    recall  f1-score   support\n",
      "\n",
      "           0       0.67      0.69      0.68        49\n",
      "           1       0.96      0.73      0.83       104\n",
      "           2       0.65      0.91      0.76       106\n",
      "           3       0.97      0.91      0.94       609\n",
      "           4       0.75      0.84      0.79       132\n",
      "\n",
      "    accuracy                           0.87      1000\n",
      "   macro avg       0.80      0.82      0.80      1000\n",
      "weighted avg       0.89      0.87      0.87      1000\n",
      "\n"
     ]
    }
   ],
   "source": [
    "\n",
    "preds2 = model.get_preds(dl=test_dl)\n",
    "print(classification_report(sample_df.iloc[:,0], preds2[0].argmax(dim=-1).numpy()))  # straight"
   ]
  },
  {
   "cell_type": "code",
   "execution_count": 29,
   "id": "better-spouse",
   "metadata": {
    "execution": {
     "iopub.execute_input": "2021-02-11T00:19:37.212867Z",
     "iopub.status.busy": "2021-02-11T00:19:37.212700Z",
     "iopub.status.idle": "2021-02-11T00:19:37.220192Z",
     "shell.execute_reply": "2021-02-11T00:19:37.219722Z",
     "shell.execute_reply.started": "2021-02-11T00:19:37.212848Z"
    }
   },
   "outputs": [
    {
     "name": "stdout",
     "output_type": "stream",
     "text": [
      "              precision    recall  f1-score   support\n",
      "\n",
      "           0       0.63      0.69      0.66        49\n",
      "           1       0.92      0.69      0.79       104\n",
      "           2       0.63      0.89      0.74       106\n",
      "           3       0.98      0.87      0.92       609\n",
      "           4       0.67      0.89      0.76       132\n",
      "\n",
      "    accuracy                           0.85      1000\n",
      "   macro avg       0.77      0.81      0.78      1000\n",
      "weighted avg       0.88      0.85      0.86      1000\n",
      "\n"
     ]
    }
   ],
   "source": [
    "print(classification_report(sample_df.iloc[:,0], ((preds + preds2[0]).argmax(dim=-1).numpy())))  # average"
   ]
  },
  {
   "cell_type": "code",
   "execution_count": null,
   "id": "quantitative-mercury",
   "metadata": {},
   "outputs": [],
   "source": [
    "print(classification_report(sample_df.iloc[:,0], (torch.maximum(preds,preds2[0]).argmax(dim=-1).numpy())))  # max"
   ]
  },
  {
   "cell_type": "raw",
   "id": "verified-making",
   "metadata": {
    "execution": {
     "iopub.execute_input": "2021-02-10T05:16:58.253381Z",
     "iopub.status.busy": "2021-02-10T05:16:58.253114Z",
     "iopub.status.idle": "2021-02-10T05:24:35.347008Z",
     "shell.execute_reply": "2021-02-10T05:24:35.346391Z",
     "shell.execute_reply.started": "2021-02-10T05:16:58.253359Z"
    }
   },
   "source": [
    "scores_gs = []\n",
    "nlist = [5,10,15,20,30,40]\n",
    "\n",
    "for i in nlist:\n",
    "    preds_gs, _ = model.tta(dl=test_dl, n=i)  #, use_max=False, beta=0.1)\n",
    "    scores_gs.append(accuracy_score(sample_df.iloc[:,0], preds.argmax(dim=-1).numpy()))\n",
    "    \n",
    "print(f'best n: {nlist[np.argmax(scores_gs)]}')\n",
    "print(scores_gs)"
   ]
  },
  {
   "cell_type": "code",
   "execution_count": null,
   "id": "exceptional-exercise",
   "metadata": {},
   "outputs": [],
   "source": [
    "import albumentations as A\n",
    "\n",
    "\n",
    "class AlbumentationsTransform(DisplayedTransform):\n",
    "    split_idx,order=0,2\n",
    "    def __init__(self, train_aug): store_attr()\n",
    "    \n",
    "    def encodes(self, img: PILImage):\n",
    "        aug_img = self.train_aug(image=np.array(img))['image']\n",
    "        return PILImage.create(aug_img)\n",
    "    \n",
    "# get_t_tfms():\n",
    "#     return A.Compose()\n",
    "\n",
    "\n",
    "aug = A.Sharpen(p=1, alpha=(0.99,1), lightness=(0.5,0.5))\n",
    "sha = AlbumentationsTransform(aug)\n",
    "def aug_tfm(img): \n",
    "    np_img = np.array(img)\n",
    "    aug_img = aug(image=np_img)['image']\n",
    "    return PILImage.create(aug_img)"
   ]
  },
  {
   "cell_type": "code",
   "execution_count": null,
   "id": "filled-shaft",
   "metadata": {},
   "outputs": [],
   "source": [
    "\n",
    "\n",
    "# a_list = [0.1, 0.2, 0.3, 0.4, 0.5, 0.6, 0.7, 0.8, 0.9, 0.999]\n",
    "a_list=[1]\n",
    "# a_list = np.arange(0.5,1.0,0.1)\n",
    "#[1] #[0,45,90,135]  #[750, 800, 850, 900]# list(np.arange(0, 5, 0.5)) # [0.1, 0.2, 0.3, 0.4, 0.5, 0.6, 0.7, 0.8, 0.9, 1.0]\n",
    "scores_gs = []\n",
    "\n",
    "for VARIABLE in a_list:\n",
    "    aug_tfms =  aug_transforms(size=RESOLUTION, pad_mode='reflection', do_flip=True, batch=False, \n",
    "                                   p_affine=0.7, max_rotate=45, max_warp=0, min_zoom=1.0, max_zoom=2.5, \n",
    "                                   mult=3,  p_lighting=0.5, max_lighting=0.1, min_scale=0.75) #,xtra_tfms=[sha])\n",
    "\n",
    "    sat = Saturation(p=0.7, max_lighting=0.2)\n",
    "\n",
    "    # batch_tfms = [ Normalize.from_stats(*imagenet_stats), sat]\n",
    "    batch_tfms = [ *aug_tfms, sat, Normalize.from_stats(*imagenet_stats)]#, sha]\n",
    "\n",
    "#     item_tfms=RandomResizedCrop(RESOLUTION)\n",
    "    item_tfms=Resize(RESOLUTION, method='bilinear', pad_mode='zeros')\n",
    "#     item_tfms=RatioResize(RESOLUTION)\n",
    "\n",
    "    dls = ImageDataLoaders.from_df(sample_df, folder=f'../data/{sub}', seed=42, label_col = 0, fn_col=1, \n",
    "                                   batch_tfms=batch_tfms, bs=BATCH_SIZE, item_tfms=item_tfms)\n",
    "    test_dl = dls.test_dl(sample_df)\n",
    "\n",
    "    preds, something = model.tta(dl=test_dl, n=5, use_max=False, beta=0.18)\n",
    "    scores_gs.append(accuracy_score(sample_df.iloc[:,0], preds.argmax(dim=-1).numpy()))  # TTA\n",
    "    \n",
    "    print(f'best SO FAR: {a_list[np.argmax(scores_gs)]}, at {scores_gs[np.argmax(scores_gs)]}')\n",
    "\n",
    "\n",
    "print(f'best n: {a_list[np.argmax(scores_gs)]}')\n",
    "print(a_list)\n",
    "print(scores_gs)"
   ]
  },
  {
   "cell_type": "raw",
   "id": "changing-oxygen",
   "metadata": {
    "execution": {
     "iopub.execute_input": "2021-02-10T09:41:21.127718Z",
     "iopub.status.busy": "2021-02-10T09:41:21.127605Z",
     "iopub.status.idle": "2021-02-10T09:41:21.981508Z",
     "shell.execute_reply": "2021-02-10T09:41:21.981082Z",
     "shell.execute_reply.started": "2021-02-10T09:41:21.127705Z"
    }
   },
   "source": [
    "test_dl.show_batch()"
   ]
  },
  {
   "cell_type": "code",
   "execution_count": null,
   "id": "anticipated-istanbul",
   "metadata": {},
   "outputs": [],
   "source": []
  },
  {
   "cell_type": "code",
   "execution_count": null,
   "id": "korean-stretch",
   "metadata": {},
   "outputs": [],
   "source": []
  },
  {
   "cell_type": "code",
   "execution_count": null,
   "id": "conservative-lesbian",
   "metadata": {},
   "outputs": [],
   "source": []
  }
 ],
 "metadata": {
  "kernelspec": {
   "display_name": "Python 3",
   "language": "python",
   "name": "python3"
  },
  "language_info": {
   "codemirror_mode": {
    "name": "ipython",
    "version": 3
   },
   "file_extension": ".py",
   "mimetype": "text/x-python",
   "name": "python",
   "nbconvert_exporter": "python",
   "pygments_lexer": "ipython3",
   "version": "3.8.6"
  },
  "widgets": {
   "application/vnd.jupyter.widget-state+json": {
    "state": {},
    "version_major": 2,
    "version_minor": 0
   }
  }
 },
 "nbformat": 4,
 "nbformat_minor": 5
}
