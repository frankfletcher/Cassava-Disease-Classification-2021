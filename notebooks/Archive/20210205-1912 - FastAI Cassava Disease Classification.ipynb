{
 "cells": [
  {
   "cell_type": "markdown",
   "id": "young-driving",
   "metadata": {},
   "source": [
    "# FastAI Cassava Root Disease Classification"
   ]
  },
  {
   "cell_type": "code",
   "execution_count": 1,
   "id": "infectious-recipient",
   "metadata": {
    "execution": {
     "iopub.execute_input": "2021-02-06T03:12:33.221761Z",
     "iopub.status.busy": "2021-02-06T03:12:33.221453Z",
     "iopub.status.idle": "2021-02-06T03:12:34.287176Z",
     "shell.execute_reply": "2021-02-06T03:12:34.286832Z",
     "shell.execute_reply.started": "2021-02-06T03:12:33.221695Z"
    }
   },
   "outputs": [
    {
     "name": "stdout",
     "output_type": "stream",
     "text": [
      "RUN_NAME = '20210205-1912 - arch=xresnet34 - samples=1800 frozen=1 epochs=40 bs=32 res=340'\n"
     ]
    }
   ],
   "source": [
    "from datetime import datetime\n",
    "from fastbook import *\n",
    "from fastai.vision.all import *\n",
    "from fastai.vision.widgets import *\n",
    "import fastai\n",
    "import matplotlib.pyplot as plt\n",
    "import matplotlib.ticker as ticker\n",
    "from string import ascii_uppercase\n",
    "import numpy as np\n",
    "import operator\n",
    "import glob\n",
    "\n",
    "# %matplotlib inline\n",
    "\n",
    "%matplotlib widget\n",
    "\n",
    "plt.rcParams['figure.figsize'] = [9, 5]\n",
    "plt.rcParams['figure.dpi'] = 120\n",
    "plt.style.use('dark_background')\n",
    "\n",
    "\n",
    "ARCH = xresnet34  # resnet101\n",
    "\n",
    "CHOSEN_SAMPLE_SIZE = 1800  # use this to control per-category sample sizes # 1000\n",
    "TEST_SET_SIZE = round(CHOSEN_SAMPLE_SIZE * 0.2)  # number of images per category to put in the test set\n",
    "FROZEN_EPOCHS = 1  # 1\n",
    "EPOCHS = 40  # 4\n",
    "BATCH_SIZE = 32  # 16\n",
    "RESOLUTION = 340  # 300\n",
    "PRETRAINED_FLAG = False\n",
    "\n",
    "# data = ''\n",
    "# rn_addon = f'_data={data}'\n",
    "\n",
    "time = datetime.today().strftime(\"%Y%m%d-%H%M\")\n",
    "\n",
    "RUN_NAME = f'{time} - arch={ARCH.__name__} - samples={CHOSEN_SAMPLE_SIZE} frozen={FROZEN_EPOCHS} epochs={EPOCHS} bs={BATCH_SIZE} res={RESOLUTION}'\n",
    "print(f\"RUN_NAME = '{RUN_NAME}'\")\n"
   ]
  },
  {
   "cell_type": "code",
   "execution_count": 2,
   "id": "permanent-gentleman",
   "metadata": {
    "execution": {
     "iopub.execute_input": "2021-02-06T03:12:34.288854Z",
     "iopub.status.busy": "2021-02-06T03:12:34.288751Z",
     "iopub.status.idle": "2021-02-06T03:12:34.292545Z",
     "shell.execute_reply": "2021-02-06T03:12:34.292237Z",
     "shell.execute_reply.started": "2021-02-06T03:12:34.288843Z"
    }
   },
   "outputs": [
    {
     "name": "stdout",
     "output_type": "stream",
     "text": [
      "CUDA available:              True\n",
      "CUDA device count:           1\n",
      "Current CUDA Device index:   0\n",
      "Current CUDA Device:         GeForce RTX 2070 SUPER\n",
      "\n",
      "fastai version:              2.2.5\n",
      "cuda version:                11.0\n",
      "torch version:               1.7.0\n"
     ]
    }
   ],
   "source": [
    "import torch\n",
    "print('CUDA available: '.ljust(28), torch.cuda.is_available())\n",
    "print('CUDA device count: '.ljust(28), torch.cuda.device_count())\n",
    "\n",
    "current_device = torch.cuda.current_device()\n",
    "print('Current CUDA Device index: '.ljust(28), current_device)\n",
    "# torch.cuda.device(current_device)\n",
    "print('Current CUDA Device: '.ljust(28), torch.cuda.get_device_name(current_device))\n",
    "print()\n",
    "# print('CUDA available: '.ljust(24), torch.cuda.is_available())\n",
    "print(f'fastai version:              {fastai.__version__}')\n",
    "# print(f'fastcore version:            {fastcore.__version__}')\n",
    "# print(f'fastbook version:            {fastbook.__version__}')\n",
    "print(f'cuda version:                {torch.version.cuda}')\n",
    "print(f'torch version:               {torch.__version__}')\n",
    "# print(f'python version:              {python_version()}')"
   ]
  },
  {
   "cell_type": "markdown",
   "id": "norwegian-effects",
   "metadata": {},
   "source": [
    "### Check for Imbalance"
   ]
  },
  {
   "cell_type": "code",
   "execution_count": 3,
   "id": "removed-wright",
   "metadata": {
    "execution": {
     "iopub.execute_input": "2021-02-06T03:12:34.566190Z",
     "iopub.status.busy": "2021-02-06T03:12:34.565941Z",
     "iopub.status.idle": "2021-02-06T03:12:34.568994Z",
     "shell.execute_reply": "2021-02-06T03:12:34.568410Z",
     "shell.execute_reply.started": "2021-02-06T03:12:34.566169Z"
    }
   },
   "outputs": [],
   "source": [
    "classes = ['cbb', 'cbsd', 'cgm', 'cmd', 'healthy']"
   ]
  },
  {
   "cell_type": "code",
   "execution_count": 5,
   "id": "governmental-timothy",
   "metadata": {
    "execution": {
     "iopub.execute_input": "2021-02-06T03:12:50.491202Z",
     "iopub.status.busy": "2021-02-06T03:12:50.490947Z",
     "iopub.status.idle": "2021-02-06T03:12:50.646166Z",
     "shell.execute_reply": "2021-02-06T03:12:50.645647Z",
     "shell.execute_reply.started": "2021-02-06T03:12:50.491180Z"
    }
   },
   "outputs": [
    {
     "data": {
      "application/vnd.jupyter.widget-view+json": {
       "model_id": "5ddea7639a4846b8afc4c0f9ce971c2a",
       "version_major": 2,
       "version_minor": 0
      },
      "text/plain": [
       "Canvas(toolbar=Toolbar(toolitems=[('Home', 'Reset original view', 'home', 'home'), ('Back', 'Back to previous …"
      ]
     },
     "metadata": {},
     "output_type": "display_data"
    }
   ],
   "source": [
    "path = '../data/train_images_sorted'\n",
    "\n",
    "img_flist = {}\n",
    "img_quants = {}\n",
    "\n",
    "for c in classes:\n",
    "    files = get_image_files(f'{path}/{c}')\n",
    "    img_flist[c] = list(files)\n",
    "    img_quants[c] = len(files)\n",
    "\n",
    "minqc = min(img_quants, key=img_quants.get)\n",
    "\n",
    "sample_size = round(img_quants[minqc] * 1.99)  # oversample the lowest class quantity\n",
    "\n",
    "\n",
    "plt.figure(figsize=(6,3))\n",
    "plt.bar(img_quants.keys(), img_quants.values())  \n",
    "plt.axhline(sample_size, ls='--', color='red', label='Chosen Sample Size')\n",
    "plt.legend()\n",
    "plt.show()\n",
    "        "
   ]
  },
  {
   "cell_type": "code",
   "execution_count": 6,
   "id": "czech-money",
   "metadata": {
    "execution": {
     "iopub.execute_input": "2021-02-06T03:13:26.930792Z",
     "iopub.status.busy": "2021-02-06T03:13:26.930540Z",
     "iopub.status.idle": "2021-02-06T03:13:26.984639Z",
     "shell.execute_reply": "2021-02-06T03:13:26.984161Z",
     "shell.execute_reply.started": "2021-02-06T03:13:26.930770Z"
    }
   },
   "outputs": [
    {
     "data": {
      "application/vnd.jupyter.widget-view+json": {
       "model_id": "69bb38712e55418d972ca8435882c580",
       "version_major": 2,
       "version_minor": 0
      },
      "text/plain": [
       "Canvas(toolbar=Toolbar(toolitems=[('Home', 'Reset original view', 'home', 'home'), ('Back', 'Back to previous …"
      ]
     },
     "metadata": {},
     "output_type": "display_data"
    }
   ],
   "source": [
    "\n",
    "for c in classes:\n",
    "    if len(img_flist[c]) < sample_size:\n",
    "#         all_covid = img_flist[c].copy()\n",
    "        img_flist[c] = np.append(img_flist[c], np.random.choice(img_flist[c], sample_size - len(img_flist[c]), replace=False))\n",
    "    else:\n",
    "        img_flist[c] = np.random.choice(img_flist[c], sample_size, replace=False)  # without replacement\n",
    "\n",
    "        \n",
    "plt.figure(figsize=(6,3))\n",
    "plt.bar(img_flist.keys(), [len(l) for l in img_flist.values()])\n",
    "plt.show()"
   ]
  },
  {
   "cell_type": "code",
   "execution_count": 7,
   "id": "incorporated-european",
   "metadata": {
    "execution": {
     "iopub.execute_input": "2021-02-06T03:13:28.469186Z",
     "iopub.status.busy": "2021-02-06T03:13:28.468928Z",
     "iopub.status.idle": "2021-02-06T03:13:28.473990Z",
     "shell.execute_reply": "2021-02-06T03:13:28.473534Z",
     "shell.execute_reply.started": "2021-02-06T03:13:28.469163Z"
    }
   },
   "outputs": [],
   "source": [
    "test_flist = {}\n",
    "test_size = round(0.2 * sample_size)\n",
    "\n",
    "for c in classes:\n",
    "    img_flist[c] = np.random.choice(img_flist[c], len(img_flist[c]), replace=False)  # shuffle\n",
    "    test_flist[c] = img_flist[c][0:test_size]\n",
    "    img_flist[c] = img_flist[c][test_size:]\n",
    "#     img_flist[c] = [f for f in img_flist[c] if f not in test_flist[c]]"
   ]
  },
  {
   "cell_type": "code",
   "execution_count": 8,
   "id": "changed-container",
   "metadata": {
    "execution": {
     "iopub.execute_input": "2021-02-06T03:13:29.929671Z",
     "iopub.status.busy": "2021-02-06T03:13:29.929417Z",
     "iopub.status.idle": "2021-02-06T03:13:29.972979Z",
     "shell.execute_reply": "2021-02-06T03:13:29.972596Z",
     "shell.execute_reply.started": "2021-02-06T03:13:29.929649Z"
    }
   },
   "outputs": [
    {
     "data": {
      "application/vnd.jupyter.widget-view+json": {
       "model_id": "7c86bc54eeeb422787d03182dc8d149b",
       "version_major": 2,
       "version_minor": 0
      },
      "text/plain": [
       "Canvas(toolbar=Toolbar(toolitems=[('Home', 'Reset original view', 'home', 'home'), ('Back', 'Back to previous …"
      ]
     },
     "metadata": {},
     "output_type": "display_data"
    },
    {
     "data": {
      "application/vnd.jupyter.widget-view+json": {
       "model_id": "5e033c22fe874460bf007b2388a58dc0",
       "version_major": 2,
       "version_minor": 0
      },
      "text/plain": [
       "Canvas(toolbar=Toolbar(toolitems=[('Home', 'Reset original view', 'home', 'home'), ('Back', 'Back to previous …"
      ]
     },
     "metadata": {},
     "output_type": "display_data"
    }
   ],
   "source": [
    "plt.figure(figsize=(6,3))\n",
    "plt.title('Training Data')\n",
    "plt.bar(img_flist.keys(), [len(l) for l in img_flist.values()])\n",
    "plt.axhline(test_size, ls='--', color='red')\n",
    "plt.show()\n",
    "\n",
    "plt.figure(figsize=(6,3))\n",
    "plt.title('Validation Data')\n",
    "plt.bar(test_flist.keys(), [len(l) for l in test_flist.values()])\n",
    "plt.show()\n",
    "                 "
   ]
  },
  {
   "cell_type": "code",
   "execution_count": 9,
   "id": "stupid-annex",
   "metadata": {
    "execution": {
     "iopub.execute_input": "2021-02-06T03:13:32.522500Z",
     "iopub.status.busy": "2021-02-06T03:13:32.522238Z",
     "iopub.status.idle": "2021-02-06T03:13:34.421485Z",
     "shell.execute_reply": "2021-02-06T03:13:34.421059Z",
     "shell.execute_reply.started": "2021-02-06T03:13:32.522477Z"
    }
   },
   "outputs": [],
   "source": [
    "def get_fnames(path):\n",
    "    retlist = []\n",
    "    \n",
    "    for l in img_flist.values():\n",
    "        for f in l:\n",
    "            retlist.append(f)\n",
    "            \n",
    "    return random.sample(retlist, len(retlist))\n",
    "\n",
    "tfms = aug_transforms(size=RESOLUTION, do_flip=True, batch=True, max_zoom=1.5, mult=2.0)\n",
    "\n",
    "\n",
    "img_db = DataBlock(\n",
    "    blocks=(ImageBlock, CategoryBlock), \n",
    "    get_items=get_fnames, \n",
    "    splitter=RandomSplitter(valid_pct=0.28, seed=42),\n",
    "    get_y=parent_label,\n",
    "    item_tfms=Resize(RESOLUTION, method='bilinear'), batch_tfms=tfms)\n",
    "\n",
    "dls = img_db.dataloaders(path, batch_size=BATCH_SIZE)"
   ]
  },
  {
   "cell_type": "markdown",
   "id": "south-popularity",
   "metadata": {},
   "source": [
    "<br>\n",
    "\n",
    "### Verify the Training and Validation Batches"
   ]
  },
  {
   "cell_type": "code",
   "execution_count": 10,
   "id": "joined-harvey",
   "metadata": {
    "execution": {
     "iopub.execute_input": "2021-02-06T03:13:34.424507Z",
     "iopub.status.busy": "2021-02-06T03:13:34.424415Z",
     "iopub.status.idle": "2021-02-06T03:13:35.112595Z",
     "shell.execute_reply": "2021-02-06T03:13:35.112244Z",
     "shell.execute_reply.started": "2021-02-06T03:13:34.424497Z"
    }
   },
   "outputs": [
    {
     "data": {
      "application/vnd.jupyter.widget-view+json": {
       "model_id": "d40033c1454c4951ad0e3a08f8f1471d",
       "version_major": 2,
       "version_minor": 0
      },
      "text/plain": [
       "Canvas(toolbar=Toolbar(toolitems=[('Home', 'Reset original view', 'home', 'home'), ('Back', 'Back to previous …"
      ]
     },
     "metadata": {},
     "output_type": "display_data"
    }
   ],
   "source": [
    "dls.valid.show_batch(max_n=16, nrows=4)"
   ]
  },
  {
   "cell_type": "code",
   "execution_count": 11,
   "id": "provincial-adoption",
   "metadata": {
    "execution": {
     "iopub.execute_input": "2021-02-06T03:13:35.114067Z",
     "iopub.status.busy": "2021-02-06T03:13:35.113965Z",
     "iopub.status.idle": "2021-02-06T03:13:35.117027Z",
     "shell.execute_reply": "2021-02-06T03:13:35.116687Z",
     "shell.execute_reply.started": "2021-02-06T03:13:35.114056Z"
    }
   },
   "outputs": [
    {
     "name": "stdout",
     "output_type": "stream",
     "text": [
      "\n",
      "All Callbacks:  [ShowGraphCallback, SaveModelCallback, EarlyStoppingCallback]\n"
     ]
    }
   ],
   "source": [
    "# Eary stopping callback\n",
    "early_stop_cb = EarlyStoppingCallback(monitor='error_rate', min_delta=0.0001, patience=5)\n",
    "\n",
    "# Save the current model's weights every epoch\n",
    "save_cb = SaveModelCallback(fname=RUN_NAME, every_epoch=True, with_opt=True)\n",
    "\n",
    "\n",
    "# List of callbacks to be used later\n",
    "cbs = [ShowGraphCallback(), save_cb, early_stop_cb]\n",
    "\n",
    "print('\\nAll Callbacks: ', cbs)"
   ]
  },
  {
   "cell_type": "code",
   "execution_count": 12,
   "id": "confidential-coaching",
   "metadata": {
    "execution": {
     "iopub.execute_input": "2021-02-06T03:13:39.496686Z",
     "iopub.status.busy": "2021-02-06T03:13:39.496430Z",
     "iopub.status.idle": "2021-02-06T03:13:39.792017Z",
     "shell.execute_reply": "2021-02-06T03:13:39.791643Z",
     "shell.execute_reply.started": "2021-02-06T03:13:39.496663Z"
    }
   },
   "outputs": [],
   "source": [
    "learn = cnn_learner(dls, ARCH , pretrained=PRETRAINED_FLAG, loss_func=LabelSmoothingCrossEntropy(), cbs = cbs, metrics=[error_rate, accuracy])\n"
   ]
  },
  {
   "cell_type": "code",
   "execution_count": 13,
   "id": "chubby-combat",
   "metadata": {
    "execution": {
     "iopub.execute_input": "2021-02-06T03:13:43.662283Z",
     "iopub.status.busy": "2021-02-06T03:13:43.662028Z",
     "iopub.status.idle": "2021-02-06T03:13:43.667316Z",
     "shell.execute_reply": "2021-02-06T03:13:43.666870Z",
     "shell.execute_reply.started": "2021-02-06T03:13:43.662261Z"
    }
   },
   "outputs": [
    {
     "data": {
      "text/plain": [
       "LabelSmoothingCrossEntropy()"
      ]
     },
     "metadata": {},
     "output_type": "display_data"
    },
    {
     "data": {
      "text/plain": [
       "<function fastai.optimizer.Adam(params, lr, mom=0.9, sqr_mom=0.99, eps=1e-05, wd=0.01, decouple_wd=True)>"
      ]
     },
     "metadata": {},
     "output_type": "display_data"
    }
   ],
   "source": [
    "display(learn.loss_func, learn.opt_func)"
   ]
  },
  {
   "cell_type": "markdown",
   "id": "dietary-novelty",
   "metadata": {},
   "source": [
    "<br>\n",
    "<br>\n",
    "<br>\n",
    "\n",
    "## Find a Good Learning Rate to Start With"
   ]
  },
  {
   "cell_type": "code",
   "execution_count": 14,
   "id": "celtic-collins",
   "metadata": {
    "execution": {
     "iopub.execute_input": "2021-02-06T03:13:47.485510Z",
     "iopub.status.busy": "2021-02-06T03:13:47.485256Z",
     "iopub.status.idle": "2021-02-06T03:13:47.488077Z",
     "shell.execute_reply": "2021-02-06T03:13:47.487567Z",
     "shell.execute_reply.started": "2021-02-06T03:13:47.485487Z"
    }
   },
   "outputs": [],
   "source": [
    "LR_DIV = 14e0  # Shift the lr_min left by this amount.  Adjust as necessary\n",
    "lr_min = 0.002  # just a default"
   ]
  },
  {
   "cell_type": "code",
   "execution_count": 15,
   "id": "conditional-squad",
   "metadata": {
    "execution": {
     "iopub.execute_input": "2021-02-06T03:13:48.120395Z",
     "iopub.status.busy": "2021-02-06T03:13:48.120139Z",
     "iopub.status.idle": "2021-02-06T03:13:48.124311Z",
     "shell.execute_reply": "2021-02-06T03:13:48.123922Z",
     "shell.execute_reply.started": "2021-02-06T03:13:48.120372Z"
    }
   },
   "outputs": [],
   "source": [
    "if PRETRAINED_FLAG == True:\n",
    "    learn.freeze()\n",
    "    lr_min,lr_steep = learn.lr_find()\n",
    "    plt.axvline(lr_min, ls='--', color='red', label=f'lr_min={round(lr_min,6)}')\n",
    "    plt.axvline(lr_min/LR_DIV, ls='--', color='yellow', label=f'lr_min / {LR_DIV}={round(lr_min/LR_DIV,6)}')\n",
    "    plt.axvline(lr_steep, ls='--', color='grey', label=f'lr_steep={round(lr_steep,6)}')\n",
    "    plt.legend()\n",
    "    plt.show()\n",
    "\n",
    "    print(f\"Minimum/10: {lr_min:.2e}, steepest point: {lr_steep:.2e}, (Mim/10)/{LR_DIV}: {lr_min/LR_DIV}\")"
   ]
  },
  {
   "cell_type": "markdown",
   "id": "natural-palestine",
   "metadata": {},
   "source": [
    "<br>\n",
    "<br>"
   ]
  },
  {
   "cell_type": "markdown",
   "id": "thermal-invalid",
   "metadata": {},
   "source": [
    "# Pick a Good Initial Learning Rate"
   ]
  },
  {
   "cell_type": "code",
   "execution_count": 16,
   "id": "sporting-blanket",
   "metadata": {
    "execution": {
     "iopub.execute_input": "2021-02-06T03:13:49.507484Z",
     "iopub.status.busy": "2021-02-06T03:13:49.507257Z",
     "iopub.status.idle": "2021-02-06T03:13:49.509824Z",
     "shell.execute_reply": "2021-02-06T03:13:49.509374Z",
     "shell.execute_reply.started": "2021-02-06T03:13:49.507463Z"
    }
   },
   "outputs": [],
   "source": [
    "# LR_CHOICE = lr_min/LR_DIV\n",
    "# LR_CHOICE = lr_steep\n",
    "LR_CHOICE = 0.0002"
   ]
  },
  {
   "cell_type": "markdown",
   "id": "confirmed-possible",
   "metadata": {},
   "source": [
    "<br>\n",
    "<br>"
   ]
  },
  {
   "cell_type": "markdown",
   "id": "nearby-creativity",
   "metadata": {},
   "source": [
    "<br>\n",
    "<br>"
   ]
  },
  {
   "cell_type": "markdown",
   "id": "invalid-helen",
   "metadata": {},
   "source": [
    "# Training the Model"
   ]
  },
  {
   "cell_type": "markdown",
   "id": "environmental-brook",
   "metadata": {
    "slideshow": {
     "slide_type": "slide"
    }
   },
   "source": [
    "<br>\n",
    "\n",
    "## Fit the last layers, unfreeze, fit the whole net, with a decent initial LR, all in one go.\n",
    "\n"
   ]
  },
  {
   "cell_type": "code",
   "execution_count": 17,
   "id": "ideal-perspective",
   "metadata": {
    "execution": {
     "iopub.execute_input": "2021-02-06T03:13:51.147289Z",
     "iopub.status.busy": "2021-02-06T03:13:51.147046Z",
     "iopub.status.idle": "2021-02-06T03:13:51.151032Z",
     "shell.execute_reply": "2021-02-06T03:13:51.150509Z",
     "shell.execute_reply.started": "2021-02-06T03:13:51.147267Z"
    }
   },
   "outputs": [
    {
     "name": "stdout",
     "output_type": "stream",
     "text": [
      "EPOCHS:         40\n",
      "Learning Rate:  0.0002\n",
      "\n",
      "\n"
     ]
    }
   ],
   "source": [
    "\n",
    "\n",
    "if PRETRAINED_FLAG:\n",
    "    print(f'FROZEN_EPOCHS:  {FROZEN_EPOCHS}')\n",
    "print(f'EPOCHS:         {EPOCHS}')\n",
    "print(f'Learning Rate:  {LR_CHOICE}\\n\\n')\n",
    "\n",
    "if PRETRAINED_FLAG == True:\n",
    "    learn.fit_one_cycle(FROZEN_EPOCHS, LR_CHOICE)\n"
   ]
  },
  {
   "cell_type": "markdown",
   "id": "closed-commitment",
   "metadata": {},
   "source": [
    "## Manually set up the unfrozen runs"
   ]
  },
  {
   "cell_type": "code",
   "execution_count": 18,
   "id": "passive-advancement",
   "metadata": {
    "execution": {
     "iopub.execute_input": "2021-02-06T03:13:52.285539Z",
     "iopub.status.busy": "2021-02-06T03:13:52.285279Z",
     "iopub.status.idle": "2021-02-06T03:13:52.303792Z",
     "shell.execute_reply": "2021-02-06T03:13:52.303527Z",
     "shell.execute_reply.started": "2021-02-06T03:13:52.285515Z"
    }
   },
   "outputs": [],
   "source": [
    "learn.unfreeze()"
   ]
  },
  {
   "cell_type": "code",
   "execution_count": 19,
   "id": "amateur-stocks",
   "metadata": {
    "execution": {
     "iopub.execute_input": "2021-02-06T03:13:54.283407Z",
     "iopub.status.busy": "2021-02-06T03:13:54.283147Z",
     "iopub.status.idle": "2021-02-06T03:14:37.917439Z",
     "shell.execute_reply": "2021-02-06T03:14:37.917056Z",
     "shell.execute_reply.started": "2021-02-06T03:13:54.283383Z"
    }
   },
   "outputs": [
    {
     "data": {
      "text/html": [],
      "text/plain": [
       "<IPython.core.display.HTML object>"
      ]
     },
     "metadata": {},
     "output_type": "display_data"
    },
    {
     "data": {
      "application/vnd.jupyter.widget-view+json": {
       "model_id": "25641cb41c5e4541b354775baf28ba69",
       "version_major": 2,
       "version_minor": 0
      },
      "text/plain": [
       "Canvas(toolbar=Toolbar(toolitems=[('Home', 'Reset original view', 'home', 'home'), ('Back', 'Back to previous …"
      ]
     },
     "metadata": {},
     "output_type": "display_data"
    }
   ],
   "source": [
    "lr_min,lr_steep = learn.lr_find()\n",
    "plt.axvline(lr_min, ls='--', color='red', label=f'lr_min={round(lr_min,6)}')\n",
    "plt.axvline(LR_CHOICE/2, ls='--', color='yellow', label=f'LR_CHOICE/2={round(LR_CHOICE/2,6)}')\n",
    "plt.axvline(lr_steep, ls='--', color='grey', label=f'lr_steep={round(lr_steep,6)}')\n",
    "plt.axvline(2e-5, ls='--', color='green', label=f'{round(2e-5,6)}')\n",
    "plt.axvline(7e-5, ls='--', color='orange', label=f'{round(7e-5,6)}')\n",
    "\n",
    "plt.legend()\n",
    "plt.show()"
   ]
  },
  {
   "cell_type": "code",
   "execution_count": null,
   "id": "convenient-press",
   "metadata": {},
   "outputs": [],
   "source": [
    "print(f\"Minimum/10: {lr_min:.2e}, steepest point: {lr_steep:.2e}, LR_CHOICE/2: {LR_CHOICE / 2}\")"
   ]
  },
  {
   "cell_type": "markdown",
   "id": "connected-heart",
   "metadata": {},
   "source": [
    "## Pick a new Learning Rate"
   ]
  },
  {
   "cell_type": "code",
   "execution_count": 20,
   "id": "naughty-harvey",
   "metadata": {
    "execution": {
     "iopub.execute_input": "2021-02-06T03:15:13.799709Z",
     "iopub.status.busy": "2021-02-06T03:15:13.799452Z",
     "iopub.status.idle": "2021-02-06T03:15:13.802480Z",
     "shell.execute_reply": "2021-02-06T03:15:13.801828Z",
     "shell.execute_reply.started": "2021-02-06T03:15:13.799685Z"
    }
   },
   "outputs": [],
   "source": [
    "# LR_CHOICE_UNFROZ = lr_min/LR_DIV\n",
    "# LR_CHOICE_UNFROZ = LR_CHOICE / 2\n",
    "# LR_CHOICE_UNFROZ = 0.00015\n",
    "# LR_CHOICE_UNFROZ = 10e-5\n",
    "# LR_CHOICE_UNFROZ = 0.00008\n",
    "LR_CHOICE_UNFROZ = 5.5e-5"
   ]
  },
  {
   "cell_type": "markdown",
   "id": "ordinary-blackjack",
   "metadata": {},
   "source": [
    "### Train"
   ]
  },
  {
   "cell_type": "code",
   "execution_count": 21,
   "id": "minor-exclusive",
   "metadata": {
    "execution": {
     "iopub.execute_input": "2021-02-06T03:15:14.946298Z",
     "iopub.status.busy": "2021-02-06T03:15:14.946037Z",
     "iopub.status.idle": "2021-02-06T03:15:14.949965Z",
     "shell.execute_reply": "2021-02-06T03:15:14.949412Z",
     "shell.execute_reply.started": "2021-02-06T03:15:14.946275Z"
    }
   },
   "outputs": [
    {
     "name": "stdout",
     "output_type": "stream",
     "text": [
      "EPOCHS:         40\n",
      "Learning Rate:  5.5e-05\n",
      "\n",
      "\n"
     ]
    }
   ],
   "source": [
    "print(f'EPOCHS:         {EPOCHS}')\n",
    "print(f'Learning Rate:  {LR_CHOICE_UNFROZ}\\n\\n')"
   ]
  },
  {
   "cell_type": "code",
   "execution_count": 22,
   "id": "funded-broad",
   "metadata": {
    "execution": {
     "iopub.execute_input": "2021-02-06T03:15:16.707101Z",
     "iopub.status.busy": "2021-02-06T03:15:16.706836Z",
     "iopub.status.idle": "2021-02-06T04:20:15.551000Z",
     "shell.execute_reply": "2021-02-06T04:20:15.550575Z",
     "shell.execute_reply.started": "2021-02-06T03:15:16.707076Z"
    }
   },
   "outputs": [
    {
     "data": {
      "text/html": [
       "<table border=\"1\" class=\"dataframe\">\n",
       "  <thead>\n",
       "    <tr style=\"text-align: left;\">\n",
       "      <th>epoch</th>\n",
       "      <th>train_loss</th>\n",
       "      <th>valid_loss</th>\n",
       "      <th>error_rate</th>\n",
       "      <th>accuracy</th>\n",
       "      <th>time</th>\n",
       "    </tr>\n",
       "  </thead>\n",
       "  <tbody>\n",
       "    <tr>\n",
       "      <td>0</td>\n",
       "      <td>2.646240</td>\n",
       "      <td>1.933650</td>\n",
       "      <td>0.779934</td>\n",
       "      <td>0.220066</td>\n",
       "      <td>01:43</td>\n",
       "    </tr>\n",
       "    <tr>\n",
       "      <td>1</td>\n",
       "      <td>2.490459</td>\n",
       "      <td>1.775669</td>\n",
       "      <td>0.718827</td>\n",
       "      <td>0.281173</td>\n",
       "      <td>01:43</td>\n",
       "    </tr>\n",
       "    <tr>\n",
       "      <td>2</td>\n",
       "      <td>2.421047</td>\n",
       "      <td>1.745500</td>\n",
       "      <td>0.686623</td>\n",
       "      <td>0.313377</td>\n",
       "      <td>01:43</td>\n",
       "    </tr>\n",
       "    <tr>\n",
       "      <td>3</td>\n",
       "      <td>2.321703</td>\n",
       "      <td>1.665403</td>\n",
       "      <td>0.664740</td>\n",
       "      <td>0.335260</td>\n",
       "      <td>01:43</td>\n",
       "    </tr>\n",
       "    <tr>\n",
       "      <td>4</td>\n",
       "      <td>2.300317</td>\n",
       "      <td>1.663433</td>\n",
       "      <td>0.634600</td>\n",
       "      <td>0.365400</td>\n",
       "      <td>01:43</td>\n",
       "    </tr>\n",
       "    <tr>\n",
       "      <td>5</td>\n",
       "      <td>2.185415</td>\n",
       "      <td>1.626019</td>\n",
       "      <td>0.622626</td>\n",
       "      <td>0.377374</td>\n",
       "      <td>01:43</td>\n",
       "    </tr>\n",
       "    <tr>\n",
       "      <td>6</td>\n",
       "      <td>2.165247</td>\n",
       "      <td>1.582986</td>\n",
       "      <td>0.614781</td>\n",
       "      <td>0.385219</td>\n",
       "      <td>01:43</td>\n",
       "    </tr>\n",
       "    <tr>\n",
       "      <td>7</td>\n",
       "      <td>2.125667</td>\n",
       "      <td>1.573545</td>\n",
       "      <td>0.591660</td>\n",
       "      <td>0.408340</td>\n",
       "      <td>01:43</td>\n",
       "    </tr>\n",
       "    <tr>\n",
       "      <td>8</td>\n",
       "      <td>2.049412</td>\n",
       "      <td>1.507626</td>\n",
       "      <td>0.587118</td>\n",
       "      <td>0.412882</td>\n",
       "      <td>01:43</td>\n",
       "    </tr>\n",
       "    <tr>\n",
       "      <td>9</td>\n",
       "      <td>1.997496</td>\n",
       "      <td>1.559115</td>\n",
       "      <td>0.575145</td>\n",
       "      <td>0.424856</td>\n",
       "      <td>01:43</td>\n",
       "    </tr>\n",
       "    <tr>\n",
       "      <td>10</td>\n",
       "      <td>1.922251</td>\n",
       "      <td>1.507394</td>\n",
       "      <td>0.571016</td>\n",
       "      <td>0.428984</td>\n",
       "      <td>01:43</td>\n",
       "    </tr>\n",
       "    <tr>\n",
       "      <td>11</td>\n",
       "      <td>1.917333</td>\n",
       "      <td>1.439323</td>\n",
       "      <td>0.551197</td>\n",
       "      <td>0.448803</td>\n",
       "      <td>01:43</td>\n",
       "    </tr>\n",
       "    <tr>\n",
       "      <td>12</td>\n",
       "      <td>1.834081</td>\n",
       "      <td>1.518455</td>\n",
       "      <td>0.549959</td>\n",
       "      <td>0.450041</td>\n",
       "      <td>01:43</td>\n",
       "    </tr>\n",
       "    <tr>\n",
       "      <td>13</td>\n",
       "      <td>1.843262</td>\n",
       "      <td>1.468067</td>\n",
       "      <td>0.562345</td>\n",
       "      <td>0.437655</td>\n",
       "      <td>01:43</td>\n",
       "    </tr>\n",
       "    <tr>\n",
       "      <td>14</td>\n",
       "      <td>1.763232</td>\n",
       "      <td>1.436420</td>\n",
       "      <td>0.556152</td>\n",
       "      <td>0.443848</td>\n",
       "      <td>01:43</td>\n",
       "    </tr>\n",
       "    <tr>\n",
       "      <td>15</td>\n",
       "      <td>1.768465</td>\n",
       "      <td>1.480511</td>\n",
       "      <td>0.545830</td>\n",
       "      <td>0.454170</td>\n",
       "      <td>01:43</td>\n",
       "    </tr>\n",
       "    <tr>\n",
       "      <td>16</td>\n",
       "      <td>1.756193</td>\n",
       "      <td>1.435158</td>\n",
       "      <td>0.543353</td>\n",
       "      <td>0.456647</td>\n",
       "      <td>01:43</td>\n",
       "    </tr>\n",
       "    <tr>\n",
       "      <td>17</td>\n",
       "      <td>1.723848</td>\n",
       "      <td>1.397867</td>\n",
       "      <td>0.537572</td>\n",
       "      <td>0.462428</td>\n",
       "      <td>01:43</td>\n",
       "    </tr>\n",
       "    <tr>\n",
       "      <td>18</td>\n",
       "      <td>1.707208</td>\n",
       "      <td>1.416866</td>\n",
       "      <td>0.533443</td>\n",
       "      <td>0.466557</td>\n",
       "      <td>01:43</td>\n",
       "    </tr>\n",
       "    <tr>\n",
       "      <td>19</td>\n",
       "      <td>1.727854</td>\n",
       "      <td>1.438926</td>\n",
       "      <td>0.550784</td>\n",
       "      <td>0.449216</td>\n",
       "      <td>01:43</td>\n",
       "    </tr>\n",
       "    <tr>\n",
       "      <td>20</td>\n",
       "      <td>1.678654</td>\n",
       "      <td>1.376888</td>\n",
       "      <td>0.520231</td>\n",
       "      <td>0.479769</td>\n",
       "      <td>01:43</td>\n",
       "    </tr>\n",
       "    <tr>\n",
       "      <td>21</td>\n",
       "      <td>1.631489</td>\n",
       "      <td>1.353676</td>\n",
       "      <td>0.512799</td>\n",
       "      <td>0.487201</td>\n",
       "      <td>01:43</td>\n",
       "    </tr>\n",
       "    <tr>\n",
       "      <td>22</td>\n",
       "      <td>1.636910</td>\n",
       "      <td>1.354768</td>\n",
       "      <td>0.517341</td>\n",
       "      <td>0.482659</td>\n",
       "      <td>01:38</td>\n",
       "    </tr>\n",
       "    <tr>\n",
       "      <td>23</td>\n",
       "      <td>1.603762</td>\n",
       "      <td>1.324165</td>\n",
       "      <td>0.509496</td>\n",
       "      <td>0.490504</td>\n",
       "      <td>01:38</td>\n",
       "    </tr>\n",
       "    <tr>\n",
       "      <td>24</td>\n",
       "      <td>1.565576</td>\n",
       "      <td>1.349497</td>\n",
       "      <td>0.500826</td>\n",
       "      <td>0.499174</td>\n",
       "      <td>01:38</td>\n",
       "    </tr>\n",
       "    <tr>\n",
       "      <td>25</td>\n",
       "      <td>1.559811</td>\n",
       "      <td>1.313043</td>\n",
       "      <td>0.500413</td>\n",
       "      <td>0.499587</td>\n",
       "      <td>01:38</td>\n",
       "    </tr>\n",
       "    <tr>\n",
       "      <td>26</td>\n",
       "      <td>1.562648</td>\n",
       "      <td>1.317412</td>\n",
       "      <td>0.495458</td>\n",
       "      <td>0.504542</td>\n",
       "      <td>01:38</td>\n",
       "    </tr>\n",
       "    <tr>\n",
       "      <td>27</td>\n",
       "      <td>1.583691</td>\n",
       "      <td>1.309877</td>\n",
       "      <td>0.487614</td>\n",
       "      <td>0.512386</td>\n",
       "      <td>01:38</td>\n",
       "    </tr>\n",
       "    <tr>\n",
       "      <td>28</td>\n",
       "      <td>1.537748</td>\n",
       "      <td>1.385931</td>\n",
       "      <td>0.521057</td>\n",
       "      <td>0.478943</td>\n",
       "      <td>01:38</td>\n",
       "    </tr>\n",
       "    <tr>\n",
       "      <td>29</td>\n",
       "      <td>1.587884</td>\n",
       "      <td>1.349848</td>\n",
       "      <td>0.503303</td>\n",
       "      <td>0.496697</td>\n",
       "      <td>01:38</td>\n",
       "    </tr>\n",
       "    <tr>\n",
       "      <td>30</td>\n",
       "      <td>1.560418</td>\n",
       "      <td>1.301490</td>\n",
       "      <td>0.491329</td>\n",
       "      <td>0.508671</td>\n",
       "      <td>01:39</td>\n",
       "    </tr>\n",
       "    <tr>\n",
       "      <td>31</td>\n",
       "      <td>1.525293</td>\n",
       "      <td>1.320647</td>\n",
       "      <td>0.491742</td>\n",
       "      <td>0.508258</td>\n",
       "      <td>01:38</td>\n",
       "    </tr>\n",
       "    <tr>\n",
       "      <td>32</td>\n",
       "      <td>1.567427</td>\n",
       "      <td>1.284402</td>\n",
       "      <td>0.475227</td>\n",
       "      <td>0.524773</td>\n",
       "      <td>01:40</td>\n",
       "    </tr>\n",
       "    <tr>\n",
       "      <td>33</td>\n",
       "      <td>1.524307</td>\n",
       "      <td>1.306627</td>\n",
       "      <td>0.488852</td>\n",
       "      <td>0.511148</td>\n",
       "      <td>01:43</td>\n",
       "    </tr>\n",
       "    <tr>\n",
       "      <td>34</td>\n",
       "      <td>1.528216</td>\n",
       "      <td>1.271048</td>\n",
       "      <td>0.476466</td>\n",
       "      <td>0.523534</td>\n",
       "      <td>01:43</td>\n",
       "    </tr>\n",
       "    <tr>\n",
       "      <td>35</td>\n",
       "      <td>1.540434</td>\n",
       "      <td>1.309700</td>\n",
       "      <td>0.487614</td>\n",
       "      <td>0.512386</td>\n",
       "      <td>01:43</td>\n",
       "    </tr>\n",
       "    <tr>\n",
       "      <td>36</td>\n",
       "      <td>1.501684</td>\n",
       "      <td>1.284982</td>\n",
       "      <td>0.479356</td>\n",
       "      <td>0.520644</td>\n",
       "      <td>01:43</td>\n",
       "    </tr>\n",
       "    <tr>\n",
       "      <td>37</td>\n",
       "      <td>1.515047</td>\n",
       "      <td>1.286343</td>\n",
       "      <td>0.476053</td>\n",
       "      <td>0.523947</td>\n",
       "      <td>01:43</td>\n",
       "    </tr>\n",
       "  </tbody>\n",
       "</table>"
      ],
      "text/plain": [
       "<IPython.core.display.HTML object>"
      ]
     },
     "metadata": {},
     "output_type": "display_data"
    },
    {
     "data": {
      "application/vnd.jupyter.widget-view+json": {
       "model_id": "88b56743be9a4983be8f78587c4b5ec6",
       "version_major": 2,
       "version_minor": 0
      },
      "text/plain": [
       "Canvas(toolbar=Toolbar(toolitems=[('Home', 'Reset original view', 'home', 'home'), ('Back', 'Back to previous …"
      ]
     },
     "metadata": {},
     "output_type": "display_data"
    },
    {
     "data": {
      "image/png": "[encoded data removed]",
      "text/plain": [
       "<Figure size 720x480 with 1 Axes>"
      ]
     },
     "metadata": {},
     "output_type": "display_data"
    },
    {
     "name": "stdout",
     "output_type": "stream",
     "text": [
      "No improvement since epoch 32: early stopping\n"
     ]
    }
   ],
   "source": [
    "learn.fit_one_cycle(EPOCHS, LR_CHOICE_UNFROZ)"
   ]
  },
  {
   "cell_type": "markdown",
   "id": "superb-robertson",
   "metadata": {},
   "source": [
    "<br>\n",
    "<br>\n",
    "\n",
    "## Persist the Model"
   ]
  },
  {
   "cell_type": "code",
   "execution_count": 23,
   "id": "severe-japan",
   "metadata": {
    "execution": {
     "iopub.execute_input": "2021-02-06T04:27:38.738825Z",
     "iopub.status.busy": "2021-02-06T04:27:38.738616Z",
     "iopub.status.idle": "2021-02-06T04:27:38.912276Z",
     "shell.execute_reply": "2021-02-06T04:27:38.911893Z",
     "shell.execute_reply.started": "2021-02-06T04:27:38.738797Z"
    }
   },
   "outputs": [],
   "source": [
    "learn.export(f'../models/{RUN_NAME}.pkl')\n",
    "# path = Path('../models')\n",
    "# path.ls(file_exts='.pkl')"
   ]
  },
  {
   "cell_type": "markdown",
   "id": "removed-impression",
   "metadata": {},
   "source": [
    "<br>\n",
    "<br>"
   ]
  },
  {
   "cell_type": "markdown",
   "id": "unlikely-nevada",
   "metadata": {},
   "source": [
    "### Show some Results"
   ]
  },
  {
   "cell_type": "code",
   "execution_count": 24,
   "id": "excellent-conservative",
   "metadata": {
    "execution": {
     "iopub.execute_input": "2021-02-06T04:27:38.913247Z",
     "iopub.status.busy": "2021-02-06T04:27:38.913109Z",
     "iopub.status.idle": "2021-02-06T04:27:39.962005Z",
     "shell.execute_reply": "2021-02-06T04:27:39.961693Z",
     "shell.execute_reply.started": "2021-02-06T04:27:38.913231Z"
    }
   },
   "outputs": [
    {
     "data": {
      "text/html": [],
      "text/plain": [
       "<IPython.core.display.HTML object>"
      ]
     },
     "metadata": {},
     "output_type": "display_data"
    },
    {
     "data": {
      "application/vnd.jupyter.widget-view+json": {
       "model_id": "960b9bc4017949d08bff82956ff61239",
       "version_major": 2,
       "version_minor": 0
      },
      "text/plain": [
       "Canvas(toolbar=Toolbar(toolitems=[('Home', 'Reset original view', 'home', 'home'), ('Back', 'Back to previous …"
      ]
     },
     "metadata": {},
     "output_type": "display_data"
    }
   ],
   "source": [
    "learn.show_results()"
   ]
  },
  {
   "cell_type": "markdown",
   "id": "enclosed-pride",
   "metadata": {},
   "source": [
    "<br>\n",
    "<hr>\n",
    "<br>\n",
    "<br>\n",
    "<br>"
   ]
  },
  {
   "cell_type": "markdown",
   "id": "streaming-blocking",
   "metadata": {},
   "source": [
    "# Validation Set (not test set) Analysis"
   ]
  },
  {
   "cell_type": "markdown",
   "id": "sustainable-zambia",
   "metadata": {},
   "source": [
    "<br>\n",
    "\n",
    "### Plot Losses"
   ]
  },
  {
   "cell_type": "code",
   "execution_count": 25,
   "id": "sound-review",
   "metadata": {
    "execution": {
     "iopub.execute_input": "2021-02-06T04:27:39.962712Z",
     "iopub.status.busy": "2021-02-06T04:27:39.962601Z",
     "iopub.status.idle": "2021-02-06T04:27:39.964359Z",
     "shell.execute_reply": "2021-02-06T04:27:39.964096Z",
     "shell.execute_reply.started": "2021-02-06T04:27:39.962700Z"
    }
   },
   "outputs": [],
   "source": [
    "# learn.recorder.plot_loss()\n",
    "# plt.ylabel('Loss')\n",
    "# plt.xlabel('Batches Processed')"
   ]
  },
  {
   "cell_type": "markdown",
   "id": "surface-warner",
   "metadata": {},
   "source": [
    "<br>\n",
    "\n",
    "### Visualize with a confusion Matrix"
   ]
  },
  {
   "cell_type": "code",
   "execution_count": 26,
   "id": "fifteen-premium",
   "metadata": {
    "execution": {
     "iopub.execute_input": "2021-02-06T04:27:39.964827Z",
     "iopub.status.busy": "2021-02-06T04:27:39.964728Z",
     "iopub.status.idle": "2021-02-06T04:27:52.276949Z",
     "shell.execute_reply": "2021-02-06T04:27:52.276573Z",
     "shell.execute_reply.started": "2021-02-06T04:27:39.964817Z"
    }
   },
   "outputs": [
    {
     "data": {
      "text/html": [],
      "text/plain": [
       "<IPython.core.display.HTML object>"
      ]
     },
     "metadata": {},
     "output_type": "display_data"
    },
    {
     "data": {
      "application/vnd.jupyter.widget-view+json": {
       "model_id": "a1cb86966ccd427f9a50b60803bc22f6",
       "version_major": 2,
       "version_minor": 0
      },
      "text/plain": [
       "Canvas(toolbar=Toolbar(toolitems=[('Home', 'Reset original view', 'home', 'home'), ('Back', 'Back to previous …"
      ]
     },
     "metadata": {},
     "output_type": "display_data"
    }
   ],
   "source": [
    "interp = ClassificationInterpretation.from_learner(learn)\n",
    "interp.plot_confusion_matrix(figsize=(8,8))"
   ]
  },
  {
   "cell_type": "code",
   "execution_count": 27,
   "id": "connected-design",
   "metadata": {
    "execution": {
     "iopub.execute_input": "2021-02-06T04:27:52.277612Z",
     "iopub.status.busy": "2021-02-06T04:27:52.277498Z",
     "iopub.status.idle": "2021-02-06T04:27:52.281491Z",
     "shell.execute_reply": "2021-02-06T04:27:52.281203Z",
     "shell.execute_reply.started": "2021-02-06T04:27:52.277599Z"
    }
   },
   "outputs": [
    {
     "data": {
      "text/plain": [
       "[('healthy', 'cgm', 106),\n",
       " ('cmd', 'cgm', 97),\n",
       " ('cbsd', 'cbb', 93),\n",
       " ('cgm', 'cmd', 92),\n",
       " ('healthy', 'cbb', 91),\n",
       " ('cgm', 'healthy', 78),\n",
       " ('cbb', 'healthy', 74),\n",
       " ('cbsd', 'cmd', 63),\n",
       " ('cbsd', 'cgm', 60),\n",
       " ('cbsd', 'healthy', 60)]"
      ]
     },
     "execution_count": 27,
     "metadata": {},
     "output_type": "execute_result"
    }
   ],
   "source": [
    "interp.most_confused()[:10]"
   ]
  },
  {
   "cell_type": "markdown",
   "id": "nonprofit-supplement",
   "metadata": {},
   "source": [
    "<br>\n",
    "<br>"
   ]
  },
  {
   "cell_type": "markdown",
   "id": "fewer-following",
   "metadata": {},
   "source": [
    "## Classification Report"
   ]
  },
  {
   "cell_type": "code",
   "execution_count": 28,
   "id": "contrary-balloon",
   "metadata": {
    "execution": {
     "iopub.execute_input": "2021-02-06T04:27:52.282423Z",
     "iopub.status.busy": "2021-02-06T04:27:52.282316Z",
     "iopub.status.idle": "2021-02-06T04:27:52.291962Z",
     "shell.execute_reply": "2021-02-06T04:27:52.291658Z",
     "shell.execute_reply.started": "2021-02-06T04:27:52.282412Z"
    }
   },
   "outputs": [
    {
     "name": "stdout",
     "output_type": "stream",
     "text": [
      "              precision    recall  f1-score   support\n",
      "\n",
      "         cbb       0.55      0.59      0.57       469\n",
      "        cbsd       0.56      0.42      0.48       472\n",
      "         cgm       0.47      0.54      0.50       491\n",
      "         cmd       0.60      0.67      0.63       502\n",
      "     healthy       0.44      0.40      0.42       488\n",
      "\n",
      "    accuracy                           0.52      2422\n",
      "   macro avg       0.52      0.52      0.52      2422\n",
      "weighted avg       0.52      0.52      0.52      2422\n",
      "\n"
     ]
    }
   ],
   "source": [
    "interp.print_classification_report()"
   ]
  },
  {
   "cell_type": "markdown",
   "id": "infinite-sodium",
   "metadata": {},
   "source": [
    "<br>\n",
    "\n",
    "### Show the top 15 most error prone images"
   ]
  },
  {
   "cell_type": "code",
   "execution_count": 29,
   "id": "secret-identity",
   "metadata": {
    "execution": {
     "iopub.execute_input": "2021-02-06T04:27:52.292849Z",
     "iopub.status.busy": "2021-02-06T04:27:52.292691Z",
     "iopub.status.idle": "2021-02-06T04:27:52.590945Z",
     "shell.execute_reply": "2021-02-06T04:27:52.590509Z",
     "shell.execute_reply.started": "2021-02-06T04:27:52.292830Z"
    }
   },
   "outputs": [
    {
     "data": {
      "application/vnd.jupyter.widget-view+json": {
       "model_id": "5eed3f83b5a74a81a7cc6fbabdcd858d",
       "version_major": 2,
       "version_minor": 0
      },
      "text/plain": [
       "Canvas(toolbar=Toolbar(toolitems=[('Home', 'Reset original view', 'home', 'home'), ('Back', 'Back to previous …"
      ]
     },
     "metadata": {},
     "output_type": "display_data"
    }
   ],
   "source": [
    "interp.plot_top_losses(15, nrows=5)"
   ]
  },
  {
   "cell_type": "markdown",
   "id": "reliable-innocent",
   "metadata": {},
   "source": [
    "## Validation"
   ]
  },
  {
   "cell_type": "code",
   "execution_count": 31,
   "id": "institutional-chest",
   "metadata": {
    "execution": {
     "iopub.execute_input": "2021-02-06T04:33:12.496532Z",
     "iopub.status.busy": "2021-02-06T04:33:12.496315Z",
     "iopub.status.idle": "2021-02-06T04:33:12.499477Z",
     "shell.execute_reply": "2021-02-06T04:33:12.499007Z",
     "shell.execute_reply.started": "2021-02-06T04:33:12.496510Z"
    }
   },
   "outputs": [],
   "source": [
    "test_learn = learn\n",
    "\n",
    "# load_learner('../models/20210205-1716 - arch=xresnet34 - samples=1800 frozen=1 epochs=40 bs=32 res=340.pkl', cpu=False)\n",
    "# load_model(f'models/{RUN_NAME}_26.pth', test_learn, opt=Adam, with_opt=False)\n"
   ]
  },
  {
   "cell_type": "code",
   "execution_count": 42,
   "id": "mediterranean-institute",
   "metadata": {
    "execution": {
     "iopub.execute_input": "2021-02-06T05:12:38.711390Z",
     "iopub.status.busy": "2021-02-06T05:12:38.711058Z",
     "iopub.status.idle": "2021-02-06T05:12:38.715129Z",
     "shell.execute_reply": "2021-02-06T05:12:38.714700Z",
     "shell.execute_reply.started": "2021-02-06T05:12:38.711367Z"
    }
   },
   "outputs": [],
   "source": [
    "def get_test_fnames(path):\n",
    "    retlist = []\n",
    "    \n",
    "    for l in test_flist.values():\n",
    "        for f in l:\n",
    "            retlist.append(f)\n",
    "            \n",
    "    return random.sample(retlist, len(retlist))"
   ]
  },
  {
   "cell_type": "code",
   "execution_count": 43,
   "id": "fifth-uncle",
   "metadata": {
    "execution": {
     "iopub.execute_input": "2021-02-06T05:12:39.170798Z",
     "iopub.status.busy": "2021-02-06T05:12:39.170533Z",
     "iopub.status.idle": "2021-02-06T05:12:39.276109Z",
     "shell.execute_reply": "2021-02-06T05:12:39.275666Z",
     "shell.execute_reply.started": "2021-02-06T05:12:39.170775Z"
    }
   },
   "outputs": [],
   "source": [
    "test_db = DataBlock(\n",
    "    blocks=(ImageBlock, CategoryBlock), \n",
    "    get_items=get_test_fnames,\n",
    "    get_y=parent_label, \n",
    "    item_tfms=Resize(RESOLUTION, method='bilinear')) #,\n",
    "#     item_tfms=CropPad(RESOLUTION, pad_mode='zeros'))\n",
    "#    ,    batch_tfms=aug_transforms(do_flip=True, size=RESOLUTION, batch=False, max_zoom=1.0, mult=1, pad_mode='zeros'))\n",
    "\n",
    "\n",
    "dls = test_db.dataloaders(get_test_fnames, bs=BATCH_SIZE)\n",
    "\n",
    "test_dl = dls.test_dl(get_test_fnames('None'), with_labels=True)"
   ]
  },
  {
   "cell_type": "markdown",
   "id": "immediate-algorithm",
   "metadata": {},
   "source": [
    "####  Get the Inferrences on the Test Set"
   ]
  },
  {
   "cell_type": "code",
   "execution_count": 44,
   "id": "written-young",
   "metadata": {
    "execution": {
     "iopub.execute_input": "2021-02-06T05:12:40.265027Z",
     "iopub.status.busy": "2021-02-06T05:12:40.264826Z",
     "iopub.status.idle": "2021-02-06T05:12:51.418714Z",
     "shell.execute_reply": "2021-02-06T05:12:51.418388Z",
     "shell.execute_reply.started": "2021-02-06T05:12:40.265006Z"
    }
   },
   "outputs": [
    {
     "data": {
      "text/html": [],
      "text/plain": [
       "<IPython.core.display.HTML object>"
      ]
     },
     "metadata": {},
     "output_type": "display_data"
    }
   ],
   "source": [
    "inputs, preds, targs, decoded, losses = test_learn.get_preds(dl=test_dl, with_input=True, with_decoded=True, with_loss=True)\n"
   ]
  },
  {
   "cell_type": "code",
   "execution_count": 45,
   "id": "binary-election",
   "metadata": {
    "execution": {
     "iopub.execute_input": "2021-02-06T05:12:51.420702Z",
     "iopub.status.busy": "2021-02-06T05:12:51.420586Z",
     "iopub.status.idle": "2021-02-06T05:12:51.551991Z",
     "shell.execute_reply": "2021-02-06T05:12:51.551682Z",
     "shell.execute_reply.started": "2021-02-06T05:12:51.420688Z"
    }
   },
   "outputs": [],
   "source": [
    "interp = ClassificationInterpretation(dl=test_dl, inputs=inputs, preds=preds, targs=targs, decoded=decoded, losses=losses )"
   ]
  },
  {
   "cell_type": "markdown",
   "id": "efficient-communication",
   "metadata": {},
   "source": [
    "<br>\n",
    "\n",
    "### Visualize with a confusion Matrix"
   ]
  },
  {
   "cell_type": "code",
   "execution_count": 46,
   "id": "provincial-carol",
   "metadata": {
    "execution": {
     "iopub.execute_input": "2021-02-06T05:12:51.555571Z",
     "iopub.status.busy": "2021-02-06T05:12:51.555464Z",
     "iopub.status.idle": "2021-02-06T05:12:51.614733Z",
     "shell.execute_reply": "2021-02-06T05:12:51.614362Z",
     "shell.execute_reply.started": "2021-02-06T05:12:51.555559Z"
    }
   },
   "outputs": [
    {
     "data": {
      "application/vnd.jupyter.widget-view+json": {
       "model_id": "086f0e22c3274eb0b258365cbb067e86",
       "version_major": 2,
       "version_minor": 0
      },
      "text/plain": [
       "Canvas(toolbar=Toolbar(toolitems=[('Home', 'Reset original view', 'home', 'home'), ('Back', 'Back to previous …"
      ]
     },
     "metadata": {},
     "output_type": "display_data"
    }
   ],
   "source": [
    "interp.plot_confusion_matrix(figsize=(8,8))"
   ]
  },
  {
   "cell_type": "code",
   "execution_count": 47,
   "id": "great-jungle",
   "metadata": {
    "execution": {
     "iopub.execute_input": "2021-02-06T05:12:51.616815Z",
     "iopub.status.busy": "2021-02-06T05:12:51.616695Z",
     "iopub.status.idle": "2021-02-06T05:12:51.621034Z",
     "shell.execute_reply": "2021-02-06T05:12:51.620751Z",
     "shell.execute_reply.started": "2021-02-06T05:12:51.616802Z"
    }
   },
   "outputs": [
    {
     "data": {
      "text/plain": [
       "[('healthy', 'cgm', 103),\n",
       " ('cbsd', 'cbb', 86),\n",
       " ('cgm', 'cmd', 84),\n",
       " ('cmd', 'cgm', 84),\n",
       " ('healthy', 'cbb', 77),\n",
       " ('cbb', 'healthy', 72),\n",
       " ('cbsd', 'cgm', 70),\n",
       " ('cgm', 'healthy', 70),\n",
       " ('cbsd', 'cmd', 59),\n",
       " ('cbsd', 'healthy', 49)]"
      ]
     },
     "execution_count": 47,
     "metadata": {},
     "output_type": "execute_result"
    }
   ],
   "source": [
    "interp.most_confused()[:10]"
   ]
  },
  {
   "cell_type": "markdown",
   "id": "blank-console",
   "metadata": {},
   "source": [
    "<br>\n",
    "<br>"
   ]
  },
  {
   "cell_type": "markdown",
   "id": "circular-amendment",
   "metadata": {},
   "source": [
    "## Classification Report"
   ]
  },
  {
   "cell_type": "code",
   "execution_count": 48,
   "id": "confident-cosmetic",
   "metadata": {
    "execution": {
     "iopub.execute_input": "2021-02-06T05:13:01.027852Z",
     "iopub.status.busy": "2021-02-06T05:13:01.027586Z",
     "iopub.status.idle": "2021-02-06T05:13:01.039421Z",
     "shell.execute_reply": "2021-02-06T05:13:01.038942Z",
     "shell.execute_reply.started": "2021-02-06T05:13:01.027828Z"
    }
   },
   "outputs": [
    {
     "name": "stdout",
     "output_type": "stream",
     "text": [
      "              precision    recall  f1-score   support\n",
      "\n",
      "         cbb       0.57      0.65      0.61       433\n",
      "        cbsd       0.61      0.39      0.48       433\n",
      "         cgm       0.44      0.52      0.48       433\n",
      "         cmd       0.57      0.63      0.60       433\n",
      "     healthy       0.42      0.39      0.41       433\n",
      "\n",
      "    accuracy                           0.52      2165\n",
      "   macro avg       0.52      0.52      0.51      2165\n",
      "weighted avg       0.52      0.52      0.51      2165\n",
      "\n"
     ]
    }
   ],
   "source": [
    "interp.print_classification_report()"
   ]
  },
  {
   "cell_type": "code",
   "execution_count": 49,
   "id": "blank-cartridge",
   "metadata": {
    "execution": {
     "iopub.execute_input": "2021-02-06T05:13:02.005930Z",
     "iopub.status.busy": "2021-02-06T05:13:02.005664Z",
     "iopub.status.idle": "2021-02-06T05:13:02.219717Z",
     "shell.execute_reply": "2021-02-06T05:13:02.219303Z",
     "shell.execute_reply.started": "2021-02-06T05:13:02.005907Z"
    }
   },
   "outputs": [
    {
     "data": {
      "application/vnd.jupyter.widget-view+json": {
       "model_id": "2d1e00c115e542988d828898b6127c95",
       "version_major": 2,
       "version_minor": 0
      },
      "text/plain": [
       "Canvas(toolbar=Toolbar(toolitems=[('Home', 'Reset original view', 'home', 'home'), ('Back', 'Back to previous …"
      ]
     },
     "metadata": {},
     "output_type": "display_data"
    }
   ],
   "source": [
    "interp.plot_top_losses(k=15)"
   ]
  },
  {
   "cell_type": "markdown",
   "id": "reverse-engineering",
   "metadata": {},
   "source": [
    "## Archive this version of the notehook"
   ]
  },
  {
   "cell_type": "code",
   "execution_count": 52,
   "id": "constant-laugh",
   "metadata": {
    "execution": {
     "iopub.execute_input": "2021-02-06T05:15:11.990418Z",
     "iopub.status.busy": "2021-02-06T05:15:11.990145Z",
     "iopub.status.idle": "2021-02-06T05:15:12.001367Z",
     "shell.execute_reply": "2021-02-06T05:15:12.000853Z",
     "shell.execute_reply.started": "2021-02-06T05:15:11.990392Z"
    }
   },
   "outputs": [
    {
     "ename": "FileNotFoundError",
     "evalue": "[Errno 2] No such file or directory: 'FastAI Cassava Disease Classification.ipynb'",
     "output_type": "error",
     "traceback": [
      "\u001b[0;31m---------------------------------------------------------------------------\u001b[0m",
      "\u001b[0;31mFileNotFoundError\u001b[0m                         Traceback (most recent call last)",
      "\u001b[0;32m<ipython-input-52-7a8aaa6b542f>\u001b[0m in \u001b[0;36m<module>\u001b[0;34m\u001b[0m\n\u001b[1;32m      6\u001b[0m \u001b[0;31m# time = '20210122-2356'\u001b[0m\u001b[0;34m\u001b[0m\u001b[0;34m\u001b[0m\u001b[0;34m\u001b[0m\u001b[0m\n\u001b[1;32m      7\u001b[0m \u001b[0;31m# copy the notebook file - the prefix links it to the saved model\u001b[0m\u001b[0;34m\u001b[0m\u001b[0;34m\u001b[0m\u001b[0;34m\u001b[0m\u001b[0m\n\u001b[0;32m----> 8\u001b[0;31m \u001b[0mshutil\u001b[0m\u001b[0;34m.\u001b[0m\u001b[0mcopyfile\u001b[0m\u001b[0;34m(\u001b[0m\u001b[0;34m'FastAI Cassava Disease Classification.ipynb'\u001b[0m\u001b[0;34m,\u001b[0m \u001b[0;34mf'.Archive/{time} - FastAI Cassava Disease Classification.ipynb'\u001b[0m\u001b[0;34m)\u001b[0m\u001b[0;34m\u001b[0m\u001b[0;34m\u001b[0m\u001b[0m\n\u001b[0m",
      "\u001b[0;32m~/miniconda3/envs/learn/lib/python3.8/shutil.py\u001b[0m in \u001b[0;36mcopyfile\u001b[0;34m(src, dst, follow_symlinks)\u001b[0m\n\u001b[1;32m    259\u001b[0m         \u001b[0mos\u001b[0m\u001b[0;34m.\u001b[0m\u001b[0msymlink\u001b[0m\u001b[0;34m(\u001b[0m\u001b[0mos\u001b[0m\u001b[0;34m.\u001b[0m\u001b[0mreadlink\u001b[0m\u001b[0;34m(\u001b[0m\u001b[0msrc\u001b[0m\u001b[0;34m)\u001b[0m\u001b[0;34m,\u001b[0m \u001b[0mdst\u001b[0m\u001b[0;34m)\u001b[0m\u001b[0;34m\u001b[0m\u001b[0;34m\u001b[0m\u001b[0m\n\u001b[1;32m    260\u001b[0m     \u001b[0;32melse\u001b[0m\u001b[0;34m:\u001b[0m\u001b[0;34m\u001b[0m\u001b[0;34m\u001b[0m\u001b[0m\n\u001b[0;32m--> 261\u001b[0;31m         \u001b[0;32mwith\u001b[0m \u001b[0mopen\u001b[0m\u001b[0;34m(\u001b[0m\u001b[0msrc\u001b[0m\u001b[0;34m,\u001b[0m \u001b[0;34m'rb'\u001b[0m\u001b[0;34m)\u001b[0m \u001b[0;32mas\u001b[0m \u001b[0mfsrc\u001b[0m\u001b[0;34m,\u001b[0m \u001b[0mopen\u001b[0m\u001b[0;34m(\u001b[0m\u001b[0mdst\u001b[0m\u001b[0;34m,\u001b[0m \u001b[0;34m'wb'\u001b[0m\u001b[0;34m)\u001b[0m \u001b[0;32mas\u001b[0m \u001b[0mfdst\u001b[0m\u001b[0;34m:\u001b[0m\u001b[0;34m\u001b[0m\u001b[0;34m\u001b[0m\u001b[0m\n\u001b[0m\u001b[1;32m    262\u001b[0m             \u001b[0;31m# macOS\u001b[0m\u001b[0;34m\u001b[0m\u001b[0;34m\u001b[0m\u001b[0;34m\u001b[0m\u001b[0m\n\u001b[1;32m    263\u001b[0m             \u001b[0;32mif\u001b[0m \u001b[0m_HAS_FCOPYFILE\u001b[0m\u001b[0;34m:\u001b[0m\u001b[0;34m\u001b[0m\u001b[0;34m\u001b[0m\u001b[0m\n",
      "\u001b[0;31mFileNotFoundError\u001b[0m: [Errno 2] No such file or directory: 'FastAI Cassava Disease Classification.ipynb'"
     ]
    }
   ],
   "source": [
    "import os\n",
    "import shutil\n",
    "\n",
    "# Allow Jupyter the opportunity to autosave\n",
    "# !sleep 20\n",
    "# time = '20210122-2356'\n",
    "# copy the notebook file - the prefix links it to the saved model\n",
    "shutil.copyfile('FastAI Cassava Disease Classification.ipynb', f'.Archive/{time} - FastAI Cassava Disease Classification.ipynb')"
   ]
  },
  {
   "cell_type": "code",
   "execution_count": null,
   "id": "ignored-folder",
   "metadata": {},
   "outputs": [],
   "source": []
  },
  {
   "cell_type": "code",
   "execution_count": null,
   "id": "lasting-marine",
   "metadata": {},
   "outputs": [],
   "source": []
  }
 ],
 "metadata": {
  "kernelspec": {
   "display_name": "Python 3",
   "language": "python",
   "name": "python3"
  },
  "language_info": {
   "codemirror_mode": {
    "name": "ipython",
    "version": 3
   },
   "file_extension": ".py",
   "mimetype": "text/x-python",
   "name": "python",
   "nbconvert_exporter": "python",
   "pygments_lexer": "ipython3",
   "version": "3.8.6"
  },
  "widgets": {
   "application/vnd.jupyter.widget-state+json": {
    "state": {
     "006fd0659d134db1b91fd97da713b9a6": {
      "model_module": "@jupyter-widgets/base",
      "model_module_version": "1.2.0",
      "model_name": "LayoutModel",
      "state": {}
     },
     "00d950f6be284a2994acc9af6b31e60b": {
      "model_module": "@jupyter-widgets/base",
      "model_module_version": "1.2.0",
      "model_name": "LayoutModel",
      "state": {}
     },
     "07c7369ea9bf46cab5b82450260f0a1a": {
      "model_module": "@jupyter-widgets/base",
      "model_module_version": "1.2.0",
      "model_name": "LayoutModel",
      "state": {}
     },
     "086f0e22c3274eb0b258365cbb067e86": {
      "model_module": "jupyter-matplotlib",
      "model_module_version": "^0.8.3",
      "model_name": "MPLCanvasModel",
      "state": {
       "_cursor": "default",
       "_figure_label": "Figure 11",
       "_height": 960,
       "_message": "x= y=\n[77]",
       "_width": 960,
       "layout": "IPY_MODEL_55d768d774ae4629b754d57992d66126",
       "toolbar": "IPY_MODEL_b2cd1ac5deff450abdc6b39e6d88dee8",
       "toolbar_position": "left"
      }
     },
     "0b6e76ec0ca84edba961e37e2da5a6b1": {
      "model_module": "@jupyter-widgets/base",
      "model_module_version": "1.2.0",
      "model_name": "LayoutModel",
      "state": {}
     },
     "1143920942694758b088a19079c64df4": {
      "model_module": "@jupyter-widgets/base",
      "model_module_version": "1.2.0",
      "model_name": "LayoutModel",
      "state": {}
     },
     "16f65003159e4948bfd79a700c9e0dcc": {
      "model_module": "jupyter-matplotlib",
      "model_module_version": "^0.8.3",
      "model_name": "ToolbarModel",
      "state": {
       "layout": "IPY_MODEL_6d5d517b7bb7455caa20988229e5f94d",
       "toolitems": [
        [
         "Home",
         "Reset original view",
         "home",
         "home"
        ],
        [
         "Back",
         "Back to previous view",
         "arrow-left",
         "back"
        ],
        [
         "Forward",
         "Forward to next view",
         "arrow-right",
         "forward"
        ],
        [
         "Pan",
         "Left button pans, Right button zooms\nx/y fixes axis, CTRL fixes aspect",
         "arrows",
         "pan"
        ],
        [
         "Zoom",
         "Zoom to rectangle\nx/y fixes axis, CTRL fixes aspect",
         "square-o",
         "zoom"
        ],
        [
         "Download",
         "Download plot",
         "floppy-o",
         "save_figure"
        ]
       ]
      }
     },
     "1fcac957109e4b6fa6afea2289057031": {
      "model_module": "@jupyter-widgets/base",
      "model_module_version": "1.2.0",
      "model_name": "LayoutModel",
      "state": {}
     },
     "22593ca0fed94cfb92638d53b91de300": {
      "model_module": "@jupyter-widgets/base",
      "model_module_version": "1.2.0",
      "model_name": "LayoutModel",
      "state": {}
     },
     "25641cb41c5e4541b354775baf28ba69": {
      "model_module": "jupyter-matplotlib",
      "model_module_version": "^0.8.3",
      "model_name": "MPLCanvasModel",
      "state": {
       "_cursor": "default",
       "_figure_label": "Figure 7",
       "_height": 600,
       "_width": 1080,
       "layout": "IPY_MODEL_c33a801baa3f48c8b5d89782c26bff4c",
       "toolbar": "IPY_MODEL_2f4356ef967145ffbbb9168fb8da8e61",
       "toolbar_position": "left"
      }
     },
     "2d1e00c115e542988d828898b6127c95": {
      "model_module": "jupyter-matplotlib",
      "model_module_version": "^0.8.3",
      "model_name": "MPLCanvasModel",
      "state": {
       "_cursor": "default",
       "_figure_label": "Figure 12",
       "_height": 1080,
       "_image_mode": "diff",
       "_width": 1800,
       "layout": "IPY_MODEL_c607fac5caba40dea515868e1ba986cc",
       "toolbar": "IPY_MODEL_f15b7847ee26468fa5a9383a62f1d4cf",
       "toolbar_position": "left"
      }
     },
     "2f4356ef967145ffbbb9168fb8da8e61": {
      "model_module": "jupyter-matplotlib",
      "model_module_version": "^0.8.3",
      "model_name": "ToolbarModel",
      "state": {
       "layout": "IPY_MODEL_fddc9c5c625e4191a3771cb32e645b31",
       "toolitems": [
        [
         "Home",
         "Reset original view",
         "home",
         "home"
        ],
        [
         "Back",
         "Back to previous view",
         "arrow-left",
         "back"
        ],
        [
         "Forward",
         "Forward to next view",
         "arrow-right",
         "forward"
        ],
        [
         "Pan",
         "Left button pans, Right button zooms\nx/y fixes axis, CTRL fixes aspect",
         "arrows",
         "pan"
        ],
        [
         "Zoom",
         "Zoom to rectangle\nx/y fixes axis, CTRL fixes aspect",
         "square-o",
         "zoom"
        ],
        [
         "Download",
         "Download plot",
         "floppy-o",
         "save_figure"
        ]
       ]
      }
     },
     "32210fb7d7a54b8f9f956387e94f1fba": {
      "model_module": "jupyter-matplotlib",
      "model_module_version": "^0.8.3",
      "model_name": "ToolbarModel",
      "state": {
       "layout": "IPY_MODEL_00d950f6be284a2994acc9af6b31e60b",
       "toolitems": [
        [
         "Home",
         "Reset original view",
         "home",
         "home"
        ],
        [
         "Back",
         "Back to previous view",
         "arrow-left",
         "back"
        ],
        [
         "Forward",
         "Forward to next view",
         "arrow-right",
         "forward"
        ],
        [
         "Pan",
         "Left button pans, Right button zooms\nx/y fixes axis, CTRL fixes aspect",
         "arrows",
         "pan"
        ],
        [
         "Zoom",
         "Zoom to rectangle\nx/y fixes axis, CTRL fixes aspect",
         "square-o",
         "zoom"
        ],
        [
         "Download",
         "Download plot",
         "floppy-o",
         "save_figure"
        ]
       ]
      }
     },
     "47d4261359324d8590c79a7a0596fdb9": {
      "model_module": "jupyter-matplotlib",
      "model_module_version": "^0.8.3",
      "model_name": "ToolbarModel",
      "state": {
       "layout": "IPY_MODEL_22593ca0fed94cfb92638d53b91de300",
       "toolitems": [
        [
         "Home",
         "Reset original view",
         "home",
         "home"
        ],
        [
         "Back",
         "Back to previous view",
         "arrow-left",
         "back"
        ],
        [
         "Forward",
         "Forward to next view",
         "arrow-right",
         "forward"
        ],
        [
         "Pan",
         "Left button pans, Right button zooms\nx/y fixes axis, CTRL fixes aspect",
         "arrows",
         "pan"
        ],
        [
         "Zoom",
         "Zoom to rectangle\nx/y fixes axis, CTRL fixes aspect",
         "square-o",
         "zoom"
        ],
        [
         "Download",
         "Download plot",
         "floppy-o",
         "save_figure"
        ]
       ]
      }
     },
     "5197949c199b4bbf8f94a1dfe931be02": {
      "model_module": "jupyter-matplotlib",
      "model_module_version": "^0.8.3",
      "model_name": "ToolbarModel",
      "state": {
       "layout": "IPY_MODEL_1fcac957109e4b6fa6afea2289057031",
       "toolitems": [
        [
         "Home",
         "Reset original view",
         "home",
         "home"
        ],
        [
         "Back",
         "Back to previous view",
         "arrow-left",
         "back"
        ],
        [
         "Forward",
         "Forward to next view",
         "arrow-right",
         "forward"
        ],
        [
         "Pan",
         "Left button pans, Right button zooms\nx/y fixes axis, CTRL fixes aspect",
         "arrows",
         "pan"
        ],
        [
         "Zoom",
         "Zoom to rectangle\nx/y fixes axis, CTRL fixes aspect",
         "square-o",
         "zoom"
        ],
        [
         "Download",
         "Download plot",
         "floppy-o",
         "save_figure"
        ]
       ]
      }
     },
     "55d768d774ae4629b754d57992d66126": {
      "model_module": "@jupyter-widgets/base",
      "model_module_version": "1.2.0",
      "model_name": "LayoutModel",
      "state": {}
     },
     "5ddea7639a4846b8afc4c0f9ce971c2a": {
      "model_module": "jupyter-matplotlib",
      "model_module_version": "^0.8.3",
      "model_name": "MPLCanvasModel",
      "state": {
       "_cursor": "default",
       "_figure_label": "Figure 2",
       "_height": 360,
       "_image_mode": "diff",
       "_width": 720,
       "layout": "IPY_MODEL_8f26a2f4f3b7433ea2c19dce550b552a",
       "toolbar": "IPY_MODEL_aa70d1f5be334cc39cabb0be4dfc90d9",
       "toolbar_position": "left"
      }
     },
     "5e033c22fe874460bf007b2388a58dc0": {
      "model_module": "jupyter-matplotlib",
      "model_module_version": "^0.8.3",
      "model_name": "MPLCanvasModel",
      "state": {
       "_cursor": "default",
       "_figure_label": "Figure 5",
       "_height": 360,
       "_image_mode": "diff",
       "_width": 720,
       "layout": "IPY_MODEL_b1b5d57dba804a77b1a9cdfb9aa87bbd",
       "toolbar": "IPY_MODEL_47d4261359324d8590c79a7a0596fdb9",
       "toolbar_position": "left"
      }
     },
     "5eed3f83b5a74a81a7cc6fbabdcd858d": {
      "model_module": "jupyter-matplotlib",
      "model_module_version": "^0.8.3",
      "model_name": "MPLCanvasModel",
      "state": {
       "_cursor": "default",
       "_figure_label": "Figure 10",
       "_height": 1800,
       "_image_mode": "diff",
       "_message": "x=37. y=31.\n[152, 172, 171]",
       "_width": 1080,
       "layout": "IPY_MODEL_9c2431167e0343cdb86fa2b99c485e19",
       "toolbar": "IPY_MODEL_605a2465ba7c4a5b99dd4613731172e1",
       "toolbar_position": "left"
      }
     },
     "605a2465ba7c4a5b99dd4613731172e1": {
      "model_module": "jupyter-matplotlib",
      "model_module_version": "^0.8.3",
      "model_name": "ToolbarModel",
      "state": {
       "layout": "IPY_MODEL_9b2a907d914a42e88e8615dec9a3c8b8",
       "toolitems": [
        [
         "Home",
         "Reset original view",
         "home",
         "home"
        ],
        [
         "Back",
         "Back to previous view",
         "arrow-left",
         "back"
        ],
        [
         "Forward",
         "Forward to next view",
         "arrow-right",
         "forward"
        ],
        [
         "Pan",
         "Left button pans, Right button zooms\nx/y fixes axis, CTRL fixes aspect",
         "arrows",
         "pan"
        ],
        [
         "Zoom",
         "Zoom to rectangle\nx/y fixes axis, CTRL fixes aspect",
         "square-o",
         "zoom"
        ],
        [
         "Download",
         "Download plot",
         "floppy-o",
         "save_figure"
        ]
       ]
      }
     },
     "62feba02b31f49bcaa88f4b4273c7ad8": {
      "model_module": "@jupyter-widgets/base",
      "model_module_version": "1.2.0",
      "model_name": "LayoutModel",
      "state": {}
     },
     "6873ea8d6df64b8c9d6ada5f743c546b": {
      "model_module": "@jupyter-widgets/base",
      "model_module_version": "1.2.0",
      "model_name": "LayoutModel",
      "state": {}
     },
     "69bb38712e55418d972ca8435882c580": {
      "model_module": "jupyter-matplotlib",
      "model_module_version": "^0.8.3",
      "model_name": "MPLCanvasModel",
      "state": {
       "_cursor": "default",
       "_figure_label": "Figure 3",
       "_height": 360,
       "_image_mode": "diff",
       "_message": "x=cbb y=1148.",
       "_width": 720,
       "layout": "IPY_MODEL_0b6e76ec0ca84edba961e37e2da5a6b1",
       "toolbar": "IPY_MODEL_ae84470ce4264e4bac0504ff4a264f1d",
       "toolbar_position": "left"
      }
     },
     "6d303030eff945a7bed757af2b8336e2": {
      "model_module": "jupyter-matplotlib",
      "model_module_version": "^0.8.3",
      "model_name": "MPLCanvasModel",
      "state": {
       "_cursor": "default",
       "_figure_label": "Figure 1",
       "_height": 360,
       "_image_mode": "diff",
       "_message": "x=cbsd y=0.0212",
       "_width": 720,
       "layout": "IPY_MODEL_c6d809d41ed14850b7820e032b2d972d",
       "toolbar": "IPY_MODEL_5197949c199b4bbf8f94a1dfe931be02",
       "toolbar_position": "left"
      }
     },
     "6d5d517b7bb7455caa20988229e5f94d": {
      "model_module": "@jupyter-widgets/base",
      "model_module_version": "1.2.0",
      "model_name": "LayoutModel",
      "state": {}
     },
     "7c86bc54eeeb422787d03182dc8d149b": {
      "model_module": "jupyter-matplotlib",
      "model_module_version": "^0.8.3",
      "model_name": "MPLCanvasModel",
      "state": {
       "_cursor": "default",
       "_figure_label": "Figure 4",
       "_height": 360,
       "_image_mode": "diff",
       "_message": "x=healthy y=1239.",
       "_width": 720,
       "layout": "IPY_MODEL_8b4ed5c385d045f18476e1afbabd8250",
       "toolbar": "IPY_MODEL_8db1484ea76d46a4830aadcf6c6fa5f2",
       "toolbar_position": "left"
      }
     },
     "8b4ed5c385d045f18476e1afbabd8250": {
      "model_module": "@jupyter-widgets/base",
      "model_module_version": "1.2.0",
      "model_name": "LayoutModel",
      "state": {}
     },
     "8db1484ea76d46a4830aadcf6c6fa5f2": {
      "model_module": "jupyter-matplotlib",
      "model_module_version": "^0.8.3",
      "model_name": "ToolbarModel",
      "state": {
       "layout": "IPY_MODEL_c16377ffd6054f1a94fa3d6522b968c9",
       "toolitems": [
        [
         "Home",
         "Reset original view",
         "home",
         "home"
        ],
        [
         "Back",
         "Back to previous view",
         "arrow-left",
         "back"
        ],
        [
         "Forward",
         "Forward to next view",
         "arrow-right",
         "forward"
        ],
        [
         "Pan",
         "Left button pans, Right button zooms\nx/y fixes axis, CTRL fixes aspect",
         "arrows",
         "pan"
        ],
        [
         "Zoom",
         "Zoom to rectangle\nx/y fixes axis, CTRL fixes aspect",
         "square-o",
         "zoom"
        ],
        [
         "Download",
         "Download plot",
         "floppy-o",
         "save_figure"
        ]
       ]
      }
     },
     "8f26a2f4f3b7433ea2c19dce550b552a": {
      "model_module": "@jupyter-widgets/base",
      "model_module_version": "1.2.0",
      "model_name": "LayoutModel",
      "state": {}
     },
     "960b9bc4017949d08bff82956ff61239": {
      "model_module": "jupyter-matplotlib",
      "model_module_version": "^0.8.3",
      "model_name": "MPLCanvasModel",
      "state": {
       "layout": "IPY_MODEL_006fd0659d134db1b91fd97da713b9a6",
       "toolbar": "IPY_MODEL_32210fb7d7a54b8f9f956387e94f1fba",
       "toolbar_position": "left"
      }
     },
     "9b2a907d914a42e88e8615dec9a3c8b8": {
      "model_module": "@jupyter-widgets/base",
      "model_module_version": "1.2.0",
      "model_name": "LayoutModel",
      "state": {}
     },
     "9c2431167e0343cdb86fa2b99c485e19": {
      "model_module": "@jupyter-widgets/base",
      "model_module_version": "1.2.0",
      "model_name": "LayoutModel",
      "state": {}
     },
     "9cf1ee4abedf42638173e8f05f175f24": {
      "model_module": "@jupyter-widgets/base",
      "model_module_version": "1.2.0",
      "model_name": "LayoutModel",
      "state": {}
     },
     "a1cb86966ccd427f9a50b60803bc22f6": {
      "model_module": "jupyter-matplotlib",
      "model_module_version": "^0.8.3",
      "model_name": "MPLCanvasModel",
      "state": {
       "layout": "IPY_MODEL_e473d6b80509447198fd52bd4702b682",
       "toolbar": "IPY_MODEL_16f65003159e4948bfd79a700c9e0dcc",
       "toolbar_position": "left"
      }
     },
     "aa70d1f5be334cc39cabb0be4dfc90d9": {
      "model_module": "jupyter-matplotlib",
      "model_module_version": "^0.8.3",
      "model_name": "ToolbarModel",
      "state": {
       "layout": "IPY_MODEL_07c7369ea9bf46cab5b82450260f0a1a",
       "toolitems": [
        [
         "Home",
         "Reset original view",
         "home",
         "home"
        ],
        [
         "Back",
         "Back to previous view",
         "arrow-left",
         "back"
        ],
        [
         "Forward",
         "Forward to next view",
         "arrow-right",
         "forward"
        ],
        [
         "Pan",
         "Left button pans, Right button zooms\nx/y fixes axis, CTRL fixes aspect",
         "arrows",
         "pan"
        ],
        [
         "Zoom",
         "Zoom to rectangle\nx/y fixes axis, CTRL fixes aspect",
         "square-o",
         "zoom"
        ],
        [
         "Download",
         "Download plot",
         "floppy-o",
         "save_figure"
        ]
       ]
      }
     },
     "ae84470ce4264e4bac0504ff4a264f1d": {
      "model_module": "jupyter-matplotlib",
      "model_module_version": "^0.8.3",
      "model_name": "ToolbarModel",
      "state": {
       "layout": "IPY_MODEL_9cf1ee4abedf42638173e8f05f175f24",
       "toolitems": [
        [
         "Home",
         "Reset original view",
         "home",
         "home"
        ],
        [
         "Back",
         "Back to previous view",
         "arrow-left",
         "back"
        ],
        [
         "Forward",
         "Forward to next view",
         "arrow-right",
         "forward"
        ],
        [
         "Pan",
         "Left button pans, Right button zooms\nx/y fixes axis, CTRL fixes aspect",
         "arrows",
         "pan"
        ],
        [
         "Zoom",
         "Zoom to rectangle\nx/y fixes axis, CTRL fixes aspect",
         "square-o",
         "zoom"
        ],
        [
         "Download",
         "Download plot",
         "floppy-o",
         "save_figure"
        ]
       ]
      }
     },
     "b1b5d57dba804a77b1a9cdfb9aa87bbd": {
      "model_module": "@jupyter-widgets/base",
      "model_module_version": "1.2.0",
      "model_name": "LayoutModel",
      "state": {}
     },
     "b2cd1ac5deff450abdc6b39e6d88dee8": {
      "model_module": "jupyter-matplotlib",
      "model_module_version": "^0.8.3",
      "model_name": "ToolbarModel",
      "state": {
       "layout": "IPY_MODEL_62feba02b31f49bcaa88f4b4273c7ad8",
       "toolitems": [
        [
         "Home",
         "Reset original view",
         "home",
         "home"
        ],
        [
         "Back",
         "Back to previous view",
         "arrow-left",
         "back"
        ],
        [
         "Forward",
         "Forward to next view",
         "arrow-right",
         "forward"
        ],
        [
         "Pan",
         "Left button pans, Right button zooms\nx/y fixes axis, CTRL fixes aspect",
         "arrows",
         "pan"
        ],
        [
         "Zoom",
         "Zoom to rectangle\nx/y fixes axis, CTRL fixes aspect",
         "square-o",
         "zoom"
        ],
        [
         "Download",
         "Download plot",
         "floppy-o",
         "save_figure"
        ]
       ]
      }
     },
     "b2db2f36fb364afdae44b835ed75f748": {
      "model_module": "@jupyter-widgets/base",
      "model_module_version": "1.2.0",
      "model_name": "LayoutModel",
      "state": {}
     },
     "be055cb5a48a4492b6b8e7bcf389a7c6": {
      "model_module": "jupyter-matplotlib",
      "model_module_version": "^0.8.3",
      "model_name": "ToolbarModel",
      "state": {
       "layout": "IPY_MODEL_1143920942694758b088a19079c64df4",
       "toolitems": [
        [
         "Home",
         "Reset original view",
         "home",
         "home"
        ],
        [
         "Back",
         "Back to previous view",
         "arrow-left",
         "back"
        ],
        [
         "Forward",
         "Forward to next view",
         "arrow-right",
         "forward"
        ],
        [
         "Pan",
         "Left button pans, Right button zooms\nx/y fixes axis, CTRL fixes aspect",
         "arrows",
         "pan"
        ],
        [
         "Zoom",
         "Zoom to rectangle\nx/y fixes axis, CTRL fixes aspect",
         "square-o",
         "zoom"
        ],
        [
         "Download",
         "Download plot",
         "floppy-o",
         "save_figure"
        ]
       ]
      }
     },
     "c16377ffd6054f1a94fa3d6522b968c9": {
      "model_module": "@jupyter-widgets/base",
      "model_module_version": "1.2.0",
      "model_name": "LayoutModel",
      "state": {}
     },
     "c33a801baa3f48c8b5d89782c26bff4c": {
      "model_module": "@jupyter-widgets/base",
      "model_module_version": "1.2.0",
      "model_name": "LayoutModel",
      "state": {}
     },
     "c607fac5caba40dea515868e1ba986cc": {
      "model_module": "@jupyter-widgets/base",
      "model_module_version": "1.2.0",
      "model_name": "LayoutModel",
      "state": {}
     },
     "c6d809d41ed14850b7820e032b2d972d": {
      "model_module": "@jupyter-widgets/base",
      "model_module_version": "1.2.0",
      "model_name": "LayoutModel",
      "state": {}
     },
     "c8feef55818b46f8a2bda9b73dc5685a": {
      "model_module": "@jupyter-widgets/base",
      "model_module_version": "1.2.0",
      "model_name": "LayoutModel",
      "state": {}
     },
     "d40033c1454c4951ad0e3a08f8f1471d": {
      "model_module": "jupyter-matplotlib",
      "model_module_version": "^0.8.3",
      "model_name": "MPLCanvasModel",
      "state": {
       "_cursor": "default",
       "_figure_label": "Figure 6",
       "_height": 1440,
       "_image_mode": "diff",
       "_width": 1440,
       "layout": "IPY_MODEL_fc069e00b7664279b80ceeca62ddbe2d",
       "toolbar": "IPY_MODEL_be055cb5a48a4492b6b8e7bcf389a7c6",
       "toolbar_position": "left"
      }
     },
     "e473d6b80509447198fd52bd4702b682": {
      "model_module": "@jupyter-widgets/base",
      "model_module_version": "1.2.0",
      "model_name": "LayoutModel",
      "state": {}
     },
     "f12706fbadb14be5bd6cd7db8ffcece5": {
      "model_module": "jupyter-matplotlib",
      "model_module_version": "^0.8.3",
      "model_name": "ToolbarModel",
      "state": {
       "layout": "IPY_MODEL_6873ea8d6df64b8c9d6ada5f743c546b",
       "toolitems": [
        [
         "Home",
         "Reset original view",
         "home",
         "home"
        ],
        [
         "Back",
         "Back to previous view",
         "arrow-left",
         "back"
        ],
        [
         "Forward",
         "Forward to next view",
         "arrow-right",
         "forward"
        ],
        [
         "Pan",
         "Left button pans, Right button zooms\nx/y fixes axis, CTRL fixes aspect",
         "arrows",
         "pan"
        ],
        [
         "Zoom",
         "Zoom to rectangle\nx/y fixes axis, CTRL fixes aspect",
         "square-o",
         "zoom"
        ],
        [
         "Download",
         "Download plot",
         "floppy-o",
         "save_figure"
        ]
       ]
      }
     },
     "f15b7847ee26468fa5a9383a62f1d4cf": {
      "model_module": "jupyter-matplotlib",
      "model_module_version": "^0.8.3",
      "model_name": "ToolbarModel",
      "state": {
       "layout": "IPY_MODEL_c8feef55818b46f8a2bda9b73dc5685a",
       "toolitems": [
        [
         "Home",
         "Reset original view",
         "home",
         "home"
        ],
        [
         "Back",
         "Back to previous view",
         "arrow-left",
         "back"
        ],
        [
         "Forward",
         "Forward to next view",
         "arrow-right",
         "forward"
        ],
        [
         "Pan",
         "Left button pans, Right button zooms\nx/y fixes axis, CTRL fixes aspect",
         "arrows",
         "pan"
        ],
        [
         "Zoom",
         "Zoom to rectangle\nx/y fixes axis, CTRL fixes aspect",
         "square-o",
         "zoom"
        ],
        [
         "Download",
         "Download plot",
         "floppy-o",
         "save_figure"
        ]
       ]
      }
     },
     "fc069e00b7664279b80ceeca62ddbe2d": {
      "model_module": "@jupyter-widgets/base",
      "model_module_version": "1.2.0",
      "model_name": "LayoutModel",
      "state": {}
     },
     "fddc9c5c625e4191a3771cb32e645b31": {
      "model_module": "@jupyter-widgets/base",
      "model_module_version": "1.2.0",
      "model_name": "LayoutModel",
      "state": {}
     }
    },
    "version_major": 2,
    "version_minor": 0
   }
  }
 },
 "nbformat": 4,
 "nbformat_minor": 5
}
