{
 "cells": [
  {
   "cell_type": "markdown",
   "id": "straight-knowing",
   "metadata": {},
   "source": [
    "# FastAI Cassava Root Disease Classification"
   ]
  },
  {
   "cell_type": "code",
   "execution_count": 1,
   "id": "three-burlington",
   "metadata": {
    "execution": {
     "iopub.execute_input": "2021-02-06T09:12:23.467279Z",
     "iopub.status.busy": "2021-02-06T09:12:23.467051Z",
     "iopub.status.idle": "2021-02-06T09:12:24.517140Z",
     "shell.execute_reply": "2021-02-06T09:12:24.516714Z",
     "shell.execute_reply.started": "2021-02-06T09:12:23.467230Z"
    }
   },
   "outputs": [
    {
     "name": "stdout",
     "output_type": "stream",
     "text": [
      "RUN_NAME = '20210206-0112 - arch=xse_resnext34 - samples=1800 frozen=1 epochs=40 bs=14 res=420'\n"
     ]
    }
   ],
   "source": [
    "from datetime import datetime\n",
    "from fastbook import *\n",
    "from fastai.vision.all import *\n",
    "from fastai.vision.widgets import *\n",
    "import fastai\n",
    "import matplotlib.pyplot as plt\n",
    "import matplotlib.ticker as ticker\n",
    "from string import ascii_uppercase\n",
    "import numpy as np\n",
    "import operator\n",
    "import glob\n",
    "\n",
    "\n",
    "# %matplotlib inline\n",
    "\n",
    "%matplotlib widget\n",
    "\n",
    "plt.rcParams['figure.figsize'] = [9, 5]\n",
    "plt.rcParams['figure.dpi'] = 120\n",
    "plt.style.use('dark_background')\n",
    "\n",
    "\n",
    "ARCH = xse_resnext34  # resnet101\n",
    "\n",
    "CHOSEN_SAMPLE_SIZE = 1800  # use this to control per-category sample sizes # 1000\n",
    "TEST_SET_SIZE = round(CHOSEN_SAMPLE_SIZE * 0.2)  # number of images per category to put in the test set\n",
    "FROZEN_EPOCHS = 1  # 1\n",
    "EPOCHS = 40  # 4\n",
    "BATCH_SIZE = 14  # 16\n",
    "RESOLUTION = 420  # 300\n",
    "PRETRAINED_FLAG = True\n",
    "\n",
    "# data = ''\n",
    "# rn_addon = f'_data={data}'\n",
    "\n",
    "time = datetime.today().strftime(\"%Y%m%d-%H%M\")\n",
    "\n",
    "RUN_NAME = f'{time} - arch={ARCH.__name__} - samples={CHOSEN_SAMPLE_SIZE} frozen={FROZEN_EPOCHS} epochs={EPOCHS} bs={BATCH_SIZE} res={RESOLUTION}'\n",
    "print(f\"RUN_NAME = '{RUN_NAME}'\")\n"
   ]
  },
  {
   "cell_type": "code",
   "execution_count": 2,
   "id": "dependent-option",
   "metadata": {
    "execution": {
     "iopub.execute_input": "2021-02-06T09:12:24.519106Z",
     "iopub.status.busy": "2021-02-06T09:12:24.519001Z",
     "iopub.status.idle": "2021-02-06T09:12:24.522856Z",
     "shell.execute_reply": "2021-02-06T09:12:24.522479Z",
     "shell.execute_reply.started": "2021-02-06T09:12:24.519094Z"
    }
   },
   "outputs": [
    {
     "name": "stdout",
     "output_type": "stream",
     "text": [
      "CUDA available:              True\n",
      "CUDA device count:           1\n",
      "Current CUDA Device index:   0\n",
      "Current CUDA Device:         GeForce RTX 2070 SUPER\n",
      "\n",
      "fastai version:              2.2.2\n",
      "cuda version:                11.0\n",
      "torch version:               1.7.0\n"
     ]
    }
   ],
   "source": [
    "import torch\n",
    "print('CUDA available: '.ljust(28), torch.cuda.is_available())\n",
    "print('CUDA device count: '.ljust(28), torch.cuda.device_count())\n",
    "\n",
    "current_device = torch.cuda.current_device()\n",
    "print('Current CUDA Device index: '.ljust(28), current_device)\n",
    "# torch.cuda.device(current_device)\n",
    "print('Current CUDA Device: '.ljust(28), torch.cuda.get_device_name(current_device))\n",
    "print()\n",
    "# print('CUDA available: '.ljust(24), torch.cuda.is_available())\n",
    "print(f'fastai version:              {fastai.__version__}')\n",
    "# print(f'fastcore version:            {fastcore.__version__}')\n",
    "# print(f'fastbook version:            {fastbook.__version__}')\n",
    "print(f'cuda version:                {torch.version.cuda}')\n",
    "print(f'torch version:               {torch.__version__}')\n",
    "# print(f'python version:              {python_version()}')"
   ]
  },
  {
   "cell_type": "markdown",
   "id": "infinite-antarctica",
   "metadata": {},
   "source": [
    "### Check for Imbalance"
   ]
  },
  {
   "cell_type": "code",
   "execution_count": 3,
   "id": "correct-symbol",
   "metadata": {
    "execution": {
     "iopub.execute_input": "2021-02-06T09:12:24.525265Z",
     "iopub.status.busy": "2021-02-06T09:12:24.525161Z",
     "iopub.status.idle": "2021-02-06T09:12:24.528898Z",
     "shell.execute_reply": "2021-02-06T09:12:24.528574Z",
     "shell.execute_reply.started": "2021-02-06T09:12:24.525254Z"
    }
   },
   "outputs": [],
   "source": [
    "classes = ['cbb', 'cbsd', 'cgm', 'cmd', 'healthy']"
   ]
  },
  {
   "cell_type": "code",
   "execution_count": 4,
   "id": "hispanic-injection",
   "metadata": {
    "execution": {
     "iopub.execute_input": "2021-02-06T09:12:24.530702Z",
     "iopub.status.busy": "2021-02-06T09:12:24.530550Z",
     "iopub.status.idle": "2021-02-06T09:12:24.683323Z",
     "shell.execute_reply": "2021-02-06T09:12:24.682558Z",
     "shell.execute_reply.started": "2021-02-06T09:12:24.530685Z"
    }
   },
   "outputs": [
    {
     "data": {
      "application/vnd.jupyter.widget-view+json": {
       "model_id": "942dcd7a89104151be062ba7bb6686a9",
       "version_major": 2,
       "version_minor": 0
      },
      "text/plain": [
       "Canvas(toolbar=Toolbar(toolitems=[('Home', 'Reset original view', 'home', 'home'), ('Back', 'Back to previous …"
      ]
     },
     "metadata": {},
     "output_type": "display_data"
    }
   ],
   "source": [
    "path = '../data/train_images_sorted'\n",
    "\n",
    "img_flist = {}\n",
    "img_quants = {}\n",
    "\n",
    "for c in classes:\n",
    "    files = get_image_files(f'{path}/{c}')\n",
    "    img_flist[c] = list(files)\n",
    "    img_quants[c] = len(files)\n",
    "\n",
    "minqc = min(img_quants, key=img_quants.get)\n",
    "\n",
    "sample_size = round(img_quants[minqc] * 1.99)  # oversample the lowest class quantity\n",
    "\n",
    "\n",
    "plt.figure(figsize=(6,3))\n",
    "plt.bar(img_quants.keys(), img_quants.values())  \n",
    "plt.axhline(sample_size, ls='--', color='red', label='Chosen Sample Size')\n",
    "plt.legend()\n",
    "plt.show()\n",
    "        "
   ]
  },
  {
   "cell_type": "code",
   "execution_count": 5,
   "id": "demonstrated-arizona",
   "metadata": {
    "execution": {
     "iopub.execute_input": "2021-02-06T09:12:24.686716Z",
     "iopub.status.busy": "2021-02-06T09:12:24.686524Z",
     "iopub.status.idle": "2021-02-06T09:12:24.727655Z",
     "shell.execute_reply": "2021-02-06T09:12:24.727282Z",
     "shell.execute_reply.started": "2021-02-06T09:12:24.686696Z"
    }
   },
   "outputs": [
    {
     "data": {
      "application/vnd.jupyter.widget-view+json": {
       "model_id": "982ce3c7aa99429f9f52bb4ed249a9ce",
       "version_major": 2,
       "version_minor": 0
      },
      "text/plain": [
       "Canvas(toolbar=Toolbar(toolitems=[('Home', 'Reset original view', 'home', 'home'), ('Back', 'Back to previous …"
      ]
     },
     "metadata": {},
     "output_type": "display_data"
    }
   ],
   "source": [
    "\n",
    "for c in classes:\n",
    "    if len(img_flist[c]) < sample_size:\n",
    "#         all_covid = img_flist[c].copy()\n",
    "        img_flist[c] = np.append(img_flist[c], np.random.choice(img_flist[c], sample_size - len(img_flist[c]), replace=False))\n",
    "    else:\n",
    "        img_flist[c] = np.random.choice(img_flist[c], sample_size, replace=False)  # without replacement\n",
    "\n",
    "        \n",
    "plt.figure(figsize=(6,3))\n",
    "plt.bar(img_flist.keys(), [len(l) for l in img_flist.values()])\n",
    "plt.show()"
   ]
  },
  {
   "cell_type": "code",
   "execution_count": 6,
   "id": "vocational-seating",
   "metadata": {
    "execution": {
     "iopub.execute_input": "2021-02-06T09:12:25.360738Z",
     "iopub.status.busy": "2021-02-06T09:12:25.360483Z",
     "iopub.status.idle": "2021-02-06T09:12:25.365197Z",
     "shell.execute_reply": "2021-02-06T09:12:25.364778Z",
     "shell.execute_reply.started": "2021-02-06T09:12:25.360714Z"
    }
   },
   "outputs": [],
   "source": [
    "test_flist = {}\n",
    "test_size = round(0.2 * sample_size)\n",
    "\n",
    "for c in classes:\n",
    "    img_flist[c] = np.random.choice(img_flist[c], len(img_flist[c]), replace=False)  # shuffle\n",
    "    test_flist[c] = img_flist[c][0:test_size]\n",
    "    img_flist[c] = img_flist[c][test_size:]\n",
    "#     img_flist[c] = [f for f in img_flist[c] if f not in test_flist[c]]"
   ]
  },
  {
   "cell_type": "code",
   "execution_count": 7,
   "id": "latin-routine",
   "metadata": {
    "execution": {
     "iopub.execute_input": "2021-02-06T09:12:25.665451Z",
     "iopub.status.busy": "2021-02-06T09:12:25.665193Z",
     "iopub.status.idle": "2021-02-06T09:12:25.705827Z",
     "shell.execute_reply": "2021-02-06T09:12:25.705519Z",
     "shell.execute_reply.started": "2021-02-06T09:12:25.665427Z"
    }
   },
   "outputs": [
    {
     "data": {
      "application/vnd.jupyter.widget-view+json": {
       "model_id": "3d5cf4b084034bd2846fceca790e6150",
       "version_major": 2,
       "version_minor": 0
      },
      "text/plain": [
       "Canvas(toolbar=Toolbar(toolitems=[('Home', 'Reset original view', 'home', 'home'), ('Back', 'Back to previous …"
      ]
     },
     "metadata": {},
     "output_type": "display_data"
    },
    {
     "data": {
      "application/vnd.jupyter.widget-view+json": {
       "model_id": "086da20f550c499898920c9059e44f36",
       "version_major": 2,
       "version_minor": 0
      },
      "text/plain": [
       "Canvas(toolbar=Toolbar(toolitems=[('Home', 'Reset original view', 'home', 'home'), ('Back', 'Back to previous …"
      ]
     },
     "metadata": {},
     "output_type": "display_data"
    }
   ],
   "source": [
    "plt.figure(figsize=(6,3))\n",
    "plt.title('Training Data')\n",
    "plt.bar(img_flist.keys(), [len(l) for l in img_flist.values()])\n",
    "plt.axhline(test_size, ls='--', color='red')\n",
    "plt.show()\n",
    "\n",
    "plt.figure(figsize=(6,3))\n",
    "plt.title('Validation Data')\n",
    "plt.bar(test_flist.keys(), [len(l) for l in test_flist.values()])\n",
    "plt.show()\n",
    "                 "
   ]
  },
  {
   "cell_type": "code",
   "execution_count": 8,
   "id": "trained-corruption",
   "metadata": {
    "execution": {
     "iopub.execute_input": "2021-02-06T09:12:25.916704Z",
     "iopub.status.busy": "2021-02-06T09:12:25.916389Z",
     "iopub.status.idle": "2021-02-06T09:12:27.798663Z",
     "shell.execute_reply": "2021-02-06T09:12:27.798330Z",
     "shell.execute_reply.started": "2021-02-06T09:12:25.916673Z"
    }
   },
   "outputs": [],
   "source": [
    "def get_fnames(path):\n",
    "    retlist = []\n",
    "    \n",
    "    for l in img_flist.values():\n",
    "        for f in l:\n",
    "            retlist.append(f)\n",
    "            \n",
    "    return random.sample(retlist, len(retlist))\n",
    "\n",
    "tfms = aug_transforms(size=RESOLUTION, do_flip=True, batch=True, max_zoom=1.5, mult=1.2)\n",
    "\n",
    "\n",
    "img_db = DataBlock(\n",
    "    blocks=(ImageBlock, CategoryBlock), \n",
    "    get_items=get_fnames, \n",
    "    splitter=RandomSplitter(valid_pct=0.28, seed=42),\n",
    "    get_y=parent_label,\n",
    "    item_tfms=Resize(RESOLUTION, method='bilinear') , batch_tfms=tfms)\n",
    "\n",
    "dls = img_db.dataloaders(path, batch_size=BATCH_SIZE)"
   ]
  },
  {
   "cell_type": "markdown",
   "id": "otherwise-skirt",
   "metadata": {},
   "source": [
    "<br>\n",
    "\n",
    "### Verify the Training and Validation Batches"
   ]
  },
  {
   "cell_type": "code",
   "execution_count": 9,
   "id": "atlantic-bleeding",
   "metadata": {
    "execution": {
     "iopub.execute_input": "2021-02-06T09:12:27.844430Z",
     "iopub.status.busy": "2021-02-06T09:12:27.844325Z",
     "iopub.status.idle": "2021-02-06T09:12:28.623818Z",
     "shell.execute_reply": "2021-02-06T09:12:28.623381Z",
     "shell.execute_reply.started": "2021-02-06T09:12:27.844418Z"
    }
   },
   "outputs": [
    {
     "data": {
      "application/vnd.jupyter.widget-view+json": {
       "model_id": "7dc5f47bedb44d9ca6c7eb06e707021c",
       "version_major": 2,
       "version_minor": 0
      },
      "text/plain": [
       "Canvas(toolbar=Toolbar(toolitems=[('Home', 'Reset original view', 'home', 'home'), ('Back', 'Back to previous …"
      ]
     },
     "metadata": {},
     "output_type": "display_data"
    }
   ],
   "source": [
    "dls.valid.show_batch(max_n=16, nrows=4)"
   ]
  },
  {
   "cell_type": "code",
   "execution_count": 10,
   "id": "lovely-banks",
   "metadata": {
    "execution": {
     "iopub.execute_input": "2021-02-06T09:12:28.625586Z",
     "iopub.status.busy": "2021-02-06T09:12:28.625485Z",
     "iopub.status.idle": "2021-02-06T09:12:28.629285Z",
     "shell.execute_reply": "2021-02-06T09:12:28.628908Z",
     "shell.execute_reply.started": "2021-02-06T09:12:28.625574Z"
    }
   },
   "outputs": [
    {
     "name": "stdout",
     "output_type": "stream",
     "text": [
      "\n",
      "All Callbacks:  [ShowGraphCallback, SaveModelCallback, EarlyStoppingCallback]\n"
     ]
    }
   ],
   "source": [
    "# Eary stopping callback\n",
    "early_stop_cb = EarlyStoppingCallback(monitor='error_rate', min_delta=0.0001, patience=5)\n",
    "\n",
    "# Save the current model's weights every epoch\n",
    "save_cb = SaveModelCallback(fname=RUN_NAME, every_epoch=True, with_opt=True)\n",
    "\n",
    "# Mixup callback for regularization\n",
    "# mixup_cb = MixUp(alpha=0.2)\n",
    "mixup_cb = None\n",
    "\n",
    "# Cutmix callback for regularization\n",
    "# cutmix_cb = CutMix(alpha=0.9)\n",
    "cutmix_cb = None\n",
    "\n",
    "\n",
    "\n",
    "\n",
    "# List of callbacks to be used later\n",
    "cbs = [ShowGraphCallback(), save_cb, GradientAccumulation]\n",
    "\n",
    "if mixup_cb != None:\n",
    "    cbs.insert(0, mixup_cb)\n",
    "    \n",
    "if cutmix_cb != None:\n",
    "    cbs.insert(0, cutmix_cb)\n",
    "\n",
    "\n",
    "\n",
    "\n",
    "print('\\nAll Callbacks: ', cbs)"
   ]
  },
  {
   "cell_type": "markdown",
   "id": "unique-wells",
   "metadata": {},
   "source": [
    "### Visualize the effect of CutMix\n"
   ]
  },
  {
   "cell_type": "code",
   "execution_count": 11,
   "id": "herbal-healing",
   "metadata": {
    "execution": {
     "iopub.execute_input": "2021-02-06T09:12:28.632424Z",
     "iopub.status.busy": "2021-02-06T09:12:28.632277Z",
     "iopub.status.idle": "2021-02-06T09:12:28.636669Z",
     "shell.execute_reply": "2021-02-06T09:12:28.636255Z",
     "shell.execute_reply.started": "2021-02-06T09:12:28.632409Z"
    }
   },
   "outputs": [
    {
     "name": "stdout",
     "output_type": "stream",
     "text": [
      "\n",
      " CutMix was not selected.\n"
     ]
    }
   ],
   "source": [
    "if cutmix_cb != None:\n",
    "    with Learner(dls, nn.Linear(3,4), loss_func=CrossEntropyLossFlat(), cbs=cutmix_cb) as learn:\n",
    "        learn.epoch,learn.training = 0,True\n",
    "        learn.dl = dls.train\n",
    "        b = dls.one_batch()\n",
    "        learn._split(b)\n",
    "        learn('before_batch')\n",
    "\n",
    "    _,axs = plt.subplots(3,3, figsize=(9,9))\n",
    "    dls.show_batch(b=(cutmix_cb.x,cutmix_cb.y), ctxs=axs.flatten())\n",
    "    \n",
    "else: print('\\n CutMix was not selected.')"
   ]
  },
  {
   "cell_type": "markdown",
   "id": "infectious-andrews",
   "metadata": {},
   "source": [
    "<br>\n",
    "\n",
    "### Visualize the Effect of MixUp\n",
    "\n",
    "MixUp creates a linear interpolation between the target data and another datapoint.  In images, it shows up as ghostly figures.  The technique has been shown to be a good to decrease the liklihood of overfitting."
   ]
  },
  {
   "cell_type": "code",
   "execution_count": 12,
   "id": "physical-calvin",
   "metadata": {
    "execution": {
     "iopub.execute_input": "2021-02-06T09:12:28.641563Z",
     "iopub.status.busy": "2021-02-06T09:12:28.641470Z",
     "iopub.status.idle": "2021-02-06T09:12:28.644567Z",
     "shell.execute_reply": "2021-02-06T09:12:28.644241Z",
     "shell.execute_reply.started": "2021-02-06T09:12:28.641553Z"
    }
   },
   "outputs": [
    {
     "name": "stdout",
     "output_type": "stream",
     "text": [
      "\n",
      " MixUp was not selected.\n"
     ]
    }
   ],
   "source": [
    "if mixup_cb != None:\n",
    "    with Learner(dls, nn.Linear(3,4), loss_func=CrossEntropyLossFlat(), cbs=mixup_cb) as learn:\n",
    "        learn.epoch,learn.training = 0,True\n",
    "        learn.dl = dls.train\n",
    "        b = dls.one_batch()\n",
    "        learn._split(b)\n",
    "        learn('before_batch')\n",
    "\n",
    "    _,axs = plt.subplots(3,3, figsize=(9,9))\n",
    "    dls.show_batch(b=(mixup_cb.x,mixup_cb.y), ctxs=axs.flatten())\n",
    "\n",
    "else: print('\\n MixUp was not selected.')"
   ]
  },
  {
   "cell_type": "code",
   "execution_count": 13,
   "id": "skilled-wagon",
   "metadata": {
    "execution": {
     "iopub.execute_input": "2021-02-06T09:12:32.546230Z",
     "iopub.status.busy": "2021-02-06T09:12:32.545975Z",
     "iopub.status.idle": "2021-02-06T09:12:32.874607Z",
     "shell.execute_reply": "2021-02-06T09:12:32.874232Z",
     "shell.execute_reply.started": "2021-02-06T09:12:32.546207Z"
    }
   },
   "outputs": [],
   "source": [
    "learn = cnn_learner(dls, ARCH , \n",
    "                    pretrained=PRETRAINED_FLAG, wd=1e-4, opt_func=ranger,\n",
    "                    loss_func=LabelSmoothingCrossEntropyFlat(), \n",
    "                    cbs = cbs, metrics=[error_rate, accuracy])\n"
   ]
  },
  {
   "cell_type": "code",
   "execution_count": 14,
   "id": "hispanic-macintosh",
   "metadata": {
    "execution": {
     "iopub.execute_input": "2021-02-06T09:12:33.910697Z",
     "iopub.status.busy": "2021-02-06T09:12:33.910432Z",
     "iopub.status.idle": "2021-02-06T09:12:33.916027Z",
     "shell.execute_reply": "2021-02-06T09:12:33.915525Z",
     "shell.execute_reply.started": "2021-02-06T09:12:33.910674Z"
    }
   },
   "outputs": [
    {
     "data": {
      "text/plain": [
       "FlattenedLoss of LabelSmoothingCrossEntropy()"
      ]
     },
     "metadata": {},
     "output_type": "display_data"
    },
    {
     "data": {
      "text/plain": [
       "<function fastai.optimizer.ranger(p, lr, mom=0.95, wd=0.01, eps=1e-06, sqr_mom=0.99, beta=0.0, decouple_wd=True)>"
      ]
     },
     "metadata": {},
     "output_type": "display_data"
    }
   ],
   "source": [
    "display(learn.loss_func, learn.opt_func)"
   ]
  },
  {
   "cell_type": "markdown",
   "id": "genetic-punishment",
   "metadata": {},
   "source": [
    "<br>\n",
    "<br>\n",
    "<br>\n",
    "\n",
    "## Find a Good Learning Rate to Start With"
   ]
  },
  {
   "cell_type": "code",
   "execution_count": 15,
   "id": "damaged-plant",
   "metadata": {
    "execution": {
     "iopub.execute_input": "2021-02-06T09:12:35.833529Z",
     "iopub.status.busy": "2021-02-06T09:12:35.833275Z",
     "iopub.status.idle": "2021-02-06T09:12:35.836301Z",
     "shell.execute_reply": "2021-02-06T09:12:35.835777Z",
     "shell.execute_reply.started": "2021-02-06T09:12:35.833506Z"
    }
   },
   "outputs": [],
   "source": [
    "LR_DIV = 14e0  # Shift the lr_min left by this amount.  Adjust as necessary\n",
    "lr_min = 0.002  # just a default"
   ]
  },
  {
   "cell_type": "code",
   "execution_count": 16,
   "id": "powered-company",
   "metadata": {
    "execution": {
     "iopub.execute_input": "2021-02-06T09:12:36.681715Z",
     "iopub.status.busy": "2021-02-06T09:12:36.681468Z",
     "iopub.status.idle": "2021-02-06T09:13:41.720411Z",
     "shell.execute_reply": "2021-02-06T09:13:41.719791Z",
     "shell.execute_reply.started": "2021-02-06T09:12:36.681692Z"
    }
   },
   "outputs": [
    {
     "data": {
      "text/html": [],
      "text/plain": [
       "<IPython.core.display.HTML object>"
      ]
     },
     "metadata": {},
     "output_type": "display_data"
    },
    {
     "data": {
      "application/vnd.jupyter.widget-view+json": {
       "model_id": "3a964c302a734c35ad9236eca41cca54",
       "version_major": 2,
       "version_minor": 0
      },
      "text/plain": [
       "Canvas(toolbar=Toolbar(toolitems=[('Home', 'Reset original view', 'home', 'home'), ('Back', 'Back to previous …"
      ]
     },
     "metadata": {},
     "output_type": "display_data"
    },
    {
     "name": "stdout",
     "output_type": "stream",
     "text": [
      "Minimum/10: 6.31e-08, steepest point: 9.12e-07, (Mim/10)/14.0: 4.506838178843151e-09\n"
     ]
    }
   ],
   "source": [
    "if PRETRAINED_FLAG == True:\n",
    "    learn.freeze()\n",
    "    lr_min,lr_steep = learn.lr_find()\n",
    "    plt.axvline(lr_min, ls='--', color='red', label=f'lr_min={round(lr_min,6)}')\n",
    "    plt.axvline(lr_min/LR_DIV, ls='--', color='yellow', label=f'lr_min / {LR_DIV}={round(lr_min/LR_DIV,6)}')\n",
    "    plt.axvline(lr_steep, ls='--', color='grey', label=f'lr_steep={round(lr_steep,6)}')\n",
    "    plt.legend()\n",
    "    plt.show()\n",
    "\n",
    "    print(f\"Minimum/10: {lr_min:.2e}, steepest point: {lr_steep:.2e}, (Mim/10)/{LR_DIV}: {lr_min/LR_DIV}\")"
   ]
  },
  {
   "cell_type": "markdown",
   "id": "entitled-groove",
   "metadata": {},
   "source": [
    "<br>\n",
    "<br>"
   ]
  },
  {
   "cell_type": "markdown",
   "id": "nuclear-immigration",
   "metadata": {},
   "source": [
    "# Pick a Good Initial Learning Rate"
   ]
  },
  {
   "cell_type": "code",
   "execution_count": 17,
   "id": "respected-significance",
   "metadata": {
    "execution": {
     "iopub.execute_input": "2021-02-06T09:15:54.626942Z",
     "iopub.status.busy": "2021-02-06T09:15:54.626685Z",
     "iopub.status.idle": "2021-02-06T09:15:54.629473Z",
     "shell.execute_reply": "2021-02-06T09:15:54.628987Z",
     "shell.execute_reply.started": "2021-02-06T09:15:54.626916Z"
    }
   },
   "outputs": [],
   "source": [
    "# LR_CHOICE = lr_min/LR_DIV\n",
    "# LR_CHOICE = lr_steep\n",
    "# LR_CHOICE = 0.0002\n",
    "LR_CHOICE = 1e-2"
   ]
  },
  {
   "cell_type": "markdown",
   "id": "developed-cream",
   "metadata": {},
   "source": [
    "<br>\n",
    "<br>"
   ]
  },
  {
   "cell_type": "markdown",
   "id": "pending-myrtle",
   "metadata": {},
   "source": [
    "<br>\n",
    "<br>"
   ]
  },
  {
   "cell_type": "markdown",
   "id": "conventional-partition",
   "metadata": {},
   "source": [
    "# Training the Model"
   ]
  },
  {
   "cell_type": "markdown",
   "id": "mediterranean-ireland",
   "metadata": {
    "slideshow": {
     "slide_type": "slide"
    }
   },
   "source": [
    "<br>\n",
    "\n",
    "## Fit the last layers, unfreeze, fit the whole net, with a decent initial LR, all in one go.\n",
    "\n"
   ]
  },
  {
   "cell_type": "code",
   "execution_count": 18,
   "id": "insured-strand",
   "metadata": {
    "execution": {
     "iopub.execute_input": "2021-02-06T09:16:05.140910Z",
     "iopub.status.busy": "2021-02-06T09:16:05.140653Z",
     "iopub.status.idle": "2021-02-06T09:22:01.222406Z",
     "shell.execute_reply": "2021-02-06T09:22:01.221862Z",
     "shell.execute_reply.started": "2021-02-06T09:16:05.140886Z"
    }
   },
   "outputs": [
    {
     "name": "stdout",
     "output_type": "stream",
     "text": [
      "FROZEN_EPOCHS:  1\n",
      "EPOCHS:         40\n",
      "Learning Rate:  0.01\n",
      "\n",
      "\n"
     ]
    },
    {
     "data": {
      "text/html": [
       "<table border=\"1\" class=\"dataframe\">\n",
       "  <thead>\n",
       "    <tr style=\"text-align: left;\">\n",
       "      <th>epoch</th>\n",
       "      <th>train_loss</th>\n",
       "      <th>valid_loss</th>\n",
       "      <th>error_rate</th>\n",
       "      <th>accuracy</th>\n",
       "      <th>time</th>\n",
       "    </tr>\n",
       "  </thead>\n",
       "  <tbody>\n",
       "    <tr>\n",
       "      <td>0</td>\n",
       "      <td>1.667604</td>\n",
       "      <td>1.446190</td>\n",
       "      <td>0.612717</td>\n",
       "      <td>0.387283</td>\n",
       "      <td>05:55</td>\n",
       "    </tr>\n",
       "  </tbody>\n",
       "</table>"
      ],
      "text/plain": [
       "<IPython.core.display.HTML object>"
      ]
     },
     "metadata": {},
     "output_type": "display_data"
    },
    {
     "data": {
      "application/vnd.jupyter.widget-view+json": {
       "model_id": "dd64e151c3d242ffae7a515ae57f5c9b",
       "version_major": 2,
       "version_minor": 0
      },
      "text/plain": [
       "Canvas(toolbar=Toolbar(toolitems=[('Home', 'Reset original view', 'home', 'home'), ('Back', 'Back to previous …"
      ]
     },
     "metadata": {},
     "output_type": "display_data"
    },
    {
     "data": {
      "image/png": "[encoded data removed]",
      "text/plain": [
       "<Figure size 720x480 with 1 Axes>"
      ]
     },
     "metadata": {},
     "output_type": "display_data"
    }
   ],
   "source": [
    "\n",
    "\n",
    "if PRETRAINED_FLAG:\n",
    "    print(f'FROZEN_EPOCHS:  {FROZEN_EPOCHS}')\n",
    "print(f'EPOCHS:         {EPOCHS}')\n",
    "print(f'Learning Rate:  {LR_CHOICE}\\n\\n')\n",
    "\n",
    "if PRETRAINED_FLAG == True:\n",
    "    learn.fit_flat_cos(FROZEN_EPOCHS, LR_CHOICE)\n"
   ]
  },
  {
   "cell_type": "markdown",
   "id": "governing-resort",
   "metadata": {},
   "source": [
    "## Manually set up the unfrozen runs"
   ]
  },
  {
   "cell_type": "code",
   "execution_count": 30,
   "id": "indie-covering",
   "metadata": {
    "execution": {
     "iopub.execute_input": "2021-02-06T13:15:17.660445Z",
     "iopub.status.busy": "2021-02-06T13:15:17.660172Z",
     "iopub.status.idle": "2021-02-06T13:15:17.667461Z",
     "shell.execute_reply": "2021-02-06T13:15:17.667013Z",
     "shell.execute_reply.started": "2021-02-06T13:15:17.660419Z"
    }
   },
   "outputs": [],
   "source": [
    "learn.unfreeze()"
   ]
  },
  {
   "cell_type": "code",
   "execution_count": 31,
   "id": "scenic-guitar",
   "metadata": {
    "execution": {
     "iopub.execute_input": "2021-02-06T13:15:23.341157Z",
     "iopub.status.busy": "2021-02-06T13:15:23.340889Z",
     "iopub.status.idle": "2021-02-06T13:17:03.731458Z",
     "shell.execute_reply": "2021-02-06T13:17:03.730973Z",
     "shell.execute_reply.started": "2021-02-06T13:15:23.341130Z"
    }
   },
   "outputs": [
    {
     "data": {
      "text/html": [],
      "text/plain": [
       "<IPython.core.display.HTML object>"
      ]
     },
     "metadata": {},
     "output_type": "display_data"
    },
    {
     "data": {
      "application/vnd.jupyter.widget-view+json": {
       "model_id": "bdacd331e2fa4d9dae4c996083fe060a",
       "version_major": 2,
       "version_minor": 0
      },
      "text/plain": [
       "Canvas(toolbar=Toolbar(toolitems=[('Home', 'Reset original view', 'home', 'home'), ('Back', 'Back to previous …"
      ]
     },
     "metadata": {},
     "output_type": "display_data"
    }
   ],
   "source": [
    "lr_min,lr_steep = learn.lr_find()\n",
    "plt.axvline(lr_min, ls='--', color='red', label=f'lr_min={round(lr_min,6)}')\n",
    "plt.axvline(LR_CHOICE/2, ls='--', color='yellow', label=f'LR_CHOICE/2={round(LR_CHOICE/2,6)}')\n",
    "plt.axvline(lr_steep, ls='--', color='grey', label=f'lr_steep={round(lr_steep,6)}')\n",
    "plt.axvline(2e-5, ls='--', color='green', label=f'{round(2e-5,6)}')\n",
    "plt.axvline(7e-5, ls='--', color='orange', label=f'{round(7e-5,6)}')\n",
    "\n",
    "plt.legend()\n",
    "plt.show()"
   ]
  },
  {
   "cell_type": "code",
   "execution_count": 21,
   "id": "political-genius",
   "metadata": {
    "execution": {
     "iopub.execute_input": "2021-02-06T09:24:26.448636Z",
     "iopub.status.busy": "2021-02-06T09:24:26.448358Z",
     "iopub.status.idle": "2021-02-06T09:24:26.452632Z",
     "shell.execute_reply": "2021-02-06T09:24:26.451999Z",
     "shell.execute_reply.started": "2021-02-06T09:24:26.448606Z"
    }
   },
   "outputs": [
    {
     "name": "stdout",
     "output_type": "stream",
     "text": [
      "Minimum/10: 5.25e-06, steepest point: 1.58e-06, LR_CHOICE/2: 0.005\n"
     ]
    }
   ],
   "source": [
    "print(f\"Minimum/10: {lr_min:.2e}, steepest point: {lr_steep:.2e}, LR_CHOICE/2: {LR_CHOICE / 2}\")"
   ]
  },
  {
   "cell_type": "markdown",
   "id": "norman-anxiety",
   "metadata": {},
   "source": [
    "## Pick a new Learning Rate"
   ]
  },
  {
   "cell_type": "code",
   "execution_count": 32,
   "id": "southern-prescription",
   "metadata": {
    "execution": {
     "iopub.execute_input": "2021-02-06T13:23:10.651838Z",
     "iopub.status.busy": "2021-02-06T13:23:10.651566Z",
     "iopub.status.idle": "2021-02-06T13:23:10.655208Z",
     "shell.execute_reply": "2021-02-06T13:23:10.654735Z",
     "shell.execute_reply.started": "2021-02-06T13:23:10.651808Z"
    }
   },
   "outputs": [],
   "source": [
    "# LR_CHOICE_UNFROZ = lr_min/LR_DIV\n",
    "# LR_CHOICE_UNFROZ = LR_CHOICE / 2\n",
    "# LR_CHOICE_UNFROZ = 0.00015\n",
    "# LR_CHOICE_UNFROZ = 10e-5\n",
    "# LR_CHOICE_UNFROZ = 0.00008\n",
    "# LR_CHOICE_UNFROZ = 5.5e-5\n",
    "LR_CHOICE_UNFROZ = 0.001\n",
    "# LR_CHOICE_UNFROZ = 6e-5\n",
    "# LR_CHOICE_UNFROZ = lr_min"
   ]
  },
  {
   "cell_type": "markdown",
   "id": "strange-lighting",
   "metadata": {},
   "source": [
    "### Train"
   ]
  },
  {
   "cell_type": "code",
   "execution_count": 33,
   "id": "loaded-silence",
   "metadata": {
    "execution": {
     "iopub.execute_input": "2021-02-06T13:24:24.118070Z",
     "iopub.status.busy": "2021-02-06T13:24:24.117809Z",
     "iopub.status.idle": "2021-02-06T13:24:24.121200Z",
     "shell.execute_reply": "2021-02-06T13:24:24.120778Z",
     "shell.execute_reply.started": "2021-02-06T13:24:24.118047Z"
    }
   },
   "outputs": [],
   "source": [
    "EPOCHS = 15"
   ]
  },
  {
   "cell_type": "code",
   "execution_count": 34,
   "id": "athletic-fundamentals",
   "metadata": {
    "execution": {
     "iopub.execute_input": "2021-02-06T13:24:27.733779Z",
     "iopub.status.busy": "2021-02-06T13:24:27.733526Z",
     "iopub.status.idle": "2021-02-06T13:24:27.738021Z",
     "shell.execute_reply": "2021-02-06T13:24:27.737388Z",
     "shell.execute_reply.started": "2021-02-06T13:24:27.733756Z"
    }
   },
   "outputs": [
    {
     "name": "stdout",
     "output_type": "stream",
     "text": [
      "EPOCHS:         15\n",
      "Learning Rate:  0.001\n",
      "\n",
      "\n"
     ]
    }
   ],
   "source": [
    "print(f'EPOCHS:         {EPOCHS}')\n",
    "print(f'Learning Rate:  {LR_CHOICE_UNFROZ}\\n\\n')"
   ]
  },
  {
   "cell_type": "code",
   "execution_count": 35,
   "id": "dependent-detector",
   "metadata": {
    "execution": {
     "iopub.execute_input": "2021-02-06T13:24:31.537735Z",
     "iopub.status.busy": "2021-02-06T13:24:31.537465Z",
     "iopub.status.idle": "2021-02-06T15:29:42.313056Z",
     "shell.execute_reply": "2021-02-06T15:29:42.312686Z",
     "shell.execute_reply.started": "2021-02-06T13:24:31.537707Z"
    }
   },
   "outputs": [
    {
     "data": {
      "text/html": [
       "<table border=\"1\" class=\"dataframe\">\n",
       "  <thead>\n",
       "    <tr style=\"text-align: left;\">\n",
       "      <th>epoch</th>\n",
       "      <th>train_loss</th>\n",
       "      <th>valid_loss</th>\n",
       "      <th>error_rate</th>\n",
       "      <th>accuracy</th>\n",
       "      <th>time</th>\n",
       "    </tr>\n",
       "  </thead>\n",
       "  <tbody>\n",
       "    <tr>\n",
       "      <td>0</td>\n",
       "      <td>1.272397</td>\n",
       "      <td>1.242161</td>\n",
       "      <td>0.463253</td>\n",
       "      <td>0.536747</td>\n",
       "      <td>08:46</td>\n",
       "    </tr>\n",
       "    <tr>\n",
       "      <td>1</td>\n",
       "      <td>1.233322</td>\n",
       "      <td>1.162204</td>\n",
       "      <td>0.408340</td>\n",
       "      <td>0.591660</td>\n",
       "      <td>08:38</td>\n",
       "    </tr>\n",
       "    <tr>\n",
       "      <td>2</td>\n",
       "      <td>1.198332</td>\n",
       "      <td>1.138648</td>\n",
       "      <td>0.387696</td>\n",
       "      <td>0.612304</td>\n",
       "      <td>08:35</td>\n",
       "    </tr>\n",
       "    <tr>\n",
       "      <td>3</td>\n",
       "      <td>1.213124</td>\n",
       "      <td>1.116279</td>\n",
       "      <td>0.387283</td>\n",
       "      <td>0.612717</td>\n",
       "      <td>08:47</td>\n",
       "    </tr>\n",
       "    <tr>\n",
       "      <td>4</td>\n",
       "      <td>1.143216</td>\n",
       "      <td>1.074751</td>\n",
       "      <td>0.357969</td>\n",
       "      <td>0.642031</td>\n",
       "      <td>08:16</td>\n",
       "    </tr>\n",
       "    <tr>\n",
       "      <td>5</td>\n",
       "      <td>1.100078</td>\n",
       "      <td>1.047119</td>\n",
       "      <td>0.341866</td>\n",
       "      <td>0.658134</td>\n",
       "      <td>08:11</td>\n",
       "    </tr>\n",
       "    <tr>\n",
       "      <td>6</td>\n",
       "      <td>1.107395</td>\n",
       "      <td>1.019874</td>\n",
       "      <td>0.314616</td>\n",
       "      <td>0.685384</td>\n",
       "      <td>08:11</td>\n",
       "    </tr>\n",
       "    <tr>\n",
       "      <td>7</td>\n",
       "      <td>1.080494</td>\n",
       "      <td>0.984920</td>\n",
       "      <td>0.292320</td>\n",
       "      <td>0.707680</td>\n",
       "      <td>08:11</td>\n",
       "    </tr>\n",
       "    <tr>\n",
       "      <td>8</td>\n",
       "      <td>1.052612</td>\n",
       "      <td>1.008451</td>\n",
       "      <td>0.314616</td>\n",
       "      <td>0.685384</td>\n",
       "      <td>08:11</td>\n",
       "    </tr>\n",
       "    <tr>\n",
       "      <td>9</td>\n",
       "      <td>1.043982</td>\n",
       "      <td>0.961964</td>\n",
       "      <td>0.288192</td>\n",
       "      <td>0.711808</td>\n",
       "      <td>08:11</td>\n",
       "    </tr>\n",
       "    <tr>\n",
       "      <td>10</td>\n",
       "      <td>1.055205</td>\n",
       "      <td>0.984645</td>\n",
       "      <td>0.294798</td>\n",
       "      <td>0.705202</td>\n",
       "      <td>08:11</td>\n",
       "    </tr>\n",
       "    <tr>\n",
       "      <td>11</td>\n",
       "      <td>0.983322</td>\n",
       "      <td>0.982749</td>\n",
       "      <td>0.300578</td>\n",
       "      <td>0.699422</td>\n",
       "      <td>08:11</td>\n",
       "    </tr>\n",
       "    <tr>\n",
       "      <td>12</td>\n",
       "      <td>0.955278</td>\n",
       "      <td>0.939919</td>\n",
       "      <td>0.272089</td>\n",
       "      <td>0.727911</td>\n",
       "      <td>08:11</td>\n",
       "    </tr>\n",
       "    <tr>\n",
       "      <td>13</td>\n",
       "      <td>0.928250</td>\n",
       "      <td>0.902607</td>\n",
       "      <td>0.255987</td>\n",
       "      <td>0.744013</td>\n",
       "      <td>08:11</td>\n",
       "    </tr>\n",
       "    <tr>\n",
       "      <td>14</td>\n",
       "      <td>0.906576</td>\n",
       "      <td>0.898451</td>\n",
       "      <td>0.255987</td>\n",
       "      <td>0.744013</td>\n",
       "      <td>08:11</td>\n",
       "    </tr>\n",
       "  </tbody>\n",
       "</table>"
      ],
      "text/plain": [
       "<IPython.core.display.HTML object>"
      ]
     },
     "metadata": {},
     "output_type": "display_data"
    },
    {
     "data": {
      "application/vnd.jupyter.widget-view+json": {
       "model_id": "08f3f41dacda42528432e4b147effe80",
       "version_major": 2,
       "version_minor": 0
      },
      "text/plain": [
       "Canvas(toolbar=Toolbar(toolitems=[('Home', 'Reset original view', 'home', 'home'), ('Back', 'Back to previous …"
      ]
     },
     "metadata": {},
     "output_type": "display_data"
    },
    {
     "data": {
      "image/png": "[encoded data removed]",
      "text/plain": [
       "<Figure size 720x480 with 1 Axes>"
      ]
     },
     "metadata": {},
     "output_type": "display_data"
    }
   ],
   "source": [
    "learn.fit_flat_cos(EPOCHS, LR_CHOICE_UNFROZ)"
   ]
  },
  {
   "cell_type": "markdown",
   "id": "light-columbus",
   "metadata": {},
   "source": [
    "<br>\n",
    "<br>\n",
    "\n",
    "## Persist the Model"
   ]
  },
  {
   "cell_type": "code",
   "execution_count": 36,
   "id": "junior-plastic",
   "metadata": {
    "execution": {
     "iopub.execute_input": "2021-02-06T20:57:13.863293Z",
     "iopub.status.busy": "2021-02-06T20:57:13.863029Z",
     "iopub.status.idle": "2021-02-06T20:57:14.068613Z",
     "shell.execute_reply": "2021-02-06T20:57:14.068160Z",
     "shell.execute_reply.started": "2021-02-06T20:57:13.863267Z"
    }
   },
   "outputs": [],
   "source": [
    "learn.export(f'../models/{RUN_NAME}.pkl')\n",
    "# path = Path('../models')\n",
    "# path.ls(file_exts='.pkl')"
   ]
  },
  {
   "cell_type": "markdown",
   "id": "waiting-waterproof",
   "metadata": {},
   "source": [
    "<br>\n",
    "<br>"
   ]
  },
  {
   "cell_type": "markdown",
   "id": "lesbian-fitness",
   "metadata": {},
   "source": [
    "### Show some Results"
   ]
  },
  {
   "cell_type": "code",
   "execution_count": 40,
   "id": "returning-webmaster",
   "metadata": {
    "execution": {
     "iopub.execute_input": "2021-02-06T20:57:40.152604Z",
     "iopub.status.busy": "2021-02-06T20:57:40.152348Z",
     "iopub.status.idle": "2021-02-06T20:57:42.326933Z",
     "shell.execute_reply": "2021-02-06T20:57:42.326608Z",
     "shell.execute_reply.started": "2021-02-06T20:57:40.152581Z"
    }
   },
   "outputs": [
    {
     "data": {
      "text/html": [],
      "text/plain": [
       "<IPython.core.display.HTML object>"
      ]
     },
     "metadata": {},
     "output_type": "display_data"
    },
    {
     "data": {
      "application/vnd.jupyter.widget-view+json": {
       "model_id": "864ffc0d8b354180aae9dd937eb24ade",
       "version_major": 2,
       "version_minor": 0
      },
      "text/plain": [
       "Canvas(toolbar=Toolbar(toolitems=[('Home', 'Reset original view', 'home', 'home'), ('Back', 'Back to previous …"
      ]
     },
     "metadata": {},
     "output_type": "display_data"
    }
   ],
   "source": [
    "learn.show_results()"
   ]
  },
  {
   "cell_type": "markdown",
   "id": "bronze-productivity",
   "metadata": {},
   "source": [
    "<br>\n",
    "<hr>\n",
    "<br>\n",
    "<br>\n",
    "<br>"
   ]
  },
  {
   "cell_type": "markdown",
   "id": "smooth-trinidad",
   "metadata": {},
   "source": [
    "# Validation Set (not test set) Analysis"
   ]
  },
  {
   "cell_type": "markdown",
   "id": "sound-dispute",
   "metadata": {},
   "source": [
    "<br>\n",
    "\n",
    "### Plot Losses"
   ]
  },
  {
   "cell_type": "code",
   "execution_count": 41,
   "id": "urban-breach",
   "metadata": {
    "execution": {
     "iopub.execute_input": "2021-02-06T20:57:48.930931Z",
     "iopub.status.busy": "2021-02-06T20:57:48.930670Z",
     "iopub.status.idle": "2021-02-06T20:57:48.933977Z",
     "shell.execute_reply": "2021-02-06T20:57:48.933509Z",
     "shell.execute_reply.started": "2021-02-06T20:57:48.930908Z"
    }
   },
   "outputs": [],
   "source": [
    "# learn.recorder.plot_loss()\n",
    "# plt.ylabel('Loss')\n",
    "# plt.xlabel('Batches Processed')"
   ]
  },
  {
   "cell_type": "markdown",
   "id": "spread-stephen",
   "metadata": {},
   "source": [
    "<br>\n",
    "\n",
    "### Visualize with a confusion Matrix"
   ]
  },
  {
   "cell_type": "code",
   "execution_count": 42,
   "id": "suburban-plain",
   "metadata": {
    "execution": {
     "iopub.execute_input": "2021-02-06T20:57:49.754266Z",
     "iopub.status.busy": "2021-02-06T20:57:49.754010Z",
     "iopub.status.idle": "2021-02-06T20:58:46.293894Z",
     "shell.execute_reply": "2021-02-06T20:58:46.293542Z",
     "shell.execute_reply.started": "2021-02-06T20:57:49.754243Z"
    }
   },
   "outputs": [
    {
     "data": {
      "text/html": [],
      "text/plain": [
       "<IPython.core.display.HTML object>"
      ]
     },
     "metadata": {},
     "output_type": "display_data"
    },
    {
     "data": {
      "application/vnd.jupyter.widget-view+json": {
       "model_id": "38a17cd428f64b7f8b51e8e724887243",
       "version_major": 2,
       "version_minor": 0
      },
      "text/plain": [
       "Canvas(toolbar=Toolbar(toolitems=[('Home', 'Reset original view', 'home', 'home'), ('Back', 'Back to previous …"
      ]
     },
     "metadata": {},
     "output_type": "display_data"
    }
   ],
   "source": [
    "interp = ClassificationInterpretation.from_learner(learn)\n",
    "interp.plot_confusion_matrix(figsize=(8,8))"
   ]
  },
  {
   "cell_type": "code",
   "execution_count": 43,
   "id": "distinguished-elizabeth",
   "metadata": {
    "execution": {
     "iopub.execute_input": "2021-02-06T20:59:56.560171Z",
     "iopub.status.busy": "2021-02-06T20:59:56.559898Z",
     "iopub.status.idle": "2021-02-06T20:59:56.566955Z",
     "shell.execute_reply": "2021-02-06T20:59:56.566307Z",
     "shell.execute_reply.started": "2021-02-06T20:59:56.560139Z"
    }
   },
   "outputs": [
    {
     "data": {
      "text/plain": [
       "[('cbb', 'healthy', 94),\n",
       " ('cbb', 'cbsd', 62),\n",
       " ('healthy', 'cbb', 59),\n",
       " ('healthy', 'cbsd', 56),\n",
       " ('cgm', 'healthy', 41),\n",
       " ('healthy', 'cgm', 39),\n",
       " ('cmd', 'cgm', 37),\n",
       " ('cbsd', 'healthy', 34),\n",
       " ('cgm', 'cbsd', 30),\n",
       " ('cgm', 'cmd', 26)]"
      ]
     },
     "execution_count": 43,
     "metadata": {},
     "output_type": "execute_result"
    }
   ],
   "source": [
    "interp.most_confused()[:10]"
   ]
  },
  {
   "cell_type": "markdown",
   "id": "presidential-elephant",
   "metadata": {},
   "source": [
    "<br>\n",
    "<br>"
   ]
  },
  {
   "cell_type": "markdown",
   "id": "stainless-reproduction",
   "metadata": {},
   "source": [
    "## Classification Report"
   ]
  },
  {
   "cell_type": "code",
   "execution_count": 44,
   "id": "romance-appearance",
   "metadata": {
    "execution": {
     "iopub.execute_input": "2021-02-06T20:59:58.130351Z",
     "iopub.status.busy": "2021-02-06T20:59:58.130104Z",
     "iopub.status.idle": "2021-02-06T20:59:58.144089Z",
     "shell.execute_reply": "2021-02-06T20:59:58.143758Z",
     "shell.execute_reply.started": "2021-02-06T20:59:58.130327Z"
    }
   },
   "outputs": [
    {
     "name": "stdout",
     "output_type": "stream",
     "text": [
      "              precision    recall  f1-score   support\n",
      "\n",
      "         cbb       0.76      0.62      0.69       469\n",
      "        cbsd       0.70      0.81      0.75       472\n",
      "         cgm       0.79      0.79      0.79       491\n",
      "         cmd       0.86      0.85      0.86       502\n",
      "     healthy       0.63      0.64      0.64       488\n",
      "\n",
      "    accuracy                           0.74      2422\n",
      "   macro avg       0.75      0.74      0.74      2422\n",
      "weighted avg       0.75      0.74      0.74      2422\n",
      "\n"
     ]
    }
   ],
   "source": [
    "interp.print_classification_report()"
   ]
  },
  {
   "cell_type": "markdown",
   "id": "reflected-genius",
   "metadata": {},
   "source": [
    "<br>\n",
    "\n",
    "### Show the top 15 most error prone images"
   ]
  },
  {
   "cell_type": "code",
   "execution_count": 45,
   "id": "hourly-tennis",
   "metadata": {
    "execution": {
     "iopub.execute_input": "2021-02-06T21:00:01.435072Z",
     "iopub.status.busy": "2021-02-06T21:00:01.434814Z",
     "iopub.status.idle": "2021-02-06T21:00:01.770087Z",
     "shell.execute_reply": "2021-02-06T21:00:01.769749Z",
     "shell.execute_reply.started": "2021-02-06T21:00:01.435049Z"
    }
   },
   "outputs": [
    {
     "data": {
      "application/vnd.jupyter.widget-view+json": {
       "model_id": "c9065e617ea047ff84b6394c7319e147",
       "version_major": 2,
       "version_minor": 0
      },
      "text/plain": [
       "Canvas(toolbar=Toolbar(toolitems=[('Home', 'Reset original view', 'home', 'home'), ('Back', 'Back to previous …"
      ]
     },
     "metadata": {},
     "output_type": "display_data"
    }
   ],
   "source": [
    "interp.plot_top_losses(15, nrows=5)"
   ]
  },
  {
   "cell_type": "markdown",
   "id": "different-adobe",
   "metadata": {},
   "source": [
    "## Validation"
   ]
  },
  {
   "cell_type": "code",
   "execution_count": 46,
   "id": "stone-creek",
   "metadata": {
    "execution": {
     "iopub.execute_input": "2021-02-06T21:00:04.083715Z",
     "iopub.status.busy": "2021-02-06T21:00:04.083464Z",
     "iopub.status.idle": "2021-02-06T21:00:04.087512Z",
     "shell.execute_reply": "2021-02-06T21:00:04.086871Z",
     "shell.execute_reply.started": "2021-02-06T21:00:04.083690Z"
    }
   },
   "outputs": [],
   "source": [
    "test_learn = learn\n",
    "\n",
    "# load_learner('../models/20210205-1716 - arch=xresnet34 - samples=1800 frozen=1 epochs=40 bs=32 res=340.pkl', cpu=False)\n",
    "# load_model(f'models/{RUN_NAME}_26.pth', test_learn, opt=Adam, with_opt=False)\n"
   ]
  },
  {
   "cell_type": "code",
   "execution_count": 47,
   "id": "dietary-attempt",
   "metadata": {
    "execution": {
     "iopub.execute_input": "2021-02-06T21:00:04.566172Z",
     "iopub.status.busy": "2021-02-06T21:00:04.565925Z",
     "iopub.status.idle": "2021-02-06T21:00:04.570565Z",
     "shell.execute_reply": "2021-02-06T21:00:04.569995Z",
     "shell.execute_reply.started": "2021-02-06T21:00:04.566149Z"
    }
   },
   "outputs": [],
   "source": [
    "def get_test_fnames(path):\n",
    "    retlist = []\n",
    "    \n",
    "    for l in test_flist.values():\n",
    "        for f in l:\n",
    "            retlist.append(f)\n",
    "            \n",
    "    return random.sample(retlist, len(retlist))"
   ]
  },
  {
   "cell_type": "code",
   "execution_count": 48,
   "id": "interpreted-atmosphere",
   "metadata": {
    "execution": {
     "iopub.execute_input": "2021-02-06T21:00:05.307396Z",
     "iopub.status.busy": "2021-02-06T21:00:05.307145Z",
     "iopub.status.idle": "2021-02-06T21:00:05.428831Z",
     "shell.execute_reply": "2021-02-06T21:00:05.428408Z",
     "shell.execute_reply.started": "2021-02-06T21:00:05.307373Z"
    }
   },
   "outputs": [],
   "source": [
    "test_db = DataBlock(\n",
    "    blocks=(ImageBlock, CategoryBlock), \n",
    "    get_items=get_test_fnames,\n",
    "    get_y=parent_label, \n",
    "    item_tfms=Resize(RESOLUTION, method='bilinear')) #,\n",
    "#     item_tfms=CropPad(RESOLUTION, pad_mode='zeros'))\n",
    "#    ,    batch_tfms=aug_transforms(do_flip=True, size=RESOLUTION, batch=False, max_zoom=1.0, mult=1, pad_mode='zeros'))\n",
    "\n",
    "\n",
    "dls = test_db.dataloaders(get_test_fnames, bs=BATCH_SIZE)\n",
    "\n",
    "test_dl = dls.test_dl(get_test_fnames('None'), with_labels=True)"
   ]
  },
  {
   "cell_type": "markdown",
   "id": "proper-albany",
   "metadata": {},
   "source": [
    "####  Get the Inferrences on the Test Set"
   ]
  },
  {
   "cell_type": "code",
   "execution_count": null,
   "id": "undefined-thong",
   "metadata": {
    "execution": {
     "iopub.execute_input": "2021-02-06T21:00:06.903352Z",
     "iopub.status.busy": "2021-02-06T21:00:06.903080Z"
    }
   },
   "outputs": [
    {
     "data": {
      "text/html": [
       "\n",
       "    <div>\n",
       "        <style>\n",
       "            /* Turns off some styling */\n",
       "            progress {\n",
       "                /* gets rid of default border in Firefox and Opera. */\n",
       "                border: none;\n",
       "                /* Needs to be in here for Safari polyfill so background images work as expected. */\n",
       "                background-size: auto;\n",
       "            }\n",
       "            .progress-bar-interrupted, .progress-bar-interrupted::-webkit-progress-bar {\n",
       "                background: #F44336;\n",
       "            }\n",
       "        </style>\n",
       "      <progress value='99' class='' max='155' style='width:300px; height:20px; vertical-align: middle;'></progress>\n",
       "      63.87% [99/155 00:32<00:18 0.9066]\n",
       "    </div>\n",
       "    "
      ],
      "text/plain": [
       "<IPython.core.display.HTML object>"
      ]
     },
     "metadata": {},
     "output_type": "display_data"
    }
   ],
   "source": [
    "inputs, preds, targs, decoded, losses = test_learn.get_preds(dl=test_dl, with_input=True, with_decoded=True, with_loss=True)\n"
   ]
  },
  {
   "cell_type": "code",
   "execution_count": null,
   "id": "genuine-penny",
   "metadata": {},
   "outputs": [],
   "source": [
    "interp = ClassificationInterpretation(dl=test_dl, inputs=inputs, preds=preds, targs=targs, decoded=decoded, losses=losses )"
   ]
  },
  {
   "cell_type": "markdown",
   "id": "saved-surfing",
   "metadata": {},
   "source": [
    "<br>\n",
    "\n",
    "### Visualize with a confusion Matrix"
   ]
  },
  {
   "cell_type": "code",
   "execution_count": null,
   "id": "familiar-mills",
   "metadata": {
    "execution": {
     "iopub.status.busy": "2021-02-06T20:57:36.058960Z",
     "iopub.status.idle": "2021-02-06T20:57:36.059128Z",
     "shell.execute_reply": "2021-02-06T20:57:36.059053Z"
    }
   },
   "outputs": [],
   "source": [
    "interp.plot_confusion_matrix(figsize=(8,8))"
   ]
  },
  {
   "cell_type": "code",
   "execution_count": null,
   "id": "fourth-myrtle",
   "metadata": {
    "execution": {
     "iopub.status.busy": "2021-02-06T20:57:36.059853Z",
     "iopub.status.idle": "2021-02-06T20:57:36.060023Z",
     "shell.execute_reply": "2021-02-06T20:57:36.059948Z"
    }
   },
   "outputs": [],
   "source": [
    "interp.most_confused()[:10]"
   ]
  },
  {
   "cell_type": "markdown",
   "id": "decent-trainer",
   "metadata": {},
   "source": [
    "<br>\n",
    "<br>"
   ]
  },
  {
   "cell_type": "markdown",
   "id": "ultimate-glucose",
   "metadata": {},
   "source": [
    "## Classification Report"
   ]
  },
  {
   "cell_type": "code",
   "execution_count": null,
   "id": "alternate-buddy",
   "metadata": {
    "execution": {
     "iopub.status.busy": "2021-02-06T20:57:36.061575Z",
     "iopub.status.idle": "2021-02-06T20:57:36.061728Z",
     "shell.execute_reply": "2021-02-06T20:57:36.061653Z"
    }
   },
   "outputs": [],
   "source": [
    "interp.print_classification_report()"
   ]
  },
  {
   "cell_type": "code",
   "execution_count": null,
   "id": "changed-medium",
   "metadata": {
    "execution": {
     "iopub.status.busy": "2021-02-06T20:57:36.062488Z",
     "iopub.status.idle": "2021-02-06T20:57:36.062653Z",
     "shell.execute_reply": "2021-02-06T20:57:36.062578Z"
    }
   },
   "outputs": [],
   "source": [
    "interp.plot_top_losses(k=15)"
   ]
  },
  {
   "cell_type": "markdown",
   "id": "pediatric-jamaica",
   "metadata": {},
   "source": [
    "## Archive this version of the notehook"
   ]
  },
  {
   "cell_type": "code",
   "execution_count": null,
   "id": "inappropriate-rochester",
   "metadata": {
    "execution": {
     "iopub.status.busy": "2021-02-06T20:57:36.063790Z",
     "iopub.status.idle": "2021-02-06T20:57:36.063933Z",
     "shell.execute_reply": "2021-02-06T20:57:36.063860Z"
    }
   },
   "outputs": [],
   "source": [
    "import os\n",
    "import shutil\n",
    "\n",
    "# Allow Jupyter the opportunity to autosave\n",
    "# !sleep 20\n",
    "# time = '20210122-2356'\n",
    "# copy the notebook file - the prefix links it to the saved model\n",
    "shutil.copyfile('FastAI Cassava Disease Classification.ipynb', f'.Archive/{time} - FastAI Cassava Disease Classification.ipynb')"
   ]
  },
  {
   "cell_type": "code",
   "execution_count": null,
   "id": "planned-christmas",
   "metadata": {},
   "outputs": [],
   "source": []
  },
  {
   "cell_type": "code",
   "execution_count": null,
   "id": "previous-lawrence",
   "metadata": {},
   "outputs": [],
   "source": []
  }
 ],
 "metadata": {
  "kernelspec": {
   "display_name": "Python 3",
   "language": "python",
   "name": "python3"
  },
  "language_info": {
   "codemirror_mode": {
    "name": "ipython",
    "version": 3
   },
   "file_extension": ".py",
   "mimetype": "text/x-python",
   "name": "python",
   "nbconvert_exporter": "python",
   "pygments_lexer": "ipython3",
   "version": "3.8.6"
  },
  "widgets": {
   "application/vnd.jupyter.widget-state+json": {
    "state": {
     "012b72a54d6f4c7b80cf2b74dd3c91e7": {
      "model_module": "@jupyter-widgets/base",
      "model_module_version": "1.2.0",
      "model_name": "LayoutModel",
      "state": {}
     },
     "0160d25cb99140ae9285bca11375c00c": {
      "model_module": "@jupyter-widgets/base",
      "model_module_version": "1.2.0",
      "model_name": "LayoutModel",
      "state": {}
     },
     "086da20f550c499898920c9059e44f36": {
      "model_module": "jupyter-matplotlib",
      "model_module_version": "^0.8.3",
      "model_name": "MPLCanvasModel",
      "state": {
       "_cursor": "default",
       "_figure_label": "Figure 4",
       "_height": 360,
       "_image_mode": "diff",
       "_width": 720,
       "layout": "IPY_MODEL_1486104acf974437a44ecb79e3c0edad",
       "toolbar": "IPY_MODEL_692a3622803a4db8a1ff999b613280e3",
       "toolbar_position": "left"
      }
     },
     "0d9ffaf6b2714af0ab965f298b6d8bb3": {
      "model_module": "@jupyter-widgets/base",
      "model_module_version": "1.2.0",
      "model_name": "LayoutModel",
      "state": {}
     },
     "0fbf0b87c88b464ab0bc6fd36fad4935": {
      "model_module": "@jupyter-widgets/base",
      "model_module_version": "1.2.0",
      "model_name": "LayoutModel",
      "state": {}
     },
     "108c0c98fa70402bbf232fe1aaf23e3d": {
      "model_module": "jupyter-matplotlib",
      "model_module_version": "^0.8.3",
      "model_name": "ToolbarModel",
      "state": {
       "layout": "IPY_MODEL_df5725dadd824f2982db5d65b9f314ab",
       "toolitems": [
        [
         "Home",
         "Reset original view",
         "home",
         "home"
        ],
        [
         "Back",
         "Back to previous view",
         "arrow-left",
         "back"
        ],
        [
         "Forward",
         "Forward to next view",
         "arrow-right",
         "forward"
        ],
        [
         "Pan",
         "Left button pans, Right button zooms\nx/y fixes axis, CTRL fixes aspect",
         "arrows",
         "pan"
        ],
        [
         "Zoom",
         "Zoom to rectangle\nx/y fixes axis, CTRL fixes aspect",
         "square-o",
         "zoom"
        ],
        [
         "Download",
         "Download plot",
         "floppy-o",
         "save_figure"
        ]
       ]
      }
     },
     "1486104acf974437a44ecb79e3c0edad": {
      "model_module": "@jupyter-widgets/base",
      "model_module_version": "1.2.0",
      "model_name": "LayoutModel",
      "state": {}
     },
     "1616c3dc354f458ebd20a3c7a7d1b42f": {
      "model_module": "@jupyter-widgets/base",
      "model_module_version": "1.2.0",
      "model_name": "LayoutModel",
      "state": {}
     },
     "178fa5e965ba4affbcae186c317ff832": {
      "model_module": "@jupyter-widgets/base",
      "model_module_version": "1.2.0",
      "model_name": "LayoutModel",
      "state": {}
     },
     "1a6c415708ba416fa27de0bd66685eb6": {
      "model_module": "@jupyter-widgets/base",
      "model_module_version": "1.2.0",
      "model_name": "LayoutModel",
      "state": {}
     },
     "1b0e12ec6ccc43979c8f4f47adf86a83": {
      "model_module": "@jupyter-widgets/base",
      "model_module_version": "1.2.0",
      "model_name": "LayoutModel",
      "state": {}
     },
     "2656a8c15a6b4d43a25ed4351b4c3178": {
      "model_module": "jupyter-matplotlib",
      "model_module_version": "^0.8.3",
      "model_name": "ToolbarModel",
      "state": {
       "layout": "IPY_MODEL_0160d25cb99140ae9285bca11375c00c",
       "toolitems": [
        [
         "Home",
         "Reset original view",
         "home",
         "home"
        ],
        [
         "Back",
         "Back to previous view",
         "arrow-left",
         "back"
        ],
        [
         "Forward",
         "Forward to next view",
         "arrow-right",
         "forward"
        ],
        [
         "Pan",
         "Left button pans, Right button zooms\nx/y fixes axis, CTRL fixes aspect",
         "arrows",
         "pan"
        ],
        [
         "Zoom",
         "Zoom to rectangle\nx/y fixes axis, CTRL fixes aspect",
         "square-o",
         "zoom"
        ],
        [
         "Download",
         "Download plot",
         "floppy-o",
         "save_figure"
        ]
       ]
      }
     },
     "3128c7617a594334aec9a594b208af0d": {
      "model_module": "@jupyter-widgets/base",
      "model_module_version": "1.2.0",
      "model_name": "LayoutModel",
      "state": {}
     },
     "33a1e69e3bea45e983ce2048943c64dc": {
      "model_module": "jupyter-matplotlib",
      "model_module_version": "^0.8.3",
      "model_name": "ToolbarModel",
      "state": {
       "layout": "IPY_MODEL_34f0e9c7c3c64f8cae2afd0d923de6b6",
       "toolitems": [
        [
         "Home",
         "Reset original view",
         "home",
         "home"
        ],
        [
         "Back",
         "Back to previous view",
         "arrow-left",
         "back"
        ],
        [
         "Forward",
         "Forward to next view",
         "arrow-right",
         "forward"
        ],
        [
         "Pan",
         "Left button pans, Right button zooms\nx/y fixes axis, CTRL fixes aspect",
         "arrows",
         "pan"
        ],
        [
         "Zoom",
         "Zoom to rectangle\nx/y fixes axis, CTRL fixes aspect",
         "square-o",
         "zoom"
        ],
        [
         "Download",
         "Download plot",
         "floppy-o",
         "save_figure"
        ]
       ]
      }
     },
     "34ba5da5d6184ba38ed73906c243ca4a": {
      "model_module": "jupyter-matplotlib",
      "model_module_version": "^0.8.3",
      "model_name": "MPLCanvasModel",
      "state": {
       "_cursor": "default",
       "_figure_label": "Figure 9",
       "_height": 600,
       "_image_mode": "diff",
       "_message": "x=5.59955e-07  y=2.687",
       "_width": 1080,
       "layout": "IPY_MODEL_1b0e12ec6ccc43979c8f4f47adf86a83",
       "toolbar": "IPY_MODEL_e26d39610c814b63b82cc829f70a39dd",
       "toolbar_position": "left"
      }
     },
     "34f0e9c7c3c64f8cae2afd0d923de6b6": {
      "model_module": "@jupyter-widgets/base",
      "model_module_version": "1.2.0",
      "model_name": "LayoutModel",
      "state": {}
     },
     "356b76bbbb874a4cbf676f9241a947a3": {
      "model_module": "@jupyter-widgets/base",
      "model_module_version": "1.2.0",
      "model_name": "LayoutModel",
      "state": {}
     },
     "3606eae42dca490da2d99c8fb0a91c73": {
      "model_module": "jupyter-matplotlib",
      "model_module_version": "^0.8.3",
      "model_name": "ToolbarModel",
      "state": {
       "layout": "IPY_MODEL_4d26e4fb79a747c8940809a32cf1c835",
       "toolitems": [
        [
         "Home",
         "Reset original view",
         "home",
         "home"
        ],
        [
         "Back",
         "Back to previous view",
         "arrow-left",
         "back"
        ],
        [
         "Forward",
         "Forward to next view",
         "arrow-right",
         "forward"
        ],
        [
         "Pan",
         "Left button pans, Right button zooms\nx/y fixes axis, CTRL fixes aspect",
         "arrows",
         "pan"
        ],
        [
         "Zoom",
         "Zoom to rectangle\nx/y fixes axis, CTRL fixes aspect",
         "square-o",
         "zoom"
        ],
        [
         "Download",
         "Download plot",
         "floppy-o",
         "save_figure"
        ]
       ]
      }
     },
     "36d62424350f4c548cd36dda81024d5a": {
      "model_module": "jupyter-matplotlib",
      "model_module_version": "^0.8.3",
      "model_name": "ToolbarModel",
      "state": {
       "layout": "IPY_MODEL_c151e9708d294118bd61847eb049c8f0",
       "toolitems": [
        [
         "Home",
         "Reset original view",
         "home",
         "home"
        ],
        [
         "Back",
         "Back to previous view",
         "arrow-left",
         "back"
        ],
        [
         "Forward",
         "Forward to next view",
         "arrow-right",
         "forward"
        ],
        [
         "Pan",
         "Left button pans, Right button zooms\nx/y fixes axis, CTRL fixes aspect",
         "arrows",
         "pan"
        ],
        [
         "Zoom",
         "Zoom to rectangle\nx/y fixes axis, CTRL fixes aspect",
         "square-o",
         "zoom"
        ],
        [
         "Download",
         "Download plot",
         "floppy-o",
         "save_figure"
        ]
       ]
      }
     },
     "38a17cd428f64b7f8b51e8e724887243": {
      "model_module": "jupyter-matplotlib",
      "model_module_version": "^0.8.3",
      "model_name": "MPLCanvasModel",
      "state": {
       "_cursor": "default",
       "_figure_label": "Figure 14",
       "_height": 960,
       "_width": 960,
       "layout": "IPY_MODEL_bb4a8441a6e74106ae80c2a768c8facc",
       "toolbar": "IPY_MODEL_bd0d052e3e934f238de3f71cfc86dd36",
       "toolbar_position": "left"
      }
     },
     "39791643e69741d994c66797b59d1466": {
      "model_module": "@jupyter-widgets/base",
      "model_module_version": "1.2.0",
      "model_name": "LayoutModel",
      "state": {}
     },
     "3a964c302a734c35ad9236eca41cca54": {
      "model_module": "jupyter-matplotlib",
      "model_module_version": "^0.8.3",
      "model_name": "MPLCanvasModel",
      "state": {
       "_cursor": "default",
       "_figure_label": "Figure 6",
       "_height": 600,
       "_image_mode": "diff",
       "_width": 1080,
       "layout": "IPY_MODEL_3d57ab73235248c7b28994d56cb0fe5e",
       "toolbar": "IPY_MODEL_36d62424350f4c548cd36dda81024d5a",
       "toolbar_position": "left"
      }
     },
     "3d57ab73235248c7b28994d56cb0fe5e": {
      "model_module": "@jupyter-widgets/base",
      "model_module_version": "1.2.0",
      "model_name": "LayoutModel",
      "state": {}
     },
     "3d5cf4b084034bd2846fceca790e6150": {
      "model_module": "jupyter-matplotlib",
      "model_module_version": "^0.8.3",
      "model_name": "MPLCanvasModel",
      "state": {
       "_cursor": "default",
       "_figure_label": "Figure 3",
       "_height": 360,
       "_image_mode": "diff",
       "_width": 720,
       "layout": "IPY_MODEL_39791643e69741d994c66797b59d1466",
       "toolbar": "IPY_MODEL_cbe8c7977cd6423aa23cf8cabef91d49",
       "toolbar_position": "left"
      }
     },
     "443e50c9bc474d42b3f5d04bd8904100": {
      "model_module": "jupyter-matplotlib",
      "model_module_version": "^0.8.3",
      "model_name": "ToolbarModel",
      "state": {
       "layout": "IPY_MODEL_ce656336404d4428a7012156eb74ca6c",
       "toolitems": [
        [
         "Home",
         "Reset original view",
         "home",
         "home"
        ],
        [
         "Back",
         "Back to previous view",
         "arrow-left",
         "back"
        ],
        [
         "Forward",
         "Forward to next view",
         "arrow-right",
         "forward"
        ],
        [
         "Pan",
         "Left button pans, Right button zooms\nx/y fixes axis, CTRL fixes aspect",
         "arrows",
         "pan"
        ],
        [
         "Zoom",
         "Zoom to rectangle\nx/y fixes axis, CTRL fixes aspect",
         "square-o",
         "zoom"
        ],
        [
         "Download",
         "Download plot",
         "floppy-o",
         "save_figure"
        ]
       ]
      }
     },
     "4566a48d60a34abb90e4aab1c69eb158": {
      "model_module": "@jupyter-widgets/base",
      "model_module_version": "1.2.0",
      "model_name": "LayoutModel",
      "state": {}
     },
     "47d3e1659e5e4a428bef205d88aa5630": {
      "model_module": "@jupyter-widgets/base",
      "model_module_version": "1.2.0",
      "model_name": "LayoutModel",
      "state": {}
     },
     "4d26e4fb79a747c8940809a32cf1c835": {
      "model_module": "@jupyter-widgets/base",
      "model_module_version": "1.2.0",
      "model_name": "LayoutModel",
      "state": {}
     },
     "56bec6d8fd19495f975015c40884d72b": {
      "model_module": "jupyter-matplotlib",
      "model_module_version": "^0.8.3",
      "model_name": "ToolbarModel",
      "state": {
       "layout": "IPY_MODEL_aba50d82907c4ebfbd12427747d6245e",
       "toolitems": [
        [
         "Home",
         "Reset original view",
         "home",
         "home"
        ],
        [
         "Back",
         "Back to previous view",
         "arrow-left",
         "back"
        ],
        [
         "Forward",
         "Forward to next view",
         "arrow-right",
         "forward"
        ],
        [
         "Pan",
         "Left button pans, Right button zooms\nx/y fixes axis, CTRL fixes aspect",
         "arrows",
         "pan"
        ],
        [
         "Zoom",
         "Zoom to rectangle\nx/y fixes axis, CTRL fixes aspect",
         "square-o",
         "zoom"
        ],
        [
         "Download",
         "Download plot",
         "floppy-o",
         "save_figure"
        ]
       ]
      }
     },
     "68a49e3a411f45e68a3603392b6572ca": {
      "model_module": "jupyter-matplotlib",
      "model_module_version": "^0.8.3",
      "model_name": "ToolbarModel",
      "state": {
       "layout": "IPY_MODEL_a7c78fd092414e829a2fee4738e058f3",
       "toolitems": [
        [
         "Home",
         "Reset original view",
         "home",
         "home"
        ],
        [
         "Back",
         "Back to previous view",
         "arrow-left",
         "back"
        ],
        [
         "Forward",
         "Forward to next view",
         "arrow-right",
         "forward"
        ],
        [
         "Pan",
         "Left button pans, Right button zooms\nx/y fixes axis, CTRL fixes aspect",
         "arrows",
         "pan"
        ],
        [
         "Zoom",
         "Zoom to rectangle\nx/y fixes axis, CTRL fixes aspect",
         "square-o",
         "zoom"
        ],
        [
         "Download",
         "Download plot",
         "floppy-o",
         "save_figure"
        ]
       ]
      }
     },
     "692a3622803a4db8a1ff999b613280e3": {
      "model_module": "jupyter-matplotlib",
      "model_module_version": "^0.8.3",
      "model_name": "ToolbarModel",
      "state": {
       "layout": "IPY_MODEL_178fa5e965ba4affbcae186c317ff832",
       "toolitems": [
        [
         "Home",
         "Reset original view",
         "home",
         "home"
        ],
        [
         "Back",
         "Back to previous view",
         "arrow-left",
         "back"
        ],
        [
         "Forward",
         "Forward to next view",
         "arrow-right",
         "forward"
        ],
        [
         "Pan",
         "Left button pans, Right button zooms\nx/y fixes axis, CTRL fixes aspect",
         "arrows",
         "pan"
        ],
        [
         "Zoom",
         "Zoom to rectangle\nx/y fixes axis, CTRL fixes aspect",
         "square-o",
         "zoom"
        ],
        [
         "Download",
         "Download plot",
         "floppy-o",
         "save_figure"
        ]
       ]
      }
     },
     "7058601b66f74ecdbbf4d38368bbc909": {
      "model_module": "@jupyter-widgets/base",
      "model_module_version": "1.2.0",
      "model_name": "LayoutModel",
      "state": {}
     },
     "7dc5f47bedb44d9ca6c7eb06e707021c": {
      "model_module": "jupyter-matplotlib",
      "model_module_version": "^0.8.3",
      "model_name": "MPLCanvasModel",
      "state": {
       "_cursor": "default",
       "_figure_label": "Figure 5",
       "_height": 1440,
       "_image_mode": "diff",
       "_width": 1440,
       "layout": "IPY_MODEL_47d3e1659e5e4a428bef205d88aa5630",
       "toolbar": "IPY_MODEL_33a1e69e3bea45e983ce2048943c64dc",
       "toolbar_position": "left"
      }
     },
     "857f50a3bc31427087ad50181a00025b": {
      "model_module": "@jupyter-widgets/base",
      "model_module_version": "1.2.0",
      "model_name": "LayoutModel",
      "state": {}
     },
     "864ffc0d8b354180aae9dd937eb24ade": {
      "model_module": "jupyter-matplotlib",
      "model_module_version": "^0.8.3",
      "model_name": "MPLCanvasModel",
      "state": {
       "_cursor": "default",
       "_figure_label": "Figure 13",
       "_height": 1080,
       "_width": 1080,
       "layout": "IPY_MODEL_857f50a3bc31427087ad50181a00025b",
       "toolbar": "IPY_MODEL_f720d2acc5364ae0b841a51d1d144314",
       "toolbar_position": "left"
      }
     },
     "8dd6740fb06849ad898c80b569b5e675": {
      "model_module": "jupyter-matplotlib",
      "model_module_version": "^0.8.3",
      "model_name": "ToolbarModel",
      "state": {
       "layout": "IPY_MODEL_012b72a54d6f4c7b80cf2b74dd3c91e7",
       "toolitems": [
        [
         "Home",
         "Reset original view",
         "home",
         "home"
        ],
        [
         "Back",
         "Back to previous view",
         "arrow-left",
         "back"
        ],
        [
         "Forward",
         "Forward to next view",
         "arrow-right",
         "forward"
        ],
        [
         "Pan",
         "Left button pans, Right button zooms\nx/y fixes axis, CTRL fixes aspect",
         "arrows",
         "pan"
        ],
        [
         "Zoom",
         "Zoom to rectangle\nx/y fixes axis, CTRL fixes aspect",
         "square-o",
         "zoom"
        ],
        [
         "Download",
         "Download plot",
         "floppy-o",
         "save_figure"
        ]
       ]
      }
     },
     "93746940571c4df98f7bbee4b639e43c": {
      "model_module": "@jupyter-widgets/base",
      "model_module_version": "1.2.0",
      "model_name": "LayoutModel",
      "state": {}
     },
     "942dcd7a89104151be062ba7bb6686a9": {
      "model_module": "jupyter-matplotlib",
      "model_module_version": "^0.8.3",
      "model_name": "MPLCanvasModel",
      "state": {
       "_cursor": "default",
       "_figure_label": "Figure 1",
       "_height": 360,
       "_image_mode": "diff",
       "_width": 720,
       "layout": "IPY_MODEL_b9efc61c04d64e1c98eb8daa9bac73ef",
       "toolbar": "IPY_MODEL_108c0c98fa70402bbf232fe1aaf23e3d",
       "toolbar_position": "left"
      }
     },
     "982ce3c7aa99429f9f52bb4ed249a9ce": {
      "model_module": "jupyter-matplotlib",
      "model_module_version": "^0.8.3",
      "model_name": "MPLCanvasModel",
      "state": {
       "_cursor": "default",
       "_figure_label": "Figure 2",
       "_height": 360,
       "_image_mode": "diff",
       "_width": 720,
       "layout": "IPY_MODEL_0d9ffaf6b2714af0ab965f298b6d8bb3",
       "toolbar": "IPY_MODEL_8dd6740fb06849ad898c80b569b5e675",
       "toolbar_position": "left"
      }
     },
     "a7c78fd092414e829a2fee4738e058f3": {
      "model_module": "@jupyter-widgets/base",
      "model_module_version": "1.2.0",
      "model_name": "LayoutModel",
      "state": {}
     },
     "aba50d82907c4ebfbd12427747d6245e": {
      "model_module": "@jupyter-widgets/base",
      "model_module_version": "1.2.0",
      "model_name": "LayoutModel",
      "state": {}
     },
     "b4b3892283ca4e65866b10272661eff2": {
      "model_module": "jupyter-matplotlib",
      "model_module_version": "^0.8.3",
      "model_name": "MPLCanvasModel",
      "state": {
       "layout": "IPY_MODEL_1616c3dc354f458ebd20a3c7a7d1b42f",
       "toolbar": "IPY_MODEL_56bec6d8fd19495f975015c40884d72b",
       "toolbar_position": "left"
      }
     },
     "b9efc61c04d64e1c98eb8daa9bac73ef": {
      "model_module": "@jupyter-widgets/base",
      "model_module_version": "1.2.0",
      "model_name": "LayoutModel",
      "state": {}
     },
     "bb4a8441a6e74106ae80c2a768c8facc": {
      "model_module": "@jupyter-widgets/base",
      "model_module_version": "1.2.0",
      "model_name": "LayoutModel",
      "state": {}
     },
     "bd0d052e3e934f238de3f71cfc86dd36": {
      "model_module": "jupyter-matplotlib",
      "model_module_version": "^0.8.3",
      "model_name": "ToolbarModel",
      "state": {
       "layout": "IPY_MODEL_de7333186d8148209a2c29dc7e5545f5",
       "toolitems": [
        [
         "Home",
         "Reset original view",
         "home",
         "home"
        ],
        [
         "Back",
         "Back to previous view",
         "arrow-left",
         "back"
        ],
        [
         "Forward",
         "Forward to next view",
         "arrow-right",
         "forward"
        ],
        [
         "Pan",
         "Left button pans, Right button zooms\nx/y fixes axis, CTRL fixes aspect",
         "arrows",
         "pan"
        ],
        [
         "Zoom",
         "Zoom to rectangle\nx/y fixes axis, CTRL fixes aspect",
         "square-o",
         "zoom"
        ],
        [
         "Download",
         "Download plot",
         "floppy-o",
         "save_figure"
        ]
       ]
      }
     },
     "bdacd331e2fa4d9dae4c996083fe060a": {
      "model_module": "jupyter-matplotlib",
      "model_module_version": "^0.8.3",
      "model_name": "MPLCanvasModel",
      "state": {
       "_cursor": "default",
       "_figure_label": "Figure 11",
       "_height": 600,
       "_width": 1080,
       "layout": "IPY_MODEL_7058601b66f74ecdbbf4d38368bbc909",
       "toolbar": "IPY_MODEL_443e50c9bc474d42b3f5d04bd8904100",
       "toolbar_position": "left"
      }
     },
     "c151e9708d294118bd61847eb049c8f0": {
      "model_module": "@jupyter-widgets/base",
      "model_module_version": "1.2.0",
      "model_name": "LayoutModel",
      "state": {}
     },
     "c68c179c9256479c8c4415066b509929": {
      "model_module": "@jupyter-widgets/base",
      "model_module_version": "1.2.0",
      "model_name": "LayoutModel",
      "state": {}
     },
     "c9065e617ea047ff84b6394c7319e147": {
      "model_module": "jupyter-matplotlib",
      "model_module_version": "^0.8.3",
      "model_name": "MPLCanvasModel",
      "state": {
       "_cursor": "default",
       "_figure_label": "Figure 15",
       "_height": 1800,
       "_width": 1080,
       "layout": "IPY_MODEL_4566a48d60a34abb90e4aab1c69eb158",
       "toolbar": "IPY_MODEL_d9a3823789da4f1ca74c70ac5eef32c3",
       "toolbar_position": "left"
      }
     },
     "c941a37ab5ee4de58b6f07f886f42050": {
      "model_module": "@jupyter-widgets/base",
      "model_module_version": "1.2.0",
      "model_name": "LayoutModel",
      "state": {}
     },
     "ca951b37681d4f5196a3cdb6f7143cd8": {
      "model_module": "@jupyter-widgets/base",
      "model_module_version": "1.2.0",
      "model_name": "LayoutModel",
      "state": {}
     },
     "cbe8c7977cd6423aa23cf8cabef91d49": {
      "model_module": "jupyter-matplotlib",
      "model_module_version": "^0.8.3",
      "model_name": "ToolbarModel",
      "state": {
       "layout": "IPY_MODEL_93746940571c4df98f7bbee4b639e43c",
       "toolitems": [
        [
         "Home",
         "Reset original view",
         "home",
         "home"
        ],
        [
         "Back",
         "Back to previous view",
         "arrow-left",
         "back"
        ],
        [
         "Forward",
         "Forward to next view",
         "arrow-right",
         "forward"
        ],
        [
         "Pan",
         "Left button pans, Right button zooms\nx/y fixes axis, CTRL fixes aspect",
         "arrows",
         "pan"
        ],
        [
         "Zoom",
         "Zoom to rectangle\nx/y fixes axis, CTRL fixes aspect",
         "square-o",
         "zoom"
        ],
        [
         "Download",
         "Download plot",
         "floppy-o",
         "save_figure"
        ]
       ]
      }
     },
     "ce656336404d4428a7012156eb74ca6c": {
      "model_module": "@jupyter-widgets/base",
      "model_module_version": "1.2.0",
      "model_name": "LayoutModel",
      "state": {}
     },
     "d4008bad9380439ca976790dd9aae952": {
      "model_module": "jupyter-matplotlib",
      "model_module_version": "^0.8.3",
      "model_name": "MPLCanvasModel",
      "state": {
       "_cursor": "default",
       "_figure_label": "Figure 7",
       "_height": 600,
       "_image_mode": "diff",
       "_width": 1080,
       "layout": "IPY_MODEL_3128c7617a594334aec9a594b208af0d",
       "toolbar": "IPY_MODEL_d608eced1f084457bd3e75b792d42e1a",
       "toolbar_position": "left"
      }
     },
     "d608eced1f084457bd3e75b792d42e1a": {
      "model_module": "jupyter-matplotlib",
      "model_module_version": "^0.8.3",
      "model_name": "ToolbarModel",
      "state": {
       "layout": "IPY_MODEL_f54fc4b833014bf6aa88668264669986",
       "toolitems": [
        [
         "Home",
         "Reset original view",
         "home",
         "home"
        ],
        [
         "Back",
         "Back to previous view",
         "arrow-left",
         "back"
        ],
        [
         "Forward",
         "Forward to next view",
         "arrow-right",
         "forward"
        ],
        [
         "Pan",
         "Left button pans, Right button zooms\nx/y fixes axis, CTRL fixes aspect",
         "arrows",
         "pan"
        ],
        [
         "Zoom",
         "Zoom to rectangle\nx/y fixes axis, CTRL fixes aspect",
         "square-o",
         "zoom"
        ],
        [
         "Download",
         "Download plot",
         "floppy-o",
         "save_figure"
        ]
       ]
      }
     },
     "d9a3823789da4f1ca74c70ac5eef32c3": {
      "model_module": "jupyter-matplotlib",
      "model_module_version": "^0.8.3",
      "model_name": "ToolbarModel",
      "state": {
       "layout": "IPY_MODEL_ca951b37681d4f5196a3cdb6f7143cd8",
       "toolitems": [
        [
         "Home",
         "Reset original view",
         "home",
         "home"
        ],
        [
         "Back",
         "Back to previous view",
         "arrow-left",
         "back"
        ],
        [
         "Forward",
         "Forward to next view",
         "arrow-right",
         "forward"
        ],
        [
         "Pan",
         "Left button pans, Right button zooms\nx/y fixes axis, CTRL fixes aspect",
         "arrows",
         "pan"
        ],
        [
         "Zoom",
         "Zoom to rectangle\nx/y fixes axis, CTRL fixes aspect",
         "square-o",
         "zoom"
        ],
        [
         "Download",
         "Download plot",
         "floppy-o",
         "save_figure"
        ]
       ]
      }
     },
     "dc8ecc0918404a9a81d4a75ba3f917aa": {
      "model_module": "@jupyter-widgets/base",
      "model_module_version": "1.2.0",
      "model_name": "LayoutModel",
      "state": {}
     },
     "de7333186d8148209a2c29dc7e5545f5": {
      "model_module": "@jupyter-widgets/base",
      "model_module_version": "1.2.0",
      "model_name": "LayoutModel",
      "state": {}
     },
     "df5725dadd824f2982db5d65b9f314ab": {
      "model_module": "@jupyter-widgets/base",
      "model_module_version": "1.2.0",
      "model_name": "LayoutModel",
      "state": {}
     },
     "e26d39610c814b63b82cc829f70a39dd": {
      "model_module": "jupyter-matplotlib",
      "model_module_version": "^0.8.3",
      "model_name": "ToolbarModel",
      "state": {
       "layout": "IPY_MODEL_dc8ecc0918404a9a81d4a75ba3f917aa",
       "toolitems": [
        [
         "Home",
         "Reset original view",
         "home",
         "home"
        ],
        [
         "Back",
         "Back to previous view",
         "arrow-left",
         "back"
        ],
        [
         "Forward",
         "Forward to next view",
         "arrow-right",
         "forward"
        ],
        [
         "Pan",
         "Left button pans, Right button zooms\nx/y fixes axis, CTRL fixes aspect",
         "arrows",
         "pan"
        ],
        [
         "Zoom",
         "Zoom to rectangle\nx/y fixes axis, CTRL fixes aspect",
         "square-o",
         "zoom"
        ],
        [
         "Download",
         "Download plot",
         "floppy-o",
         "save_figure"
        ]
       ]
      }
     },
     "e88f87bc836b46949adecab3acbd77ff": {
      "model_module": "@jupyter-widgets/base",
      "model_module_version": "1.2.0",
      "model_name": "LayoutModel",
      "state": {}
     },
     "f1146dcf07174163b2cea6d07e3ce287": {
      "model_module": "jupyter-matplotlib",
      "model_module_version": "^0.8.3",
      "model_name": "MPLCanvasModel",
      "state": {
       "layout": "IPY_MODEL_0fbf0b87c88b464ab0bc6fd36fad4935",
       "toolbar": "IPY_MODEL_3606eae42dca490da2d99c8fb0a91c73",
       "toolbar_position": "left"
      }
     },
     "f54fc4b833014bf6aa88668264669986": {
      "model_module": "@jupyter-widgets/base",
      "model_module_version": "1.2.0",
      "model_name": "LayoutModel",
      "state": {}
     },
     "f720d2acc5364ae0b841a51d1d144314": {
      "model_module": "jupyter-matplotlib",
      "model_module_version": "^0.8.3",
      "model_name": "ToolbarModel",
      "state": {
       "layout": "IPY_MODEL_1a6c415708ba416fa27de0bd66685eb6",
       "toolitems": [
        [
         "Home",
         "Reset original view",
         "home",
         "home"
        ],
        [
         "Back",
         "Back to previous view",
         "arrow-left",
         "back"
        ],
        [
         "Forward",
         "Forward to next view",
         "arrow-right",
         "forward"
        ],
        [
         "Pan",
         "Left button pans, Right button zooms\nx/y fixes axis, CTRL fixes aspect",
         "arrows",
         "pan"
        ],
        [
         "Zoom",
         "Zoom to rectangle\nx/y fixes axis, CTRL fixes aspect",
         "square-o",
         "zoom"
        ],
        [
         "Download",
         "Download plot",
         "floppy-o",
         "save_figure"
        ]
       ]
      }
     },
     "faad58e0f98846519aa46ea5db8ba9b7": {
      "model_module": "jupyter-matplotlib",
      "model_module_version": "^0.8.3",
      "model_name": "MPLCanvasModel",
      "state": {
       "layout": "IPY_MODEL_356b76bbbb874a4cbf676f9241a947a3",
       "toolbar": "IPY_MODEL_fbd26d0ec7dd4a0380ea58b3f2ce5761",
       "toolbar_position": "left"
      }
     },
     "fbd26d0ec7dd4a0380ea58b3f2ce5761": {
      "model_module": "jupyter-matplotlib",
      "model_module_version": "^0.8.3",
      "model_name": "ToolbarModel",
      "state": {
       "layout": "IPY_MODEL_c68c179c9256479c8c4415066b509929",
       "toolitems": [
        [
         "Home",
         "Reset original view",
         "home",
         "home"
        ],
        [
         "Back",
         "Back to previous view",
         "arrow-left",
         "back"
        ],
        [
         "Forward",
         "Forward to next view",
         "arrow-right",
         "forward"
        ],
        [
         "Pan",
         "Left button pans, Right button zooms\nx/y fixes axis, CTRL fixes aspect",
         "arrows",
         "pan"
        ],
        [
         "Zoom",
         "Zoom to rectangle\nx/y fixes axis, CTRL fixes aspect",
         "square-o",
         "zoom"
        ],
        [
         "Download",
         "Download plot",
         "floppy-o",
         "save_figure"
        ]
       ]
      }
     }
    },
    "version_major": 2,
    "version_minor": 0
   }
  }
 },
 "nbformat": 4,
 "nbformat_minor": 5
}
