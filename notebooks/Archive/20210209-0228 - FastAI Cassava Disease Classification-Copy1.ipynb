{
 "cells": [
  {
   "cell_type": "markdown",
   "id": "muslim-alarm",
   "metadata": {},
   "source": [
    "# PRETRAIN FROM PERSONALLY TRAINED MODEL\n",
    "## FastAI Cassava Root Disease Classification"
   ]
  },
  {
   "cell_type": "code",
   "execution_count": 1,
   "id": "monetary-riding",
   "metadata": {
    "execution": {
     "iopub.execute_input": "2021-02-09T10:28:08.651484Z",
     "iopub.status.busy": "2021-02-09T10:28:08.651303Z",
     "iopub.status.idle": "2021-02-09T10:28:08.653617Z",
     "shell.execute_reply": "2021-02-09T10:28:08.653151Z",
     "shell.execute_reply.started": "2021-02-09T10:28:08.651444Z"
    }
   },
   "outputs": [],
   "source": [
    "RUN_NAME_OF_MODEL_TO_LOAD = f'20210209-0146 - arch=tf_efficientnet_b4_ns - samples=1800 frozen=1 epochs=40 bs=7 res=494'\n",
    "EPOCH_TO_LOAD = 0"
   ]
  },
  {
   "cell_type": "raw",
   "id": "terminal-south",
   "metadata": {
    "execution": {
     "iopub.execute_input": "2021-02-09T09:46:49.382385Z",
     "iopub.status.busy": "2021-02-09T09:46:49.382086Z",
     "iopub.status.idle": "2021-02-09T09:46:49.385403Z",
     "shell.execute_reply": "2021-02-09T09:46:49.384952Z",
     "shell.execute_reply.started": "2021-02-09T09:46:49.382317Z"
    }
   },
   "source": [
    "RUN_NAME_OF_MODEL_TO_LOAD = f'20210208-2112 - arch=tf_efficientnet_b4_ns - samples=1800 frozen=1 epochs=40 bs=8 res=380'\n",
    "EPOCH_TO_LOAD = 9"
   ]
  },
  {
   "cell_type": "markdown",
   "id": "attended-fancy",
   "metadata": {},
   "source": [
    "<br>\n",
    "<br>"
   ]
  },
  {
   "cell_type": "code",
   "execution_count": 2,
   "id": "dress-dover",
   "metadata": {
    "execution": {
     "iopub.execute_input": "2021-02-09T10:28:10.101618Z",
     "iopub.status.busy": "2021-02-09T10:28:10.101431Z",
     "iopub.status.idle": "2021-02-09T10:28:11.192306Z",
     "shell.execute_reply": "2021-02-09T10:28:11.191862Z",
     "shell.execute_reply.started": "2021-02-09T10:28:10.101601Z"
    }
   },
   "outputs": [
    {
     "name": "stdout",
     "output_type": "stream",
     "text": [
      "RUN_NAME = '20210209-0228 - arch=tf_efficientnet_b4_ns - samples=1800 frozen=1 epochs=40 bs=7 res=494'\n"
     ]
    }
   ],
   "source": [
    "from datetime import datetime\n",
    "from fastbook import *\n",
    "from fastai.vision.all import *\n",
    "from fastai.vision.widgets import *\n",
    "import fastai\n",
    "import matplotlib.pyplot as plt\n",
    "import matplotlib.ticker as ticker\n",
    "from string import ascii_uppercase\n",
    "import numpy as np\n",
    "import operator\n",
    "import glob\n",
    "\n",
    "\n",
    "# %matplotlib inline\n",
    "\n",
    "%matplotlib widget\n",
    "\n",
    "plt.rcParams['figure.figsize'] = [9, 5]\n",
    "plt.rcParams['figure.dpi'] = 120\n",
    "plt.style.use('dark_background')\n",
    "\n",
    "\n",
    "ARCH = 'tf_efficientnet_b4_ns'  # resnet101\n",
    "\n",
    "CHOSEN_SAMPLE_SIZE = 1800  # use this to control per-category sample sizes # 1000  # deprecated but not removed\n",
    "# TEST_SET_SIZE = round(CHOSEN_SAMPLE_SIZE * 0.1)  # number of images per category to put in the test set\n",
    "FROZEN_EPOCHS = 1  # 1\n",
    "EPOCHS = 40  # 4\n",
    "BATCH_SIZE = 7  # 16\n",
    "RESOLUTION = round(380 * 1.3)  # 300\n",
    "PRETRAINED_FLAG = True\n",
    "\n",
    "# data = ''\n",
    "# rn_addon = f'_data={data}'\n",
    "\n",
    "time = datetime.today().strftime(\"%Y%m%d-%H%M\")\n",
    "\n",
    "# RUN_NAME = f'{time} - arch={ARCH.__name__} - samples={CHOSEN_SAMPLE_SIZE} frozen={FROZEN_EPOCHS} epochs={EPOCHS} bs={BATCH_SIZE} res={RESOLUTION}'\n",
    "RUN_NAME = f'{time} - arch={ARCH} - samples={CHOSEN_SAMPLE_SIZE} frozen={FROZEN_EPOCHS} epochs={EPOCHS} bs={BATCH_SIZE} res={RESOLUTION}'\n",
    "\n",
    "print(f\"RUN_NAME = '{RUN_NAME}'\")\n"
   ]
  },
  {
   "cell_type": "code",
   "execution_count": 3,
   "id": "suburban-inspiration",
   "metadata": {
    "execution": {
     "iopub.execute_input": "2021-02-09T10:28:11.194290Z",
     "iopub.status.busy": "2021-02-09T10:28:11.194181Z",
     "iopub.status.idle": "2021-02-09T10:28:11.199661Z",
     "shell.execute_reply": "2021-02-09T10:28:11.199092Z",
     "shell.execute_reply.started": "2021-02-09T10:28:11.194279Z"
    }
   },
   "outputs": [
    {
     "name": "stdout",
     "output_type": "stream",
     "text": [
      "CUDA available:              True\n",
      "CUDA device count:           1\n",
      "Current CUDA Device index:   0\n",
      "Current CUDA Device:         GeForce RTX 2070 SUPER\n",
      "\n",
      "fastai version:              2.2.2\n",
      "cuda version:                11.0\n",
      "torch version:               1.7.0\n"
     ]
    }
   ],
   "source": [
    "import torch\n",
    "print('CUDA available: '.ljust(28), torch.cuda.is_available())\n",
    "print('CUDA device count: '.ljust(28), torch.cuda.device_count())\n",
    "\n",
    "current_device = torch.cuda.current_device()\n",
    "print('Current CUDA Device index: '.ljust(28), current_device)\n",
    "# torch.cuda.device(current_device)\n",
    "print('Current CUDA Device: '.ljust(28), torch.cuda.get_device_name(current_device))\n",
    "print()\n",
    "# print('CUDA available: '.ljust(24), torch.cuda.is_available())\n",
    "print(f'fastai version:              {fastai.__version__}')\n",
    "# print(f'fastcore version:            {fastcore.__version__}')\n",
    "# print(f'fastbook version:            {fastbook.__version__}')\n",
    "print(f'cuda version:                {torch.version.cuda}')\n",
    "print(f'torch version:               {torch.__version__}')\n",
    "# print(f'python version:              {python_version()}')"
   ]
  },
  {
   "cell_type": "markdown",
   "id": "recreational-elizabeth",
   "metadata": {},
   "source": [
    "<br>\n",
    "<br>"
   ]
  },
  {
   "cell_type": "markdown",
   "id": "aggregate-trinidad",
   "metadata": {},
   "source": [
    "## Utillity Functions\n",
    "\n"
   ]
  },
  {
   "cell_type": "code",
   "execution_count": 4,
   "id": "worldwide-capitol",
   "metadata": {
    "execution": {
     "iopub.execute_input": "2021-02-09T10:28:11.974739Z",
     "iopub.status.busy": "2021-02-09T10:28:11.974511Z",
     "iopub.status.idle": "2021-02-09T10:28:12.036037Z",
     "shell.execute_reply": "2021-02-09T10:28:12.035605Z",
     "shell.execute_reply.started": "2021-02-09T10:28:11.974719Z"
    }
   },
   "outputs": [],
   "source": [
    "from timm import create_model\n",
    "from fastai.vision.learner import _update_first_layer\n",
    "\n",
    "def create_timm_body(arch:str, pretrained=True, cut=None, n_in=3):\n",
    "    \"Creates a body from any model in the `timm` library.\"\n",
    "    model = create_model(arch, pretrained=pretrained, num_classes=0, global_pool='')\n",
    "    _update_first_layer(model, n_in, pretrained)\n",
    "    if cut is None:\n",
    "        ll = list(enumerate(model.children()))\n",
    "        cut = next(i for i,o in reversed(ll) if has_pool_type(o))\n",
    "    if isinstance(cut, int): return nn.Sequential(*list(model.children())[:cut])\n",
    "    elif callable(cut): return cut(model)\n",
    "    else: raise NamedError(\"cut must be either integer or function\")\n",
    "        \n",
    "def create_timm_model(arch:str, n_out, cut=None, pretrained=True, n_in=3, init=nn.init.kaiming_normal_, custom_head=None,\n",
    "                     concat_pool=False, **kwargs):\n",
    "    \"Create custom architecture using `arch`, `n_in` and `n_out` from the `timm` library\"\n",
    "    body = create_timm_body(arch, pretrained, None, n_in)\n",
    "    if custom_head is None:\n",
    "        nf = num_features_model(nn.Sequential(*body.children())) * (2 if concat_pool else 1)\n",
    "        head = create_head(nf, n_out, concat_pool=concat_pool, **kwargs)\n",
    "    else: head = custom_head\n",
    "    model = nn.Sequential(body, head)\n",
    "    if init is not None: apply_init(model[1], init)\n",
    "    return model\n",
    "\n",
    "\n",
    "def timm_learner(dls, arch:str, loss_func=None, pretrained=True, cut=None, splitter=None,\n",
    "                y_range=None, config=None, n_out=None, normalize=True, **kwargs):\n",
    "    \"Build a convnet style learner from `dls` and `arch` using the `timm` library\"\n",
    "    if config is None: config = {}\n",
    "    if n_out is None: n_out = get_c(dls)\n",
    "    assert n_out, \"`n_out` is not defined, and could not be inferred from data, set `dls.c` or pass `n_out`\"\n",
    "    if y_range is None and 'y_range' in config: y_range = config.pop('y_range')\n",
    "    model = create_timm_model(arch, n_out, default_split, pretrained, y_range=y_range, **config)\n",
    "    learn = Learner(dls, model, loss_func=loss_func, splitter=default_split, **kwargs)\n",
    "    if pretrained: learn.freeze()\n",
    "    return learn"
   ]
  },
  {
   "cell_type": "markdown",
   "id": "faced-harvest",
   "metadata": {},
   "source": [
    "<br>\n",
    "<br>"
   ]
  },
  {
   "cell_type": "markdown",
   "id": "identical-ranking",
   "metadata": {},
   "source": [
    "### Check for Imbalance"
   ]
  },
  {
   "cell_type": "code",
   "execution_count": 5,
   "id": "hydraulic-standing",
   "metadata": {
    "execution": {
     "iopub.execute_input": "2021-02-09T10:28:13.114998Z",
     "iopub.status.busy": "2021-02-09T10:28:13.114709Z",
     "iopub.status.idle": "2021-02-09T10:28:13.117815Z",
     "shell.execute_reply": "2021-02-09T10:28:13.117329Z",
     "shell.execute_reply.started": "2021-02-09T10:28:13.114973Z"
    }
   },
   "outputs": [],
   "source": [
    "classes = ['cbb', 'cbsd', 'cgm', 'cmd', 'healthy']"
   ]
  },
  {
   "cell_type": "code",
   "execution_count": 6,
   "id": "racial-bottle",
   "metadata": {
    "execution": {
     "iopub.execute_input": "2021-02-09T10:28:13.469285Z",
     "iopub.status.busy": "2021-02-09T10:28:13.469113Z",
     "iopub.status.idle": "2021-02-09T10:28:13.627253Z",
     "shell.execute_reply": "2021-02-09T10:28:13.626914Z",
     "shell.execute_reply.started": "2021-02-09T10:28:13.469271Z"
    }
   },
   "outputs": [
    {
     "data": {
      "application/vnd.jupyter.widget-view+json": {
       "model_id": "f09feb117e104f82b494f11a94bc9b4f",
       "version_major": 2,
       "version_minor": 0
      },
      "text/plain": [
       "Canvas(toolbar=Toolbar(toolitems=[('Home', 'Reset original view', 'home', 'home'), ('Back', 'Back to previous …"
      ]
     },
     "metadata": {},
     "output_type": "display_data"
    }
   ],
   "source": [
    "path = '../data/train_images_sorted'\n",
    "\n",
    "img_flist = {}\n",
    "img_quants = {}\n",
    "\n",
    "for c in classes:\n",
    "    files = get_image_files(f'{path}/{c}')\n",
    "    img_flist[c] = list(files)\n",
    "    img_quants[c] = len(files)\n",
    "\n",
    "minqc = min(img_quants, key=img_quants.get)\n",
    "\n",
    "sample_size = round(img_quants[minqc] * 2.5)  # oversample the lowest class quantity\n",
    "\n",
    "\n",
    "plt.figure(figsize=(6,3))\n",
    "plt.bar(img_quants.keys(), img_quants.values())  \n",
    "plt.axhline(sample_size, ls='--', color='red', label='Chosen Sample Size')\n",
    "plt.legend()\n",
    "plt.show()\n",
    "        "
   ]
  },
  {
   "cell_type": "code",
   "execution_count": 7,
   "id": "optional-commonwealth",
   "metadata": {
    "execution": {
     "iopub.execute_input": "2021-02-09T10:28:14.099391Z",
     "iopub.status.busy": "2021-02-09T10:28:14.099108Z",
     "iopub.status.idle": "2021-02-09T10:28:14.168044Z",
     "shell.execute_reply": "2021-02-09T10:28:14.167645Z",
     "shell.execute_reply.started": "2021-02-09T10:28:14.099362Z"
    }
   },
   "outputs": [
    {
     "data": {
      "application/vnd.jupyter.widget-view+json": {
       "model_id": "848db46b1885463a809c5090a7813a5a",
       "version_major": 2,
       "version_minor": 0
      },
      "text/plain": [
       "Canvas(toolbar=Toolbar(toolitems=[('Home', 'Reset original view', 'home', 'home'), ('Back', 'Back to previous …"
      ]
     },
     "metadata": {},
     "output_type": "display_data"
    }
   ],
   "source": [
    "\n",
    "for c in classes:\n",
    "    if len(img_flist[c]) < sample_size:\n",
    "#         all_covid = img_flist[c].copy()\n",
    "        img_flist[c] = np.append(img_flist[c], np.random.choice(img_flist[c], sample_size - len(img_flist[c]), replace=True))\n",
    "    else:\n",
    "        img_flist[c] = np.random.choice(img_flist[c], sample_size, replace=False)  # without replacement\n",
    "\n",
    "    # boost the weak class\n",
    "    if c == 'healthy':\n",
    "        img_flist[c] = np.append(img_flist[c], np.random.choice(img_flist[c], round(sample_size * 0.5), replace=False))\n",
    "        \n",
    "plt.figure(figsize=(6,3))\n",
    "plt.bar(img_flist.keys(), [len(l) for l in img_flist.values()])\n",
    "plt.show()"
   ]
  },
  {
   "cell_type": "code",
   "execution_count": 8,
   "id": "radio-pregnancy",
   "metadata": {
    "execution": {
     "iopub.execute_input": "2021-02-09T10:28:14.482069Z",
     "iopub.status.busy": "2021-02-09T10:28:14.481815Z",
     "iopub.status.idle": "2021-02-09T10:28:14.487032Z",
     "shell.execute_reply": "2021-02-09T10:28:14.486454Z",
     "shell.execute_reply.started": "2021-02-09T10:28:14.482046Z"
    }
   },
   "outputs": [],
   "source": [
    "test_flist = {}\n",
    "test_size = round(0.1 * sample_size)\n",
    "\n",
    "for c in classes:\n",
    "    img_flist[c] = np.random.choice(img_flist[c], len(img_flist[c]), replace=False)  # shuffle\n",
    "    test_flist[c] = img_flist[c][0:test_size]\n",
    "    img_flist[c] = img_flist[c][test_size:]\n",
    "#     img_flist[c] = [f for f in img_flist[c] if f not in test_flist[c]]"
   ]
  },
  {
   "cell_type": "code",
   "execution_count": 9,
   "id": "diagnostic-annual",
   "metadata": {
    "execution": {
     "iopub.execute_input": "2021-02-09T10:28:15.617912Z",
     "iopub.status.busy": "2021-02-09T10:28:15.617678Z",
     "iopub.status.idle": "2021-02-09T10:28:15.669807Z",
     "shell.execute_reply": "2021-02-09T10:28:15.669515Z",
     "shell.execute_reply.started": "2021-02-09T10:28:15.617892Z"
    }
   },
   "outputs": [
    {
     "data": {
      "application/vnd.jupyter.widget-view+json": {
       "model_id": "3c436176b1344dddba1f11af06d88b95",
       "version_major": 2,
       "version_minor": 0
      },
      "text/plain": [
       "Canvas(toolbar=Toolbar(toolitems=[('Home', 'Reset original view', 'home', 'home'), ('Back', 'Back to previous …"
      ]
     },
     "metadata": {},
     "output_type": "display_data"
    },
    {
     "data": {
      "application/vnd.jupyter.widget-view+json": {
       "model_id": "ff70e1bc1132497d923e023054eeb607",
       "version_major": 2,
       "version_minor": 0
      },
      "text/plain": [
       "Canvas(toolbar=Toolbar(toolitems=[('Home', 'Reset original view', 'home', 'home'), ('Back', 'Back to previous …"
      ]
     },
     "metadata": {},
     "output_type": "display_data"
    }
   ],
   "source": [
    "plt.figure(figsize=(6,3))\n",
    "plt.title('Training Data')\n",
    "plt.bar(img_flist.keys(), [len(l) for l in img_flist.values()])\n",
    "plt.axhline(test_size, ls='--', color='red')\n",
    "plt.show()\n",
    "\n",
    "plt.figure(figsize=(6,3))\n",
    "plt.title('Validation Data')\n",
    "plt.bar(test_flist.keys(), [len(l) for l in test_flist.values()])\n",
    "plt.show()\n",
    "                 "
   ]
  },
  {
   "cell_type": "code",
   "execution_count": 10,
   "id": "czech-productivity",
   "metadata": {
    "execution": {
     "iopub.execute_input": "2021-02-09T10:28:16.157740Z",
     "iopub.status.busy": "2021-02-09T10:28:16.157434Z",
     "iopub.status.idle": "2021-02-09T10:28:18.207077Z",
     "shell.execute_reply": "2021-02-09T10:28:18.206691Z",
     "shell.execute_reply.started": "2021-02-09T10:28:16.157715Z"
    }
   },
   "outputs": [],
   "source": [
    "def get_fnames(path):\n",
    "    retlist = []\n",
    "    \n",
    "    for l in img_flist.values():\n",
    "        for f in l:\n",
    "            retlist.append(f)\n",
    "            \n",
    "    return random.sample(retlist, len(retlist))\n",
    "\n",
    "# batch_tfms = [ *aug_transforms(size=round(RESOLUTION * 1), do_flip=True, batch=True, max_zoom=1.7, mult=2.4), Normalize.from_stats(*imagenet_stats) ]\n",
    "batch_tfms = [ *aug_transforms(size=round(RESOLUTION * 1), do_flip=True, batch=True, max_zoom=1.2, mult=2.8), Normalize.from_stats(*imagenet_stats) ]\n",
    "\n",
    "\n",
    "img_db = DataBlock(\n",
    "    blocks=(ImageBlock, CategoryBlock), \n",
    "    get_items=get_fnames, \n",
    "    splitter=RandomSplitter(valid_pct=0.28, seed=42),\n",
    "    get_y=parent_label,\n",
    "#     item_tfms=Resize(RESOLUTION, method='bilinear') , batch_tfms=batch_tfms)\n",
    "    item_tfms=RandomResizedCrop(RESOLUTION) , batch_tfms=batch_tfms)\n",
    "\n",
    "dls = img_db.dataloaders(path, batch_size=BATCH_SIZE)"
   ]
  },
  {
   "cell_type": "markdown",
   "id": "brutal-track",
   "metadata": {},
   "source": [
    "<br>\n",
    "\n",
    "### Verify the Training and Validation Batches"
   ]
  },
  {
   "cell_type": "code",
   "execution_count": 11,
   "id": "weighted-escape",
   "metadata": {
    "execution": {
     "iopub.execute_input": "2021-02-09T10:28:18.271312Z",
     "iopub.status.busy": "2021-02-09T10:28:18.271177Z",
     "iopub.status.idle": "2021-02-09T10:28:19.216508Z",
     "shell.execute_reply": "2021-02-09T10:28:19.216111Z",
     "shell.execute_reply.started": "2021-02-09T10:28:18.271278Z"
    }
   },
   "outputs": [
    {
     "data": {
      "application/vnd.jupyter.widget-view+json": {
       "model_id": "82bba4c45f004981afe9fb8cba459a8b",
       "version_major": 2,
       "version_minor": 0
      },
      "text/plain": [
       "Canvas(toolbar=Toolbar(toolitems=[('Home', 'Reset original view', 'home', 'home'), ('Back', 'Back to previous …"
      ]
     },
     "metadata": {},
     "output_type": "display_data"
    }
   ],
   "source": [
    "dls.valid.show_batch(max_n=16, nrows=4)"
   ]
  },
  {
   "cell_type": "code",
   "execution_count": 12,
   "id": "printable-impact",
   "metadata": {
    "execution": {
     "iopub.execute_input": "2021-02-09T10:28:19.220249Z",
     "iopub.status.busy": "2021-02-09T10:28:19.220102Z",
     "iopub.status.idle": "2021-02-09T10:28:19.224584Z",
     "shell.execute_reply": "2021-02-09T10:28:19.224228Z",
     "shell.execute_reply.started": "2021-02-09T10:28:19.220233Z"
    }
   },
   "outputs": [
    {
     "name": "stdout",
     "output_type": "stream",
     "text": [
      "\n",
      "All Callbacks:  [CutMix, ShowGraphCallback, SaveModelCallback, GradientAccumulation, ReduceLROnPlateau]\n"
     ]
    }
   ],
   "source": [
    "# Eary stopping callback\n",
    "early_stop_cb = EarlyStoppingCallback(monitor='error_rate', min_delta=0.0001, patience=5)\n",
    "\n",
    "# Save the current model's weights every epoch\n",
    "save_cb = SaveModelCallback(fname=RUN_NAME, every_epoch=True, with_opt=True)\n",
    "\n",
    "# Reduce the Learning Rate if valid_loss flatlines\n",
    "reduceLR_cb = ReduceLROnPlateau(monitor='valid_loss', min_delta=0.01, min_lr=1e-8, patience=3)\n",
    "\n",
    "# Mixup callback for regularization\n",
    "# mixup_cb = MixUp(alpha=0.4)\n",
    "mixup_cb = None\n",
    "\n",
    "# Cutmix callback for regularization\n",
    "cutmix_cb = CutMix(alpha=0.3)\n",
    "# cutmix_cb = None\n",
    "\n",
    "\n",
    "\n",
    "\n",
    "# List of callbacks to be used later\n",
    "cbs = [ShowGraphCallback(), save_cb, GradientAccumulation(n_acc=32), reduceLR_cb]\n",
    "\n",
    "if mixup_cb != None:\n",
    "    cbs.insert(0, mixup_cb)\n",
    "    \n",
    "if cutmix_cb != None:\n",
    "    cbs.insert(0, cutmix_cb)\n",
    "\n",
    "\n",
    "\n",
    "\n",
    "print('\\nAll Callbacks: ', cbs)"
   ]
  },
  {
   "cell_type": "markdown",
   "id": "portable-conjunction",
   "metadata": {},
   "source": [
    "### Visualize the effect of CutMix\n"
   ]
  },
  {
   "cell_type": "code",
   "execution_count": 13,
   "id": "embedded-casino",
   "metadata": {
    "execution": {
     "iopub.execute_input": "2021-02-09T10:28:19.231260Z",
     "iopub.status.busy": "2021-02-09T10:28:19.231097Z",
     "iopub.status.idle": "2021-02-09T10:28:19.542420Z",
     "shell.execute_reply": "2021-02-09T10:28:19.541954Z",
     "shell.execute_reply.started": "2021-02-09T10:28:19.231241Z"
    }
   },
   "outputs": [
    {
     "data": {
      "text/html": [
       "<table border=\"1\" class=\"dataframe\">\n",
       "  <thead>\n",
       "    <tr style=\"text-align: left;\">\n",
       "      <th>epoch</th>\n",
       "      <th>train_loss</th>\n",
       "      <th>valid_loss</th>\n",
       "      <th>time</th>\n",
       "    </tr>\n",
       "  </thead>\n",
       "  <tbody>\n",
       "    <tr>\n",
       "      <td>0</td>\n",
       "      <td>00:00</td>\n",
       "    </tr>\n",
       "  </tbody>\n",
       "</table>"
      ],
      "text/plain": [
       "<IPython.core.display.HTML object>"
      ]
     },
     "metadata": {},
     "output_type": "display_data"
    },
    {
     "data": {
      "application/vnd.jupyter.widget-view+json": {
       "model_id": "e9ea971e09cf4468a3404931b059328a",
       "version_major": 2,
       "version_minor": 0
      },
      "text/plain": [
       "Canvas(toolbar=Toolbar(toolitems=[('Home', 'Reset original view', 'home', 'home'), ('Back', 'Back to previous …"
      ]
     },
     "metadata": {},
     "output_type": "display_data"
    }
   ],
   "source": [
    "if cutmix_cb != None:\n",
    "    with Learner(dls, nn.Linear(3,4), loss_func=CrossEntropyLossFlat(), cbs=cutmix_cb) as learn:\n",
    "        learn.epoch,learn.training = 0,True\n",
    "        learn.dl = dls.train\n",
    "        b = dls.one_batch()\n",
    "        learn._split(b)\n",
    "        learn('before_batch')\n",
    "\n",
    "    _,axs = plt.subplots(3,3, figsize=(9,9))\n",
    "    dls.show_batch(b=(cutmix_cb.x,cutmix_cb.y), ctxs=axs.flatten())\n",
    "    \n",
    "else: print('\\n CutMix was not selected.')"
   ]
  },
  {
   "cell_type": "markdown",
   "id": "hairy-gender",
   "metadata": {},
   "source": [
    "<br>\n",
    "\n",
    "### Visualize the Effect of MixUp\n",
    "\n",
    "MixUp creates a linear interpolation between the target data and another datapoint.  In images, it shows up as ghostly figures.  The technique has been shown to be a good to decrease the liklihood of overfitting."
   ]
  },
  {
   "cell_type": "code",
   "execution_count": 14,
   "id": "fifth-pricing",
   "metadata": {
    "execution": {
     "iopub.execute_input": "2021-02-09T10:28:20.466020Z",
     "iopub.status.busy": "2021-02-09T10:28:20.465918Z",
     "iopub.status.idle": "2021-02-09T10:28:20.469289Z",
     "shell.execute_reply": "2021-02-09T10:28:20.468972Z",
     "shell.execute_reply.started": "2021-02-09T10:28:20.466008Z"
    }
   },
   "outputs": [
    {
     "name": "stdout",
     "output_type": "stream",
     "text": [
      "\n",
      " MixUp was not selected.\n"
     ]
    }
   ],
   "source": [
    "if mixup_cb != None:\n",
    "    with Learner(dls, nn.Linear(3,4), loss_func=CrossEntropyLossFlat(), cbs=mixup_cb) as learn:\n",
    "        learn.epoch,learn.training = 0,True\n",
    "        learn.dl = dls.train\n",
    "        b = dls.one_batch()\n",
    "        learn._split(b)\n",
    "        learn('before_batch')\n",
    "\n",
    "    _,axs = plt.subplots(3,3, figsize=(9,9))\n",
    "    dls.show_batch(b=(mixup_cb.x,mixup_cb.y), ctxs=axs.flatten())\n",
    "\n",
    "else: print('\\n MixUp was not selected.')"
   ]
  },
  {
   "cell_type": "code",
   "execution_count": 15,
   "id": "romance-planner",
   "metadata": {
    "execution": {
     "iopub.execute_input": "2021-02-09T10:28:21.064118Z",
     "iopub.status.busy": "2021-02-09T10:28:21.063869Z",
     "iopub.status.idle": "2021-02-09T10:28:21.461176Z",
     "shell.execute_reply": "2021-02-09T10:28:21.460804Z",
     "shell.execute_reply.started": "2021-02-09T10:28:21.064092Z"
    }
   },
   "outputs": [],
   "source": [
    "# learn = cnn_learner(dls, ARCH , \n",
    "#                     pretrained=PRETRAINED_FLAG, wd=1e-4, opt_func=ranger,\n",
    "#                     loss_func=LabelSmoothingCrossEntropyFlat(), \n",
    "#                     cbs = cbs, metrics=[error_rate, accuracy])\n",
    "\n",
    "# from wwf.vision.timm import *\n",
    "import timm\n",
    "learn = timm_learner(dls, \n",
    "                    'tf_efficientnet_b4_ns',\n",
    "                     opt_func=ranger,\n",
    "                     loss_func=LabelSmoothingCrossEntropy(),\n",
    "                     cbs=cbs,\n",
    "                     metrics = [accuracy]).to_fp16()"
   ]
  },
  {
   "cell_type": "code",
   "execution_count": 16,
   "id": "funky-incident",
   "metadata": {
    "execution": {
     "iopub.execute_input": "2021-02-09T10:28:21.790676Z",
     "iopub.status.busy": "2021-02-09T10:28:21.790561Z",
     "iopub.status.idle": "2021-02-09T10:28:21.904178Z",
     "shell.execute_reply": "2021-02-09T10:28:21.903769Z",
     "shell.execute_reply.started": "2021-02-09T10:28:21.790658Z"
    }
   },
   "outputs": [],
   "source": [
    "# Add custom weights to learn\n",
    "\n",
    "# learn = load_learner(f'../models/{RUN_NAME_OF_MODEL_TO_LOAD}.pkl', cpu=False)\n",
    "load_model(f'models/{RUN_NAME_OF_MODEL_TO_LOAD}_{EPOCH_TO_LOAD}.pth', learn, opt=ranger, with_opt=False)\n"
   ]
  },
  {
   "cell_type": "code",
   "execution_count": 17,
   "id": "golden-profile",
   "metadata": {
    "execution": {
     "iopub.execute_input": "2021-02-09T10:28:21.907285Z",
     "iopub.status.busy": "2021-02-09T10:28:21.907161Z",
     "iopub.status.idle": "2021-02-09T10:28:21.911044Z",
     "shell.execute_reply": "2021-02-09T10:28:21.910700Z",
     "shell.execute_reply.started": "2021-02-09T10:28:21.907271Z"
    }
   },
   "outputs": [
    {
     "data": {
      "text/plain": [
       "LabelSmoothingCrossEntropy()"
      ]
     },
     "metadata": {},
     "output_type": "display_data"
    },
    {
     "data": {
      "text/plain": [
       "<function fastai.optimizer.ranger(p, lr, mom=0.95, wd=0.01, eps=1e-06, sqr_mom=0.99, beta=0.0, decouple_wd=True)>"
      ]
     },
     "metadata": {},
     "output_type": "display_data"
    },
    {
     "data": {
      "text/plain": [
       "(#9) [TrainEvalCallback,Recorder,ProgressCallback,CutMix,ShowGraphCallback,SaveModelCallback,GradientAccumulation,ReduceLROnPlateau,MixedPrecision]"
      ]
     },
     "metadata": {},
     "output_type": "display_data"
    }
   ],
   "source": [
    "display(learn.loss_func, learn.opt_func, learn.cbs)"
   ]
  },
  {
   "cell_type": "markdown",
   "id": "developing-painting",
   "metadata": {},
   "source": [
    "<br>\n",
    "<br>\n",
    "<br>\n",
    "\n",
    "## Find a Good Learning Rate to Start With"
   ]
  },
  {
   "cell_type": "code",
   "execution_count": null,
   "id": "accredited-acoustic",
   "metadata": {},
   "outputs": [],
   "source": [
    "LR_DIV = 14e0  # Shift the lr_min left by this amount.  Adjust as necessary\n",
    "lr_min = 0.002  # just a default"
   ]
  },
  {
   "cell_type": "code",
   "execution_count": null,
   "id": "fallen-analyst",
   "metadata": {},
   "outputs": [],
   "source": [
    "if PRETRAINED_FLAG == True:\n",
    "    learn.freeze()\n",
    "    lr_min,lr_steep = learn.lr_find()\n",
    "    plt.axvline(lr_min, ls='--', color='red', label=f'lr_min={round(lr_min,6)}')\n",
    "    plt.axvline(lr_min/LR_DIV, ls='--', color='yellow', label=f'lr_min / {LR_DIV}={round(lr_min/LR_DIV,6)}')\n",
    "    plt.axvline(lr_steep, ls='--', color='grey', label=f'lr_steep={round(lr_steep,6)}')\n",
    "    plt.legend()\n",
    "    plt.show()\n",
    "\n",
    "    print(f\"Minimum/10: {lr_min:.2e}, steepest point: {lr_steep:.2e}, (Mim/10)/{LR_DIV}: {lr_min/LR_DIV}\")"
   ]
  },
  {
   "cell_type": "markdown",
   "id": "rising-destiny",
   "metadata": {},
   "source": [
    "<br>\n",
    "<br>"
   ]
  },
  {
   "cell_type": "markdown",
   "id": "scientific-search",
   "metadata": {},
   "source": [
    "# Pick a Good Initial Learning Rate"
   ]
  },
  {
   "cell_type": "code",
   "execution_count": null,
   "id": "supported-silence",
   "metadata": {},
   "outputs": [],
   "source": [
    "# LR_CHOICE = lr_min/LR_DIV\n",
    "# LR_CHOICE = lr_steep\n",
    "# LR_CHOICE = 8e-5\n",
    "LR_CHOICE = 2e-4"
   ]
  },
  {
   "cell_type": "markdown",
   "id": "dress-aspect",
   "metadata": {},
   "source": [
    "<br>\n",
    "<br>"
   ]
  },
  {
   "cell_type": "markdown",
   "id": "scheduled-australia",
   "metadata": {},
   "source": [
    "<br>\n",
    "<br>"
   ]
  },
  {
   "cell_type": "markdown",
   "id": "african-warrior",
   "metadata": {},
   "source": [
    "# Training the Model"
   ]
  },
  {
   "cell_type": "markdown",
   "id": "together-liberty",
   "metadata": {
    "slideshow": {
     "slide_type": "slide"
    }
   },
   "source": [
    "<br>\n",
    "\n",
    "## Fit the last layers, unfreeze, fit the whole net, with a decent initial LR, all in one go.\n",
    "\n"
   ]
  },
  {
   "cell_type": "code",
   "execution_count": null,
   "id": "comprehensive-storage",
   "metadata": {},
   "outputs": [],
   "source": [
    "\n",
    "\n",
    "if PRETRAINED_FLAG:\n",
    "    print(f'FROZEN_EPOCHS:  {FROZEN_EPOCHS}')\n",
    "print(f'EPOCHS:         {EPOCHS}')\n",
    "print(f'Learning Rate:  {LR_CHOICE}\\n\\n')\n",
    "\n",
    "if PRETRAINED_FLAG:\n",
    "    learn.fit_flat_cos(FROZEN_EPOCHS, slice(LR_CHOICE), pct_start=0.99, wd=0.1)\n"
   ]
  },
  {
   "cell_type": "markdown",
   "id": "matched-chase",
   "metadata": {},
   "source": [
    "## Manually set up the unfrozen runs"
   ]
  },
  {
   "cell_type": "code",
   "execution_count": null,
   "id": "fundamental-shoot",
   "metadata": {},
   "outputs": [],
   "source": [
    "learn.unfreeze()"
   ]
  },
  {
   "cell_type": "code",
   "execution_count": null,
   "id": "decent-meditation",
   "metadata": {},
   "outputs": [],
   "source": [
    "lr_min,lr_steep = learn.lr_find()\n",
    "plt.axvline(lr_min, ls='--', color='red', label=f'lr_min={round(lr_min,6)}')\n",
    "plt.axvline(LR_CHOICE/2, ls='--', color='yellow', label=f'LR_CHOICE/2={round(LR_CHOICE/2,6)}')\n",
    "plt.axvline(lr_steep, ls='--', color='grey', label=f'lr_steep={round(lr_steep,6)}')\n",
    "plt.axvline(2e-5, ls='--', color='green', label=f'{round(2e-5,6)}')\n",
    "plt.axvline(7e-5, ls='--', color='orange', label=f'{round(7e-5,6)}')\n",
    "\n",
    "plt.legend()\n",
    "plt.show()"
   ]
  },
  {
   "cell_type": "code",
   "execution_count": null,
   "id": "scientific-martial",
   "metadata": {},
   "outputs": [],
   "source": [
    "print(f\"Minimum/10: {lr_min:.2e}, steepest point: {lr_steep:.2e}, LR_CHOICE/2: {LR_CHOICE / 2}\")"
   ]
  },
  {
   "cell_type": "markdown",
   "id": "creative-acquisition",
   "metadata": {},
   "source": [
    "## Pick a new Learning Rate"
   ]
  },
  {
   "cell_type": "code",
   "execution_count": null,
   "id": "urban-witch",
   "metadata": {},
   "outputs": [],
   "source": [
    "# LR_CHOICE_UNFROZ = lr_min/LR_DIV\n",
    "# LR_CHOICE_UNFROZ = LR_CHOICE / 2\n",
    "# LR_CHOICE_UNFROZ = 0.00015\n",
    "# LR_CHOICE_UNFROZ = 10e-5\n",
    "# LR_CHOICE_UNFROZ = 0.00008\n",
    "# LR_CHOICE_UNFROZ = 5.5e-5\n",
    "# LR_CHOICE_UNFROZ = 1.7e-4\n",
    "# LR_CHOICE_UNFROZ = 6e-5\n",
    "# LR_CHOICE_UNFROZ = lr_min\n",
    "LR_CHOICE_UNFROZ = 1e-3"
   ]
  },
  {
   "cell_type": "markdown",
   "id": "beneficial-strip",
   "metadata": {},
   "source": [
    "### Train"
   ]
  },
  {
   "cell_type": "code",
   "execution_count": null,
   "id": "reserved-square",
   "metadata": {},
   "outputs": [],
   "source": [
    "EPOCHS = 10"
   ]
  },
  {
   "cell_type": "code",
   "execution_count": null,
   "id": "removed-shadow",
   "metadata": {},
   "outputs": [],
   "source": [
    "print(f'EPOCHS:         {EPOCHS}')\n",
    "print(f'Learning Rate:  {LR_CHOICE_UNFROZ}\\n\\n')"
   ]
  },
  {
   "cell_type": "code",
   "execution_count": null,
   "id": "statistical-sigma",
   "metadata": {},
   "outputs": [],
   "source": [
    "# learn.fit_flat_cos(EPOCHS, slice(LR_CHOICE_UNFROZ), pct_start=0.68)\n",
    "learn.fit_flat_cos(EPOCHS, slice(LR_CHOICE_UNFROZ), pct_start=0.5)"
   ]
  },
  {
   "cell_type": "markdown",
   "id": "automated-police",
   "metadata": {},
   "source": [
    "<br>\n",
    "<br>\n",
    "\n",
    "## Persist the Model"
   ]
  },
  {
   "cell_type": "code",
   "execution_count": null,
   "id": "incoming-kentucky",
   "metadata": {},
   "outputs": [],
   "source": [
    "learn.export(f'../models/{RUN_NAME}.pkl')\n",
    "# path = Path('../models')\n",
    "# path.ls(file_exts='.pkl')"
   ]
  },
  {
   "cell_type": "markdown",
   "id": "hungry-ethnic",
   "metadata": {},
   "source": [
    "<br>\n",
    "<br>"
   ]
  },
  {
   "cell_type": "markdown",
   "id": "married-analyst",
   "metadata": {},
   "source": [
    "### Show some Results"
   ]
  },
  {
   "cell_type": "code",
   "execution_count": null,
   "id": "alternate-guard",
   "metadata": {},
   "outputs": [],
   "source": [
    "learn.show_results()"
   ]
  },
  {
   "cell_type": "markdown",
   "id": "structural-quick",
   "metadata": {},
   "source": [
    "<br>\n",
    "<hr>\n",
    "<br>\n",
    "<br>\n",
    "<br>"
   ]
  },
  {
   "cell_type": "markdown",
   "id": "shared-grill",
   "metadata": {},
   "source": [
    "# Validation Set (not test set) Analysis"
   ]
  },
  {
   "cell_type": "markdown",
   "id": "seventh-import",
   "metadata": {},
   "source": [
    "<br>\n",
    "\n",
    "### Plot Losses"
   ]
  },
  {
   "cell_type": "code",
   "execution_count": null,
   "id": "becoming-mentor",
   "metadata": {},
   "outputs": [],
   "source": [
    "# learn.recorder.plot_loss()\n",
    "# plt.ylabel('Loss')\n",
    "# plt.xlabel('Batches Processed')"
   ]
  },
  {
   "cell_type": "markdown",
   "id": "caroline-volunteer",
   "metadata": {},
   "source": [
    "<br>\n",
    "\n",
    "### Visualize with a confusion Matrix"
   ]
  },
  {
   "cell_type": "code",
   "execution_count": null,
   "id": "animal-gambling",
   "metadata": {},
   "outputs": [],
   "source": [
    "interp = ClassificationInterpretation.from_learner(learn)\n",
    "interp.plot_confusion_matrix(figsize=(8,8))"
   ]
  },
  {
   "cell_type": "code",
   "execution_count": null,
   "id": "heavy-camel",
   "metadata": {},
   "outputs": [],
   "source": [
    "interp.most_confused()[:10]"
   ]
  },
  {
   "cell_type": "markdown",
   "id": "consistent-birmingham",
   "metadata": {},
   "source": [
    "<br>\n",
    "<br>"
   ]
  },
  {
   "cell_type": "markdown",
   "id": "frank-colonial",
   "metadata": {},
   "source": [
    "## Classification Report"
   ]
  },
  {
   "cell_type": "code",
   "execution_count": null,
   "id": "random-meeting",
   "metadata": {},
   "outputs": [],
   "source": [
    "interp.print_classification_report()"
   ]
  },
  {
   "cell_type": "markdown",
   "id": "urban-rubber",
   "metadata": {},
   "source": [
    "<br>\n",
    "\n",
    "### Show the top 15 most error prone images"
   ]
  },
  {
   "cell_type": "code",
   "execution_count": null,
   "id": "latest-compiler",
   "metadata": {},
   "outputs": [],
   "source": [
    "interp.plot_top_losses(15, nrows=5)"
   ]
  },
  {
   "cell_type": "markdown",
   "id": "independent-midwest",
   "metadata": {},
   "source": [
    "## Validation"
   ]
  },
  {
   "cell_type": "code",
   "execution_count": 18,
   "id": "upper-major",
   "metadata": {
    "execution": {
     "iopub.execute_input": "2021-02-09T10:28:37.485952Z",
     "iopub.status.busy": "2021-02-09T10:28:37.485686Z",
     "iopub.status.idle": "2021-02-09T10:28:37.488516Z",
     "shell.execute_reply": "2021-02-09T10:28:37.487924Z",
     "shell.execute_reply.started": "2021-02-09T10:28:37.485927Z"
    }
   },
   "outputs": [],
   "source": [
    "test_learn = learn\n",
    "\n",
    "# load_learner('../models/20210205-1716 - arch=xresnet34 - samples=1800 frozen=1 epochs=40 bs=32 res=340.pkl', cpu=False)\n",
    "# load_model(f'models/{RUN_NAME}_26.pth', test_learn, opt=Adam, with_opt=False)\n"
   ]
  },
  {
   "cell_type": "code",
   "execution_count": 19,
   "id": "competitive-ultimate",
   "metadata": {
    "execution": {
     "iopub.execute_input": "2021-02-09T10:28:38.041969Z",
     "iopub.status.busy": "2021-02-09T10:28:38.041681Z",
     "iopub.status.idle": "2021-02-09T10:28:38.045409Z",
     "shell.execute_reply": "2021-02-09T10:28:38.044973Z",
     "shell.execute_reply.started": "2021-02-09T10:28:38.041943Z"
    }
   },
   "outputs": [],
   "source": [
    "def get_test_fnames(path):\n",
    "    retlist = []\n",
    "    \n",
    "    for l in test_flist.values():\n",
    "        for f in l:\n",
    "            retlist.append(f)\n",
    "            \n",
    "    return random.sample(retlist, len(retlist))"
   ]
  },
  {
   "cell_type": "code",
   "execution_count": 20,
   "id": "alternative-essex",
   "metadata": {
    "execution": {
     "iopub.execute_input": "2021-02-09T10:28:38.790995Z",
     "iopub.status.busy": "2021-02-09T10:28:38.790734Z",
     "iopub.status.idle": "2021-02-09T10:28:38.873853Z",
     "shell.execute_reply": "2021-02-09T10:28:38.873497Z",
     "shell.execute_reply.started": "2021-02-09T10:28:38.790970Z"
    }
   },
   "outputs": [],
   "source": [
    "test_db = DataBlock(\n",
    "    blocks=(ImageBlock, CategoryBlock), \n",
    "    get_items=get_test_fnames,\n",
    "    get_y=parent_label, \n",
    "    item_tfms=Resize(RESOLUTION, method='bilinear'), batch_tfms=batch_tfms) #,\n",
    "#     item_tfms=CropPad(RESOLUTION, pad_mode='zeros'))\n",
    "#    ,    batch_tfms=aug_transforms(do_flip=True, size=RESOLUTION, batch=False, max_zoom=1.0, mult=1, pad_mode='zeros'))\n",
    "\n",
    "\n",
    "dls = test_db.dataloaders(get_test_fnames, bs=BATCH_SIZE)\n",
    "\n",
    "test_dl = dls.test_dl(get_test_fnames('None'), with_labels=True)"
   ]
  },
  {
   "cell_type": "markdown",
   "id": "immune-cyprus",
   "metadata": {},
   "source": [
    "####  Get the Inferrences on the Test Set"
   ]
  },
  {
   "cell_type": "code",
   "execution_count": null,
   "id": "extreme-event",
   "metadata": {
    "execution": {
     "iopub.execute_input": "2021-02-09T10:28:40.413652Z",
     "iopub.status.busy": "2021-02-09T10:28:40.413499Z"
    }
   },
   "outputs": [
    {
     "data": {
      "text/html": [
       "\n",
       "    <div>\n",
       "        <style>\n",
       "            /* Turns off some styling */\n",
       "            progress {\n",
       "                /* gets rid of default border in Firefox and Opera. */\n",
       "                border: none;\n",
       "                /* Needs to be in here for Safari polyfill so background images work as expected. */\n",
       "                background-size: auto;\n",
       "            }\n",
       "            .progress-bar-interrupted, .progress-bar-interrupted::-webkit-progress-bar {\n",
       "                background: #F44336;\n",
       "            }\n",
       "        </style>\n",
       "      <progress value='101' class='' max='195' style='width:300px; height:20px; vertical-align: middle;'></progress>\n",
       "      51.79% [101/195 00:07<00:07]\n",
       "    </div>\n",
       "    "
      ],
      "text/plain": [
       "<IPython.core.display.HTML object>"
      ]
     },
     "metadata": {},
     "output_type": "display_data"
    }
   ],
   "source": [
    "inputs, preds, targs, decoded, losses = test_learn.get_preds(dl=test_dl, with_input=True, with_decoded=True, with_loss=True)\n"
   ]
  },
  {
   "cell_type": "code",
   "execution_count": null,
   "id": "distributed-marketing",
   "metadata": {},
   "outputs": [],
   "source": [
    "interp = ClassificationInterpretation(dl=test_dl, inputs=inputs, preds=preds, targs=targs, decoded=decoded, losses=losses )"
   ]
  },
  {
   "cell_type": "markdown",
   "id": "chronic-pennsylvania",
   "metadata": {},
   "source": [
    "<br>\n",
    "\n",
    "### Visualize with a confusion Matrix"
   ]
  },
  {
   "cell_type": "code",
   "execution_count": null,
   "id": "current-catalog",
   "metadata": {},
   "outputs": [],
   "source": [
    "interp.plot_confusion_matrix(figsize=(8,8))"
   ]
  },
  {
   "cell_type": "code",
   "execution_count": null,
   "id": "regular-ladder",
   "metadata": {},
   "outputs": [],
   "source": [
    "interp.most_confused()[:10]"
   ]
  },
  {
   "cell_type": "markdown",
   "id": "massive-welcome",
   "metadata": {},
   "source": [
    "<br>\n",
    "<br>"
   ]
  },
  {
   "cell_type": "markdown",
   "id": "exempt-bread",
   "metadata": {},
   "source": [
    "## Classification Report"
   ]
  },
  {
   "cell_type": "code",
   "execution_count": null,
   "id": "secure-matter",
   "metadata": {},
   "outputs": [],
   "source": [
    "interp.print_classification_report()"
   ]
  },
  {
   "cell_type": "code",
   "execution_count": null,
   "id": "designed-truck",
   "metadata": {},
   "outputs": [],
   "source": [
    "interp.plot_top_losses(k=15)"
   ]
  },
  {
   "cell_type": "markdown",
   "id": "concrete-honolulu",
   "metadata": {},
   "source": [
    "## Archive this version of the notehook"
   ]
  },
  {
   "cell_type": "code",
   "execution_count": null,
   "id": "better-twins",
   "metadata": {},
   "outputs": [],
   "source": [
    "import os\n",
    "import shutil\n",
    "\n",
    "# Allow Jupyter the opportunity to autosave\n",
    "# !sleep 20\n",
    "# time = '20210122-2356'\n",
    "# copy the notebook file - the prefix links it to the saved model\n",
    "shutil.copyfile('FastAI Cassava Disease Classification-Copy1.ipynb', f'.Archive/{time} - FastAI Cassava Disease Classification-Copy1.ipynb')"
   ]
  },
  {
   "cell_type": "code",
   "execution_count": null,
   "id": "modular-siemens",
   "metadata": {},
   "outputs": [],
   "source": []
  },
  {
   "cell_type": "code",
   "execution_count": null,
   "id": "humanitarian-rough",
   "metadata": {},
   "outputs": [],
   "source": []
  }
 ],
 "metadata": {
  "kernelspec": {
   "display_name": "Python 3",
   "language": "python",
   "name": "python3"
  },
  "language_info": {
   "codemirror_mode": {
    "name": "ipython",
    "version": 3
   },
   "file_extension": ".py",
   "mimetype": "text/x-python",
   "name": "python",
   "nbconvert_exporter": "python",
   "pygments_lexer": "ipython3",
   "version": "3.8.6"
  },
  "widgets": {
   "application/vnd.jupyter.widget-state+json": {
    "state": {
     "00a1cb832c8f4270aa1d4066eccb22ac": {
      "model_module": "jupyter-matplotlib",
      "model_module_version": "^0.8.3",
      "model_name": "ToolbarModel",
      "state": {
       "layout": "IPY_MODEL_3b7928c9c1054611a46da9e6e7ad3e1c",
       "toolitems": [
        [
         "Home",
         "Reset original view",
         "home",
         "home"
        ],
        [
         "Back",
         "Back to previous view",
         "arrow-left",
         "back"
        ],
        [
         "Forward",
         "Forward to next view",
         "arrow-right",
         "forward"
        ],
        [
         "Pan",
         "Left button pans, Right button zooms\nx/y fixes axis, CTRL fixes aspect",
         "arrows",
         "pan"
        ],
        [
         "Zoom",
         "Zoom to rectangle\nx/y fixes axis, CTRL fixes aspect",
         "square-o",
         "zoom"
        ],
        [
         "Download",
         "Download plot",
         "floppy-o",
         "save_figure"
        ]
       ]
      }
     },
     "1f6157308b6a48fd9e1d2ed012004179": {
      "model_module": "@jupyter-widgets/base",
      "model_module_version": "1.2.0",
      "model_name": "LayoutModel",
      "state": {}
     },
     "3b7928c9c1054611a46da9e6e7ad3e1c": {
      "model_module": "@jupyter-widgets/base",
      "model_module_version": "1.2.0",
      "model_name": "LayoutModel",
      "state": {}
     },
     "3c436176b1344dddba1f11af06d88b95": {
      "model_module": "jupyter-matplotlib",
      "model_module_version": "^0.8.3",
      "model_name": "MPLCanvasModel",
      "state": {
       "_cursor": "default",
       "_figure_label": "Figure 3",
       "_height": 360,
       "_width": 720,
       "layout": "IPY_MODEL_6f52b93fe657433ea329eb9f41f20b47",
       "toolbar": "IPY_MODEL_93ab930f04be46cfb7b80e368783960f",
       "toolbar_position": "left"
      }
     },
     "487da4c223964b76893ceb28edd96d66": {
      "model_module": "@jupyter-widgets/base",
      "model_module_version": "1.2.0",
      "model_name": "LayoutModel",
      "state": {}
     },
     "5aa148f571a04ea693b6ad461e257322": {
      "model_module": "@jupyter-widgets/base",
      "model_module_version": "1.2.0",
      "model_name": "LayoutModel",
      "state": {}
     },
     "6bf3ac5249804b4f82504b0059ba61e4": {
      "model_module": "@jupyter-widgets/base",
      "model_module_version": "1.2.0",
      "model_name": "LayoutModel",
      "state": {}
     },
     "6c4ad9a367a2491f812a99669ddc16e6": {
      "model_module": "jupyter-matplotlib",
      "model_module_version": "^0.8.3",
      "model_name": "ToolbarModel",
      "state": {
       "layout": "IPY_MODEL_99ae5e66690d4e6b9d5154424289a406",
       "toolitems": [
        [
         "Home",
         "Reset original view",
         "home",
         "home"
        ],
        [
         "Back",
         "Back to previous view",
         "arrow-left",
         "back"
        ],
        [
         "Forward",
         "Forward to next view",
         "arrow-right",
         "forward"
        ],
        [
         "Pan",
         "Left button pans, Right button zooms\nx/y fixes axis, CTRL fixes aspect",
         "arrows",
         "pan"
        ],
        [
         "Zoom",
         "Zoom to rectangle\nx/y fixes axis, CTRL fixes aspect",
         "square-o",
         "zoom"
        ],
        [
         "Download",
         "Download plot",
         "floppy-o",
         "save_figure"
        ]
       ]
      }
     },
     "6f52b93fe657433ea329eb9f41f20b47": {
      "model_module": "@jupyter-widgets/base",
      "model_module_version": "1.2.0",
      "model_name": "LayoutModel",
      "state": {}
     },
     "82bba4c45f004981afe9fb8cba459a8b": {
      "model_module": "jupyter-matplotlib",
      "model_module_version": "^0.8.3",
      "model_name": "MPLCanvasModel",
      "state": {
       "_cursor": "default",
       "_figure_label": "Figure 5",
       "_height": 1440,
       "_width": 1440,
       "layout": "IPY_MODEL_487da4c223964b76893ceb28edd96d66",
       "toolbar": "IPY_MODEL_b9f71ff52eaa4da3a3c295f9376b3058",
       "toolbar_position": "left"
      }
     },
     "848db46b1885463a809c5090a7813a5a": {
      "model_module": "jupyter-matplotlib",
      "model_module_version": "^0.8.3",
      "model_name": "MPLCanvasModel",
      "state": {
       "_cursor": "default",
       "_figure_label": "Figure 2",
       "_height": 360,
       "_image_mode": "diff",
       "_width": 720,
       "layout": "IPY_MODEL_6bf3ac5249804b4f82504b0059ba61e4",
       "toolbar": "IPY_MODEL_c6af064d0ecd4ae8a9328cd7b375f9b4",
       "toolbar_position": "left"
      }
     },
     "8558889e0b1a40ff9491427f562e4d47": {
      "model_module": "@jupyter-widgets/base",
      "model_module_version": "1.2.0",
      "model_name": "LayoutModel",
      "state": {}
     },
     "85b404ef89f84e78ba341d9c19129838": {
      "model_module": "@jupyter-widgets/base",
      "model_module_version": "1.2.0",
      "model_name": "LayoutModel",
      "state": {}
     },
     "93ab930f04be46cfb7b80e368783960f": {
      "model_module": "jupyter-matplotlib",
      "model_module_version": "^0.8.3",
      "model_name": "ToolbarModel",
      "state": {
       "layout": "IPY_MODEL_5aa148f571a04ea693b6ad461e257322",
       "toolitems": [
        [
         "Home",
         "Reset original view",
         "home",
         "home"
        ],
        [
         "Back",
         "Back to previous view",
         "arrow-left",
         "back"
        ],
        [
         "Forward",
         "Forward to next view",
         "arrow-right",
         "forward"
        ],
        [
         "Pan",
         "Left button pans, Right button zooms\nx/y fixes axis, CTRL fixes aspect",
         "arrows",
         "pan"
        ],
        [
         "Zoom",
         "Zoom to rectangle\nx/y fixes axis, CTRL fixes aspect",
         "square-o",
         "zoom"
        ],
        [
         "Download",
         "Download plot",
         "floppy-o",
         "save_figure"
        ]
       ]
      }
     },
     "99ae5e66690d4e6b9d5154424289a406": {
      "model_module": "@jupyter-widgets/base",
      "model_module_version": "1.2.0",
      "model_name": "LayoutModel",
      "state": {}
     },
     "b9f71ff52eaa4da3a3c295f9376b3058": {
      "model_module": "jupyter-matplotlib",
      "model_module_version": "^0.8.3",
      "model_name": "ToolbarModel",
      "state": {
       "layout": "IPY_MODEL_bd32afc1916049e09df03693d8904c85",
       "toolitems": [
        [
         "Home",
         "Reset original view",
         "home",
         "home"
        ],
        [
         "Back",
         "Back to previous view",
         "arrow-left",
         "back"
        ],
        [
         "Forward",
         "Forward to next view",
         "arrow-right",
         "forward"
        ],
        [
         "Pan",
         "Left button pans, Right button zooms\nx/y fixes axis, CTRL fixes aspect",
         "arrows",
         "pan"
        ],
        [
         "Zoom",
         "Zoom to rectangle\nx/y fixes axis, CTRL fixes aspect",
         "square-o",
         "zoom"
        ],
        [
         "Download",
         "Download plot",
         "floppy-o",
         "save_figure"
        ]
       ]
      }
     },
     "bbfcf8b02d444c05a61eb807f5da201a": {
      "model_module": "jupyter-matplotlib",
      "model_module_version": "^0.8.3",
      "model_name": "ToolbarModel",
      "state": {
       "layout": "IPY_MODEL_8558889e0b1a40ff9491427f562e4d47",
       "toolitems": [
        [
         "Home",
         "Reset original view",
         "home",
         "home"
        ],
        [
         "Back",
         "Back to previous view",
         "arrow-left",
         "back"
        ],
        [
         "Forward",
         "Forward to next view",
         "arrow-right",
         "forward"
        ],
        [
         "Pan",
         "Left button pans, Right button zooms\nx/y fixes axis, CTRL fixes aspect",
         "arrows",
         "pan"
        ],
        [
         "Zoom",
         "Zoom to rectangle\nx/y fixes axis, CTRL fixes aspect",
         "square-o",
         "zoom"
        ],
        [
         "Download",
         "Download plot",
         "floppy-o",
         "save_figure"
        ]
       ]
      }
     },
     "bd32afc1916049e09df03693d8904c85": {
      "model_module": "@jupyter-widgets/base",
      "model_module_version": "1.2.0",
      "model_name": "LayoutModel",
      "state": {}
     },
     "c6af064d0ecd4ae8a9328cd7b375f9b4": {
      "model_module": "jupyter-matplotlib",
      "model_module_version": "^0.8.3",
      "model_name": "ToolbarModel",
      "state": {
       "layout": "IPY_MODEL_85b404ef89f84e78ba341d9c19129838",
       "toolitems": [
        [
         "Home",
         "Reset original view",
         "home",
         "home"
        ],
        [
         "Back",
         "Back to previous view",
         "arrow-left",
         "back"
        ],
        [
         "Forward",
         "Forward to next view",
         "arrow-right",
         "forward"
        ],
        [
         "Pan",
         "Left button pans, Right button zooms\nx/y fixes axis, CTRL fixes aspect",
         "arrows",
         "pan"
        ],
        [
         "Zoom",
         "Zoom to rectangle\nx/y fixes axis, CTRL fixes aspect",
         "square-o",
         "zoom"
        ],
        [
         "Download",
         "Download plot",
         "floppy-o",
         "save_figure"
        ]
       ]
      }
     },
     "d31f4122327c42adaaec42c729bd2429": {
      "model_module": "@jupyter-widgets/base",
      "model_module_version": "1.2.0",
      "model_name": "LayoutModel",
      "state": {}
     },
     "d569d352cb894cd7be90436ca3f057b8": {
      "model_module": "@jupyter-widgets/base",
      "model_module_version": "1.2.0",
      "model_name": "LayoutModel",
      "state": {}
     },
     "e9ea971e09cf4468a3404931b059328a": {
      "model_module": "jupyter-matplotlib",
      "model_module_version": "^0.8.3",
      "model_name": "MPLCanvasModel",
      "state": {
       "_cursor": "default",
       "_figure_label": "Figure 6",
       "_height": 1080,
       "_width": 1080,
       "layout": "IPY_MODEL_d569d352cb894cd7be90436ca3f057b8",
       "toolbar": "IPY_MODEL_00a1cb832c8f4270aa1d4066eccb22ac",
       "toolbar_position": "left"
      }
     },
     "f09feb117e104f82b494f11a94bc9b4f": {
      "model_module": "jupyter-matplotlib",
      "model_module_version": "^0.8.3",
      "model_name": "MPLCanvasModel",
      "state": {
       "_cursor": "default",
       "_figure_label": "Figure 1",
       "_height": 360,
       "_image_mode": "diff",
       "_width": 720,
       "layout": "IPY_MODEL_1f6157308b6a48fd9e1d2ed012004179",
       "toolbar": "IPY_MODEL_bbfcf8b02d444c05a61eb807f5da201a",
       "toolbar_position": "left"
      }
     },
     "ff70e1bc1132497d923e023054eeb607": {
      "model_module": "jupyter-matplotlib",
      "model_module_version": "^0.8.3",
      "model_name": "MPLCanvasModel",
      "state": {
       "_cursor": "default",
       "_figure_label": "Figure 4",
       "_height": 360,
       "_width": 720,
       "layout": "IPY_MODEL_d31f4122327c42adaaec42c729bd2429",
       "toolbar": "IPY_MODEL_6c4ad9a367a2491f812a99669ddc16e6",
       "toolbar_position": "left"
      }
     }
    },
    "version_major": 2,
    "version_minor": 0
   }
  }
 },
 "nbformat": 4,
 "nbformat_minor": 5
}
